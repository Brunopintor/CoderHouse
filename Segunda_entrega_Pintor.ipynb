{
 "cells": [
  {
   "attachments": {},
   "cell_type": "markdown",
   "id": "35e48492",
   "metadata": {},
   "source": [
    "## CO2 emission en la generacion electrica Argentina\n",
    "Contexto empresarial. Imaginemos que me desarrollo como analista en YPF, una empresa de energía que participa activamente en la generación de electricidad en Argentina. Me han asignado un proyecto en el que debo utilizar datos históricos de emisiones de dióxido de carbono (CO2) de Our World in Data y datos de generación de electricidad por tipo de combustible y por fuente de generación en Argentina a lo largo del tiempo. El objetivo del proyecto es proyectar las emisiones de CO2 provenientes de la generación de electricidad en Argentina para los próximos años.\n",
    "\n",
    "La empresa está interesada en conocer la evolución de las emisiones de dióxido de carbono en la generación de electricidad en el país, ya que esto le permitirá anticipar la demanda de energía y planificar su estrategia de producción para cumplir con las regulaciones ambientales y satisfacer la creciente demanda energética de los hogares y empresas en Argentina.\n",
    "\n",
    "Problema comercial. Como analista de datos, mi objetivo es utilizar las fuentes de datos disponibles para desarrollar modelos precisos que permitan proyectar las emisiones de CO2 de la generación de electricidad en Argentina para los próximos años. A partir de estos modelos, podré identificar las tendencias históricas y futuras de las emisiones de CO2, lo que permitirá a YPF planificar sus operaciones de generación de energía de manera más efectiva y sostenible.\n",
    "\n",
    "Contexto analítico. Tenemos estas dos fuentes de informacion principales y varias secundarias:\n",
    "\n",
    "1. \"owid-co2-data\" contiene datos y metricas relacionados a emisiones de CO2 y de otros gases de efecto invernadero, energia, para todos los paises del mundo.\n",
    "\n",
    "2. \"electricidad_argentina\" contiene informacion relevante sobre la generacion y consumo de electricidad en argentina, elaborada sobre la base de datos de CAMMESA.\n",
    "\n",
    "A partir del analisis de los datos y del desarrollo de un modelo basico que relaciona las emisiones de CO2 de la generacion electrica con el nivel de actividad, medida a traves del Estimador Mensual de Actividad Economica (EMAE) se pueden obtener los siguientes insigths.\n",
    "\n",
    "- Países que más han contribuido al acumulado de emisiones de CO2 a lo largo de la historia: China, Estados Unidos, países de la Unión Europea, India, Canadá, Brasil, países del sur de África y Reino Unido.\n",
    "\n",
    "- Relación entre nivel de emisiones, Producto Interno Bruto (PIB) y población para este grupo de países: La relación entre el PIB y las emisiones de CO2 parece ser más fuerte que la relación con la población. Aunque los países con mayor población tienden a tener mayores emisiones totales debido al mayor número de personas, algunos países con un nivel de PIB más alto tienen emisiones per cápita más altas. Esto indica que los habitantes de países menos desarrollados emiten menos CO2 per cápita que aquellos en países más desarrollados.\n",
    "\n",
    "- Distribución de las emisiones según deciles de PIB: En línea con la relación positiva entre el PIB y las emisiones per cápita, se observa que a medida que aumenta el decil de ingreso (PIB), también aumentan en promedio las emisiones. Es importante destacar que los deciles superiores de la distribución presentan una mayor dispersión de las emisiones. Hay países de altos ingresos que emiten la misma cantidad de CO2 per cápita que países en el decil 1.\n",
    "\n",
    "- Evolución de las emisiones de Argentina Las emisiones de CO2 en Argentina han seguido aumentando desde el inicio de la serie, alcanzando un máximo antes de la pandemia. Aunque las emisiones pospandemia aún no han superado los niveles previos a la pandemia.\n",
    "\n",
    "- Composición de las emisiones según el tipo de combustible: Hasta el año 2000, el petróleo fue la principal fuente de emisiones en Argentina. A partir de ese año, el gas comienza a superar al petróleo como el principal combustible en términos de incidencia año tras año, lo cual está directamente relacionado con su papel predominante en la matriz energética del país.\n",
    "\n",
    "- Combustible que más ha contribuido a las emisiones acumuladas de CO2: Aunque el gas ha experimentado una dinámica importante en los últimos años, en términos acumulados aún no ha superado al stock de emisiones generadas por el petróleo en Argentina.\n",
    "\n",
    "Contenido\n",
    "1. Corona figures relative to country population\n",
    "1.1 Adding country population to the COVID-19 figures\n",
    "1.2 \"Top\" 10 countries with relatively most confirmed cases"
   ]
  },
  {
   "cell_type": "code",
   "execution_count": 129,
   "id": "38a42cbb",
   "metadata": {},
   "outputs": [],
   "source": [
    "import pandas as pd \n",
    "import numpy as np\n",
    "import matplotlib as mpl\n",
    "import matplotlib.pyplot as plt\n",
    "import seaborn as sns\n",
    "import squarify\n",
    "import plotly\n",
    "import plotly.express as px\n",
    "import statsmodels\n",
    "import plotly.graph_objects as go"
   ]
  },
  {
   "attachments": {},
   "cell_type": "markdown",
   "id": "e2dd7336",
   "metadata": {},
   "source": [
    "### 1. Analisis Exploratorio (EDA). CO2 emissions en el mundo y Argentina.\n",
    "En este primer dataset (owid-co2-data) se detallan datos sobre emisiones de gases de efecto invernadero a nivel mundial. A partir del mismo pude responder las siguientres preguntas:\n",
    "\n",
    "Que paises son los que mas contribuyeron en perspectiva historica al acumulado de emisiones de CO2 actual.\n",
    "Como se relaciona el nivel de emisiones con el Producto Bruto y con la Poblacion para este mix de paises\n",
    "Como se distribuyen las emisiones segun deciles de GDP?\n",
    "En el caso de Argentina me permitio responder:\n",
    "\n",
    "Como evolucionaron las emisiones de Argentina hasta la actualidad?\n",
    "Como se componen estas emisiones segun el tipo de combustible o industria en cada momento del tiempo?\n",
    "Cual es el combustible que mas contribuyo a las emisiones de co2 acumuladas?"
   ]
  },
  {
   "cell_type": "code",
   "execution_count": 130,
   "id": "12319aad",
   "metadata": {},
   "outputs": [
    {
     "data": {
      "text/html": [
       "<div>\n",
       "<style scoped>\n",
       "    .dataframe tbody tr th:only-of-type {\n",
       "        vertical-align: middle;\n",
       "    }\n",
       "\n",
       "    .dataframe tbody tr th {\n",
       "        vertical-align: top;\n",
       "    }\n",
       "\n",
       "    .dataframe thead th {\n",
       "        text-align: right;\n",
       "    }\n",
       "</style>\n",
       "<table border=\"1\" class=\"dataframe\">\n",
       "  <thead>\n",
       "    <tr style=\"text-align: right;\">\n",
       "      <th></th>\n",
       "      <th>country</th>\n",
       "      <th>year</th>\n",
       "      <th>iso_code</th>\n",
       "      <th>population</th>\n",
       "      <th>gdp</th>\n",
       "      <th>cement_co2</th>\n",
       "      <th>cement_co2_per_capita</th>\n",
       "      <th>co2</th>\n",
       "      <th>co2_growth_abs</th>\n",
       "      <th>co2_growth_prct</th>\n",
       "      <th>...</th>\n",
       "      <th>share_global_cumulative_other_co2</th>\n",
       "      <th>share_global_flaring_co2</th>\n",
       "      <th>share_global_gas_co2</th>\n",
       "      <th>share_global_luc_co2</th>\n",
       "      <th>share_global_oil_co2</th>\n",
       "      <th>share_global_other_co2</th>\n",
       "      <th>total_ghg</th>\n",
       "      <th>total_ghg_excluding_lucf</th>\n",
       "      <th>trade_co2</th>\n",
       "      <th>trade_co2_share</th>\n",
       "    </tr>\n",
       "  </thead>\n",
       "  <tbody>\n",
       "    <tr>\n",
       "      <th>0</th>\n",
       "      <td>Afghanistan</td>\n",
       "      <td>1850</td>\n",
       "      <td>AFG</td>\n",
       "      <td>3752993.0</td>\n",
       "      <td>NaN</td>\n",
       "      <td>NaN</td>\n",
       "      <td>NaN</td>\n",
       "      <td>NaN</td>\n",
       "      <td>NaN</td>\n",
       "      <td>NaN</td>\n",
       "      <td>...</td>\n",
       "      <td>NaN</td>\n",
       "      <td>NaN</td>\n",
       "      <td>NaN</td>\n",
       "      <td>0.121</td>\n",
       "      <td>NaN</td>\n",
       "      <td>NaN</td>\n",
       "      <td>NaN</td>\n",
       "      <td>NaN</td>\n",
       "      <td>NaN</td>\n",
       "      <td>NaN</td>\n",
       "    </tr>\n",
       "    <tr>\n",
       "      <th>1</th>\n",
       "      <td>Afghanistan</td>\n",
       "      <td>1851</td>\n",
       "      <td>AFG</td>\n",
       "      <td>3769828.0</td>\n",
       "      <td>NaN</td>\n",
       "      <td>NaN</td>\n",
       "      <td>NaN</td>\n",
       "      <td>NaN</td>\n",
       "      <td>NaN</td>\n",
       "      <td>NaN</td>\n",
       "      <td>...</td>\n",
       "      <td>NaN</td>\n",
       "      <td>NaN</td>\n",
       "      <td>NaN</td>\n",
       "      <td>0.118</td>\n",
       "      <td>NaN</td>\n",
       "      <td>NaN</td>\n",
       "      <td>NaN</td>\n",
       "      <td>NaN</td>\n",
       "      <td>NaN</td>\n",
       "      <td>NaN</td>\n",
       "    </tr>\n",
       "    <tr>\n",
       "      <th>2</th>\n",
       "      <td>Afghanistan</td>\n",
       "      <td>1852</td>\n",
       "      <td>AFG</td>\n",
       "      <td>3787706.0</td>\n",
       "      <td>NaN</td>\n",
       "      <td>NaN</td>\n",
       "      <td>NaN</td>\n",
       "      <td>NaN</td>\n",
       "      <td>NaN</td>\n",
       "      <td>NaN</td>\n",
       "      <td>...</td>\n",
       "      <td>NaN</td>\n",
       "      <td>NaN</td>\n",
       "      <td>NaN</td>\n",
       "      <td>0.116</td>\n",
       "      <td>NaN</td>\n",
       "      <td>NaN</td>\n",
       "      <td>NaN</td>\n",
       "      <td>NaN</td>\n",
       "      <td>NaN</td>\n",
       "      <td>NaN</td>\n",
       "    </tr>\n",
       "    <tr>\n",
       "      <th>3</th>\n",
       "      <td>Afghanistan</td>\n",
       "      <td>1853</td>\n",
       "      <td>AFG</td>\n",
       "      <td>3806634.0</td>\n",
       "      <td>NaN</td>\n",
       "      <td>NaN</td>\n",
       "      <td>NaN</td>\n",
       "      <td>NaN</td>\n",
       "      <td>NaN</td>\n",
       "      <td>NaN</td>\n",
       "      <td>...</td>\n",
       "      <td>NaN</td>\n",
       "      <td>NaN</td>\n",
       "      <td>NaN</td>\n",
       "      <td>0.115</td>\n",
       "      <td>NaN</td>\n",
       "      <td>NaN</td>\n",
       "      <td>NaN</td>\n",
       "      <td>NaN</td>\n",
       "      <td>NaN</td>\n",
       "      <td>NaN</td>\n",
       "    </tr>\n",
       "    <tr>\n",
       "      <th>4</th>\n",
       "      <td>Afghanistan</td>\n",
       "      <td>1854</td>\n",
       "      <td>AFG</td>\n",
       "      <td>3825655.0</td>\n",
       "      <td>NaN</td>\n",
       "      <td>NaN</td>\n",
       "      <td>NaN</td>\n",
       "      <td>NaN</td>\n",
       "      <td>NaN</td>\n",
       "      <td>NaN</td>\n",
       "      <td>...</td>\n",
       "      <td>NaN</td>\n",
       "      <td>NaN</td>\n",
       "      <td>NaN</td>\n",
       "      <td>0.114</td>\n",
       "      <td>NaN</td>\n",
       "      <td>NaN</td>\n",
       "      <td>NaN</td>\n",
       "      <td>NaN</td>\n",
       "      <td>NaN</td>\n",
       "      <td>NaN</td>\n",
       "    </tr>\n",
       "    <tr>\n",
       "      <th>...</th>\n",
       "      <td>...</td>\n",
       "      <td>...</td>\n",
       "      <td>...</td>\n",
       "      <td>...</td>\n",
       "      <td>...</td>\n",
       "      <td>...</td>\n",
       "      <td>...</td>\n",
       "      <td>...</td>\n",
       "      <td>...</td>\n",
       "      <td>...</td>\n",
       "      <td>...</td>\n",
       "      <td>...</td>\n",
       "      <td>...</td>\n",
       "      <td>...</td>\n",
       "      <td>...</td>\n",
       "      <td>...</td>\n",
       "      <td>...</td>\n",
       "      <td>...</td>\n",
       "      <td>...</td>\n",
       "      <td>...</td>\n",
       "      <td>...</td>\n",
       "    </tr>\n",
       "    <tr>\n",
       "      <th>46518</th>\n",
       "      <td>Zimbabwe</td>\n",
       "      <td>2017</td>\n",
       "      <td>ZWE</td>\n",
       "      <td>14751101.0</td>\n",
       "      <td>2.194784e+10</td>\n",
       "      <td>0.469</td>\n",
       "      <td>0.032</td>\n",
       "      <td>9.596</td>\n",
       "      <td>-0.937</td>\n",
       "      <td>-8.899</td>\n",
       "      <td>...</td>\n",
       "      <td>NaN</td>\n",
       "      <td>0.0</td>\n",
       "      <td>0.0</td>\n",
       "      <td>0.219</td>\n",
       "      <td>0.026</td>\n",
       "      <td>NaN</td>\n",
       "      <td>115.59</td>\n",
       "      <td>28.30</td>\n",
       "      <td>0.910</td>\n",
       "      <td>9.486</td>\n",
       "    </tr>\n",
       "    <tr>\n",
       "      <th>46519</th>\n",
       "      <td>Zimbabwe</td>\n",
       "      <td>2018</td>\n",
       "      <td>ZWE</td>\n",
       "      <td>15052191.0</td>\n",
       "      <td>2.271535e+10</td>\n",
       "      <td>0.558</td>\n",
       "      <td>0.037</td>\n",
       "      <td>11.795</td>\n",
       "      <td>2.199</td>\n",
       "      <td>22.920</td>\n",
       "      <td>...</td>\n",
       "      <td>NaN</td>\n",
       "      <td>0.0</td>\n",
       "      <td>0.0</td>\n",
       "      <td>0.211</td>\n",
       "      <td>0.033</td>\n",
       "      <td>NaN</td>\n",
       "      <td>118.22</td>\n",
       "      <td>30.83</td>\n",
       "      <td>0.771</td>\n",
       "      <td>6.537</td>\n",
       "    </tr>\n",
       "    <tr>\n",
       "      <th>46520</th>\n",
       "      <td>Zimbabwe</td>\n",
       "      <td>2019</td>\n",
       "      <td>ZWE</td>\n",
       "      <td>15354606.0</td>\n",
       "      <td>NaN</td>\n",
       "      <td>0.570</td>\n",
       "      <td>0.037</td>\n",
       "      <td>11.115</td>\n",
       "      <td>-0.681</td>\n",
       "      <td>-5.772</td>\n",
       "      <td>...</td>\n",
       "      <td>NaN</td>\n",
       "      <td>0.0</td>\n",
       "      <td>0.0</td>\n",
       "      <td>0.183</td>\n",
       "      <td>0.030</td>\n",
       "      <td>NaN</td>\n",
       "      <td>117.96</td>\n",
       "      <td>30.53</td>\n",
       "      <td>0.978</td>\n",
       "      <td>8.795</td>\n",
       "    </tr>\n",
       "    <tr>\n",
       "      <th>46521</th>\n",
       "      <td>Zimbabwe</td>\n",
       "      <td>2020</td>\n",
       "      <td>ZWE</td>\n",
       "      <td>15669663.0</td>\n",
       "      <td>NaN</td>\n",
       "      <td>0.570</td>\n",
       "      <td>0.036</td>\n",
       "      <td>10.608</td>\n",
       "      <td>-0.507</td>\n",
       "      <td>-4.559</td>\n",
       "      <td>...</td>\n",
       "      <td>NaN</td>\n",
       "      <td>0.0</td>\n",
       "      <td>0.0</td>\n",
       "      <td>0.194</td>\n",
       "      <td>0.030</td>\n",
       "      <td>NaN</td>\n",
       "      <td>NaN</td>\n",
       "      <td>NaN</td>\n",
       "      <td>1.006</td>\n",
       "      <td>9.481</td>\n",
       "    </tr>\n",
       "    <tr>\n",
       "      <th>46522</th>\n",
       "      <td>Zimbabwe</td>\n",
       "      <td>2021</td>\n",
       "      <td>ZWE</td>\n",
       "      <td>15993525.0</td>\n",
       "      <td>NaN</td>\n",
       "      <td>0.570</td>\n",
       "      <td>0.036</td>\n",
       "      <td>11.296</td>\n",
       "      <td>0.688</td>\n",
       "      <td>6.488</td>\n",
       "      <td>...</td>\n",
       "      <td>NaN</td>\n",
       "      <td>0.0</td>\n",
       "      <td>0.0</td>\n",
       "      <td>0.190</td>\n",
       "      <td>0.030</td>\n",
       "      <td>NaN</td>\n",
       "      <td>NaN</td>\n",
       "      <td>NaN</td>\n",
       "      <td>NaN</td>\n",
       "      <td>NaN</td>\n",
       "    </tr>\n",
       "  </tbody>\n",
       "</table>\n",
       "<p>46523 rows × 74 columns</p>\n",
       "</div>"
      ],
      "text/plain": [
       "           country  year iso_code  population           gdp  cement_co2   \n",
       "0      Afghanistan  1850      AFG   3752993.0           NaN         NaN  \\\n",
       "1      Afghanistan  1851      AFG   3769828.0           NaN         NaN   \n",
       "2      Afghanistan  1852      AFG   3787706.0           NaN         NaN   \n",
       "3      Afghanistan  1853      AFG   3806634.0           NaN         NaN   \n",
       "4      Afghanistan  1854      AFG   3825655.0           NaN         NaN   \n",
       "...            ...   ...      ...         ...           ...         ...   \n",
       "46518     Zimbabwe  2017      ZWE  14751101.0  2.194784e+10       0.469   \n",
       "46519     Zimbabwe  2018      ZWE  15052191.0  2.271535e+10       0.558   \n",
       "46520     Zimbabwe  2019      ZWE  15354606.0           NaN       0.570   \n",
       "46521     Zimbabwe  2020      ZWE  15669663.0           NaN       0.570   \n",
       "46522     Zimbabwe  2021      ZWE  15993525.0           NaN       0.570   \n",
       "\n",
       "       cement_co2_per_capita     co2  co2_growth_abs  co2_growth_prct  ...   \n",
       "0                        NaN     NaN             NaN              NaN  ...  \\\n",
       "1                        NaN     NaN             NaN              NaN  ...   \n",
       "2                        NaN     NaN             NaN              NaN  ...   \n",
       "3                        NaN     NaN             NaN              NaN  ...   \n",
       "4                        NaN     NaN             NaN              NaN  ...   \n",
       "...                      ...     ...             ...              ...  ...   \n",
       "46518                  0.032   9.596          -0.937           -8.899  ...   \n",
       "46519                  0.037  11.795           2.199           22.920  ...   \n",
       "46520                  0.037  11.115          -0.681           -5.772  ...   \n",
       "46521                  0.036  10.608          -0.507           -4.559  ...   \n",
       "46522                  0.036  11.296           0.688            6.488  ...   \n",
       "\n",
       "       share_global_cumulative_other_co2  share_global_flaring_co2   \n",
       "0                                    NaN                       NaN  \\\n",
       "1                                    NaN                       NaN   \n",
       "2                                    NaN                       NaN   \n",
       "3                                    NaN                       NaN   \n",
       "4                                    NaN                       NaN   \n",
       "...                                  ...                       ...   \n",
       "46518                                NaN                       0.0   \n",
       "46519                                NaN                       0.0   \n",
       "46520                                NaN                       0.0   \n",
       "46521                                NaN                       0.0   \n",
       "46522                                NaN                       0.0   \n",
       "\n",
       "       share_global_gas_co2  share_global_luc_co2  share_global_oil_co2   \n",
       "0                       NaN                 0.121                   NaN  \\\n",
       "1                       NaN                 0.118                   NaN   \n",
       "2                       NaN                 0.116                   NaN   \n",
       "3                       NaN                 0.115                   NaN   \n",
       "4                       NaN                 0.114                   NaN   \n",
       "...                     ...                   ...                   ...   \n",
       "46518                   0.0                 0.219                 0.026   \n",
       "46519                   0.0                 0.211                 0.033   \n",
       "46520                   0.0                 0.183                 0.030   \n",
       "46521                   0.0                 0.194                 0.030   \n",
       "46522                   0.0                 0.190                 0.030   \n",
       "\n",
       "       share_global_other_co2  total_ghg  total_ghg_excluding_lucf  trade_co2   \n",
       "0                         NaN        NaN                       NaN        NaN  \\\n",
       "1                         NaN        NaN                       NaN        NaN   \n",
       "2                         NaN        NaN                       NaN        NaN   \n",
       "3                         NaN        NaN                       NaN        NaN   \n",
       "4                         NaN        NaN                       NaN        NaN   \n",
       "...                       ...        ...                       ...        ...   \n",
       "46518                     NaN     115.59                     28.30      0.910   \n",
       "46519                     NaN     118.22                     30.83      0.771   \n",
       "46520                     NaN     117.96                     30.53      0.978   \n",
       "46521                     NaN        NaN                       NaN      1.006   \n",
       "46522                     NaN        NaN                       NaN        NaN   \n",
       "\n",
       "       trade_co2_share  \n",
       "0                  NaN  \n",
       "1                  NaN  \n",
       "2                  NaN  \n",
       "3                  NaN  \n",
       "4                  NaN  \n",
       "...                ...  \n",
       "46518            9.486  \n",
       "46519            6.537  \n",
       "46520            8.795  \n",
       "46521            9.481  \n",
       "46522              NaN  \n",
       "\n",
       "[46523 rows x 74 columns]"
      ]
     },
     "execution_count": 130,
     "metadata": {},
     "output_type": "execute_result"
    }
   ],
   "source": [
    "#Cargo df sobre emisiones owid-co2-data\n",
    "raw=pd.read_excel(r\"C:\\Users\\Bruno\\Desktop\\Curso Data Science\\Dataframes\\owid-co2-data.xlsx\")\n",
    "raw"
   ]
  },
  {
   "attachments": {},
   "cell_type": "markdown",
   "id": "c8cfd6c1",
   "metadata": {},
   "source": [
    "Antes de comenzar el análisis, es importante identificar las variables de interés y verificar si hay datos faltantes. A continuación, se presentan algunos detalles relevantes sobre el conjunto de datos:\n",
    "\n",
    "- El conjunto de datos contiene 46,523 filas.\n",
    "- La variable \"Country\" representa el país donde se generan las emisiones.\n",
    "- La variable \"GDP\" corresponde al Producto Interno Bruto (PIB) medido en dólares internacionales (internacional-$). Se utiliza la referencia de precios de 2011 para ajustar por cambios de precios a lo largo del tiempo (inflación) y diferencias de precios entre los países. El PIB se calcula multiplicando el PIB per cápita por la población.\n",
    "- La variable \"cumulative_co2\" indica las emisiones totales acumuladas de dióxido de carbono (CO₂) basadas en la producción, excluyendo los cambios de uso del suelo. Estas emisiones se miden en millones de toneladas y no consideran las emisiones incorporadas en bienes comerciados.\n",
    "- La variable \"population\" representa la población del país correspondiente.\n",
    "- La variable \"co2\" indica el número total anual de emisiones basadas en la producción de dióxido de carbono (CO₂), excluyendo los cambios de uso del suelo. Estas emisiones se miden en millones de toneladas.\n",
    "- Las variables \"coal_co2\", \"flaring_co2\", \"gas_co2\", \"oil_co2\", \"other_industry_co2\" y \"cement_co2\" representan las emisiones acumuladas de CO₂ provenientes del carbón, la quema, el gas, el petróleo, otras industrias y el cemento, respectivamente.\n",
    "\n",
    "Es importante tener en cuenta que la variable \"Country\" tiene 39,862 datos no nulos para los códigos ISO, lo cual se debe a la presencia de agrupamientos en la variable \"Country\" que no cuentan con códigos ISO, como la Unión Europea, entre otros.\n",
    "\n",
    "En base a esto, dado que tenemos un panel de datos, la correccion por datos nulos debe tener en cuenta el pais (**country**) y el año (**year**). Antes de eso me quedo solo con las variables que me interesan para el analisis."
   ]
  },
  {
   "cell_type": "code",
   "execution_count": 131,
   "id": "de4a1675",
   "metadata": {},
   "outputs": [],
   "source": [
    "#me quedo con las var mas relevantes\n",
    "raw = raw[['country','iso_code','gdp','year','cumulative_coal_co2','cumulative_flaring_co2','cumulative_gas_co2',\n",
    "           'cumulative_luc_co2','cumulative_oil_co2','cumulative_other_co2','cumulative_cement_co2','cumulative_co2', \n",
    "           'population', 'co2', 'coal_co2','flaring_co2', 'gas_co2', 'oil_co2','other_industry_co2', 'cement_co2']]\n",
    "\n",
    "df_procesado = raw.copy()\n",
    "\n",
    "df_procesado = df_procesado.dropna(subset=['iso_code'])\n",
    "df_procesado = df_procesado.rename(columns={\"iso_code\": \"country_1\"})\n",
    "df_procesado = df_procesado.dropna(subset=['country_1'], axis=0, inplace=False)\n",
    "\n",
    "# ordeno los datos por país y año\n",
    "df_procesado = df_procesado.sort_values(['country', 'year'])"
   ]
  },
  {
   "cell_type": "code",
   "execution_count": 132,
   "id": "d666f592",
   "metadata": {},
   "outputs": [],
   "source": [
    "# interpolo los valores faltantes de las variables seleccionadas\n",
    "vars_to_interpolate = ['cumulative_coal_co2', 'cumulative_flaring_co2', 'cumulative_gas_co2', 'cumulative_luc_co2', \n",
    "                       'cumulative_oil_co2', 'cumulative_other_co2', 'cumulative_co2', 'population', 'co2', 'coal_co2',\n",
    "                       'flaring_co2', 'gas_co2', 'oil_co2', 'other_industry_co2', 'cement_co2', 'gdp']\n",
    "\"\"\"\n",
    "group_cols = ['country', 'year']\n",
    "df_procesado[vars_to_interpolate] = df_procesado.groupby(group_cols)[vars_to_interpolate].apply(lambda group: group.interpolate(method='nearest'))\n",
    "\"\"\"\n",
    "\n",
    "# Ahora relleno los valores faltantes con el último valor válido para cada país a partir de 2018\n",
    "df_procesado.loc[df_procesado['year'] >= 2018, vars_to_interpolate] = df_procesado.loc[df_procesado['year'] >= 2018].groupby('country')[vars_to_interpolate].fillna(method='ffill')\n",
    "\n",
    "df_procesado = df_procesado.sort_values(['year', 'country'])"
   ]
  },
  {
   "attachments": {},
   "cell_type": "markdown",
   "id": "314276ff",
   "metadata": {},
   "source": [
    "Con el objetivo de simplificar el conjunto de datos sin perder información relevante, se realizará una selección de países que representen la mayor parte de las emisiones acumuladas, junto con Argentina. Según el análisis realizado por Our World in Data, los principales emisores son los siguientes:\n",
    "\n",
    "1. China\n",
    "2. Estados Unidos\n",
    "3. Países de la Unión Europea (considerados en conjunto)\n",
    "4. India\n",
    "5. Canadá\n",
    "6. Brasil\n",
    "7. Países del sur de África (considerados en conjunto)\n",
    "8. Reino Unido\n",
    "\n",
    "Además de estos países, se incluirá a Argentina. Los demás países se agruparán bajo la categoría \"Resto\". De esta manera, se reducirá la complejidad del DataFrame sin perder información relevante para el análisis."
   ]
  },
  {
   "cell_type": "code",
   "execution_count": 133,
   "id": "6278e764",
   "metadata": {},
   "outputs": [],
   "source": [
    "import pycountry\n",
    "\n",
    "# Códigos ISO de los países de la UE y del sur de Africa\n",
    "eu_countries = ['AT', 'BE', 'BG', 'HR', 'CY', 'CZ', 'DK', 'EE', 'FI', 'FR', 'DE', 'GR', 'HU', 'IE', 'IT', 'LV', 'LT', 'LU', 'MT', 'NL', 'PL', 'PT', 'RO', 'SK', 'SI', 'ES', 'SE']\n",
    "eu_country_codes = [pycountry.countries.get(alpha_2=i).alpha_3 for i in eu_countries]\n",
    "sa_countries = ['ZAF', 'BWA', 'LSO', 'NAM', 'SWZ']\n",
    "resttop_countries = {'CHN', 'USA', 'IND', 'CAN', 'BRA', 'ZAF', 'GBR', 'ARG'}\n",
    "\n",
    "# Diccionario que asocie cada país con su grupo\n",
    "country_groups = {}\n",
    "for country in pycountry.countries:\n",
    "    if country.alpha_2 in eu_countries:\n",
    "        country_groups[country.name] = 'EU'\n",
    "    elif country.alpha_3 in sa_countries:\n",
    "        country_groups[country.name] = 'SA'\n",
    "    elif country.alpha_3 in resttop_countries:\n",
    "        country_groups[country.name] = country.alpha_3\n",
    "    else: \n",
    "        country_groups[country.name] = 'Resto'\n",
    "\n",
    "# Columna con el grupo de cada país\n",
    "df_procesado['country_2'] = df_procesado['country'].map(country_groups)\n",
    "\n",
    "# Dataframe editable, seteo el indice temporal\n",
    "graficos_df=df_procesado.copy()\n",
    "graficos_df['year'] = pd.to_datetime(graficos_df['year'], format='%Y')\n",
    "graficos_df.set_index('year', inplace=True)\n"
   ]
  },
  {
   "attachments": {},
   "cell_type": "markdown",
   "id": "b16b8de6",
   "metadata": {},
   "source": [
    "La variable de mayor interes o \"target\" en este caso es la variable CO2, que tiene las emisiones de CO2 año a año por pais. Si seleccionamos un año, por ejemplo 2021 (ya que tenemos datos de panel) vemos que los datos tienen alta dispersion (histograma) por lo que podemos agrupar por los primeros 10 emisores. Si consideramos outliers la distribucion de co2 se encuentra entre 0 y +10.000 M toneladas, al quitarlos el maximo y minimo del target esta entre 0 y 140 M toneladas.\n",
    "\n",
    "La media de se encunetra en torno a las 20 Millones de toneladas anuales."
   ]
  },
  {
   "cell_type": "code",
   "execution_count": 134,
   "id": "febca70e",
   "metadata": {},
   "outputs": [
    {
     "data": {
      "image/png": "[encoded data removed]",
      "text/plain": [
       "<Figure size 1800x600 with 3 Axes>"
      ]
     },
     "metadata": {},
     "output_type": "display_data"
    }
   ],
   "source": [
    "subset2021 = df_procesado[df_procesado['year'] == 2021].dropna(subset=['co2'])[['co2']]\n",
    "\n",
    "fig, (ax1, ax2, ax3) = plt.subplots(ncols=3, figsize=(18, 6))\n",
    "\n",
    "sns.histplot(data=subset2021, ax=ax1, bins=20)\n",
    "ax1.set_title('Distribución de CO2 en 2021')\n",
    "ax1.set_xlabel('co2')\n",
    "ax1.set_ylabel('Frecuencia')\n",
    "\n",
    "#con outliers\n",
    "sns.boxplot(data=subset2021, ax=ax2, color='lightblue')\n",
    "ax2.set_title('CO2 en 2021 con outliers')\n",
    "ax2.set_ylabel('co2')\n",
    "\n",
    "#sin outliers\n",
    "sns.boxplot(data=subset2021, ax=ax3, color='lightblue', showfliers=False)\n",
    "ax3.set_title('CO2 en 2021 sin outliers')\n",
    "ax3.set_ylabel('co2')\n",
    "\n",
    "plt.tight_layout()\n",
    "plt.show()"
   ]
  },
  {
   "attachments": {},
   "cell_type": "markdown",
   "id": "bc6f85c6",
   "metadata": {},
   "source": [
    "Ahora procedemos a analizar las emisiones de CO2 por país. Para simplificar, se mostrarán únicamente los cinco mayores y los cinco menores emisores. El país con las emisiones más altas es China, seguido por Estados Unidos, mientras que las emisiones más bajas se encuentran en la Antártida. \n",
    "\n",
    "Dos aspectos a tener en cuenta en este caso son la poblacion y el GDP. En terminos per capita las emisiones de EE.UU casi duplican las de China."
   ]
  },
  {
   "cell_type": "code",
   "execution_count": 135,
   "id": "0b3d0296",
   "metadata": {},
   "outputs": [
    {
     "data": {
      "text/html": [
       "<style type=\"text/css\">\n",
       "#T_633e2_row0_col1 {\n",
       "  background-color: #67000d;\n",
       "  color: #f1f1f1;\n",
       "}\n",
       "#T_633e2_row1_col1 {\n",
       "  background-color: #fb6d4d;\n",
       "  color: #f1f1f1;\n",
       "}\n",
       "#T_633e2_row2_col1 {\n",
       "  background-color: #fdc9b3;\n",
       "  color: #000000;\n",
       "}\n",
       "#T_633e2_row3_col1 {\n",
       "  background-color: #fee3d6;\n",
       "  color: #000000;\n",
       "}\n",
       "#T_633e2_row4_col1 {\n",
       "  background-color: #ffece3;\n",
       "  color: #000000;\n",
       "}\n",
       "#T_633e2_row5_col1 {\n",
       "  background-color: #fff3ed;\n",
       "  color: #000000;\n",
       "}\n",
       "#T_633e2_row6_col1 {\n",
       "  background-color: #fff4ee;\n",
       "  color: #000000;\n",
       "}\n",
       "#T_633e2_row7_col1 {\n",
       "  background-color: #fff4ef;\n",
       "  color: #000000;\n",
       "}\n",
       "#T_633e2_row8_col1, #T_633e2_row9_col1 {\n",
       "  background-color: #fff5f0;\n",
       "  color: #000000;\n",
       "}\n",
       "</style>\n",
       "<table id=\"T_633e2\">\n",
       "  <thead>\n",
       "    <tr>\n",
       "      <th class=\"blank level0\" >&nbsp;</th>\n",
       "      <th id=\"T_633e2_level0_col0\" class=\"col_heading level0 col0\" >Pais</th>\n",
       "      <th id=\"T_633e2_level0_col1\" class=\"col_heading level0 col1\" >Emisiones anuales de CO2</th>\n",
       "      <th id=\"T_633e2_level0_col2\" class=\"col_heading level0 col2\" >Poblacion</th>\n",
       "      <th id=\"T_633e2_level0_col3\" class=\"col_heading level0 col3\" >PIB</th>\n",
       "    </tr>\n",
       "  </thead>\n",
       "  <tbody>\n",
       "    <tr>\n",
       "      <th id=\"T_633e2_level0_row0\" class=\"row_heading level0 row0\" >0</th>\n",
       "      <td id=\"T_633e2_row0_col0\" class=\"data row0 col0\" >China</td>\n",
       "      <td id=\"T_633e2_row0_col1\" class=\"data row0 col1\" >10353.877</td>\n",
       "      <td id=\"T_633e2_row0_col2\" class=\"data row0 col2\" >1417</td>\n",
       "      <td id=\"T_633e2_row0_col3\" class=\"data row0 col3\" >18151620</td>\n",
       "    </tr>\n",
       "    <tr>\n",
       "      <th id=\"T_633e2_level0_row1\" class=\"row_heading level0 row1\" >1</th>\n",
       "      <td id=\"T_633e2_row1_col0\" class=\"data row1 col0\" >United States</td>\n",
       "      <td id=\"T_633e2_row1_col1\" class=\"data row1 col1\" >5376.657</td>\n",
       "      <td id=\"T_633e2_row1_col2\" class=\"data row1 col2\" >332</td>\n",
       "      <td id=\"T_633e2_row1_col3\" class=\"data row1 col3\" >18140646</td>\n",
       "    </tr>\n",
       "    <tr>\n",
       "      <th id=\"T_633e2_level0_row2\" class=\"row_heading level0 row2\" >2</th>\n",
       "      <td id=\"T_633e2_row2_col0\" class=\"data row2 col0\" >India</td>\n",
       "      <td id=\"T_633e2_row2_col1\" class=\"data row2 col1\" >2600.447</td>\n",
       "      <td id=\"T_633e2_row2_col2\" class=\"data row2 col2\" >1369</td>\n",
       "      <td id=\"T_633e2_row2_col3\" class=\"data row2 col3\" >8835758</td>\n",
       "    </tr>\n",
       "    <tr>\n",
       "      <th id=\"T_633e2_level0_row3\" class=\"row_heading level0 row3\" >3</th>\n",
       "      <td id=\"T_633e2_row3_col0\" class=\"data row3 col0\" >Russia</td>\n",
       "      <td id=\"T_633e2_row3_col1\" class=\"data row3 col1\" >1700.453</td>\n",
       "      <td id=\"T_633e2_row3_col2\" class=\"data row3 col2\" >146</td>\n",
       "      <td id=\"T_633e2_row3_col3\" class=\"data row3 col3\" >3613410</td>\n",
       "    </tr>\n",
       "    <tr>\n",
       "      <th id=\"T_633e2_level0_row4\" class=\"row_heading level0 row4\" >4</th>\n",
       "      <td id=\"T_633e2_row4_col0\" class=\"data row4 col0\" >Japan</td>\n",
       "      <td id=\"T_633e2_row4_col1\" class=\"data row4 col1\" >1143.412</td>\n",
       "      <td id=\"T_633e2_row4_col2\" class=\"data row4 col2\" >126</td>\n",
       "      <td id=\"T_633e2_row4_col3\" class=\"data row4 col3\" >4867011</td>\n",
       "    </tr>\n",
       "    <tr>\n",
       "      <th id=\"T_633e2_level0_row5\" class=\"row_heading level0 row5\" >5</th>\n",
       "      <td id=\"T_633e2_row5_col0\" class=\"data row5 col0\" >Germany</td>\n",
       "      <td id=\"T_633e2_row5_col1\" class=\"data row5 col1\" >754.408</td>\n",
       "      <td id=\"T_633e2_row5_col2\" class=\"data row5 col2\" >83</td>\n",
       "      <td id=\"T_633e2_row5_col3\" class=\"data row5 col3\" >3885961</td>\n",
       "    </tr>\n",
       "    <tr>\n",
       "      <th id=\"T_633e2_level0_row6\" class=\"row_heading level0 row6\" >6</th>\n",
       "      <td id=\"T_633e2_row6_col0\" class=\"data row6 col0\" >Iran</td>\n",
       "      <td id=\"T_633e2_row6_col1\" class=\"data row6 col1\" >700.938</td>\n",
       "      <td id=\"T_633e2_row6_col2\" class=\"data row6 col2\" >86</td>\n",
       "      <td id=\"T_633e2_row6_col3\" class=\"data row6 col3\" >1398996</td>\n",
       "    </tr>\n",
       "    <tr>\n",
       "      <th id=\"T_633e2_level0_row7\" class=\"row_heading level0 row7\" >7</th>\n",
       "      <td id=\"T_633e2_row7_col0\" class=\"data row7 col0\" >South Korea</td>\n",
       "      <td id=\"T_633e2_row7_col1\" class=\"data row7 col1\" >670.169</td>\n",
       "      <td id=\"T_633e2_row7_col2\" class=\"data row7 col2\" >52</td>\n",
       "      <td id=\"T_633e2_row7_col3\" class=\"data row7 col3\" >1958392</td>\n",
       "    </tr>\n",
       "    <tr>\n",
       "      <th id=\"T_633e2_level0_row8\" class=\"row_heading level0 row8\" >8</th>\n",
       "      <td id=\"T_633e2_row8_col0\" class=\"data row8 col0\" >Saudi Arabia</td>\n",
       "      <td id=\"T_633e2_row8_col1\" class=\"data row8 col1\" >626.191</td>\n",
       "      <td id=\"T_633e2_row8_col2\" class=\"data row8 col2\" >35</td>\n",
       "      <td id=\"T_633e2_row8_col3\" class=\"data row8 col3\" >1677339</td>\n",
       "    </tr>\n",
       "    <tr>\n",
       "      <th id=\"T_633e2_level0_row9\" class=\"row_heading level0 row9\" >9</th>\n",
       "      <td id=\"T_633e2_row9_col0\" class=\"data row9 col0\" >Indonesia</td>\n",
       "      <td id=\"T_633e2_row9_col1\" class=\"data row9 col1\" >603.657</td>\n",
       "      <td id=\"T_633e2_row9_col2\" class=\"data row9 col2\" >267</td>\n",
       "      <td id=\"T_633e2_row9_col3\" class=\"data row9 col3\" >3075456</td>\n",
       "    </tr>\n",
       "  </tbody>\n",
       "</table>\n"
      ],
      "text/plain": [
       "<pandas.io.formats.style.Styler at 0x146d0d7d6f0>"
      ]
     },
     "execution_count": 135,
     "metadata": {},
     "output_type": "execute_result"
    }
   ],
   "source": [
    "tabla_df = df_procesado[df_procesado['year'] == 2018].sort_values(['co2'], ascending=False).reset_index(drop=True)\n",
    "columnas_deseadas = [\"country\", \"co2\", \"population\", \"gdp\"]\n",
    "tabla_df = tabla_df[columnas_deseadas]\n",
    "\n",
    "tabla_df = tabla_df.rename(columns={\"country\": \"Pais\", \"co2\": \"Emisiones anuales de CO2\", \"population\": \"Poblacion\", \"gdp\": \"PIB\"})\n",
    "\n",
    "tabla_df['Emisiones anuales de CO2'] = tabla_df['Emisiones anuales de CO2'].astype(str).str.replace('.0', '')\n",
    "tabla_df['Poblacion'] = tabla_df['Poblacion'].apply(lambda x: '{:.0f}'.format(x / 1000000) if pd.notnull(x) and np.isfinite(x) else x)\n",
    "tabla_df['PIB'] = tabla_df['PIB'].apply(lambda x: '{:.0f}'.format(x / 1000000) if pd.notnull(x) and np.isfinite(x) else x)\n",
    "\n",
    "tabla_df.head(10).style.background_gradient(cmap='Reds', subset=['Emisiones anuales de CO2'])\n"
   ]
  },
  {
   "attachments": {},
   "cell_type": "markdown",
   "id": "9bd85a1e",
   "metadata": {},
   "source": [
    "**Que paises son los q mas aportaron a lo largo del tiempo a las emisiones acumuladas de CO2?**\n",
    "\n",
    "A partir del primer grafico podemos ver que los primeros 10 emisores son las principales economias del mundo en terminos de su producto bruto o poblacion."
   ]
  },
  {
   "cell_type": "code",
   "execution_count": 136,
   "id": "12de7d34",
   "metadata": {},
   "outputs": [
    {
     "data": {
      "application/vnd.plotly.v1+json": {
       "config": {
        "plotlyServerURL": "https://plot.ly"
       },
       "data": [
        {
         "branchvalues": "total",
         "customdata": [
          [
           "ARG<br>8636.5 ktCO2",
           "ARG"
          ],
          [
           "BRA<br>16672.438 ktCO2",
           "BRA"
          ],
          [
           "CAN<br>34115.395 ktCO2",
           "CAN"
          ],
          [
           "CHN<br>249352.812 ktCO2",
           "CHN"
          ],
          [
           "EU<br>293191.652 ktCO2",
           "EU"
          ],
          [
           "GBR<br>78508.719 ktCO2",
           "GBR"
          ],
          [
           "IND<br>57105.387 ktCO2",
           "IND"
          ],
          [
           "Resto<br>323452.263 ktCO2",
           "Resto"
          ],
          [
           "SA<br>21808.704999999998 ktCO2",
           "SA"
          ],
          [
           "USA<br>421906.844 ktCO2",
           "USA"
          ]
         ],
         "domain": {
          "x": [
           0,
           1
          ],
          "y": [
           0,
           1
          ]
         },
         "hovertemplate": "<b>%{label}</b><br>Emisiones acumuladas de CO2 (como % del total): %{value:.2%}",
         "ids": [
          "ARG",
          "BRA",
          "CAN",
          "CHN",
          "EU",
          "GBR",
          "IND",
          "Resto",
          "SA",
          "USA"
         ],
         "labels": [
          "ARG",
          "BRA",
          "CAN",
          "CHN",
          "EU",
          "GBR",
          "IND",
          "Resto",
          "SA",
          "USA"
         ],
         "marker": {
          "colors": [
           "#636efa",
           "#EF553B",
           "#00cc96",
           "#ab63fa",
           "#FFA15A",
           "#19d3f3",
           "#FF6692",
           "#B6E880",
           "#FF97FF",
           "#FECB52"
          ]
         },
         "name": "",
         "parents": [
          "",
          "",
          "",
          "",
          "",
          "",
          "",
          "",
          "",
          ""
         ],
         "type": "treemap",
         "values": [
          0.005739488882715035,
          0.011079867139322143,
          0.0226717918522471,
          0.16571037947637726,
          0.19484400244993402,
          0.0521739037685056,
          0.03795006470556819,
          0.21495405170815948,
          0.01449323451559217,
          0.2803832155015789
         ]
        }
       ],
       "layout": {
        "annotations": [
         {
          "align": "left",
          "font": {
           "color": "black",
           "family": "Arial",
           "size": 12
          },
          "showarrow": false,
          "text": "<i style='font-size:12px;'> Primeros 10 paises (region) segun emisiones acumuladas de CO2 a 2021, en millones de toneladas. Las emisiones acumuladas <br> son la suma continua de emisiones de CO₂ producidas a partir de combustibles fósiles e industria desde 1750 .</i>",
          "x": 0,
          "xanchor": "left",
          "xref": "paper",
          "y": 0.959,
          "yanchor": "bottom",
          "yref": "paper"
         }
        ],
        "legend": {
         "tracegroupgap": 0
        },
        "margin": {
         "t": 60
        },
        "template": {
         "data": {
          "bar": [
           {
            "error_x": {
             "color": "#2a3f5f"
            },
            "error_y": {
             "color": "#2a3f5f"
            },
            "marker": {
             "line": {
              "color": "white",
              "width": 0.5
             },
             "pattern": {
              "fillmode": "overlay",
              "size": 10,
              "solidity": 0.2
             }
            },
            "type": "bar"
           }
          ],
          "barpolar": [
           {
            "marker": {
             "line": {
              "color": "white",
              "width": 0.5
             },
             "pattern": {
              "fillmode": "overlay",
              "size": 10,
              "solidity": 0.2
             }
            },
            "type": "barpolar"
           }
          ],
          "carpet": [
           {
            "aaxis": {
             "endlinecolor": "#2a3f5f",
             "gridcolor": "#C8D4E3",
             "linecolor": "#C8D4E3",
             "minorgridcolor": "#C8D4E3",
             "startlinecolor": "#2a3f5f"
            },
            "baxis": {
             "endlinecolor": "#2a3f5f",
             "gridcolor": "#C8D4E3",
             "linecolor": "#C8D4E3",
             "minorgridcolor": "#C8D4E3",
             "startlinecolor": "#2a3f5f"
            },
            "type": "carpet"
           }
          ],
          "choropleth": [
           {
            "colorbar": {
             "outlinewidth": 0,
             "ticks": ""
            },
            "type": "choropleth"
           }
          ],
          "contour": [
           {
            "colorbar": {
             "outlinewidth": 0,
             "ticks": ""
            },
            "colorscale": [
             [
              0,
              "#0d0887"
             ],
             [
              0.1111111111111111,
              "#46039f"
             ],
             [
              0.2222222222222222,
              "#7201a8"
             ],
             [
              0.3333333333333333,
              "#9c179e"
             ],
             [
              0.4444444444444444,
              "#bd3786"
             ],
             [
              0.5555555555555556,
              "#d8576b"
             ],
             [
              0.6666666666666666,
              "#ed7953"
             ],
             [
              0.7777777777777778,
              "#fb9f3a"
             ],
             [
              0.8888888888888888,
              "#fdca26"
             ],
             [
              1,
              "#f0f921"
             ]
            ],
            "type": "contour"
           }
          ],
          "contourcarpet": [
           {
            "colorbar": {
             "outlinewidth": 0,
             "ticks": ""
            },
            "type": "contourcarpet"
           }
          ],
          "heatmap": [
           {
            "colorbar": {
             "outlinewidth": 0,
             "ticks": ""
            },
            "colorscale": [
             [
              0,
              "#0d0887"
             ],
             [
              0.1111111111111111,
              "#46039f"
             ],
             [
              0.2222222222222222,
              "#7201a8"
             ],
             [
              0.3333333333333333,
              "#9c179e"
             ],
             [
              0.4444444444444444,
              "#bd3786"
             ],
             [
              0.5555555555555556,
              "#d8576b"
             ],
             [
              0.6666666666666666,
              "#ed7953"
             ],
             [
              0.7777777777777778,
              "#fb9f3a"
             ],
             [
              0.8888888888888888,
              "#fdca26"
             ],
             [
              1,
              "#f0f921"
             ]
            ],
            "type": "heatmap"
           }
          ],
          "heatmapgl": [
           {
            "colorbar": {
             "outlinewidth": 0,
             "ticks": ""
            },
            "colorscale": [
             [
              0,
              "#0d0887"
             ],
             [
              0.1111111111111111,
              "#46039f"
             ],
             [
              0.2222222222222222,
              "#7201a8"
             ],
             [
              0.3333333333333333,
              "#9c179e"
             ],
             [
              0.4444444444444444,
              "#bd3786"
             ],
             [
              0.5555555555555556,
              "#d8576b"
             ],
             [
              0.6666666666666666,
              "#ed7953"
             ],
             [
              0.7777777777777778,
              "#fb9f3a"
             ],
             [
              0.8888888888888888,
              "#fdca26"
             ],
             [
              1,
              "#f0f921"
             ]
            ],
            "type": "heatmapgl"
           }
          ],
          "histogram": [
           {
            "marker": {
             "pattern": {
              "fillmode": "overlay",
              "size": 10,
              "solidity": 0.2
             }
            },
            "type": "histogram"
           }
          ],
          "histogram2d": [
           {
            "colorbar": {
             "outlinewidth": 0,
             "ticks": ""
            },
            "colorscale": [
             [
              0,
              "#0d0887"
             ],
             [
              0.1111111111111111,
              "#46039f"
             ],
             [
              0.2222222222222222,
              "#7201a8"
             ],
             [
              0.3333333333333333,
              "#9c179e"
             ],
             [
              0.4444444444444444,
              "#bd3786"
             ],
             [
              0.5555555555555556,
              "#d8576b"
             ],
             [
              0.6666666666666666,
              "#ed7953"
             ],
             [
              0.7777777777777778,
              "#fb9f3a"
             ],
             [
              0.8888888888888888,
              "#fdca26"
             ],
             [
              1,
              "#f0f921"
             ]
            ],
            "type": "histogram2d"
           }
          ],
          "histogram2dcontour": [
           {
            "colorbar": {
             "outlinewidth": 0,
             "ticks": ""
            },
            "colorscale": [
             [
              0,
              "#0d0887"
             ],
             [
              0.1111111111111111,
              "#46039f"
             ],
             [
              0.2222222222222222,
              "#7201a8"
             ],
             [
              0.3333333333333333,
              "#9c179e"
             ],
             [
              0.4444444444444444,
              "#bd3786"
             ],
             [
              0.5555555555555556,
              "#d8576b"
             ],
             [
              0.6666666666666666,
              "#ed7953"
             ],
             [
              0.7777777777777778,
              "#fb9f3a"
             ],
             [
              0.8888888888888888,
              "#fdca26"
             ],
             [
              1,
              "#f0f921"
             ]
            ],
            "type": "histogram2dcontour"
           }
          ],
          "mesh3d": [
           {
            "colorbar": {
             "outlinewidth": 0,
             "ticks": ""
            },
            "type": "mesh3d"
           }
          ],
          "parcoords": [
           {
            "line": {
             "colorbar": {
              "outlinewidth": 0,
              "ticks": ""
             }
            },
            "type": "parcoords"
           }
          ],
          "pie": [
           {
            "automargin": true,
            "type": "pie"
           }
          ],
          "scatter": [
           {
            "fillpattern": {
             "fillmode": "overlay",
             "size": 10,
             "solidity": 0.2
            },
            "type": "scatter"
           }
          ],
          "scatter3d": [
           {
            "line": {
             "colorbar": {
              "outlinewidth": 0,
              "ticks": ""
             }
            },
            "marker": {
             "colorbar": {
              "outlinewidth": 0,
              "ticks": ""
             }
            },
            "type": "scatter3d"
           }
          ],
          "scattercarpet": [
           {
            "marker": {
             "colorbar": {
              "outlinewidth": 0,
              "ticks": ""
             }
            },
            "type": "scattercarpet"
           }
          ],
          "scattergeo": [
           {
            "marker": {
             "colorbar": {
              "outlinewidth": 0,
              "ticks": ""
             }
            },
            "type": "scattergeo"
           }
          ],
          "scattergl": [
           {
            "marker": {
             "colorbar": {
              "outlinewidth": 0,
              "ticks": ""
             }
            },
            "type": "scattergl"
           }
          ],
          "scattermapbox": [
           {
            "marker": {
             "colorbar": {
              "outlinewidth": 0,
              "ticks": ""
             }
            },
            "type": "scattermapbox"
           }
          ],
          "scatterpolar": [
           {
            "marker": {
             "colorbar": {
              "outlinewidth": 0,
              "ticks": ""
             }
            },
            "type": "scatterpolar"
           }
          ],
          "scatterpolargl": [
           {
            "marker": {
             "colorbar": {
              "outlinewidth": 0,
              "ticks": ""
             }
            },
            "type": "scatterpolargl"
           }
          ],
          "scatterternary": [
           {
            "marker": {
             "colorbar": {
              "outlinewidth": 0,
              "ticks": ""
             }
            },
            "type": "scatterternary"
           }
          ],
          "surface": [
           {
            "colorbar": {
             "outlinewidth": 0,
             "ticks": ""
            },
            "colorscale": [
             [
              0,
              "#0d0887"
             ],
             [
              0.1111111111111111,
              "#46039f"
             ],
             [
              0.2222222222222222,
              "#7201a8"
             ],
             [
              0.3333333333333333,
              "#9c179e"
             ],
             [
              0.4444444444444444,
              "#bd3786"
             ],
             [
              0.5555555555555556,
              "#d8576b"
             ],
             [
              0.6666666666666666,
              "#ed7953"
             ],
             [
              0.7777777777777778,
              "#fb9f3a"
             ],
             [
              0.8888888888888888,
              "#fdca26"
             ],
             [
              1,
              "#f0f921"
             ]
            ],
            "type": "surface"
           }
          ],
          "table": [
           {
            "cells": {
             "fill": {
              "color": "#EBF0F8"
             },
             "line": {
              "color": "white"
             }
            },
            "header": {
             "fill": {
              "color": "#C8D4E3"
             },
             "line": {
              "color": "white"
             }
            },
            "type": "table"
           }
          ]
         },
         "layout": {
          "annotationdefaults": {
           "arrowcolor": "#2a3f5f",
           "arrowhead": 0,
           "arrowwidth": 1
          },
          "autotypenumbers": "strict",
          "coloraxis": {
           "colorbar": {
            "outlinewidth": 0,
            "ticks": ""
           }
          },
          "colorscale": {
           "diverging": [
            [
             0,
             "#8e0152"
            ],
            [
             0.1,
             "#c51b7d"
            ],
            [
             0.2,
             "#de77ae"
            ],
            [
             0.3,
             "#f1b6da"
            ],
            [
             0.4,
             "#fde0ef"
            ],
            [
             0.5,
             "#f7f7f7"
            ],
            [
             0.6,
             "#e6f5d0"
            ],
            [
             0.7,
             "#b8e186"
            ],
            [
             0.8,
             "#7fbc41"
            ],
            [
             0.9,
             "#4d9221"
            ],
            [
             1,
             "#276419"
            ]
           ],
           "sequential": [
            [
             0,
             "#0d0887"
            ],
            [
             0.1111111111111111,
             "#46039f"
            ],
            [
             0.2222222222222222,
             "#7201a8"
            ],
            [
             0.3333333333333333,
             "#9c179e"
            ],
            [
             0.4444444444444444,
             "#bd3786"
            ],
            [
             0.5555555555555556,
             "#d8576b"
            ],
            [
             0.6666666666666666,
             "#ed7953"
            ],
            [
             0.7777777777777778,
             "#fb9f3a"
            ],
            [
             0.8888888888888888,
             "#fdca26"
            ],
            [
             1,
             "#f0f921"
            ]
           ],
           "sequentialminus": [
            [
             0,
             "#0d0887"
            ],
            [
             0.1111111111111111,
             "#46039f"
            ],
            [
             0.2222222222222222,
             "#7201a8"
            ],
            [
             0.3333333333333333,
             "#9c179e"
            ],
            [
             0.4444444444444444,
             "#bd3786"
            ],
            [
             0.5555555555555556,
             "#d8576b"
            ],
            [
             0.6666666666666666,
             "#ed7953"
            ],
            [
             0.7777777777777778,
             "#fb9f3a"
            ],
            [
             0.8888888888888888,
             "#fdca26"
            ],
            [
             1,
             "#f0f921"
            ]
           ]
          },
          "colorway": [
           "#636efa",
           "#EF553B",
           "#00cc96",
           "#ab63fa",
           "#FFA15A",
           "#19d3f3",
           "#FF6692",
           "#B6E880",
           "#FF97FF",
           "#FECB52"
          ],
          "font": {
           "color": "#2a3f5f"
          },
          "geo": {
           "bgcolor": "white",
           "lakecolor": "white",
           "landcolor": "white",
           "showlakes": true,
           "showland": true,
           "subunitcolor": "#C8D4E3"
          },
          "hoverlabel": {
           "align": "left"
          },
          "hovermode": "closest",
          "mapbox": {
           "style": "light"
          },
          "paper_bgcolor": "white",
          "plot_bgcolor": "white",
          "polar": {
           "angularaxis": {
            "gridcolor": "#EBF0F8",
            "linecolor": "#EBF0F8",
            "ticks": ""
           },
           "bgcolor": "white",
           "radialaxis": {
            "gridcolor": "#EBF0F8",
            "linecolor": "#EBF0F8",
            "ticks": ""
           }
          },
          "scene": {
           "xaxis": {
            "backgroundcolor": "white",
            "gridcolor": "#DFE8F3",
            "gridwidth": 2,
            "linecolor": "#EBF0F8",
            "showbackground": true,
            "ticks": "",
            "zerolinecolor": "#EBF0F8"
           },
           "yaxis": {
            "backgroundcolor": "white",
            "gridcolor": "#DFE8F3",
            "gridwidth": 2,
            "linecolor": "#EBF0F8",
            "showbackground": true,
            "ticks": "",
            "zerolinecolor": "#EBF0F8"
           },
           "zaxis": {
            "backgroundcolor": "white",
            "gridcolor": "#DFE8F3",
            "gridwidth": 2,
            "linecolor": "#EBF0F8",
            "showbackground": true,
            "ticks": "",
            "zerolinecolor": "#EBF0F8"
           }
          },
          "shapedefaults": {
           "line": {
            "color": "#2a3f5f"
           }
          },
          "ternary": {
           "aaxis": {
            "gridcolor": "#DFE8F3",
            "linecolor": "#A2B1C6",
            "ticks": ""
           },
           "baxis": {
            "gridcolor": "#DFE8F3",
            "linecolor": "#A2B1C6",
            "ticks": ""
           },
           "bgcolor": "white",
           "caxis": {
            "gridcolor": "#DFE8F3",
            "linecolor": "#A2B1C6",
            "ticks": ""
           }
          },
          "title": {
           "x": 0.05
          },
          "xaxis": {
           "automargin": true,
           "gridcolor": "#EBF0F8",
           "linecolor": "#EBF0F8",
           "ticks": "",
           "title": {
            "standoff": 15
           },
           "zerolinecolor": "#EBF0F8",
           "zerolinewidth": 2
          },
          "yaxis": {
           "automargin": true,
           "gridcolor": "#EBF0F8",
           "linecolor": "#EBF0F8",
           "ticks": "",
           "title": {
            "standoff": 15
           },
           "zerolinecolor": "#EBF0F8",
           "zerolinewidth": 2
          }
         }
        },
        "title": {
         "font": {
          "color": "black",
          "family": "Arial, sans-serif",
          "size": 18
         },
         "text": "Quien contribuye mas a las emisiones acumuladas de CO2?",
         "x": 0.5,
         "xanchor": "right",
         "y": 0.96
        }
       }
      }
     },
     "metadata": {},
     "output_type": "display_data"
    }
   ],
   "source": [
    "subset_2021 = graficos_df.copy()\n",
    "subset_2021 = subset_2021.loc['2021-01-01':]\n",
    "\n",
    "# Agrupo por país y sumo las emisiones acumuladas\n",
    "df_grouped = subset_2021.groupby('country_2')['cumulative_co2'].sum()\n",
    "\n",
    "# dataframe para Plotly\n",
    "df = pd.DataFrame({'country_2': df_grouped.index, 'cumulative_co2': df_grouped.values})\n",
    "\n",
    "# valores para el treemap\n",
    "df['size'] = df['cumulative_co2']/df['cumulative_co2'].sum()\n",
    "\n",
    "# labels para los treemap\n",
    "df['label'] = df['country_2'].astype(str) + '<br>' + df['cumulative_co2'].astype(str) + ' ktCO2'\n",
    "\n",
    "fig = px.treemap(df, \n",
    "                 path=['country_2'], \n",
    "                 values='size', \n",
    "                 color='country_2',\n",
    "                 hover_data=['label'],\n",
    "                 template=\"plotly_white\"\n",
    "                )\n",
    "\n",
    "# actualizar el título del gráfico\n",
    "fig.update_layout(\n",
    "    title={\n",
    "        'text': \"Quien contribuye mas a las emisiones acumuladas de CO2?\",\n",
    "        'x': 0.5,\n",
    "        'y': 0.96,\n",
    "        'font': {'size': 18, 'color': 'black', 'family': 'Arial, sans-serif'},\n",
    "        'xanchor': 'right',\n",
    "    },\n",
    "    annotations=[\n",
    "        dict(\n",
    "            x=0,\n",
    "            y=0.959,\n",
    "            showarrow=False,\n",
    "            text=\"<i style='font-size:12px;'> Primeros 10 paises (region) segun emisiones acumuladas de CO2 a 2021, en millones de toneladas. Las emisiones acumuladas <br> son la suma continua de emisiones de CO₂ producidas a partir de combustibles fósiles e industria desde 1750 .</i>\",\n",
    "            xref='paper',\n",
    "            yref='paper',\n",
    "            font= {'size': 12, 'color': 'black', 'family': 'Arial'},\n",
    "            xanchor='left',\n",
    "            yanchor='bottom',\n",
    "            align='left'\n",
    "        )\n",
    "    ]\n",
    ")\n",
    "\n",
    "\n",
    "\n",
    "# actualizar las etiquetas\n",
    "fig.update_traces(hovertemplate='<b>%{label}</b><br>Emisiones acumuladas de CO2 (como % del total): %{value:.2%}')\n",
    "fig.show()"
   ]
  },
  {
   "attachments": {},
   "cell_type": "markdown",
   "id": "70f813e1",
   "metadata": {},
   "source": [
    "Entonces... \n",
    "\n",
    "**Que tipo de relacion (+/-) hay entre el CO2 y poblacion/ingreso?**\n",
    "\n",
    "Para esto veo dos cosas: relacion del ingreso hoy (GDP) y la poblacion con las emisiones de co2 actuales (no acumuladas).\n",
    "\n",
    "**Antes de tratar datos faltantes:** Como podemos ver, la relacion es positiva en ambos casos, pero pareceria q a priori hay una mayor relacion entre poblacion y co2 que entre gdp y co2. Aca puede estar sucediendo que al considerar unicamente las emisiones de co2 y no las totales de efecto invernadero nos estemos perdiendo informacion. \n",
    "\n",
    "**Luego de tratar datos faltantes:** la relacion entre gpd y co2 parece ser mas fuerte que con poblacion. Aca se ve algo importante, que es que si bien los paises con mayor poblacion tienen mas emisiones por la simple razon de que mas personas emiten mas, hay paises dado su nivel de gdp tienen emisiones per capita mas altas. Esto nos quiere decir que los habitantes de personas en paises de menor desarrollo relativo\n"
   ]
  },
  {
   "cell_type": "code",
   "execution_count": 137,
   "id": "83f5ba9d",
   "metadata": {},
   "outputs": [
    {
     "name": "stderr",
     "output_type": "stream",
     "text": [
      "C:\\Users\\Bruno\\AppData\\Local\\Temp\\ipykernel_10828\\316029008.py:2: SettingWithCopyWarning:\n",
      "\n",
      "\n",
      "A value is trying to be set on a copy of a slice from a DataFrame.\n",
      "Try using .loc[row_indexer,col_indexer] = value instead\n",
      "\n",
      "See the caveats in the documentation: https://pandas.pydata.org/pandas-docs/stable/user_guide/indexing.html#returning-a-view-versus-a-copy\n",
      "\n",
      "C:\\Users\\Bruno\\AppData\\Local\\Temp\\ipykernel_10828\\316029008.py:3: SettingWithCopyWarning:\n",
      "\n",
      "\n",
      "A value is trying to be set on a copy of a slice from a DataFrame.\n",
      "Try using .loc[row_indexer,col_indexer] = value instead\n",
      "\n",
      "See the caveats in the documentation: https://pandas.pydata.org/pandas-docs/stable/user_guide/indexing.html#returning-a-view-versus-a-copy\n",
      "\n",
      "C:\\Users\\Bruno\\AppData\\Local\\Temp\\ipykernel_10828\\316029008.py:4: SettingWithCopyWarning:\n",
      "\n",
      "\n",
      "A value is trying to be set on a copy of a slice from a DataFrame.\n",
      "Try using .loc[row_indexer,col_indexer] = value instead\n",
      "\n",
      "See the caveats in the documentation: https://pandas.pydata.org/pandas-docs/stable/user_guide/indexing.html#returning-a-view-versus-a-copy\n",
      "\n"
     ]
    },
    {
     "data": {
      "application/vnd.plotly.v1+json": {
       "config": {
        "plotlyServerURL": "https://plot.ly"
       },
       "data": [
        {
         "hovertemplate": "PIB per cápita ($)=%{x}<br>Emisiones de CO2 per capita=%{y}<extra></extra>",
         "legendgroup": "",
         "marker": {
          "color": "#1F77B4",
          "opacity": 0.5,
          "size": 10,
          "symbol": "circle"
         },
         "mode": "markers",
         "name": "",
         "orientation": "v",
         "showlegend": false,
         "type": "scatter",
         "x": [
          1842.4880664941286,
          11820.955153928424,
          14079.648889231496,
          null,
          5625.509124551242,
          null,
          null,
          18673.8619193872,
          11738.330885652813,
          null,
          49583.58285212017,
          43240.61739187681,
          15801.61049212984,
          null,
          42061.030673427704,
          4194.191121289642,
          12571.097182000844,
          18403.78700835938,
          39689.07987790295,
          null,
          2234.547471301486,
          null,
          null,
          6522.385312330435,
          null,
          12142.565119236548,
          14621.922541752485,
          14109.766321452269,
          null,
          null,
          18571.810475250597,
          1535.597535003896,
          636.3704877445257,
          3715.5040878633845,
          3037.404571054497,
          45076.004398403034,
          6797.299734422952,
          2000.2879212171738,
          22074.949676420845,
          12809.266576791042,
          13229.315390670952,
          1824.026793005995,
          5424.234498381841,
          null,
          14548.859244023395,
          4023.7587679292255,
          20425.173200836056,
          8169.93529817466,
          null,
          22800.607610224197,
          30955.17458340603,
          46528.88724743089,
          2755.7959145065665,
          9427.024731789948,
          15350.391901858635,
          10315.471265783684,
          11777.747834833843,
          8724.247540445545,
          15145.85128306866,
          null,
          26781.780819969958,
          7559.060113923287,
          1761.3723217178094,
          null,
          null,
          38897.12531001466,
          40164.307456140545,
          null,
          null,
          16739.52770170615,
          1611.1072216795997,
          15636.200891599156,
          46877.15556605537,
          3850.7092826817243,
          23514.471991742903,
          null,
          null,
          null,
          7569.652724814269,
          1516.966821244121,
          1429.8845998397883,
          null,
          1693.8754387202748,
          4634.271695667065,
          49947.13467653751,
          25615.511833083907,
          43392.03010049553,
          6454.153718190112,
          11515.67905012306,
          16340.05855135325,
          12652.964561833129,
          65016.29453929729,
          32969.510044537405,
          34691.019031277094,
          6910.723387729467,
          38548.786014229896,
          10028.257542163072,
          25014.459211246027,
          3473.362213107042,
          null,
          64189.23906337224,
          4756.348462915499,
          6568.1785152106795,
          24210.428097902906,
          16266.638327819828,
          2438.727303994941,
          805.0924375935188,
          15501.583870180437,
          null,
          26639.121485552798,
          57598.13364916437,
          null,
          1365.759921426013,
          1229.0285059478265,
          23878.88706480115,
          null,
          1380.616148725333,
          31746.770438780284,
          null,
          null,
          3109.159684427697,
          21209.67231080157,
          null,
          16180.44680191563,
          null,
          7415.852313247115,
          13126.370196656504,
          18972.585482192826,
          null,
          8349.591869585418,
          1000.8866849044596,
          6030.43570077524,
          9600.390435643614,
          null,
          2843.275427778112,
          47324.65671343388,
          null,
          35344.13502288299,
          4585.48479923265,
          907.2679386952951,
          5347.137873283381,
          null,
          1580.3454314491935,
          13107.93276545933,
          84584.30858827996,
          37459.73229011815,
          5516.235107022986,
          null,
          5001.3461288189965,
          20655.561485026858,
          null,
          10288.591606492102,
          11995.924591849707,
          8404.285321518426,
          27347.853082219306,
          26855.983650657887,
          null,
          19699.130654511413,
          24808.47029088894,
          1834.4452065583503,
          null,
          null,
          9746.131426579874,
          null,
          null,
          null,
          3608.357535555787,
          47899.14572302144,
          2748.365609046858,
          13448.265871203586,
          27100.59146625291,
          1352.0452658705883,
          70536.9025218319,
          null,
          26888.799534988415,
          28699.838541718604,
          null,
          11741.829254293087,
          37896.857259471835,
          null,
          31892.178122930472,
          11744.614249242564,
          null,
          null,
          45600.64631668028,
          62478.7664293715,
          2933.2878495028103,
          43907.165426082385,
          4185.583008832805,
          2789.65858136667,
          15802.988363932149,
          null,
          1474.7670224241551,
          null,
          10921.114496222253,
          19997.562427333043,
          23477.21799048717,
          null,
          null,
          2085.589305173502,
          9704.150429752754,
          38237.17697681435,
          54617.462728395236,
          20005.78681802743,
          10381.483738740762,
          null,
          10374.05719237923,
          6969.320821952192,
          null,
          2242.337522004342,
          3418.870329040904,
          1509.106088807935
         ],
         "xaxis": "x",
         "y": [
          2.9487454720756693e-7,
          0.000001732348656717248,
          0.000004147970682763721,
          0.000006597009355758723,
          7.283793730021848e-7,
          0.00000940727583711598,
          0.000005434070970276287,
          0.00000406630024430359,
          0.0000020538940964822566,
          0.00000822796754104548,
          0.000016665206787015195,
          0.000007528631240839055,
          0.000003405655578849161,
          0.000006717905207869404,
          0.00002204396287077788,
          5.039834326580776e-7,
          0.000004601325696634275,
          0.000006404366198882727,
          0.0000087236882629646,
          0.000001583454600655367,
          6.225771915320122e-7,
          0.00001105502350961614,
          0.0000017700996189496447,
          0.000002050417225744742,
          0.000003960792158431687,
          0.00000649239500113525,
          0.0000030610942024817544,
          0.000002270113415551792,
          0.000005303204980401199,
          0.000021515923948208886,
          0.000006128059814899323,
          2.4263548823526816e-7,
          5.951202229856312e-8,
          8.978335553372611e-7,
          3.841805350230365e-7,
          0.000015778720062988622,
          0.0000010206421817583406,
          1.2861911074912912e-7,
          0.000004516708114428762,
          0.00000730654173164584,
          0.0000016727287279525803,
          3.7742070944788374e-7,
          0.0000012122635640364995,
          0.000004688585320676083,
          0.0000016324990507342376,
          4.060564862542113e-7,
          0.000004260077183253503,
          0.00000199775022481421,
          0.000021539077809174273,
          0.000006024610406339174,
          0.000010094167807827123,
          0.000006021652979725454,
          3.6416812649214344e-7,
          0.0000022727272727272728,
          0.0000023924502755646446,
          0.0000022476338283906742,
          0.000002351129692812762,
          0.0000010212958507665295,
          0.000003999728380629278,
          2.409023097597362e-7,
          0.000013565067700541392,
          8.901872581715397e-7,
          1.422485346817189e-7,
          0.000014221821177762956,
          0.0000014755136550301306,
          0.00000830319837040032,
          0.000005017703465077498,
          0.0000025410342696243387,
          0.000002943400030240411,
          0.000002733560430526644,
          2.4295313213214685e-7,
          0.000002667587054448943,
          0.000009100579834930937,
          5.540861986440971e-7,
          0.000006750695340805161,
          0.000009793759159309434,
          0.0000025276357578393637,
          0.0000062381237177400425,
          0.0000011092465740417192,
          2.9359122845627005e-7,
          1.6156230226800224e-7,
          0.000003158425395726132,
          3.06108726078275e-7,
          0.00000100695874767458,
          0.000005694131025829763,
          0.000005059449011753965,
          0.000010366878121892273,
          0.0000018995184806221179,
          0.000002260321730385645,
          0.000008186848585734048,
          0.000005258125629762483,
          0.000008069490450523798,
          0.0000071255356982160556,
          0.0000058286567800703276,
          0.000002875695007045204,
          0.000009056307495939674,
          0.00000238626429559696,
          0.000017899407166861763,
          3.63719714213075e-7,
          5.397625044980209e-7,
          0.000022478741959469006,
          0.0000017843648504708684,
          0.000002893452055226398,
          0.000004060172594790745,
          0.000004403242431911316,
          0.0000010786931934504988,
          2.2129522746776905e-7,
          0.000008338645072062375,
          0.0000037429655804214104,
          0.000004760219294829716,
          0.000015737268061587052,
          0.000001907845823937474,
          1.4236469319849885e-7,
          8.547526917360006e-8,
          0.000008243611661620771,
          0.000003552666235174254,
          1.8435557118021276e-7,
          0.0000031469313859110235,
          0.0000031948187429366252,
          0.000006045197589390758,
          8.579355644497166e-7,
          0.000003484675610204217,
          0.0000010425207090554409,
          0.000003832386030645735,
          0.0000012889269457839469,
          0.0000017330614331288142,
          0.000014322403898363905,
          0.000003800721820419061,
          0.000006619493266377539,
          0.0000017538089747145335,
          2.4062086709020924e-7,
          6.604448682809044e-7,
          0.0000017271609464592578,
          0.000004602895639802494,
          5.203334877063013e-7,
          0.000009176652469084593,
          0.000018765335027572336,
          0.000007379310401841221,
          7.910552180582737e-7,
          7.941689484813346e-8,
          5.304262540258562e-7,
          0.000005768222338751966,
          0.0000018577782049189818,
          0.000003326713972151368,
          0.00000835661098039821,
          0.00001576906693094785,
          9.332344757070048e-7,
          0.000011908089674064962,
          6.157465047177752e-7,
          0.0000025851940023883276,
          8.06389978683135e-7,
          0.0000013204338062715017,
          0.0000017129267326432605,
          0.0000013063049255241138,
          0.000008749615539014821,
          0.000005000955797824902,
          0.000004702562397138088,
          0.000004106539075415655,
          0.00001167474279566415,
          1.0221987087260339e-7,
          0.000002002184200946487,
          0.000005126917362462594,
          0.000002861254454900109,
          0.000009884402747528899,
          0.0000022982611090534392,
          0.0000011348735188231646,
          6.245327832398112e-7,
          0.000017881907578622414,
          7.274520366409822e-7,
          0.000005961937495165679,
          0.000005828161365399534,
          1.3191224286812068e-7,
          0.000007914637487417327,
          0.00001630074761048547,
          0.000006628361227051895,
          0.000006898136738573106,
          4.3837095890992764e-7,
          0.00000759050912639272,
          0.000012968444314577692,
          1.4419933870317948e-7,
          0.000005771323005252774,
          9.728594682140238e-7,
          5.205830301361002e-7,
          0.0000031479008099654895,
          0.000004142270942601576,
          0.000004330765027046435,
          0.0000015636101218074527,
          0.000011921132203886457,
          9.977946197310272e-7,
          2.0290772781836546e-7,
          0.000003966170305712219,
          5.024368982050165e-7,
          2.7439888252049295e-7,
          0.0000012931813211368586,
          0.0000025137768749622897,
          0.0000051029169379324814,
          0.00001207768019901495,
          0.000008743616918778302,
          6.432049986217036e-7,
          1.3563641443897928e-7,
          0.000005212393416763427,
          0.000005715984869928191,
          0.000016187922207462182,
          0.0000019173958665252037,
          0.0000035890759503867814,
          5.919806799032649e-7,
          0.0000034424058860473528,
          0.00000288916337267857,
          0.0000021959459459459458,
          3.401697029156447e-7,
          4.155664043380378e-7,
          7.836068516536895e-7
         ],
         "yaxis": "y"
        }
       ],
       "layout": {
        "height": 400,
        "legend": {
         "tracegroupgap": 0
        },
        "margin": {
         "t": 60
        },
        "template": {
         "data": {
          "bar": [
           {
            "error_x": {
             "color": "rgb(36,36,36)"
            },
            "error_y": {
             "color": "rgb(36,36,36)"
            },
            "marker": {
             "line": {
              "color": "white",
              "width": 0.5
             },
             "pattern": {
              "fillmode": "overlay",
              "size": 10,
              "solidity": 0.2
             }
            },
            "type": "bar"
           }
          ],
          "barpolar": [
           {
            "marker": {
             "line": {
              "color": "white",
              "width": 0.5
             },
             "pattern": {
              "fillmode": "overlay",
              "size": 10,
              "solidity": 0.2
             }
            },
            "type": "barpolar"
           }
          ],
          "carpet": [
           {
            "aaxis": {
             "endlinecolor": "rgb(36,36,36)",
             "gridcolor": "white",
             "linecolor": "white",
             "minorgridcolor": "white",
             "startlinecolor": "rgb(36,36,36)"
            },
            "baxis": {
             "endlinecolor": "rgb(36,36,36)",
             "gridcolor": "white",
             "linecolor": "white",
             "minorgridcolor": "white",
             "startlinecolor": "rgb(36,36,36)"
            },
            "type": "carpet"
           }
          ],
          "choropleth": [
           {
            "colorbar": {
             "outlinewidth": 1,
             "tickcolor": "rgb(36,36,36)",
             "ticks": "outside"
            },
            "type": "choropleth"
           }
          ],
          "contour": [
           {
            "colorbar": {
             "outlinewidth": 1,
             "tickcolor": "rgb(36,36,36)",
             "ticks": "outside"
            },
            "colorscale": [
             [
              0,
              "#440154"
             ],
             [
              0.1111111111111111,
              "#482878"
             ],
             [
              0.2222222222222222,
              "#3e4989"
             ],
             [
              0.3333333333333333,
              "#31688e"
             ],
             [
              0.4444444444444444,
              "#26828e"
             ],
             [
              0.5555555555555556,
              "#1f9e89"
             ],
             [
              0.6666666666666666,
              "#35b779"
             ],
             [
              0.7777777777777778,
              "#6ece58"
             ],
             [
              0.8888888888888888,
              "#b5de2b"
             ],
             [
              1,
              "#fde725"
             ]
            ],
            "type": "contour"
           }
          ],
          "contourcarpet": [
           {
            "colorbar": {
             "outlinewidth": 1,
             "tickcolor": "rgb(36,36,36)",
             "ticks": "outside"
            },
            "type": "contourcarpet"
           }
          ],
          "heatmap": [
           {
            "colorbar": {
             "outlinewidth": 1,
             "tickcolor": "rgb(36,36,36)",
             "ticks": "outside"
            },
            "colorscale": [
             [
              0,
              "#440154"
             ],
             [
              0.1111111111111111,
              "#482878"
             ],
             [
              0.2222222222222222,
              "#3e4989"
             ],
             [
              0.3333333333333333,
              "#31688e"
             ],
             [
              0.4444444444444444,
              "#26828e"
             ],
             [
              0.5555555555555556,
              "#1f9e89"
             ],
             [
              0.6666666666666666,
              "#35b779"
             ],
             [
              0.7777777777777778,
              "#6ece58"
             ],
             [
              0.8888888888888888,
              "#b5de2b"
             ],
             [
              1,
              "#fde725"
             ]
            ],
            "type": "heatmap"
           }
          ],
          "heatmapgl": [
           {
            "colorbar": {
             "outlinewidth": 1,
             "tickcolor": "rgb(36,36,36)",
             "ticks": "outside"
            },
            "colorscale": [
             [
              0,
              "#440154"
             ],
             [
              0.1111111111111111,
              "#482878"
             ],
             [
              0.2222222222222222,
              "#3e4989"
             ],
             [
              0.3333333333333333,
              "#31688e"
             ],
             [
              0.4444444444444444,
              "#26828e"
             ],
             [
              0.5555555555555556,
              "#1f9e89"
             ],
             [
              0.6666666666666666,
              "#35b779"
             ],
             [
              0.7777777777777778,
              "#6ece58"
             ],
             [
              0.8888888888888888,
              "#b5de2b"
             ],
             [
              1,
              "#fde725"
             ]
            ],
            "type": "heatmapgl"
           }
          ],
          "histogram": [
           {
            "marker": {
             "line": {
              "color": "white",
              "width": 0.6
             }
            },
            "type": "histogram"
           }
          ],
          "histogram2d": [
           {
            "colorbar": {
             "outlinewidth": 1,
             "tickcolor": "rgb(36,36,36)",
             "ticks": "outside"
            },
            "colorscale": [
             [
              0,
              "#440154"
             ],
             [
              0.1111111111111111,
              "#482878"
             ],
             [
              0.2222222222222222,
              "#3e4989"
             ],
             [
              0.3333333333333333,
              "#31688e"
             ],
             [
              0.4444444444444444,
              "#26828e"
             ],
             [
              0.5555555555555556,
              "#1f9e89"
             ],
             [
              0.6666666666666666,
              "#35b779"
             ],
             [
              0.7777777777777778,
              "#6ece58"
             ],
             [
              0.8888888888888888,
              "#b5de2b"
             ],
             [
              1,
              "#fde725"
             ]
            ],
            "type": "histogram2d"
           }
          ],
          "histogram2dcontour": [
           {
            "colorbar": {
             "outlinewidth": 1,
             "tickcolor": "rgb(36,36,36)",
             "ticks": "outside"
            },
            "colorscale": [
             [
              0,
              "#440154"
             ],
             [
              0.1111111111111111,
              "#482878"
             ],
             [
              0.2222222222222222,
              "#3e4989"
             ],
             [
              0.3333333333333333,
              "#31688e"
             ],
             [
              0.4444444444444444,
              "#26828e"
             ],
             [
              0.5555555555555556,
              "#1f9e89"
             ],
             [
              0.6666666666666666,
              "#35b779"
             ],
             [
              0.7777777777777778,
              "#6ece58"
             ],
             [
              0.8888888888888888,
              "#b5de2b"
             ],
             [
              1,
              "#fde725"
             ]
            ],
            "type": "histogram2dcontour"
           }
          ],
          "mesh3d": [
           {
            "colorbar": {
             "outlinewidth": 1,
             "tickcolor": "rgb(36,36,36)",
             "ticks": "outside"
            },
            "type": "mesh3d"
           }
          ],
          "parcoords": [
           {
            "line": {
             "colorbar": {
              "outlinewidth": 1,
              "tickcolor": "rgb(36,36,36)",
              "ticks": "outside"
             }
            },
            "type": "parcoords"
           }
          ],
          "pie": [
           {
            "automargin": true,
            "type": "pie"
           }
          ],
          "scatter": [
           {
            "fillpattern": {
             "fillmode": "overlay",
             "size": 10,
             "solidity": 0.2
            },
            "type": "scatter"
           }
          ],
          "scatter3d": [
           {
            "line": {
             "colorbar": {
              "outlinewidth": 1,
              "tickcolor": "rgb(36,36,36)",
              "ticks": "outside"
             }
            },
            "marker": {
             "colorbar": {
              "outlinewidth": 1,
              "tickcolor": "rgb(36,36,36)",
              "ticks": "outside"
             }
            },
            "type": "scatter3d"
           }
          ],
          "scattercarpet": [
           {
            "marker": {
             "colorbar": {
              "outlinewidth": 1,
              "tickcolor": "rgb(36,36,36)",
              "ticks": "outside"
             }
            },
            "type": "scattercarpet"
           }
          ],
          "scattergeo": [
           {
            "marker": {
             "colorbar": {
              "outlinewidth": 1,
              "tickcolor": "rgb(36,36,36)",
              "ticks": "outside"
             }
            },
            "type": "scattergeo"
           }
          ],
          "scattergl": [
           {
            "marker": {
             "colorbar": {
              "outlinewidth": 1,
              "tickcolor": "rgb(36,36,36)",
              "ticks": "outside"
             }
            },
            "type": "scattergl"
           }
          ],
          "scattermapbox": [
           {
            "marker": {
             "colorbar": {
              "outlinewidth": 1,
              "tickcolor": "rgb(36,36,36)",
              "ticks": "outside"
             }
            },
            "type": "scattermapbox"
           }
          ],
          "scatterpolar": [
           {
            "marker": {
             "colorbar": {
              "outlinewidth": 1,
              "tickcolor": "rgb(36,36,36)",
              "ticks": "outside"
             }
            },
            "type": "scatterpolar"
           }
          ],
          "scatterpolargl": [
           {
            "marker": {
             "colorbar": {
              "outlinewidth": 1,
              "tickcolor": "rgb(36,36,36)",
              "ticks": "outside"
             }
            },
            "type": "scatterpolargl"
           }
          ],
          "scatterternary": [
           {
            "marker": {
             "colorbar": {
              "outlinewidth": 1,
              "tickcolor": "rgb(36,36,36)",
              "ticks": "outside"
             }
            },
            "type": "scatterternary"
           }
          ],
          "surface": [
           {
            "colorbar": {
             "outlinewidth": 1,
             "tickcolor": "rgb(36,36,36)",
             "ticks": "outside"
            },
            "colorscale": [
             [
              0,
              "#440154"
             ],
             [
              0.1111111111111111,
              "#482878"
             ],
             [
              0.2222222222222222,
              "#3e4989"
             ],
             [
              0.3333333333333333,
              "#31688e"
             ],
             [
              0.4444444444444444,
              "#26828e"
             ],
             [
              0.5555555555555556,
              "#1f9e89"
             ],
             [
              0.6666666666666666,
              "#35b779"
             ],
             [
              0.7777777777777778,
              "#6ece58"
             ],
             [
              0.8888888888888888,
              "#b5de2b"
             ],
             [
              1,
              "#fde725"
             ]
            ],
            "type": "surface"
           }
          ],
          "table": [
           {
            "cells": {
             "fill": {
              "color": "rgb(237,237,237)"
             },
             "line": {
              "color": "white"
             }
            },
            "header": {
             "fill": {
              "color": "rgb(217,217,217)"
             },
             "line": {
              "color": "white"
             }
            },
            "type": "table"
           }
          ]
         },
         "layout": {
          "annotationdefaults": {
           "arrowhead": 0,
           "arrowwidth": 1
          },
          "autotypenumbers": "strict",
          "coloraxis": {
           "colorbar": {
            "outlinewidth": 1,
            "tickcolor": "rgb(36,36,36)",
            "ticks": "outside"
           }
          },
          "colorscale": {
           "diverging": [
            [
             0,
             "rgb(103,0,31)"
            ],
            [
             0.1,
             "rgb(178,24,43)"
            ],
            [
             0.2,
             "rgb(214,96,77)"
            ],
            [
             0.3,
             "rgb(244,165,130)"
            ],
            [
             0.4,
             "rgb(253,219,199)"
            ],
            [
             0.5,
             "rgb(247,247,247)"
            ],
            [
             0.6,
             "rgb(209,229,240)"
            ],
            [
             0.7,
             "rgb(146,197,222)"
            ],
            [
             0.8,
             "rgb(67,147,195)"
            ],
            [
             0.9,
             "rgb(33,102,172)"
            ],
            [
             1,
             "rgb(5,48,97)"
            ]
           ],
           "sequential": [
            [
             0,
             "#440154"
            ],
            [
             0.1111111111111111,
             "#482878"
            ],
            [
             0.2222222222222222,
             "#3e4989"
            ],
            [
             0.3333333333333333,
             "#31688e"
            ],
            [
             0.4444444444444444,
             "#26828e"
            ],
            [
             0.5555555555555556,
             "#1f9e89"
            ],
            [
             0.6666666666666666,
             "#35b779"
            ],
            [
             0.7777777777777778,
             "#6ece58"
            ],
            [
             0.8888888888888888,
             "#b5de2b"
            ],
            [
             1,
             "#fde725"
            ]
           ],
           "sequentialminus": [
            [
             0,
             "#440154"
            ],
            [
             0.1111111111111111,
             "#482878"
            ],
            [
             0.2222222222222222,
             "#3e4989"
            ],
            [
             0.3333333333333333,
             "#31688e"
            ],
            [
             0.4444444444444444,
             "#26828e"
            ],
            [
             0.5555555555555556,
             "#1f9e89"
            ],
            [
             0.6666666666666666,
             "#35b779"
            ],
            [
             0.7777777777777778,
             "#6ece58"
            ],
            [
             0.8888888888888888,
             "#b5de2b"
            ],
            [
             1,
             "#fde725"
            ]
           ]
          },
          "colorway": [
           "#1F77B4",
           "#FF7F0E",
           "#2CA02C",
           "#D62728",
           "#9467BD",
           "#8C564B",
           "#E377C2",
           "#7F7F7F",
           "#BCBD22",
           "#17BECF"
          ],
          "font": {
           "color": "rgb(36,36,36)"
          },
          "geo": {
           "bgcolor": "white",
           "lakecolor": "white",
           "landcolor": "white",
           "showlakes": true,
           "showland": true,
           "subunitcolor": "white"
          },
          "hoverlabel": {
           "align": "left"
          },
          "hovermode": "closest",
          "mapbox": {
           "style": "light"
          },
          "paper_bgcolor": "white",
          "plot_bgcolor": "white",
          "polar": {
           "angularaxis": {
            "gridcolor": "rgb(232,232,232)",
            "linecolor": "rgb(36,36,36)",
            "showgrid": false,
            "showline": true,
            "ticks": "outside"
           },
           "bgcolor": "white",
           "radialaxis": {
            "gridcolor": "rgb(232,232,232)",
            "linecolor": "rgb(36,36,36)",
            "showgrid": false,
            "showline": true,
            "ticks": "outside"
           }
          },
          "scene": {
           "xaxis": {
            "backgroundcolor": "white",
            "gridcolor": "rgb(232,232,232)",
            "gridwidth": 2,
            "linecolor": "rgb(36,36,36)",
            "showbackground": true,
            "showgrid": false,
            "showline": true,
            "ticks": "outside",
            "zeroline": false,
            "zerolinecolor": "rgb(36,36,36)"
           },
           "yaxis": {
            "backgroundcolor": "white",
            "gridcolor": "rgb(232,232,232)",
            "gridwidth": 2,
            "linecolor": "rgb(36,36,36)",
            "showbackground": true,
            "showgrid": false,
            "showline": true,
            "ticks": "outside",
            "zeroline": false,
            "zerolinecolor": "rgb(36,36,36)"
           },
           "zaxis": {
            "backgroundcolor": "white",
            "gridcolor": "rgb(232,232,232)",
            "gridwidth": 2,
            "linecolor": "rgb(36,36,36)",
            "showbackground": true,
            "showgrid": false,
            "showline": true,
            "ticks": "outside",
            "zeroline": false,
            "zerolinecolor": "rgb(36,36,36)"
           }
          },
          "shapedefaults": {
           "fillcolor": "black",
           "line": {
            "width": 0
           },
           "opacity": 0.3
          },
          "ternary": {
           "aaxis": {
            "gridcolor": "rgb(232,232,232)",
            "linecolor": "rgb(36,36,36)",
            "showgrid": false,
            "showline": true,
            "ticks": "outside"
           },
           "baxis": {
            "gridcolor": "rgb(232,232,232)",
            "linecolor": "rgb(36,36,36)",
            "showgrid": false,
            "showline": true,
            "ticks": "outside"
           },
           "bgcolor": "white",
           "caxis": {
            "gridcolor": "rgb(232,232,232)",
            "linecolor": "rgb(36,36,36)",
            "showgrid": false,
            "showline": true,
            "ticks": "outside"
           }
          },
          "title": {
           "x": 0.05
          },
          "xaxis": {
           "automargin": true,
           "gridcolor": "rgb(232,232,232)",
           "linecolor": "rgb(36,36,36)",
           "showgrid": false,
           "showline": true,
           "ticks": "outside",
           "title": {
            "standoff": 15
           },
           "zeroline": false,
           "zerolinecolor": "rgb(36,36,36)"
          },
          "yaxis": {
           "automargin": true,
           "gridcolor": "rgb(232,232,232)",
           "linecolor": "rgb(36,36,36)",
           "showgrid": false,
           "showline": true,
           "ticks": "outside",
           "title": {
            "standoff": 15
           },
           "zeroline": false,
           "zerolinecolor": "rgb(36,36,36)"
          }
         }
        },
        "title": {
         "font": {
          "color": "#000000",
          "family": "Arial",
          "size": 18
         },
         "text": "Como se relaciona el nivel de GDP per capita con las emisiones de CO2?",
         "x": 0.7,
         "xanchor": "right",
         "y": 0.95,
         "yanchor": "top"
        },
        "width": 900,
        "xaxis": {
         "anchor": "y",
         "domain": [
          0,
          1
         ],
         "title": {
          "text": "PIB per cápita ($)"
         }
        },
        "yaxis": {
         "anchor": "x",
         "domain": [
          0,
          1
         ],
         "title": {
          "text": "Emisiones de CO2 per capita"
         }
        }
       }
      }
     },
     "metadata": {},
     "output_type": "display_data"
    },
    {
     "data": {
      "application/vnd.plotly.v1+json": {
       "config": {
        "plotlyServerURL": "https://plot.ly"
       },
       "data": [
        {
         "hovertemplate": "Población (millones)=%{x}<br>Emisiones de CO2 (kt)=%{y}<extra></extra>",
         "legendgroup": "",
         "marker": {
          "color": "#1F77B4",
          "opacity": 0.5,
          "size": 10,
          "symbol": "circle"
         },
         "mode": "markers",
         "name": "",
         "orientation": "v",
         "showlegend": false,
         "type": "scatter",
         "x": [
          36.686788,
          2.877019,
          41.927008,
          0.048445,
          0.075034,
          31.273538,
          0.015201,
          0.091644,
          44.413592,
          2.836563,
          0.10598,
          24.979228,
          8.840518,
          10.152524,
          0.401911,
          1.487346,
          163.683952,
          0.279702,
          9.695573,
          11.448598,
          0.382076,
          11.940688,
          0.063591,
          0.762104,
          11.606906,
          0.024995,
          3.400132,
          2.451411,
          210.166592,
          0.030359,
          0.434283,
          7.117424,
          20.39273,
          11.493476,
          16.025242,
          25.076752,
          37.03526,
          0.571209,
          5.094795,
          15.604213,
          18.701452,
          49.276968,
          0.776322,
          5.441061,
          0.017276,
          5.040738,
          25.49399,
          4.160488,
          11.328243,
          0.184734,
          1.218834,
          10.534598,
          87.087352,
          5.766689,
          1.057204,
          0.07084,
          10.765532,
          17.015672,
          103.740768,
          6.27634,
          1.502102,
          3.44538,
          1.322146,
          1.16043,
          111.12944,
          0.050978,
          0.919002,
          5.515465,
          64.277812,
          0.276659,
          0.297615,
          2.192013,
          2.444916,
          3.772323,
          82.896696,
          30.870648,
          10.633275,
          0.055954,
          0.121853,
          0.396273,
          16.850176,
          0.061908,
          12.554871,
          1.924954,
          0.785518,
          11.012427,
          9.792854,
          7.481563,
          9.776361,
          0.352951,
          267.066848,
          85.61756,
          40.5907,
          4.834506,
          0.083792,
          8.456487,
          59.877432,
          2.811842,
          126.255872,
          0.105387,
          10.459864,
          18.5381,
          49.9533,
          0.122276,
          4.31719,
          6.223503,
          7.105008,
          1.935632,
          5.950842,
          2.19803,
          4.889396,
          6.477791,
          0.038205,
          2.876128,
          0.60792,
          0.650996,
          26.846544,
          18.367886,
          32.39927,
          0.489773,
          19.934304,
          0.49159,
          0.046012,
          0.374843,
          4.270717,
          1.295386,
          0.282968,
          124.013864,
          0.110945,
          3.141839,
          3.163994,
          0.631459,
          35.927516,
          29.423882,
          52.666016,
          2.405682,
          0.011949,
          28.506718,
          17.286042,
          0.284887,
          4.838528,
          6.572234,
          22.57706,
          198.387616,
          25.638152,
          2.113497,
          5.312321,
          4.60116,
          219.731488,
          0.017887,
          4.805549,
          4.165258,
          9.329233,
          6.443337,
          32.203946,
          108.568832,
          38.521464,
          10.289833,
          3.319269,
          2.766743,
          0.941189,
          19.606778,
          145.652288,
          12.53181,
          0.005494,
          0.047787,
          0.177894,
          0.033879,
          0.005969,
          0.105297,
          0.209715,
          0.211358,
          35.018132,
          15.57491,
          7.433825,
          0.10312,
          7.861287,
          5.814543,
          0.042268,
          5.446746,
          2.105931,
          0.659259,
          15.411101,
          57.339632,
          51.6769,
          10.395332,
          46.792044,
          21.580712,
          41.999064,
          0.593729,
          10.1623,
          8.514431,
          19.333464,
          23.726186,
          9.128131,
          58.090444,
          71.127808,
          1.26185,
          8.04668,
          0.105167,
          1.504707,
          11.93304,
          82.809304,
          6.065072,
          0.041516,
          0.010883,
          41.5154,
          44.446952,
          9.140172,
          66.432996,
          0.101377,
          3.427044,
          32.449578,
          0.297307,
          29.825652,
          94.914328,
          0.01184,
          0.532011,
          30.790514,
          17.835898,
          15.052191
         ],
         "xaxis": "x",
         "y": [
          10.818,
          4.984,
          173.912,
          null,
          0.495,
          22.779,
          0.143,
          0.498,
          180.599,
          5.826,
          0.872,
          416.284,
          66.557,
          34.576,
          2.7,
          32.787,
          82.494,
          1.287,
          62.094,
          99.874,
          0.605,
          7.434,
          0.703,
          1.349,
          23.799,
          0.099,
          22.075,
          7.504,
          477.102,
          0.161,
          9.344,
          43.616,
          4.948,
          0.684,
          14.388,
          9.634,
          584.369,
          0.583,
          0.22,
          2.007,
          84.469,
          82.427,
          0.293,
          6.596,
          0.081,
          8.229,
          10.352,
          17.724,
          22.631,
          3.979,
          7.343,
          106.338,
          2.472,
          34.725,
          0.385,
          0.161,
          25.756,
          38.245,
          243.908,
          6.41,
          6.008,
          0.83,
          17.935,
          1.033,
          15.808,
          0.725,
          1.356,
          45.796,
          322.527,
          0.703,
          0.876,
          5.992,
          0.594,
          10.063,
          754.408,
          17.105,
          71.782,
          0.548,
          0.308,
          2.472,
          18.691,
          null,
          3.686,
          0.311,
          2.481,
          3.371,
          9.861,
          42.601,
          49.463,
          3.659,
          603.657,
          700.938,
          213.431,
          39.012,
          null,
          60.257,
          349.005,
          8.086,
          1143.412,
          null,
          24.96,
          331.821,
          18.169,
          0.066,
          97.045,
          11.105,
          20.558,
          7.859,
          26.203,
          2.371,
          1.082,
          54.016,
          0.143,
          13.691,
          9.567,
          1.242,
          3.822,
          1.57,
          267.087,
          1.74,
          3.675,
          1.547,
          0.147,
          2.266,
          3.664,
          4.514,
          0.295,
          475.269,
          0.143,
          5.445,
          45.316,
          2.4,
          63.01,
          7.08,
          34.783,
          4.155,
          0.055,
          14.833,
          158.628,
          5.346,
          35.705,
          5.199,
          1.793,
          105.23,
          47.63,
          7.031,
          44.393,
          72.556,
          205.061,
          0.213,
          2.959,
          10.768,
          7.523,
          8.508,
          55.163,
          141.824,
          337.048,
          51.459,
          null,
          95.232,
          4.426,
          80.516,
          1700.453,
          1.281,
          0.011,
          0.245,
          0.509,
          null,
          0.059,
          0.242,
          0.238,
          0.132,
          626.191,
          11.33,
          44.32,
          0.601,
          1.037,
          46.02,
          0.689,
          36.103,
          14.527,
          0.289,
          0.638,
          435.237,
          670.169,
          1.499,
          270.052,
          20.995,
          21.864,
          1.869,
          42.095,
          36.874,
          30.23,
          282.843,
          9.108,
          11.787,
          282.105,
          0.634,
          2.208,
          0.136,
          40.328,
          29.997,
          422.569,
          73.252,
          0.363,
          0.007,
          5.631,
          231.675,
          210.218,
          379.73,
          null,
          6.571,
          116.464,
          0.176,
          102.672,
          274.223,
          0.026,
          null,
          10.474,
          7.412,
          11.795
         ],
         "yaxis": "y"
        }
       ],
       "layout": {
        "height": 400,
        "legend": {
         "tracegroupgap": 0
        },
        "margin": {
         "t": 60
        },
        "template": {
         "data": {
          "bar": [
           {
            "error_x": {
             "color": "rgb(36,36,36)"
            },
            "error_y": {
             "color": "rgb(36,36,36)"
            },
            "marker": {
             "line": {
              "color": "white",
              "width": 0.5
             },
             "pattern": {
              "fillmode": "overlay",
              "size": 10,
              "solidity": 0.2
             }
            },
            "type": "bar"
           }
          ],
          "barpolar": [
           {
            "marker": {
             "line": {
              "color": "white",
              "width": 0.5
             },
             "pattern": {
              "fillmode": "overlay",
              "size": 10,
              "solidity": 0.2
             }
            },
            "type": "barpolar"
           }
          ],
          "carpet": [
           {
            "aaxis": {
             "endlinecolor": "rgb(36,36,36)",
             "gridcolor": "white",
             "linecolor": "white",
             "minorgridcolor": "white",
             "startlinecolor": "rgb(36,36,36)"
            },
            "baxis": {
             "endlinecolor": "rgb(36,36,36)",
             "gridcolor": "white",
             "linecolor": "white",
             "minorgridcolor": "white",
             "startlinecolor": "rgb(36,36,36)"
            },
            "type": "carpet"
           }
          ],
          "choropleth": [
           {
            "colorbar": {
             "outlinewidth": 1,
             "tickcolor": "rgb(36,36,36)",
             "ticks": "outside"
            },
            "type": "choropleth"
           }
          ],
          "contour": [
           {
            "colorbar": {
             "outlinewidth": 1,
             "tickcolor": "rgb(36,36,36)",
             "ticks": "outside"
            },
            "colorscale": [
             [
              0,
              "#440154"
             ],
             [
              0.1111111111111111,
              "#482878"
             ],
             [
              0.2222222222222222,
              "#3e4989"
             ],
             [
              0.3333333333333333,
              "#31688e"
             ],
             [
              0.4444444444444444,
              "#26828e"
             ],
             [
              0.5555555555555556,
              "#1f9e89"
             ],
             [
              0.6666666666666666,
              "#35b779"
             ],
             [
              0.7777777777777778,
              "#6ece58"
             ],
             [
              0.8888888888888888,
              "#b5de2b"
             ],
             [
              1,
              "#fde725"
             ]
            ],
            "type": "contour"
           }
          ],
          "contourcarpet": [
           {
            "colorbar": {
             "outlinewidth": 1,
             "tickcolor": "rgb(36,36,36)",
             "ticks": "outside"
            },
            "type": "contourcarpet"
           }
          ],
          "heatmap": [
           {
            "colorbar": {
             "outlinewidth": 1,
             "tickcolor": "rgb(36,36,36)",
             "ticks": "outside"
            },
            "colorscale": [
             [
              0,
              "#440154"
             ],
             [
              0.1111111111111111,
              "#482878"
             ],
             [
              0.2222222222222222,
              "#3e4989"
             ],
             [
              0.3333333333333333,
              "#31688e"
             ],
             [
              0.4444444444444444,
              "#26828e"
             ],
             [
              0.5555555555555556,
              "#1f9e89"
             ],
             [
              0.6666666666666666,
              "#35b779"
             ],
             [
              0.7777777777777778,
              "#6ece58"
             ],
             [
              0.8888888888888888,
              "#b5de2b"
             ],
             [
              1,
              "#fde725"
             ]
            ],
            "type": "heatmap"
           }
          ],
          "heatmapgl": [
           {
            "colorbar": {
             "outlinewidth": 1,
             "tickcolor": "rgb(36,36,36)",
             "ticks": "outside"
            },
            "colorscale": [
             [
              0,
              "#440154"
             ],
             [
              0.1111111111111111,
              "#482878"
             ],
             [
              0.2222222222222222,
              "#3e4989"
             ],
             [
              0.3333333333333333,
              "#31688e"
             ],
             [
              0.4444444444444444,
              "#26828e"
             ],
             [
              0.5555555555555556,
              "#1f9e89"
             ],
             [
              0.6666666666666666,
              "#35b779"
             ],
             [
              0.7777777777777778,
              "#6ece58"
             ],
             [
              0.8888888888888888,
              "#b5de2b"
             ],
             [
              1,
              "#fde725"
             ]
            ],
            "type": "heatmapgl"
           }
          ],
          "histogram": [
           {
            "marker": {
             "line": {
              "color": "white",
              "width": 0.6
             }
            },
            "type": "histogram"
           }
          ],
          "histogram2d": [
           {
            "colorbar": {
             "outlinewidth": 1,
             "tickcolor": "rgb(36,36,36)",
             "ticks": "outside"
            },
            "colorscale": [
             [
              0,
              "#440154"
             ],
             [
              0.1111111111111111,
              "#482878"
             ],
             [
              0.2222222222222222,
              "#3e4989"
             ],
             [
              0.3333333333333333,
              "#31688e"
             ],
             [
              0.4444444444444444,
              "#26828e"
             ],
             [
              0.5555555555555556,
              "#1f9e89"
             ],
             [
              0.6666666666666666,
              "#35b779"
             ],
             [
              0.7777777777777778,
              "#6ece58"
             ],
             [
              0.8888888888888888,
              "#b5de2b"
             ],
             [
              1,
              "#fde725"
             ]
            ],
            "type": "histogram2d"
           }
          ],
          "histogram2dcontour": [
           {
            "colorbar": {
             "outlinewidth": 1,
             "tickcolor": "rgb(36,36,36)",
             "ticks": "outside"
            },
            "colorscale": [
             [
              0,
              "#440154"
             ],
             [
              0.1111111111111111,
              "#482878"
             ],
             [
              0.2222222222222222,
              "#3e4989"
             ],
             [
              0.3333333333333333,
              "#31688e"
             ],
             [
              0.4444444444444444,
              "#26828e"
             ],
             [
              0.5555555555555556,
              "#1f9e89"
             ],
             [
              0.6666666666666666,
              "#35b779"
             ],
             [
              0.7777777777777778,
              "#6ece58"
             ],
             [
              0.8888888888888888,
              "#b5de2b"
             ],
             [
              1,
              "#fde725"
             ]
            ],
            "type": "histogram2dcontour"
           }
          ],
          "mesh3d": [
           {
            "colorbar": {
             "outlinewidth": 1,
             "tickcolor": "rgb(36,36,36)",
             "ticks": "outside"
            },
            "type": "mesh3d"
           }
          ],
          "parcoords": [
           {
            "line": {
             "colorbar": {
              "outlinewidth": 1,
              "tickcolor": "rgb(36,36,36)",
              "ticks": "outside"
             }
            },
            "type": "parcoords"
           }
          ],
          "pie": [
           {
            "automargin": true,
            "type": "pie"
           }
          ],
          "scatter": [
           {
            "fillpattern": {
             "fillmode": "overlay",
             "size": 10,
             "solidity": 0.2
            },
            "type": "scatter"
           }
          ],
          "scatter3d": [
           {
            "line": {
             "colorbar": {
              "outlinewidth": 1,
              "tickcolor": "rgb(36,36,36)",
              "ticks": "outside"
             }
            },
            "marker": {
             "colorbar": {
              "outlinewidth": 1,
              "tickcolor": "rgb(36,36,36)",
              "ticks": "outside"
             }
            },
            "type": "scatter3d"
           }
          ],
          "scattercarpet": [
           {
            "marker": {
             "colorbar": {
              "outlinewidth": 1,
              "tickcolor": "rgb(36,36,36)",
              "ticks": "outside"
             }
            },
            "type": "scattercarpet"
           }
          ],
          "scattergeo": [
           {
            "marker": {
             "colorbar": {
              "outlinewidth": 1,
              "tickcolor": "rgb(36,36,36)",
              "ticks": "outside"
             }
            },
            "type": "scattergeo"
           }
          ],
          "scattergl": [
           {
            "marker": {
             "colorbar": {
              "outlinewidth": 1,
              "tickcolor": "rgb(36,36,36)",
              "ticks": "outside"
             }
            },
            "type": "scattergl"
           }
          ],
          "scattermapbox": [
           {
            "marker": {
             "colorbar": {
              "outlinewidth": 1,
              "tickcolor": "rgb(36,36,36)",
              "ticks": "outside"
             }
            },
            "type": "scattermapbox"
           }
          ],
          "scatterpolar": [
           {
            "marker": {
             "colorbar": {
              "outlinewidth": 1,
              "tickcolor": "rgb(36,36,36)",
              "ticks": "outside"
             }
            },
            "type": "scatterpolar"
           }
          ],
          "scatterpolargl": [
           {
            "marker": {
             "colorbar": {
              "outlinewidth": 1,
              "tickcolor": "rgb(36,36,36)",
              "ticks": "outside"
             }
            },
            "type": "scatterpolargl"
           }
          ],
          "scatterternary": [
           {
            "marker": {
             "colorbar": {
              "outlinewidth": 1,
              "tickcolor": "rgb(36,36,36)",
              "ticks": "outside"
             }
            },
            "type": "scatterternary"
           }
          ],
          "surface": [
           {
            "colorbar": {
             "outlinewidth": 1,
             "tickcolor": "rgb(36,36,36)",
             "ticks": "outside"
            },
            "colorscale": [
             [
              0,
              "#440154"
             ],
             [
              0.1111111111111111,
              "#482878"
             ],
             [
              0.2222222222222222,
              "#3e4989"
             ],
             [
              0.3333333333333333,
              "#31688e"
             ],
             [
              0.4444444444444444,
              "#26828e"
             ],
             [
              0.5555555555555556,
              "#1f9e89"
             ],
             [
              0.6666666666666666,
              "#35b779"
             ],
             [
              0.7777777777777778,
              "#6ece58"
             ],
             [
              0.8888888888888888,
              "#b5de2b"
             ],
             [
              1,
              "#fde725"
             ]
            ],
            "type": "surface"
           }
          ],
          "table": [
           {
            "cells": {
             "fill": {
              "color": "rgb(237,237,237)"
             },
             "line": {
              "color": "white"
             }
            },
            "header": {
             "fill": {
              "color": "rgb(217,217,217)"
             },
             "line": {
              "color": "white"
             }
            },
            "type": "table"
           }
          ]
         },
         "layout": {
          "annotationdefaults": {
           "arrowhead": 0,
           "arrowwidth": 1
          },
          "autotypenumbers": "strict",
          "coloraxis": {
           "colorbar": {
            "outlinewidth": 1,
            "tickcolor": "rgb(36,36,36)",
            "ticks": "outside"
           }
          },
          "colorscale": {
           "diverging": [
            [
             0,
             "rgb(103,0,31)"
            ],
            [
             0.1,
             "rgb(178,24,43)"
            ],
            [
             0.2,
             "rgb(214,96,77)"
            ],
            [
             0.3,
             "rgb(244,165,130)"
            ],
            [
             0.4,
             "rgb(253,219,199)"
            ],
            [
             0.5,
             "rgb(247,247,247)"
            ],
            [
             0.6,
             "rgb(209,229,240)"
            ],
            [
             0.7,
             "rgb(146,197,222)"
            ],
            [
             0.8,
             "rgb(67,147,195)"
            ],
            [
             0.9,
             "rgb(33,102,172)"
            ],
            [
             1,
             "rgb(5,48,97)"
            ]
           ],
           "sequential": [
            [
             0,
             "#440154"
            ],
            [
             0.1111111111111111,
             "#482878"
            ],
            [
             0.2222222222222222,
             "#3e4989"
            ],
            [
             0.3333333333333333,
             "#31688e"
            ],
            [
             0.4444444444444444,
             "#26828e"
            ],
            [
             0.5555555555555556,
             "#1f9e89"
            ],
            [
             0.6666666666666666,
             "#35b779"
            ],
            [
             0.7777777777777778,
             "#6ece58"
            ],
            [
             0.8888888888888888,
             "#b5de2b"
            ],
            [
             1,
             "#fde725"
            ]
           ],
           "sequentialminus": [
            [
             0,
             "#440154"
            ],
            [
             0.1111111111111111,
             "#482878"
            ],
            [
             0.2222222222222222,
             "#3e4989"
            ],
            [
             0.3333333333333333,
             "#31688e"
            ],
            [
             0.4444444444444444,
             "#26828e"
            ],
            [
             0.5555555555555556,
             "#1f9e89"
            ],
            [
             0.6666666666666666,
             "#35b779"
            ],
            [
             0.7777777777777778,
             "#6ece58"
            ],
            [
             0.8888888888888888,
             "#b5de2b"
            ],
            [
             1,
             "#fde725"
            ]
           ]
          },
          "colorway": [
           "#1F77B4",
           "#FF7F0E",
           "#2CA02C",
           "#D62728",
           "#9467BD",
           "#8C564B",
           "#E377C2",
           "#7F7F7F",
           "#BCBD22",
           "#17BECF"
          ],
          "font": {
           "color": "rgb(36,36,36)"
          },
          "geo": {
           "bgcolor": "white",
           "lakecolor": "white",
           "landcolor": "white",
           "showlakes": true,
           "showland": true,
           "subunitcolor": "white"
          },
          "hoverlabel": {
           "align": "left"
          },
          "hovermode": "closest",
          "mapbox": {
           "style": "light"
          },
          "paper_bgcolor": "white",
          "plot_bgcolor": "white",
          "polar": {
           "angularaxis": {
            "gridcolor": "rgb(232,232,232)",
            "linecolor": "rgb(36,36,36)",
            "showgrid": false,
            "showline": true,
            "ticks": "outside"
           },
           "bgcolor": "white",
           "radialaxis": {
            "gridcolor": "rgb(232,232,232)",
            "linecolor": "rgb(36,36,36)",
            "showgrid": false,
            "showline": true,
            "ticks": "outside"
           }
          },
          "scene": {
           "xaxis": {
            "backgroundcolor": "white",
            "gridcolor": "rgb(232,232,232)",
            "gridwidth": 2,
            "linecolor": "rgb(36,36,36)",
            "showbackground": true,
            "showgrid": false,
            "showline": true,
            "ticks": "outside",
            "zeroline": false,
            "zerolinecolor": "rgb(36,36,36)"
           },
           "yaxis": {
            "backgroundcolor": "white",
            "gridcolor": "rgb(232,232,232)",
            "gridwidth": 2,
            "linecolor": "rgb(36,36,36)",
            "showbackground": true,
            "showgrid": false,
            "showline": true,
            "ticks": "outside",
            "zeroline": false,
            "zerolinecolor": "rgb(36,36,36)"
           },
           "zaxis": {
            "backgroundcolor": "white",
            "gridcolor": "rgb(232,232,232)",
            "gridwidth": 2,
            "linecolor": "rgb(36,36,36)",
            "showbackground": true,
            "showgrid": false,
            "showline": true,
            "ticks": "outside",
            "zeroline": false,
            "zerolinecolor": "rgb(36,36,36)"
           }
          },
          "shapedefaults": {
           "fillcolor": "black",
           "line": {
            "width": 0
           },
           "opacity": 0.3
          },
          "ternary": {
           "aaxis": {
            "gridcolor": "rgb(232,232,232)",
            "linecolor": "rgb(36,36,36)",
            "showgrid": false,
            "showline": true,
            "ticks": "outside"
           },
           "baxis": {
            "gridcolor": "rgb(232,232,232)",
            "linecolor": "rgb(36,36,36)",
            "showgrid": false,
            "showline": true,
            "ticks": "outside"
           },
           "bgcolor": "white",
           "caxis": {
            "gridcolor": "rgb(232,232,232)",
            "linecolor": "rgb(36,36,36)",
            "showgrid": false,
            "showline": true,
            "ticks": "outside"
           }
          },
          "title": {
           "x": 0.05
          },
          "xaxis": {
           "automargin": true,
           "gridcolor": "rgb(232,232,232)",
           "linecolor": "rgb(36,36,36)",
           "showgrid": false,
           "showline": true,
           "ticks": "outside",
           "title": {
            "standoff": 15
           },
           "zeroline": false,
           "zerolinecolor": "rgb(36,36,36)"
          },
          "yaxis": {
           "automargin": true,
           "gridcolor": "rgb(232,232,232)",
           "linecolor": "rgb(36,36,36)",
           "showgrid": false,
           "showline": true,
           "ticks": "outside",
           "title": {
            "standoff": 15
           },
           "zeroline": false,
           "zerolinecolor": "rgb(36,36,36)"
          }
         }
        },
        "title": {
         "font": {
          "color": "#000000",
          "family": "Arial",
          "size": 18
         },
         "text": "Y con la poblacion?",
         "x": 0.2,
         "xanchor": "right",
         "y": 0.95,
         "yanchor": "top"
        },
        "width": 900,
        "xaxis": {
         "anchor": "y",
         "domain": [
          0,
          1
         ],
         "title": {
          "text": "Población (millones)"
         }
        },
        "yaxis": {
         "anchor": "x",
         "domain": [
          0,
          1
         ],
         "title": {
          "text": "Emisiones de CO2 (kt)"
         }
        }
       }
      }
     },
     "metadata": {},
     "output_type": "display_data"
    }
   ],
   "source": [
    "subset_0515 = graficos_df.loc['2018-01-01']\n",
    "subset_0515['population_M'] = subset_0515['population'] / 1000000\n",
    "subset_0515['gdp_pc'] = subset_0515['gdp'] / subset_0515['population']\n",
    "subset_0515['co2_pc'] = subset_0515['co2'] / subset_0515['population']\n",
    "\n",
    "# Grafico 1: GDP vs CO2\n",
    "q_low = subset_0515[\"co2_pc\"].quantile(0.01)\n",
    "q_hi  = subset_0515[\"co2_pc\"].quantile(0.99)\n",
    "graf1 = subset_0515[(subset_0515[\"co2_pc\"] < q_hi) & (subset_0515[\"co2_pc\"] > q_low)]\n",
    "\n",
    "# Grafico 1: GDP vs CO2\n",
    "fig1 = px.scatter(graf1, x=\"gdp_pc\", y=\"co2_pc\",\n",
    "                  labels={\"co2_pc\": \"Emisiones de CO2 per capita\", \"gdp_pc\": \"PIB per cápita ($)\"},\n",
    "                  template=\"simple_white\")\n",
    "\n",
    "# estilo de la figura\n",
    "fig1.update_traces(marker=dict(size=10, opacity=0.5),\n",
    "                   selector=dict(mode='markers'))\n",
    "\n",
    "# gráfico 2: Poblacion y CO2\n",
    "q_low = subset_0515[\"population_M\"].quantile(0.01)\n",
    "q_hi  = subset_0515[\"population_M\"].quantile(0.99)\n",
    "graf2 = subset_0515[(subset_0515[\"population_M\"] < q_hi) & (subset_0515[\"population_M\"] > q_low)]\n",
    "\n",
    "fig2 = px.scatter(graf2, x=\"population_M\", y=\"co2\",\n",
    "                  labels={\"co2\": \"Emisiones de CO2 (kt)\", \"population_M\": \"Población (millones)\"},\n",
    "                  template=\"simple_white\")\n",
    "\n",
    "# estilo de la figura\n",
    "fig2.update_traces(marker=dict(size=10, opacity=0.5),\n",
    "                   selector=dict(mode='markers'))\n",
    "\n",
    "fig1.update_layout(\n",
    "    height=400,\n",
    "    width=900,\n",
    "    title={\n",
    "    'text': \"Como se relaciona el nivel de GDP per capita con las emisiones de CO2?\",\n",
    "    'y':0.95,\n",
    "    'x':0.70,\n",
    "    'xanchor': 'right',\n",
    "    'yanchor': 'top',\n",
    "    'font': {'size': 18, 'color': '#000000', 'family': 'Arial'}\n",
    "})\n",
    "\n",
    "fig2.update_layout(\n",
    "    height=400,\n",
    "    width=900,\n",
    "    title={\n",
    "    'text': \"Y con la poblacion?\",\n",
    "    'y':0.95,\n",
    "    'x':0.20,\n",
    "    'xanchor': 'right',\n",
    "    'yanchor': 'top',\n",
    "    'font': {'size': 18, 'color': '#000000', 'family': 'Arial'}\n",
    "})\n",
    "\n",
    "\n",
    "# Mostrar la figura\n",
    "fig1.show()\n",
    "fig2.show()\n"
   ]
  },
  {
   "attachments": {},
   "cell_type": "markdown",
   "id": "6a8d73dd",
   "metadata": {},
   "source": [
    "**Como ingresa argentina en este contexto?**"
   ]
  },
  {
   "attachments": {},
   "cell_type": "markdown",
   "id": "ee2ad6d6",
   "metadata": {},
   "source": [
    "Argentina es un pais de ingreso per capita elevado, decil 9, pero dentro de su decil se encuentra por debajo del promedio de emisiones per capita."
   ]
  },
  {
   "cell_type": "code",
   "execution_count": 138,
   "id": "a8380f94",
   "metadata": {},
   "outputs": [
    {
     "name": "stderr",
     "output_type": "stream",
     "text": [
      "C:\\Users\\Bruno\\AppData\\Local\\Temp\\ipykernel_10828\\1465751769.py:2: SettingWithCopyWarning:\n",
      "\n",
      "\n",
      "A value is trying to be set on a copy of a slice from a DataFrame.\n",
      "Try using .loc[row_indexer,col_indexer] = value instead\n",
      "\n",
      "See the caveats in the documentation: https://pandas.pydata.org/pandas-docs/stable/user_guide/indexing.html#returning-a-view-versus-a-copy\n",
      "\n"
     ]
    },
    {
     "data": {
      "application/vnd.plotly.v1+json": {
       "config": {
        "plotlyServerURL": "https://plot.ly"
       },
       "data": [
        {
         "alignmentgroup": "True",
         "hovertemplate": "Deciles de GDP=%{x}<br>CO2 per capita=%{y}<extra></extra>",
         "legendgroup": "",
         "marker": {
          "color": "#636efa"
         },
         "name": "",
         "notched": false,
         "offsetgroup": "",
         "orientation": "v",
         "showlegend": false,
         "type": "box",
         "x": [
          4,
          null,
          2,
          7,
          null,
          null,
          6,
          null,
          null,
          8,
          2,
          null,
          8,
          7,
          5,
          null,
          3,
          8,
          0,
          6,
          7,
          null,
          1,
          null,
          null,
          4,
          null,
          3,
          2,
          9,
          null,
          null,
          5,
          2,
          0,
          3,
          4,
          9,
          0,
          0,
          2,
          7,
          9,
          7,
          0,
          2,
          null,
          4,
          5,
          4,
          4,
          null,
          2,
          6,
          4,
          6,
          0,
          0,
          5,
          5,
          8,
          3,
          1,
          null,
          2,
          0,
          6,
          null,
          null,
          null,
          6,
          9,
          null,
          null,
          3,
          0,
          3,
          9,
          5,
          6,
          null,
          null,
          null,
          5,
          null,
          1,
          0,
          null,
          1,
          3,
          7,
          6,
          1,
          9,
          9,
          8,
          7,
          6,
          null,
          6,
          9,
          1,
          9,
          null,
          5,
          7,
          5,
          null,
          6,
          2,
          3,
          3,
          4,
          0,
          0,
          4,
          null,
          4,
          2,
          null,
          2,
          1,
          8,
          null,
          2,
          1,
          null,
          null,
          1,
          2,
          null,
          9,
          null,
          1,
          3,
          1,
          null,
          6,
          2,
          6,
          1,
          null,
          4,
          8,
          null,
          null,
          5,
          2,
          1,
          8,
          null,
          3,
          2,
          7,
          5,
          8,
          null,
          1,
          4,
          null,
          4,
          7,
          8,
          8,
          6,
          5,
          7,
          null,
          7,
          9,
          1,
          null,
          null,
          0,
          null,
          null,
          null,
          null,
          0,
          9,
          3,
          4,
          0,
          0,
          7,
          null,
          5,
          3,
          null,
          null,
          8,
          9,
          null,
          9,
          6,
          null,
          null,
          null,
          7,
          7,
          3,
          8,
          3,
          5,
          8,
          null,
          0,
          null,
          2,
          5,
          9,
          5,
          null,
          null,
          4,
          7,
          8,
          9,
          9,
          null,
          4,
          7,
          null,
          6,
          8,
          null,
          null,
          4,
          3,
          1
         ],
         "x0": " ",
         "xaxis": "x",
         "y": [
          2.9487454720756693e-7,
          null,
          0.000001732348656717248,
          0.000004147970682763721,
          null,
          0.000006597009355758723,
          7.283793730021848e-7,
          0.00000940727583711598,
          0.000005434070970276287,
          0.00000406630024430359,
          0.0000020538940964822566,
          0.00000822796754104548,
          0.000016665206787015195,
          0.000007528631240839055,
          0.000003405655578849161,
          0.000006717905207869404,
          0.00002204396287077788,
          5.039834326580776e-7,
          0.000004601325696634275,
          0.000006404366198882727,
          0.0000087236882629646,
          0.000001583454600655367,
          6.225771915320122e-7,
          0.00001105502350961614,
          0.0000017700996189496447,
          0.000002050417225744742,
          0.000003960792158431687,
          0.00000649239500113525,
          0.0000030610942024817544,
          0.000002270113415551792,
          0.000005303204980401199,
          0.000021515923948208886,
          0.000006128059814899323,
          2.4263548823526816e-7,
          5.951202229856312e-8,
          8.978335553372611e-7,
          3.841805350230365e-7,
          0.000015778720062988622,
          0.0000010206421817583406,
          4.318132525449994e-8,
          1.2861911074912912e-7,
          0.000004516708114428762,
          0.00000730654173164584,
          0.0000016727287279525803,
          3.7742070944788374e-7,
          0.0000012122635640364995,
          0.000004688585320676083,
          0.0000016324990507342376,
          4.060564862542113e-7,
          0.000004260077183253503,
          0.00000199775022481421,
          0.000021539077809174273,
          0.000006024610406339174,
          0.000010094167807827123,
          2.8385292964241237e-8,
          0.000006021652979725454,
          3.6416812649214344e-7,
          0.0000022727272727272728,
          0.0000023924502755646446,
          0.0000022476338283906742,
          0.000002351129692812762,
          0.0000010212958507665295,
          0.000003999728380629278,
          2.409023097597362e-7,
          0.000013565067700541392,
          8.901872581715397e-7,
          1.422485346817189e-7,
          0.000014221821177762956,
          null,
          0.0000014755136550301306,
          0.00000830319837040032,
          0.000005017703465077498,
          0.0000025410342696243387,
          0.000002943400030240411,
          0.000002733560430526644,
          2.4295313213214685e-7,
          0.000002667587054448943,
          0.000009100579834930937,
          5.540861986440971e-7,
          0.000006750695340805161,
          0.000009793759159309434,
          0.0000025276357578393637,
          0.0000062381237177400425,
          0.0000011092465740417192,
          null,
          2.9359122845627005e-7,
          1.6156230226800224e-7,
          0.000003158425395726132,
          3.06108726078275e-7,
          0.00000100695874767458,
          0.000005694131025829763,
          0.000005059449011753965,
          0.000010366878121892273,
          0.0000018995184806221179,
          0.000002260321730385645,
          0.000008186848585734048,
          0.000005258125629762483,
          0.000008069490450523798,
          null,
          0.0000071255356982160556,
          0.0000058286567800703276,
          0.000002875695007045204,
          0.000009056307495939674,
          null,
          0.00000238626429559696,
          0.000017899407166861763,
          3.63719714213075e-7,
          5.397625044980209e-7,
          0.000022478741959469006,
          0.0000017843648504708684,
          0.000002893452055226398,
          0.000004060172594790745,
          0.000004403242431911316,
          0.0000010786931934504988,
          2.2129522746776905e-7,
          0.000008338645072062375,
          0.0000037429655804214104,
          0.000004760219294829716,
          0.000015737268061587052,
          0.000001907845823937474,
          1.4236469319849885e-7,
          8.547526917360006e-8,
          0.000008243611661620771,
          0.000003552666235174254,
          1.8435557118021276e-7,
          0.0000031469313859110235,
          0.0000031948187429366252,
          0.000006045197589390758,
          8.579355644497166e-7,
          0.000003484675610204217,
          0.0000010425207090554409,
          0.000003832386030645735,
          0.0000012889269457839469,
          0.0000017330614331288142,
          0.000014322403898363905,
          0.000003800721820419061,
          0.000006619493266377539,
          0.0000017538089747145335,
          2.4062086709020924e-7,
          6.604448682809044e-7,
          0.0000017271609464592578,
          0.000004602895639802494,
          5.203334877063013e-7,
          0.000009176652469084593,
          null,
          0.000018765335027572336,
          0.000007379310401841221,
          7.910552180582737e-7,
          7.941689484813346e-8,
          5.304262540258562e-7,
          0.000005768222338751966,
          0.0000018577782049189818,
          0.000003326713972151368,
          0.00000835661098039821,
          0.00001576906693094785,
          9.332344757070048e-7,
          0.000011908089674064962,
          6.157465047177752e-7,
          0.0000025851940023883276,
          8.06389978683135e-7,
          0.0000013204338062715017,
          0.0000017129267326432605,
          0.0000013063049255241138,
          0.000008749615539014821,
          0.000005000955797824902,
          null,
          0.000034420255151996407,
          0.000004702562397138088,
          0.000004106539075415655,
          0.00001167474279566415,
          1.0221987087260339e-7,
          0.000002002184200946487,
          0.000005126917362462594,
          0.000002861254454900109,
          null,
          0.000009884402747528899,
          0.0000022982611090534392,
          0.0000011348735188231646,
          6.245327832398112e-7,
          0.000017881907578622414,
          7.274520366409822e-7,
          0.000005961937495165679,
          0.000005828161365399534,
          1.3191224286812068e-7,
          0.000007914637487417327,
          0.00001630074761048547,
          0.000006628361227051895,
          0.000006898136738573106,
          4.3837095890992764e-7,
          4.139872939642664e-8,
          0.00000759050912639272,
          0.000012968444314577692,
          1.4419933870317948e-7,
          0.000005771323005252774,
          9.728594682140238e-7,
          5.205830301361002e-7,
          0.0000031479008099654895,
          null,
          0.000004142270942601576,
          0.000004330765027046435,
          0.0000015636101218074527,
          0.000011921132203886457,
          9.977946197310272e-7,
          2.0290772781836546e-7,
          0.000003966170305712219,
          5.024368982050165e-7,
          2.7439888252049295e-7,
          0.0000012931813211368586,
          0.000026801231070234937,
          0.0000025137768749622897,
          0.0000051029169379324814,
          0.00001207768019901495,
          0.000008743616918778302,
          6.432049986217036e-7,
          1.3563641443897928e-7,
          0.000005212393416763427,
          0.000022999348371124745,
          0.000005715984869928191,
          0.000016187922207462182,
          null,
          0.0000019173958665252037,
          0.0000035890759503867814,
          5.919806799032649e-7,
          0.0000034424058860473528,
          0.00000288916337267857,
          0.0000021959459459459458,
          null,
          3.401697029156447e-7,
          4.155664043380378e-7,
          7.836068516536895e-7
         ],
         "y0": " ",
         "yaxis": "y"
        },
        {
         "boxpoints": "all",
         "jitter": 0.3,
         "marker": {
          "color": "red"
         },
         "name": "Argentina",
         "pointpos": -1.8,
         "showlegend": false,
         "type": "box",
         "x": [
          9
         ],
         "y": [
          0.00000406630024430359
         ]
        }
       ],
       "layout": {
        "boxmode": "group",
        "legend": {
         "tracegroupgap": 0
        },
        "template": {
         "data": {
          "bar": [
           {
            "error_x": {
             "color": "rgb(36,36,36)"
            },
            "error_y": {
             "color": "rgb(36,36,36)"
            },
            "marker": {
             "line": {
              "color": "white",
              "width": 0.5
             },
             "pattern": {
              "fillmode": "overlay",
              "size": 10,
              "solidity": 0.2
             }
            },
            "type": "bar"
           }
          ],
          "barpolar": [
           {
            "marker": {
             "line": {
              "color": "white",
              "width": 0.5
             },
             "pattern": {
              "fillmode": "overlay",
              "size": 10,
              "solidity": 0.2
             }
            },
            "type": "barpolar"
           }
          ],
          "carpet": [
           {
            "aaxis": {
             "endlinecolor": "rgb(36,36,36)",
             "gridcolor": "white",
             "linecolor": "white",
             "minorgridcolor": "white",
             "startlinecolor": "rgb(36,36,36)"
            },
            "baxis": {
             "endlinecolor": "rgb(36,36,36)",
             "gridcolor": "white",
             "linecolor": "white",
             "minorgridcolor": "white",
             "startlinecolor": "rgb(36,36,36)"
            },
            "type": "carpet"
           }
          ],
          "choropleth": [
           {
            "colorbar": {
             "outlinewidth": 1,
             "tickcolor": "rgb(36,36,36)",
             "ticks": "outside"
            },
            "type": "choropleth"
           }
          ],
          "contour": [
           {
            "colorbar": {
             "outlinewidth": 1,
             "tickcolor": "rgb(36,36,36)",
             "ticks": "outside"
            },
            "colorscale": [
             [
              0,
              "#440154"
             ],
             [
              0.1111111111111111,
              "#482878"
             ],
             [
              0.2222222222222222,
              "#3e4989"
             ],
             [
              0.3333333333333333,
              "#31688e"
             ],
             [
              0.4444444444444444,
              "#26828e"
             ],
             [
              0.5555555555555556,
              "#1f9e89"
             ],
             [
              0.6666666666666666,
              "#35b779"
             ],
             [
              0.7777777777777778,
              "#6ece58"
             ],
             [
              0.8888888888888888,
              "#b5de2b"
             ],
             [
              1,
              "#fde725"
             ]
            ],
            "type": "contour"
           }
          ],
          "contourcarpet": [
           {
            "colorbar": {
             "outlinewidth": 1,
             "tickcolor": "rgb(36,36,36)",
             "ticks": "outside"
            },
            "type": "contourcarpet"
           }
          ],
          "heatmap": [
           {
            "colorbar": {
             "outlinewidth": 1,
             "tickcolor": "rgb(36,36,36)",
             "ticks": "outside"
            },
            "colorscale": [
             [
              0,
              "#440154"
             ],
             [
              0.1111111111111111,
              "#482878"
             ],
             [
              0.2222222222222222,
              "#3e4989"
             ],
             [
              0.3333333333333333,
              "#31688e"
             ],
             [
              0.4444444444444444,
              "#26828e"
             ],
             [
              0.5555555555555556,
              "#1f9e89"
             ],
             [
              0.6666666666666666,
              "#35b779"
             ],
             [
              0.7777777777777778,
              "#6ece58"
             ],
             [
              0.8888888888888888,
              "#b5de2b"
             ],
             [
              1,
              "#fde725"
             ]
            ],
            "type": "heatmap"
           }
          ],
          "heatmapgl": [
           {
            "colorbar": {
             "outlinewidth": 1,
             "tickcolor": "rgb(36,36,36)",
             "ticks": "outside"
            },
            "colorscale": [
             [
              0,
              "#440154"
             ],
             [
              0.1111111111111111,
              "#482878"
             ],
             [
              0.2222222222222222,
              "#3e4989"
             ],
             [
              0.3333333333333333,
              "#31688e"
             ],
             [
              0.4444444444444444,
              "#26828e"
             ],
             [
              0.5555555555555556,
              "#1f9e89"
             ],
             [
              0.6666666666666666,
              "#35b779"
             ],
             [
              0.7777777777777778,
              "#6ece58"
             ],
             [
              0.8888888888888888,
              "#b5de2b"
             ],
             [
              1,
              "#fde725"
             ]
            ],
            "type": "heatmapgl"
           }
          ],
          "histogram": [
           {
            "marker": {
             "line": {
              "color": "white",
              "width": 0.6
             }
            },
            "type": "histogram"
           }
          ],
          "histogram2d": [
           {
            "colorbar": {
             "outlinewidth": 1,
             "tickcolor": "rgb(36,36,36)",
             "ticks": "outside"
            },
            "colorscale": [
             [
              0,
              "#440154"
             ],
             [
              0.1111111111111111,
              "#482878"
             ],
             [
              0.2222222222222222,
              "#3e4989"
             ],
             [
              0.3333333333333333,
              "#31688e"
             ],
             [
              0.4444444444444444,
              "#26828e"
             ],
             [
              0.5555555555555556,
              "#1f9e89"
             ],
             [
              0.6666666666666666,
              "#35b779"
             ],
             [
              0.7777777777777778,
              "#6ece58"
             ],
             [
              0.8888888888888888,
              "#b5de2b"
             ],
             [
              1,
              "#fde725"
             ]
            ],
            "type": "histogram2d"
           }
          ],
          "histogram2dcontour": [
           {
            "colorbar": {
             "outlinewidth": 1,
             "tickcolor": "rgb(36,36,36)",
             "ticks": "outside"
            },
            "colorscale": [
             [
              0,
              "#440154"
             ],
             [
              0.1111111111111111,
              "#482878"
             ],
             [
              0.2222222222222222,
              "#3e4989"
             ],
             [
              0.3333333333333333,
              "#31688e"
             ],
             [
              0.4444444444444444,
              "#26828e"
             ],
             [
              0.5555555555555556,
              "#1f9e89"
             ],
             [
              0.6666666666666666,
              "#35b779"
             ],
             [
              0.7777777777777778,
              "#6ece58"
             ],
             [
              0.8888888888888888,
              "#b5de2b"
             ],
             [
              1,
              "#fde725"
             ]
            ],
            "type": "histogram2dcontour"
           }
          ],
          "mesh3d": [
           {
            "colorbar": {
             "outlinewidth": 1,
             "tickcolor": "rgb(36,36,36)",
             "ticks": "outside"
            },
            "type": "mesh3d"
           }
          ],
          "parcoords": [
           {
            "line": {
             "colorbar": {
              "outlinewidth": 1,
              "tickcolor": "rgb(36,36,36)",
              "ticks": "outside"
             }
            },
            "type": "parcoords"
           }
          ],
          "pie": [
           {
            "automargin": true,
            "type": "pie"
           }
          ],
          "scatter": [
           {
            "fillpattern": {
             "fillmode": "overlay",
             "size": 10,
             "solidity": 0.2
            },
            "type": "scatter"
           }
          ],
          "scatter3d": [
           {
            "line": {
             "colorbar": {
              "outlinewidth": 1,
              "tickcolor": "rgb(36,36,36)",
              "ticks": "outside"
             }
            },
            "marker": {
             "colorbar": {
              "outlinewidth": 1,
              "tickcolor": "rgb(36,36,36)",
              "ticks": "outside"
             }
            },
            "type": "scatter3d"
           }
          ],
          "scattercarpet": [
           {
            "marker": {
             "colorbar": {
              "outlinewidth": 1,
              "tickcolor": "rgb(36,36,36)",
              "ticks": "outside"
             }
            },
            "type": "scattercarpet"
           }
          ],
          "scattergeo": [
           {
            "marker": {
             "colorbar": {
              "outlinewidth": 1,
              "tickcolor": "rgb(36,36,36)",
              "ticks": "outside"
             }
            },
            "type": "scattergeo"
           }
          ],
          "scattergl": [
           {
            "marker": {
             "colorbar": {
              "outlinewidth": 1,
              "tickcolor": "rgb(36,36,36)",
              "ticks": "outside"
             }
            },
            "type": "scattergl"
           }
          ],
          "scattermapbox": [
           {
            "marker": {
             "colorbar": {
              "outlinewidth": 1,
              "tickcolor": "rgb(36,36,36)",
              "ticks": "outside"
             }
            },
            "type": "scattermapbox"
           }
          ],
          "scatterpolar": [
           {
            "marker": {
             "colorbar": {
              "outlinewidth": 1,
              "tickcolor": "rgb(36,36,36)",
              "ticks": "outside"
             }
            },
            "type": "scatterpolar"
           }
          ],
          "scatterpolargl": [
           {
            "marker": {
             "colorbar": {
              "outlinewidth": 1,
              "tickcolor": "rgb(36,36,36)",
              "ticks": "outside"
             }
            },
            "type": "scatterpolargl"
           }
          ],
          "scatterternary": [
           {
            "marker": {
             "colorbar": {
              "outlinewidth": 1,
              "tickcolor": "rgb(36,36,36)",
              "ticks": "outside"
             }
            },
            "type": "scatterternary"
           }
          ],
          "surface": [
           {
            "colorbar": {
             "outlinewidth": 1,
             "tickcolor": "rgb(36,36,36)",
             "ticks": "outside"
            },
            "colorscale": [
             [
              0,
              "#440154"
             ],
             [
              0.1111111111111111,
              "#482878"
             ],
             [
              0.2222222222222222,
              "#3e4989"
             ],
             [
              0.3333333333333333,
              "#31688e"
             ],
             [
              0.4444444444444444,
              "#26828e"
             ],
             [
              0.5555555555555556,
              "#1f9e89"
             ],
             [
              0.6666666666666666,
              "#35b779"
             ],
             [
              0.7777777777777778,
              "#6ece58"
             ],
             [
              0.8888888888888888,
              "#b5de2b"
             ],
             [
              1,
              "#fde725"
             ]
            ],
            "type": "surface"
           }
          ],
          "table": [
           {
            "cells": {
             "fill": {
              "color": "rgb(237,237,237)"
             },
             "line": {
              "color": "white"
             }
            },
            "header": {
             "fill": {
              "color": "rgb(217,217,217)"
             },
             "line": {
              "color": "white"
             }
            },
            "type": "table"
           }
          ]
         },
         "layout": {
          "annotationdefaults": {
           "arrowhead": 0,
           "arrowwidth": 1
          },
          "autotypenumbers": "strict",
          "coloraxis": {
           "colorbar": {
            "outlinewidth": 1,
            "tickcolor": "rgb(36,36,36)",
            "ticks": "outside"
           }
          },
          "colorscale": {
           "diverging": [
            [
             0,
             "rgb(103,0,31)"
            ],
            [
             0.1,
             "rgb(178,24,43)"
            ],
            [
             0.2,
             "rgb(214,96,77)"
            ],
            [
             0.3,
             "rgb(244,165,130)"
            ],
            [
             0.4,
             "rgb(253,219,199)"
            ],
            [
             0.5,
             "rgb(247,247,247)"
            ],
            [
             0.6,
             "rgb(209,229,240)"
            ],
            [
             0.7,
             "rgb(146,197,222)"
            ],
            [
             0.8,
             "rgb(67,147,195)"
            ],
            [
             0.9,
             "rgb(33,102,172)"
            ],
            [
             1,
             "rgb(5,48,97)"
            ]
           ],
           "sequential": [
            [
             0,
             "#440154"
            ],
            [
             0.1111111111111111,
             "#482878"
            ],
            [
             0.2222222222222222,
             "#3e4989"
            ],
            [
             0.3333333333333333,
             "#31688e"
            ],
            [
             0.4444444444444444,
             "#26828e"
            ],
            [
             0.5555555555555556,
             "#1f9e89"
            ],
            [
             0.6666666666666666,
             "#35b779"
            ],
            [
             0.7777777777777778,
             "#6ece58"
            ],
            [
             0.8888888888888888,
             "#b5de2b"
            ],
            [
             1,
             "#fde725"
            ]
           ],
           "sequentialminus": [
            [
             0,
             "#440154"
            ],
            [
             0.1111111111111111,
             "#482878"
            ],
            [
             0.2222222222222222,
             "#3e4989"
            ],
            [
             0.3333333333333333,
             "#31688e"
            ],
            [
             0.4444444444444444,
             "#26828e"
            ],
            [
             0.5555555555555556,
             "#1f9e89"
            ],
            [
             0.6666666666666666,
             "#35b779"
            ],
            [
             0.7777777777777778,
             "#6ece58"
            ],
            [
             0.8888888888888888,
             "#b5de2b"
            ],
            [
             1,
             "#fde725"
            ]
           ]
          },
          "colorway": [
           "#1F77B4",
           "#FF7F0E",
           "#2CA02C",
           "#D62728",
           "#9467BD",
           "#8C564B",
           "#E377C2",
           "#7F7F7F",
           "#BCBD22",
           "#17BECF"
          ],
          "font": {
           "color": "rgb(36,36,36)"
          },
          "geo": {
           "bgcolor": "white",
           "lakecolor": "white",
           "landcolor": "white",
           "showlakes": true,
           "showland": true,
           "subunitcolor": "white"
          },
          "hoverlabel": {
           "align": "left"
          },
          "hovermode": "closest",
          "mapbox": {
           "style": "light"
          },
          "paper_bgcolor": "white",
          "plot_bgcolor": "white",
          "polar": {
           "angularaxis": {
            "gridcolor": "rgb(232,232,232)",
            "linecolor": "rgb(36,36,36)",
            "showgrid": false,
            "showline": true,
            "ticks": "outside"
           },
           "bgcolor": "white",
           "radialaxis": {
            "gridcolor": "rgb(232,232,232)",
            "linecolor": "rgb(36,36,36)",
            "showgrid": false,
            "showline": true,
            "ticks": "outside"
           }
          },
          "scene": {
           "xaxis": {
            "backgroundcolor": "white",
            "gridcolor": "rgb(232,232,232)",
            "gridwidth": 2,
            "linecolor": "rgb(36,36,36)",
            "showbackground": true,
            "showgrid": false,
            "showline": true,
            "ticks": "outside",
            "zeroline": false,
            "zerolinecolor": "rgb(36,36,36)"
           },
           "yaxis": {
            "backgroundcolor": "white",
            "gridcolor": "rgb(232,232,232)",
            "gridwidth": 2,
            "linecolor": "rgb(36,36,36)",
            "showbackground": true,
            "showgrid": false,
            "showline": true,
            "ticks": "outside",
            "zeroline": false,
            "zerolinecolor": "rgb(36,36,36)"
           },
           "zaxis": {
            "backgroundcolor": "white",
            "gridcolor": "rgb(232,232,232)",
            "gridwidth": 2,
            "linecolor": "rgb(36,36,36)",
            "showbackground": true,
            "showgrid": false,
            "showline": true,
            "ticks": "outside",
            "zeroline": false,
            "zerolinecolor": "rgb(36,36,36)"
           }
          },
          "shapedefaults": {
           "fillcolor": "black",
           "line": {
            "width": 0
           },
           "opacity": 0.3
          },
          "ternary": {
           "aaxis": {
            "gridcolor": "rgb(232,232,232)",
            "linecolor": "rgb(36,36,36)",
            "showgrid": false,
            "showline": true,
            "ticks": "outside"
           },
           "baxis": {
            "gridcolor": "rgb(232,232,232)",
            "linecolor": "rgb(36,36,36)",
            "showgrid": false,
            "showline": true,
            "ticks": "outside"
           },
           "bgcolor": "white",
           "caxis": {
            "gridcolor": "rgb(232,232,232)",
            "linecolor": "rgb(36,36,36)",
            "showgrid": false,
            "showline": true,
            "ticks": "outside"
           }
          },
          "title": {
           "x": 0.05
          },
          "xaxis": {
           "automargin": true,
           "gridcolor": "rgb(232,232,232)",
           "linecolor": "rgb(36,36,36)",
           "showgrid": false,
           "showline": true,
           "ticks": "outside",
           "title": {
            "standoff": 15
           },
           "zeroline": false,
           "zerolinecolor": "rgb(36,36,36)"
          },
          "yaxis": {
           "automargin": true,
           "gridcolor": "rgb(232,232,232)",
           "linecolor": "rgb(36,36,36)",
           "showgrid": false,
           "showline": true,
           "ticks": "outside",
           "title": {
            "standoff": 15
           },
           "zeroline": false,
           "zerolinecolor": "rgb(36,36,36)"
          }
         }
        },
        "title": {
         "text": "CO2 per capita según deciles de GDP"
        },
        "xaxis": {
         "anchor": "y",
         "domain": [
          0,
          1
         ],
         "title": {
          "text": "Deciles de GDP"
         }
        },
        "yaxis": {
         "anchor": "x",
         "domain": [
          0,
          1
         ],
         "title": {
          "text": "CO2 per capita"
         }
        }
       }
      }
     },
     "metadata": {},
     "output_type": "display_data"
    }
   ],
   "source": [
    "# deciles según la variable GDP\n",
    "subset_0515['gdp_deciles'] = pd.qcut(subset_0515['gdp'], 10, labels=False)\n",
    "\n",
    "# gráfico de cajas y bigotes con Plotly\n",
    "fig = px.box(subset_0515, x='gdp_deciles', y='co2_pc', \n",
    "             title='CO2 per capita según deciles de GDP',\n",
    "             labels={'gdp_deciles': 'Deciles de GDP', 'co2_pc': 'CO2 per capita'})\n",
    "\n",
    "fig.update_layout(template='simple_white')\n",
    "\n",
    "# trazo adicional para Argentina\n",
    "fig.add_trace(go.Box(\n",
    "    x=[9],  # Decil correspondiente a Argentina\n",
    "    y=subset_0515[subset_0515['country'] == 'Argentina']['co2_pc'],  # Emisiones de CO2 per capita de Argentina\n",
    "    name='Argentina',\n",
    "    marker=dict(color='red'),\n",
    "    boxpoints='all',\n",
    "    jitter=0.3,\n",
    "    pointpos=-1.8,\n",
    "    showlegend=False\n",
    "))\n",
    "\n",
    "fig.show()\n"
   ]
  },
  {
   "cell_type": "code",
   "execution_count": 139,
   "id": "06fe2c47",
   "metadata": {},
   "outputs": [],
   "source": [
    "#Sub dataset para argentina\n",
    "grafico3=graficos_df.copy()\n",
    "grafico3=grafico3[grafico3['country_2']==\"ARG\"]\n",
    "grafico3 = grafico3.loc['1920-01-01':]\n",
    "grafico3=grafico3.reset_index()"
   ]
  },
  {
   "attachments": {},
   "cell_type": "markdown",
   "id": "7819ae09",
   "metadata": {},
   "source": [
    "**Como evolucionaron en el tiempo las emisiones de co2 de Argentina?**\n",
    " \n",
    " Al analizar los datos, se observa que las emisiones de CO2 han experimentado un crecimiento constante desde el comienzo de la serie. Sin embargo, se identifica un punto máximo que se alcanza antes del inicio de la pandemia. Es importante destacar que, hasta el momento, las emisiones posteriores a la pandemia no han logrado superar los niveles de emisiones previos al evento."
   ]
  },
  {
   "cell_type": "code",
   "execution_count": 140,
   "id": "4e092057",
   "metadata": {},
   "outputs": [
    {
     "data": {
      "application/vnd.plotly.v1+json": {
       "config": {
        "plotlyServerURL": "https://plot.ly"
       },
       "data": [
        {
         "hovertemplate": "year=%{x}<br>co2=%{y}<extra></extra>",
         "legendgroup": "",
         "line": {
          "color": "#1F77B4",
          "dash": "solid"
         },
         "marker": {
          "symbol": "circle"
         },
         "mode": "lines",
         "name": "",
         "orientation": "v",
         "showlegend": false,
         "type": "scatter",
         "x": [
          "1920-01-01T00:00:00",
          "1921-01-01T00:00:00",
          "1922-01-01T00:00:00",
          "1923-01-01T00:00:00",
          "1924-01-01T00:00:00",
          "1925-01-01T00:00:00",
          "1926-01-01T00:00:00",
          "1927-01-01T00:00:00",
          "1928-01-01T00:00:00",
          "1929-01-01T00:00:00",
          "1930-01-01T00:00:00",
          "1931-01-01T00:00:00",
          "1932-01-01T00:00:00",
          "1933-01-01T00:00:00",
          "1934-01-01T00:00:00",
          "1935-01-01T00:00:00",
          "1936-01-01T00:00:00",
          "1937-01-01T00:00:00",
          "1938-01-01T00:00:00",
          "1939-01-01T00:00:00",
          "1940-01-01T00:00:00",
          "1941-01-01T00:00:00",
          "1942-01-01T00:00:00",
          "1943-01-01T00:00:00",
          "1944-01-01T00:00:00",
          "1945-01-01T00:00:00",
          "1946-01-01T00:00:00",
          "1947-01-01T00:00:00",
          "1948-01-01T00:00:00",
          "1949-01-01T00:00:00",
          "1950-01-01T00:00:00",
          "1951-01-01T00:00:00",
          "1952-01-01T00:00:00",
          "1953-01-01T00:00:00",
          "1954-01-01T00:00:00",
          "1955-01-01T00:00:00",
          "1956-01-01T00:00:00",
          "1957-01-01T00:00:00",
          "1958-01-01T00:00:00",
          "1959-01-01T00:00:00",
          "1960-01-01T00:00:00",
          "1961-01-01T00:00:00",
          "1962-01-01T00:00:00",
          "1963-01-01T00:00:00",
          "1964-01-01T00:00:00",
          "1965-01-01T00:00:00",
          "1966-01-01T00:00:00",
          "1967-01-01T00:00:00",
          "1968-01-01T00:00:00",
          "1969-01-01T00:00:00",
          "1970-01-01T00:00:00",
          "1971-01-01T00:00:00",
          "1972-01-01T00:00:00",
          "1973-01-01T00:00:00",
          "1974-01-01T00:00:00",
          "1975-01-01T00:00:00",
          "1976-01-01T00:00:00",
          "1977-01-01T00:00:00",
          "1978-01-01T00:00:00",
          "1979-01-01T00:00:00",
          "1980-01-01T00:00:00",
          "1981-01-01T00:00:00",
          "1982-01-01T00:00:00",
          "1983-01-01T00:00:00",
          "1984-01-01T00:00:00",
          "1985-01-01T00:00:00",
          "1986-01-01T00:00:00",
          "1987-01-01T00:00:00",
          "1988-01-01T00:00:00",
          "1989-01-01T00:00:00",
          "1990-01-01T00:00:00",
          "1991-01-01T00:00:00",
          "1992-01-01T00:00:00",
          "1993-01-01T00:00:00",
          "1994-01-01T00:00:00",
          "1995-01-01T00:00:00",
          "1996-01-01T00:00:00",
          "1997-01-01T00:00:00",
          "1998-01-01T00:00:00",
          "1999-01-01T00:00:00",
          "2000-01-01T00:00:00",
          "2001-01-01T00:00:00",
          "2002-01-01T00:00:00",
          "2003-01-01T00:00:00",
          "2004-01-01T00:00:00",
          "2005-01-01T00:00:00",
          "2006-01-01T00:00:00",
          "2007-01-01T00:00:00",
          "2008-01-01T00:00:00",
          "2009-01-01T00:00:00",
          "2010-01-01T00:00:00",
          "2011-01-01T00:00:00",
          "2012-01-01T00:00:00",
          "2013-01-01T00:00:00",
          "2014-01-01T00:00:00",
          "2015-01-01T00:00:00",
          "2016-01-01T00:00:00",
          "2017-01-01T00:00:00",
          "2018-01-01T00:00:00",
          "2019-01-01T00:00:00",
          "2020-01-01T00:00:00",
          "2021-01-01T00:00:00"
         ],
         "xaxis": "x",
         "y": [
          5.892,
          5.54,
          7.299,
          8.446,
          10.959,
          11.237,
          11.259,
          13.374,
          12.739,
          13.13,
          12.767,
          12.844,
          13.1,
          13.232,
          14.24,
          13.997,
          15.096,
          16.711,
          16.347,
          17.377,
          15.864,
          13.94,
          13.479,
          14.077,
          13.952,
          13.666,
          13.702,
          14.515,
          17.392,
          15.365,
          29.921,
          34.963,
          36.095,
          35.135,
          36.75,
          39.56,
          44.297,
          47.608,
          44.193,
          48.949,
          48.764,
          51.127,
          53.64,
          50.033,
          55.67,
          58.805,
          63.073,
          65.476,
          69.009,
          77.249,
          82.648,
          88.847,
          90.067,
          93.976,
          95.481,
          94.846,
          99.7,
          100.706,
          102.556,
          110.617,
          108.657,
          101.969,
          103.352,
          105.143,
          106.453,
          100.532,
          104.151,
          114.878,
          121.406,
          117.021,
          112.079,
          117.506,
          121.231,
          117.777,
          122.229,
          127.765,
          134.762,
          137.641,
          139.452,
          147.285,
          142.358,
          134.004,
          124.392,
          134.631,
          157.043,
          161.434,
          174.609,
          174.246,
          188.106,
          178.949,
          186.733,
          190.274,
          191.292,
          189.538,
          188.397,
          191.744,
          189.92,
          186.899,
          180.599,
          178.512,
          169.263,
          186.448
         ],
         "yaxis": "y"
        }
       ],
       "layout": {
        "annotations": [
         {
          "align": "left",
          "font": {
           "color": "black",
           "family": "Arial",
           "size": 12
          },
          "showarrow": false,
          "text": "<i style='font-size:12px;'> Emisiones de dióxido de carbono (CO₂) de combustibles fósiles e industrias. <br> No se incluye el cambio de uso de la tierra. .</i>",
          "x": 0,
          "xanchor": "left",
          "xref": "paper",
          "y": 1.05,
          "yanchor": "bottom",
          "yref": "paper"
         }
        ],
        "legend": {
         "tracegroupgap": 0
        },
        "template": {
         "data": {
          "bar": [
           {
            "error_x": {
             "color": "rgb(36,36,36)"
            },
            "error_y": {
             "color": "rgb(36,36,36)"
            },
            "marker": {
             "line": {
              "color": "white",
              "width": 0.5
             },
             "pattern": {
              "fillmode": "overlay",
              "size": 10,
              "solidity": 0.2
             }
            },
            "type": "bar"
           }
          ],
          "barpolar": [
           {
            "marker": {
             "line": {
              "color": "white",
              "width": 0.5
             },
             "pattern": {
              "fillmode": "overlay",
              "size": 10,
              "solidity": 0.2
             }
            },
            "type": "barpolar"
           }
          ],
          "carpet": [
           {
            "aaxis": {
             "endlinecolor": "rgb(36,36,36)",
             "gridcolor": "white",
             "linecolor": "white",
             "minorgridcolor": "white",
             "startlinecolor": "rgb(36,36,36)"
            },
            "baxis": {
             "endlinecolor": "rgb(36,36,36)",
             "gridcolor": "white",
             "linecolor": "white",
             "minorgridcolor": "white",
             "startlinecolor": "rgb(36,36,36)"
            },
            "type": "carpet"
           }
          ],
          "choropleth": [
           {
            "colorbar": {
             "outlinewidth": 1,
             "tickcolor": "rgb(36,36,36)",
             "ticks": "outside"
            },
            "type": "choropleth"
           }
          ],
          "contour": [
           {
            "colorbar": {
             "outlinewidth": 1,
             "tickcolor": "rgb(36,36,36)",
             "ticks": "outside"
            },
            "colorscale": [
             [
              0,
              "#440154"
             ],
             [
              0.1111111111111111,
              "#482878"
             ],
             [
              0.2222222222222222,
              "#3e4989"
             ],
             [
              0.3333333333333333,
              "#31688e"
             ],
             [
              0.4444444444444444,
              "#26828e"
             ],
             [
              0.5555555555555556,
              "#1f9e89"
             ],
             [
              0.6666666666666666,
              "#35b779"
             ],
             [
              0.7777777777777778,
              "#6ece58"
             ],
             [
              0.8888888888888888,
              "#b5de2b"
             ],
             [
              1,
              "#fde725"
             ]
            ],
            "type": "contour"
           }
          ],
          "contourcarpet": [
           {
            "colorbar": {
             "outlinewidth": 1,
             "tickcolor": "rgb(36,36,36)",
             "ticks": "outside"
            },
            "type": "contourcarpet"
           }
          ],
          "heatmap": [
           {
            "colorbar": {
             "outlinewidth": 1,
             "tickcolor": "rgb(36,36,36)",
             "ticks": "outside"
            },
            "colorscale": [
             [
              0,
              "#440154"
             ],
             [
              0.1111111111111111,
              "#482878"
             ],
             [
              0.2222222222222222,
              "#3e4989"
             ],
             [
              0.3333333333333333,
              "#31688e"
             ],
             [
              0.4444444444444444,
              "#26828e"
             ],
             [
              0.5555555555555556,
              "#1f9e89"
             ],
             [
              0.6666666666666666,
              "#35b779"
             ],
             [
              0.7777777777777778,
              "#6ece58"
             ],
             [
              0.8888888888888888,
              "#b5de2b"
             ],
             [
              1,
              "#fde725"
             ]
            ],
            "type": "heatmap"
           }
          ],
          "heatmapgl": [
           {
            "colorbar": {
             "outlinewidth": 1,
             "tickcolor": "rgb(36,36,36)",
             "ticks": "outside"
            },
            "colorscale": [
             [
              0,
              "#440154"
             ],
             [
              0.1111111111111111,
              "#482878"
             ],
             [
              0.2222222222222222,
              "#3e4989"
             ],
             [
              0.3333333333333333,
              "#31688e"
             ],
             [
              0.4444444444444444,
              "#26828e"
             ],
             [
              0.5555555555555556,
              "#1f9e89"
             ],
             [
              0.6666666666666666,
              "#35b779"
             ],
             [
              0.7777777777777778,
              "#6ece58"
             ],
             [
              0.8888888888888888,
              "#b5de2b"
             ],
             [
              1,
              "#fde725"
             ]
            ],
            "type": "heatmapgl"
           }
          ],
          "histogram": [
           {
            "marker": {
             "line": {
              "color": "white",
              "width": 0.6
             }
            },
            "type": "histogram"
           }
          ],
          "histogram2d": [
           {
            "colorbar": {
             "outlinewidth": 1,
             "tickcolor": "rgb(36,36,36)",
             "ticks": "outside"
            },
            "colorscale": [
             [
              0,
              "#440154"
             ],
             [
              0.1111111111111111,
              "#482878"
             ],
             [
              0.2222222222222222,
              "#3e4989"
             ],
             [
              0.3333333333333333,
              "#31688e"
             ],
             [
              0.4444444444444444,
              "#26828e"
             ],
             [
              0.5555555555555556,
              "#1f9e89"
             ],
             [
              0.6666666666666666,
              "#35b779"
             ],
             [
              0.7777777777777778,
              "#6ece58"
             ],
             [
              0.8888888888888888,
              "#b5de2b"
             ],
             [
              1,
              "#fde725"
             ]
            ],
            "type": "histogram2d"
           }
          ],
          "histogram2dcontour": [
           {
            "colorbar": {
             "outlinewidth": 1,
             "tickcolor": "rgb(36,36,36)",
             "ticks": "outside"
            },
            "colorscale": [
             [
              0,
              "#440154"
             ],
             [
              0.1111111111111111,
              "#482878"
             ],
             [
              0.2222222222222222,
              "#3e4989"
             ],
             [
              0.3333333333333333,
              "#31688e"
             ],
             [
              0.4444444444444444,
              "#26828e"
             ],
             [
              0.5555555555555556,
              "#1f9e89"
             ],
             [
              0.6666666666666666,
              "#35b779"
             ],
             [
              0.7777777777777778,
              "#6ece58"
             ],
             [
              0.8888888888888888,
              "#b5de2b"
             ],
             [
              1,
              "#fde725"
             ]
            ],
            "type": "histogram2dcontour"
           }
          ],
          "mesh3d": [
           {
            "colorbar": {
             "outlinewidth": 1,
             "tickcolor": "rgb(36,36,36)",
             "ticks": "outside"
            },
            "type": "mesh3d"
           }
          ],
          "parcoords": [
           {
            "line": {
             "colorbar": {
              "outlinewidth": 1,
              "tickcolor": "rgb(36,36,36)",
              "ticks": "outside"
             }
            },
            "type": "parcoords"
           }
          ],
          "pie": [
           {
            "automargin": true,
            "type": "pie"
           }
          ],
          "scatter": [
           {
            "fillpattern": {
             "fillmode": "overlay",
             "size": 10,
             "solidity": 0.2
            },
            "type": "scatter"
           }
          ],
          "scatter3d": [
           {
            "line": {
             "colorbar": {
              "outlinewidth": 1,
              "tickcolor": "rgb(36,36,36)",
              "ticks": "outside"
             }
            },
            "marker": {
             "colorbar": {
              "outlinewidth": 1,
              "tickcolor": "rgb(36,36,36)",
              "ticks": "outside"
             }
            },
            "type": "scatter3d"
           }
          ],
          "scattercarpet": [
           {
            "marker": {
             "colorbar": {
              "outlinewidth": 1,
              "tickcolor": "rgb(36,36,36)",
              "ticks": "outside"
             }
            },
            "type": "scattercarpet"
           }
          ],
          "scattergeo": [
           {
            "marker": {
             "colorbar": {
              "outlinewidth": 1,
              "tickcolor": "rgb(36,36,36)",
              "ticks": "outside"
             }
            },
            "type": "scattergeo"
           }
          ],
          "scattergl": [
           {
            "marker": {
             "colorbar": {
              "outlinewidth": 1,
              "tickcolor": "rgb(36,36,36)",
              "ticks": "outside"
             }
            },
            "type": "scattergl"
           }
          ],
          "scattermapbox": [
           {
            "marker": {
             "colorbar": {
              "outlinewidth": 1,
              "tickcolor": "rgb(36,36,36)",
              "ticks": "outside"
             }
            },
            "type": "scattermapbox"
           }
          ],
          "scatterpolar": [
           {
            "marker": {
             "colorbar": {
              "outlinewidth": 1,
              "tickcolor": "rgb(36,36,36)",
              "ticks": "outside"
             }
            },
            "type": "scatterpolar"
           }
          ],
          "scatterpolargl": [
           {
            "marker": {
             "colorbar": {
              "outlinewidth": 1,
              "tickcolor": "rgb(36,36,36)",
              "ticks": "outside"
             }
            },
            "type": "scatterpolargl"
           }
          ],
          "scatterternary": [
           {
            "marker": {
             "colorbar": {
              "outlinewidth": 1,
              "tickcolor": "rgb(36,36,36)",
              "ticks": "outside"
             }
            },
            "type": "scatterternary"
           }
          ],
          "surface": [
           {
            "colorbar": {
             "outlinewidth": 1,
             "tickcolor": "rgb(36,36,36)",
             "ticks": "outside"
            },
            "colorscale": [
             [
              0,
              "#440154"
             ],
             [
              0.1111111111111111,
              "#482878"
             ],
             [
              0.2222222222222222,
              "#3e4989"
             ],
             [
              0.3333333333333333,
              "#31688e"
             ],
             [
              0.4444444444444444,
              "#26828e"
             ],
             [
              0.5555555555555556,
              "#1f9e89"
             ],
             [
              0.6666666666666666,
              "#35b779"
             ],
             [
              0.7777777777777778,
              "#6ece58"
             ],
             [
              0.8888888888888888,
              "#b5de2b"
             ],
             [
              1,
              "#fde725"
             ]
            ],
            "type": "surface"
           }
          ],
          "table": [
           {
            "cells": {
             "fill": {
              "color": "rgb(237,237,237)"
             },
             "line": {
              "color": "white"
             }
            },
            "header": {
             "fill": {
              "color": "rgb(217,217,217)"
             },
             "line": {
              "color": "white"
             }
            },
            "type": "table"
           }
          ]
         },
         "layout": {
          "annotationdefaults": {
           "arrowhead": 0,
           "arrowwidth": 1
          },
          "autotypenumbers": "strict",
          "coloraxis": {
           "colorbar": {
            "outlinewidth": 1,
            "tickcolor": "rgb(36,36,36)",
            "ticks": "outside"
           }
          },
          "colorscale": {
           "diverging": [
            [
             0,
             "rgb(103,0,31)"
            ],
            [
             0.1,
             "rgb(178,24,43)"
            ],
            [
             0.2,
             "rgb(214,96,77)"
            ],
            [
             0.3,
             "rgb(244,165,130)"
            ],
            [
             0.4,
             "rgb(253,219,199)"
            ],
            [
             0.5,
             "rgb(247,247,247)"
            ],
            [
             0.6,
             "rgb(209,229,240)"
            ],
            [
             0.7,
             "rgb(146,197,222)"
            ],
            [
             0.8,
             "rgb(67,147,195)"
            ],
            [
             0.9,
             "rgb(33,102,172)"
            ],
            [
             1,
             "rgb(5,48,97)"
            ]
           ],
           "sequential": [
            [
             0,
             "#440154"
            ],
            [
             0.1111111111111111,
             "#482878"
            ],
            [
             0.2222222222222222,
             "#3e4989"
            ],
            [
             0.3333333333333333,
             "#31688e"
            ],
            [
             0.4444444444444444,
             "#26828e"
            ],
            [
             0.5555555555555556,
             "#1f9e89"
            ],
            [
             0.6666666666666666,
             "#35b779"
            ],
            [
             0.7777777777777778,
             "#6ece58"
            ],
            [
             0.8888888888888888,
             "#b5de2b"
            ],
            [
             1,
             "#fde725"
            ]
           ],
           "sequentialminus": [
            [
             0,
             "#440154"
            ],
            [
             0.1111111111111111,
             "#482878"
            ],
            [
             0.2222222222222222,
             "#3e4989"
            ],
            [
             0.3333333333333333,
             "#31688e"
            ],
            [
             0.4444444444444444,
             "#26828e"
            ],
            [
             0.5555555555555556,
             "#1f9e89"
            ],
            [
             0.6666666666666666,
             "#35b779"
            ],
            [
             0.7777777777777778,
             "#6ece58"
            ],
            [
             0.8888888888888888,
             "#b5de2b"
            ],
            [
             1,
             "#fde725"
            ]
           ]
          },
          "colorway": [
           "#1F77B4",
           "#FF7F0E",
           "#2CA02C",
           "#D62728",
           "#9467BD",
           "#8C564B",
           "#E377C2",
           "#7F7F7F",
           "#BCBD22",
           "#17BECF"
          ],
          "font": {
           "color": "rgb(36,36,36)"
          },
          "geo": {
           "bgcolor": "white",
           "lakecolor": "white",
           "landcolor": "white",
           "showlakes": true,
           "showland": true,
           "subunitcolor": "white"
          },
          "hoverlabel": {
           "align": "left"
          },
          "hovermode": "closest",
          "mapbox": {
           "style": "light"
          },
          "paper_bgcolor": "white",
          "plot_bgcolor": "white",
          "polar": {
           "angularaxis": {
            "gridcolor": "rgb(232,232,232)",
            "linecolor": "rgb(36,36,36)",
            "showgrid": false,
            "showline": true,
            "ticks": "outside"
           },
           "bgcolor": "white",
           "radialaxis": {
            "gridcolor": "rgb(232,232,232)",
            "linecolor": "rgb(36,36,36)",
            "showgrid": false,
            "showline": true,
            "ticks": "outside"
           }
          },
          "scene": {
           "xaxis": {
            "backgroundcolor": "white",
            "gridcolor": "rgb(232,232,232)",
            "gridwidth": 2,
            "linecolor": "rgb(36,36,36)",
            "showbackground": true,
            "showgrid": false,
            "showline": true,
            "ticks": "outside",
            "zeroline": false,
            "zerolinecolor": "rgb(36,36,36)"
           },
           "yaxis": {
            "backgroundcolor": "white",
            "gridcolor": "rgb(232,232,232)",
            "gridwidth": 2,
            "linecolor": "rgb(36,36,36)",
            "showbackground": true,
            "showgrid": false,
            "showline": true,
            "ticks": "outside",
            "zeroline": false,
            "zerolinecolor": "rgb(36,36,36)"
           },
           "zaxis": {
            "backgroundcolor": "white",
            "gridcolor": "rgb(232,232,232)",
            "gridwidth": 2,
            "linecolor": "rgb(36,36,36)",
            "showbackground": true,
            "showgrid": false,
            "showline": true,
            "ticks": "outside",
            "zeroline": false,
            "zerolinecolor": "rgb(36,36,36)"
           }
          },
          "shapedefaults": {
           "fillcolor": "black",
           "line": {
            "width": 0
           },
           "opacity": 0.3
          },
          "ternary": {
           "aaxis": {
            "gridcolor": "rgb(232,232,232)",
            "linecolor": "rgb(36,36,36)",
            "showgrid": false,
            "showline": true,
            "ticks": "outside"
           },
           "baxis": {
            "gridcolor": "rgb(232,232,232)",
            "linecolor": "rgb(36,36,36)",
            "showgrid": false,
            "showline": true,
            "ticks": "outside"
           },
           "bgcolor": "white",
           "caxis": {
            "gridcolor": "rgb(232,232,232)",
            "linecolor": "rgb(36,36,36)",
            "showgrid": false,
            "showline": true,
            "ticks": "outside"
           }
          },
          "title": {
           "x": 0.05
          },
          "xaxis": {
           "automargin": true,
           "gridcolor": "rgb(232,232,232)",
           "linecolor": "rgb(36,36,36)",
           "showgrid": false,
           "showline": true,
           "ticks": "outside",
           "title": {
            "standoff": 15
           },
           "zeroline": false,
           "zerolinecolor": "rgb(36,36,36)"
          },
          "yaxis": {
           "automargin": true,
           "gridcolor": "rgb(232,232,232)",
           "linecolor": "rgb(36,36,36)",
           "showgrid": false,
           "showline": true,
           "ticks": "outside",
           "title": {
            "standoff": 15
           },
           "zeroline": false,
           "zerolinecolor": "rgb(36,36,36)"
          }
         }
        },
        "title": {
         "font": {
          "color": "#000000",
          "family": "Arial",
          "size": 18
         },
         "text": "Evolucion de las emisiones totales de CO2 en Argentina",
         "x": 0.5,
         "xanchor": "right",
         "y": 0.96,
         "yanchor": "top"
        },
        "xaxis": {
         "anchor": "y",
         "domain": [
          0,
          1
         ],
         "title": {
          "text": "Año"
         }
        },
        "yaxis": {
         "anchor": "x",
         "domain": [
          0,
          1
         ],
         "title": {
          "text": "Millones de toneladas de co2"
         }
        }
       }
      }
     },
     "metadata": {},
     "output_type": "display_data"
    }
   ],
   "source": [
    "import plotly.express as px\n",
    "\n",
    "fig = px.line(grafico3, x='year', y='co2', title='Evolucion de las emisiones totales de CO2 en Argentina', template=\"simple_white\")\n",
    "\n",
    "fig.update_xaxes(title_text='Año')\n",
    "fig.update_yaxes(title_text='Millones de toneladas de co2')\n",
    "fig.update_layout(annotations=[\n",
    "        dict(\n",
    "            x=0,\n",
    "            y=1.05,\n",
    "            showarrow=False,\n",
    "            text=\"<i style='font-size:12px;'> Emisiones de dióxido de carbono (CO₂) de combustibles fósiles e industrias. <br> No se incluye el cambio de uso de la tierra. .</i>\",\n",
    "            xref='paper',\n",
    "            yref='paper',\n",
    "            font= {'size': 12, 'color': 'black', 'family': 'Arial'},\n",
    "            xanchor='left',\n",
    "            yanchor='bottom',\n",
    "            align='left'\n",
    "        )\n",
    "    ],\n",
    "    title={\n",
    "        'text': \"Evolucion de las emisiones totales de CO2 en Argentina\",\n",
    "        'y':0.96,\n",
    "        'x':0.5,\n",
    "        'xanchor': 'right',\n",
    "        'yanchor': 'top',\n",
    "        'font': {'size': 18, 'color': '#000000', 'family': 'Arial'}\n",
    "    },\n",
    "    template='simple_white'\n",
    ")\n",
    "\n",
    "fig.show()\n"
   ]
  },
  {
   "attachments": {},
   "cell_type": "markdown",
   "id": "a179c8c6",
   "metadata": {},
   "source": [
    "**Que fuente de energia fue la de mayor dinamica?**\n",
    "\n",
    "Hasta el año 2000, las emisiones de dióxido de carbono (CO2) estaban principalmente relacionadas con el uso del petróleo como combustible. A partir de ese año, se observa un cambio significativo en la tendencia, donde el gas comienza a superar al petróleo como el principal combustible en términos de emisiones, año tras año. Este cambio está directamente relacionado con la consolidación del gas como el componente principal de nuestra matriz energética a lo largo del tiempo. Este cambio en la composición de la matriz energética refleja una transición hacia fuentes de energía más limpias y menos intensivas en carbono."
   ]
  },
  {
   "cell_type": "code",
   "execution_count": 141,
   "id": "a54808a0",
   "metadata": {
    "scrolled": false
   },
   "outputs": [
    {
     "data": {
      "application/vnd.plotly.v1+json": {
       "config": {
        "plotlyServerURL": "https://plot.ly"
       },
       "data": [
        {
         "hovertemplate": "%{y:.2f} Millones de toneladas de CO2<br>%{x}<extra></extra>",
         "name": "Coal",
         "type": "bar",
         "x": [
          "1920-01-01T00:00:00",
          "1921-01-01T00:00:00",
          "1922-01-01T00:00:00",
          "1923-01-01T00:00:00",
          "1924-01-01T00:00:00",
          "1925-01-01T00:00:00",
          "1926-01-01T00:00:00",
          "1927-01-01T00:00:00",
          "1928-01-01T00:00:00",
          "1929-01-01T00:00:00",
          "1930-01-01T00:00:00",
          "1931-01-01T00:00:00",
          "1932-01-01T00:00:00",
          "1933-01-01T00:00:00",
          "1934-01-01T00:00:00",
          "1935-01-01T00:00:00",
          "1936-01-01T00:00:00",
          "1937-01-01T00:00:00",
          "1938-01-01T00:00:00",
          "1939-01-01T00:00:00",
          "1940-01-01T00:00:00",
          "1941-01-01T00:00:00",
          "1942-01-01T00:00:00",
          "1943-01-01T00:00:00",
          "1944-01-01T00:00:00",
          "1945-01-01T00:00:00",
          "1946-01-01T00:00:00",
          "1947-01-01T00:00:00",
          "1948-01-01T00:00:00",
          "1949-01-01T00:00:00",
          "1950-01-01T00:00:00",
          "1951-01-01T00:00:00",
          "1952-01-01T00:00:00",
          "1953-01-01T00:00:00",
          "1954-01-01T00:00:00",
          "1955-01-01T00:00:00",
          "1956-01-01T00:00:00",
          "1957-01-01T00:00:00",
          "1958-01-01T00:00:00",
          "1959-01-01T00:00:00",
          "1960-01-01T00:00:00",
          "1961-01-01T00:00:00",
          "1962-01-01T00:00:00",
          "1963-01-01T00:00:00",
          "1964-01-01T00:00:00",
          "1965-01-01T00:00:00",
          "1966-01-01T00:00:00",
          "1967-01-01T00:00:00",
          "1968-01-01T00:00:00",
          "1969-01-01T00:00:00",
          "1970-01-01T00:00:00",
          "1971-01-01T00:00:00",
          "1972-01-01T00:00:00",
          "1973-01-01T00:00:00",
          "1974-01-01T00:00:00",
          "1975-01-01T00:00:00",
          "1976-01-01T00:00:00",
          "1977-01-01T00:00:00",
          "1978-01-01T00:00:00",
          "1979-01-01T00:00:00",
          "1980-01-01T00:00:00",
          "1981-01-01T00:00:00",
          "1982-01-01T00:00:00",
          "1983-01-01T00:00:00",
          "1984-01-01T00:00:00",
          "1985-01-01T00:00:00",
          "1986-01-01T00:00:00",
          "1987-01-01T00:00:00",
          "1988-01-01T00:00:00",
          "1989-01-01T00:00:00",
          "1990-01-01T00:00:00",
          "1991-01-01T00:00:00",
          "1992-01-01T00:00:00",
          "1993-01-01T00:00:00",
          "1994-01-01T00:00:00",
          "1995-01-01T00:00:00",
          "1996-01-01T00:00:00",
          "1997-01-01T00:00:00",
          "1998-01-01T00:00:00",
          "1999-01-01T00:00:00",
          "2000-01-01T00:00:00",
          "2001-01-01T00:00:00",
          "2002-01-01T00:00:00",
          "2003-01-01T00:00:00",
          "2004-01-01T00:00:00",
          "2005-01-01T00:00:00",
          "2006-01-01T00:00:00",
          "2007-01-01T00:00:00",
          "2008-01-01T00:00:00",
          "2009-01-01T00:00:00",
          "2010-01-01T00:00:00",
          "2011-01-01T00:00:00",
          "2012-01-01T00:00:00",
          "2013-01-01T00:00:00",
          "2014-01-01T00:00:00",
          "2015-01-01T00:00:00",
          "2016-01-01T00:00:00",
          "2017-01-01T00:00:00",
          "2018-01-01T00:00:00",
          "2019-01-01T00:00:00",
          "2020-01-01T00:00:00",
          "2021-01-01T00:00:00"
         ],
         "y": [
          5.122,
          4.565,
          5.889,
          6.844,
          8.753,
          8.35,
          7.451,
          9.258,
          8.284,
          8.321,
          8.119,
          6.947,
          6.331,
          5.959,
          6.581,
          6.337,
          6.987,
          8.158,
          7.396,
          7.764,
          5.369,
          2.686,
          1.385,
          1.549,
          1.649,
          2.045,
          3.041,
          3.254,
          5.815,
          3.598,
          3.561,
          5.47,
          4.507,
          3.114,
          3.722,
          3.21,
          3.814,
          3.36,
          3.781,
          3.73,
          3.906,
          3.539,
          2.008,
          2.305,
          2.557,
          2.601,
          2.587,
          2.939,
          2.367,
          2.59,
          3.287,
          2.928,
          2.858,
          2.88,
          3.367,
          3.594,
          3.239,
          2.704,
          3.833,
          3.602,
          2.865,
          2.957,
          2.66,
          2.191,
          2.147,
          2.774,
          3.393,
          3.778,
          4.023,
          4.144,
          3.07,
          2.689,
          2.803,
          2.301,
          3.561,
          3.701,
          3.1,
          2.777,
          2.84,
          2.154,
          1.656,
          1.29,
          1.099,
          1.99,
          2.198,
          3.268,
          3.866,
          3.66,
          3.877,
          3.232,
          3.99,
          4.723,
          5.009,
          4.84,
          5.536,
          5.467,
          4.192,
          4.279,
          4.356,
          2.143,
          2.642,
          4.816
         ]
        },
        {
         "hovertemplate": "%{y:.2f} Millones de toneladas de CO2<br>%{x}<extra></extra>",
         "name": "Flaring",
         "type": "bar",
         "x": [
          "1920-01-01T00:00:00",
          "1921-01-01T00:00:00",
          "1922-01-01T00:00:00",
          "1923-01-01T00:00:00",
          "1924-01-01T00:00:00",
          "1925-01-01T00:00:00",
          "1926-01-01T00:00:00",
          "1927-01-01T00:00:00",
          "1928-01-01T00:00:00",
          "1929-01-01T00:00:00",
          "1930-01-01T00:00:00",
          "1931-01-01T00:00:00",
          "1932-01-01T00:00:00",
          "1933-01-01T00:00:00",
          "1934-01-01T00:00:00",
          "1935-01-01T00:00:00",
          "1936-01-01T00:00:00",
          "1937-01-01T00:00:00",
          "1938-01-01T00:00:00",
          "1939-01-01T00:00:00",
          "1940-01-01T00:00:00",
          "1941-01-01T00:00:00",
          "1942-01-01T00:00:00",
          "1943-01-01T00:00:00",
          "1944-01-01T00:00:00",
          "1945-01-01T00:00:00",
          "1946-01-01T00:00:00",
          "1947-01-01T00:00:00",
          "1948-01-01T00:00:00",
          "1949-01-01T00:00:00",
          "1950-01-01T00:00:00",
          "1951-01-01T00:00:00",
          "1952-01-01T00:00:00",
          "1953-01-01T00:00:00",
          "1954-01-01T00:00:00",
          "1955-01-01T00:00:00",
          "1956-01-01T00:00:00",
          "1957-01-01T00:00:00",
          "1958-01-01T00:00:00",
          "1959-01-01T00:00:00",
          "1960-01-01T00:00:00",
          "1961-01-01T00:00:00",
          "1962-01-01T00:00:00",
          "1963-01-01T00:00:00",
          "1964-01-01T00:00:00",
          "1965-01-01T00:00:00",
          "1966-01-01T00:00:00",
          "1967-01-01T00:00:00",
          "1968-01-01T00:00:00",
          "1969-01-01T00:00:00",
          "1970-01-01T00:00:00",
          "1971-01-01T00:00:00",
          "1972-01-01T00:00:00",
          "1973-01-01T00:00:00",
          "1974-01-01T00:00:00",
          "1975-01-01T00:00:00",
          "1976-01-01T00:00:00",
          "1977-01-01T00:00:00",
          "1978-01-01T00:00:00",
          "1979-01-01T00:00:00",
          "1980-01-01T00:00:00",
          "1981-01-01T00:00:00",
          "1982-01-01T00:00:00",
          "1983-01-01T00:00:00",
          "1984-01-01T00:00:00",
          "1985-01-01T00:00:00",
          "1986-01-01T00:00:00",
          "1987-01-01T00:00:00",
          "1988-01-01T00:00:00",
          "1989-01-01T00:00:00",
          "1990-01-01T00:00:00",
          "1991-01-01T00:00:00",
          "1992-01-01T00:00:00",
          "1993-01-01T00:00:00",
          "1994-01-01T00:00:00",
          "1995-01-01T00:00:00",
          "1996-01-01T00:00:00",
          "1997-01-01T00:00:00",
          "1998-01-01T00:00:00",
          "1999-01-01T00:00:00",
          "2000-01-01T00:00:00",
          "2001-01-01T00:00:00",
          "2002-01-01T00:00:00",
          "2003-01-01T00:00:00",
          "2004-01-01T00:00:00",
          "2005-01-01T00:00:00",
          "2006-01-01T00:00:00",
          "2007-01-01T00:00:00",
          "2008-01-01T00:00:00",
          "2009-01-01T00:00:00",
          "2010-01-01T00:00:00",
          "2011-01-01T00:00:00",
          "2012-01-01T00:00:00",
          "2013-01-01T00:00:00",
          "2014-01-01T00:00:00",
          "2015-01-01T00:00:00",
          "2016-01-01T00:00:00",
          "2017-01-01T00:00:00",
          "2018-01-01T00:00:00",
          "2019-01-01T00:00:00",
          "2020-01-01T00:00:00",
          "2021-01-01T00:00:00"
         ],
         "y": [
          0,
          0,
          0,
          0,
          0,
          0,
          0,
          0,
          0,
          0,
          0,
          0,
          0,
          0,
          0,
          0,
          0,
          0,
          0,
          0,
          0,
          0,
          0,
          0,
          0,
          0,
          0,
          0,
          0,
          0,
          0,
          0,
          0,
          0,
          0,
          0,
          0,
          0,
          0,
          0,
          0,
          0,
          0,
          0,
          0,
          0,
          2.345,
          2.796,
          2.876,
          2.832,
          2.81,
          2.843,
          2.744,
          3.129,
          3.063,
          3.902,
          5.284,
          5.408,
          6.251,
          6.599,
          6.156,
          5.144,
          5.595,
          5.196,
          7.149,
          6.188,
          4.804,
          4.778,
          5.87,
          6.262,
          4.785,
          4.104,
          3.997,
          4.753,
          5.738,
          5.412,
          5.778,
          3.323,
          2.14,
          1.495,
          1.059,
          1.088,
          1.447,
          1.935,
          1.422,
          1.158,
          1.198,
          1.458,
          1.462,
          1.532,
          1.491,
          1.469,
          1.131,
          1.291,
          1.388,
          1.218,
          0.841,
          0.96,
          1.359,
          1.771,
          1.987,
          2.325
         ]
        },
        {
         "hovertemplate": "%{y:.2f} Millones de toneladas de CO2<br>%{x}<extra></extra>",
         "name": "Gas",
         "type": "bar",
         "x": [
          "1920-01-01T00:00:00",
          "1921-01-01T00:00:00",
          "1922-01-01T00:00:00",
          "1923-01-01T00:00:00",
          "1924-01-01T00:00:00",
          "1925-01-01T00:00:00",
          "1926-01-01T00:00:00",
          "1927-01-01T00:00:00",
          "1928-01-01T00:00:00",
          "1929-01-01T00:00:00",
          "1930-01-01T00:00:00",
          "1931-01-01T00:00:00",
          "1932-01-01T00:00:00",
          "1933-01-01T00:00:00",
          "1934-01-01T00:00:00",
          "1935-01-01T00:00:00",
          "1936-01-01T00:00:00",
          "1937-01-01T00:00:00",
          "1938-01-01T00:00:00",
          "1939-01-01T00:00:00",
          "1940-01-01T00:00:00",
          "1941-01-01T00:00:00",
          "1942-01-01T00:00:00",
          "1943-01-01T00:00:00",
          "1944-01-01T00:00:00",
          "1945-01-01T00:00:00",
          "1946-01-01T00:00:00",
          "1947-01-01T00:00:00",
          "1948-01-01T00:00:00",
          "1949-01-01T00:00:00",
          "1950-01-01T00:00:00",
          "1951-01-01T00:00:00",
          "1952-01-01T00:00:00",
          "1953-01-01T00:00:00",
          "1954-01-01T00:00:00",
          "1955-01-01T00:00:00",
          "1956-01-01T00:00:00",
          "1957-01-01T00:00:00",
          "1958-01-01T00:00:00",
          "1959-01-01T00:00:00",
          "1960-01-01T00:00:00",
          "1961-01-01T00:00:00",
          "1962-01-01T00:00:00",
          "1963-01-01T00:00:00",
          "1964-01-01T00:00:00",
          "1965-01-01T00:00:00",
          "1966-01-01T00:00:00",
          "1967-01-01T00:00:00",
          "1968-01-01T00:00:00",
          "1969-01-01T00:00:00",
          "1970-01-01T00:00:00",
          "1971-01-01T00:00:00",
          "1972-01-01T00:00:00",
          "1973-01-01T00:00:00",
          "1974-01-01T00:00:00",
          "1975-01-01T00:00:00",
          "1976-01-01T00:00:00",
          "1977-01-01T00:00:00",
          "1978-01-01T00:00:00",
          "1979-01-01T00:00:00",
          "1980-01-01T00:00:00",
          "1981-01-01T00:00:00",
          "1982-01-01T00:00:00",
          "1983-01-01T00:00:00",
          "1984-01-01T00:00:00",
          "1985-01-01T00:00:00",
          "1986-01-01T00:00:00",
          "1987-01-01T00:00:00",
          "1988-01-01T00:00:00",
          "1989-01-01T00:00:00",
          "1990-01-01T00:00:00",
          "1991-01-01T00:00:00",
          "1992-01-01T00:00:00",
          "1993-01-01T00:00:00",
          "1994-01-01T00:00:00",
          "1995-01-01T00:00:00",
          "1996-01-01T00:00:00",
          "1997-01-01T00:00:00",
          "1998-01-01T00:00:00",
          "1999-01-01T00:00:00",
          "2000-01-01T00:00:00",
          "2001-01-01T00:00:00",
          "2002-01-01T00:00:00",
          "2003-01-01T00:00:00",
          "2004-01-01T00:00:00",
          "2005-01-01T00:00:00",
          "2006-01-01T00:00:00",
          "2007-01-01T00:00:00",
          "2008-01-01T00:00:00",
          "2009-01-01T00:00:00",
          "2010-01-01T00:00:00",
          "2011-01-01T00:00:00",
          "2012-01-01T00:00:00",
          "2013-01-01T00:00:00",
          "2014-01-01T00:00:00",
          "2015-01-01T00:00:00",
          "2016-01-01T00:00:00",
          "2017-01-01T00:00:00",
          "2018-01-01T00:00:00",
          "2019-01-01T00:00:00",
          "2020-01-01T00:00:00",
          "2021-01-01T00:00:00"
         ],
         "y": [
          0.037,
          0.048,
          0.062,
          0.077,
          0.128,
          0.165,
          0.293,
          0.26,
          0.297,
          0.458,
          0.454,
          0.564,
          0.769,
          1.034,
          1.249,
          1.056,
          0.912,
          0.865,
          0.839,
          0.887,
          0.916,
          1.015,
          1.154,
          1.158,
          1.132,
          1.041,
          0.967,
          0.997,
          0.766,
          1.136,
          0,
          1.418,
          1.535,
          1.194,
          1.209,
          1.227,
          1.304,
          1.458,
          1.48,
          1.473,
          2.363,
          4.03,
          5.108,
          5.829,
          6.467,
          7.247,
          7.848,
          8.208,
          9.142,
          9.105,
          10.281,
          11.021,
          12.469,
          14.187,
          14.923,
          15.722,
          16.467,
          16.905,
          16.426,
          18.016,
          19.566,
          20.485,
          23.249,
          26.264,
          27.301,
          28.809,
          30.964,
          36.699,
          42.233,
          44.609,
          43.213,
          47.284,
          48.303,
          40.809,
          42.677,
          53.195,
          57.542,
          61.504,
          61.614,
          67.621,
          69.438,
          64.809,
          62.62,
          69.07,
          82.911,
          81.967,
          83.869,
          87.178,
          90.12,
          87.995,
          86.928,
          92.587,
          95.381,
          91.338,
          92.844,
          93.535,
          96.303,
          96.442,
          96.123,
          95.608,
          90.213,
          94.328
         ]
        },
        {
         "hovertemplate": "%{y:.2f} Millones de toneladas de CO2<br>%{x}<extra></extra>",
         "name": "Oil",
         "type": "bar",
         "x": [
          "1920-01-01T00:00:00",
          "1921-01-01T00:00:00",
          "1922-01-01T00:00:00",
          "1923-01-01T00:00:00",
          "1924-01-01T00:00:00",
          "1925-01-01T00:00:00",
          "1926-01-01T00:00:00",
          "1927-01-01T00:00:00",
          "1928-01-01T00:00:00",
          "1929-01-01T00:00:00",
          "1930-01-01T00:00:00",
          "1931-01-01T00:00:00",
          "1932-01-01T00:00:00",
          "1933-01-01T00:00:00",
          "1934-01-01T00:00:00",
          "1935-01-01T00:00:00",
          "1936-01-01T00:00:00",
          "1937-01-01T00:00:00",
          "1938-01-01T00:00:00",
          "1939-01-01T00:00:00",
          "1940-01-01T00:00:00",
          "1941-01-01T00:00:00",
          "1942-01-01T00:00:00",
          "1943-01-01T00:00:00",
          "1944-01-01T00:00:00",
          "1945-01-01T00:00:00",
          "1946-01-01T00:00:00",
          "1947-01-01T00:00:00",
          "1948-01-01T00:00:00",
          "1949-01-01T00:00:00",
          "1950-01-01T00:00:00",
          "1951-01-01T00:00:00",
          "1952-01-01T00:00:00",
          "1953-01-01T00:00:00",
          "1954-01-01T00:00:00",
          "1955-01-01T00:00:00",
          "1956-01-01T00:00:00",
          "1957-01-01T00:00:00",
          "1958-01-01T00:00:00",
          "1959-01-01T00:00:00",
          "1960-01-01T00:00:00",
          "1961-01-01T00:00:00",
          "1962-01-01T00:00:00",
          "1963-01-01T00:00:00",
          "1964-01-01T00:00:00",
          "1965-01-01T00:00:00",
          "1966-01-01T00:00:00",
          "1967-01-01T00:00:00",
          "1968-01-01T00:00:00",
          "1969-01-01T00:00:00",
          "1970-01-01T00:00:00",
          "1971-01-01T00:00:00",
          "1972-01-01T00:00:00",
          "1973-01-01T00:00:00",
          "1974-01-01T00:00:00",
          "1975-01-01T00:00:00",
          "1976-01-01T00:00:00",
          "1977-01-01T00:00:00",
          "1978-01-01T00:00:00",
          "1979-01-01T00:00:00",
          "1980-01-01T00:00:00",
          "1981-01-01T00:00:00",
          "1982-01-01T00:00:00",
          "1983-01-01T00:00:00",
          "1984-01-01T00:00:00",
          "1985-01-01T00:00:00",
          "1986-01-01T00:00:00",
          "1987-01-01T00:00:00",
          "1988-01-01T00:00:00",
          "1989-01-01T00:00:00",
          "1990-01-01T00:00:00",
          "1991-01-01T00:00:00",
          "1992-01-01T00:00:00",
          "1993-01-01T00:00:00",
          "1994-01-01T00:00:00",
          "1995-01-01T00:00:00",
          "1996-01-01T00:00:00",
          "1997-01-01T00:00:00",
          "1998-01-01T00:00:00",
          "1999-01-01T00:00:00",
          "2000-01-01T00:00:00",
          "2001-01-01T00:00:00",
          "2002-01-01T00:00:00",
          "2003-01-01T00:00:00",
          "2004-01-01T00:00:00",
          "2005-01-01T00:00:00",
          "2006-01-01T00:00:00",
          "2007-01-01T00:00:00",
          "2008-01-01T00:00:00",
          "2009-01-01T00:00:00",
          "2010-01-01T00:00:00",
          "2011-01-01T00:00:00",
          "2012-01-01T00:00:00",
          "2013-01-01T00:00:00",
          "2014-01-01T00:00:00",
          "2015-01-01T00:00:00",
          "2016-01-01T00:00:00",
          "2017-01-01T00:00:00",
          "2018-01-01T00:00:00",
          "2019-01-01T00:00:00",
          "2020-01-01T00:00:00",
          "2021-01-01T00:00:00"
         ],
         "y": [
          0.733,
          0.927,
          1.348,
          1.525,
          2.077,
          2.722,
          3.515,
          3.856,
          4.041,
          4.177,
          4.005,
          5.067,
          5.752,
          5.985,
          6.13,
          6.249,
          6.786,
          7.176,
          7.498,
          8.171,
          9.045,
          9.662,
          10.409,
          10.898,
          10.637,
          10.043,
          9.131,
          9.591,
          10.193,
          9.915,
          25.582,
          27.304,
          29.286,
          30.008,
          30.976,
          34.2,
          38.157,
          41.619,
          37.71,
          42.576,
          41.191,
          42.121,
          45.078,
          40.645,
          45.207,
          47.324,
          48.57,
          49.777,
          52.56,
          60.573,
          63.926,
          69.319,
          69.297,
          71.21,
          71.452,
          68.913,
          71.868,
          72.702,
          72.899,
          79.073,
          76.508,
          70.059,
          69.032,
          68.674,
          67.237,
          60.435,
          62.2,
          66.454,
          66.232,
          59.753,
          59.188,
          61.233,
          63.633,
          67.154,
          67.203,
          62.836,
          65.921,
          66.868,
          69.576,
          72.725,
          67.434,
          64.336,
          57.497,
          59.357,
          67.812,
          71.8,
          81.912,
          77.952,
          88.658,
          82.381,
          90.145,
          86.908,
          85.587,
          87.487,
          84.292,
          86.954,
          84.556,
          80.856,
          74.392,
          74.848,
          70.913,
          80.309
         ]
        },
        {
         "hovertemplate": "%{y:.2f} Millones de toneladas de CO2<br>%{x}<extra></extra>",
         "name": "Other Industry",
         "type": "bar",
         "x": [
          "1920-01-01T00:00:00",
          "1921-01-01T00:00:00",
          "1922-01-01T00:00:00",
          "1923-01-01T00:00:00",
          "1924-01-01T00:00:00",
          "1925-01-01T00:00:00",
          "1926-01-01T00:00:00",
          "1927-01-01T00:00:00",
          "1928-01-01T00:00:00",
          "1929-01-01T00:00:00",
          "1930-01-01T00:00:00",
          "1931-01-01T00:00:00",
          "1932-01-01T00:00:00",
          "1933-01-01T00:00:00",
          "1934-01-01T00:00:00",
          "1935-01-01T00:00:00",
          "1936-01-01T00:00:00",
          "1937-01-01T00:00:00",
          "1938-01-01T00:00:00",
          "1939-01-01T00:00:00",
          "1940-01-01T00:00:00",
          "1941-01-01T00:00:00",
          "1942-01-01T00:00:00",
          "1943-01-01T00:00:00",
          "1944-01-01T00:00:00",
          "1945-01-01T00:00:00",
          "1946-01-01T00:00:00",
          "1947-01-01T00:00:00",
          "1948-01-01T00:00:00",
          "1949-01-01T00:00:00",
          "1950-01-01T00:00:00",
          "1951-01-01T00:00:00",
          "1952-01-01T00:00:00",
          "1953-01-01T00:00:00",
          "1954-01-01T00:00:00",
          "1955-01-01T00:00:00",
          "1956-01-01T00:00:00",
          "1957-01-01T00:00:00",
          "1958-01-01T00:00:00",
          "1959-01-01T00:00:00",
          "1960-01-01T00:00:00",
          "1961-01-01T00:00:00",
          "1962-01-01T00:00:00",
          "1963-01-01T00:00:00",
          "1964-01-01T00:00:00",
          "1965-01-01T00:00:00",
          "1966-01-01T00:00:00",
          "1967-01-01T00:00:00",
          "1968-01-01T00:00:00",
          "1969-01-01T00:00:00",
          "1970-01-01T00:00:00",
          "1971-01-01T00:00:00",
          "1972-01-01T00:00:00",
          "1973-01-01T00:00:00",
          "1974-01-01T00:00:00",
          "1975-01-01T00:00:00",
          "1976-01-01T00:00:00",
          "1977-01-01T00:00:00",
          "1978-01-01T00:00:00",
          "1979-01-01T00:00:00",
          "1980-01-01T00:00:00",
          "1981-01-01T00:00:00",
          "1982-01-01T00:00:00",
          "1983-01-01T00:00:00",
          "1984-01-01T00:00:00",
          "1985-01-01T00:00:00",
          "1986-01-01T00:00:00",
          "1987-01-01T00:00:00",
          "1988-01-01T00:00:00",
          "1989-01-01T00:00:00",
          "1990-01-01T00:00:00",
          "1991-01-01T00:00:00",
          "1992-01-01T00:00:00",
          "1993-01-01T00:00:00",
          "1994-01-01T00:00:00",
          "1995-01-01T00:00:00",
          "1996-01-01T00:00:00",
          "1997-01-01T00:00:00",
          "1998-01-01T00:00:00",
          "1999-01-01T00:00:00",
          "2000-01-01T00:00:00",
          "2001-01-01T00:00:00",
          "2002-01-01T00:00:00",
          "2003-01-01T00:00:00",
          "2004-01-01T00:00:00",
          "2005-01-01T00:00:00",
          "2006-01-01T00:00:00",
          "2007-01-01T00:00:00",
          "2008-01-01T00:00:00",
          "2009-01-01T00:00:00",
          "2010-01-01T00:00:00",
          "2011-01-01T00:00:00",
          "2012-01-01T00:00:00",
          "2013-01-01T00:00:00",
          "2014-01-01T00:00:00",
          "2015-01-01T00:00:00",
          "2016-01-01T00:00:00",
          "2017-01-01T00:00:00",
          "2018-01-01T00:00:00",
          "2019-01-01T00:00:00",
          "2020-01-01T00:00:00",
          "2021-01-01T00:00:00"
         ],
         "y": [
          null,
          null,
          null,
          null,
          null,
          null,
          null,
          null,
          null,
          null,
          null,
          null,
          null,
          null,
          null,
          null,
          null,
          null,
          null,
          null,
          null,
          null,
          null,
          null,
          null,
          null,
          null,
          null,
          null,
          null,
          null,
          null,
          null,
          null,
          null,
          null,
          null,
          null,
          null,
          null,
          null,
          null,
          null,
          null,
          null,
          null,
          null,
          null,
          null,
          null,
          null,
          null,
          null,
          null,
          null,
          null,
          null,
          null,
          null,
          null,
          null,
          null,
          null,
          null,
          null,
          null,
          null,
          null,
          null,
          null,
          null,
          null,
          null,
          null,
          null,
          null,
          null,
          null,
          null,
          null,
          null,
          null,
          null,
          null,
          null,
          null,
          null,
          null,
          null,
          null,
          null,
          null,
          null,
          null,
          null,
          null,
          null,
          null,
          null,
          null,
          null,
          null
         ]
        },
        {
         "hovertemplate": "%{y:.2f} Millones de toneladas de CO2<br>%{x}<extra></extra>",
         "name": "Cement",
         "type": "bar",
         "x": [
          "1920-01-01T00:00:00",
          "1921-01-01T00:00:00",
          "1922-01-01T00:00:00",
          "1923-01-01T00:00:00",
          "1924-01-01T00:00:00",
          "1925-01-01T00:00:00",
          "1926-01-01T00:00:00",
          "1927-01-01T00:00:00",
          "1928-01-01T00:00:00",
          "1929-01-01T00:00:00",
          "1930-01-01T00:00:00",
          "1931-01-01T00:00:00",
          "1932-01-01T00:00:00",
          "1933-01-01T00:00:00",
          "1934-01-01T00:00:00",
          "1935-01-01T00:00:00",
          "1936-01-01T00:00:00",
          "1937-01-01T00:00:00",
          "1938-01-01T00:00:00",
          "1939-01-01T00:00:00",
          "1940-01-01T00:00:00",
          "1941-01-01T00:00:00",
          "1942-01-01T00:00:00",
          "1943-01-01T00:00:00",
          "1944-01-01T00:00:00",
          "1945-01-01T00:00:00",
          "1946-01-01T00:00:00",
          "1947-01-01T00:00:00",
          "1948-01-01T00:00:00",
          "1949-01-01T00:00:00",
          "1950-01-01T00:00:00",
          "1951-01-01T00:00:00",
          "1952-01-01T00:00:00",
          "1953-01-01T00:00:00",
          "1954-01-01T00:00:00",
          "1955-01-01T00:00:00",
          "1956-01-01T00:00:00",
          "1957-01-01T00:00:00",
          "1958-01-01T00:00:00",
          "1959-01-01T00:00:00",
          "1960-01-01T00:00:00",
          "1961-01-01T00:00:00",
          "1962-01-01T00:00:00",
          "1963-01-01T00:00:00",
          "1964-01-01T00:00:00",
          "1965-01-01T00:00:00",
          "1966-01-01T00:00:00",
          "1967-01-01T00:00:00",
          "1968-01-01T00:00:00",
          "1969-01-01T00:00:00",
          "1970-01-01T00:00:00",
          "1971-01-01T00:00:00",
          "1972-01-01T00:00:00",
          "1973-01-01T00:00:00",
          "1974-01-01T00:00:00",
          "1975-01-01T00:00:00",
          "1976-01-01T00:00:00",
          "1977-01-01T00:00:00",
          "1978-01-01T00:00:00",
          "1979-01-01T00:00:00",
          "1980-01-01T00:00:00",
          "1981-01-01T00:00:00",
          "1982-01-01T00:00:00",
          "1983-01-01T00:00:00",
          "1984-01-01T00:00:00",
          "1985-01-01T00:00:00",
          "1986-01-01T00:00:00",
          "1987-01-01T00:00:00",
          "1988-01-01T00:00:00",
          "1989-01-01T00:00:00",
          "1990-01-01T00:00:00",
          "1991-01-01T00:00:00",
          "1992-01-01T00:00:00",
          "1993-01-01T00:00:00",
          "1994-01-01T00:00:00",
          "1995-01-01T00:00:00",
          "1996-01-01T00:00:00",
          "1997-01-01T00:00:00",
          "1998-01-01T00:00:00",
          "1999-01-01T00:00:00",
          "2000-01-01T00:00:00",
          "2001-01-01T00:00:00",
          "2002-01-01T00:00:00",
          "2003-01-01T00:00:00",
          "2004-01-01T00:00:00",
          "2005-01-01T00:00:00",
          "2006-01-01T00:00:00",
          "2007-01-01T00:00:00",
          "2008-01-01T00:00:00",
          "2009-01-01T00:00:00",
          "2010-01-01T00:00:00",
          "2011-01-01T00:00:00",
          "2012-01-01T00:00:00",
          "2013-01-01T00:00:00",
          "2014-01-01T00:00:00",
          "2015-01-01T00:00:00",
          "2016-01-01T00:00:00",
          "2017-01-01T00:00:00",
          "2018-01-01T00:00:00",
          "2019-01-01T00:00:00",
          "2020-01-01T00:00:00",
          "2021-01-01T00:00:00"
         ],
         "y": [
          null,
          null,
          null,
          null,
          null,
          null,
          null,
          null,
          0.116,
          0.174,
          0.189,
          0.265,
          0.247,
          0.254,
          0.28,
          0.356,
          0.411,
          0.512,
          0.614,
          0.556,
          0.534,
          0.578,
          0.531,
          0.472,
          0.534,
          0.538,
          0.563,
          0.673,
          0.618,
          0.716,
          0.778,
          0.77,
          0.767,
          0.818,
          0.843,
          0.923,
          1.021,
          1.17,
          1.221,
          1.17,
          1.305,
          1.436,
          1.446,
          1.254,
          1.439,
          1.632,
          1.723,
          1.756,
          2.064,
          2.148,
          2.344,
          2.736,
          2.699,
          2.57,
          2.675,
          2.715,
          2.842,
          2.987,
          3.148,
          3.328,
          3.562,
          3.323,
          2.815,
          2.818,
          2.619,
          2.326,
          2.79,
          3.17,
          3.048,
          2.254,
          1.822,
          2.196,
          2.495,
          2.761,
          3.05,
          2.621,
          2.422,
          3.169,
          3.283,
          3.29,
          2.771,
          2.481,
          1.729,
          2.28,
          2.701,
          3.241,
          3.764,
          3.998,
          3.99,
          3.81,
          4.178,
          4.586,
          4.184,
          4.581,
          4.336,
          4.571,
          4.029,
          4.362,
          4.369,
          4.141,
          3.508,
          4.671
         ]
        }
       ],
       "layout": {
        "barmode": "stack",
        "template": {
         "data": {
          "bar": [
           {
            "error_x": {
             "color": "#2a3f5f"
            },
            "error_y": {
             "color": "#2a3f5f"
            },
            "marker": {
             "line": {
              "color": "#E5ECF6",
              "width": 0.5
             },
             "pattern": {
              "fillmode": "overlay",
              "size": 10,
              "solidity": 0.2
             }
            },
            "type": "bar"
           }
          ],
          "barpolar": [
           {
            "marker": {
             "line": {
              "color": "#E5ECF6",
              "width": 0.5
             },
             "pattern": {
              "fillmode": "overlay",
              "size": 10,
              "solidity": 0.2
             }
            },
            "type": "barpolar"
           }
          ],
          "carpet": [
           {
            "aaxis": {
             "endlinecolor": "#2a3f5f",
             "gridcolor": "white",
             "linecolor": "white",
             "minorgridcolor": "white",
             "startlinecolor": "#2a3f5f"
            },
            "baxis": {
             "endlinecolor": "#2a3f5f",
             "gridcolor": "white",
             "linecolor": "white",
             "minorgridcolor": "white",
             "startlinecolor": "#2a3f5f"
            },
            "type": "carpet"
           }
          ],
          "choropleth": [
           {
            "colorbar": {
             "outlinewidth": 0,
             "ticks": ""
            },
            "type": "choropleth"
           }
          ],
          "contour": [
           {
            "colorbar": {
             "outlinewidth": 0,
             "ticks": ""
            },
            "colorscale": [
             [
              0,
              "#0d0887"
             ],
             [
              0.1111111111111111,
              "#46039f"
             ],
             [
              0.2222222222222222,
              "#7201a8"
             ],
             [
              0.3333333333333333,
              "#9c179e"
             ],
             [
              0.4444444444444444,
              "#bd3786"
             ],
             [
              0.5555555555555556,
              "#d8576b"
             ],
             [
              0.6666666666666666,
              "#ed7953"
             ],
             [
              0.7777777777777778,
              "#fb9f3a"
             ],
             [
              0.8888888888888888,
              "#fdca26"
             ],
             [
              1,
              "#f0f921"
             ]
            ],
            "type": "contour"
           }
          ],
          "contourcarpet": [
           {
            "colorbar": {
             "outlinewidth": 0,
             "ticks": ""
            },
            "type": "contourcarpet"
           }
          ],
          "heatmap": [
           {
            "colorbar": {
             "outlinewidth": 0,
             "ticks": ""
            },
            "colorscale": [
             [
              0,
              "#0d0887"
             ],
             [
              0.1111111111111111,
              "#46039f"
             ],
             [
              0.2222222222222222,
              "#7201a8"
             ],
             [
              0.3333333333333333,
              "#9c179e"
             ],
             [
              0.4444444444444444,
              "#bd3786"
             ],
             [
              0.5555555555555556,
              "#d8576b"
             ],
             [
              0.6666666666666666,
              "#ed7953"
             ],
             [
              0.7777777777777778,
              "#fb9f3a"
             ],
             [
              0.8888888888888888,
              "#fdca26"
             ],
             [
              1,
              "#f0f921"
             ]
            ],
            "type": "heatmap"
           }
          ],
          "heatmapgl": [
           {
            "colorbar": {
             "outlinewidth": 0,
             "ticks": ""
            },
            "colorscale": [
             [
              0,
              "#0d0887"
             ],
             [
              0.1111111111111111,
              "#46039f"
             ],
             [
              0.2222222222222222,
              "#7201a8"
             ],
             [
              0.3333333333333333,
              "#9c179e"
             ],
             [
              0.4444444444444444,
              "#bd3786"
             ],
             [
              0.5555555555555556,
              "#d8576b"
             ],
             [
              0.6666666666666666,
              "#ed7953"
             ],
             [
              0.7777777777777778,
              "#fb9f3a"
             ],
             [
              0.8888888888888888,
              "#fdca26"
             ],
             [
              1,
              "#f0f921"
             ]
            ],
            "type": "heatmapgl"
           }
          ],
          "histogram": [
           {
            "marker": {
             "pattern": {
              "fillmode": "overlay",
              "size": 10,
              "solidity": 0.2
             }
            },
            "type": "histogram"
           }
          ],
          "histogram2d": [
           {
            "colorbar": {
             "outlinewidth": 0,
             "ticks": ""
            },
            "colorscale": [
             [
              0,
              "#0d0887"
             ],
             [
              0.1111111111111111,
              "#46039f"
             ],
             [
              0.2222222222222222,
              "#7201a8"
             ],
             [
              0.3333333333333333,
              "#9c179e"
             ],
             [
              0.4444444444444444,
              "#bd3786"
             ],
             [
              0.5555555555555556,
              "#d8576b"
             ],
             [
              0.6666666666666666,
              "#ed7953"
             ],
             [
              0.7777777777777778,
              "#fb9f3a"
             ],
             [
              0.8888888888888888,
              "#fdca26"
             ],
             [
              1,
              "#f0f921"
             ]
            ],
            "type": "histogram2d"
           }
          ],
          "histogram2dcontour": [
           {
            "colorbar": {
             "outlinewidth": 0,
             "ticks": ""
            },
            "colorscale": [
             [
              0,
              "#0d0887"
             ],
             [
              0.1111111111111111,
              "#46039f"
             ],
             [
              0.2222222222222222,
              "#7201a8"
             ],
             [
              0.3333333333333333,
              "#9c179e"
             ],
             [
              0.4444444444444444,
              "#bd3786"
             ],
             [
              0.5555555555555556,
              "#d8576b"
             ],
             [
              0.6666666666666666,
              "#ed7953"
             ],
             [
              0.7777777777777778,
              "#fb9f3a"
             ],
             [
              0.8888888888888888,
              "#fdca26"
             ],
             [
              1,
              "#f0f921"
             ]
            ],
            "type": "histogram2dcontour"
           }
          ],
          "mesh3d": [
           {
            "colorbar": {
             "outlinewidth": 0,
             "ticks": ""
            },
            "type": "mesh3d"
           }
          ],
          "parcoords": [
           {
            "line": {
             "colorbar": {
              "outlinewidth": 0,
              "ticks": ""
             }
            },
            "type": "parcoords"
           }
          ],
          "pie": [
           {
            "automargin": true,
            "type": "pie"
           }
          ],
          "scatter": [
           {
            "fillpattern": {
             "fillmode": "overlay",
             "size": 10,
             "solidity": 0.2
            },
            "type": "scatter"
           }
          ],
          "scatter3d": [
           {
            "line": {
             "colorbar": {
              "outlinewidth": 0,
              "ticks": ""
             }
            },
            "marker": {
             "colorbar": {
              "outlinewidth": 0,
              "ticks": ""
             }
            },
            "type": "scatter3d"
           }
          ],
          "scattercarpet": [
           {
            "marker": {
             "colorbar": {
              "outlinewidth": 0,
              "ticks": ""
             }
            },
            "type": "scattercarpet"
           }
          ],
          "scattergeo": [
           {
            "marker": {
             "colorbar": {
              "outlinewidth": 0,
              "ticks": ""
             }
            },
            "type": "scattergeo"
           }
          ],
          "scattergl": [
           {
            "marker": {
             "colorbar": {
              "outlinewidth": 0,
              "ticks": ""
             }
            },
            "type": "scattergl"
           }
          ],
          "scattermapbox": [
           {
            "marker": {
             "colorbar": {
              "outlinewidth": 0,
              "ticks": ""
             }
            },
            "type": "scattermapbox"
           }
          ],
          "scatterpolar": [
           {
            "marker": {
             "colorbar": {
              "outlinewidth": 0,
              "ticks": ""
             }
            },
            "type": "scatterpolar"
           }
          ],
          "scatterpolargl": [
           {
            "marker": {
             "colorbar": {
              "outlinewidth": 0,
              "ticks": ""
             }
            },
            "type": "scatterpolargl"
           }
          ],
          "scatterternary": [
           {
            "marker": {
             "colorbar": {
              "outlinewidth": 0,
              "ticks": ""
             }
            },
            "type": "scatterternary"
           }
          ],
          "surface": [
           {
            "colorbar": {
             "outlinewidth": 0,
             "ticks": ""
            },
            "colorscale": [
             [
              0,
              "#0d0887"
             ],
             [
              0.1111111111111111,
              "#46039f"
             ],
             [
              0.2222222222222222,
              "#7201a8"
             ],
             [
              0.3333333333333333,
              "#9c179e"
             ],
             [
              0.4444444444444444,
              "#bd3786"
             ],
             [
              0.5555555555555556,
              "#d8576b"
             ],
             [
              0.6666666666666666,
              "#ed7953"
             ],
             [
              0.7777777777777778,
              "#fb9f3a"
             ],
             [
              0.8888888888888888,
              "#fdca26"
             ],
             [
              1,
              "#f0f921"
             ]
            ],
            "type": "surface"
           }
          ],
          "table": [
           {
            "cells": {
             "fill": {
              "color": "#EBF0F8"
             },
             "line": {
              "color": "white"
             }
            },
            "header": {
             "fill": {
              "color": "#C8D4E3"
             },
             "line": {
              "color": "white"
             }
            },
            "type": "table"
           }
          ]
         },
         "layout": {
          "annotationdefaults": {
           "arrowcolor": "#2a3f5f",
           "arrowhead": 0,
           "arrowwidth": 1
          },
          "autotypenumbers": "strict",
          "coloraxis": {
           "colorbar": {
            "outlinewidth": 0,
            "ticks": ""
           }
          },
          "colorscale": {
           "diverging": [
            [
             0,
             "#8e0152"
            ],
            [
             0.1,
             "#c51b7d"
            ],
            [
             0.2,
             "#de77ae"
            ],
            [
             0.3,
             "#f1b6da"
            ],
            [
             0.4,
             "#fde0ef"
            ],
            [
             0.5,
             "#f7f7f7"
            ],
            [
             0.6,
             "#e6f5d0"
            ],
            [
             0.7,
             "#b8e186"
            ],
            [
             0.8,
             "#7fbc41"
            ],
            [
             0.9,
             "#4d9221"
            ],
            [
             1,
             "#276419"
            ]
           ],
           "sequential": [
            [
             0,
             "#0d0887"
            ],
            [
             0.1111111111111111,
             "#46039f"
            ],
            [
             0.2222222222222222,
             "#7201a8"
            ],
            [
             0.3333333333333333,
             "#9c179e"
            ],
            [
             0.4444444444444444,
             "#bd3786"
            ],
            [
             0.5555555555555556,
             "#d8576b"
            ],
            [
             0.6666666666666666,
             "#ed7953"
            ],
            [
             0.7777777777777778,
             "#fb9f3a"
            ],
            [
             0.8888888888888888,
             "#fdca26"
            ],
            [
             1,
             "#f0f921"
            ]
           ],
           "sequentialminus": [
            [
             0,
             "#0d0887"
            ],
            [
             0.1111111111111111,
             "#46039f"
            ],
            [
             0.2222222222222222,
             "#7201a8"
            ],
            [
             0.3333333333333333,
             "#9c179e"
            ],
            [
             0.4444444444444444,
             "#bd3786"
            ],
            [
             0.5555555555555556,
             "#d8576b"
            ],
            [
             0.6666666666666666,
             "#ed7953"
            ],
            [
             0.7777777777777778,
             "#fb9f3a"
            ],
            [
             0.8888888888888888,
             "#fdca26"
            ],
            [
             1,
             "#f0f921"
            ]
           ]
          },
          "colorway": [
           "#636efa",
           "#EF553B",
           "#00cc96",
           "#ab63fa",
           "#FFA15A",
           "#19d3f3",
           "#FF6692",
           "#B6E880",
           "#FF97FF",
           "#FECB52"
          ],
          "font": {
           "color": "#2a3f5f"
          },
          "geo": {
           "bgcolor": "white",
           "lakecolor": "white",
           "landcolor": "#E5ECF6",
           "showlakes": true,
           "showland": true,
           "subunitcolor": "white"
          },
          "hoverlabel": {
           "align": "left"
          },
          "hovermode": "closest",
          "mapbox": {
           "style": "light"
          },
          "paper_bgcolor": "white",
          "plot_bgcolor": "#E5ECF6",
          "polar": {
           "angularaxis": {
            "gridcolor": "white",
            "linecolor": "white",
            "ticks": ""
           },
           "bgcolor": "#E5ECF6",
           "radialaxis": {
            "gridcolor": "white",
            "linecolor": "white",
            "ticks": ""
           }
          },
          "scene": {
           "xaxis": {
            "backgroundcolor": "#E5ECF6",
            "gridcolor": "white",
            "gridwidth": 2,
            "linecolor": "white",
            "showbackground": true,
            "ticks": "",
            "zerolinecolor": "white"
           },
           "yaxis": {
            "backgroundcolor": "#E5ECF6",
            "gridcolor": "white",
            "gridwidth": 2,
            "linecolor": "white",
            "showbackground": true,
            "ticks": "",
            "zerolinecolor": "white"
           },
           "zaxis": {
            "backgroundcolor": "#E5ECF6",
            "gridcolor": "white",
            "gridwidth": 2,
            "linecolor": "white",
            "showbackground": true,
            "ticks": "",
            "zerolinecolor": "white"
           }
          },
          "shapedefaults": {
           "line": {
            "color": "#2a3f5f"
           }
          },
          "ternary": {
           "aaxis": {
            "gridcolor": "white",
            "linecolor": "white",
            "ticks": ""
           },
           "baxis": {
            "gridcolor": "white",
            "linecolor": "white",
            "ticks": ""
           },
           "bgcolor": "#E5ECF6",
           "caxis": {
            "gridcolor": "white",
            "linecolor": "white",
            "ticks": ""
           }
          },
          "title": {
           "x": 0.05
          },
          "xaxis": {
           "automargin": true,
           "gridcolor": "white",
           "linecolor": "white",
           "ticks": "",
           "title": {
            "standoff": 15
           },
           "zerolinecolor": "white",
           "zerolinewidth": 2
          },
          "yaxis": {
           "automargin": true,
           "gridcolor": "white",
           "linecolor": "white",
           "ticks": "",
           "title": {
            "standoff": 15
           },
           "zerolinecolor": "white",
           "zerolinewidth": 2
          }
         }
        },
        "title": {
         "font": {
          "size": 15
         },
         "text": "Emisiones totales de CO2 por combustible e industria - Argentina"
        },
        "xaxis": {
         "title": {
          "text": "Año"
         }
        },
        "yaxis": {
         "title": {
          "text": "Millones de toneladas de CO2"
         }
        }
       }
      }
     },
     "metadata": {},
     "output_type": "display_data"
    }
   ],
   "source": [
    "import plotly.graph_objects as go\n",
    "\n",
    "fig = go.Figure(data=[\n",
    "    go.Bar(name='Coal', x=grafico3['year'], y=grafico3['coal_co2']),\n",
    "    go.Bar(name='Flaring', x=grafico3['year'], y=grafico3['flaring_co2']),\n",
    "    go.Bar(name='Gas', x=grafico3['year'], y=grafico3['gas_co2']),\n",
    "    go.Bar(name='Oil', x=grafico3['year'], y=grafico3['oil_co2']),\n",
    "    go.Bar(name='Other Industry', x=grafico3['year'], y=grafico3['other_industry_co2']),\n",
    "    go.Bar(name='Cement', x=grafico3['year'], y=grafico3['cement_co2'])\n",
    "])\n",
    "\n",
    "fig.update_layout(barmode='stack', title='Emisiones totales de CO2 por combustible e industria - Argentina',\n",
    "                  xaxis_title='Año', yaxis_title='Millones de toneladas de CO2', title_font_size=15)\n",
    "\n",
    "fig.update_traces(hovertemplate='%{y:.2f} Millones de toneladas de CO2<br>%{x}<extra></extra>')\n",
    "\n",
    "fig.show()\n"
   ]
  },
  {
   "attachments": {},
   "cell_type": "markdown",
   "id": "dfaf6cf2",
   "metadata": {},
   "source": [
    "\n",
    "A lo largo del período analizado, observamos un notable crecimiento en las emisiones totales de CO2. Sin embargo, a partir del año 2000, podemos apreciar que las emisiones de la mayoría de los combustibles se han mantenido estables, como se muestra en el siguiente gráfico de tasas de variación. Es importante tener en cuenta que en este gráfico, las emisiones de cada combustible se presentan de manera apilada, y en orden de incidencia predominan las emisiones de oil, gas, cemento, carbón y otros.\n",
    "\n",
    "A partir del año 2010, la relativa estabilidad de las emisiones puede estar relacionada con un estancamiento en el crecimiento del Producto Interno Bruto (PIB). Sin embargo, en el año 2021 se observa una marcada expansión de las emisiones, lo cual podría vincularse con la recuperación económica posterior a la caída de la actividad durante el año 2020."
   ]
  },
  {
   "cell_type": "code",
   "execution_count": 142,
   "id": "babaf05e",
   "metadata": {},
   "outputs": [
    {
     "data": {
      "application/vnd.plotly.v1+json": {
       "config": {
        "plotlyServerURL": "https://plot.ly"
       },
       "data": [
        {
         "alignmentgroup": "True",
         "hovertemplate": "Fuente de emisiones=coal_co2<br>year=%{x}<br>Tasa de variación=%{y}<extra></extra>",
         "legendgroup": "coal_co2",
         "marker": {
          "color": "#1F77B4",
          "pattern": {
           "shape": ""
          }
         },
         "name": "coal_co2",
         "offsetgroup": "coal_co2",
         "orientation": "v",
         "showlegend": true,
         "textposition": "auto",
         "type": "bar",
         "x": [
          "1928-01-01T00:00:00",
          "1929-01-01T00:00:00",
          "1930-01-01T00:00:00",
          "1931-01-01T00:00:00",
          "1932-01-01T00:00:00",
          "1933-01-01T00:00:00",
          "1934-01-01T00:00:00",
          "1935-01-01T00:00:00",
          "1936-01-01T00:00:00",
          "1937-01-01T00:00:00",
          "1938-01-01T00:00:00",
          "1939-01-01T00:00:00",
          "1940-01-01T00:00:00",
          "1941-01-01T00:00:00",
          "1942-01-01T00:00:00",
          "1943-01-01T00:00:00",
          "1944-01-01T00:00:00",
          "1945-01-01T00:00:00",
          "1946-01-01T00:00:00",
          "1947-01-01T00:00:00",
          "1948-01-01T00:00:00",
          "1949-01-01T00:00:00",
          "1950-01-01T00:00:00",
          "1951-01-01T00:00:00",
          "1952-01-01T00:00:00",
          "1953-01-01T00:00:00",
          "1954-01-01T00:00:00",
          "1955-01-01T00:00:00",
          "1956-01-01T00:00:00",
          "1957-01-01T00:00:00",
          "1958-01-01T00:00:00",
          "1959-01-01T00:00:00",
          "1960-01-01T00:00:00",
          "1961-01-01T00:00:00",
          "1962-01-01T00:00:00",
          "1963-01-01T00:00:00",
          "1964-01-01T00:00:00",
          "1965-01-01T00:00:00",
          "1966-01-01T00:00:00",
          "1967-01-01T00:00:00",
          "1968-01-01T00:00:00",
          "1969-01-01T00:00:00",
          "1970-01-01T00:00:00",
          "1971-01-01T00:00:00",
          "1972-01-01T00:00:00",
          "1973-01-01T00:00:00",
          "1974-01-01T00:00:00",
          "1975-01-01T00:00:00",
          "1976-01-01T00:00:00",
          "1977-01-01T00:00:00",
          "1978-01-01T00:00:00",
          "1979-01-01T00:00:00",
          "1980-01-01T00:00:00",
          "1981-01-01T00:00:00",
          "1982-01-01T00:00:00",
          "1983-01-01T00:00:00",
          "1984-01-01T00:00:00",
          "1985-01-01T00:00:00",
          "1986-01-01T00:00:00",
          "1987-01-01T00:00:00",
          "1988-01-01T00:00:00",
          "1989-01-01T00:00:00",
          "1990-01-01T00:00:00",
          "1991-01-01T00:00:00",
          "1992-01-01T00:00:00",
          "1993-01-01T00:00:00",
          "1994-01-01T00:00:00",
          "1995-01-01T00:00:00",
          "1996-01-01T00:00:00",
          "1997-01-01T00:00:00",
          "1998-01-01T00:00:00",
          "1999-01-01T00:00:00",
          "2000-01-01T00:00:00",
          "2001-01-01T00:00:00",
          "2002-01-01T00:00:00",
          "2003-01-01T00:00:00",
          "2004-01-01T00:00:00",
          "2005-01-01T00:00:00",
          "2006-01-01T00:00:00",
          "2007-01-01T00:00:00",
          "2008-01-01T00:00:00",
          "2009-01-01T00:00:00",
          "2010-01-01T00:00:00",
          "2011-01-01T00:00:00",
          "2012-01-01T00:00:00",
          "2013-01-01T00:00:00",
          "2014-01-01T00:00:00",
          "2015-01-01T00:00:00",
          "2016-01-01T00:00:00",
          "2017-01-01T00:00:00",
          "2018-01-01T00:00:00",
          "2019-01-01T00:00:00",
          "2020-01-01T00:00:00",
          "2021-01-01T00:00:00"
         ],
         "xaxis": "x",
         "y": [
          null,
          0.004466441332689364,
          -0.024275928373993505,
          -0.14435275280206916,
          -0.0886713689362314,
          -0.058758489969989114,
          0.1043799295183756,
          -0.03707643215316836,
          0.10257219504497406,
          0.16759696579361671,
          -0.09340524638391756,
          0.04975662520281232,
          -0.3084750128799588,
          -0.4997206183646862,
          -0.4843633655994043,
          0.1184115523465703,
          0.06455777921239525,
          0.24014554275318378,
          0.487041564792176,
          0.0700427490956923,
          0.7870313460356486,
          -0.3812553740326742,
          -0.010283490828237873,
          0.5360853692782925,
          -0.17605118829981725,
          -0.3090747725759929,
          0.19524727039177914,
          -0.1375604513702311,
          0.18816199376947051,
          -0.11903513371788155,
          0.12529761904761916,
          -0.013488495107114584,
          0.04718498659517434,
          -0.09395801331285203,
          -0.4326080813789206,
          0.14790836653386452,
          0.1093275488069414,
          0.01720766523269468,
          -0.00538254517493264,
          0.13606494008504044,
          -0.19462402177611438,
          0.09421208280523863,
          0.2691119691119692,
          -0.10921813203529052,
          -0.02390710382513661,
          0.007697690692792136,
          0.16909722222222223,
          0.06741906741906734,
          -0.0987757373400111,
          -0.16517443655449204,
          0.4175295857988166,
          -0.06026611009653027,
          -0.2046085508051082,
          0.032111692844676964,
          -0.10043963476496442,
          -0.17631578947368431,
          -0.020082154267457852,
          0.2920353982300887,
          0.2231434751261716,
          0.11346890657235487,
          0.06484912652196928,
          0.03007705692269469,
          -0.2591698841698842,
          -0.12410423452768726,
          0.04239494235775387,
          -0.17909382804138418,
          0.5475880052151236,
          0.039314799213703955,
          -0.16238854363685484,
          -0.10419354838709671,
          0.022686352178609814,
          -0.2415492957746479,
          -0.2311977715877438,
          -0.22101449275362317,
          -0.148062015503876,
          0.8107370336669699,
          0.10452261306532651,
          0.48680618744313,
          0.1829865361077112,
          -0.05328504914640453,
          0.05928961748633865,
          -0.16636574671137472,
          0.23452970297029707,
          0.18370927318295727,
          0.06055473216176166,
          -0.033739269315232634,
          0.14380165289256186,
          -0.012463872832369938,
          -0.23321748673861342,
          0.020753816793892987,
          0.01799485861182526,
          -0.5080348943985308,
          0.2328511432571163,
          0.8228614685844058
         ],
         "yaxis": "y"
        },
        {
         "alignmentgroup": "True",
         "hovertemplate": "Fuente de emisiones=flaring_co2<br>year=%{x}<br>Tasa de variación=%{y}<extra></extra>",
         "legendgroup": "flaring_co2",
         "marker": {
          "color": "#FF7F0E",
          "pattern": {
           "shape": ""
          }
         },
         "name": "flaring_co2",
         "offsetgroup": "flaring_co2",
         "orientation": "v",
         "showlegend": true,
         "textposition": "auto",
         "type": "bar",
         "x": [
          "1928-01-01T00:00:00",
          "1929-01-01T00:00:00",
          "1930-01-01T00:00:00",
          "1931-01-01T00:00:00",
          "1932-01-01T00:00:00",
          "1933-01-01T00:00:00",
          "1934-01-01T00:00:00",
          "1935-01-01T00:00:00",
          "1936-01-01T00:00:00",
          "1937-01-01T00:00:00",
          "1938-01-01T00:00:00",
          "1939-01-01T00:00:00",
          "1940-01-01T00:00:00",
          "1941-01-01T00:00:00",
          "1942-01-01T00:00:00",
          "1943-01-01T00:00:00",
          "1944-01-01T00:00:00",
          "1945-01-01T00:00:00",
          "1946-01-01T00:00:00",
          "1947-01-01T00:00:00",
          "1948-01-01T00:00:00",
          "1949-01-01T00:00:00",
          "1950-01-01T00:00:00",
          "1951-01-01T00:00:00",
          "1952-01-01T00:00:00",
          "1953-01-01T00:00:00",
          "1954-01-01T00:00:00",
          "1955-01-01T00:00:00",
          "1956-01-01T00:00:00",
          "1957-01-01T00:00:00",
          "1958-01-01T00:00:00",
          "1959-01-01T00:00:00",
          "1960-01-01T00:00:00",
          "1961-01-01T00:00:00",
          "1962-01-01T00:00:00",
          "1963-01-01T00:00:00",
          "1964-01-01T00:00:00",
          "1965-01-01T00:00:00",
          "1966-01-01T00:00:00",
          "1967-01-01T00:00:00",
          "1968-01-01T00:00:00",
          "1969-01-01T00:00:00",
          "1970-01-01T00:00:00",
          "1971-01-01T00:00:00",
          "1972-01-01T00:00:00",
          "1973-01-01T00:00:00",
          "1974-01-01T00:00:00",
          "1975-01-01T00:00:00",
          "1976-01-01T00:00:00",
          "1977-01-01T00:00:00",
          "1978-01-01T00:00:00",
          "1979-01-01T00:00:00",
          "1980-01-01T00:00:00",
          "1981-01-01T00:00:00",
          "1982-01-01T00:00:00",
          "1983-01-01T00:00:00",
          "1984-01-01T00:00:00",
          "1985-01-01T00:00:00",
          "1986-01-01T00:00:00",
          "1987-01-01T00:00:00",
          "1988-01-01T00:00:00",
          "1989-01-01T00:00:00",
          "1990-01-01T00:00:00",
          "1991-01-01T00:00:00",
          "1992-01-01T00:00:00",
          "1993-01-01T00:00:00",
          "1994-01-01T00:00:00",
          "1995-01-01T00:00:00",
          "1996-01-01T00:00:00",
          "1997-01-01T00:00:00",
          "1998-01-01T00:00:00",
          "1999-01-01T00:00:00",
          "2000-01-01T00:00:00",
          "2001-01-01T00:00:00",
          "2002-01-01T00:00:00",
          "2003-01-01T00:00:00",
          "2004-01-01T00:00:00",
          "2005-01-01T00:00:00",
          "2006-01-01T00:00:00",
          "2007-01-01T00:00:00",
          "2008-01-01T00:00:00",
          "2009-01-01T00:00:00",
          "2010-01-01T00:00:00",
          "2011-01-01T00:00:00",
          "2012-01-01T00:00:00",
          "2013-01-01T00:00:00",
          "2014-01-01T00:00:00",
          "2015-01-01T00:00:00",
          "2016-01-01T00:00:00",
          "2017-01-01T00:00:00",
          "2018-01-01T00:00:00",
          "2019-01-01T00:00:00",
          "2020-01-01T00:00:00",
          "2021-01-01T00:00:00"
         ],
         "xaxis": "x",
         "y": [
          null,
          null,
          null,
          null,
          null,
          null,
          null,
          null,
          null,
          null,
          null,
          null,
          null,
          null,
          null,
          null,
          null,
          null,
          null,
          null,
          null,
          null,
          null,
          null,
          null,
          null,
          null,
          null,
          null,
          null,
          null,
          null,
          null,
          null,
          null,
          null,
          null,
          null,
          null,
          0.19232409381663085,
          0.028612303290414864,
          -0.015299026425591111,
          -0.007768361581920846,
          0.011743772241992856,
          -0.03482237073513883,
          0.14030612244897944,
          -0.021093000958772756,
          0.27391446294482535,
          0.3541773449513068,
          0.02346707040121121,
          0.15588017751479288,
          0.055671092625179996,
          -0.06713138354296111,
          -0.1643924626380766,
          0.08767496111975115,
          -0.07131367292225199,
          0.37586605080831426,
          -0.13442439502028258,
          -0.2236586942469294,
          -0.005412156536219959,
          0.22854750941816682,
          0.0667802385008518,
          -0.23586713510060675,
          -0.14231974921630097,
          -0.026072124756335358,
          0.1891418563922942,
          0.20723753418893343,
          -0.05681422098292099,
          0.06762749445676275,
          -0.4248875043267566,
          -0.3560036111947036,
          -0.30140186915887845,
          -0.2916387959866221,
          0.02738432483474984,
          0.32996323529411753,
          0.33724948168624747,
          -0.26511627906976754,
          -0.18565400843881863,
          0.0345423143350605,
          0.21702838063439067,
          0.00274348422496562,
          0.04787961696306442,
          -0.026762402088772785,
          -0.014755197853789426,
          -0.23008849557522126,
          0.14146772767462412,
          0.07513555383423709,
          -0.1224783861671469,
          -0.30952380952380953,
          0.14149821640903681,
          0.41562500000000013,
          0.30316409124356136,
          0.12196499153020901,
          0.1701056869652744
         ],
         "yaxis": "y"
        },
        {
         "alignmentgroup": "True",
         "hovertemplate": "Fuente de emisiones=gas_co2<br>year=%{x}<br>Tasa de variación=%{y}<extra></extra>",
         "legendgroup": "gas_co2",
         "marker": {
          "color": "#2CA02C",
          "pattern": {
           "shape": ""
          }
         },
         "name": "gas_co2",
         "offsetgroup": "gas_co2",
         "orientation": "v",
         "showlegend": true,
         "textposition": "auto",
         "type": "bar",
         "x": [
          "1928-01-01T00:00:00",
          "1929-01-01T00:00:00",
          "1930-01-01T00:00:00",
          "1931-01-01T00:00:00",
          "1932-01-01T00:00:00",
          "1933-01-01T00:00:00",
          "1934-01-01T00:00:00",
          "1935-01-01T00:00:00",
          "1936-01-01T00:00:00",
          "1937-01-01T00:00:00",
          "1938-01-01T00:00:00",
          "1939-01-01T00:00:00",
          "1940-01-01T00:00:00",
          "1941-01-01T00:00:00",
          "1942-01-01T00:00:00",
          "1943-01-01T00:00:00",
          "1944-01-01T00:00:00",
          "1945-01-01T00:00:00",
          "1946-01-01T00:00:00",
          "1947-01-01T00:00:00",
          "1948-01-01T00:00:00",
          "1949-01-01T00:00:00",
          "1950-01-01T00:00:00",
          "1951-01-01T00:00:00",
          "1952-01-01T00:00:00",
          "1953-01-01T00:00:00",
          "1954-01-01T00:00:00",
          "1955-01-01T00:00:00",
          "1956-01-01T00:00:00",
          "1957-01-01T00:00:00",
          "1958-01-01T00:00:00",
          "1959-01-01T00:00:00",
          "1960-01-01T00:00:00",
          "1961-01-01T00:00:00",
          "1962-01-01T00:00:00",
          "1963-01-01T00:00:00",
          "1964-01-01T00:00:00",
          "1965-01-01T00:00:00",
          "1966-01-01T00:00:00",
          "1967-01-01T00:00:00",
          "1968-01-01T00:00:00",
          "1969-01-01T00:00:00",
          "1970-01-01T00:00:00",
          "1971-01-01T00:00:00",
          "1972-01-01T00:00:00",
          "1973-01-01T00:00:00",
          "1974-01-01T00:00:00",
          "1975-01-01T00:00:00",
          "1976-01-01T00:00:00",
          "1977-01-01T00:00:00",
          "1978-01-01T00:00:00",
          "1979-01-01T00:00:00",
          "1980-01-01T00:00:00",
          "1981-01-01T00:00:00",
          "1982-01-01T00:00:00",
          "1983-01-01T00:00:00",
          "1984-01-01T00:00:00",
          "1985-01-01T00:00:00",
          "1986-01-01T00:00:00",
          "1987-01-01T00:00:00",
          "1988-01-01T00:00:00",
          "1989-01-01T00:00:00",
          "1990-01-01T00:00:00",
          "1991-01-01T00:00:00",
          "1992-01-01T00:00:00",
          "1993-01-01T00:00:00",
          "1994-01-01T00:00:00",
          "1995-01-01T00:00:00",
          "1996-01-01T00:00:00",
          "1997-01-01T00:00:00",
          "1998-01-01T00:00:00",
          "1999-01-01T00:00:00",
          "2000-01-01T00:00:00",
          "2001-01-01T00:00:00",
          "2002-01-01T00:00:00",
          "2003-01-01T00:00:00",
          "2004-01-01T00:00:00",
          "2005-01-01T00:00:00",
          "2006-01-01T00:00:00",
          "2007-01-01T00:00:00",
          "2008-01-01T00:00:00",
          "2009-01-01T00:00:00",
          "2010-01-01T00:00:00",
          "2011-01-01T00:00:00",
          "2012-01-01T00:00:00",
          "2013-01-01T00:00:00",
          "2014-01-01T00:00:00",
          "2015-01-01T00:00:00",
          "2016-01-01T00:00:00",
          "2017-01-01T00:00:00",
          "2018-01-01T00:00:00",
          "2019-01-01T00:00:00",
          "2020-01-01T00:00:00",
          "2021-01-01T00:00:00"
         ],
         "xaxis": "x",
         "y": [
          null,
          0.5420875420875422,
          -0.008733624454148492,
          0.2422907488986783,
          0.3634751773049647,
          0.3446033810143043,
          0.20793036750483562,
          -0.15452361889511612,
          -0.13636363636363635,
          -0.05153508771929827,
          -0.030057803468208077,
          0.05721096543504167,
          0.03269447576099216,
          0.10807860262008728,
          0.13694581280788176,
          0.0034662045060658286,
          -0.022452504317789335,
          -0.08038869257950532,
          -0.07108549471661862,
          0.031023784901758056,
          -0.23169508525576732,
          0.4830287206266317,
          -1,
          null,
          0.08251057827926656,
          -0.22214983713355052,
          0.012562814070351758,
          0.014888337468982549,
          0.06275468622656888,
          0.11809815950920233,
          0.015089163237311354,
          -0.004729729729729626,
          0.6042090970807874,
          0.7054591620820991,
          0.26749379652605443,
          0.14115113547376668,
          0.1094527363184079,
          0.1206123395701253,
          0.08293086794535665,
          0.04587155963302747,
          0.11379142300194922,
          -0.004047254430102676,
          0.1291598023064251,
          0.07197743410174118,
          0.1313855367026584,
          0.13778169861255907,
          0.051878480298865215,
          0.05354151310058297,
          0.04738582877496489,
          0.026598651849153,
          -0.028334812185744074,
          0.09679775964933635,
          0.08603463587921856,
          0.04696923234181738,
          0.1349279960947034,
          0.12968299711815567,
          0.03948370392933298,
          0.055236071938757014,
          0.0748030129473427,
          0.18521508848985913,
          0.15079429957219537,
          0.056259323278005535,
          -0.031294133470824326,
          0.09420776155323618,
          0.021550630234328683,
          -0.15514564312775603,
          0.045774216471856644,
          0.24645593645289043,
          0.0817182065983646,
          0.06885405442980774,
          0.0017885015608740673,
          0.09749407602168336,
          0.026870350926487374,
          -0.06666378639937798,
          -0.03377617306238334,
          0.1030022357074416,
          0.20039090777472146,
          -0.011385702741493975,
          0.023204460331596843,
          0.03945438719908423,
          0.0337470462731424,
          -0.023579671549045722,
          -0.01212568895960009,
          0.0650998527517026,
          0.030177022692170485,
          -0.04238789696061063,
          0.01648820863167577,
          0.007442591874542215,
          0.02959320040626512,
          0.001443361058326209,
          -0.0033076875220338087,
          -0.005357718756176966,
          -0.05642833235712508,
          0.04561426845354899
         ],
         "yaxis": "y"
        },
        {
         "alignmentgroup": "True",
         "hovertemplate": "Fuente de emisiones=oil_co2<br>year=%{x}<br>Tasa de variación=%{y}<extra></extra>",
         "legendgroup": "oil_co2",
         "marker": {
          "color": "#D62728",
          "pattern": {
           "shape": ""
          }
         },
         "name": "oil_co2",
         "offsetgroup": "oil_co2",
         "orientation": "v",
         "showlegend": true,
         "textposition": "auto",
         "type": "bar",
         "x": [
          "1928-01-01T00:00:00",
          "1929-01-01T00:00:00",
          "1930-01-01T00:00:00",
          "1931-01-01T00:00:00",
          "1932-01-01T00:00:00",
          "1933-01-01T00:00:00",
          "1934-01-01T00:00:00",
          "1935-01-01T00:00:00",
          "1936-01-01T00:00:00",
          "1937-01-01T00:00:00",
          "1938-01-01T00:00:00",
          "1939-01-01T00:00:00",
          "1940-01-01T00:00:00",
          "1941-01-01T00:00:00",
          "1942-01-01T00:00:00",
          "1943-01-01T00:00:00",
          "1944-01-01T00:00:00",
          "1945-01-01T00:00:00",
          "1946-01-01T00:00:00",
          "1947-01-01T00:00:00",
          "1948-01-01T00:00:00",
          "1949-01-01T00:00:00",
          "1950-01-01T00:00:00",
          "1951-01-01T00:00:00",
          "1952-01-01T00:00:00",
          "1953-01-01T00:00:00",
          "1954-01-01T00:00:00",
          "1955-01-01T00:00:00",
          "1956-01-01T00:00:00",
          "1957-01-01T00:00:00",
          "1958-01-01T00:00:00",
          "1959-01-01T00:00:00",
          "1960-01-01T00:00:00",
          "1961-01-01T00:00:00",
          "1962-01-01T00:00:00",
          "1963-01-01T00:00:00",
          "1964-01-01T00:00:00",
          "1965-01-01T00:00:00",
          "1966-01-01T00:00:00",
          "1967-01-01T00:00:00",
          "1968-01-01T00:00:00",
          "1969-01-01T00:00:00",
          "1970-01-01T00:00:00",
          "1971-01-01T00:00:00",
          "1972-01-01T00:00:00",
          "1973-01-01T00:00:00",
          "1974-01-01T00:00:00",
          "1975-01-01T00:00:00",
          "1976-01-01T00:00:00",
          "1977-01-01T00:00:00",
          "1978-01-01T00:00:00",
          "1979-01-01T00:00:00",
          "1980-01-01T00:00:00",
          "1981-01-01T00:00:00",
          "1982-01-01T00:00:00",
          "1983-01-01T00:00:00",
          "1984-01-01T00:00:00",
          "1985-01-01T00:00:00",
          "1986-01-01T00:00:00",
          "1987-01-01T00:00:00",
          "1988-01-01T00:00:00",
          "1989-01-01T00:00:00",
          "1990-01-01T00:00:00",
          "1991-01-01T00:00:00",
          "1992-01-01T00:00:00",
          "1993-01-01T00:00:00",
          "1994-01-01T00:00:00",
          "1995-01-01T00:00:00",
          "1996-01-01T00:00:00",
          "1997-01-01T00:00:00",
          "1998-01-01T00:00:00",
          "1999-01-01T00:00:00",
          "2000-01-01T00:00:00",
          "2001-01-01T00:00:00",
          "2002-01-01T00:00:00",
          "2003-01-01T00:00:00",
          "2004-01-01T00:00:00",
          "2005-01-01T00:00:00",
          "2006-01-01T00:00:00",
          "2007-01-01T00:00:00",
          "2008-01-01T00:00:00",
          "2009-01-01T00:00:00",
          "2010-01-01T00:00:00",
          "2011-01-01T00:00:00",
          "2012-01-01T00:00:00",
          "2013-01-01T00:00:00",
          "2014-01-01T00:00:00",
          "2015-01-01T00:00:00",
          "2016-01-01T00:00:00",
          "2017-01-01T00:00:00",
          "2018-01-01T00:00:00",
          "2019-01-01T00:00:00",
          "2020-01-01T00:00:00",
          "2021-01-01T00:00:00"
         ],
         "xaxis": "x",
         "y": [
          null,
          0.033655035882207196,
          -0.04117787886042612,
          0.2651685393258427,
          0.13518847444247073,
          0.04050764951321284,
          0.024227234753550375,
          0.01941272430668839,
          0.08593374939990395,
          0.05747126436781613,
          0.044871794871794934,
          0.08975726860496125,
          0.10696365193978719,
          0.06821448313985634,
          0.07731318567584355,
          0.04697857623210666,
          -0.02394934850431263,
          -0.0558428128231645,
          -0.0908095190680075,
          0.050377833753148415,
          0.062767177562298,
          -0.027273619150397388,
          1.580131114473021,
          0.06731295442107732,
          0.07259009668912997,
          0.02465341801543386,
          0.032258064516129004,
          0.10408057851239683,
          0.11570175438596464,
          0.09073040333359561,
          -0.09392344842499822,
          0.1290373906125697,
          -0.03253006388575719,
          0.02257774756621589,
          0.07020251181121062,
          -0.09834065397754999,
          0.11224012793701554,
          0.046829030902293844,
          0.026329135322457953,
          0.02485073090385015,
          0.05590935572654043,
          0.15245433789954332,
          0.05535469598666065,
          0.08436316991521453,
          -0.00031737330313486023,
          0.027605812661442686,
          0.0033983991012498382,
          -0.035534344734927004,
          0.04288015323668981,
          0.011604608448822828,
          0.0027096916178372954,
          0.08469251978765135,
          -0.03243837972506414,
          -0.08429183876195956,
          -0.014659073066986439,
          -0.005186000695329596,
          -0.020924949762646916,
          -0.10116453738269093,
          0.029204930917514638,
          0.0683922829581991,
          -0.003340656694856503,
          -0.09782280468655635,
          -0.009455592187839867,
          0.03455092248428726,
          0.039194551957278057,
          0.0553329247403076,
          0.0007296661405129523,
          -0.06498221805574167,
          0.04909605958367824,
          0.014365680132279346,
          0.04049769695519534,
          0.04525985972174307,
          -0.07275352354761078,
          -0.045941216596968926,
          -0.10630129321064408,
          0.032349513887681036,
          0.1424431827754098,
          0.05880965020940243,
          0.14083565459610048,
          -0.04834456489891603,
          0.1373409277504105,
          -0.07080015339845247,
          0.09424503222830505,
          -0.03590881357812403,
          -0.015199981589727019,
          0.02219963312185258,
          -0.03651971149999422,
          0.031580695676932447,
          -0.0275777997561929,
          -0.04375798287525434,
          -0.07994459285643607,
          0.006129691364662904,
          -0.052573215049166344,
          0.1325003877991342
         ],
         "yaxis": "y"
        },
        {
         "alignmentgroup": "True",
         "hovertemplate": "Fuente de emisiones=cement_co2<br>year=%{x}<br>Tasa de variación=%{y}<extra></extra>",
         "legendgroup": "cement_co2",
         "marker": {
          "color": "#9467BD",
          "pattern": {
           "shape": ""
          }
         },
         "name": "cement_co2",
         "offsetgroup": "cement_co2",
         "orientation": "v",
         "showlegend": true,
         "textposition": "auto",
         "type": "bar",
         "x": [
          "1928-01-01T00:00:00",
          "1929-01-01T00:00:00",
          "1930-01-01T00:00:00",
          "1931-01-01T00:00:00",
          "1932-01-01T00:00:00",
          "1933-01-01T00:00:00",
          "1934-01-01T00:00:00",
          "1935-01-01T00:00:00",
          "1936-01-01T00:00:00",
          "1937-01-01T00:00:00",
          "1938-01-01T00:00:00",
          "1939-01-01T00:00:00",
          "1940-01-01T00:00:00",
          "1941-01-01T00:00:00",
          "1942-01-01T00:00:00",
          "1943-01-01T00:00:00",
          "1944-01-01T00:00:00",
          "1945-01-01T00:00:00",
          "1946-01-01T00:00:00",
          "1947-01-01T00:00:00",
          "1948-01-01T00:00:00",
          "1949-01-01T00:00:00",
          "1950-01-01T00:00:00",
          "1951-01-01T00:00:00",
          "1952-01-01T00:00:00",
          "1953-01-01T00:00:00",
          "1954-01-01T00:00:00",
          "1955-01-01T00:00:00",
          "1956-01-01T00:00:00",
          "1957-01-01T00:00:00",
          "1958-01-01T00:00:00",
          "1959-01-01T00:00:00",
          "1960-01-01T00:00:00",
          "1961-01-01T00:00:00",
          "1962-01-01T00:00:00",
          "1963-01-01T00:00:00",
          "1964-01-01T00:00:00",
          "1965-01-01T00:00:00",
          "1966-01-01T00:00:00",
          "1967-01-01T00:00:00",
          "1968-01-01T00:00:00",
          "1969-01-01T00:00:00",
          "1970-01-01T00:00:00",
          "1971-01-01T00:00:00",
          "1972-01-01T00:00:00",
          "1973-01-01T00:00:00",
          "1974-01-01T00:00:00",
          "1975-01-01T00:00:00",
          "1976-01-01T00:00:00",
          "1977-01-01T00:00:00",
          "1978-01-01T00:00:00",
          "1979-01-01T00:00:00",
          "1980-01-01T00:00:00",
          "1981-01-01T00:00:00",
          "1982-01-01T00:00:00",
          "1983-01-01T00:00:00",
          "1984-01-01T00:00:00",
          "1985-01-01T00:00:00",
          "1986-01-01T00:00:00",
          "1987-01-01T00:00:00",
          "1988-01-01T00:00:00",
          "1989-01-01T00:00:00",
          "1990-01-01T00:00:00",
          "1991-01-01T00:00:00",
          "1992-01-01T00:00:00",
          "1993-01-01T00:00:00",
          "1994-01-01T00:00:00",
          "1995-01-01T00:00:00",
          "1996-01-01T00:00:00",
          "1997-01-01T00:00:00",
          "1998-01-01T00:00:00",
          "1999-01-01T00:00:00",
          "2000-01-01T00:00:00",
          "2001-01-01T00:00:00",
          "2002-01-01T00:00:00",
          "2003-01-01T00:00:00",
          "2004-01-01T00:00:00",
          "2005-01-01T00:00:00",
          "2006-01-01T00:00:00",
          "2007-01-01T00:00:00",
          "2008-01-01T00:00:00",
          "2009-01-01T00:00:00",
          "2010-01-01T00:00:00",
          "2011-01-01T00:00:00",
          "2012-01-01T00:00:00",
          "2013-01-01T00:00:00",
          "2014-01-01T00:00:00",
          "2015-01-01T00:00:00",
          "2016-01-01T00:00:00",
          "2017-01-01T00:00:00",
          "2018-01-01T00:00:00",
          "2019-01-01T00:00:00",
          "2020-01-01T00:00:00",
          "2021-01-01T00:00:00"
         ],
         "xaxis": "x",
         "y": [
          null,
          0.4999999999999998,
          0.0862068965517242,
          0.4021164021164021,
          -0.06792452830188689,
          0.028340080971659853,
          0.10236220472440949,
          0.27142857142857135,
          0.1544943820224718,
          0.24574209245742096,
          0.19921875,
          -0.09446254071661231,
          -0.039568345323741094,
          0.08239700374531811,
          -0.08131487889273348,
          -0.11111111111111116,
          0.13135593220338992,
          0.0074906367041198685,
          0.04646840148698872,
          0.19538188277087043,
          -0.08172362555720658,
          0.15857605177993528,
          0.08659217877094982,
          -0.010282776349614386,
          -0.003896103896103953,
          0.06649282920469357,
          0.030562347188264116,
          0.09489916963226586,
          0.10617551462621866,
          0.1459353574926543,
          0.04358974358974366,
          -0.04176904176904195,
          0.11538461538461542,
          0.10038314176245211,
          0.0069637883008357715,
          -0.13278008298755184,
          0.1475279106858054,
          0.13412091730368303,
          0.05575980392156876,
          0.01915264074289036,
          0.17539863325740312,
          0.04069767441860472,
          0.0912476722532587,
          0.16723549488054634,
          -0.01352339181286566,
          -0.047795479807336005,
          0.040856031128404746,
          0.01495327102803734,
          0.04677716390423581,
          0.05102040816326525,
          0.053900234348845055,
          0.057179161372299836,
          0.0703125,
          -0.0670971364402021,
          -0.1528739091182666,
          0.001065719360568318,
          -0.07061745919091544,
          -0.11187476135929753,
          0.1994840928632846,
          0.1362007168458781,
          -0.0384858044164037,
          -0.26049868766404205,
          -0.191659272404614,
          0.20526893523600442,
          0.13615664845173048,
          0.10661322645290583,
          0.10467222021006872,
          -0.14065573770491802,
          -0.07592521938191521,
          0.3084227910817505,
          0.03597349321552534,
          0.002132196162046851,
          -0.15775075987841947,
          -0.10465535907614576,
          -0.3031035872632003,
          0.31868131868131844,
          0.18464912280701773,
          0.1999259533506108,
          0.16136994754705336,
          0.06216790648246562,
          -0.002001000500250094,
          -0.045112781954887216,
          0.09658792650918624,
          0.09765438008616578,
          -0.08765808983863932,
          0.09488527724665397,
          -0.053481772538746974,
          0.05419741697416969,
          -0.11857361627652585,
          0.08265078183172014,
          0.0016047684548372576,
          -0.05218585488670169,
          -0.15286162762617728,
          0.3315279361459522
         ],
         "yaxis": "y"
        }
       ],
       "layout": {
        "barmode": "relative",
        "legend": {
         "title": {
          "text": "Fuente de emisiones"
         },
         "tracegroupgap": 0
        },
        "template": {
         "data": {
          "bar": [
           {
            "error_x": {
             "color": "rgb(36,36,36)"
            },
            "error_y": {
             "color": "rgb(36,36,36)"
            },
            "marker": {
             "line": {
              "color": "white",
              "width": 0.5
             },
             "pattern": {
              "fillmode": "overlay",
              "size": 10,
              "solidity": 0.2
             }
            },
            "type": "bar"
           }
          ],
          "barpolar": [
           {
            "marker": {
             "line": {
              "color": "white",
              "width": 0.5
             },
             "pattern": {
              "fillmode": "overlay",
              "size": 10,
              "solidity": 0.2
             }
            },
            "type": "barpolar"
           }
          ],
          "carpet": [
           {
            "aaxis": {
             "endlinecolor": "rgb(36,36,36)",
             "gridcolor": "white",
             "linecolor": "white",
             "minorgridcolor": "white",
             "startlinecolor": "rgb(36,36,36)"
            },
            "baxis": {
             "endlinecolor": "rgb(36,36,36)",
             "gridcolor": "white",
             "linecolor": "white",
             "minorgridcolor": "white",
             "startlinecolor": "rgb(36,36,36)"
            },
            "type": "carpet"
           }
          ],
          "choropleth": [
           {
            "colorbar": {
             "outlinewidth": 1,
             "tickcolor": "rgb(36,36,36)",
             "ticks": "outside"
            },
            "type": "choropleth"
           }
          ],
          "contour": [
           {
            "colorbar": {
             "outlinewidth": 1,
             "tickcolor": "rgb(36,36,36)",
             "ticks": "outside"
            },
            "colorscale": [
             [
              0,
              "#440154"
             ],
             [
              0.1111111111111111,
              "#482878"
             ],
             [
              0.2222222222222222,
              "#3e4989"
             ],
             [
              0.3333333333333333,
              "#31688e"
             ],
             [
              0.4444444444444444,
              "#26828e"
             ],
             [
              0.5555555555555556,
              "#1f9e89"
             ],
             [
              0.6666666666666666,
              "#35b779"
             ],
             [
              0.7777777777777778,
              "#6ece58"
             ],
             [
              0.8888888888888888,
              "#b5de2b"
             ],
             [
              1,
              "#fde725"
             ]
            ],
            "type": "contour"
           }
          ],
          "contourcarpet": [
           {
            "colorbar": {
             "outlinewidth": 1,
             "tickcolor": "rgb(36,36,36)",
             "ticks": "outside"
            },
            "type": "contourcarpet"
           }
          ],
          "heatmap": [
           {
            "colorbar": {
             "outlinewidth": 1,
             "tickcolor": "rgb(36,36,36)",
             "ticks": "outside"
            },
            "colorscale": [
             [
              0,
              "#440154"
             ],
             [
              0.1111111111111111,
              "#482878"
             ],
             [
              0.2222222222222222,
              "#3e4989"
             ],
             [
              0.3333333333333333,
              "#31688e"
             ],
             [
              0.4444444444444444,
              "#26828e"
             ],
             [
              0.5555555555555556,
              "#1f9e89"
             ],
             [
              0.6666666666666666,
              "#35b779"
             ],
             [
              0.7777777777777778,
              "#6ece58"
             ],
             [
              0.8888888888888888,
              "#b5de2b"
             ],
             [
              1,
              "#fde725"
             ]
            ],
            "type": "heatmap"
           }
          ],
          "heatmapgl": [
           {
            "colorbar": {
             "outlinewidth": 1,
             "tickcolor": "rgb(36,36,36)",
             "ticks": "outside"
            },
            "colorscale": [
             [
              0,
              "#440154"
             ],
             [
              0.1111111111111111,
              "#482878"
             ],
             [
              0.2222222222222222,
              "#3e4989"
             ],
             [
              0.3333333333333333,
              "#31688e"
             ],
             [
              0.4444444444444444,
              "#26828e"
             ],
             [
              0.5555555555555556,
              "#1f9e89"
             ],
             [
              0.6666666666666666,
              "#35b779"
             ],
             [
              0.7777777777777778,
              "#6ece58"
             ],
             [
              0.8888888888888888,
              "#b5de2b"
             ],
             [
              1,
              "#fde725"
             ]
            ],
            "type": "heatmapgl"
           }
          ],
          "histogram": [
           {
            "marker": {
             "line": {
              "color": "white",
              "width": 0.6
             }
            },
            "type": "histogram"
           }
          ],
          "histogram2d": [
           {
            "colorbar": {
             "outlinewidth": 1,
             "tickcolor": "rgb(36,36,36)",
             "ticks": "outside"
            },
            "colorscale": [
             [
              0,
              "#440154"
             ],
             [
              0.1111111111111111,
              "#482878"
             ],
             [
              0.2222222222222222,
              "#3e4989"
             ],
             [
              0.3333333333333333,
              "#31688e"
             ],
             [
              0.4444444444444444,
              "#26828e"
             ],
             [
              0.5555555555555556,
              "#1f9e89"
             ],
             [
              0.6666666666666666,
              "#35b779"
             ],
             [
              0.7777777777777778,
              "#6ece58"
             ],
             [
              0.8888888888888888,
              "#b5de2b"
             ],
             [
              1,
              "#fde725"
             ]
            ],
            "type": "histogram2d"
           }
          ],
          "histogram2dcontour": [
           {
            "colorbar": {
             "outlinewidth": 1,
             "tickcolor": "rgb(36,36,36)",
             "ticks": "outside"
            },
            "colorscale": [
             [
              0,
              "#440154"
             ],
             [
              0.1111111111111111,
              "#482878"
             ],
             [
              0.2222222222222222,
              "#3e4989"
             ],
             [
              0.3333333333333333,
              "#31688e"
             ],
             [
              0.4444444444444444,
              "#26828e"
             ],
             [
              0.5555555555555556,
              "#1f9e89"
             ],
             [
              0.6666666666666666,
              "#35b779"
             ],
             [
              0.7777777777777778,
              "#6ece58"
             ],
             [
              0.8888888888888888,
              "#b5de2b"
             ],
             [
              1,
              "#fde725"
             ]
            ],
            "type": "histogram2dcontour"
           }
          ],
          "mesh3d": [
           {
            "colorbar": {
             "outlinewidth": 1,
             "tickcolor": "rgb(36,36,36)",
             "ticks": "outside"
            },
            "type": "mesh3d"
           }
          ],
          "parcoords": [
           {
            "line": {
             "colorbar": {
              "outlinewidth": 1,
              "tickcolor": "rgb(36,36,36)",
              "ticks": "outside"
             }
            },
            "type": "parcoords"
           }
          ],
          "pie": [
           {
            "automargin": true,
            "type": "pie"
           }
          ],
          "scatter": [
           {
            "fillpattern": {
             "fillmode": "overlay",
             "size": 10,
             "solidity": 0.2
            },
            "type": "scatter"
           }
          ],
          "scatter3d": [
           {
            "line": {
             "colorbar": {
              "outlinewidth": 1,
              "tickcolor": "rgb(36,36,36)",
              "ticks": "outside"
             }
            },
            "marker": {
             "colorbar": {
              "outlinewidth": 1,
              "tickcolor": "rgb(36,36,36)",
              "ticks": "outside"
             }
            },
            "type": "scatter3d"
           }
          ],
          "scattercarpet": [
           {
            "marker": {
             "colorbar": {
              "outlinewidth": 1,
              "tickcolor": "rgb(36,36,36)",
              "ticks": "outside"
             }
            },
            "type": "scattercarpet"
           }
          ],
          "scattergeo": [
           {
            "marker": {
             "colorbar": {
              "outlinewidth": 1,
              "tickcolor": "rgb(36,36,36)",
              "ticks": "outside"
             }
            },
            "type": "scattergeo"
           }
          ],
          "scattergl": [
           {
            "marker": {
             "colorbar": {
              "outlinewidth": 1,
              "tickcolor": "rgb(36,36,36)",
              "ticks": "outside"
             }
            },
            "type": "scattergl"
           }
          ],
          "scattermapbox": [
           {
            "marker": {
             "colorbar": {
              "outlinewidth": 1,
              "tickcolor": "rgb(36,36,36)",
              "ticks": "outside"
             }
            },
            "type": "scattermapbox"
           }
          ],
          "scatterpolar": [
           {
            "marker": {
             "colorbar": {
              "outlinewidth": 1,
              "tickcolor": "rgb(36,36,36)",
              "ticks": "outside"
             }
            },
            "type": "scatterpolar"
           }
          ],
          "scatterpolargl": [
           {
            "marker": {
             "colorbar": {
              "outlinewidth": 1,
              "tickcolor": "rgb(36,36,36)",
              "ticks": "outside"
             }
            },
            "type": "scatterpolargl"
           }
          ],
          "scatterternary": [
           {
            "marker": {
             "colorbar": {
              "outlinewidth": 1,
              "tickcolor": "rgb(36,36,36)",
              "ticks": "outside"
             }
            },
            "type": "scatterternary"
           }
          ],
          "surface": [
           {
            "colorbar": {
             "outlinewidth": 1,
             "tickcolor": "rgb(36,36,36)",
             "ticks": "outside"
            },
            "colorscale": [
             [
              0,
              "#440154"
             ],
             [
              0.1111111111111111,
              "#482878"
             ],
             [
              0.2222222222222222,
              "#3e4989"
             ],
             [
              0.3333333333333333,
              "#31688e"
             ],
             [
              0.4444444444444444,
              "#26828e"
             ],
             [
              0.5555555555555556,
              "#1f9e89"
             ],
             [
              0.6666666666666666,
              "#35b779"
             ],
             [
              0.7777777777777778,
              "#6ece58"
             ],
             [
              0.8888888888888888,
              "#b5de2b"
             ],
             [
              1,
              "#fde725"
             ]
            ],
            "type": "surface"
           }
          ],
          "table": [
           {
            "cells": {
             "fill": {
              "color": "rgb(237,237,237)"
             },
             "line": {
              "color": "white"
             }
            },
            "header": {
             "fill": {
              "color": "rgb(217,217,217)"
             },
             "line": {
              "color": "white"
             }
            },
            "type": "table"
           }
          ]
         },
         "layout": {
          "annotationdefaults": {
           "arrowhead": 0,
           "arrowwidth": 1
          },
          "autotypenumbers": "strict",
          "coloraxis": {
           "colorbar": {
            "outlinewidth": 1,
            "tickcolor": "rgb(36,36,36)",
            "ticks": "outside"
           }
          },
          "colorscale": {
           "diverging": [
            [
             0,
             "rgb(103,0,31)"
            ],
            [
             0.1,
             "rgb(178,24,43)"
            ],
            [
             0.2,
             "rgb(214,96,77)"
            ],
            [
             0.3,
             "rgb(244,165,130)"
            ],
            [
             0.4,
             "rgb(253,219,199)"
            ],
            [
             0.5,
             "rgb(247,247,247)"
            ],
            [
             0.6,
             "rgb(209,229,240)"
            ],
            [
             0.7,
             "rgb(146,197,222)"
            ],
            [
             0.8,
             "rgb(67,147,195)"
            ],
            [
             0.9,
             "rgb(33,102,172)"
            ],
            [
             1,
             "rgb(5,48,97)"
            ]
           ],
           "sequential": [
            [
             0,
             "#440154"
            ],
            [
             0.1111111111111111,
             "#482878"
            ],
            [
             0.2222222222222222,
             "#3e4989"
            ],
            [
             0.3333333333333333,
             "#31688e"
            ],
            [
             0.4444444444444444,
             "#26828e"
            ],
            [
             0.5555555555555556,
             "#1f9e89"
            ],
            [
             0.6666666666666666,
             "#35b779"
            ],
            [
             0.7777777777777778,
             "#6ece58"
            ],
            [
             0.8888888888888888,
             "#b5de2b"
            ],
            [
             1,
             "#fde725"
            ]
           ],
           "sequentialminus": [
            [
             0,
             "#440154"
            ],
            [
             0.1111111111111111,
             "#482878"
            ],
            [
             0.2222222222222222,
             "#3e4989"
            ],
            [
             0.3333333333333333,
             "#31688e"
            ],
            [
             0.4444444444444444,
             "#26828e"
            ],
            [
             0.5555555555555556,
             "#1f9e89"
            ],
            [
             0.6666666666666666,
             "#35b779"
            ],
            [
             0.7777777777777778,
             "#6ece58"
            ],
            [
             0.8888888888888888,
             "#b5de2b"
            ],
            [
             1,
             "#fde725"
            ]
           ]
          },
          "colorway": [
           "#1F77B4",
           "#FF7F0E",
           "#2CA02C",
           "#D62728",
           "#9467BD",
           "#8C564B",
           "#E377C2",
           "#7F7F7F",
           "#BCBD22",
           "#17BECF"
          ],
          "font": {
           "color": "rgb(36,36,36)"
          },
          "geo": {
           "bgcolor": "white",
           "lakecolor": "white",
           "landcolor": "white",
           "showlakes": true,
           "showland": true,
           "subunitcolor": "white"
          },
          "hoverlabel": {
           "align": "left"
          },
          "hovermode": "closest",
          "mapbox": {
           "style": "light"
          },
          "paper_bgcolor": "white",
          "plot_bgcolor": "white",
          "polar": {
           "angularaxis": {
            "gridcolor": "rgb(232,232,232)",
            "linecolor": "rgb(36,36,36)",
            "showgrid": false,
            "showline": true,
            "ticks": "outside"
           },
           "bgcolor": "white",
           "radialaxis": {
            "gridcolor": "rgb(232,232,232)",
            "linecolor": "rgb(36,36,36)",
            "showgrid": false,
            "showline": true,
            "ticks": "outside"
           }
          },
          "scene": {
           "xaxis": {
            "backgroundcolor": "white",
            "gridcolor": "rgb(232,232,232)",
            "gridwidth": 2,
            "linecolor": "rgb(36,36,36)",
            "showbackground": true,
            "showgrid": false,
            "showline": true,
            "ticks": "outside",
            "zeroline": false,
            "zerolinecolor": "rgb(36,36,36)"
           },
           "yaxis": {
            "backgroundcolor": "white",
            "gridcolor": "rgb(232,232,232)",
            "gridwidth": 2,
            "linecolor": "rgb(36,36,36)",
            "showbackground": true,
            "showgrid": false,
            "showline": true,
            "ticks": "outside",
            "zeroline": false,
            "zerolinecolor": "rgb(36,36,36)"
           },
           "zaxis": {
            "backgroundcolor": "white",
            "gridcolor": "rgb(232,232,232)",
            "gridwidth": 2,
            "linecolor": "rgb(36,36,36)",
            "showbackground": true,
            "showgrid": false,
            "showline": true,
            "ticks": "outside",
            "zeroline": false,
            "zerolinecolor": "rgb(36,36,36)"
           }
          },
          "shapedefaults": {
           "fillcolor": "black",
           "line": {
            "width": 0
           },
           "opacity": 0.3
          },
          "ternary": {
           "aaxis": {
            "gridcolor": "rgb(232,232,232)",
            "linecolor": "rgb(36,36,36)",
            "showgrid": false,
            "showline": true,
            "ticks": "outside"
           },
           "baxis": {
            "gridcolor": "rgb(232,232,232)",
            "linecolor": "rgb(36,36,36)",
            "showgrid": false,
            "showline": true,
            "ticks": "outside"
           },
           "bgcolor": "white",
           "caxis": {
            "gridcolor": "rgb(232,232,232)",
            "linecolor": "rgb(36,36,36)",
            "showgrid": false,
            "showline": true,
            "ticks": "outside"
           }
          },
          "title": {
           "x": 0.05
          },
          "xaxis": {
           "automargin": true,
           "gridcolor": "rgb(232,232,232)",
           "linecolor": "rgb(36,36,36)",
           "showgrid": false,
           "showline": true,
           "ticks": "outside",
           "title": {
            "standoff": 15
           },
           "zeroline": false,
           "zerolinecolor": "rgb(36,36,36)"
          },
          "yaxis": {
           "automargin": true,
           "gridcolor": "rgb(232,232,232)",
           "linecolor": "rgb(36,36,36)",
           "showgrid": false,
           "showline": true,
           "ticks": "outside",
           "title": {
            "standoff": 15
           },
           "zeroline": false,
           "zerolinecolor": "rgb(36,36,36)"
          }
         }
        },
        "title": {
         "text": "Tasas de variación de emisiones de CO2 por año"
        },
        "xaxis": {
         "anchor": "y",
         "domain": [
          0,
          1
         ],
         "title": {
          "text": "year"
         }
        },
        "yaxis": {
         "anchor": "x",
         "domain": [
          0,
          1
         ],
         "title": {
          "text": "Tasa de variación"
         }
        }
       }
      }
     },
     "metadata": {},
     "output_type": "display_data"
    }
   ],
   "source": [
    "# Seleccionar las columnas necesarias\n",
    "df_pct = grafico3[['year', 'coal_co2', 'flaring_co2', 'gas_co2', 'oil_co2', 'cement_co2']].dropna(subset=['cement_co2'])\n",
    "\n",
    "# Calcular las tasas de variación de cada columna en relación al año anterior\n",
    "df_pct = df_pct.set_index('year').pct_change().reset_index()\n",
    "\n",
    "# Graficar las tasas de variación\n",
    "fig = px.bar(df_pct, x='year', y=['coal_co2', 'flaring_co2', 'gas_co2', 'oil_co2', 'cement_co2'],\n",
    "             title='Tasas de variación de emisiones de CO2 por año',\n",
    "             labels={'value': 'Tasa de variación', 'variable': 'Fuente de emisiones'},\n",
    "             template='simple_white')\n",
    "\n",
    "# Mostrar el gráfico\n",
    "fig.show()\n"
   ]
  },
  {
   "attachments": {},
   "cell_type": "markdown",
   "id": "0568619f",
   "metadata": {},
   "source": [
    "Entonces...\n",
    "\n",
    "Si consideramos las emisiones acumuladas de CO2 en Argentina, el petróleo ha sido el principal contribuyente en comparación con el gas. Aunque las emisiones de gas han experimentado una dinámica significativa en los últimos años, en términos acumulativos aún no han superado el volumen de emisiones generado por el petróleo en Argentina. Esto indica que a lo largo del tiempo, el petróleo ha tenido un impacto mayor en las emisiones acumuladas de CO2 en el país."
   ]
  },
  {
   "cell_type": "code",
   "execution_count": 143,
   "id": "dc62e705",
   "metadata": {},
   "outputs": [
    {
     "data": {
      "application/vnd.plotly.v1+json": {
       "config": {
        "plotlyServerURL": "https://plot.ly"
       },
       "data": [
        {
         "domain": {
          "x": [
           0,
           1
          ],
          "y": [
           0,
           1
          ]
         },
         "hole": 0.4,
         "hovertemplate": "labels=%{label}<br>value=%{value}<extra></extra>",
         "labels": [
          "coal",
          "flaring",
          "gas",
          "oil",
          "other",
          "cement"
         ],
         "legendgroup": "",
         "name": "",
         "showlegend": true,
         "textinfo": "percent+label",
         "textposition": "inside",
         "type": "pie",
         "values": [
          541.647,
          182.536,
          2970.459,
          4740.281,
          null,
          201.576
         ]
        }
       ],
       "layout": {
        "legend": {
         "tracegroupgap": 0
        },
        "template": {
         "data": {
          "bar": [
           {
            "error_x": {
             "color": "rgb(36,36,36)"
            },
            "error_y": {
             "color": "rgb(36,36,36)"
            },
            "marker": {
             "line": {
              "color": "white",
              "width": 0.5
             },
             "pattern": {
              "fillmode": "overlay",
              "size": 10,
              "solidity": 0.2
             }
            },
            "type": "bar"
           }
          ],
          "barpolar": [
           {
            "marker": {
             "line": {
              "color": "white",
              "width": 0.5
             },
             "pattern": {
              "fillmode": "overlay",
              "size": 10,
              "solidity": 0.2
             }
            },
            "type": "barpolar"
           }
          ],
          "carpet": [
           {
            "aaxis": {
             "endlinecolor": "rgb(36,36,36)",
             "gridcolor": "white",
             "linecolor": "white",
             "minorgridcolor": "white",
             "startlinecolor": "rgb(36,36,36)"
            },
            "baxis": {
             "endlinecolor": "rgb(36,36,36)",
             "gridcolor": "white",
             "linecolor": "white",
             "minorgridcolor": "white",
             "startlinecolor": "rgb(36,36,36)"
            },
            "type": "carpet"
           }
          ],
          "choropleth": [
           {
            "colorbar": {
             "outlinewidth": 1,
             "tickcolor": "rgb(36,36,36)",
             "ticks": "outside"
            },
            "type": "choropleth"
           }
          ],
          "contour": [
           {
            "colorbar": {
             "outlinewidth": 1,
             "tickcolor": "rgb(36,36,36)",
             "ticks": "outside"
            },
            "colorscale": [
             [
              0,
              "#440154"
             ],
             [
              0.1111111111111111,
              "#482878"
             ],
             [
              0.2222222222222222,
              "#3e4989"
             ],
             [
              0.3333333333333333,
              "#31688e"
             ],
             [
              0.4444444444444444,
              "#26828e"
             ],
             [
              0.5555555555555556,
              "#1f9e89"
             ],
             [
              0.6666666666666666,
              "#35b779"
             ],
             [
              0.7777777777777778,
              "#6ece58"
             ],
             [
              0.8888888888888888,
              "#b5de2b"
             ],
             [
              1,
              "#fde725"
             ]
            ],
            "type": "contour"
           }
          ],
          "contourcarpet": [
           {
            "colorbar": {
             "outlinewidth": 1,
             "tickcolor": "rgb(36,36,36)",
             "ticks": "outside"
            },
            "type": "contourcarpet"
           }
          ],
          "heatmap": [
           {
            "colorbar": {
             "outlinewidth": 1,
             "tickcolor": "rgb(36,36,36)",
             "ticks": "outside"
            },
            "colorscale": [
             [
              0,
              "#440154"
             ],
             [
              0.1111111111111111,
              "#482878"
             ],
             [
              0.2222222222222222,
              "#3e4989"
             ],
             [
              0.3333333333333333,
              "#31688e"
             ],
             [
              0.4444444444444444,
              "#26828e"
             ],
             [
              0.5555555555555556,
              "#1f9e89"
             ],
             [
              0.6666666666666666,
              "#35b779"
             ],
             [
              0.7777777777777778,
              "#6ece58"
             ],
             [
              0.8888888888888888,
              "#b5de2b"
             ],
             [
              1,
              "#fde725"
             ]
            ],
            "type": "heatmap"
           }
          ],
          "heatmapgl": [
           {
            "colorbar": {
             "outlinewidth": 1,
             "tickcolor": "rgb(36,36,36)",
             "ticks": "outside"
            },
            "colorscale": [
             [
              0,
              "#440154"
             ],
             [
              0.1111111111111111,
              "#482878"
             ],
             [
              0.2222222222222222,
              "#3e4989"
             ],
             [
              0.3333333333333333,
              "#31688e"
             ],
             [
              0.4444444444444444,
              "#26828e"
             ],
             [
              0.5555555555555556,
              "#1f9e89"
             ],
             [
              0.6666666666666666,
              "#35b779"
             ],
             [
              0.7777777777777778,
              "#6ece58"
             ],
             [
              0.8888888888888888,
              "#b5de2b"
             ],
             [
              1,
              "#fde725"
             ]
            ],
            "type": "heatmapgl"
           }
          ],
          "histogram": [
           {
            "marker": {
             "line": {
              "color": "white",
              "width": 0.6
             }
            },
            "type": "histogram"
           }
          ],
          "histogram2d": [
           {
            "colorbar": {
             "outlinewidth": 1,
             "tickcolor": "rgb(36,36,36)",
             "ticks": "outside"
            },
            "colorscale": [
             [
              0,
              "#440154"
             ],
             [
              0.1111111111111111,
              "#482878"
             ],
             [
              0.2222222222222222,
              "#3e4989"
             ],
             [
              0.3333333333333333,
              "#31688e"
             ],
             [
              0.4444444444444444,
              "#26828e"
             ],
             [
              0.5555555555555556,
              "#1f9e89"
             ],
             [
              0.6666666666666666,
              "#35b779"
             ],
             [
              0.7777777777777778,
              "#6ece58"
             ],
             [
              0.8888888888888888,
              "#b5de2b"
             ],
             [
              1,
              "#fde725"
             ]
            ],
            "type": "histogram2d"
           }
          ],
          "histogram2dcontour": [
           {
            "colorbar": {
             "outlinewidth": 1,
             "tickcolor": "rgb(36,36,36)",
             "ticks": "outside"
            },
            "colorscale": [
             [
              0,
              "#440154"
             ],
             [
              0.1111111111111111,
              "#482878"
             ],
             [
              0.2222222222222222,
              "#3e4989"
             ],
             [
              0.3333333333333333,
              "#31688e"
             ],
             [
              0.4444444444444444,
              "#26828e"
             ],
             [
              0.5555555555555556,
              "#1f9e89"
             ],
             [
              0.6666666666666666,
              "#35b779"
             ],
             [
              0.7777777777777778,
              "#6ece58"
             ],
             [
              0.8888888888888888,
              "#b5de2b"
             ],
             [
              1,
              "#fde725"
             ]
            ],
            "type": "histogram2dcontour"
           }
          ],
          "mesh3d": [
           {
            "colorbar": {
             "outlinewidth": 1,
             "tickcolor": "rgb(36,36,36)",
             "ticks": "outside"
            },
            "type": "mesh3d"
           }
          ],
          "parcoords": [
           {
            "line": {
             "colorbar": {
              "outlinewidth": 1,
              "tickcolor": "rgb(36,36,36)",
              "ticks": "outside"
             }
            },
            "type": "parcoords"
           }
          ],
          "pie": [
           {
            "automargin": true,
            "type": "pie"
           }
          ],
          "scatter": [
           {
            "fillpattern": {
             "fillmode": "overlay",
             "size": 10,
             "solidity": 0.2
            },
            "type": "scatter"
           }
          ],
          "scatter3d": [
           {
            "line": {
             "colorbar": {
              "outlinewidth": 1,
              "tickcolor": "rgb(36,36,36)",
              "ticks": "outside"
             }
            },
            "marker": {
             "colorbar": {
              "outlinewidth": 1,
              "tickcolor": "rgb(36,36,36)",
              "ticks": "outside"
             }
            },
            "type": "scatter3d"
           }
          ],
          "scattercarpet": [
           {
            "marker": {
             "colorbar": {
              "outlinewidth": 1,
              "tickcolor": "rgb(36,36,36)",
              "ticks": "outside"
             }
            },
            "type": "scattercarpet"
           }
          ],
          "scattergeo": [
           {
            "marker": {
             "colorbar": {
              "outlinewidth": 1,
              "tickcolor": "rgb(36,36,36)",
              "ticks": "outside"
             }
            },
            "type": "scattergeo"
           }
          ],
          "scattergl": [
           {
            "marker": {
             "colorbar": {
              "outlinewidth": 1,
              "tickcolor": "rgb(36,36,36)",
              "ticks": "outside"
             }
            },
            "type": "scattergl"
           }
          ],
          "scattermapbox": [
           {
            "marker": {
             "colorbar": {
              "outlinewidth": 1,
              "tickcolor": "rgb(36,36,36)",
              "ticks": "outside"
             }
            },
            "type": "scattermapbox"
           }
          ],
          "scatterpolar": [
           {
            "marker": {
             "colorbar": {
              "outlinewidth": 1,
              "tickcolor": "rgb(36,36,36)",
              "ticks": "outside"
             }
            },
            "type": "scatterpolar"
           }
          ],
          "scatterpolargl": [
           {
            "marker": {
             "colorbar": {
              "outlinewidth": 1,
              "tickcolor": "rgb(36,36,36)",
              "ticks": "outside"
             }
            },
            "type": "scatterpolargl"
           }
          ],
          "scatterternary": [
           {
            "marker": {
             "colorbar": {
              "outlinewidth": 1,
              "tickcolor": "rgb(36,36,36)",
              "ticks": "outside"
             }
            },
            "type": "scatterternary"
           }
          ],
          "surface": [
           {
            "colorbar": {
             "outlinewidth": 1,
             "tickcolor": "rgb(36,36,36)",
             "ticks": "outside"
            },
            "colorscale": [
             [
              0,
              "#440154"
             ],
             [
              0.1111111111111111,
              "#482878"
             ],
             [
              0.2222222222222222,
              "#3e4989"
             ],
             [
              0.3333333333333333,
              "#31688e"
             ],
             [
              0.4444444444444444,
              "#26828e"
             ],
             [
              0.5555555555555556,
              "#1f9e89"
             ],
             [
              0.6666666666666666,
              "#35b779"
             ],
             [
              0.7777777777777778,
              "#6ece58"
             ],
             [
              0.8888888888888888,
              "#b5de2b"
             ],
             [
              1,
              "#fde725"
             ]
            ],
            "type": "surface"
           }
          ],
          "table": [
           {
            "cells": {
             "fill": {
              "color": "rgb(237,237,237)"
             },
             "line": {
              "color": "white"
             }
            },
            "header": {
             "fill": {
              "color": "rgb(217,217,217)"
             },
             "line": {
              "color": "white"
             }
            },
            "type": "table"
           }
          ]
         },
         "layout": {
          "annotationdefaults": {
           "arrowhead": 0,
           "arrowwidth": 1
          },
          "autotypenumbers": "strict",
          "coloraxis": {
           "colorbar": {
            "outlinewidth": 1,
            "tickcolor": "rgb(36,36,36)",
            "ticks": "outside"
           }
          },
          "colorscale": {
           "diverging": [
            [
             0,
             "rgb(103,0,31)"
            ],
            [
             0.1,
             "rgb(178,24,43)"
            ],
            [
             0.2,
             "rgb(214,96,77)"
            ],
            [
             0.3,
             "rgb(244,165,130)"
            ],
            [
             0.4,
             "rgb(253,219,199)"
            ],
            [
             0.5,
             "rgb(247,247,247)"
            ],
            [
             0.6,
             "rgb(209,229,240)"
            ],
            [
             0.7,
             "rgb(146,197,222)"
            ],
            [
             0.8,
             "rgb(67,147,195)"
            ],
            [
             0.9,
             "rgb(33,102,172)"
            ],
            [
             1,
             "rgb(5,48,97)"
            ]
           ],
           "sequential": [
            [
             0,
             "#440154"
            ],
            [
             0.1111111111111111,
             "#482878"
            ],
            [
             0.2222222222222222,
             "#3e4989"
            ],
            [
             0.3333333333333333,
             "#31688e"
            ],
            [
             0.4444444444444444,
             "#26828e"
            ],
            [
             0.5555555555555556,
             "#1f9e89"
            ],
            [
             0.6666666666666666,
             "#35b779"
            ],
            [
             0.7777777777777778,
             "#6ece58"
            ],
            [
             0.8888888888888888,
             "#b5de2b"
            ],
            [
             1,
             "#fde725"
            ]
           ],
           "sequentialminus": [
            [
             0,
             "#440154"
            ],
            [
             0.1111111111111111,
             "#482878"
            ],
            [
             0.2222222222222222,
             "#3e4989"
            ],
            [
             0.3333333333333333,
             "#31688e"
            ],
            [
             0.4444444444444444,
             "#26828e"
            ],
            [
             0.5555555555555556,
             "#1f9e89"
            ],
            [
             0.6666666666666666,
             "#35b779"
            ],
            [
             0.7777777777777778,
             "#6ece58"
            ],
            [
             0.8888888888888888,
             "#b5de2b"
            ],
            [
             1,
             "#fde725"
            ]
           ]
          },
          "colorway": [
           "#1F77B4",
           "#FF7F0E",
           "#2CA02C",
           "#D62728",
           "#9467BD",
           "#8C564B",
           "#E377C2",
           "#7F7F7F",
           "#BCBD22",
           "#17BECF"
          ],
          "font": {
           "color": "rgb(36,36,36)"
          },
          "geo": {
           "bgcolor": "white",
           "lakecolor": "white",
           "landcolor": "white",
           "showlakes": true,
           "showland": true,
           "subunitcolor": "white"
          },
          "hoverlabel": {
           "align": "left"
          },
          "hovermode": "closest",
          "mapbox": {
           "style": "light"
          },
          "paper_bgcolor": "white",
          "plot_bgcolor": "white",
          "polar": {
           "angularaxis": {
            "gridcolor": "rgb(232,232,232)",
            "linecolor": "rgb(36,36,36)",
            "showgrid": false,
            "showline": true,
            "ticks": "outside"
           },
           "bgcolor": "white",
           "radialaxis": {
            "gridcolor": "rgb(232,232,232)",
            "linecolor": "rgb(36,36,36)",
            "showgrid": false,
            "showline": true,
            "ticks": "outside"
           }
          },
          "scene": {
           "xaxis": {
            "backgroundcolor": "white",
            "gridcolor": "rgb(232,232,232)",
            "gridwidth": 2,
            "linecolor": "rgb(36,36,36)",
            "showbackground": true,
            "showgrid": false,
            "showline": true,
            "ticks": "outside",
            "zeroline": false,
            "zerolinecolor": "rgb(36,36,36)"
           },
           "yaxis": {
            "backgroundcolor": "white",
            "gridcolor": "rgb(232,232,232)",
            "gridwidth": 2,
            "linecolor": "rgb(36,36,36)",
            "showbackground": true,
            "showgrid": false,
            "showline": true,
            "ticks": "outside",
            "zeroline": false,
            "zerolinecolor": "rgb(36,36,36)"
           },
           "zaxis": {
            "backgroundcolor": "white",
            "gridcolor": "rgb(232,232,232)",
            "gridwidth": 2,
            "linecolor": "rgb(36,36,36)",
            "showbackground": true,
            "showgrid": false,
            "showline": true,
            "ticks": "outside",
            "zeroline": false,
            "zerolinecolor": "rgb(36,36,36)"
           }
          },
          "shapedefaults": {
           "fillcolor": "black",
           "line": {
            "width": 0
           },
           "opacity": 0.3
          },
          "ternary": {
           "aaxis": {
            "gridcolor": "rgb(232,232,232)",
            "linecolor": "rgb(36,36,36)",
            "showgrid": false,
            "showline": true,
            "ticks": "outside"
           },
           "baxis": {
            "gridcolor": "rgb(232,232,232)",
            "linecolor": "rgb(36,36,36)",
            "showgrid": false,
            "showline": true,
            "ticks": "outside"
           },
           "bgcolor": "white",
           "caxis": {
            "gridcolor": "rgb(232,232,232)",
            "linecolor": "rgb(36,36,36)",
            "showgrid": false,
            "showline": true,
            "ticks": "outside"
           }
          },
          "title": {
           "x": 0.05
          },
          "xaxis": {
           "automargin": true,
           "gridcolor": "rgb(232,232,232)",
           "linecolor": "rgb(36,36,36)",
           "showgrid": false,
           "showline": true,
           "ticks": "outside",
           "title": {
            "standoff": 15
           },
           "zeroline": false,
           "zerolinecolor": "rgb(36,36,36)"
          },
          "yaxis": {
           "automargin": true,
           "gridcolor": "rgb(232,232,232)",
           "linecolor": "rgb(36,36,36)",
           "showgrid": false,
           "showline": true,
           "ticks": "outside",
           "title": {
            "standoff": 15
           },
           "zeroline": false,
           "zerolinecolor": "rgb(36,36,36)"
          }
         }
        },
        "title": {
         "text": "Composicion de las emisiones acumuladas <br>de Argentina, por tipo de combustible e industria"
        }
       }
      }
     },
     "metadata": {},
     "output_type": "display_data"
    }
   ],
   "source": [
    "fila = grafico3.iloc[-1]\n",
    "dic = fila.to_dict()\n",
    "subdic = {k.split('_')[1]: v for k, v in dic.items() if k.startswith('cumulative_')}\n",
    "\n",
    "labels = list(subdic.keys())\n",
    "values = list(subdic.values())\n",
    "\n",
    "df = pd.DataFrame({'labels': labels, 'values': values})\n",
    "df = df.drop([3, 7])\n",
    "\n",
    "\n",
    "fig = px.pie(df, values='values', names='labels', \n",
    "             title='Composicion de las emisiones acumuladas <br>de Argentina, por tipo de combustible e industria',\n",
    "             template=\"simple_white\")\n",
    "fig.update_traces(textposition='inside', textinfo='percent+label', hole=.4)\n",
    "\n",
    "fig.show()\n"
   ]
  },
  {
   "attachments": {},
   "cell_type": "markdown",
   "id": "5fd10eac",
   "metadata": {},
   "source": [
    "### 2. Estimacion de CO2 emissions para Argentina."
   ]
  },
  {
   "cell_type": "code",
   "execution_count": 144,
   "id": "43b66246",
   "metadata": {},
   "outputs": [],
   "source": [
    "df_combustibles=pd.read_excel(r\"C:\\Users\\Bruno\\Desktop\\Curso Data Science\\Dataframes\\Combustibles Mensual.xlsx\", sheet_name=\"combustible\")\n",
    "df_emicontrol=pd.read_excel(r\"C:\\Users\\Bruno\\Desktop\\Curso Data Science\\Dataframes\\Combustibles Mensual.xlsx\", sheet_name=\"emisiones\")\n",
    "VARIABLES=pd.read_excel(r\"C:\\Users\\Bruno\\Desktop\\Curso Data Science\\Dataframes\\Combustibles Mensual.xlsx\", sheet_name=\"VARIABLES_ANUALES\")"
   ]
  },
  {
   "cell_type": "code",
   "execution_count": 145,
   "id": "d70bb2c7",
   "metadata": {},
   "outputs": [],
   "source": [
    "#df_emicontrol\n",
    "df_emicontrol.columns = df_emicontrol.columns.str.lower()\n",
    "df_emicontrol['fecha'] = pd.to_datetime(df_emicontrol['fecha'], format='%Y-%m-%d')\n",
    "df_emicontrol['fecha'] = df_emicontrol['fecha'].dt.year\n",
    "df_emicontrol = df_emicontrol.groupby(['fecha']).sum().reset_index()"
   ]
  },
  {
   "attachments": {},
   "cell_type": "markdown",
   "id": "398bccd9",
   "metadata": {},
   "source": [
    "Para calcular las emisiones de CO2 de la generación de electricidad voy a seguir la siguiente fórmula:\n",
    "\n",
    "**Emisiones de CO2 = Cantidad de combustible consumido x Factor de emisión de CO2 del combustible**\n",
    "\n",
    "La cantidad de combustible consumido se mide en unidades físicas, como metros cúbicos (m3), toneladas (t) o litros (L), dependiendo del tipo de combustible. El factor de emisión de CO2 del combustible se expresa en unidades de masa de CO2 por unidad de combustible consumido, como kgCO2/m3, tCO2/t o kgCO2/L. En este caso voy a utilizar los FE (factores de emision) en toneladas estimados para Argentina por las secretarias de Energia y Desarrollo Sustentable de la Nacion:"
   ]
  },
  {
   "attachments": {},
   "cell_type": "markdown",
   "id": "0740a0ed",
   "metadata": {},
   "source": [
    "<img src=\"FF.png\">"
   ]
  },
  {
   "attachments": {},
   "cell_type": "markdown",
   "id": "55663d15",
   "metadata": {},
   "source": [
    "Por ejemplo, si se quema 1000 m3 de gas natural para generar electricidad y el factor de emisión de CO2 del gas natural es de 1,936 tCO2/dam3, entonces las emisiones de CO2 generadas serían:\n",
    "\n",
    "- **Emisiones de CO2 = 1000 dam3 x 1,936 tCO2/dam3**\n",
    "- **Emisiones de CO2 = 1830 tCO2**\n",
    "\n",
    "Es importante destacar que al considerar solo las emisiones de CO2 se está ignorando la contribución de otros gases de efecto invernadero que pueden ser emitidos durante la producción, transporte y uso del combustible. Por lo tanto, es importante tener en cuenta que la huella de carbono total de la generación de electricidad puede ser mayor que la cantidad de emisiones de CO2 calculada solo a partir del factor de emisión de CO2 del combustible.\n",
    "\n",
    "CAMMESA presenta una estimacion de las emisiones por tipo de gas, por lo que podemos comprar la estimacion que hice con los datos de cammesa a modo de control."
   ]
  },
  {
   "cell_type": "markdown",
   "id": "1a6919ec",
   "metadata": {},
   "source": [
    "*Estimaciones en base a series anualizadas*"
   ]
  },
  {
   "cell_type": "code",
   "execution_count": 146,
   "id": "f0cfdeca",
   "metadata": {},
   "outputs": [],
   "source": [
    "factores_emision = {\n",
    "    \"C_GAS NATURAL\": 1.94819592,\n",
    "    \"C_FUEL OIL\": 3.17228090666667,\n",
    "    \"C_GAS OIL\": 2.69717055226667,\n",
    "    \"C_CARBÓN MINERAL\": 2.33525776\n",
    "}\n",
    "\n",
    "for key in factores_emision:\n",
    "    df_combustibles[\"ep_\" + key] = (df_combustibles[key] * factores_emision[key])/1000000\n",
    "    \n",
    "df_combustibles[\"ep_total\"] = df_combustibles.filter(like=\"ep_\").sum(axis=1)"
   ]
  },
  {
   "cell_type": "code",
   "execution_count": 147,
   "id": "03575521",
   "metadata": {},
   "outputs": [],
   "source": [
    "#df_combustibles\n",
    "df_combustibles.columns = df_combustibles.columns.str.lower()\n",
    "df_combustibles['fecha'] = pd.to_datetime(df_combustibles['fecha'], format='%Y-%m-%d')\n",
    "df_combustibles['fecha'] = df_combustibles['fecha'].dt.year\n",
    "df_combustibles = df_combustibles.groupby(['fecha']).sum().reset_index()\n"
   ]
  },
  {
   "cell_type": "code",
   "execution_count": 148,
   "id": "4378f8ac",
   "metadata": {},
   "outputs": [],
   "source": [
    "#mergeo grafico3 con df_combustibles y df_emicontrol a partir de \"fecha\", para generar el df completo para Arg\n",
    "\n",
    "#columna \"fecha\" a \"year\" en df_combustibles y df_emicontrol\n",
    "df_combustibles = df_combustibles.rename(columns={'fecha': 'year'})\n",
    "df_emicontrol = df_emicontrol.rename(columns={'fecha': 'year'})\n",
    "\n",
    "#columna \"year\" a formato .dt.year en grafico3\n",
    "grafico3['year'] = pd.to_datetime(grafico3['year']).dt.year\n",
    "\n",
    "#merge de los dataframes conservando toda la información de grafico3\n",
    "df_completo = grafico3.merge(df_combustibles, on='year', how='left').merge(df_emicontrol, on='year', how='left')"
   ]
  },
  {
   "cell_type": "code",
   "execution_count": 149,
   "id": "dbf28ec9",
   "metadata": {},
   "outputs": [
    {
     "data": {
      "application/vnd.plotly.v1+json": {
       "config": {
        "plotlyServerURL": "https://plot.ly"
       },
       "data": [
        {
         "line": {
          "dash": "dash"
         },
         "mode": "lines",
         "name": "Estimacion propia gas natural",
         "type": "scatter",
         "x": [
          1920,
          1921,
          1922,
          1923,
          1924,
          1925,
          1926,
          1927,
          1928,
          1929,
          1930,
          1931,
          1932,
          1933,
          1934,
          1935,
          1936,
          1937,
          1938,
          1939,
          1940,
          1941,
          1942,
          1943,
          1944,
          1945,
          1946,
          1947,
          1948,
          1949,
          1950,
          1951,
          1952,
          1953,
          1954,
          1955,
          1956,
          1957,
          1958,
          1959,
          1960,
          1961,
          1962,
          1963,
          1964,
          1965,
          1966,
          1967,
          1968,
          1969,
          1970,
          1971,
          1972,
          1973,
          1974,
          1975,
          1976,
          1977,
          1978,
          1979,
          1980,
          1981,
          1982,
          1983,
          1984,
          1985,
          1986,
          1987,
          1988,
          1989,
          1990,
          1991,
          1992,
          1993,
          1994,
          1995,
          1996,
          1997,
          1998,
          1999,
          2000,
          2001,
          2002,
          2003,
          2004,
          2005,
          2006,
          2007,
          2008,
          2009,
          2010,
          2011,
          2012,
          2013,
          2014,
          2015,
          2016,
          2017,
          2018,
          2019,
          2020,
          2021
         ],
         "y": [
          null,
          null,
          null,
          null,
          null,
          null,
          null,
          null,
          null,
          null,
          null,
          null,
          null,
          null,
          null,
          null,
          null,
          null,
          null,
          null,
          null,
          null,
          null,
          null,
          null,
          null,
          null,
          null,
          null,
          null,
          null,
          null,
          null,
          null,
          null,
          null,
          null,
          null,
          null,
          null,
          null,
          null,
          null,
          null,
          null,
          null,
          null,
          null,
          null,
          null,
          null,
          null,
          null,
          null,
          null,
          null,
          null,
          null,
          null,
          null,
          null,
          null,
          null,
          null,
          null,
          null,
          null,
          null,
          null,
          null,
          null,
          null,
          null,
          null,
          null,
          null,
          null,
          null,
          null,
          null,
          null,
          null,
          null,
          null,
          null,
          null,
          null,
          null,
          null,
          null,
          null,
          null,
          27.289300462300854,
          27.182205950599023,
          27.96699435825925,
          28.12718336508019,
          30.369832990704317,
          33.34716749665575,
          35.14544709885809,
          33.52176518516338,
          31.744131990551605,
          31.875153570467084
         ],
         "yaxis": "y2"
        },
        {
         "mode": "lines",
         "name": "CAMMESA gas natural",
         "type": "scatter",
         "x": [
          1920,
          1921,
          1922,
          1923,
          1924,
          1925,
          1926,
          1927,
          1928,
          1929,
          1930,
          1931,
          1932,
          1933,
          1934,
          1935,
          1936,
          1937,
          1938,
          1939,
          1940,
          1941,
          1942,
          1943,
          1944,
          1945,
          1946,
          1947,
          1948,
          1949,
          1950,
          1951,
          1952,
          1953,
          1954,
          1955,
          1956,
          1957,
          1958,
          1959,
          1960,
          1961,
          1962,
          1963,
          1964,
          1965,
          1966,
          1967,
          1968,
          1969,
          1970,
          1971,
          1972,
          1973,
          1974,
          1975,
          1976,
          1977,
          1978,
          1979,
          1980,
          1981,
          1982,
          1983,
          1984,
          1985,
          1986,
          1987,
          1988,
          1989,
          1990,
          1991,
          1992,
          1993,
          1994,
          1995,
          1996,
          1997,
          1998,
          1999,
          2000,
          2001,
          2002,
          2003,
          2004,
          2005,
          2006,
          2007,
          2008,
          2009,
          2010,
          2011,
          2012,
          2013,
          2014,
          2015,
          2016,
          2017,
          2018,
          2019,
          2020,
          2021
         ],
         "y": [
          null,
          null,
          null,
          null,
          null,
          null,
          null,
          null,
          null,
          null,
          null,
          null,
          null,
          null,
          null,
          null,
          null,
          null,
          null,
          null,
          null,
          null,
          null,
          null,
          null,
          null,
          null,
          null,
          null,
          null,
          null,
          null,
          null,
          null,
          null,
          null,
          null,
          null,
          null,
          null,
          null,
          null,
          null,
          null,
          null,
          null,
          null,
          null,
          null,
          null,
          null,
          null,
          null,
          null,
          null,
          null,
          null,
          null,
          null,
          null,
          null,
          null,
          null,
          null,
          null,
          null,
          null,
          null,
          null,
          null,
          null,
          null,
          null,
          null,
          null,
          null,
          null,
          null,
          null,
          null,
          null,
          null,
          null,
          null,
          null,
          null,
          null,
          23.340450836572323,
          25.50797740020217,
          24.54991993079145,
          22.477286659009778,
          24.691752188188964,
          27.346463581468438,
          27.181489768452284,
          27.96652422546443,
          28.089946284683368,
          30.36957245456754,
          33.35118184006953,
          35.13705905170753,
          33.52992993983858,
          31.75112733867763,
          31.853150686658715
         ],
         "yaxis": "y2"
        },
        {
         "line": {
          "dash": "dash"
         },
         "mode": "lines",
         "name": "Estimacion propia fuel oil",
         "type": "scatter",
         "x": [
          1920,
          1921,
          1922,
          1923,
          1924,
          1925,
          1926,
          1927,
          1928,
          1929,
          1930,
          1931,
          1932,
          1933,
          1934,
          1935,
          1936,
          1937,
          1938,
          1939,
          1940,
          1941,
          1942,
          1943,
          1944,
          1945,
          1946,
          1947,
          1948,
          1949,
          1950,
          1951,
          1952,
          1953,
          1954,
          1955,
          1956,
          1957,
          1958,
          1959,
          1960,
          1961,
          1962,
          1963,
          1964,
          1965,
          1966,
          1967,
          1968,
          1969,
          1970,
          1971,
          1972,
          1973,
          1974,
          1975,
          1976,
          1977,
          1978,
          1979,
          1980,
          1981,
          1982,
          1983,
          1984,
          1985,
          1986,
          1987,
          1988,
          1989,
          1990,
          1991,
          1992,
          1993,
          1994,
          1995,
          1996,
          1997,
          1998,
          1999,
          2000,
          2001,
          2002,
          2003,
          2004,
          2005,
          2006,
          2007,
          2008,
          2009,
          2010,
          2011,
          2012,
          2013,
          2014,
          2015,
          2016,
          2017,
          2018,
          2019,
          2020,
          2021
         ],
         "y": [
          null,
          null,
          null,
          null,
          null,
          null,
          null,
          null,
          null,
          null,
          null,
          null,
          null,
          null,
          null,
          null,
          null,
          null,
          null,
          null,
          null,
          null,
          null,
          null,
          null,
          null,
          null,
          null,
          null,
          null,
          null,
          null,
          null,
          null,
          null,
          null,
          null,
          null,
          null,
          null,
          null,
          null,
          null,
          null,
          null,
          null,
          null,
          null,
          null,
          null,
          null,
          null,
          null,
          null,
          null,
          null,
          null,
          null,
          null,
          null,
          null,
          null,
          null,
          null,
          null,
          null,
          null,
          null,
          null,
          null,
          null,
          null,
          null,
          null,
          null,
          null,
          null,
          null,
          null,
          null,
          null,
          null,
          null,
          null,
          null,
          null,
          null,
          null,
          null,
          null,
          null,
          null,
          9.071879788405166,
          7.082508202923515,
          8.61999148843035,
          9.79897168910227,
          8.408391390262121,
          4.078976046290089,
          1.792887145706656,
          0.5887401112701464,
          2.7041039752274143,
          6.424720634663099
         ]
        },
        {
         "mode": "lines",
         "name": "CAMMESA fuel oil",
         "type": "scatter",
         "x": [
          1920,
          1921,
          1922,
          1923,
          1924,
          1925,
          1926,
          1927,
          1928,
          1929,
          1930,
          1931,
          1932,
          1933,
          1934,
          1935,
          1936,
          1937,
          1938,
          1939,
          1940,
          1941,
          1942,
          1943,
          1944,
          1945,
          1946,
          1947,
          1948,
          1949,
          1950,
          1951,
          1952,
          1953,
          1954,
          1955,
          1956,
          1957,
          1958,
          1959,
          1960,
          1961,
          1962,
          1963,
          1964,
          1965,
          1966,
          1967,
          1968,
          1969,
          1970,
          1971,
          1972,
          1973,
          1974,
          1975,
          1976,
          1977,
          1978,
          1979,
          1980,
          1981,
          1982,
          1983,
          1984,
          1985,
          1986,
          1987,
          1988,
          1989,
          1990,
          1991,
          1992,
          1993,
          1994,
          1995,
          1996,
          1997,
          1998,
          1999,
          2000,
          2001,
          2002,
          2003,
          2004,
          2005,
          2006,
          2007,
          2008,
          2009,
          2010,
          2011,
          2012,
          2013,
          2014,
          2015,
          2016,
          2017,
          2018,
          2019,
          2020,
          2021
         ],
         "y": [
          null,
          null,
          null,
          null,
          null,
          null,
          null,
          null,
          null,
          null,
          null,
          null,
          null,
          null,
          null,
          null,
          null,
          null,
          null,
          null,
          null,
          null,
          null,
          null,
          null,
          null,
          null,
          null,
          null,
          null,
          null,
          null,
          null,
          null,
          null,
          null,
          null,
          null,
          null,
          null,
          null,
          null,
          null,
          null,
          null,
          null,
          null,
          null,
          null,
          null,
          null,
          null,
          null,
          null,
          null,
          null,
          null,
          null,
          null,
          null,
          null,
          null,
          null,
          null,
          null,
          null,
          null,
          null,
          null,
          null,
          null,
          null,
          null,
          null,
          null,
          null,
          null,
          null,
          null,
          null,
          null,
          null,
          null,
          null,
          null,
          null,
          null,
          6.01853064315067,
          7.44613296383277,
          5.086019129385618,
          7.175153175830687,
          8.163838945015177,
          9.071705623838826,
          7.083211421465779,
          8.619928883466654,
          9.796651727112758,
          8.408449738024835,
          4.07993047458507,
          1.7924727887191885,
          0.5887513665228032,
          1.8393162874166051,
          2.379737678337903
         ]
        },
        {
         "line": {
          "dash": "dash"
         },
         "mode": "lines",
         "name": "Estimacion propia gas oil",
         "type": "scatter",
         "x": [
          1920,
          1921,
          1922,
          1923,
          1924,
          1925,
          1926,
          1927,
          1928,
          1929,
          1930,
          1931,
          1932,
          1933,
          1934,
          1935,
          1936,
          1937,
          1938,
          1939,
          1940,
          1941,
          1942,
          1943,
          1944,
          1945,
          1946,
          1947,
          1948,
          1949,
          1950,
          1951,
          1952,
          1953,
          1954,
          1955,
          1956,
          1957,
          1958,
          1959,
          1960,
          1961,
          1962,
          1963,
          1964,
          1965,
          1966,
          1967,
          1968,
          1969,
          1970,
          1971,
          1972,
          1973,
          1974,
          1975,
          1976,
          1977,
          1978,
          1979,
          1980,
          1981,
          1982,
          1983,
          1984,
          1985,
          1986,
          1987,
          1988,
          1989,
          1990,
          1991,
          1992,
          1993,
          1994,
          1995,
          1996,
          1997,
          1998,
          1999,
          2000,
          2001,
          2002,
          2003,
          2004,
          2005,
          2006,
          2007,
          2008,
          2009,
          2010,
          2011,
          2012,
          2013,
          2014,
          2015,
          2016,
          2017,
          2018,
          2019,
          2020,
          2021
         ],
         "y": [
          null,
          null,
          null,
          null,
          null,
          null,
          null,
          null,
          null,
          null,
          null,
          null,
          null,
          null,
          null,
          null,
          null,
          null,
          null,
          null,
          null,
          null,
          null,
          null,
          null,
          null,
          null,
          null,
          null,
          null,
          null,
          null,
          null,
          null,
          null,
          null,
          null,
          null,
          null,
          null,
          null,
          null,
          null,
          null,
          null,
          null,
          null,
          null,
          null,
          null,
          null,
          null,
          null,
          null,
          null,
          null,
          null,
          null,
          null,
          null,
          null,
          null,
          null,
          null,
          null,
          null,
          null,
          null,
          null,
          null,
          null,
          null,
          null,
          null,
          null,
          null,
          null,
          null,
          null,
          null,
          null,
          null,
          null,
          null,
          null,
          null,
          null,
          null,
          null,
          null,
          null,
          null,
          4.930350900182732,
          6.994601549606825,
          4.852927912821234,
          6.037727968384339,
          6.421594400612641,
          3.767135931037051,
          2.358083330423731,
          1.087734306002668,
          1.563843137692788,
          2.017550357735514
         ]
        },
        {
         "mode": "lines",
         "name": "CAMMESA gas oil",
         "type": "scatter",
         "x": [
          1920,
          1921,
          1922,
          1923,
          1924,
          1925,
          1926,
          1927,
          1928,
          1929,
          1930,
          1931,
          1932,
          1933,
          1934,
          1935,
          1936,
          1937,
          1938,
          1939,
          1940,
          1941,
          1942,
          1943,
          1944,
          1945,
          1946,
          1947,
          1948,
          1949,
          1950,
          1951,
          1952,
          1953,
          1954,
          1955,
          1956,
          1957,
          1958,
          1959,
          1960,
          1961,
          1962,
          1963,
          1964,
          1965,
          1966,
          1967,
          1968,
          1969,
          1970,
          1971,
          1972,
          1973,
          1974,
          1975,
          1976,
          1977,
          1978,
          1979,
          1980,
          1981,
          1982,
          1983,
          1984,
          1985,
          1986,
          1987,
          1988,
          1989,
          1990,
          1991,
          1992,
          1993,
          1994,
          1995,
          1996,
          1997,
          1998,
          1999,
          2000,
          2001,
          2002,
          2003,
          2004,
          2005,
          2006,
          2007,
          2008,
          2009,
          2010,
          2011,
          2012,
          2013,
          2014,
          2015,
          2016,
          2017,
          2018,
          2019,
          2020,
          2021
         ],
         "y": [
          null,
          null,
          null,
          null,
          null,
          null,
          null,
          null,
          null,
          null,
          null,
          null,
          null,
          null,
          null,
          null,
          null,
          null,
          null,
          null,
          null,
          null,
          null,
          null,
          null,
          null,
          null,
          null,
          null,
          null,
          null,
          null,
          null,
          null,
          null,
          null,
          null,
          null,
          null,
          null,
          null,
          null,
          null,
          null,
          null,
          null,
          null,
          null,
          null,
          null,
          null,
          null,
          null,
          null,
          null,
          null,
          null,
          null,
          null,
          null,
          null,
          null,
          null,
          null,
          null,
          null,
          null,
          null,
          null,
          null,
          null,
          null,
          null,
          null,
          null,
          null,
          null,
          null,
          null,
          null,
          null,
          null,
          null,
          null,
          null,
          null,
          null,
          2.0664507044718694,
          2.272783253767165,
          2.634380233007962,
          4.497998991900912,
          5.44645598768295,
          4.931163579247504,
          6.99429430951487,
          4.852624443373714,
          6.040874706021422,
          6.4216188531608625,
          3.7683108185296166,
          2.3600757518880524,
          1.0893300842627476,
          2.2991121615123093,
          5.457736342506337
         ]
        },
        {
         "line": {
          "dash": "dash"
         },
         "mode": "lines",
         "name": "Estimacion propia carbón mineral",
         "type": "scatter",
         "x": [
          1920,
          1921,
          1922,
          1923,
          1924,
          1925,
          1926,
          1927,
          1928,
          1929,
          1930,
          1931,
          1932,
          1933,
          1934,
          1935,
          1936,
          1937,
          1938,
          1939,
          1940,
          1941,
          1942,
          1943,
          1944,
          1945,
          1946,
          1947,
          1948,
          1949,
          1950,
          1951,
          1952,
          1953,
          1954,
          1955,
          1956,
          1957,
          1958,
          1959,
          1960,
          1961,
          1962,
          1963,
          1964,
          1965,
          1966,
          1967,
          1968,
          1969,
          1970,
          1971,
          1972,
          1973,
          1974,
          1975,
          1976,
          1977,
          1978,
          1979,
          1980,
          1981,
          1982,
          1983,
          1984,
          1985,
          1986,
          1987,
          1988,
          1989,
          1990,
          1991,
          1992,
          1993,
          1994,
          1995,
          1996,
          1997,
          1998,
          1999,
          2000,
          2001,
          2002,
          2003,
          2004,
          2005,
          2006,
          2007,
          2008,
          2009,
          2010,
          2011,
          2012,
          2013,
          2014,
          2015,
          2016,
          2017,
          2018,
          2019,
          2020,
          2021
         ],
         "y": [
          null,
          null,
          null,
          null,
          null,
          null,
          null,
          null,
          null,
          null,
          null,
          null,
          null,
          null,
          null,
          null,
          null,
          null,
          null,
          null,
          null,
          null,
          null,
          null,
          null,
          null,
          null,
          null,
          null,
          null,
          null,
          null,
          null,
          null,
          null,
          null,
          null,
          null,
          null,
          null,
          null,
          null,
          null,
          null,
          null,
          null,
          null,
          null,
          null,
          null,
          null,
          null,
          null,
          null,
          null,
          null,
          null,
          null,
          null,
          null,
          null,
          null,
          null,
          null,
          null,
          null,
          null,
          null,
          null,
          null,
          null,
          null,
          null,
          null,
          null,
          null,
          null,
          null,
          null,
          null,
          null,
          null,
          null,
          null,
          null,
          null,
          null,
          null,
          null,
          null,
          null,
          null,
          2.25722045143408,
          1.9879706261515058,
          2.345478162707879,
          2.216395370187161,
          1.6997081503593947,
          1.5263648228548352,
          1.5350034807536177,
          0.5180585275543357,
          1.1092185511967665,
          2.0216586435919
         ]
        },
        {
         "mode": "lines",
         "name": "CAMMESA carbón mineral",
         "type": "scatter",
         "x": [
          1920,
          1921,
          1922,
          1923,
          1924,
          1925,
          1926,
          1927,
          1928,
          1929,
          1930,
          1931,
          1932,
          1933,
          1934,
          1935,
          1936,
          1937,
          1938,
          1939,
          1940,
          1941,
          1942,
          1943,
          1944,
          1945,
          1946,
          1947,
          1948,
          1949,
          1950,
          1951,
          1952,
          1953,
          1954,
          1955,
          1956,
          1957,
          1958,
          1959,
          1960,
          1961,
          1962,
          1963,
          1964,
          1965,
          1966,
          1967,
          1968,
          1969,
          1970,
          1971,
          1972,
          1973,
          1974,
          1975,
          1976,
          1977,
          1978,
          1979,
          1980,
          1981,
          1982,
          1983,
          1984,
          1985,
          1986,
          1987,
          1988,
          1989,
          1990,
          1991,
          1992,
          1993,
          1994,
          1995,
          1996,
          1997,
          1998,
          1999,
          2000,
          2001,
          2002,
          2003,
          2004,
          2005,
          2006,
          2007,
          2008,
          2009,
          2010,
          2011,
          2012,
          2013,
          2014,
          2015,
          2016,
          2017,
          2018,
          2019,
          2020,
          2021
         ],
         "y": [
          null,
          null,
          null,
          null,
          null,
          null,
          null,
          null,
          null,
          null,
          null,
          null,
          null,
          null,
          null,
          null,
          null,
          null,
          null,
          null,
          null,
          null,
          null,
          null,
          null,
          null,
          null,
          null,
          null,
          null,
          null,
          null,
          null,
          null,
          null,
          null,
          null,
          null,
          null,
          null,
          null,
          null,
          null,
          null,
          null,
          null,
          null,
          null,
          null,
          null,
          null,
          null,
          null,
          null,
          null,
          null,
          null,
          null,
          null,
          null,
          null,
          null,
          null,
          null,
          null,
          null,
          null,
          null,
          null,
          null,
          null,
          null,
          null,
          null,
          null,
          null,
          null,
          null,
          null,
          null,
          null,
          null,
          null,
          null,
          null,
          null,
          null,
          1.3763028429180801,
          1.8762042556548015,
          1.8582736561693924,
          2.0407911208476177,
          2.3329549856754417,
          2.257201860447054,
          1.9879543026997637,
          2.345478162707879,
          2.216395370187161,
          1.693673374920745,
          1.526364822854835,
          1.5350034807536177,
          0.5180585275543358,
          1.1092185511967665,
          2.0216586435919
         ]
        }
       ],
       "layout": {
        "legend": {
         "bgcolor": "LightSteelBlue",
         "bordercolor": "Black",
         "borderwidth": 1,
         "font": {
          "color": "black",
          "family": "sans-serif",
          "size": 12
         },
         "orientation": "v",
         "traceorder": "normal",
         "x": 1.1,
         "y": 1
        },
        "template": {
         "data": {
          "bar": [
           {
            "error_x": {
             "color": "rgb(36,36,36)"
            },
            "error_y": {
             "color": "rgb(36,36,36)"
            },
            "marker": {
             "line": {
              "color": "white",
              "width": 0.5
             },
             "pattern": {
              "fillmode": "overlay",
              "size": 10,
              "solidity": 0.2
             }
            },
            "type": "bar"
           }
          ],
          "barpolar": [
           {
            "marker": {
             "line": {
              "color": "white",
              "width": 0.5
             },
             "pattern": {
              "fillmode": "overlay",
              "size": 10,
              "solidity": 0.2
             }
            },
            "type": "barpolar"
           }
          ],
          "carpet": [
           {
            "aaxis": {
             "endlinecolor": "rgb(36,36,36)",
             "gridcolor": "white",
             "linecolor": "white",
             "minorgridcolor": "white",
             "startlinecolor": "rgb(36,36,36)"
            },
            "baxis": {
             "endlinecolor": "rgb(36,36,36)",
             "gridcolor": "white",
             "linecolor": "white",
             "minorgridcolor": "white",
             "startlinecolor": "rgb(36,36,36)"
            },
            "type": "carpet"
           }
          ],
          "choropleth": [
           {
            "colorbar": {
             "outlinewidth": 1,
             "tickcolor": "rgb(36,36,36)",
             "ticks": "outside"
            },
            "type": "choropleth"
           }
          ],
          "contour": [
           {
            "colorbar": {
             "outlinewidth": 1,
             "tickcolor": "rgb(36,36,36)",
             "ticks": "outside"
            },
            "colorscale": [
             [
              0,
              "#440154"
             ],
             [
              0.1111111111111111,
              "#482878"
             ],
             [
              0.2222222222222222,
              "#3e4989"
             ],
             [
              0.3333333333333333,
              "#31688e"
             ],
             [
              0.4444444444444444,
              "#26828e"
             ],
             [
              0.5555555555555556,
              "#1f9e89"
             ],
             [
              0.6666666666666666,
              "#35b779"
             ],
             [
              0.7777777777777778,
              "#6ece58"
             ],
             [
              0.8888888888888888,
              "#b5de2b"
             ],
             [
              1,
              "#fde725"
             ]
            ],
            "type": "contour"
           }
          ],
          "contourcarpet": [
           {
            "colorbar": {
             "outlinewidth": 1,
             "tickcolor": "rgb(36,36,36)",
             "ticks": "outside"
            },
            "type": "contourcarpet"
           }
          ],
          "heatmap": [
           {
            "colorbar": {
             "outlinewidth": 1,
             "tickcolor": "rgb(36,36,36)",
             "ticks": "outside"
            },
            "colorscale": [
             [
              0,
              "#440154"
             ],
             [
              0.1111111111111111,
              "#482878"
             ],
             [
              0.2222222222222222,
              "#3e4989"
             ],
             [
              0.3333333333333333,
              "#31688e"
             ],
             [
              0.4444444444444444,
              "#26828e"
             ],
             [
              0.5555555555555556,
              "#1f9e89"
             ],
             [
              0.6666666666666666,
              "#35b779"
             ],
             [
              0.7777777777777778,
              "#6ece58"
             ],
             [
              0.8888888888888888,
              "#b5de2b"
             ],
             [
              1,
              "#fde725"
             ]
            ],
            "type": "heatmap"
           }
          ],
          "heatmapgl": [
           {
            "colorbar": {
             "outlinewidth": 1,
             "tickcolor": "rgb(36,36,36)",
             "ticks": "outside"
            },
            "colorscale": [
             [
              0,
              "#440154"
             ],
             [
              0.1111111111111111,
              "#482878"
             ],
             [
              0.2222222222222222,
              "#3e4989"
             ],
             [
              0.3333333333333333,
              "#31688e"
             ],
             [
              0.4444444444444444,
              "#26828e"
             ],
             [
              0.5555555555555556,
              "#1f9e89"
             ],
             [
              0.6666666666666666,
              "#35b779"
             ],
             [
              0.7777777777777778,
              "#6ece58"
             ],
             [
              0.8888888888888888,
              "#b5de2b"
             ],
             [
              1,
              "#fde725"
             ]
            ],
            "type": "heatmapgl"
           }
          ],
          "histogram": [
           {
            "marker": {
             "line": {
              "color": "white",
              "width": 0.6
             }
            },
            "type": "histogram"
           }
          ],
          "histogram2d": [
           {
            "colorbar": {
             "outlinewidth": 1,
             "tickcolor": "rgb(36,36,36)",
             "ticks": "outside"
            },
            "colorscale": [
             [
              0,
              "#440154"
             ],
             [
              0.1111111111111111,
              "#482878"
             ],
             [
              0.2222222222222222,
              "#3e4989"
             ],
             [
              0.3333333333333333,
              "#31688e"
             ],
             [
              0.4444444444444444,
              "#26828e"
             ],
             [
              0.5555555555555556,
              "#1f9e89"
             ],
             [
              0.6666666666666666,
              "#35b779"
             ],
             [
              0.7777777777777778,
              "#6ece58"
             ],
             [
              0.8888888888888888,
              "#b5de2b"
             ],
             [
              1,
              "#fde725"
             ]
            ],
            "type": "histogram2d"
           }
          ],
          "histogram2dcontour": [
           {
            "colorbar": {
             "outlinewidth": 1,
             "tickcolor": "rgb(36,36,36)",
             "ticks": "outside"
            },
            "colorscale": [
             [
              0,
              "#440154"
             ],
             [
              0.1111111111111111,
              "#482878"
             ],
             [
              0.2222222222222222,
              "#3e4989"
             ],
             [
              0.3333333333333333,
              "#31688e"
             ],
             [
              0.4444444444444444,
              "#26828e"
             ],
             [
              0.5555555555555556,
              "#1f9e89"
             ],
             [
              0.6666666666666666,
              "#35b779"
             ],
             [
              0.7777777777777778,
              "#6ece58"
             ],
             [
              0.8888888888888888,
              "#b5de2b"
             ],
             [
              1,
              "#fde725"
             ]
            ],
            "type": "histogram2dcontour"
           }
          ],
          "mesh3d": [
           {
            "colorbar": {
             "outlinewidth": 1,
             "tickcolor": "rgb(36,36,36)",
             "ticks": "outside"
            },
            "type": "mesh3d"
           }
          ],
          "parcoords": [
           {
            "line": {
             "colorbar": {
              "outlinewidth": 1,
              "tickcolor": "rgb(36,36,36)",
              "ticks": "outside"
             }
            },
            "type": "parcoords"
           }
          ],
          "pie": [
           {
            "automargin": true,
            "type": "pie"
           }
          ],
          "scatter": [
           {
            "fillpattern": {
             "fillmode": "overlay",
             "size": 10,
             "solidity": 0.2
            },
            "type": "scatter"
           }
          ],
          "scatter3d": [
           {
            "line": {
             "colorbar": {
              "outlinewidth": 1,
              "tickcolor": "rgb(36,36,36)",
              "ticks": "outside"
             }
            },
            "marker": {
             "colorbar": {
              "outlinewidth": 1,
              "tickcolor": "rgb(36,36,36)",
              "ticks": "outside"
             }
            },
            "type": "scatter3d"
           }
          ],
          "scattercarpet": [
           {
            "marker": {
             "colorbar": {
              "outlinewidth": 1,
              "tickcolor": "rgb(36,36,36)",
              "ticks": "outside"
             }
            },
            "type": "scattercarpet"
           }
          ],
          "scattergeo": [
           {
            "marker": {
             "colorbar": {
              "outlinewidth": 1,
              "tickcolor": "rgb(36,36,36)",
              "ticks": "outside"
             }
            },
            "type": "scattergeo"
           }
          ],
          "scattergl": [
           {
            "marker": {
             "colorbar": {
              "outlinewidth": 1,
              "tickcolor": "rgb(36,36,36)",
              "ticks": "outside"
             }
            },
            "type": "scattergl"
           }
          ],
          "scattermapbox": [
           {
            "marker": {
             "colorbar": {
              "outlinewidth": 1,
              "tickcolor": "rgb(36,36,36)",
              "ticks": "outside"
             }
            },
            "type": "scattermapbox"
           }
          ],
          "scatterpolar": [
           {
            "marker": {
             "colorbar": {
              "outlinewidth": 1,
              "tickcolor": "rgb(36,36,36)",
              "ticks": "outside"
             }
            },
            "type": "scatterpolar"
           }
          ],
          "scatterpolargl": [
           {
            "marker": {
             "colorbar": {
              "outlinewidth": 1,
              "tickcolor": "rgb(36,36,36)",
              "ticks": "outside"
             }
            },
            "type": "scatterpolargl"
           }
          ],
          "scatterternary": [
           {
            "marker": {
             "colorbar": {
              "outlinewidth": 1,
              "tickcolor": "rgb(36,36,36)",
              "ticks": "outside"
             }
            },
            "type": "scatterternary"
           }
          ],
          "surface": [
           {
            "colorbar": {
             "outlinewidth": 1,
             "tickcolor": "rgb(36,36,36)",
             "ticks": "outside"
            },
            "colorscale": [
             [
              0,
              "#440154"
             ],
             [
              0.1111111111111111,
              "#482878"
             ],
             [
              0.2222222222222222,
              "#3e4989"
             ],
             [
              0.3333333333333333,
              "#31688e"
             ],
             [
              0.4444444444444444,
              "#26828e"
             ],
             [
              0.5555555555555556,
              "#1f9e89"
             ],
             [
              0.6666666666666666,
              "#35b779"
             ],
             [
              0.7777777777777778,
              "#6ece58"
             ],
             [
              0.8888888888888888,
              "#b5de2b"
             ],
             [
              1,
              "#fde725"
             ]
            ],
            "type": "surface"
           }
          ],
          "table": [
           {
            "cells": {
             "fill": {
              "color": "rgb(237,237,237)"
             },
             "line": {
              "color": "white"
             }
            },
            "header": {
             "fill": {
              "color": "rgb(217,217,217)"
             },
             "line": {
              "color": "white"
             }
            },
            "type": "table"
           }
          ]
         },
         "layout": {
          "annotationdefaults": {
           "arrowhead": 0,
           "arrowwidth": 1
          },
          "autotypenumbers": "strict",
          "coloraxis": {
           "colorbar": {
            "outlinewidth": 1,
            "tickcolor": "rgb(36,36,36)",
            "ticks": "outside"
           }
          },
          "colorscale": {
           "diverging": [
            [
             0,
             "rgb(103,0,31)"
            ],
            [
             0.1,
             "rgb(178,24,43)"
            ],
            [
             0.2,
             "rgb(214,96,77)"
            ],
            [
             0.3,
             "rgb(244,165,130)"
            ],
            [
             0.4,
             "rgb(253,219,199)"
            ],
            [
             0.5,
             "rgb(247,247,247)"
            ],
            [
             0.6,
             "rgb(209,229,240)"
            ],
            [
             0.7,
             "rgb(146,197,222)"
            ],
            [
             0.8,
             "rgb(67,147,195)"
            ],
            [
             0.9,
             "rgb(33,102,172)"
            ],
            [
             1,
             "rgb(5,48,97)"
            ]
           ],
           "sequential": [
            [
             0,
             "#440154"
            ],
            [
             0.1111111111111111,
             "#482878"
            ],
            [
             0.2222222222222222,
             "#3e4989"
            ],
            [
             0.3333333333333333,
             "#31688e"
            ],
            [
             0.4444444444444444,
             "#26828e"
            ],
            [
             0.5555555555555556,
             "#1f9e89"
            ],
            [
             0.6666666666666666,
             "#35b779"
            ],
            [
             0.7777777777777778,
             "#6ece58"
            ],
            [
             0.8888888888888888,
             "#b5de2b"
            ],
            [
             1,
             "#fde725"
            ]
           ],
           "sequentialminus": [
            [
             0,
             "#440154"
            ],
            [
             0.1111111111111111,
             "#482878"
            ],
            [
             0.2222222222222222,
             "#3e4989"
            ],
            [
             0.3333333333333333,
             "#31688e"
            ],
            [
             0.4444444444444444,
             "#26828e"
            ],
            [
             0.5555555555555556,
             "#1f9e89"
            ],
            [
             0.6666666666666666,
             "#35b779"
            ],
            [
             0.7777777777777778,
             "#6ece58"
            ],
            [
             0.8888888888888888,
             "#b5de2b"
            ],
            [
             1,
             "#fde725"
            ]
           ]
          },
          "colorway": [
           "#1F77B4",
           "#FF7F0E",
           "#2CA02C",
           "#D62728",
           "#9467BD",
           "#8C564B",
           "#E377C2",
           "#7F7F7F",
           "#BCBD22",
           "#17BECF"
          ],
          "font": {
           "color": "rgb(36,36,36)"
          },
          "geo": {
           "bgcolor": "white",
           "lakecolor": "white",
           "landcolor": "white",
           "showlakes": true,
           "showland": true,
           "subunitcolor": "white"
          },
          "hoverlabel": {
           "align": "left"
          },
          "hovermode": "closest",
          "mapbox": {
           "style": "light"
          },
          "paper_bgcolor": "white",
          "plot_bgcolor": "white",
          "polar": {
           "angularaxis": {
            "gridcolor": "rgb(232,232,232)",
            "linecolor": "rgb(36,36,36)",
            "showgrid": false,
            "showline": true,
            "ticks": "outside"
           },
           "bgcolor": "white",
           "radialaxis": {
            "gridcolor": "rgb(232,232,232)",
            "linecolor": "rgb(36,36,36)",
            "showgrid": false,
            "showline": true,
            "ticks": "outside"
           }
          },
          "scene": {
           "xaxis": {
            "backgroundcolor": "white",
            "gridcolor": "rgb(232,232,232)",
            "gridwidth": 2,
            "linecolor": "rgb(36,36,36)",
            "showbackground": true,
            "showgrid": false,
            "showline": true,
            "ticks": "outside",
            "zeroline": false,
            "zerolinecolor": "rgb(36,36,36)"
           },
           "yaxis": {
            "backgroundcolor": "white",
            "gridcolor": "rgb(232,232,232)",
            "gridwidth": 2,
            "linecolor": "rgb(36,36,36)",
            "showbackground": true,
            "showgrid": false,
            "showline": true,
            "ticks": "outside",
            "zeroline": false,
            "zerolinecolor": "rgb(36,36,36)"
           },
           "zaxis": {
            "backgroundcolor": "white",
            "gridcolor": "rgb(232,232,232)",
            "gridwidth": 2,
            "linecolor": "rgb(36,36,36)",
            "showbackground": true,
            "showgrid": false,
            "showline": true,
            "ticks": "outside",
            "zeroline": false,
            "zerolinecolor": "rgb(36,36,36)"
           }
          },
          "shapedefaults": {
           "fillcolor": "black",
           "line": {
            "width": 0
           },
           "opacity": 0.3
          },
          "ternary": {
           "aaxis": {
            "gridcolor": "rgb(232,232,232)",
            "linecolor": "rgb(36,36,36)",
            "showgrid": false,
            "showline": true,
            "ticks": "outside"
           },
           "baxis": {
            "gridcolor": "rgb(232,232,232)",
            "linecolor": "rgb(36,36,36)",
            "showgrid": false,
            "showline": true,
            "ticks": "outside"
           },
           "bgcolor": "white",
           "caxis": {
            "gridcolor": "rgb(232,232,232)",
            "linecolor": "rgb(36,36,36)",
            "showgrid": false,
            "showline": true,
            "ticks": "outside"
           }
          },
          "title": {
           "x": 0.05
          },
          "xaxis": {
           "automargin": true,
           "gridcolor": "rgb(232,232,232)",
           "linecolor": "rgb(36,36,36)",
           "showgrid": false,
           "showline": true,
           "ticks": "outside",
           "title": {
            "standoff": 15
           },
           "zeroline": false,
           "zerolinecolor": "rgb(36,36,36)"
          },
          "yaxis": {
           "automargin": true,
           "gridcolor": "rgb(232,232,232)",
           "linecolor": "rgb(36,36,36)",
           "showgrid": false,
           "showline": true,
           "ticks": "outside",
           "title": {
            "standoff": 15
           },
           "zeroline": false,
           "zerolinecolor": "rgb(36,36,36)"
          }
         }
        },
        "title": {
         "text": "Estimación propia vs CAMMESA"
        },
        "xaxis": {
         "dtick": 1,
         "range": [
          2007,
          2022
         ],
         "tickmode": "linear"
        },
        "yaxis": {
         "title": {
          "text": "CO2 resto combustibles, en M ton co2"
         }
        },
        "yaxis2": {
         "overlaying": "y",
         "side": "right",
         "title": {
          "text": "CO2 Gas Natural, en M ton co2"
         }
        }
       }
      }
     },
     "metadata": {},
     "output_type": "display_data"
    }
   ],
   "source": [
    "import plotly.graph_objects as go\n",
    "\n",
    "variables = [\"gas natural\", \"fuel oil\", \"gas oil\", \"carbón mineral\"]\n",
    "\n",
    "fig = go.Figure()\n",
    "\n",
    "# Estimacion propia vs estimacion CAMMESA\n",
    "for variable in variables:\n",
    "    if variable == \"gas natural\":\n",
    "        fig.add_trace(go.Scatter(x=df_completo['year'], y=df_completo[\"ep_c_\" + variable], mode='lines', name=\"Estimacion propia \" + variable,\n",
    "                                 line=dict(dash='dash'),\n",
    "                                 yaxis='y2'))\n",
    "        fig.add_trace(go.Scatter(x=df_completo['year'], y=df_completo[\"e_\" + variable], mode='lines', name=\"CAMMESA \" + variable,\n",
    "                                 yaxis='y2'))\n",
    "    else:\n",
    "        fig.add_trace(go.Scatter(x=df_completo['year'], y=df_completo[\"ep_c_\" + variable], mode='lines', name=\"Estimacion propia \" + variable,\n",
    "                                 line=dict(dash='dash')))\n",
    "        fig.add_trace(go.Scatter(x=df_completo['year'], y=df_completo[\"e_\" + variable], mode='lines', name=\"CAMMESA \" + variable))\n",
    "\n",
    "fig.update_layout(template=\"simple_white\",\n",
    "                  xaxis=dict(\n",
    "                      range=[2007, 2022],\n",
    "                      tickmode='linear',\n",
    "                      dtick=1\n",
    "                  ),\n",
    "                  yaxis=dict(\n",
    "                      title=\"CO2 resto combustibles, en M ton co2\"\n",
    "                  ),\n",
    "                  yaxis2=dict(\n",
    "                      title=\"CO2 Gas Natural, en M ton co2\",\n",
    "                      overlaying='y',\n",
    "                      side='right'\n",
    "                  ),\n",
    "                  title=\"Estimación propia vs CAMMESA\",\n",
    "                  legend=dict(\n",
    "                      x=1.1,\n",
    "                      y=1,\n",
    "                      traceorder=\"normal\",\n",
    "                      font=dict(\n",
    "                          family=\"sans-serif\",\n",
    "                          size=12,\n",
    "                          color=\"black\"\n",
    "                      ),\n",
    "                      bgcolor=\"LightSteelBlue\",\n",
    "                      bordercolor=\"Black\",\n",
    "                      borderwidth=1,\n",
    "                      orientation=\"v\"\n",
    "                  )\n",
    ")\n",
    "\n",
    "fig.show()\n",
    "\n"
   ]
  },
  {
   "cell_type": "code",
   "execution_count": 150,
   "id": "7a749884",
   "metadata": {},
   "outputs": [
    {
     "data": {
      "application/vnd.plotly.v1+json": {
       "config": {
        "plotlyServerURL": "https://plot.ly"
       },
       "data": [
        {
         "line": {
          "dash": "dash"
         },
         "mode": "lines",
         "name": "Estimacion propia ",
         "type": "scatter",
         "x": [
          1920,
          1921,
          1922,
          1923,
          1924,
          1925,
          1926,
          1927,
          1928,
          1929,
          1930,
          1931,
          1932,
          1933,
          1934,
          1935,
          1936,
          1937,
          1938,
          1939,
          1940,
          1941,
          1942,
          1943,
          1944,
          1945,
          1946,
          1947,
          1948,
          1949,
          1950,
          1951,
          1952,
          1953,
          1954,
          1955,
          1956,
          1957,
          1958,
          1959,
          1960,
          1961,
          1962,
          1963,
          1964,
          1965,
          1966,
          1967,
          1968,
          1969,
          1970,
          1971,
          1972,
          1973,
          1974,
          1975,
          1976,
          1977,
          1978,
          1979,
          1980,
          1981,
          1982,
          1983,
          1984,
          1985,
          1986,
          1987,
          1988,
          1989,
          1990,
          1991,
          1992,
          1993,
          1994,
          1995,
          1996,
          1997,
          1998,
          1999,
          2000,
          2001,
          2002,
          2003,
          2004,
          2005,
          2006,
          2007,
          2008,
          2009,
          2010,
          2011,
          2012,
          2013,
          2014,
          2015,
          2016,
          2017,
          2018,
          2019,
          2020,
          2021
         ],
         "y": [
          null,
          null,
          null,
          null,
          null,
          null,
          null,
          null,
          null,
          null,
          null,
          null,
          null,
          null,
          null,
          null,
          null,
          null,
          null,
          null,
          null,
          null,
          null,
          null,
          null,
          null,
          null,
          null,
          null,
          null,
          null,
          null,
          null,
          null,
          null,
          null,
          null,
          null,
          null,
          null,
          null,
          null,
          null,
          null,
          null,
          null,
          null,
          null,
          null,
          null,
          null,
          null,
          null,
          null,
          null,
          null,
          null,
          null,
          null,
          null,
          null,
          null,
          null,
          null,
          null,
          null,
          null,
          null,
          null,
          null,
          null,
          null,
          null,
          null,
          null,
          null,
          null,
          null,
          null,
          null,
          null,
          null,
          null,
          null,
          null,
          null,
          null,
          null,
          null,
          null,
          null,
          null,
          43.54875160232283,
          43.24728632928087,
          43.785391922218714,
          46.18027839275396,
          46.89952693193847,
          42.71964429683773,
          40.8314210557421,
          35.716298129990534,
          37.121297654668574,
          42.339083206457595
         ]
        },
        {
         "line": {
          "dash": "solid"
         },
         "mode": "lines",
         "name": "CAMMESA",
         "type": "scatter",
         "x": [
          1920,
          1921,
          1922,
          1923,
          1924,
          1925,
          1926,
          1927,
          1928,
          1929,
          1930,
          1931,
          1932,
          1933,
          1934,
          1935,
          1936,
          1937,
          1938,
          1939,
          1940,
          1941,
          1942,
          1943,
          1944,
          1945,
          1946,
          1947,
          1948,
          1949,
          1950,
          1951,
          1952,
          1953,
          1954,
          1955,
          1956,
          1957,
          1958,
          1959,
          1960,
          1961,
          1962,
          1963,
          1964,
          1965,
          1966,
          1967,
          1968,
          1969,
          1970,
          1971,
          1972,
          1973,
          1974,
          1975,
          1976,
          1977,
          1978,
          1979,
          1980,
          1981,
          1982,
          1983,
          1984,
          1985,
          1986,
          1987,
          1988,
          1989,
          1990,
          1991,
          1992,
          1993,
          1994,
          1995,
          1996,
          1997,
          1998,
          1999,
          2000,
          2001,
          2002,
          2003,
          2004,
          2005,
          2006,
          2007,
          2008,
          2009,
          2010,
          2011,
          2012,
          2013,
          2014,
          2015,
          2016,
          2017,
          2018,
          2019,
          2020,
          2021
         ],
         "y": [
          null,
          null,
          null,
          null,
          null,
          null,
          null,
          null,
          null,
          null,
          null,
          null,
          null,
          null,
          null,
          null,
          null,
          null,
          null,
          null,
          null,
          null,
          null,
          null,
          null,
          null,
          null,
          null,
          null,
          null,
          null,
          null,
          null,
          null,
          null,
          null,
          null,
          null,
          null,
          null,
          null,
          null,
          null,
          null,
          null,
          null,
          null,
          null,
          null,
          null,
          null,
          null,
          null,
          null,
          null,
          null,
          null,
          null,
          null,
          null,
          null,
          null,
          null,
          null,
          null,
          null,
          null,
          null,
          null,
          null,
          null,
          null,
          null,
          null,
          null,
          null,
          null,
          null,
          null,
          null,
          null,
          null,
          null,
          null,
          null,
          null,
          null,
          32.80173502711294,
          37.1030978734569,
          34.12859294935443,
          36.191229947588994,
          40.63500210656254,
          43.60653464500182,
          43.2469498021327,
          43.78455571501267,
          46.1438680880047,
          46.89331442067398,
          42.72578795603905,
          40.82461107306839,
          35.72606991817847,
          36.998774338803315,
          41.712283351094854
         ]
        }
       ],
       "layout": {
        "legend": {
         "bgcolor": "LightSteelBlue",
         "bordercolor": "Black",
         "borderwidth": 1,
         "font": {
          "color": "black",
          "family": "sans-serif",
          "size": 12
         },
         "orientation": "v",
         "traceorder": "normal",
         "x": 1.1,
         "y": 1
        },
        "template": {
         "data": {
          "bar": [
           {
            "error_x": {
             "color": "rgb(36,36,36)"
            },
            "error_y": {
             "color": "rgb(36,36,36)"
            },
            "marker": {
             "line": {
              "color": "white",
              "width": 0.5
             },
             "pattern": {
              "fillmode": "overlay",
              "size": 10,
              "solidity": 0.2
             }
            },
            "type": "bar"
           }
          ],
          "barpolar": [
           {
            "marker": {
             "line": {
              "color": "white",
              "width": 0.5
             },
             "pattern": {
              "fillmode": "overlay",
              "size": 10,
              "solidity": 0.2
             }
            },
            "type": "barpolar"
           }
          ],
          "carpet": [
           {
            "aaxis": {
             "endlinecolor": "rgb(36,36,36)",
             "gridcolor": "white",
             "linecolor": "white",
             "minorgridcolor": "white",
             "startlinecolor": "rgb(36,36,36)"
            },
            "baxis": {
             "endlinecolor": "rgb(36,36,36)",
             "gridcolor": "white",
             "linecolor": "white",
             "minorgridcolor": "white",
             "startlinecolor": "rgb(36,36,36)"
            },
            "type": "carpet"
           }
          ],
          "choropleth": [
           {
            "colorbar": {
             "outlinewidth": 1,
             "tickcolor": "rgb(36,36,36)",
             "ticks": "outside"
            },
            "type": "choropleth"
           }
          ],
          "contour": [
           {
            "colorbar": {
             "outlinewidth": 1,
             "tickcolor": "rgb(36,36,36)",
             "ticks": "outside"
            },
            "colorscale": [
             [
              0,
              "#440154"
             ],
             [
              0.1111111111111111,
              "#482878"
             ],
             [
              0.2222222222222222,
              "#3e4989"
             ],
             [
              0.3333333333333333,
              "#31688e"
             ],
             [
              0.4444444444444444,
              "#26828e"
             ],
             [
              0.5555555555555556,
              "#1f9e89"
             ],
             [
              0.6666666666666666,
              "#35b779"
             ],
             [
              0.7777777777777778,
              "#6ece58"
             ],
             [
              0.8888888888888888,
              "#b5de2b"
             ],
             [
              1,
              "#fde725"
             ]
            ],
            "type": "contour"
           }
          ],
          "contourcarpet": [
           {
            "colorbar": {
             "outlinewidth": 1,
             "tickcolor": "rgb(36,36,36)",
             "ticks": "outside"
            },
            "type": "contourcarpet"
           }
          ],
          "heatmap": [
           {
            "colorbar": {
             "outlinewidth": 1,
             "tickcolor": "rgb(36,36,36)",
             "ticks": "outside"
            },
            "colorscale": [
             [
              0,
              "#440154"
             ],
             [
              0.1111111111111111,
              "#482878"
             ],
             [
              0.2222222222222222,
              "#3e4989"
             ],
             [
              0.3333333333333333,
              "#31688e"
             ],
             [
              0.4444444444444444,
              "#26828e"
             ],
             [
              0.5555555555555556,
              "#1f9e89"
             ],
             [
              0.6666666666666666,
              "#35b779"
             ],
             [
              0.7777777777777778,
              "#6ece58"
             ],
             [
              0.8888888888888888,
              "#b5de2b"
             ],
             [
              1,
              "#fde725"
             ]
            ],
            "type": "heatmap"
           }
          ],
          "heatmapgl": [
           {
            "colorbar": {
             "outlinewidth": 1,
             "tickcolor": "rgb(36,36,36)",
             "ticks": "outside"
            },
            "colorscale": [
             [
              0,
              "#440154"
             ],
             [
              0.1111111111111111,
              "#482878"
             ],
             [
              0.2222222222222222,
              "#3e4989"
             ],
             [
              0.3333333333333333,
              "#31688e"
             ],
             [
              0.4444444444444444,
              "#26828e"
             ],
             [
              0.5555555555555556,
              "#1f9e89"
             ],
             [
              0.6666666666666666,
              "#35b779"
             ],
             [
              0.7777777777777778,
              "#6ece58"
             ],
             [
              0.8888888888888888,
              "#b5de2b"
             ],
             [
              1,
              "#fde725"
             ]
            ],
            "type": "heatmapgl"
           }
          ],
          "histogram": [
           {
            "marker": {
             "line": {
              "color": "white",
              "width": 0.6
             }
            },
            "type": "histogram"
           }
          ],
          "histogram2d": [
           {
            "colorbar": {
             "outlinewidth": 1,
             "tickcolor": "rgb(36,36,36)",
             "ticks": "outside"
            },
            "colorscale": [
             [
              0,
              "#440154"
             ],
             [
              0.1111111111111111,
              "#482878"
             ],
             [
              0.2222222222222222,
              "#3e4989"
             ],
             [
              0.3333333333333333,
              "#31688e"
             ],
             [
              0.4444444444444444,
              "#26828e"
             ],
             [
              0.5555555555555556,
              "#1f9e89"
             ],
             [
              0.6666666666666666,
              "#35b779"
             ],
             [
              0.7777777777777778,
              "#6ece58"
             ],
             [
              0.8888888888888888,
              "#b5de2b"
             ],
             [
              1,
              "#fde725"
             ]
            ],
            "type": "histogram2d"
           }
          ],
          "histogram2dcontour": [
           {
            "colorbar": {
             "outlinewidth": 1,
             "tickcolor": "rgb(36,36,36)",
             "ticks": "outside"
            },
            "colorscale": [
             [
              0,
              "#440154"
             ],
             [
              0.1111111111111111,
              "#482878"
             ],
             [
              0.2222222222222222,
              "#3e4989"
             ],
             [
              0.3333333333333333,
              "#31688e"
             ],
             [
              0.4444444444444444,
              "#26828e"
             ],
             [
              0.5555555555555556,
              "#1f9e89"
             ],
             [
              0.6666666666666666,
              "#35b779"
             ],
             [
              0.7777777777777778,
              "#6ece58"
             ],
             [
              0.8888888888888888,
              "#b5de2b"
             ],
             [
              1,
              "#fde725"
             ]
            ],
            "type": "histogram2dcontour"
           }
          ],
          "mesh3d": [
           {
            "colorbar": {
             "outlinewidth": 1,
             "tickcolor": "rgb(36,36,36)",
             "ticks": "outside"
            },
            "type": "mesh3d"
           }
          ],
          "parcoords": [
           {
            "line": {
             "colorbar": {
              "outlinewidth": 1,
              "tickcolor": "rgb(36,36,36)",
              "ticks": "outside"
             }
            },
            "type": "parcoords"
           }
          ],
          "pie": [
           {
            "automargin": true,
            "type": "pie"
           }
          ],
          "scatter": [
           {
            "fillpattern": {
             "fillmode": "overlay",
             "size": 10,
             "solidity": 0.2
            },
            "type": "scatter"
           }
          ],
          "scatter3d": [
           {
            "line": {
             "colorbar": {
              "outlinewidth": 1,
              "tickcolor": "rgb(36,36,36)",
              "ticks": "outside"
             }
            },
            "marker": {
             "colorbar": {
              "outlinewidth": 1,
              "tickcolor": "rgb(36,36,36)",
              "ticks": "outside"
             }
            },
            "type": "scatter3d"
           }
          ],
          "scattercarpet": [
           {
            "marker": {
             "colorbar": {
              "outlinewidth": 1,
              "tickcolor": "rgb(36,36,36)",
              "ticks": "outside"
             }
            },
            "type": "scattercarpet"
           }
          ],
          "scattergeo": [
           {
            "marker": {
             "colorbar": {
              "outlinewidth": 1,
              "tickcolor": "rgb(36,36,36)",
              "ticks": "outside"
             }
            },
            "type": "scattergeo"
           }
          ],
          "scattergl": [
           {
            "marker": {
             "colorbar": {
              "outlinewidth": 1,
              "tickcolor": "rgb(36,36,36)",
              "ticks": "outside"
             }
            },
            "type": "scattergl"
           }
          ],
          "scattermapbox": [
           {
            "marker": {
             "colorbar": {
              "outlinewidth": 1,
              "tickcolor": "rgb(36,36,36)",
              "ticks": "outside"
             }
            },
            "type": "scattermapbox"
           }
          ],
          "scatterpolar": [
           {
            "marker": {
             "colorbar": {
              "outlinewidth": 1,
              "tickcolor": "rgb(36,36,36)",
              "ticks": "outside"
             }
            },
            "type": "scatterpolar"
           }
          ],
          "scatterpolargl": [
           {
            "marker": {
             "colorbar": {
              "outlinewidth": 1,
              "tickcolor": "rgb(36,36,36)",
              "ticks": "outside"
             }
            },
            "type": "scatterpolargl"
           }
          ],
          "scatterternary": [
           {
            "marker": {
             "colorbar": {
              "outlinewidth": 1,
              "tickcolor": "rgb(36,36,36)",
              "ticks": "outside"
             }
            },
            "type": "scatterternary"
           }
          ],
          "surface": [
           {
            "colorbar": {
             "outlinewidth": 1,
             "tickcolor": "rgb(36,36,36)",
             "ticks": "outside"
            },
            "colorscale": [
             [
              0,
              "#440154"
             ],
             [
              0.1111111111111111,
              "#482878"
             ],
             [
              0.2222222222222222,
              "#3e4989"
             ],
             [
              0.3333333333333333,
              "#31688e"
             ],
             [
              0.4444444444444444,
              "#26828e"
             ],
             [
              0.5555555555555556,
              "#1f9e89"
             ],
             [
              0.6666666666666666,
              "#35b779"
             ],
             [
              0.7777777777777778,
              "#6ece58"
             ],
             [
              0.8888888888888888,
              "#b5de2b"
             ],
             [
              1,
              "#fde725"
             ]
            ],
            "type": "surface"
           }
          ],
          "table": [
           {
            "cells": {
             "fill": {
              "color": "rgb(237,237,237)"
             },
             "line": {
              "color": "white"
             }
            },
            "header": {
             "fill": {
              "color": "rgb(217,217,217)"
             },
             "line": {
              "color": "white"
             }
            },
            "type": "table"
           }
          ]
         },
         "layout": {
          "annotationdefaults": {
           "arrowhead": 0,
           "arrowwidth": 1
          },
          "autotypenumbers": "strict",
          "coloraxis": {
           "colorbar": {
            "outlinewidth": 1,
            "tickcolor": "rgb(36,36,36)",
            "ticks": "outside"
           }
          },
          "colorscale": {
           "diverging": [
            [
             0,
             "rgb(103,0,31)"
            ],
            [
             0.1,
             "rgb(178,24,43)"
            ],
            [
             0.2,
             "rgb(214,96,77)"
            ],
            [
             0.3,
             "rgb(244,165,130)"
            ],
            [
             0.4,
             "rgb(253,219,199)"
            ],
            [
             0.5,
             "rgb(247,247,247)"
            ],
            [
             0.6,
             "rgb(209,229,240)"
            ],
            [
             0.7,
             "rgb(146,197,222)"
            ],
            [
             0.8,
             "rgb(67,147,195)"
            ],
            [
             0.9,
             "rgb(33,102,172)"
            ],
            [
             1,
             "rgb(5,48,97)"
            ]
           ],
           "sequential": [
            [
             0,
             "#440154"
            ],
            [
             0.1111111111111111,
             "#482878"
            ],
            [
             0.2222222222222222,
             "#3e4989"
            ],
            [
             0.3333333333333333,
             "#31688e"
            ],
            [
             0.4444444444444444,
             "#26828e"
            ],
            [
             0.5555555555555556,
             "#1f9e89"
            ],
            [
             0.6666666666666666,
             "#35b779"
            ],
            [
             0.7777777777777778,
             "#6ece58"
            ],
            [
             0.8888888888888888,
             "#b5de2b"
            ],
            [
             1,
             "#fde725"
            ]
           ],
           "sequentialminus": [
            [
             0,
             "#440154"
            ],
            [
             0.1111111111111111,
             "#482878"
            ],
            [
             0.2222222222222222,
             "#3e4989"
            ],
            [
             0.3333333333333333,
             "#31688e"
            ],
            [
             0.4444444444444444,
             "#26828e"
            ],
            [
             0.5555555555555556,
             "#1f9e89"
            ],
            [
             0.6666666666666666,
             "#35b779"
            ],
            [
             0.7777777777777778,
             "#6ece58"
            ],
            [
             0.8888888888888888,
             "#b5de2b"
            ],
            [
             1,
             "#fde725"
            ]
           ]
          },
          "colorway": [
           "#1F77B4",
           "#FF7F0E",
           "#2CA02C",
           "#D62728",
           "#9467BD",
           "#8C564B",
           "#E377C2",
           "#7F7F7F",
           "#BCBD22",
           "#17BECF"
          ],
          "font": {
           "color": "rgb(36,36,36)"
          },
          "geo": {
           "bgcolor": "white",
           "lakecolor": "white",
           "landcolor": "white",
           "showlakes": true,
           "showland": true,
           "subunitcolor": "white"
          },
          "hoverlabel": {
           "align": "left"
          },
          "hovermode": "closest",
          "mapbox": {
           "style": "light"
          },
          "paper_bgcolor": "white",
          "plot_bgcolor": "white",
          "polar": {
           "angularaxis": {
            "gridcolor": "rgb(232,232,232)",
            "linecolor": "rgb(36,36,36)",
            "showgrid": false,
            "showline": true,
            "ticks": "outside"
           },
           "bgcolor": "white",
           "radialaxis": {
            "gridcolor": "rgb(232,232,232)",
            "linecolor": "rgb(36,36,36)",
            "showgrid": false,
            "showline": true,
            "ticks": "outside"
           }
          },
          "scene": {
           "xaxis": {
            "backgroundcolor": "white",
            "gridcolor": "rgb(232,232,232)",
            "gridwidth": 2,
            "linecolor": "rgb(36,36,36)",
            "showbackground": true,
            "showgrid": false,
            "showline": true,
            "ticks": "outside",
            "zeroline": false,
            "zerolinecolor": "rgb(36,36,36)"
           },
           "yaxis": {
            "backgroundcolor": "white",
            "gridcolor": "rgb(232,232,232)",
            "gridwidth": 2,
            "linecolor": "rgb(36,36,36)",
            "showbackground": true,
            "showgrid": false,
            "showline": true,
            "ticks": "outside",
            "zeroline": false,
            "zerolinecolor": "rgb(36,36,36)"
           },
           "zaxis": {
            "backgroundcolor": "white",
            "gridcolor": "rgb(232,232,232)",
            "gridwidth": 2,
            "linecolor": "rgb(36,36,36)",
            "showbackground": true,
            "showgrid": false,
            "showline": true,
            "ticks": "outside",
            "zeroline": false,
            "zerolinecolor": "rgb(36,36,36)"
           }
          },
          "shapedefaults": {
           "fillcolor": "black",
           "line": {
            "width": 0
           },
           "opacity": 0.3
          },
          "ternary": {
           "aaxis": {
            "gridcolor": "rgb(232,232,232)",
            "linecolor": "rgb(36,36,36)",
            "showgrid": false,
            "showline": true,
            "ticks": "outside"
           },
           "baxis": {
            "gridcolor": "rgb(232,232,232)",
            "linecolor": "rgb(36,36,36)",
            "showgrid": false,
            "showline": true,
            "ticks": "outside"
           },
           "bgcolor": "white",
           "caxis": {
            "gridcolor": "rgb(232,232,232)",
            "linecolor": "rgb(36,36,36)",
            "showgrid": false,
            "showline": true,
            "ticks": "outside"
           }
          },
          "title": {
           "x": 0.05
          },
          "xaxis": {
           "automargin": true,
           "gridcolor": "rgb(232,232,232)",
           "linecolor": "rgb(36,36,36)",
           "showgrid": false,
           "showline": true,
           "ticks": "outside",
           "title": {
            "standoff": 15
           },
           "zeroline": false,
           "zerolinecolor": "rgb(36,36,36)"
          },
          "yaxis": {
           "automargin": true,
           "gridcolor": "rgb(232,232,232)",
           "linecolor": "rgb(36,36,36)",
           "showgrid": false,
           "showline": true,
           "ticks": "outside",
           "title": {
            "standoff": 15
           },
           "zeroline": false,
           "zerolinecolor": "rgb(36,36,36)"
          }
         }
        },
        "title": {
         "text": "Estimación propia vs CAMMESA"
        },
        "xaxis": {
         "dtick": 1,
         "range": [
          2007,
          2022
         ],
         "tickmode": "linear"
        },
        "yaxis": {
         "title": {
          "text": "CO2 resto combustibles, en M ton co2"
         }
        }
       }
      }
     },
     "metadata": {},
     "output_type": "display_data"
    }
   ],
   "source": [
    "import plotly.graph_objects as go\n",
    "\n",
    "variables = [\"ep_total\", \"e_emisiones totales\"]\n",
    "\n",
    "fig = go.Figure()\n",
    "\n",
    "# Estimacion propia vs estimacion CAMMESA\n",
    "\n",
    "fig.add_trace(go.Scatter(x=df_completo['year'], y=df_completo['ep_total'], mode='lines', name=\"Estimacion propia \",\n",
    "                             line=dict(dash='dash')))\n",
    "fig.add_trace(go.Scatter(x=df_completo['year'], y=df_completo['e_emisiones totales'], mode='lines', name=\"CAMMESA\",\n",
    "                             line=dict(dash='solid')))\n",
    "\n",
    "fig.update_layout(template=\"simple_white\",\n",
    "                  xaxis=dict(\n",
    "                      range=[2007, 2022],\n",
    "                      tickmode='linear',\n",
    "                      dtick=1\n",
    "                  ),\n",
    "                  yaxis=dict(\n",
    "                      title=\"CO2 resto combustibles, en M ton co2\"\n",
    "                  ),\n",
    "                  title=\"Estimación propia vs CAMMESA\",\n",
    "                  legend=dict(\n",
    "                      x=1.1,\n",
    "                      y=1,\n",
    "                      traceorder=\"normal\",\n",
    "                      font=dict(\n",
    "                          family=\"sans-serif\",\n",
    "                          size=12,\n",
    "                          color=\"black\"\n",
    "                      ),\n",
    "                      bgcolor=\"LightSteelBlue\",\n",
    "                      bordercolor=\"Black\",\n",
    "                      borderwidth=1,\n",
    "                      orientation=\"v\"\n",
    "                  )\n",
    ")\n",
    "\n",
    "fig.show()\n"
   ]
  },
  {
   "cell_type": "code",
   "execution_count": 151,
   "id": "b0dd84dc",
   "metadata": {},
   "outputs": [],
   "source": [
    "def backward_elimination(data, target,significance_level = 0.05):\n",
    "    features = data.columns.tolist()\n",
    "    while(len(features)>0):\n",
    "        features_with_constant = sm.add_constant(data[features])\n",
    "        p_values = sm.OLS(target, features_with_constant).fit().pvalues[1:]\n",
    "        max_p_value = p_values.max()\n",
    "        if(max_p_value >= significance_level):\n",
    "            excluded_feature = p_values.idxmax()\n",
    "            features.remove(excluded_feature)\n",
    "        else:\n",
    "            break \n",
    "    return features"
   ]
  },
  {
   "cell_type": "code",
   "execution_count": 152,
   "id": "3d1a43cd",
   "metadata": {},
   "outputs": [],
   "source": [
    "def forward_selection(data, target, significance_level=0.01):\n",
    "    initial_features = data.columns.tolist()\n",
    "    best_features = []\n",
    "    while (len(initial_features)>0):\n",
    "        remaining_features = list(set(initial_features)-set(best_features))\n",
    "        new_pval = pd.Series(index=remaining_features)\n",
    "        for new_column in remaining_features:\n",
    "            model = sm.OLS(target, sm.add_constant(data[best_features+[new_column]])).fit()\n",
    "            new_pval[new_column] = model.pvalues[new_column]\n",
    "        min_p_value = new_pval.min()\n",
    "        if(min_p_value<significance_level):\n",
    "            best_features.append(new_pval.idxmin())\n",
    "        else:\n",
    "            break\n",
    "    return best_features"
   ]
  },
  {
   "cell_type": "code",
   "execution_count": 153,
   "id": "d5c1f3ed",
   "metadata": {},
   "outputs": [],
   "source": [
    "def stepwise_selection(data, target,SL_in=0.05,SL_out = 0.05):\n",
    "    initial_features = data.columns.tolist()\n",
    "    best_features = []\n",
    "    while (len(initial_features)>0):\n",
    "        remaining_features = list(set(initial_features)-set(best_features))\n",
    "        new_pval = pd.Series(index=remaining_features)\n",
    "        for new_column in remaining_features:\n",
    "            model = sm.OLS(target, sm.add_constant(data[best_features+[new_column]])).fit()\n",
    "            new_pval[new_column] = model.pvalues[new_column]\n",
    "        min_p_value = new_pval.min()\n",
    "        if(min_p_value<SL_in):\n",
    "            best_features.append(new_pval.idxmin())\n",
    "            while(len(best_features)>0):\n",
    "                best_features_with_constant = sm.add_constant(data[best_features])\n",
    "                p_values = sm.OLS(target, best_features_with_constant).fit().pvalues[1:]\n",
    "                max_p_value = p_values.max()\n",
    "                if(max_p_value >= SL_out):\n",
    "                    excluded_feature = p_values.idxmax()\n",
    "                    best_features.remove(excluded_feature)\n",
    "                else:\n",
    "                    break \n",
    "        else:\n",
    "            break\n",
    "    return best_features"
   ]
  },
  {
   "attachments": {},
   "cell_type": "markdown",
   "id": "1aebea6f",
   "metadata": {},
   "source": [
    "*Estimaciones en base a datos mensuales*"
   ]
  },
  {
   "cell_type": "code",
   "execution_count": 154,
   "id": "11d45b96",
   "metadata": {},
   "outputs": [],
   "source": [
    "df_c_mensual=pd.read_excel(r\"C:\\Users\\Bruno\\Desktop\\Curso Data Science\\Dataframes\\Combustibles Mensual.xlsx\", sheet_name=\"combustible\")\n",
    "df_c_mensual.columns = df_c_mensual.columns.str.lower()\n",
    "df_c_mensual['fecha'] = pd.to_datetime(df_c_mensual['fecha'], format='%Y-%m-%d')\n",
    "\n",
    "f_emision = {\n",
    "    \"c_gas natural\": 1.94819592,\n",
    "    \"c_fuel oil\": 3.17228090666667,\n",
    "    \"c_gas oil\": 2.69717055226667,\n",
    "    \"c_carbón mineral\": 2.33525776\n",
    "}\n",
    "\n",
    "for key in f_emision:\n",
    "    df_c_mensual[\"ep_\" + key] = (df_c_mensual[key] * f_emision[key])/1000000\n",
    "    \n",
    "df_c_mensual[\"ep_total\"] = df_c_mensual.filter(like=\"ep_\").sum(axis=1)\n",
    "df_c_mensual\n",
    "\n",
    "df_c_mensual = df_c_mensual.set_index('fecha')\n"
   ]
  },
  {
   "cell_type": "code",
   "execution_count": 155,
   "id": "ffe84e25",
   "metadata": {},
   "outputs": [
    {
     "data": {
      "text/html": [
       "<div>\n",
       "<style scoped>\n",
       "    .dataframe tbody tr th:only-of-type {\n",
       "        vertical-align: middle;\n",
       "    }\n",
       "\n",
       "    .dataframe tbody tr th {\n",
       "        vertical-align: top;\n",
       "    }\n",
       "\n",
       "    .dataframe thead th {\n",
       "        text-align: right;\n",
       "    }\n",
       "</style>\n",
       "<table border=\"1\" class=\"dataframe\">\n",
       "  <thead>\n",
       "    <tr style=\"text-align: right;\">\n",
       "      <th></th>\n",
       "      <th>c_gas natural</th>\n",
       "      <th>c_fuel oil</th>\n",
       "      <th>c_gas oil</th>\n",
       "      <th>c_carbón mineral</th>\n",
       "      <th>demanda_energia</th>\n",
       "      <th>emae_original</th>\n",
       "      <th>ep_c_gas natural</th>\n",
       "      <th>ep_c_fuel oil</th>\n",
       "      <th>ep_c_gas oil</th>\n",
       "      <th>ep_c_carbón mineral</th>\n",
       "      <th>ep_total</th>\n",
       "    </tr>\n",
       "    <tr>\n",
       "      <th>fecha</th>\n",
       "      <th></th>\n",
       "      <th></th>\n",
       "      <th></th>\n",
       "      <th></th>\n",
       "      <th></th>\n",
       "      <th></th>\n",
       "      <th></th>\n",
       "      <th></th>\n",
       "      <th></th>\n",
       "      <th></th>\n",
       "      <th></th>\n",
       "    </tr>\n",
       "  </thead>\n",
       "  <tbody>\n",
       "    <tr>\n",
       "      <th>2012-01-01</th>\n",
       "      <td>1669966.220</td>\n",
       "      <td>103341.310</td>\n",
       "      <td>53428.150</td>\n",
       "      <td>88921.590</td>\n",
       "      <td>1.080470e+07</td>\n",
       "      <td>136.194081</td>\n",
       "      <td>3.253421</td>\n",
       "      <td>0.327828</td>\n",
       "      <td>0.144105</td>\n",
       "      <td>0.207655</td>\n",
       "      <td>3.933009</td>\n",
       "    </tr>\n",
       "    <tr>\n",
       "      <th>2012-02-01</th>\n",
       "      <td>1502623.010</td>\n",
       "      <td>112458.810</td>\n",
       "      <td>41108.440</td>\n",
       "      <td>91929.310</td>\n",
       "      <td>1.008555e+07</td>\n",
       "      <td>132.360526</td>\n",
       "      <td>2.927404</td>\n",
       "      <td>0.356751</td>\n",
       "      <td>0.110876</td>\n",
       "      <td>0.214679</td>\n",
       "      <td>3.609710</td>\n",
       "    </tr>\n",
       "    <tr>\n",
       "      <th>2012-03-01</th>\n",
       "      <td>1388988.550</td>\n",
       "      <td>157109.350</td>\n",
       "      <td>27420.500</td>\n",
       "      <td>81034.640</td>\n",
       "      <td>1.017537e+07</td>\n",
       "      <td>147.441016</td>\n",
       "      <td>2.706022</td>\n",
       "      <td>0.498395</td>\n",
       "      <td>0.073958</td>\n",
       "      <td>0.189237</td>\n",
       "      <td>3.467611</td>\n",
       "    </tr>\n",
       "    <tr>\n",
       "      <th>2012-04-01</th>\n",
       "      <td>1089539.690</td>\n",
       "      <td>263417.220</td>\n",
       "      <td>67014.600</td>\n",
       "      <td>85257.990</td>\n",
       "      <td>8.969068e+06</td>\n",
       "      <td>145.520278</td>\n",
       "      <td>2.122637</td>\n",
       "      <td>0.835633</td>\n",
       "      <td>0.180750</td>\n",
       "      <td>0.199099</td>\n",
       "      <td>3.338119</td>\n",
       "    </tr>\n",
       "    <tr>\n",
       "      <th>2012-05-01</th>\n",
       "      <td>1045611.960</td>\n",
       "      <td>370726.880</td>\n",
       "      <td>165222.190</td>\n",
       "      <td>100049.320</td>\n",
       "      <td>9.597272e+06</td>\n",
       "      <td>157.404184</td>\n",
       "      <td>2.037057</td>\n",
       "      <td>1.176050</td>\n",
       "      <td>0.445632</td>\n",
       "      <td>0.233641</td>\n",
       "      <td>3.892380</td>\n",
       "    </tr>\n",
       "    <tr>\n",
       "      <th>...</th>\n",
       "      <td>...</td>\n",
       "      <td>...</td>\n",
       "      <td>...</td>\n",
       "      <td>...</td>\n",
       "      <td>...</td>\n",
       "      <td>...</td>\n",
       "      <td>...</td>\n",
       "      <td>...</td>\n",
       "      <td>...</td>\n",
       "      <td>...</td>\n",
       "      <td>...</td>\n",
       "    </tr>\n",
       "    <tr>\n",
       "      <th>2022-11-01</th>\n",
       "      <td>1208395.918</td>\n",
       "      <td>161597.045</td>\n",
       "      <td>31691.546</td>\n",
       "      <td>27759.659</td>\n",
       "      <td>1.132231e+07</td>\n",
       "      <td>149.045735</td>\n",
       "      <td>2.354192</td>\n",
       "      <td>0.512631</td>\n",
       "      <td>0.085478</td>\n",
       "      <td>0.064826</td>\n",
       "      <td>3.017127</td>\n",
       "    </tr>\n",
       "    <tr>\n",
       "      <th>2022-12-01</th>\n",
       "      <td>1501499.167</td>\n",
       "      <td>198055.469</td>\n",
       "      <td>74467.523</td>\n",
       "      <td>80791.901</td>\n",
       "      <td>1.302579e+07</td>\n",
       "      <td>144.532854</td>\n",
       "      <td>2.925215</td>\n",
       "      <td>0.628288</td>\n",
       "      <td>0.200852</td>\n",
       "      <td>0.188670</td>\n",
       "      <td>3.943024</td>\n",
       "    </tr>\n",
       "    <tr>\n",
       "      <th>2023-01-01</th>\n",
       "      <td>1565679.915</td>\n",
       "      <td>223400.997</td>\n",
       "      <td>126196.088</td>\n",
       "      <td>95219.107</td>\n",
       "      <td>1.359143e+07</td>\n",
       "      <td>140.354529</td>\n",
       "      <td>3.050251</td>\n",
       "      <td>0.708691</td>\n",
       "      <td>0.340372</td>\n",
       "      <td>0.222361</td>\n",
       "      <td>4.321675</td>\n",
       "    </tr>\n",
       "    <tr>\n",
       "      <th>2023-02-01</th>\n",
       "      <td>1293624.438</td>\n",
       "      <td>180028.361</td>\n",
       "      <td>82094.521</td>\n",
       "      <td>61266.043</td>\n",
       "      <td>1.190470e+07</td>\n",
       "      <td>137.842463</td>\n",
       "      <td>2.520234</td>\n",
       "      <td>0.571101</td>\n",
       "      <td>0.221423</td>\n",
       "      <td>0.143072</td>\n",
       "      <td>3.455829</td>\n",
       "    </tr>\n",
       "    <tr>\n",
       "      <th>2023-03-01</th>\n",
       "      <td>1373847.562</td>\n",
       "      <td>296196.168</td>\n",
       "      <td>102777.556</td>\n",
       "      <td>101762.171</td>\n",
       "      <td>1.399370e+07</td>\n",
       "      <td>155.872487</td>\n",
       "      <td>2.676524</td>\n",
       "      <td>0.939617</td>\n",
       "      <td>0.277209</td>\n",
       "      <td>0.237641</td>\n",
       "      <td>4.130991</td>\n",
       "    </tr>\n",
       "  </tbody>\n",
       "</table>\n",
       "<p>135 rows × 11 columns</p>\n",
       "</div>"
      ],
      "text/plain": [
       "            c_gas natural  c_fuel oil   c_gas oil  c_carbón mineral   \n",
       "fecha                                                                 \n",
       "2012-01-01    1669966.220  103341.310   53428.150         88921.590  \\\n",
       "2012-02-01    1502623.010  112458.810   41108.440         91929.310   \n",
       "2012-03-01    1388988.550  157109.350   27420.500         81034.640   \n",
       "2012-04-01    1089539.690  263417.220   67014.600         85257.990   \n",
       "2012-05-01    1045611.960  370726.880  165222.190        100049.320   \n",
       "...                   ...         ...         ...               ...   \n",
       "2022-11-01    1208395.918  161597.045   31691.546         27759.659   \n",
       "2022-12-01    1501499.167  198055.469   74467.523         80791.901   \n",
       "2023-01-01    1565679.915  223400.997  126196.088         95219.107   \n",
       "2023-02-01    1293624.438  180028.361   82094.521         61266.043   \n",
       "2023-03-01    1373847.562  296196.168  102777.556        101762.171   \n",
       "\n",
       "            demanda_energia  emae_original  ep_c_gas natural  ep_c_fuel oil   \n",
       "fecha                                                                         \n",
       "2012-01-01     1.080470e+07     136.194081          3.253421       0.327828  \\\n",
       "2012-02-01     1.008555e+07     132.360526          2.927404       0.356751   \n",
       "2012-03-01     1.017537e+07     147.441016          2.706022       0.498395   \n",
       "2012-04-01     8.969068e+06     145.520278          2.122637       0.835633   \n",
       "2012-05-01     9.597272e+06     157.404184          2.037057       1.176050   \n",
       "...                     ...            ...               ...            ...   \n",
       "2022-11-01     1.132231e+07     149.045735          2.354192       0.512631   \n",
       "2022-12-01     1.302579e+07     144.532854          2.925215       0.628288   \n",
       "2023-01-01     1.359143e+07     140.354529          3.050251       0.708691   \n",
       "2023-02-01     1.190470e+07     137.842463          2.520234       0.571101   \n",
       "2023-03-01     1.399370e+07     155.872487          2.676524       0.939617   \n",
       "\n",
       "            ep_c_gas oil  ep_c_carbón mineral  ep_total  \n",
       "fecha                                                    \n",
       "2012-01-01      0.144105             0.207655  3.933009  \n",
       "2012-02-01      0.110876             0.214679  3.609710  \n",
       "2012-03-01      0.073958             0.189237  3.467611  \n",
       "2012-04-01      0.180750             0.199099  3.338119  \n",
       "2012-05-01      0.445632             0.233641  3.892380  \n",
       "...                  ...                  ...       ...  \n",
       "2022-11-01      0.085478             0.064826  3.017127  \n",
       "2022-12-01      0.200852             0.188670  3.943024  \n",
       "2023-01-01      0.340372             0.222361  4.321675  \n",
       "2023-02-01      0.221423             0.143072  3.455829  \n",
       "2023-03-01      0.277209             0.237641  4.130991  \n",
       "\n",
       "[135 rows x 11 columns]"
      ]
     },
     "execution_count": 155,
     "metadata": {},
     "output_type": "execute_result"
    }
   ],
   "source": [
    "df_c_mensual"
   ]
  },
  {
   "cell_type": "code",
   "execution_count": 156,
   "id": "e13c3a44",
   "metadata": {},
   "outputs": [],
   "source": [
    "xticks = pd.date_range(start=df_c_mensual.index.min(), end=df_c_mensual.index.max(),\n",
    "                      freq='M')"
   ]
  },
  {
   "cell_type": "code",
   "execution_count": 157,
   "id": "e2c8af99",
   "metadata": {},
   "outputs": [],
   "source": [
    "n_train = 99\n",
    "\n",
    "# function to evaluate and plot a regressor on a given feature set\n",
    "def eval_on_features(features, target, regressor):\n",
    "    # Dividir entre train y test\n",
    "    X_train, X_test = features[:n_train], features[n_train:]\n",
    "    # Dividimos el valor a predecir\n",
    "    y_train, y_test = target[:n_train], target[n_train:]\n",
    "    regressor.fit(X_train, y_train)\n",
    "    \n",
    "    if isinstance(regressor, LinearRegression):\n",
    "        # Si el modelo es LinearRegression, se puede acceder directamente a los coeficientes.\n",
    "        coeficiente = regressor.coef_\n",
    "        print('Coeficiente del regresor (LinearRegression):', coeficiente)\n",
    "    elif isinstance(regressor, RandomForestRegressor):\n",
    "        # Si el modelo es RandomForestRegressor, se pueden obtener las importancias de las características (variables).\n",
    "        importancias = regressor.feature_importances_\n",
    "        print('Importancias de las características (RandomForestRegressor):', importancias)\n",
    "    else:\n",
    "        print('El modelo no es ni LinearRegression ni RandomForestRegressor. No se pueden obtener los coeficientes ni las importancias de las características.')\n",
    "\n",
    "    print('Test-set R^2: {:.2f}'.format(regressor.score(X_test, y_test)))\n",
    "\n",
    "    y_pred = regressor.predict(X_test)\n",
    "    y_pred_train = regressor.predict(X_train)\n",
    "    plt.figure(figsize=(10,4))\n",
    "    \n",
    "    xticks_datetime = pd.to_datetime(xticks).to_period('M')\n",
    "\n",
    "    # Usa todas las fechas en xticks\n",
    "    plt.xticks(range(len(xticks_datetime)), xticks_datetime.strftime('%Y-%m'), rotation=90, ha='left')\n",
    "\n",
    "    # Ajusta el intervalo de visualización para mostrar solo cada cuarto valor de xticks\n",
    "    plt.locator_params(axis='x', nbins=round(len(xticks_datetime)/4))\n",
    "    plt.plot(range(n_train), y_train, 'b-', label='train')\n",
    "    plt.plot(range(n_train, len(y_test) + n_train),\n",
    "            y_test, 'r-', label='test')\n",
    "    plt.plot(range(n_train), y_pred_train, 'g--', label='prediction train')\n",
    "    \n",
    "    plt.plot(range(n_train, len(y_test) + n_train), y_pred, 'k--',\n",
    "            label='prediction test')\n",
    "    plt.legend(loc=(1.01, 0))\n",
    "    plt.xlabel('Date')\n",
    "    plt.ylabel('CO2 Emissions')\n"
   ]
  },
  {
   "cell_type": "code",
   "execution_count": 158,
   "id": "bfd36e1e",
   "metadata": {},
   "outputs": [],
   "source": [
    "# Extraer los valores que queremos predecir (numero de rentas)\n",
    "y = df_c_mensual.ep_total.values\n",
    "# Coviertir tiempo POSIX al dividir por 10**9\n",
    "X = df_c_mensual.emae_original.array.reshape(-1, 1)"
   ]
  },
  {
   "cell_type": "markdown",
   "id": "9c8b993f",
   "metadata": {},
   "source": [
    "*Con Ranom Forest*"
   ]
  },
  {
   "cell_type": "code",
   "execution_count": 159,
   "id": "e4b361ab",
   "metadata": {},
   "outputs": [
    {
     "name": "stdout",
     "output_type": "stream",
     "text": [
      "Importancias de las características (RandomForestRegressor): [1.]\n",
      "Test-set R^2: -0.37\n"
     ]
    },
    {
     "data": {
      "image/png": "[encoded data removed]",
      "text/plain": [
       "<Figure size 1000x400 with 1 Axes>"
      ]
     },
     "metadata": {},
     "output_type": "display_data"
    }
   ],
   "source": [
    "from sklearn.ensemble import RandomForestRegressor\n",
    "regressor = RandomForestRegressor(n_estimators=100, random_state=0)\n",
    "eval_on_features(X, y, regressor)"
   ]
  },
  {
   "cell_type": "markdown",
   "id": "f58678cb",
   "metadata": {},
   "source": [
    "Esto fue si solo usamos como regresor al EMAE, agregemos la demanda de energia y el mes del año en el que estamos, ya que los datos tienen cierta estacionalidad mensual"
   ]
  },
  {
   "cell_type": "code",
   "execution_count": 160,
   "id": "1dfa263d",
   "metadata": {},
   "outputs": [],
   "source": [
    "df_c_mensual.reset_index(inplace=True)\n",
    "df_c_mensual[\"mes\"] = df_c_mensual[\"fecha\"].dt.month\n",
    "df_c_mensual=df_c_mensual.set_index(\"fecha\")"
   ]
  },
  {
   "cell_type": "code",
   "execution_count": 161,
   "id": "f006e877",
   "metadata": {},
   "outputs": [],
   "source": [
    "X_emae_energia_mes = np.hstack([df_c_mensual.emae_original.values.reshape(-1,1),\n",
    "                                df_c_mensual.demanda_energia.values.reshape(-1,1),\n",
    "                                df_c_mensual.index.month.values.reshape(-1, 1)])"
   ]
  },
  {
   "cell_type": "code",
   "execution_count": 162,
   "id": "a7773ac7",
   "metadata": {},
   "outputs": [
    {
     "name": "stdout",
     "output_type": "stream",
     "text": [
      "Importancias de las características (RandomForestRegressor): [0.24564966 0.58137301 0.17297733]\n",
      "Test-set R^2: 0.32\n"
     ]
    },
    {
     "data": {
      "image/png": "[encoded data removed]",
      "text/plain": [
       "<Figure size 1000x400 with 1 Axes>"
      ]
     },
     "metadata": {},
     "output_type": "display_data"
    }
   ],
   "source": [
    "eval_on_features(X_emae_energia_mes, y, regressor)"
   ]
  },
  {
   "cell_type": "markdown",
   "id": "55e4e048",
   "metadata": {},
   "source": [
    "*Con linear regression*"
   ]
  },
  {
   "cell_type": "code",
   "execution_count": 163,
   "id": "904b45e2",
   "metadata": {},
   "outputs": [
    {
     "name": "stdout",
     "output_type": "stream",
     "text": [
      "Coeficiente del regresor (LinearRegression): [ 1.35917316e-02  3.85085005e-07 -3.76828064e-02]\n",
      "Test-set R^2: 0.37\n"
     ]
    },
    {
     "data": {
      "image/png": "[encoded data removed]",
      "text/plain": [
       "<Figure size 1000x400 with 1 Axes>"
      ]
     },
     "metadata": {},
     "output_type": "display_data"
    }
   ],
   "source": [
    "from sklearn.linear_model import LinearRegression\n",
    "eval_on_features(X_emae_energia_mes, y, LinearRegression())"
   ]
  }
 ],
 "metadata": {
  "celltoolbar": "Raw Cell Format",
  "kernelspec": {
   "display_name": "Python 3 (ipykernel)",
   "language": "python",
   "name": "python3"
  },
  "language_info": {
   "codemirror_mode": {
    "name": "ipython",
    "version": 3
   },
   "file_extension": ".py",
   "mimetype": "text/x-python",
   "name": "python",
   "nbconvert_exporter": "python",
   "pygments_lexer": "ipython3",
   "version": "3.10.10"
  }
 },
 "nbformat": 4,
 "nbformat_minor": 5
}
