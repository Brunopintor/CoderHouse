{
 "cells": [
  {
   "attachments": {},
   "cell_type": "markdown",
   "id": "6551e7fb",
   "metadata": {},
   "source": [
    "# Analisis de Emisiones de CO2 provenientes de la generacion de Electricidad en Argentina"
   ]
  },
  {
   "attachments": {},
   "cell_type": "markdown",
   "id": "35e48492",
   "metadata": {},
   "source": [
    "**Contexto empresarial.** Imaginemos que me desarrollo como analista en YPF, una empresa de energía que participa activamente en la generación de electricidad en Argentina. Me han asignado un proyecto en el que debo utilizar datos históricos de emisiones de dióxido de carbono (CO2) de Our World in Data y datos de generación de electricidad por tipo de combustible y por fuente de generación en Argentina a lo largo del tiempo. El objetivo del proyecto es proyectar las emisiones de CO2 provenientes de la generación de electricidad en Argentina para los próximos años.\n",
    "\n",
    "La empresa está interesada en conocer la evolución de las emisiones de dióxido de carbono en la generación de electricidad en el país, ya que esto le permitirá anticipar la demanda de energía y planificar su estrategia de producción para cumplir con las regulaciones ambientales y satisfacer la creciente demanda energética de los hogares y empresas en Argentina.\n",
    "\n",
    "**Problema comercial.** Como analista de datos, mi objetivo es utilizar las fuentes de datos disponibles para desarrollar modelos precisos que permitan proyectar las emisiones de CO2 de la generación de electricidad en Argentina para los próximos años. A partir de estos modelos, podré identificar las tendencias históricas y futuras de las emisiones de CO2, lo que permitirá a YPF planificar sus operaciones de generación de energía de manera más efectiva y sostenible.\n",
    "\n",
    "**Contexto analítico.** Tenemos estas tres fuentes de informacion:\n",
    "\n",
    "**1.** El archivo \"owid-co2-data\" contiene datos y metricas relacionados a emisiones de CO2 y de otros gases de efecto invernadero, energia, para todos los paises del mundo.\n",
    "\n",
    "**2.** El archivo \"Oferta Total Horaria.xlsx\" contiene el historial de oferta electrica pen argentina por fuente de generacion (renovables, nuclear, gas, petroleo o carbon).\n",
    "\n",
    "**3.** El archivo \"Combustibles Mensual.xlsx\" contiene el historial de los combustibles usados en cada momento del tiempo para la generacion de energia electrica."
   ]
  },
  {
   "cell_type": "code",
   "execution_count": 96,
   "id": "38a42cbb",
   "metadata": {},
   "outputs": [],
   "source": [
    "import pandas as pd \n",
    "import numpy as np\n",
    "import matplotlib as mpl\n",
    "import matplotlib.pyplot as plt\n",
    "import seaborn as sns\n",
    "import squarify\n",
    "import plotly\n",
    "import plotly.express as px\n",
    "import statsmodels\n",
    "import plotly.graph_objects as go"
   ]
  },
  {
   "attachments": {},
   "cell_type": "markdown",
   "id": "e2dd7336",
   "metadata": {},
   "source": [
    "**-----------------------------------------------------------------------------------------------------------------------**\n",
    "## Analisis exploratorio del dataset owid-co2-data: emisiones de CO2 en el mundo\n",
    "\n",
    "En este primer dataset detallan datos sobre emisiones de gases de efecto invernadero a nivel mundial. A partir de este dataset pude responder las siguientres preguntas:\n",
    "1. Que paises son los que mas contribuyeron en perspectiva historica al acumulado de emisiones de CO2 actual.\n",
    "2. Como se relaciona el nivel de emisiones con el Producto Bruto y con la Poblacion para este mix de paises\n",
    "3. Como se distribuyen las emisiones segun deciles de GDP? \n",
    "\n",
    "Luego me enfoco en Argentina y respondemos a las siguientes preguntas:\n",
    "1. Como evolucionaron las emisiones de Argentina hasta la actualidad?\n",
    "2. Como se componen estas emisiones segun el tipo de combustible o industria en cada momento del tiempo?\n",
    "3. Cual es el combustible que mas contribuyo a las emisiones de co2 acumuladas?"
   ]
  },
  {
   "cell_type": "code",
   "execution_count": 97,
   "id": "12319aad",
   "metadata": {},
   "outputs": [
    {
     "data": {
      "text/html": [
       "<div>\n",
       "<style scoped>\n",
       "    .dataframe tbody tr th:only-of-type {\n",
       "        vertical-align: middle;\n",
       "    }\n",
       "\n",
       "    .dataframe tbody tr th {\n",
       "        vertical-align: top;\n",
       "    }\n",
       "\n",
       "    .dataframe thead th {\n",
       "        text-align: right;\n",
       "    }\n",
       "</style>\n",
       "<table border=\"1\" class=\"dataframe\">\n",
       "  <thead>\n",
       "    <tr style=\"text-align: right;\">\n",
       "      <th></th>\n",
       "      <th>country</th>\n",
       "      <th>year</th>\n",
       "      <th>iso_code</th>\n",
       "      <th>population</th>\n",
       "      <th>gdp</th>\n",
       "      <th>cement_co2</th>\n",
       "      <th>cement_co2_per_capita</th>\n",
       "      <th>co2</th>\n",
       "      <th>co2_growth_abs</th>\n",
       "      <th>co2_growth_prct</th>\n",
       "      <th>...</th>\n",
       "      <th>share_global_cumulative_other_co2</th>\n",
       "      <th>share_global_flaring_co2</th>\n",
       "      <th>share_global_gas_co2</th>\n",
       "      <th>share_global_luc_co2</th>\n",
       "      <th>share_global_oil_co2</th>\n",
       "      <th>share_global_other_co2</th>\n",
       "      <th>total_ghg</th>\n",
       "      <th>total_ghg_excluding_lucf</th>\n",
       "      <th>trade_co2</th>\n",
       "      <th>trade_co2_share</th>\n",
       "    </tr>\n",
       "  </thead>\n",
       "  <tbody>\n",
       "    <tr>\n",
       "      <th>0</th>\n",
       "      <td>Afghanistan</td>\n",
       "      <td>1850</td>\n",
       "      <td>AFG</td>\n",
       "      <td>3752993.0</td>\n",
       "      <td>NaN</td>\n",
       "      <td>NaN</td>\n",
       "      <td>NaN</td>\n",
       "      <td>NaN</td>\n",
       "      <td>NaN</td>\n",
       "      <td>NaN</td>\n",
       "      <td>...</td>\n",
       "      <td>NaN</td>\n",
       "      <td>NaN</td>\n",
       "      <td>NaN</td>\n",
       "      <td>0.121</td>\n",
       "      <td>NaN</td>\n",
       "      <td>NaN</td>\n",
       "      <td>NaN</td>\n",
       "      <td>NaN</td>\n",
       "      <td>NaN</td>\n",
       "      <td>NaN</td>\n",
       "    </tr>\n",
       "    <tr>\n",
       "      <th>1</th>\n",
       "      <td>Afghanistan</td>\n",
       "      <td>1851</td>\n",
       "      <td>AFG</td>\n",
       "      <td>3769828.0</td>\n",
       "      <td>NaN</td>\n",
       "      <td>NaN</td>\n",
       "      <td>NaN</td>\n",
       "      <td>NaN</td>\n",
       "      <td>NaN</td>\n",
       "      <td>NaN</td>\n",
       "      <td>...</td>\n",
       "      <td>NaN</td>\n",
       "      <td>NaN</td>\n",
       "      <td>NaN</td>\n",
       "      <td>0.118</td>\n",
       "      <td>NaN</td>\n",
       "      <td>NaN</td>\n",
       "      <td>NaN</td>\n",
       "      <td>NaN</td>\n",
       "      <td>NaN</td>\n",
       "      <td>NaN</td>\n",
       "    </tr>\n",
       "    <tr>\n",
       "      <th>2</th>\n",
       "      <td>Afghanistan</td>\n",
       "      <td>1852</td>\n",
       "      <td>AFG</td>\n",
       "      <td>3787706.0</td>\n",
       "      <td>NaN</td>\n",
       "      <td>NaN</td>\n",
       "      <td>NaN</td>\n",
       "      <td>NaN</td>\n",
       "      <td>NaN</td>\n",
       "      <td>NaN</td>\n",
       "      <td>...</td>\n",
       "      <td>NaN</td>\n",
       "      <td>NaN</td>\n",
       "      <td>NaN</td>\n",
       "      <td>0.116</td>\n",
       "      <td>NaN</td>\n",
       "      <td>NaN</td>\n",
       "      <td>NaN</td>\n",
       "      <td>NaN</td>\n",
       "      <td>NaN</td>\n",
       "      <td>NaN</td>\n",
       "    </tr>\n",
       "    <tr>\n",
       "      <th>3</th>\n",
       "      <td>Afghanistan</td>\n",
       "      <td>1853</td>\n",
       "      <td>AFG</td>\n",
       "      <td>3806634.0</td>\n",
       "      <td>NaN</td>\n",
       "      <td>NaN</td>\n",
       "      <td>NaN</td>\n",
       "      <td>NaN</td>\n",
       "      <td>NaN</td>\n",
       "      <td>NaN</td>\n",
       "      <td>...</td>\n",
       "      <td>NaN</td>\n",
       "      <td>NaN</td>\n",
       "      <td>NaN</td>\n",
       "      <td>0.115</td>\n",
       "      <td>NaN</td>\n",
       "      <td>NaN</td>\n",
       "      <td>NaN</td>\n",
       "      <td>NaN</td>\n",
       "      <td>NaN</td>\n",
       "      <td>NaN</td>\n",
       "    </tr>\n",
       "    <tr>\n",
       "      <th>4</th>\n",
       "      <td>Afghanistan</td>\n",
       "      <td>1854</td>\n",
       "      <td>AFG</td>\n",
       "      <td>3825655.0</td>\n",
       "      <td>NaN</td>\n",
       "      <td>NaN</td>\n",
       "      <td>NaN</td>\n",
       "      <td>NaN</td>\n",
       "      <td>NaN</td>\n",
       "      <td>NaN</td>\n",
       "      <td>...</td>\n",
       "      <td>NaN</td>\n",
       "      <td>NaN</td>\n",
       "      <td>NaN</td>\n",
       "      <td>0.114</td>\n",
       "      <td>NaN</td>\n",
       "      <td>NaN</td>\n",
       "      <td>NaN</td>\n",
       "      <td>NaN</td>\n",
       "      <td>NaN</td>\n",
       "      <td>NaN</td>\n",
       "    </tr>\n",
       "    <tr>\n",
       "      <th>...</th>\n",
       "      <td>...</td>\n",
       "      <td>...</td>\n",
       "      <td>...</td>\n",
       "      <td>...</td>\n",
       "      <td>...</td>\n",
       "      <td>...</td>\n",
       "      <td>...</td>\n",
       "      <td>...</td>\n",
       "      <td>...</td>\n",
       "      <td>...</td>\n",
       "      <td>...</td>\n",
       "      <td>...</td>\n",
       "      <td>...</td>\n",
       "      <td>...</td>\n",
       "      <td>...</td>\n",
       "      <td>...</td>\n",
       "      <td>...</td>\n",
       "      <td>...</td>\n",
       "      <td>...</td>\n",
       "      <td>...</td>\n",
       "      <td>...</td>\n",
       "    </tr>\n",
       "    <tr>\n",
       "      <th>46518</th>\n",
       "      <td>Zimbabwe</td>\n",
       "      <td>2017</td>\n",
       "      <td>ZWE</td>\n",
       "      <td>14751101.0</td>\n",
       "      <td>2.194784e+10</td>\n",
       "      <td>0.469</td>\n",
       "      <td>0.032</td>\n",
       "      <td>9.596</td>\n",
       "      <td>-0.937</td>\n",
       "      <td>-8.899</td>\n",
       "      <td>...</td>\n",
       "      <td>NaN</td>\n",
       "      <td>0.0</td>\n",
       "      <td>0.0</td>\n",
       "      <td>0.219</td>\n",
       "      <td>0.026</td>\n",
       "      <td>NaN</td>\n",
       "      <td>115.59</td>\n",
       "      <td>28.30</td>\n",
       "      <td>0.910</td>\n",
       "      <td>9.486</td>\n",
       "    </tr>\n",
       "    <tr>\n",
       "      <th>46519</th>\n",
       "      <td>Zimbabwe</td>\n",
       "      <td>2018</td>\n",
       "      <td>ZWE</td>\n",
       "      <td>15052191.0</td>\n",
       "      <td>2.271535e+10</td>\n",
       "      <td>0.558</td>\n",
       "      <td>0.037</td>\n",
       "      <td>11.795</td>\n",
       "      <td>2.199</td>\n",
       "      <td>22.920</td>\n",
       "      <td>...</td>\n",
       "      <td>NaN</td>\n",
       "      <td>0.0</td>\n",
       "      <td>0.0</td>\n",
       "      <td>0.211</td>\n",
       "      <td>0.033</td>\n",
       "      <td>NaN</td>\n",
       "      <td>118.22</td>\n",
       "      <td>30.83</td>\n",
       "      <td>0.771</td>\n",
       "      <td>6.537</td>\n",
       "    </tr>\n",
       "    <tr>\n",
       "      <th>46520</th>\n",
       "      <td>Zimbabwe</td>\n",
       "      <td>2019</td>\n",
       "      <td>ZWE</td>\n",
       "      <td>15354606.0</td>\n",
       "      <td>NaN</td>\n",
       "      <td>0.570</td>\n",
       "      <td>0.037</td>\n",
       "      <td>11.115</td>\n",
       "      <td>-0.681</td>\n",
       "      <td>-5.772</td>\n",
       "      <td>...</td>\n",
       "      <td>NaN</td>\n",
       "      <td>0.0</td>\n",
       "      <td>0.0</td>\n",
       "      <td>0.183</td>\n",
       "      <td>0.030</td>\n",
       "      <td>NaN</td>\n",
       "      <td>117.96</td>\n",
       "      <td>30.53</td>\n",
       "      <td>0.978</td>\n",
       "      <td>8.795</td>\n",
       "    </tr>\n",
       "    <tr>\n",
       "      <th>46521</th>\n",
       "      <td>Zimbabwe</td>\n",
       "      <td>2020</td>\n",
       "      <td>ZWE</td>\n",
       "      <td>15669663.0</td>\n",
       "      <td>NaN</td>\n",
       "      <td>0.570</td>\n",
       "      <td>0.036</td>\n",
       "      <td>10.608</td>\n",
       "      <td>-0.507</td>\n",
       "      <td>-4.559</td>\n",
       "      <td>...</td>\n",
       "      <td>NaN</td>\n",
       "      <td>0.0</td>\n",
       "      <td>0.0</td>\n",
       "      <td>0.194</td>\n",
       "      <td>0.030</td>\n",
       "      <td>NaN</td>\n",
       "      <td>NaN</td>\n",
       "      <td>NaN</td>\n",
       "      <td>1.006</td>\n",
       "      <td>9.481</td>\n",
       "    </tr>\n",
       "    <tr>\n",
       "      <th>46522</th>\n",
       "      <td>Zimbabwe</td>\n",
       "      <td>2021</td>\n",
       "      <td>ZWE</td>\n",
       "      <td>15993525.0</td>\n",
       "      <td>NaN</td>\n",
       "      <td>0.570</td>\n",
       "      <td>0.036</td>\n",
       "      <td>11.296</td>\n",
       "      <td>0.688</td>\n",
       "      <td>6.488</td>\n",
       "      <td>...</td>\n",
       "      <td>NaN</td>\n",
       "      <td>0.0</td>\n",
       "      <td>0.0</td>\n",
       "      <td>0.190</td>\n",
       "      <td>0.030</td>\n",
       "      <td>NaN</td>\n",
       "      <td>NaN</td>\n",
       "      <td>NaN</td>\n",
       "      <td>NaN</td>\n",
       "      <td>NaN</td>\n",
       "    </tr>\n",
       "  </tbody>\n",
       "</table>\n",
       "<p>46523 rows × 74 columns</p>\n",
       "</div>"
      ],
      "text/plain": [
       "           country  year iso_code  population           gdp  cement_co2   \n",
       "0      Afghanistan  1850      AFG   3752993.0           NaN         NaN  \\\n",
       "1      Afghanistan  1851      AFG   3769828.0           NaN         NaN   \n",
       "2      Afghanistan  1852      AFG   3787706.0           NaN         NaN   \n",
       "3      Afghanistan  1853      AFG   3806634.0           NaN         NaN   \n",
       "4      Afghanistan  1854      AFG   3825655.0           NaN         NaN   \n",
       "...            ...   ...      ...         ...           ...         ...   \n",
       "46518     Zimbabwe  2017      ZWE  14751101.0  2.194784e+10       0.469   \n",
       "46519     Zimbabwe  2018      ZWE  15052191.0  2.271535e+10       0.558   \n",
       "46520     Zimbabwe  2019      ZWE  15354606.0           NaN       0.570   \n",
       "46521     Zimbabwe  2020      ZWE  15669663.0           NaN       0.570   \n",
       "46522     Zimbabwe  2021      ZWE  15993525.0           NaN       0.570   \n",
       "\n",
       "       cement_co2_per_capita     co2  co2_growth_abs  co2_growth_prct  ...   \n",
       "0                        NaN     NaN             NaN              NaN  ...  \\\n",
       "1                        NaN     NaN             NaN              NaN  ...   \n",
       "2                        NaN     NaN             NaN              NaN  ...   \n",
       "3                        NaN     NaN             NaN              NaN  ...   \n",
       "4                        NaN     NaN             NaN              NaN  ...   \n",
       "...                      ...     ...             ...              ...  ...   \n",
       "46518                  0.032   9.596          -0.937           -8.899  ...   \n",
       "46519                  0.037  11.795           2.199           22.920  ...   \n",
       "46520                  0.037  11.115          -0.681           -5.772  ...   \n",
       "46521                  0.036  10.608          -0.507           -4.559  ...   \n",
       "46522                  0.036  11.296           0.688            6.488  ...   \n",
       "\n",
       "       share_global_cumulative_other_co2  share_global_flaring_co2   \n",
       "0                                    NaN                       NaN  \\\n",
       "1                                    NaN                       NaN   \n",
       "2                                    NaN                       NaN   \n",
       "3                                    NaN                       NaN   \n",
       "4                                    NaN                       NaN   \n",
       "...                                  ...                       ...   \n",
       "46518                                NaN                       0.0   \n",
       "46519                                NaN                       0.0   \n",
       "46520                                NaN                       0.0   \n",
       "46521                                NaN                       0.0   \n",
       "46522                                NaN                       0.0   \n",
       "\n",
       "       share_global_gas_co2  share_global_luc_co2  share_global_oil_co2   \n",
       "0                       NaN                 0.121                   NaN  \\\n",
       "1                       NaN                 0.118                   NaN   \n",
       "2                       NaN                 0.116                   NaN   \n",
       "3                       NaN                 0.115                   NaN   \n",
       "4                       NaN                 0.114                   NaN   \n",
       "...                     ...                   ...                   ...   \n",
       "46518                   0.0                 0.219                 0.026   \n",
       "46519                   0.0                 0.211                 0.033   \n",
       "46520                   0.0                 0.183                 0.030   \n",
       "46521                   0.0                 0.194                 0.030   \n",
       "46522                   0.0                 0.190                 0.030   \n",
       "\n",
       "       share_global_other_co2  total_ghg  total_ghg_excluding_lucf  trade_co2   \n",
       "0                         NaN        NaN                       NaN        NaN  \\\n",
       "1                         NaN        NaN                       NaN        NaN   \n",
       "2                         NaN        NaN                       NaN        NaN   \n",
       "3                         NaN        NaN                       NaN        NaN   \n",
       "4                         NaN        NaN                       NaN        NaN   \n",
       "...                       ...        ...                       ...        ...   \n",
       "46518                     NaN     115.59                     28.30      0.910   \n",
       "46519                     NaN     118.22                     30.83      0.771   \n",
       "46520                     NaN     117.96                     30.53      0.978   \n",
       "46521                     NaN        NaN                       NaN      1.006   \n",
       "46522                     NaN        NaN                       NaN        NaN   \n",
       "\n",
       "       trade_co2_share  \n",
       "0                  NaN  \n",
       "1                  NaN  \n",
       "2                  NaN  \n",
       "3                  NaN  \n",
       "4                  NaN  \n",
       "...                ...  \n",
       "46518            9.486  \n",
       "46519            6.537  \n",
       "46520            8.795  \n",
       "46521            9.481  \n",
       "46522              NaN  \n",
       "\n",
       "[46523 rows x 74 columns]"
      ]
     },
     "execution_count": 97,
     "metadata": {},
     "output_type": "execute_result"
    }
   ],
   "source": [
    "#Cargo df sobre emisiones owid-co2-data\n",
    "raw=pd.read_excel(r\"C:\\Users\\Bruno\\Desktop\\Curso Data Science\\Dataframes\\owid-co2-data.xlsx\")\n",
    "raw"
   ]
  },
  {
   "attachments": {},
   "cell_type": "markdown",
   "id": "c8cfd6c1",
   "metadata": {},
   "source": [
    "Antes de comenzar el analisis vemos que variables me interesan y cuales de ellas tienen datos faltantes. Identifico que:\n",
    "- Hay 46523 filas\n",
    "- La variable con codigos ISO solo tiene 39862 datos no nulos, lo que se debe a la presencia de agrupamientos en la variable country que no tienen codigos ISO (Union Europea, etc)\n",
    "\n",
    "Y las variables de interes son: \n",
    "\n",
    "- **Country**: pais en el q se generan las emisiones\n",
    "- **GDP**: Producto Interno Bruto (PIB) medido en dólares internacionales (internacional-$) utilizando precios de 2011 para ajustar por los cambios de precios a lo largo del tiempo (inflación) y las diferencias de precios entre los países. Se calcula multiplicando el PIB per cápita por la población.\n",
    "- **cumulative_co2**: emisiones totales acumuladas de dióxido de carbono (CO₂) basadas en la producción, excluyendo el cambio de uso del suelo en millones de toneladas. No tienen en cuenta las emisiones incorporadas en bienes comerciados\n",
    "- **population**: poblacion.\n",
    "- **co2**: número anual total de emisiones basadas en la producción de dióxido de carbono (CO₂), excluyendo los cambios de uso del suelo, medidos en millones de toneladas.\n",
    "- **coal_co2**: emisiones acumuladas de co2 provenientes del carbon\n",
    "- **flaring_co2**: emisiones acumuladas de co2 provenientes de la quema\n",
    "- **gas_co2**: emisiones acumuladas de co2 provenientes del gas\n",
    "- **oil_co2**: emisiones acumuladas de co2 provenientes del petroleo\n",
    "- **other_industry_co2**: emisiones acumuladas de co2 provenientes de otra industria (Ourworldindata)\n",
    "- **cement_co2**: emisiones acumuladas de co2 provenientes del cemento"
   ]
  },
  {
   "cell_type": "code",
   "execution_count": 98,
   "id": "2ffc786e",
   "metadata": {},
   "outputs": [],
   "source": [
    "#raw.info()"
   ]
  },
  {
   "cell_type": "code",
   "execution_count": 99,
   "id": "f7294f1a",
   "metadata": {},
   "outputs": [
    {
     "data": {
      "text/html": [
       "<div>\n",
       "<style scoped>\n",
       "    .dataframe tbody tr th:only-of-type {\n",
       "        vertical-align: middle;\n",
       "    }\n",
       "\n",
       "    .dataframe tbody tr th {\n",
       "        vertical-align: top;\n",
       "    }\n",
       "\n",
       "    .dataframe thead th {\n",
       "        text-align: right;\n",
       "    }\n",
       "</style>\n",
       "<table border=\"1\" class=\"dataframe\">\n",
       "  <thead>\n",
       "    <tr style=\"text-align: right;\">\n",
       "      <th></th>\n",
       "      <th>country</th>\n",
       "      <th>iso_code</th>\n",
       "    </tr>\n",
       "  </thead>\n",
       "  <tbody>\n",
       "    <tr>\n",
       "      <th>count</th>\n",
       "      <td>46523</td>\n",
       "      <td>39862</td>\n",
       "    </tr>\n",
       "    <tr>\n",
       "      <th>unique</th>\n",
       "      <td>269</td>\n",
       "      <td>232</td>\n",
       "    </tr>\n",
       "    <tr>\n",
       "      <th>top</th>\n",
       "      <td>South America</td>\n",
       "      <td>REU</td>\n",
       "    </tr>\n",
       "    <tr>\n",
       "      <th>freq</th>\n",
       "      <td>272</td>\n",
       "      <td>272</td>\n",
       "    </tr>\n",
       "  </tbody>\n",
       "</table>\n",
       "</div>"
      ],
      "text/plain": [
       "              country iso_code\n",
       "count           46523    39862\n",
       "unique            269      232\n",
       "top     South America      REU\n",
       "freq              272      272"
      ]
     },
     "execution_count": 99,
     "metadata": {},
     "output_type": "execute_result"
    }
   ],
   "source": [
    "raw.describe()\n",
    "raw.describe(include=\"object\")"
   ]
  },
  {
   "attachments": {},
   "cell_type": "markdown",
   "id": "af61001e",
   "metadata": {},
   "source": [
    "En base a esto, dado que tenemos un panel de datos, la correccion por datos nulos debe tener en cuenta el pais (**country**) y el año (**year**). Antes de eso me quedo solo con las variables que me interesan para el analisis."
   ]
  },
  {
   "cell_type": "code",
   "execution_count": 100,
   "id": "de4a1675",
   "metadata": {},
   "outputs": [],
   "source": [
    "#me quedo con las var mas relevantes\n",
    "raw = raw[['country','iso_code','gdp','year','cumulative_coal_co2','cumulative_flaring_co2','cumulative_gas_co2',\n",
    "           'cumulative_luc_co2','cumulative_oil_co2','cumulative_other_co2','cumulative_cement_co2','cumulative_co2', \n",
    "           'population', 'co2', 'coal_co2','flaring_co2', 'gas_co2', 'oil_co2','other_industry_co2', 'cement_co2']]\n",
    "\n",
    "df_procesado = raw.copy()\n",
    "\n",
    "df_procesado = df_procesado.dropna(subset=['iso_code'])\n",
    "df_procesado = df_procesado.rename(columns={\"iso_code\": \"country_1\"})\n",
    "df_procesado = df_procesado.dropna(subset=['country_1'], axis=0, inplace=False)\n",
    "\n",
    "# ordeno los datos por país y año\n",
    "df_procesado = df_procesado.sort_values(['country', 'year'])"
   ]
  },
  {
   "cell_type": "code",
   "execution_count": 101,
   "id": "d666f592",
   "metadata": {},
   "outputs": [],
   "source": [
    "# interpolo los valores faltantes de las variables seleccionadas\n",
    "vars_to_interpolate = ['cumulative_coal_co2', 'cumulative_flaring_co2', 'cumulative_gas_co2', 'cumulative_luc_co2', \n",
    "                       'cumulative_oil_co2', 'cumulative_other_co2', 'cumulative_co2', 'population', 'co2', 'coal_co2',\n",
    "                       'flaring_co2', 'gas_co2', 'oil_co2', 'other_industry_co2', 'cement_co2', 'gdp']\n",
    "\"\"\"\n",
    "group_cols = ['country', 'year']\n",
    "df_procesado[vars_to_interpolate] = df_procesado.groupby(group_cols)[vars_to_interpolate].apply(lambda group: group.interpolate(method='nearest'))\n",
    "\"\"\"\n",
    "\n",
    "# Ahora relleno los valores faltantes con el último valor válido para cada país a partir de 2018\n",
    "df_procesado.loc[df_procesado['year'] >= 2018, vars_to_interpolate] = df_procesado.loc[df_procesado['year'] >= 2018].groupby('country')[vars_to_interpolate].fillna(method='ffill')\n",
    "\n",
    "df_procesado = df_procesado.sort_values(['year', 'country'])"
   ]
  },
  {
   "attachments": {},
   "cell_type": "markdown",
   "id": "314276ff",
   "metadata": {},
   "source": [
    "Voy a simplificar la base, quedarme solo con los paises que mas representen en el total acumulado de emisiones + Argentina, de esta manera, voy a poder simplificar el df sin perder informacion relevante.\n",
    "\n",
    "Segun Our Wolrd in Data los principales emisores son:\n",
    "1. China\n",
    "2. Estados Unidos\n",
    "3. Paises de la Union Europea (en conjunto)\n",
    "4. India\n",
    "5. Canada\n",
    "6. Brasil\n",
    "7. Paises del sur de Africa (en conjunto)\n",
    "8. Reino Unido\n",
    "\n",
    "A esto voy a agregar Argentina y al resto de paises los agrupo en \"Resto\"."
   ]
  },
  {
   "cell_type": "code",
   "execution_count": 102,
   "id": "6278e764",
   "metadata": {},
   "outputs": [],
   "source": [
    "import pycountry\n",
    "\n",
    "# Códigos ISO de los países de la UE y del sur de Africa\n",
    "eu_countries = ['AT', 'BE', 'BG', 'HR', 'CY', 'CZ', 'DK', 'EE', 'FI', 'FR', 'DE', 'GR', 'HU', 'IE', 'IT', 'LV', 'LT', 'LU', 'MT', 'NL', 'PL', 'PT', 'RO', 'SK', 'SI', 'ES', 'SE']\n",
    "eu_country_codes = [pycountry.countries.get(alpha_2=i).alpha_3 for i in eu_countries]\n",
    "sa_countries = ['ZAF', 'BWA', 'LSO', 'NAM', 'SWZ']\n",
    "resttop_countries = {'CHN', 'USA', 'IND', 'CAN', 'BRA', 'ZAF', 'GBR', 'ARG'}\n",
    "\n",
    "# Diccionario que asocie cada país con su grupo\n",
    "country_groups = {}\n",
    "for country in pycountry.countries:\n",
    "    if country.alpha_2 in eu_countries:\n",
    "        country_groups[country.name] = 'EU'\n",
    "    elif country.alpha_3 in sa_countries:\n",
    "        country_groups[country.name] = 'SA'\n",
    "    elif country.alpha_3 in resttop_countries:\n",
    "        country_groups[country.name] = country.alpha_3\n",
    "    else: \n",
    "        country_groups[country.name] = 'Resto'\n",
    "\n",
    "# Columna con el grupo de cada país\n",
    "df_procesado['country_2'] = df_procesado['country'].map(country_groups)\n",
    "\n",
    "# Dataframe editable, seteo el indice temporal\n",
    "graficos_df=df_procesado.copy()\n",
    "graficos_df['year'] = pd.to_datetime(graficos_df['year'], format='%Y')\n",
    "graficos_df.set_index('year', inplace=True)\n",
    "\n",
    "my_colors = my_colors = px.colors.sequential.Turbo"
   ]
  },
  {
   "attachments": {},
   "cell_type": "markdown",
   "id": "b16b8de6",
   "metadata": {},
   "source": [
    "La variable de mayor interes o \"target\" en este caso es la variable CO2, que tiene las emisiones de CO2 año a año por pais. Si seleccionamos un año, por ejemplo 2021 (ya que tenemos datos de panel) vemos que los datos tienen alta dispersion (histograma) por lo que podemos agrupar por los primeros 10 emisores. Si consideramos outliers la distribucion de co2 se encuentra entre 0 y +10.000 M toneladas, al quitarlos el maximo y minimo del target esta entre 0 y 140 M toneladas.\n",
    "\n",
    "La media de se encunetra en torno a las 20 Millones de toneladas anuales."
   ]
  },
  {
   "cell_type": "code",
   "execution_count": 103,
   "id": "febca70e",
   "metadata": {},
   "outputs": [
    {
     "data": {
      "image/png": "[encoded data removed]",
      "text/plain": [
       "<Figure size 1800x600 with 3 Axes>"
      ]
     },
     "metadata": {},
     "output_type": "display_data"
    }
   ],
   "source": [
    "subset2021 = df_procesado[df_procesado['year'] == 2021].dropna(subset=['co2'])[['co2']]\n",
    "\n",
    "fig, (ax1, ax2, ax3) = plt.subplots(ncols=3, figsize=(18, 6))\n",
    "\n",
    "sns.histplot(data=subset2021, ax=ax1, bins=20)\n",
    "ax1.set_title('Distribución de CO2 en 2021')\n",
    "ax1.set_xlabel('co2')\n",
    "ax1.set_ylabel('Frecuencia')\n",
    "\n",
    "#con outliers\n",
    "sns.boxplot(data=subset2021, ax=ax2, color='lightblue')\n",
    "ax2.set_title('CO2 en 2021 con outliers')\n",
    "ax2.set_ylabel('co2')\n",
    "\n",
    "#sin outliers\n",
    "sns.boxplot(data=subset2021, ax=ax3, color='lightblue', showfliers=False)\n",
    "ax3.set_title('CO2 en 2021 sin outliers')\n",
    "ax3.set_ylabel('co2')\n",
    "\n",
    "plt.tight_layout()\n",
    "plt.show()"
   ]
  },
  {
   "attachments": {},
   "cell_type": "markdown",
   "id": "bc6f85c6",
   "metadata": {},
   "source": [
    "Ahora podemos ver las emisiones de CO2 por pais, por simplicidad solo se muestran los 5 mayores y menores emisores. El mayor emisor es Estados Unidos, y las menores emisiones se encunetran en la Antartida."
   ]
  },
  {
   "cell_type": "code",
   "execution_count": 104,
   "id": "91327a35",
   "metadata": {},
   "outputs": [
    {
     "data": {
      "text/html": [
       "<style type=\"text/css\">\n",
       "#T_35369_row0_col0, #T_35369_row9_col0 {\n",
       "  background-color: red;\n",
       "}\n",
       "</style>\n",
       "<table id=\"T_35369\">\n",
       "  <thead>\n",
       "    <tr>\n",
       "      <th class=\"blank level0\" >&nbsp;</th>\n",
       "      <th id=\"T_35369_level0_col0\" class=\"col_heading level0 col0\" >co2</th>\n",
       "    </tr>\n",
       "    <tr>\n",
       "      <th class=\"index_name level0\" >country</th>\n",
       "      <th class=\"blank col0\" >&nbsp;</th>\n",
       "    </tr>\n",
       "  </thead>\n",
       "  <tbody>\n",
       "    <tr>\n",
       "      <th id=\"T_35369_level0_row0\" class=\"row_heading level0 row0\" >United States</th>\n",
       "      <td id=\"T_35369_row0_col0\" class=\"data row0 col0\" >421906.853000</td>\n",
       "    </tr>\n",
       "    <tr>\n",
       "      <th id=\"T_35369_level0_row1\" class=\"row_heading level0 row1\" >China</th>\n",
       "      <td id=\"T_35369_row1_col0\" class=\"data row1 col0\" >249352.817000</td>\n",
       "    </tr>\n",
       "    <tr>\n",
       "      <th id=\"T_35369_level0_row2\" class=\"row_heading level0 row2\" >Russia</th>\n",
       "      <td id=\"T_35369_row2_col0\" class=\"data row2 col0\" >117547.633000</td>\n",
       "    </tr>\n",
       "    <tr>\n",
       "      <th id=\"T_35369_level0_row3\" class=\"row_heading level0 row3\" >Germany</th>\n",
       "      <td id=\"T_35369_row3_col0\" class=\"data row3 col0\" >93290.506000</td>\n",
       "    </tr>\n",
       "    <tr>\n",
       "      <th id=\"T_35369_level0_row4\" class=\"row_heading level0 row4\" >United Kingdom</th>\n",
       "      <td id=\"T_35369_row4_col0\" class=\"data row4 col0\" >78508.722000</td>\n",
       "    </tr>\n",
       "    <tr>\n",
       "      <th id=\"T_35369_level0_row5\" class=\"row_heading level0 row5\" >Saint Helena</th>\n",
       "      <td id=\"T_35369_row5_col0\" class=\"data row5 col0\" >0.402000</td>\n",
       "    </tr>\n",
       "    <tr>\n",
       "      <th id=\"T_35369_level0_row6\" class=\"row_heading level0 row6\" >Niue</th>\n",
       "      <td id=\"T_35369_row6_col0\" class=\"data row6 col0\" >0.305000</td>\n",
       "    </tr>\n",
       "    <tr>\n",
       "      <th id=\"T_35369_level0_row7\" class=\"row_heading level0 row7\" >Tuvalu</th>\n",
       "      <td id=\"T_35369_row7_col0\" class=\"data row7 col0\" >0.283000</td>\n",
       "    </tr>\n",
       "    <tr>\n",
       "      <th id=\"T_35369_level0_row8\" class=\"row_heading level0 row8\" >Puerto Rico</th>\n",
       "      <td id=\"T_35369_row8_col0\" class=\"data row8 col0\" >0.209000</td>\n",
       "    </tr>\n",
       "    <tr>\n",
       "      <th id=\"T_35369_level0_row9\" class=\"row_heading level0 row9\" >Antarctica</th>\n",
       "      <td id=\"T_35369_row9_col0\" class=\"data row9 col0\" >0.157000</td>\n",
       "    </tr>\n",
       "  </tbody>\n",
       "</table>\n"
      ],
      "text/plain": [
       "<pandas.io.formats.style.Styler at 0x233880fd210>"
      ]
     },
     "execution_count": 104,
     "metadata": {},
     "output_type": "execute_result"
    }
   ],
   "source": [
    "tabla_df = df_procesado.dropna(subset=['co2'])\n",
    "tabla = pd.pivot_table(tabla_df, values='co2', index='country', aggfunc=np.sum)\n",
    "\n",
    "tabla_sorted = tabla.sort_values('co2', ascending=False)\n",
    "top_5_mayores = tabla_sorted.head(5)\n",
    "top_5_menores = tabla_sorted.tail(5)\n",
    "\n",
    "tabla_final = pd.concat([top_5_mayores, top_5_menores])\n",
    "tabla_styled = tabla_final.style.apply(lambda x: ['background-color: red' if v == tabla_final['co2'].min() or v == tabla_final['co2'].max() else '' for v in x], axis=1)\n",
    "tabla_styled\n"
   ]
  },
  {
   "attachments": {},
   "cell_type": "markdown",
   "id": "9bd85a1e",
   "metadata": {},
   "source": [
    "Voy a empezar describiendo la situacion sobre emisiones de CO2 a nivel mundial en el contexto actual. \n",
    "\n",
    "**Que paises son los q mas aportaron a lo largo del tiempo a las emisiones acumuladas de CO2?**\n",
    "\n",
    "A partir del primer grafico podemos ver que los primeros 10 emisores son las principales economias del mundo en terminos de su producto bruto o poblacion."
   ]
  },
  {
   "cell_type": "code",
   "execution_count": 105,
   "id": "12de7d34",
   "metadata": {},
   "outputs": [
    {
     "data": {
      "application/vnd.plotly.v1+json": {
       "config": {
        "plotlyServerURL": "https://plot.ly"
       },
       "data": [
        {
         "branchvalues": "total",
         "customdata": [
          [
           "ARG<br>8636.5 ktCO2",
           "ARG"
          ],
          [
           "BRA<br>16672.438 ktCO2",
           "BRA"
          ],
          [
           "CAN<br>34115.395 ktCO2",
           "CAN"
          ],
          [
           "CHN<br>249352.812 ktCO2",
           "CHN"
          ],
          [
           "EU<br>293191.652 ktCO2",
           "EU"
          ],
          [
           "GBR<br>78508.719 ktCO2",
           "GBR"
          ],
          [
           "IND<br>57105.387 ktCO2",
           "IND"
          ],
          [
           "Resto<br>323452.263 ktCO2",
           "Resto"
          ],
          [
           "SA<br>21808.704999999998 ktCO2",
           "SA"
          ],
          [
           "USA<br>421906.844 ktCO2",
           "USA"
          ]
         ],
         "domain": {
          "x": [
           0,
           1
          ],
          "y": [
           0,
           1
          ]
         },
         "hovertemplate": "<b>%{label}</b><br>Emisiones acumuladas de CO2 (como % del total): %{value:.2%}",
         "ids": [
          "ARG",
          "BRA",
          "CAN",
          "CHN",
          "EU",
          "GBR",
          "IND",
          "Resto",
          "SA",
          "USA"
         ],
         "labels": [
          "ARG",
          "BRA",
          "CAN",
          "CHN",
          "EU",
          "GBR",
          "IND",
          "Resto",
          "SA",
          "USA"
         ],
         "marker": {
          "colors": [
           "#30123b",
           "#4145ab",
           "#4675ed",
           "#39a2fc",
           "#1bcfd4",
           "#24eca6",
           "#61fc6c",
           "#a4fc3b",
           "#d1e834",
           "#f3c63a"
          ]
         },
         "name": "",
         "parents": [
          "",
          "",
          "",
          "",
          "",
          "",
          "",
          "",
          "",
          ""
         ],
         "type": "treemap",
         "values": [
          0.005739488882715035,
          0.011079867139322143,
          0.0226717918522471,
          0.16571037947637726,
          0.19484400244993402,
          0.0521739037685056,
          0.03795006470556819,
          0.21495405170815948,
          0.01449323451559217,
          0.2803832155015789
         ]
        }
       ],
       "layout": {
        "annotations": [
         {
          "align": "left",
          "font": {
           "color": "black",
           "family": "Arial",
           "size": 12
          },
          "showarrow": false,
          "text": "<i style='font-size:12px;'> Primeros 10 paises (region) segun emisiones acumuladas de CO2 a 2021, en millones de toneladas. Las emisiones acumuladas <br> son la suma continua de emisiones de CO₂ producidas a partir de combustibles fósiles e industria desde 1750 .</i>",
          "x": 0,
          "xanchor": "left",
          "xref": "paper",
          "y": 0.959,
          "yanchor": "bottom",
          "yref": "paper"
         }
        ],
        "legend": {
         "tracegroupgap": 0
        },
        "margin": {
         "t": 60
        },
        "template": {
         "data": {
          "bar": [
           {
            "error_x": {
             "color": "rgb(36,36,36)"
            },
            "error_y": {
             "color": "rgb(36,36,36)"
            },
            "marker": {
             "line": {
              "color": "white",
              "width": 0.5
             },
             "pattern": {
              "fillmode": "overlay",
              "size": 10,
              "solidity": 0.2
             }
            },
            "type": "bar"
           }
          ],
          "barpolar": [
           {
            "marker": {
             "line": {
              "color": "white",
              "width": 0.5
             },
             "pattern": {
              "fillmode": "overlay",
              "size": 10,
              "solidity": 0.2
             }
            },
            "type": "barpolar"
           }
          ],
          "carpet": [
           {
            "aaxis": {
             "endlinecolor": "rgb(36,36,36)",
             "gridcolor": "white",
             "linecolor": "white",
             "minorgridcolor": "white",
             "startlinecolor": "rgb(36,36,36)"
            },
            "baxis": {
             "endlinecolor": "rgb(36,36,36)",
             "gridcolor": "white",
             "linecolor": "white",
             "minorgridcolor": "white",
             "startlinecolor": "rgb(36,36,36)"
            },
            "type": "carpet"
           }
          ],
          "choropleth": [
           {
            "colorbar": {
             "outlinewidth": 1,
             "tickcolor": "rgb(36,36,36)",
             "ticks": "outside"
            },
            "type": "choropleth"
           }
          ],
          "contour": [
           {
            "colorbar": {
             "outlinewidth": 1,
             "tickcolor": "rgb(36,36,36)",
             "ticks": "outside"
            },
            "colorscale": [
             [
              0,
              "#440154"
             ],
             [
              0.1111111111111111,
              "#482878"
             ],
             [
              0.2222222222222222,
              "#3e4989"
             ],
             [
              0.3333333333333333,
              "#31688e"
             ],
             [
              0.4444444444444444,
              "#26828e"
             ],
             [
              0.5555555555555556,
              "#1f9e89"
             ],
             [
              0.6666666666666666,
              "#35b779"
             ],
             [
              0.7777777777777778,
              "#6ece58"
             ],
             [
              0.8888888888888888,
              "#b5de2b"
             ],
             [
              1,
              "#fde725"
             ]
            ],
            "type": "contour"
           }
          ],
          "contourcarpet": [
           {
            "colorbar": {
             "outlinewidth": 1,
             "tickcolor": "rgb(36,36,36)",
             "ticks": "outside"
            },
            "type": "contourcarpet"
           }
          ],
          "heatmap": [
           {
            "colorbar": {
             "outlinewidth": 1,
             "tickcolor": "rgb(36,36,36)",
             "ticks": "outside"
            },
            "colorscale": [
             [
              0,
              "#440154"
             ],
             [
              0.1111111111111111,
              "#482878"
             ],
             [
              0.2222222222222222,
              "#3e4989"
             ],
             [
              0.3333333333333333,
              "#31688e"
             ],
             [
              0.4444444444444444,
              "#26828e"
             ],
             [
              0.5555555555555556,
              "#1f9e89"
             ],
             [
              0.6666666666666666,
              "#35b779"
             ],
             [
              0.7777777777777778,
              "#6ece58"
             ],
             [
              0.8888888888888888,
              "#b5de2b"
             ],
             [
              1,
              "#fde725"
             ]
            ],
            "type": "heatmap"
           }
          ],
          "heatmapgl": [
           {
            "colorbar": {
             "outlinewidth": 1,
             "tickcolor": "rgb(36,36,36)",
             "ticks": "outside"
            },
            "colorscale": [
             [
              0,
              "#440154"
             ],
             [
              0.1111111111111111,
              "#482878"
             ],
             [
              0.2222222222222222,
              "#3e4989"
             ],
             [
              0.3333333333333333,
              "#31688e"
             ],
             [
              0.4444444444444444,
              "#26828e"
             ],
             [
              0.5555555555555556,
              "#1f9e89"
             ],
             [
              0.6666666666666666,
              "#35b779"
             ],
             [
              0.7777777777777778,
              "#6ece58"
             ],
             [
              0.8888888888888888,
              "#b5de2b"
             ],
             [
              1,
              "#fde725"
             ]
            ],
            "type": "heatmapgl"
           }
          ],
          "histogram": [
           {
            "marker": {
             "line": {
              "color": "white",
              "width": 0.6
             }
            },
            "type": "histogram"
           }
          ],
          "histogram2d": [
           {
            "colorbar": {
             "outlinewidth": 1,
             "tickcolor": "rgb(36,36,36)",
             "ticks": "outside"
            },
            "colorscale": [
             [
              0,
              "#440154"
             ],
             [
              0.1111111111111111,
              "#482878"
             ],
             [
              0.2222222222222222,
              "#3e4989"
             ],
             [
              0.3333333333333333,
              "#31688e"
             ],
             [
              0.4444444444444444,
              "#26828e"
             ],
             [
              0.5555555555555556,
              "#1f9e89"
             ],
             [
              0.6666666666666666,
              "#35b779"
             ],
             [
              0.7777777777777778,
              "#6ece58"
             ],
             [
              0.8888888888888888,
              "#b5de2b"
             ],
             [
              1,
              "#fde725"
             ]
            ],
            "type": "histogram2d"
           }
          ],
          "histogram2dcontour": [
           {
            "colorbar": {
             "outlinewidth": 1,
             "tickcolor": "rgb(36,36,36)",
             "ticks": "outside"
            },
            "colorscale": [
             [
              0,
              "#440154"
             ],
             [
              0.1111111111111111,
              "#482878"
             ],
             [
              0.2222222222222222,
              "#3e4989"
             ],
             [
              0.3333333333333333,
              "#31688e"
             ],
             [
              0.4444444444444444,
              "#26828e"
             ],
             [
              0.5555555555555556,
              "#1f9e89"
             ],
             [
              0.6666666666666666,
              "#35b779"
             ],
             [
              0.7777777777777778,
              "#6ece58"
             ],
             [
              0.8888888888888888,
              "#b5de2b"
             ],
             [
              1,
              "#fde725"
             ]
            ],
            "type": "histogram2dcontour"
           }
          ],
          "mesh3d": [
           {
            "colorbar": {
             "outlinewidth": 1,
             "tickcolor": "rgb(36,36,36)",
             "ticks": "outside"
            },
            "type": "mesh3d"
           }
          ],
          "parcoords": [
           {
            "line": {
             "colorbar": {
              "outlinewidth": 1,
              "tickcolor": "rgb(36,36,36)",
              "ticks": "outside"
             }
            },
            "type": "parcoords"
           }
          ],
          "pie": [
           {
            "automargin": true,
            "type": "pie"
           }
          ],
          "scatter": [
           {
            "fillpattern": {
             "fillmode": "overlay",
             "size": 10,
             "solidity": 0.2
            },
            "type": "scatter"
           }
          ],
          "scatter3d": [
           {
            "line": {
             "colorbar": {
              "outlinewidth": 1,
              "tickcolor": "rgb(36,36,36)",
              "ticks": "outside"
             }
            },
            "marker": {
             "colorbar": {
              "outlinewidth": 1,
              "tickcolor": "rgb(36,36,36)",
              "ticks": "outside"
             }
            },
            "type": "scatter3d"
           }
          ],
          "scattercarpet": [
           {
            "marker": {
             "colorbar": {
              "outlinewidth": 1,
              "tickcolor": "rgb(36,36,36)",
              "ticks": "outside"
             }
            },
            "type": "scattercarpet"
           }
          ],
          "scattergeo": [
           {
            "marker": {
             "colorbar": {
              "outlinewidth": 1,
              "tickcolor": "rgb(36,36,36)",
              "ticks": "outside"
             }
            },
            "type": "scattergeo"
           }
          ],
          "scattergl": [
           {
            "marker": {
             "colorbar": {
              "outlinewidth": 1,
              "tickcolor": "rgb(36,36,36)",
              "ticks": "outside"
             }
            },
            "type": "scattergl"
           }
          ],
          "scattermapbox": [
           {
            "marker": {
             "colorbar": {
              "outlinewidth": 1,
              "tickcolor": "rgb(36,36,36)",
              "ticks": "outside"
             }
            },
            "type": "scattermapbox"
           }
          ],
          "scatterpolar": [
           {
            "marker": {
             "colorbar": {
              "outlinewidth": 1,
              "tickcolor": "rgb(36,36,36)",
              "ticks": "outside"
             }
            },
            "type": "scatterpolar"
           }
          ],
          "scatterpolargl": [
           {
            "marker": {
             "colorbar": {
              "outlinewidth": 1,
              "tickcolor": "rgb(36,36,36)",
              "ticks": "outside"
             }
            },
            "type": "scatterpolargl"
           }
          ],
          "scatterternary": [
           {
            "marker": {
             "colorbar": {
              "outlinewidth": 1,
              "tickcolor": "rgb(36,36,36)",
              "ticks": "outside"
             }
            },
            "type": "scatterternary"
           }
          ],
          "surface": [
           {
            "colorbar": {
             "outlinewidth": 1,
             "tickcolor": "rgb(36,36,36)",
             "ticks": "outside"
            },
            "colorscale": [
             [
              0,
              "#440154"
             ],
             [
              0.1111111111111111,
              "#482878"
             ],
             [
              0.2222222222222222,
              "#3e4989"
             ],
             [
              0.3333333333333333,
              "#31688e"
             ],
             [
              0.4444444444444444,
              "#26828e"
             ],
             [
              0.5555555555555556,
              "#1f9e89"
             ],
             [
              0.6666666666666666,
              "#35b779"
             ],
             [
              0.7777777777777778,
              "#6ece58"
             ],
             [
              0.8888888888888888,
              "#b5de2b"
             ],
             [
              1,
              "#fde725"
             ]
            ],
            "type": "surface"
           }
          ],
          "table": [
           {
            "cells": {
             "fill": {
              "color": "rgb(237,237,237)"
             },
             "line": {
              "color": "white"
             }
            },
            "header": {
             "fill": {
              "color": "rgb(217,217,217)"
             },
             "line": {
              "color": "white"
             }
            },
            "type": "table"
           }
          ]
         },
         "layout": {
          "annotationdefaults": {
           "arrowhead": 0,
           "arrowwidth": 1
          },
          "autotypenumbers": "strict",
          "coloraxis": {
           "colorbar": {
            "outlinewidth": 1,
            "tickcolor": "rgb(36,36,36)",
            "ticks": "outside"
           }
          },
          "colorscale": {
           "diverging": [
            [
             0,
             "rgb(103,0,31)"
            ],
            [
             0.1,
             "rgb(178,24,43)"
            ],
            [
             0.2,
             "rgb(214,96,77)"
            ],
            [
             0.3,
             "rgb(244,165,130)"
            ],
            [
             0.4,
             "rgb(253,219,199)"
            ],
            [
             0.5,
             "rgb(247,247,247)"
            ],
            [
             0.6,
             "rgb(209,229,240)"
            ],
            [
             0.7,
             "rgb(146,197,222)"
            ],
            [
             0.8,
             "rgb(67,147,195)"
            ],
            [
             0.9,
             "rgb(33,102,172)"
            ],
            [
             1,
             "rgb(5,48,97)"
            ]
           ],
           "sequential": [
            [
             0,
             "#440154"
            ],
            [
             0.1111111111111111,
             "#482878"
            ],
            [
             0.2222222222222222,
             "#3e4989"
            ],
            [
             0.3333333333333333,
             "#31688e"
            ],
            [
             0.4444444444444444,
             "#26828e"
            ],
            [
             0.5555555555555556,
             "#1f9e89"
            ],
            [
             0.6666666666666666,
             "#35b779"
            ],
            [
             0.7777777777777778,
             "#6ece58"
            ],
            [
             0.8888888888888888,
             "#b5de2b"
            ],
            [
             1,
             "#fde725"
            ]
           ],
           "sequentialminus": [
            [
             0,
             "#440154"
            ],
            [
             0.1111111111111111,
             "#482878"
            ],
            [
             0.2222222222222222,
             "#3e4989"
            ],
            [
             0.3333333333333333,
             "#31688e"
            ],
            [
             0.4444444444444444,
             "#26828e"
            ],
            [
             0.5555555555555556,
             "#1f9e89"
            ],
            [
             0.6666666666666666,
             "#35b779"
            ],
            [
             0.7777777777777778,
             "#6ece58"
            ],
            [
             0.8888888888888888,
             "#b5de2b"
            ],
            [
             1,
             "#fde725"
            ]
           ]
          },
          "colorway": [
           "#1F77B4",
           "#FF7F0E",
           "#2CA02C",
           "#D62728",
           "#9467BD",
           "#8C564B",
           "#E377C2",
           "#7F7F7F",
           "#BCBD22",
           "#17BECF"
          ],
          "font": {
           "color": "rgb(36,36,36)"
          },
          "geo": {
           "bgcolor": "white",
           "lakecolor": "white",
           "landcolor": "white",
           "showlakes": true,
           "showland": true,
           "subunitcolor": "white"
          },
          "hoverlabel": {
           "align": "left"
          },
          "hovermode": "closest",
          "mapbox": {
           "style": "light"
          },
          "paper_bgcolor": "white",
          "plot_bgcolor": "white",
          "polar": {
           "angularaxis": {
            "gridcolor": "rgb(232,232,232)",
            "linecolor": "rgb(36,36,36)",
            "showgrid": false,
            "showline": true,
            "ticks": "outside"
           },
           "bgcolor": "white",
           "radialaxis": {
            "gridcolor": "rgb(232,232,232)",
            "linecolor": "rgb(36,36,36)",
            "showgrid": false,
            "showline": true,
            "ticks": "outside"
           }
          },
          "scene": {
           "xaxis": {
            "backgroundcolor": "white",
            "gridcolor": "rgb(232,232,232)",
            "gridwidth": 2,
            "linecolor": "rgb(36,36,36)",
            "showbackground": true,
            "showgrid": false,
            "showline": true,
            "ticks": "outside",
            "zeroline": false,
            "zerolinecolor": "rgb(36,36,36)"
           },
           "yaxis": {
            "backgroundcolor": "white",
            "gridcolor": "rgb(232,232,232)",
            "gridwidth": 2,
            "linecolor": "rgb(36,36,36)",
            "showbackground": true,
            "showgrid": false,
            "showline": true,
            "ticks": "outside",
            "zeroline": false,
            "zerolinecolor": "rgb(36,36,36)"
           },
           "zaxis": {
            "backgroundcolor": "white",
            "gridcolor": "rgb(232,232,232)",
            "gridwidth": 2,
            "linecolor": "rgb(36,36,36)",
            "showbackground": true,
            "showgrid": false,
            "showline": true,
            "ticks": "outside",
            "zeroline": false,
            "zerolinecolor": "rgb(36,36,36)"
           }
          },
          "shapedefaults": {
           "fillcolor": "black",
           "line": {
            "width": 0
           },
           "opacity": 0.3
          },
          "ternary": {
           "aaxis": {
            "gridcolor": "rgb(232,232,232)",
            "linecolor": "rgb(36,36,36)",
            "showgrid": false,
            "showline": true,
            "ticks": "outside"
           },
           "baxis": {
            "gridcolor": "rgb(232,232,232)",
            "linecolor": "rgb(36,36,36)",
            "showgrid": false,
            "showline": true,
            "ticks": "outside"
           },
           "bgcolor": "white",
           "caxis": {
            "gridcolor": "rgb(232,232,232)",
            "linecolor": "rgb(36,36,36)",
            "showgrid": false,
            "showline": true,
            "ticks": "outside"
           }
          },
          "title": {
           "x": 0.05
          },
          "xaxis": {
           "automargin": true,
           "gridcolor": "rgb(232,232,232)",
           "linecolor": "rgb(36,36,36)",
           "showgrid": false,
           "showline": true,
           "ticks": "outside",
           "title": {
            "standoff": 15
           },
           "zeroline": false,
           "zerolinecolor": "rgb(36,36,36)"
          },
          "yaxis": {
           "automargin": true,
           "gridcolor": "rgb(232,232,232)",
           "linecolor": "rgb(36,36,36)",
           "showgrid": false,
           "showline": true,
           "ticks": "outside",
           "title": {
            "standoff": 15
           },
           "zeroline": false,
           "zerolinecolor": "rgb(36,36,36)"
          }
         }
        },
        "title": {
         "font": {
          "color": "black",
          "family": "Arial, sans-serif",
          "size": 18
         },
         "text": "Quien contribuye mas a las emisiones acumuladas de CO2?",
         "x": 0.5,
         "xanchor": "right",
         "y": 0.96
        },
        "treemapcolorway": [
         "#30123b",
         "#4145ab",
         "#4675ed",
         "#39a2fc",
         "#1bcfd4",
         "#24eca6",
         "#61fc6c",
         "#a4fc3b",
         "#d1e834",
         "#f3c63a",
         "#fe9b2d",
         "#f36315",
         "#d93806",
         "#b11901",
         "#7a0402"
        ]
       }
      }
     },
     "metadata": {},
     "output_type": "display_data"
    }
   ],
   "source": [
    "subset_2021 = graficos_df.copy()\n",
    "subset_2021 = subset_2021.loc['2021-01-01':]\n",
    "\n",
    "# Agrupo por país y sumo las emisiones acumuladas\n",
    "df_grouped = subset_2021.groupby('country_2')['cumulative_co2'].sum()\n",
    "\n",
    "# dataframe para Plotly\n",
    "df = pd.DataFrame({'country_2': df_grouped.index, 'cumulative_co2': df_grouped.values})\n",
    "\n",
    "# valores para el treemap\n",
    "df['size'] = df['cumulative_co2']/df['cumulative_co2'].sum()\n",
    "\n",
    "# labels para los treemap\n",
    "df['label'] = df['country_2'].astype(str) + '<br>' + df['cumulative_co2'].astype(str) + ' ktCO2'\n",
    "\n",
    "fig = px.treemap(df, \n",
    "                 path=['country_2'], \n",
    "                 values='size', \n",
    "                 color='country_2',\n",
    "                 hover_data=['label'],\n",
    "                 color_discrete_sequence= my_colors,\n",
    "                 template=\"simple_white\"\n",
    "                )\n",
    "\n",
    "# actualizar el título del gráfico\n",
    "fig.update_layout(\n",
    "    title={\n",
    "        'text': \"Quien contribuye mas a las emisiones acumuladas de CO2?\",\n",
    "        'x': 0.5,\n",
    "        'y': 0.96,\n",
    "        'font': {'size': 18, 'color': 'black', 'family': 'Arial, sans-serif'},\n",
    "        'xanchor': 'right',\n",
    "    },\n",
    "    annotations=[\n",
    "        dict(\n",
    "            x=0,\n",
    "            y=0.959,\n",
    "            showarrow=False,\n",
    "            text=\"<i style='font-size:12px;'> Primeros 10 paises (region) segun emisiones acumuladas de CO2 a 2021, en millones de toneladas. Las emisiones acumuladas <br> son la suma continua de emisiones de CO₂ producidas a partir de combustibles fósiles e industria desde 1750 .</i>\",\n",
    "            xref='paper',\n",
    "            yref='paper',\n",
    "            font= {'size': 12, 'color': 'black', 'family': 'Arial'},\n",
    "            xanchor='left',\n",
    "            yanchor='bottom',\n",
    "            align='left'\n",
    "        )\n",
    "    ]\n",
    ")\n",
    "\n",
    "\n",
    "\n",
    "# actualizar las etiquetas\n",
    "fig.update_traces(hovertemplate='<b>%{label}</b><br>Emisiones acumuladas de CO2 (como % del total): %{value:.2%}')\n",
    "fig.show()"
   ]
  },
  {
   "attachments": {},
   "cell_type": "markdown",
   "id": "70f813e1",
   "metadata": {},
   "source": [
    "Entonces... \n",
    "\n",
    "**Que tipo de relacion (+/-) hay entre el CO2 y poblacion/ingreso?**\n",
    "\n",
    "Para esto veo dos cosas: relacion del ingreso hoy (GDP) y la poblacion con las emisiones de co2 actuales (no acumuladas).\n",
    "\n",
    "**Antes de tratar datos faltantes:** Como podemos ver, la relacion es positiva en ambos casos, pero pareceria q a priori hay una mayor relacion entre poblacion y co2 que entre gdp y co2. Aca puede estar sucediendo que al considerar unicamente las emisiones de co2 y no las totales de efecto invernadero nos estemos perdiendo informacion. \n",
    "\n",
    "**Luego de tratar datos faltantes:** la relacion entre gpd y co2 parece ser mas fuerte que con poblacion. Aca se ve algo importante, que es que si bien los paises con mayor poblacion tienen mas emisiones por la simple razon de que mas personas emiten mas, hay paises dado su nivel de gdp tienen emisiones per capita mas altas. Esto nos quiere decir que los habitantes de personas en paises de menor desarrollo relativo\n"
   ]
  },
  {
   "cell_type": "code",
   "execution_count": 106,
   "id": "83f5ba9d",
   "metadata": {},
   "outputs": [
    {
     "name": "stderr",
     "output_type": "stream",
     "text": [
      "C:\\Users\\Bruno\\AppData\\Local\\Temp\\ipykernel_800\\684655188.py:2: SettingWithCopyWarning:\n",
      "\n",
      "\n",
      "A value is trying to be set on a copy of a slice from a DataFrame.\n",
      "Try using .loc[row_indexer,col_indexer] = value instead\n",
      "\n",
      "See the caveats in the documentation: https://pandas.pydata.org/pandas-docs/stable/user_guide/indexing.html#returning-a-view-versus-a-copy\n",
      "\n",
      "C:\\Users\\Bruno\\AppData\\Local\\Temp\\ipykernel_800\\684655188.py:3: SettingWithCopyWarning:\n",
      "\n",
      "\n",
      "A value is trying to be set on a copy of a slice from a DataFrame.\n",
      "Try using .loc[row_indexer,col_indexer] = value instead\n",
      "\n",
      "See the caveats in the documentation: https://pandas.pydata.org/pandas-docs/stable/user_guide/indexing.html#returning-a-view-versus-a-copy\n",
      "\n",
      "C:\\Users\\Bruno\\AppData\\Local\\Temp\\ipykernel_800\\684655188.py:4: SettingWithCopyWarning:\n",
      "\n",
      "\n",
      "A value is trying to be set on a copy of a slice from a DataFrame.\n",
      "Try using .loc[row_indexer,col_indexer] = value instead\n",
      "\n",
      "See the caveats in the documentation: https://pandas.pydata.org/pandas-docs/stable/user_guide/indexing.html#returning-a-view-versus-a-copy\n",
      "\n"
     ]
    },
    {
     "data": {
      "application/vnd.plotly.v1+json": {
       "config": {
        "plotlyServerURL": "https://plot.ly"
       },
       "data": [
        {
         "hovertemplate": "country=Afghanistan<br>PIB per cápita ($)=%{x}<br>Emisiones de CO2 per capita=%{y}<extra></extra>",
         "legendgroup": "Afghanistan",
         "marker": {
          "color": "#30123b",
          "opacity": 0.5,
          "size": 10,
          "symbol": "circle"
         },
         "mode": "markers",
         "name": "Afghanistan",
         "orientation": "v",
         "showlegend": true,
         "type": "scatter",
         "x": [
          1842.4880664941286
         ],
         "xaxis": "x",
         "y": [
          2.9487454720756693e-7
         ],
         "yaxis": "y"
        },
        {
         "hovertemplate": "country=Albania<br>PIB per cápita ($)=%{x}<br>Emisiones de CO2 per capita=%{y}<extra></extra>",
         "legendgroup": "Albania",
         "marker": {
          "color": "#4145ab",
          "opacity": 0.5,
          "size": 10,
          "symbol": "circle"
         },
         "mode": "markers",
         "name": "Albania",
         "orientation": "v",
         "showlegend": true,
         "type": "scatter",
         "x": [
          11820.955153928424
         ],
         "xaxis": "x",
         "y": [
          0.000001732348656717248
         ],
         "yaxis": "y"
        },
        {
         "hovertemplate": "country=Algeria<br>PIB per cápita ($)=%{x}<br>Emisiones de CO2 per capita=%{y}<extra></extra>",
         "legendgroup": "Algeria",
         "marker": {
          "color": "#4675ed",
          "opacity": 0.5,
          "size": 10,
          "symbol": "circle"
         },
         "mode": "markers",
         "name": "Algeria",
         "orientation": "v",
         "showlegend": true,
         "type": "scatter",
         "x": [
          14079.648889231496
         ],
         "xaxis": "x",
         "y": [
          0.000004147970682763721
         ],
         "yaxis": "y"
        },
        {
         "hovertemplate": "country=Andorra<br>PIB per cápita ($)=%{x}<br>Emisiones de CO2 per capita=%{y}<extra></extra>",
         "legendgroup": "Andorra",
         "marker": {
          "color": "#39a2fc",
          "opacity": 0.5,
          "size": 10,
          "symbol": "circle"
         },
         "mode": "markers",
         "name": "Andorra",
         "orientation": "v",
         "showlegend": true,
         "type": "scatter",
         "x": [
          null
         ],
         "xaxis": "x",
         "y": [
          0.000006597009355758723
         ],
         "yaxis": "y"
        },
        {
         "hovertemplate": "country=Angola<br>PIB per cápita ($)=%{x}<br>Emisiones de CO2 per capita=%{y}<extra></extra>",
         "legendgroup": "Angola",
         "marker": {
          "color": "#1bcfd4",
          "opacity": 0.5,
          "size": 10,
          "symbol": "circle"
         },
         "mode": "markers",
         "name": "Angola",
         "orientation": "v",
         "showlegend": true,
         "type": "scatter",
         "x": [
          5625.509124551242
         ],
         "xaxis": "x",
         "y": [
          7.283793730021848e-7
         ],
         "yaxis": "y"
        },
        {
         "hovertemplate": "country=Anguilla<br>PIB per cápita ($)=%{x}<br>Emisiones de CO2 per capita=%{y}<extra></extra>",
         "legendgroup": "Anguilla",
         "marker": {
          "color": "#24eca6",
          "opacity": 0.5,
          "size": 10,
          "symbol": "circle"
         },
         "mode": "markers",
         "name": "Anguilla",
         "orientation": "v",
         "showlegend": true,
         "type": "scatter",
         "x": [
          null
         ],
         "xaxis": "x",
         "y": [
          0.00000940727583711598
         ],
         "yaxis": "y"
        },
        {
         "hovertemplate": "country=Antigua and Barbuda<br>PIB per cápita ($)=%{x}<br>Emisiones de CO2 per capita=%{y}<extra></extra>",
         "legendgroup": "Antigua and Barbuda",
         "marker": {
          "color": "#61fc6c",
          "opacity": 0.5,
          "size": 10,
          "symbol": "circle"
         },
         "mode": "markers",
         "name": "Antigua and Barbuda",
         "orientation": "v",
         "showlegend": true,
         "type": "scatter",
         "x": [
          null
         ],
         "xaxis": "x",
         "y": [
          0.000005434070970276287
         ],
         "yaxis": "y"
        },
        {
         "hovertemplate": "country=Argentina<br>PIB per cápita ($)=%{x}<br>Emisiones de CO2 per capita=%{y}<extra></extra>",
         "legendgroup": "Argentina",
         "marker": {
          "color": "#a4fc3b",
          "opacity": 0.5,
          "size": 10,
          "symbol": "circle"
         },
         "mode": "markers",
         "name": "Argentina",
         "orientation": "v",
         "showlegend": true,
         "type": "scatter",
         "x": [
          18673.8619193872
         ],
         "xaxis": "x",
         "y": [
          0.00000406630024430359
         ],
         "yaxis": "y"
        },
        {
         "hovertemplate": "country=Armenia<br>PIB per cápita ($)=%{x}<br>Emisiones de CO2 per capita=%{y}<extra></extra>",
         "legendgroup": "Armenia",
         "marker": {
          "color": "#d1e834",
          "opacity": 0.5,
          "size": 10,
          "symbol": "circle"
         },
         "mode": "markers",
         "name": "Armenia",
         "orientation": "v",
         "showlegend": true,
         "type": "scatter",
         "x": [
          11738.330885652813
         ],
         "xaxis": "x",
         "y": [
          0.0000020538940964822566
         ],
         "yaxis": "y"
        },
        {
         "hovertemplate": "country=Aruba<br>PIB per cápita ($)=%{x}<br>Emisiones de CO2 per capita=%{y}<extra></extra>",
         "legendgroup": "Aruba",
         "marker": {
          "color": "#f3c63a",
          "opacity": 0.5,
          "size": 10,
          "symbol": "circle"
         },
         "mode": "markers",
         "name": "Aruba",
         "orientation": "v",
         "showlegend": true,
         "type": "scatter",
         "x": [
          null
         ],
         "xaxis": "x",
         "y": [
          0.00000822796754104548
         ],
         "yaxis": "y"
        },
        {
         "hovertemplate": "country=Australia<br>PIB per cápita ($)=%{x}<br>Emisiones de CO2 per capita=%{y}<extra></extra>",
         "legendgroup": "Australia",
         "marker": {
          "color": "#fe9b2d",
          "opacity": 0.5,
          "size": 10,
          "symbol": "circle"
         },
         "mode": "markers",
         "name": "Australia",
         "orientation": "v",
         "showlegend": true,
         "type": "scatter",
         "x": [
          49583.58285212017
         ],
         "xaxis": "x",
         "y": [
          0.000016665206787015195
         ],
         "yaxis": "y"
        },
        {
         "hovertemplate": "country=Austria<br>PIB per cápita ($)=%{x}<br>Emisiones de CO2 per capita=%{y}<extra></extra>",
         "legendgroup": "Austria",
         "marker": {
          "color": "#f36315",
          "opacity": 0.5,
          "size": 10,
          "symbol": "circle"
         },
         "mode": "markers",
         "name": "Austria",
         "orientation": "v",
         "showlegend": true,
         "type": "scatter",
         "x": [
          43240.61739187681
         ],
         "xaxis": "x",
         "y": [
          0.000007528631240839055
         ],
         "yaxis": "y"
        },
        {
         "hovertemplate": "country=Azerbaijan<br>PIB per cápita ($)=%{x}<br>Emisiones de CO2 per capita=%{y}<extra></extra>",
         "legendgroup": "Azerbaijan",
         "marker": {
          "color": "#d93806",
          "opacity": 0.5,
          "size": 10,
          "symbol": "circle"
         },
         "mode": "markers",
         "name": "Azerbaijan",
         "orientation": "v",
         "showlegend": true,
         "type": "scatter",
         "x": [
          15801.61049212984
         ],
         "xaxis": "x",
         "y": [
          0.000003405655578849161
         ],
         "yaxis": "y"
        },
        {
         "hovertemplate": "country=Bahamas<br>PIB per cápita ($)=%{x}<br>Emisiones de CO2 per capita=%{y}<extra></extra>",
         "legendgroup": "Bahamas",
         "marker": {
          "color": "#b11901",
          "opacity": 0.5,
          "size": 10,
          "symbol": "circle"
         },
         "mode": "markers",
         "name": "Bahamas",
         "orientation": "v",
         "showlegend": true,
         "type": "scatter",
         "x": [
          null
         ],
         "xaxis": "x",
         "y": [
          0.000006717905207869404
         ],
         "yaxis": "y"
        },
        {
         "hovertemplate": "country=Bahrain<br>PIB per cápita ($)=%{x}<br>Emisiones de CO2 per capita=%{y}<extra></extra>",
         "legendgroup": "Bahrain",
         "marker": {
          "color": "#7a0402",
          "opacity": 0.5,
          "size": 10,
          "symbol": "circle"
         },
         "mode": "markers",
         "name": "Bahrain",
         "orientation": "v",
         "showlegend": true,
         "type": "scatter",
         "x": [
          42061.030673427704
         ],
         "xaxis": "x",
         "y": [
          0.00002204396287077788
         ],
         "yaxis": "y"
        },
        {
         "hovertemplate": "country=Bangladesh<br>PIB per cápita ($)=%{x}<br>Emisiones de CO2 per capita=%{y}<extra></extra>",
         "legendgroup": "Bangladesh",
         "marker": {
          "color": "#30123b",
          "opacity": 0.5,
          "size": 10,
          "symbol": "circle"
         },
         "mode": "markers",
         "name": "Bangladesh",
         "orientation": "v",
         "showlegend": true,
         "type": "scatter",
         "x": [
          4194.191121289642
         ],
         "xaxis": "x",
         "y": [
          5.039834326580776e-7
         ],
         "yaxis": "y"
        },
        {
         "hovertemplate": "country=Barbados<br>PIB per cápita ($)=%{x}<br>Emisiones de CO2 per capita=%{y}<extra></extra>",
         "legendgroup": "Barbados",
         "marker": {
          "color": "#4145ab",
          "opacity": 0.5,
          "size": 10,
          "symbol": "circle"
         },
         "mode": "markers",
         "name": "Barbados",
         "orientation": "v",
         "showlegend": true,
         "type": "scatter",
         "x": [
          12571.097182000844
         ],
         "xaxis": "x",
         "y": [
          0.000004601325696634275
         ],
         "yaxis": "y"
        },
        {
         "hovertemplate": "country=Belarus<br>PIB per cápita ($)=%{x}<br>Emisiones de CO2 per capita=%{y}<extra></extra>",
         "legendgroup": "Belarus",
         "marker": {
          "color": "#4675ed",
          "opacity": 0.5,
          "size": 10,
          "symbol": "circle"
         },
         "mode": "markers",
         "name": "Belarus",
         "orientation": "v",
         "showlegend": true,
         "type": "scatter",
         "x": [
          18403.78700835938
         ],
         "xaxis": "x",
         "y": [
          0.000006404366198882727
         ],
         "yaxis": "y"
        },
        {
         "hovertemplate": "country=Belgium<br>PIB per cápita ($)=%{x}<br>Emisiones de CO2 per capita=%{y}<extra></extra>",
         "legendgroup": "Belgium",
         "marker": {
          "color": "#39a2fc",
          "opacity": 0.5,
          "size": 10,
          "symbol": "circle"
         },
         "mode": "markers",
         "name": "Belgium",
         "orientation": "v",
         "showlegend": true,
         "type": "scatter",
         "x": [
          39689.07987790295
         ],
         "xaxis": "x",
         "y": [
          0.0000087236882629646
         ],
         "yaxis": "y"
        },
        {
         "hovertemplate": "country=Belize<br>PIB per cápita ($)=%{x}<br>Emisiones de CO2 per capita=%{y}<extra></extra>",
         "legendgroup": "Belize",
         "marker": {
          "color": "#1bcfd4",
          "opacity": 0.5,
          "size": 10,
          "symbol": "circle"
         },
         "mode": "markers",
         "name": "Belize",
         "orientation": "v",
         "showlegend": true,
         "type": "scatter",
         "x": [
          null
         ],
         "xaxis": "x",
         "y": [
          0.000001583454600655367
         ],
         "yaxis": "y"
        },
        {
         "hovertemplate": "country=Benin<br>PIB per cápita ($)=%{x}<br>Emisiones de CO2 per capita=%{y}<extra></extra>",
         "legendgroup": "Benin",
         "marker": {
          "color": "#24eca6",
          "opacity": 0.5,
          "size": 10,
          "symbol": "circle"
         },
         "mode": "markers",
         "name": "Benin",
         "orientation": "v",
         "showlegend": true,
         "type": "scatter",
         "x": [
          2234.547471301486
         ],
         "xaxis": "x",
         "y": [
          6.225771915320122e-7
         ],
         "yaxis": "y"
        },
        {
         "hovertemplate": "country=Bermuda<br>PIB per cápita ($)=%{x}<br>Emisiones de CO2 per capita=%{y}<extra></extra>",
         "legendgroup": "Bermuda",
         "marker": {
          "color": "#61fc6c",
          "opacity": 0.5,
          "size": 10,
          "symbol": "circle"
         },
         "mode": "markers",
         "name": "Bermuda",
         "orientation": "v",
         "showlegend": true,
         "type": "scatter",
         "x": [
          null
         ],
         "xaxis": "x",
         "y": [
          0.00001105502350961614
         ],
         "yaxis": "y"
        },
        {
         "hovertemplate": "country=Bhutan<br>PIB per cápita ($)=%{x}<br>Emisiones de CO2 per capita=%{y}<extra></extra>",
         "legendgroup": "Bhutan",
         "marker": {
          "color": "#a4fc3b",
          "opacity": 0.5,
          "size": 10,
          "symbol": "circle"
         },
         "mode": "markers",
         "name": "Bhutan",
         "orientation": "v",
         "showlegend": true,
         "type": "scatter",
         "x": [
          null
         ],
         "xaxis": "x",
         "y": [
          0.0000017700996189496447
         ],
         "yaxis": "y"
        },
        {
         "hovertemplate": "country=Bolivia<br>PIB per cápita ($)=%{x}<br>Emisiones de CO2 per capita=%{y}<extra></extra>",
         "legendgroup": "Bolivia",
         "marker": {
          "color": "#d1e834",
          "opacity": 0.5,
          "size": 10,
          "symbol": "circle"
         },
         "mode": "markers",
         "name": "Bolivia",
         "orientation": "v",
         "showlegend": true,
         "type": "scatter",
         "x": [
          6522.385312330435
         ],
         "xaxis": "x",
         "y": [
          0.000002050417225744742
         ],
         "yaxis": "y"
        },
        {
         "hovertemplate": "country=Bonaire Sint Eustatius and Saba<br>PIB per cápita ($)=%{x}<br>Emisiones de CO2 per capita=%{y}<extra></extra>",
         "legendgroup": "Bonaire Sint Eustatius and Saba",
         "marker": {
          "color": "#f3c63a",
          "opacity": 0.5,
          "size": 10,
          "symbol": "circle"
         },
         "mode": "markers",
         "name": "Bonaire Sint Eustatius and Saba",
         "orientation": "v",
         "showlegend": true,
         "type": "scatter",
         "x": [
          null
         ],
         "xaxis": "x",
         "y": [
          0.000003960792158431687
         ],
         "yaxis": "y"
        },
        {
         "hovertemplate": "country=Bosnia and Herzegovina<br>PIB per cápita ($)=%{x}<br>Emisiones de CO2 per capita=%{y}<extra></extra>",
         "legendgroup": "Bosnia and Herzegovina",
         "marker": {
          "color": "#fe9b2d",
          "opacity": 0.5,
          "size": 10,
          "symbol": "circle"
         },
         "mode": "markers",
         "name": "Bosnia and Herzegovina",
         "orientation": "v",
         "showlegend": true,
         "type": "scatter",
         "x": [
          12142.565119236548
         ],
         "xaxis": "x",
         "y": [
          0.00000649239500113525
         ],
         "yaxis": "y"
        },
        {
         "hovertemplate": "country=Botswana<br>PIB per cápita ($)=%{x}<br>Emisiones de CO2 per capita=%{y}<extra></extra>",
         "legendgroup": "Botswana",
         "marker": {
          "color": "#f36315",
          "opacity": 0.5,
          "size": 10,
          "symbol": "circle"
         },
         "mode": "markers",
         "name": "Botswana",
         "orientation": "v",
         "showlegend": true,
         "type": "scatter",
         "x": [
          14621.922541752485
         ],
         "xaxis": "x",
         "y": [
          0.0000030610942024817544
         ],
         "yaxis": "y"
        },
        {
         "hovertemplate": "country=Brazil<br>PIB per cápita ($)=%{x}<br>Emisiones de CO2 per capita=%{y}<extra></extra>",
         "legendgroup": "Brazil",
         "marker": {
          "color": "#d93806",
          "opacity": 0.5,
          "size": 10,
          "symbol": "circle"
         },
         "mode": "markers",
         "name": "Brazil",
         "orientation": "v",
         "showlegend": true,
         "type": "scatter",
         "x": [
          14109.766321452269
         ],
         "xaxis": "x",
         "y": [
          0.000002270113415551792
         ],
         "yaxis": "y"
        },
        {
         "hovertemplate": "country=British Virgin Islands<br>PIB per cápita ($)=%{x}<br>Emisiones de CO2 per capita=%{y}<extra></extra>",
         "legendgroup": "British Virgin Islands",
         "marker": {
          "color": "#b11901",
          "opacity": 0.5,
          "size": 10,
          "symbol": "circle"
         },
         "mode": "markers",
         "name": "British Virgin Islands",
         "orientation": "v",
         "showlegend": true,
         "type": "scatter",
         "x": [
          null
         ],
         "xaxis": "x",
         "y": [
          0.000005303204980401199
         ],
         "yaxis": "y"
        },
        {
         "hovertemplate": "country=Brunei<br>PIB per cápita ($)=%{x}<br>Emisiones de CO2 per capita=%{y}<extra></extra>",
         "legendgroup": "Brunei",
         "marker": {
          "color": "#7a0402",
          "opacity": 0.5,
          "size": 10,
          "symbol": "circle"
         },
         "mode": "markers",
         "name": "Brunei",
         "orientation": "v",
         "showlegend": true,
         "type": "scatter",
         "x": [
          null
         ],
         "xaxis": "x",
         "y": [
          0.000021515923948208886
         ],
         "yaxis": "y"
        },
        {
         "hovertemplate": "country=Bulgaria<br>PIB per cápita ($)=%{x}<br>Emisiones de CO2 per capita=%{y}<extra></extra>",
         "legendgroup": "Bulgaria",
         "marker": {
          "color": "#30123b",
          "opacity": 0.5,
          "size": 10,
          "symbol": "circle"
         },
         "mode": "markers",
         "name": "Bulgaria",
         "orientation": "v",
         "showlegend": true,
         "type": "scatter",
         "x": [
          18571.810475250597
         ],
         "xaxis": "x",
         "y": [
          0.000006128059814899323
         ],
         "yaxis": "y"
        },
        {
         "hovertemplate": "country=Burkina Faso<br>PIB per cápita ($)=%{x}<br>Emisiones de CO2 per capita=%{y}<extra></extra>",
         "legendgroup": "Burkina Faso",
         "marker": {
          "color": "#4145ab",
          "opacity": 0.5,
          "size": 10,
          "symbol": "circle"
         },
         "mode": "markers",
         "name": "Burkina Faso",
         "orientation": "v",
         "showlegend": true,
         "type": "scatter",
         "x": [
          1535.597535003896
         ],
         "xaxis": "x",
         "y": [
          2.4263548823526816e-7
         ],
         "yaxis": "y"
        },
        {
         "hovertemplate": "country=Burundi<br>PIB per cápita ($)=%{x}<br>Emisiones de CO2 per capita=%{y}<extra></extra>",
         "legendgroup": "Burundi",
         "marker": {
          "color": "#4675ed",
          "opacity": 0.5,
          "size": 10,
          "symbol": "circle"
         },
         "mode": "markers",
         "name": "Burundi",
         "orientation": "v",
         "showlegend": true,
         "type": "scatter",
         "x": [
          636.3704877445257
         ],
         "xaxis": "x",
         "y": [
          5.951202229856312e-8
         ],
         "yaxis": "y"
        },
        {
         "hovertemplate": "country=Cambodia<br>PIB per cápita ($)=%{x}<br>Emisiones de CO2 per capita=%{y}<extra></extra>",
         "legendgroup": "Cambodia",
         "marker": {
          "color": "#39a2fc",
          "opacity": 0.5,
          "size": 10,
          "symbol": "circle"
         },
         "mode": "markers",
         "name": "Cambodia",
         "orientation": "v",
         "showlegend": true,
         "type": "scatter",
         "x": [
          3715.5040878633845
         ],
         "xaxis": "x",
         "y": [
          8.978335553372611e-7
         ],
         "yaxis": "y"
        },
        {
         "hovertemplate": "country=Cameroon<br>PIB per cápita ($)=%{x}<br>Emisiones de CO2 per capita=%{y}<extra></extra>",
         "legendgroup": "Cameroon",
         "marker": {
          "color": "#1bcfd4",
          "opacity": 0.5,
          "size": 10,
          "symbol": "circle"
         },
         "mode": "markers",
         "name": "Cameroon",
         "orientation": "v",
         "showlegend": true,
         "type": "scatter",
         "x": [
          3037.404571054497
         ],
         "xaxis": "x",
         "y": [
          3.841805350230365e-7
         ],
         "yaxis": "y"
        },
        {
         "hovertemplate": "country=Canada<br>PIB per cápita ($)=%{x}<br>Emisiones de CO2 per capita=%{y}<extra></extra>",
         "legendgroup": "Canada",
         "marker": {
          "color": "#24eca6",
          "opacity": 0.5,
          "size": 10,
          "symbol": "circle"
         },
         "mode": "markers",
         "name": "Canada",
         "orientation": "v",
         "showlegend": true,
         "type": "scatter",
         "x": [
          45076.004398403034
         ],
         "xaxis": "x",
         "y": [
          0.000015778720062988622
         ],
         "yaxis": "y"
        },
        {
         "hovertemplate": "country=Cape Verde<br>PIB per cápita ($)=%{x}<br>Emisiones de CO2 per capita=%{y}<extra></extra>",
         "legendgroup": "Cape Verde",
         "marker": {
          "color": "#61fc6c",
          "opacity": 0.5,
          "size": 10,
          "symbol": "circle"
         },
         "mode": "markers",
         "name": "Cape Verde",
         "orientation": "v",
         "showlegend": true,
         "type": "scatter",
         "x": [
          6797.299734422952
         ],
         "xaxis": "x",
         "y": [
          0.0000010206421817583406
         ],
         "yaxis": "y"
        },
        {
         "hovertemplate": "country=Chad<br>PIB per cápita ($)=%{x}<br>Emisiones de CO2 per capita=%{y}<extra></extra>",
         "legendgroup": "Chad",
         "marker": {
          "color": "#a4fc3b",
          "opacity": 0.5,
          "size": 10,
          "symbol": "circle"
         },
         "mode": "markers",
         "name": "Chad",
         "orientation": "v",
         "showlegend": true,
         "type": "scatter",
         "x": [
          2000.2879212171738
         ],
         "xaxis": "x",
         "y": [
          1.2861911074912912e-7
         ],
         "yaxis": "y"
        },
        {
         "hovertemplate": "country=Chile<br>PIB per cápita ($)=%{x}<br>Emisiones de CO2 per capita=%{y}<extra></extra>",
         "legendgroup": "Chile",
         "marker": {
          "color": "#d1e834",
          "opacity": 0.5,
          "size": 10,
          "symbol": "circle"
         },
         "mode": "markers",
         "name": "Chile",
         "orientation": "v",
         "showlegend": true,
         "type": "scatter",
         "x": [
          22074.949676420845
         ],
         "xaxis": "x",
         "y": [
          0.000004516708114428762
         ],
         "yaxis": "y"
        },
        {
         "hovertemplate": "country=China<br>PIB per cápita ($)=%{x}<br>Emisiones de CO2 per capita=%{y}<extra></extra>",
         "legendgroup": "China",
         "marker": {
          "color": "#f3c63a",
          "opacity": 0.5,
          "size": 10,
          "symbol": "circle"
         },
         "mode": "markers",
         "name": "China",
         "orientation": "v",
         "showlegend": true,
         "type": "scatter",
         "x": [
          12809.266576791042
         ],
         "xaxis": "x",
         "y": [
          0.00000730654173164584
         ],
         "yaxis": "y"
        },
        {
         "hovertemplate": "country=Colombia<br>PIB per cápita ($)=%{x}<br>Emisiones de CO2 per capita=%{y}<extra></extra>",
         "legendgroup": "Colombia",
         "marker": {
          "color": "#fe9b2d",
          "opacity": 0.5,
          "size": 10,
          "symbol": "circle"
         },
         "mode": "markers",
         "name": "Colombia",
         "orientation": "v",
         "showlegend": true,
         "type": "scatter",
         "x": [
          13229.315390670952
         ],
         "xaxis": "x",
         "y": [
          0.0000016727287279525803
         ],
         "yaxis": "y"
        },
        {
         "hovertemplate": "country=Comoros<br>PIB per cápita ($)=%{x}<br>Emisiones de CO2 per capita=%{y}<extra></extra>",
         "legendgroup": "Comoros",
         "marker": {
          "color": "#f36315",
          "opacity": 0.5,
          "size": 10,
          "symbol": "circle"
         },
         "mode": "markers",
         "name": "Comoros",
         "orientation": "v",
         "showlegend": true,
         "type": "scatter",
         "x": [
          1824.026793005995
         ],
         "xaxis": "x",
         "y": [
          3.7742070944788374e-7
         ],
         "yaxis": "y"
        },
        {
         "hovertemplate": "country=Congo<br>PIB per cápita ($)=%{x}<br>Emisiones de CO2 per capita=%{y}<extra></extra>",
         "legendgroup": "Congo",
         "marker": {
          "color": "#d93806",
          "opacity": 0.5,
          "size": 10,
          "symbol": "circle"
         },
         "mode": "markers",
         "name": "Congo",
         "orientation": "v",
         "showlegend": true,
         "type": "scatter",
         "x": [
          5424.234498381841
         ],
         "xaxis": "x",
         "y": [
          0.0000012122635640364995
         ],
         "yaxis": "y"
        },
        {
         "hovertemplate": "country=Cook Islands<br>PIB per cápita ($)=%{x}<br>Emisiones de CO2 per capita=%{y}<extra></extra>",
         "legendgroup": "Cook Islands",
         "marker": {
          "color": "#b11901",
          "opacity": 0.5,
          "size": 10,
          "symbol": "circle"
         },
         "mode": "markers",
         "name": "Cook Islands",
         "orientation": "v",
         "showlegend": true,
         "type": "scatter",
         "x": [
          null
         ],
         "xaxis": "x",
         "y": [
          0.000004688585320676083
         ],
         "yaxis": "y"
        },
        {
         "hovertemplate": "country=Costa Rica<br>PIB per cápita ($)=%{x}<br>Emisiones de CO2 per capita=%{y}<extra></extra>",
         "legendgroup": "Costa Rica",
         "marker": {
          "color": "#7a0402",
          "opacity": 0.5,
          "size": 10,
          "symbol": "circle"
         },
         "mode": "markers",
         "name": "Costa Rica",
         "orientation": "v",
         "showlegend": true,
         "type": "scatter",
         "x": [
          14548.859244023395
         ],
         "xaxis": "x",
         "y": [
          0.0000016324990507342376
         ],
         "yaxis": "y"
        },
        {
         "hovertemplate": "country=Cote d'Ivoire<br>PIB per cápita ($)=%{x}<br>Emisiones de CO2 per capita=%{y}<extra></extra>",
         "legendgroup": "Cote d'Ivoire",
         "marker": {
          "color": "#30123b",
          "opacity": 0.5,
          "size": 10,
          "symbol": "circle"
         },
         "mode": "markers",
         "name": "Cote d'Ivoire",
         "orientation": "v",
         "showlegend": true,
         "type": "scatter",
         "x": [
          4023.7587679292255
         ],
         "xaxis": "x",
         "y": [
          4.060564862542113e-7
         ],
         "yaxis": "y"
        },
        {
         "hovertemplate": "country=Croatia<br>PIB per cápita ($)=%{x}<br>Emisiones de CO2 per capita=%{y}<extra></extra>",
         "legendgroup": "Croatia",
         "marker": {
          "color": "#4145ab",
          "opacity": 0.5,
          "size": 10,
          "symbol": "circle"
         },
         "mode": "markers",
         "name": "Croatia",
         "orientation": "v",
         "showlegend": true,
         "type": "scatter",
         "x": [
          20425.173200836056
         ],
         "xaxis": "x",
         "y": [
          0.000004260077183253503
         ],
         "yaxis": "y"
        },
        {
         "hovertemplate": "country=Cuba<br>PIB per cápita ($)=%{x}<br>Emisiones de CO2 per capita=%{y}<extra></extra>",
         "legendgroup": "Cuba",
         "marker": {
          "color": "#4675ed",
          "opacity": 0.5,
          "size": 10,
          "symbol": "circle"
         },
         "mode": "markers",
         "name": "Cuba",
         "orientation": "v",
         "showlegend": true,
         "type": "scatter",
         "x": [
          8169.93529817466
         ],
         "xaxis": "x",
         "y": [
          0.00000199775022481421
         ],
         "yaxis": "y"
        },
        {
         "hovertemplate": "country=Curacao<br>PIB per cápita ($)=%{x}<br>Emisiones de CO2 per capita=%{y}<extra></extra>",
         "legendgroup": "Curacao",
         "marker": {
          "color": "#39a2fc",
          "opacity": 0.5,
          "size": 10,
          "symbol": "circle"
         },
         "mode": "markers",
         "name": "Curacao",
         "orientation": "v",
         "showlegend": true,
         "type": "scatter",
         "x": [
          null
         ],
         "xaxis": "x",
         "y": [
          0.000021539077809174273
         ],
         "yaxis": "y"
        },
        {
         "hovertemplate": "country=Cyprus<br>PIB per cápita ($)=%{x}<br>Emisiones de CO2 per capita=%{y}<extra></extra>",
         "legendgroup": "Cyprus",
         "marker": {
          "color": "#1bcfd4",
          "opacity": 0.5,
          "size": 10,
          "symbol": "circle"
         },
         "mode": "markers",
         "name": "Cyprus",
         "orientation": "v",
         "showlegend": true,
         "type": "scatter",
         "x": [
          22800.607610224197
         ],
         "xaxis": "x",
         "y": [
          0.000006024610406339174
         ],
         "yaxis": "y"
        },
        {
         "hovertemplate": "country=Czechia<br>PIB per cápita ($)=%{x}<br>Emisiones de CO2 per capita=%{y}<extra></extra>",
         "legendgroup": "Czechia",
         "marker": {
          "color": "#24eca6",
          "opacity": 0.5,
          "size": 10,
          "symbol": "circle"
         },
         "mode": "markers",
         "name": "Czechia",
         "orientation": "v",
         "showlegend": true,
         "type": "scatter",
         "x": [
          30955.17458340603
         ],
         "xaxis": "x",
         "y": [
          0.000010094167807827123
         ],
         "yaxis": "y"
        },
        {
         "hovertemplate": "country=Denmark<br>PIB per cápita ($)=%{x}<br>Emisiones de CO2 per capita=%{y}<extra></extra>",
         "legendgroup": "Denmark",
         "marker": {
          "color": "#61fc6c",
          "opacity": 0.5,
          "size": 10,
          "symbol": "circle"
         },
         "mode": "markers",
         "name": "Denmark",
         "orientation": "v",
         "showlegend": true,
         "type": "scatter",
         "x": [
          46528.88724743089
         ],
         "xaxis": "x",
         "y": [
          0.000006021652979725454
         ],
         "yaxis": "y"
        },
        {
         "hovertemplate": "country=Djibouti<br>PIB per cápita ($)=%{x}<br>Emisiones de CO2 per capita=%{y}<extra></extra>",
         "legendgroup": "Djibouti",
         "marker": {
          "color": "#a4fc3b",
          "opacity": 0.5,
          "size": 10,
          "symbol": "circle"
         },
         "mode": "markers",
         "name": "Djibouti",
         "orientation": "v",
         "showlegend": true,
         "type": "scatter",
         "x": [
          2755.7959145065665
         ],
         "xaxis": "x",
         "y": [
          3.6416812649214344e-7
         ],
         "yaxis": "y"
        },
        {
         "hovertemplate": "country=Dominica<br>PIB per cápita ($)=%{x}<br>Emisiones de CO2 per capita=%{y}<extra></extra>",
         "legendgroup": "Dominica",
         "marker": {
          "color": "#d1e834",
          "opacity": 0.5,
          "size": 10,
          "symbol": "circle"
         },
         "mode": "markers",
         "name": "Dominica",
         "orientation": "v",
         "showlegend": true,
         "type": "scatter",
         "x": [
          9427.024731789948
         ],
         "xaxis": "x",
         "y": [
          0.0000022727272727272728
         ],
         "yaxis": "y"
        },
        {
         "hovertemplate": "country=Dominican Republic<br>PIB per cápita ($)=%{x}<br>Emisiones de CO2 per capita=%{y}<extra></extra>",
         "legendgroup": "Dominican Republic",
         "marker": {
          "color": "#f3c63a",
          "opacity": 0.5,
          "size": 10,
          "symbol": "circle"
         },
         "mode": "markers",
         "name": "Dominican Republic",
         "orientation": "v",
         "showlegend": true,
         "type": "scatter",
         "x": [
          15350.391901858635
         ],
         "xaxis": "x",
         "y": [
          0.0000023924502755646446
         ],
         "yaxis": "y"
        },
        {
         "hovertemplate": "country=Ecuador<br>PIB per cápita ($)=%{x}<br>Emisiones de CO2 per capita=%{y}<extra></extra>",
         "legendgroup": "Ecuador",
         "marker": {
          "color": "#fe9b2d",
          "opacity": 0.5,
          "size": 10,
          "symbol": "circle"
         },
         "mode": "markers",
         "name": "Ecuador",
         "orientation": "v",
         "showlegend": true,
         "type": "scatter",
         "x": [
          10315.471265783684
         ],
         "xaxis": "x",
         "y": [
          0.0000022476338283906742
         ],
         "yaxis": "y"
        },
        {
         "hovertemplate": "country=Egypt<br>PIB per cápita ($)=%{x}<br>Emisiones de CO2 per capita=%{y}<extra></extra>",
         "legendgroup": "Egypt",
         "marker": {
          "color": "#f36315",
          "opacity": 0.5,
          "size": 10,
          "symbol": "circle"
         },
         "mode": "markers",
         "name": "Egypt",
         "orientation": "v",
         "showlegend": true,
         "type": "scatter",
         "x": [
          11777.747834833843
         ],
         "xaxis": "x",
         "y": [
          0.000002351129692812762
         ],
         "yaxis": "y"
        },
        {
         "hovertemplate": "country=El Salvador<br>PIB per cápita ($)=%{x}<br>Emisiones de CO2 per capita=%{y}<extra></extra>",
         "legendgroup": "El Salvador",
         "marker": {
          "color": "#d93806",
          "opacity": 0.5,
          "size": 10,
          "symbol": "circle"
         },
         "mode": "markers",
         "name": "El Salvador",
         "orientation": "v",
         "showlegend": true,
         "type": "scatter",
         "x": [
          8724.247540445545
         ],
         "xaxis": "x",
         "y": [
          0.0000010212958507665295
         ],
         "yaxis": "y"
        },
        {
         "hovertemplate": "country=Equatorial Guinea<br>PIB per cápita ($)=%{x}<br>Emisiones de CO2 per capita=%{y}<extra></extra>",
         "legendgroup": "Equatorial Guinea",
         "marker": {
          "color": "#b11901",
          "opacity": 0.5,
          "size": 10,
          "symbol": "circle"
         },
         "mode": "markers",
         "name": "Equatorial Guinea",
         "orientation": "v",
         "showlegend": true,
         "type": "scatter",
         "x": [
          15145.85128306866
         ],
         "xaxis": "x",
         "y": [
          0.000003999728380629278
         ],
         "yaxis": "y"
        },
        {
         "hovertemplate": "country=Eritrea<br>PIB per cápita ($)=%{x}<br>Emisiones de CO2 per capita=%{y}<extra></extra>",
         "legendgroup": "Eritrea",
         "marker": {
          "color": "#7a0402",
          "opacity": 0.5,
          "size": 10,
          "symbol": "circle"
         },
         "mode": "markers",
         "name": "Eritrea",
         "orientation": "v",
         "showlegend": true,
         "type": "scatter",
         "x": [
          null
         ],
         "xaxis": "x",
         "y": [
          2.409023097597362e-7
         ],
         "yaxis": "y"
        },
        {
         "hovertemplate": "country=Estonia<br>PIB per cápita ($)=%{x}<br>Emisiones de CO2 per capita=%{y}<extra></extra>",
         "legendgroup": "Estonia",
         "marker": {
          "color": "#30123b",
          "opacity": 0.5,
          "size": 10,
          "symbol": "circle"
         },
         "mode": "markers",
         "name": "Estonia",
         "orientation": "v",
         "showlegend": true,
         "type": "scatter",
         "x": [
          26781.780819969958
         ],
         "xaxis": "x",
         "y": [
          0.000013565067700541392
         ],
         "yaxis": "y"
        },
        {
         "hovertemplate": "country=Eswatini<br>PIB per cápita ($)=%{x}<br>Emisiones de CO2 per capita=%{y}<extra></extra>",
         "legendgroup": "Eswatini",
         "marker": {
          "color": "#4145ab",
          "opacity": 0.5,
          "size": 10,
          "symbol": "circle"
         },
         "mode": "markers",
         "name": "Eswatini",
         "orientation": "v",
         "showlegend": true,
         "type": "scatter",
         "x": [
          7559.060113923287
         ],
         "xaxis": "x",
         "y": [
          8.901872581715397e-7
         ],
         "yaxis": "y"
        },
        {
         "hovertemplate": "country=Ethiopia<br>PIB per cápita ($)=%{x}<br>Emisiones de CO2 per capita=%{y}<extra></extra>",
         "legendgroup": "Ethiopia",
         "marker": {
          "color": "#4675ed",
          "opacity": 0.5,
          "size": 10,
          "symbol": "circle"
         },
         "mode": "markers",
         "name": "Ethiopia",
         "orientation": "v",
         "showlegend": true,
         "type": "scatter",
         "x": [
          1761.3723217178094
         ],
         "xaxis": "x",
         "y": [
          1.422485346817189e-7
         ],
         "yaxis": "y"
        },
        {
         "hovertemplate": "country=Faeroe Islands<br>PIB per cápita ($)=%{x}<br>Emisiones de CO2 per capita=%{y}<extra></extra>",
         "legendgroup": "Faeroe Islands",
         "marker": {
          "color": "#39a2fc",
          "opacity": 0.5,
          "size": 10,
          "symbol": "circle"
         },
         "mode": "markers",
         "name": "Faeroe Islands",
         "orientation": "v",
         "showlegend": true,
         "type": "scatter",
         "x": [
          null
         ],
         "xaxis": "x",
         "y": [
          0.000014221821177762956
         ],
         "yaxis": "y"
        },
        {
         "hovertemplate": "country=Fiji<br>PIB per cápita ($)=%{x}<br>Emisiones de CO2 per capita=%{y}<extra></extra>",
         "legendgroup": "Fiji",
         "marker": {
          "color": "#1bcfd4",
          "opacity": 0.5,
          "size": 10,
          "symbol": "circle"
         },
         "mode": "markers",
         "name": "Fiji",
         "orientation": "v",
         "showlegend": true,
         "type": "scatter",
         "x": [
          null
         ],
         "xaxis": "x",
         "y": [
          0.0000014755136550301306
         ],
         "yaxis": "y"
        },
        {
         "hovertemplate": "country=Finland<br>PIB per cápita ($)=%{x}<br>Emisiones de CO2 per capita=%{y}<extra></extra>",
         "legendgroup": "Finland",
         "marker": {
          "color": "#24eca6",
          "opacity": 0.5,
          "size": 10,
          "symbol": "circle"
         },
         "mode": "markers",
         "name": "Finland",
         "orientation": "v",
         "showlegend": true,
         "type": "scatter",
         "x": [
          38897.12531001466
         ],
         "xaxis": "x",
         "y": [
          0.00000830319837040032
         ],
         "yaxis": "y"
        },
        {
         "hovertemplate": "country=France<br>PIB per cápita ($)=%{x}<br>Emisiones de CO2 per capita=%{y}<extra></extra>",
         "legendgroup": "France",
         "marker": {
          "color": "#61fc6c",
          "opacity": 0.5,
          "size": 10,
          "symbol": "circle"
         },
         "mode": "markers",
         "name": "France",
         "orientation": "v",
         "showlegend": true,
         "type": "scatter",
         "x": [
          40164.307456140545
         ],
         "xaxis": "x",
         "y": [
          0.000005017703465077498
         ],
         "yaxis": "y"
        },
        {
         "hovertemplate": "country=French Guiana<br>PIB per cápita ($)=%{x}<br>Emisiones de CO2 per capita=%{y}<extra></extra>",
         "legendgroup": "French Guiana",
         "marker": {
          "color": "#a4fc3b",
          "opacity": 0.5,
          "size": 10,
          "symbol": "circle"
         },
         "mode": "markers",
         "name": "French Guiana",
         "orientation": "v",
         "showlegend": true,
         "type": "scatter",
         "x": [
          null
         ],
         "xaxis": "x",
         "y": [
          0.0000025410342696243387
         ],
         "yaxis": "y"
        },
        {
         "hovertemplate": "country=French Polynesia<br>PIB per cápita ($)=%{x}<br>Emisiones de CO2 per capita=%{y}<extra></extra>",
         "legendgroup": "French Polynesia",
         "marker": {
          "color": "#d1e834",
          "opacity": 0.5,
          "size": 10,
          "symbol": "circle"
         },
         "mode": "markers",
         "name": "French Polynesia",
         "orientation": "v",
         "showlegend": true,
         "type": "scatter",
         "x": [
          null
         ],
         "xaxis": "x",
         "y": [
          0.000002943400030240411
         ],
         "yaxis": "y"
        },
        {
         "hovertemplate": "country=Gabon<br>PIB per cápita ($)=%{x}<br>Emisiones de CO2 per capita=%{y}<extra></extra>",
         "legendgroup": "Gabon",
         "marker": {
          "color": "#f3c63a",
          "opacity": 0.5,
          "size": 10,
          "symbol": "circle"
         },
         "mode": "markers",
         "name": "Gabon",
         "orientation": "v",
         "showlegend": true,
         "type": "scatter",
         "x": [
          16739.52770170615
         ],
         "xaxis": "x",
         "y": [
          0.000002733560430526644
         ],
         "yaxis": "y"
        },
        {
         "hovertemplate": "country=Gambia<br>PIB per cápita ($)=%{x}<br>Emisiones de CO2 per capita=%{y}<extra></extra>",
         "legendgroup": "Gambia",
         "marker": {
          "color": "#fe9b2d",
          "opacity": 0.5,
          "size": 10,
          "symbol": "circle"
         },
         "mode": "markers",
         "name": "Gambia",
         "orientation": "v",
         "showlegend": true,
         "type": "scatter",
         "x": [
          1611.1072216795997
         ],
         "xaxis": "x",
         "y": [
          2.4295313213214685e-7
         ],
         "yaxis": "y"
        },
        {
         "hovertemplate": "country=Georgia<br>PIB per cápita ($)=%{x}<br>Emisiones de CO2 per capita=%{y}<extra></extra>",
         "legendgroup": "Georgia",
         "marker": {
          "color": "#f36315",
          "opacity": 0.5,
          "size": 10,
          "symbol": "circle"
         },
         "mode": "markers",
         "name": "Georgia",
         "orientation": "v",
         "showlegend": true,
         "type": "scatter",
         "x": [
          15636.200891599156
         ],
         "xaxis": "x",
         "y": [
          0.000002667587054448943
         ],
         "yaxis": "y"
        },
        {
         "hovertemplate": "country=Germany<br>PIB per cápita ($)=%{x}<br>Emisiones de CO2 per capita=%{y}<extra></extra>",
         "legendgroup": "Germany",
         "marker": {
          "color": "#d93806",
          "opacity": 0.5,
          "size": 10,
          "symbol": "circle"
         },
         "mode": "markers",
         "name": "Germany",
         "orientation": "v",
         "showlegend": true,
         "type": "scatter",
         "x": [
          46877.15556605537
         ],
         "xaxis": "x",
         "y": [
          0.000009100579834930937
         ],
         "yaxis": "y"
        },
        {
         "hovertemplate": "country=Ghana<br>PIB per cápita ($)=%{x}<br>Emisiones de CO2 per capita=%{y}<extra></extra>",
         "legendgroup": "Ghana",
         "marker": {
          "color": "#b11901",
          "opacity": 0.5,
          "size": 10,
          "symbol": "circle"
         },
         "mode": "markers",
         "name": "Ghana",
         "orientation": "v",
         "showlegend": true,
         "type": "scatter",
         "x": [
          3850.7092826817243
         ],
         "xaxis": "x",
         "y": [
          5.540861986440971e-7
         ],
         "yaxis": "y"
        },
        {
         "hovertemplate": "country=Greece<br>PIB per cápita ($)=%{x}<br>Emisiones de CO2 per capita=%{y}<extra></extra>",
         "legendgroup": "Greece",
         "marker": {
          "color": "#7a0402",
          "opacity": 0.5,
          "size": 10,
          "symbol": "circle"
         },
         "mode": "markers",
         "name": "Greece",
         "orientation": "v",
         "showlegend": true,
         "type": "scatter",
         "x": [
          23514.471991742903
         ],
         "xaxis": "x",
         "y": [
          0.000006750695340805161
         ],
         "yaxis": "y"
        },
        {
         "hovertemplate": "country=Greenland<br>PIB per cápita ($)=%{x}<br>Emisiones de CO2 per capita=%{y}<extra></extra>",
         "legendgroup": "Greenland",
         "marker": {
          "color": "#30123b",
          "opacity": 0.5,
          "size": 10,
          "symbol": "circle"
         },
         "mode": "markers",
         "name": "Greenland",
         "orientation": "v",
         "showlegend": true,
         "type": "scatter",
         "x": [
          null
         ],
         "xaxis": "x",
         "y": [
          0.000009793759159309434
         ],
         "yaxis": "y"
        },
        {
         "hovertemplate": "country=Grenada<br>PIB per cápita ($)=%{x}<br>Emisiones de CO2 per capita=%{y}<extra></extra>",
         "legendgroup": "Grenada",
         "marker": {
          "color": "#4145ab",
          "opacity": 0.5,
          "size": 10,
          "symbol": "circle"
         },
         "mode": "markers",
         "name": "Grenada",
         "orientation": "v",
         "showlegend": true,
         "type": "scatter",
         "x": [
          null
         ],
         "xaxis": "x",
         "y": [
          0.0000025276357578393637
         ],
         "yaxis": "y"
        },
        {
         "hovertemplate": "country=Guadeloupe<br>PIB per cápita ($)=%{x}<br>Emisiones de CO2 per capita=%{y}<extra></extra>",
         "legendgroup": "Guadeloupe",
         "marker": {
          "color": "#4675ed",
          "opacity": 0.5,
          "size": 10,
          "symbol": "circle"
         },
         "mode": "markers",
         "name": "Guadeloupe",
         "orientation": "v",
         "showlegend": true,
         "type": "scatter",
         "x": [
          null
         ],
         "xaxis": "x",
         "y": [
          0.0000062381237177400425
         ],
         "yaxis": "y"
        },
        {
         "hovertemplate": "country=Guatemala<br>PIB per cápita ($)=%{x}<br>Emisiones de CO2 per capita=%{y}<extra></extra>",
         "legendgroup": "Guatemala",
         "marker": {
          "color": "#39a2fc",
          "opacity": 0.5,
          "size": 10,
          "symbol": "circle"
         },
         "mode": "markers",
         "name": "Guatemala",
         "orientation": "v",
         "showlegend": true,
         "type": "scatter",
         "x": [
          7569.652724814269
         ],
         "xaxis": "x",
         "y": [
          0.0000011092465740417192
         ],
         "yaxis": "y"
        },
        {
         "hovertemplate": "country=Guinea<br>PIB per cápita ($)=%{x}<br>Emisiones de CO2 per capita=%{y}<extra></extra>",
         "legendgroup": "Guinea",
         "marker": {
          "color": "#1bcfd4",
          "opacity": 0.5,
          "size": 10,
          "symbol": "circle"
         },
         "mode": "markers",
         "name": "Guinea",
         "orientation": "v",
         "showlegend": true,
         "type": "scatter",
         "x": [
          1516.966821244121
         ],
         "xaxis": "x",
         "y": [
          2.9359122845627005e-7
         ],
         "yaxis": "y"
        },
        {
         "hovertemplate": "country=Guinea-Bissau<br>PIB per cápita ($)=%{x}<br>Emisiones de CO2 per capita=%{y}<extra></extra>",
         "legendgroup": "Guinea-Bissau",
         "marker": {
          "color": "#24eca6",
          "opacity": 0.5,
          "size": 10,
          "symbol": "circle"
         },
         "mode": "markers",
         "name": "Guinea-Bissau",
         "orientation": "v",
         "showlegend": true,
         "type": "scatter",
         "x": [
          1429.8845998397883
         ],
         "xaxis": "x",
         "y": [
          1.6156230226800224e-7
         ],
         "yaxis": "y"
        },
        {
         "hovertemplate": "country=Guyana<br>PIB per cápita ($)=%{x}<br>Emisiones de CO2 per capita=%{y}<extra></extra>",
         "legendgroup": "Guyana",
         "marker": {
          "color": "#61fc6c",
          "opacity": 0.5,
          "size": 10,
          "symbol": "circle"
         },
         "mode": "markers",
         "name": "Guyana",
         "orientation": "v",
         "showlegend": true,
         "type": "scatter",
         "x": [
          null
         ],
         "xaxis": "x",
         "y": [
          0.000003158425395726132
         ],
         "yaxis": "y"
        },
        {
         "hovertemplate": "country=Haiti<br>PIB per cápita ($)=%{x}<br>Emisiones de CO2 per capita=%{y}<extra></extra>",
         "legendgroup": "Haiti",
         "marker": {
          "color": "#a4fc3b",
          "opacity": 0.5,
          "size": 10,
          "symbol": "circle"
         },
         "mode": "markers",
         "name": "Haiti",
         "orientation": "v",
         "showlegend": true,
         "type": "scatter",
         "x": [
          1693.8754387202748
         ],
         "xaxis": "x",
         "y": [
          3.06108726078275e-7
         ],
         "yaxis": "y"
        },
        {
         "hovertemplate": "country=Honduras<br>PIB per cápita ($)=%{x}<br>Emisiones de CO2 per capita=%{y}<extra></extra>",
         "legendgroup": "Honduras",
         "marker": {
          "color": "#d1e834",
          "opacity": 0.5,
          "size": 10,
          "symbol": "circle"
         },
         "mode": "markers",
         "name": "Honduras",
         "orientation": "v",
         "showlegend": true,
         "type": "scatter",
         "x": [
          4634.271695667065
         ],
         "xaxis": "x",
         "y": [
          0.00000100695874767458
         ],
         "yaxis": "y"
        },
        {
         "hovertemplate": "country=Hong Kong<br>PIB per cápita ($)=%{x}<br>Emisiones de CO2 per capita=%{y}<extra></extra>",
         "legendgroup": "Hong Kong",
         "marker": {
          "color": "#f3c63a",
          "opacity": 0.5,
          "size": 10,
          "symbol": "circle"
         },
         "mode": "markers",
         "name": "Hong Kong",
         "orientation": "v",
         "showlegend": true,
         "type": "scatter",
         "x": [
          49947.13467653751
         ],
         "xaxis": "x",
         "y": [
          0.000005694131025829763
         ],
         "yaxis": "y"
        },
        {
         "hovertemplate": "country=Hungary<br>PIB per cápita ($)=%{x}<br>Emisiones de CO2 per capita=%{y}<extra></extra>",
         "legendgroup": "Hungary",
         "marker": {
          "color": "#fe9b2d",
          "opacity": 0.5,
          "size": 10,
          "symbol": "circle"
         },
         "mode": "markers",
         "name": "Hungary",
         "orientation": "v",
         "showlegend": true,
         "type": "scatter",
         "x": [
          25615.511833083907
         ],
         "xaxis": "x",
         "y": [
          0.000005059449011753965
         ],
         "yaxis": "y"
        },
        {
         "hovertemplate": "country=Iceland<br>PIB per cápita ($)=%{x}<br>Emisiones de CO2 per capita=%{y}<extra></extra>",
         "legendgroup": "Iceland",
         "marker": {
          "color": "#f36315",
          "opacity": 0.5,
          "size": 10,
          "symbol": "circle"
         },
         "mode": "markers",
         "name": "Iceland",
         "orientation": "v",
         "showlegend": true,
         "type": "scatter",
         "x": [
          43392.03010049553
         ],
         "xaxis": "x",
         "y": [
          0.000010366878121892273
         ],
         "yaxis": "y"
        },
        {
         "hovertemplate": "country=India<br>PIB per cápita ($)=%{x}<br>Emisiones de CO2 per capita=%{y}<extra></extra>",
         "legendgroup": "India",
         "marker": {
          "color": "#d93806",
          "opacity": 0.5,
          "size": 10,
          "symbol": "circle"
         },
         "mode": "markers",
         "name": "India",
         "orientation": "v",
         "showlegend": true,
         "type": "scatter",
         "x": [
          6454.153718190112
         ],
         "xaxis": "x",
         "y": [
          0.0000018995184806221179
         ],
         "yaxis": "y"
        },
        {
         "hovertemplate": "country=Indonesia<br>PIB per cápita ($)=%{x}<br>Emisiones de CO2 per capita=%{y}<extra></extra>",
         "legendgroup": "Indonesia",
         "marker": {
          "color": "#b11901",
          "opacity": 0.5,
          "size": 10,
          "symbol": "circle"
         },
         "mode": "markers",
         "name": "Indonesia",
         "orientation": "v",
         "showlegend": true,
         "type": "scatter",
         "x": [
          11515.67905012306
         ],
         "xaxis": "x",
         "y": [
          0.000002260321730385645
         ],
         "yaxis": "y"
        },
        {
         "hovertemplate": "country=Iran<br>PIB per cápita ($)=%{x}<br>Emisiones de CO2 per capita=%{y}<extra></extra>",
         "legendgroup": "Iran",
         "marker": {
          "color": "#7a0402",
          "opacity": 0.5,
          "size": 10,
          "symbol": "circle"
         },
         "mode": "markers",
         "name": "Iran",
         "orientation": "v",
         "showlegend": true,
         "type": "scatter",
         "x": [
          16340.05855135325
         ],
         "xaxis": "x",
         "y": [
          0.000008186848585734048
         ],
         "yaxis": "y"
        },
        {
         "hovertemplate": "country=Iraq<br>PIB per cápita ($)=%{x}<br>Emisiones de CO2 per capita=%{y}<extra></extra>",
         "legendgroup": "Iraq",
         "marker": {
          "color": "#30123b",
          "opacity": 0.5,
          "size": 10,
          "symbol": "circle"
         },
         "mode": "markers",
         "name": "Iraq",
         "orientation": "v",
         "showlegend": true,
         "type": "scatter",
         "x": [
          12652.964561833129
         ],
         "xaxis": "x",
         "y": [
          0.000005258125629762483
         ],
         "yaxis": "y"
        },
        {
         "hovertemplate": "country=Ireland<br>PIB per cápita ($)=%{x}<br>Emisiones de CO2 per capita=%{y}<extra></extra>",
         "legendgroup": "Ireland",
         "marker": {
          "color": "#4145ab",
          "opacity": 0.5,
          "size": 10,
          "symbol": "circle"
         },
         "mode": "markers",
         "name": "Ireland",
         "orientation": "v",
         "showlegend": true,
         "type": "scatter",
         "x": [
          65016.29453929729
         ],
         "xaxis": "x",
         "y": [
          0.000008069490450523798
         ],
         "yaxis": "y"
        },
        {
         "hovertemplate": "country=Israel<br>PIB per cápita ($)=%{x}<br>Emisiones de CO2 per capita=%{y}<extra></extra>",
         "legendgroup": "Israel",
         "marker": {
          "color": "#4675ed",
          "opacity": 0.5,
          "size": 10,
          "symbol": "circle"
         },
         "mode": "markers",
         "name": "Israel",
         "orientation": "v",
         "showlegend": true,
         "type": "scatter",
         "x": [
          32969.510044537405
         ],
         "xaxis": "x",
         "y": [
          0.0000071255356982160556
         ],
         "yaxis": "y"
        },
        {
         "hovertemplate": "country=Italy<br>PIB per cápita ($)=%{x}<br>Emisiones de CO2 per capita=%{y}<extra></extra>",
         "legendgroup": "Italy",
         "marker": {
          "color": "#39a2fc",
          "opacity": 0.5,
          "size": 10,
          "symbol": "circle"
         },
         "mode": "markers",
         "name": "Italy",
         "orientation": "v",
         "showlegend": true,
         "type": "scatter",
         "x": [
          34691.019031277094
         ],
         "xaxis": "x",
         "y": [
          0.0000058286567800703276
         ],
         "yaxis": "y"
        },
        {
         "hovertemplate": "country=Jamaica<br>PIB per cápita ($)=%{x}<br>Emisiones de CO2 per capita=%{y}<extra></extra>",
         "legendgroup": "Jamaica",
         "marker": {
          "color": "#1bcfd4",
          "opacity": 0.5,
          "size": 10,
          "symbol": "circle"
         },
         "mode": "markers",
         "name": "Jamaica",
         "orientation": "v",
         "showlegend": true,
         "type": "scatter",
         "x": [
          6910.723387729467
         ],
         "xaxis": "x",
         "y": [
          0.000002875695007045204
         ],
         "yaxis": "y"
        },
        {
         "hovertemplate": "country=Japan<br>PIB per cápita ($)=%{x}<br>Emisiones de CO2 per capita=%{y}<extra></extra>",
         "legendgroup": "Japan",
         "marker": {
          "color": "#24eca6",
          "opacity": 0.5,
          "size": 10,
          "symbol": "circle"
         },
         "mode": "markers",
         "name": "Japan",
         "orientation": "v",
         "showlegend": true,
         "type": "scatter",
         "x": [
          38548.786014229896
         ],
         "xaxis": "x",
         "y": [
          0.000009056307495939674
         ],
         "yaxis": "y"
        },
        {
         "hovertemplate": "country=Jordan<br>PIB per cápita ($)=%{x}<br>Emisiones de CO2 per capita=%{y}<extra></extra>",
         "legendgroup": "Jordan",
         "marker": {
          "color": "#61fc6c",
          "opacity": 0.5,
          "size": 10,
          "symbol": "circle"
         },
         "mode": "markers",
         "name": "Jordan",
         "orientation": "v",
         "showlegend": true,
         "type": "scatter",
         "x": [
          10028.257542163072
         ],
         "xaxis": "x",
         "y": [
          0.00000238626429559696
         ],
         "yaxis": "y"
        },
        {
         "hovertemplate": "country=Kazakhstan<br>PIB per cápita ($)=%{x}<br>Emisiones de CO2 per capita=%{y}<extra></extra>",
         "legendgroup": "Kazakhstan",
         "marker": {
          "color": "#a4fc3b",
          "opacity": 0.5,
          "size": 10,
          "symbol": "circle"
         },
         "mode": "markers",
         "name": "Kazakhstan",
         "orientation": "v",
         "showlegend": true,
         "type": "scatter",
         "x": [
          25014.459211246027
         ],
         "xaxis": "x",
         "y": [
          0.000017899407166861763
         ],
         "yaxis": "y"
        },
        {
         "hovertemplate": "country=Kenya<br>PIB per cápita ($)=%{x}<br>Emisiones de CO2 per capita=%{y}<extra></extra>",
         "legendgroup": "Kenya",
         "marker": {
          "color": "#d1e834",
          "opacity": 0.5,
          "size": 10,
          "symbol": "circle"
         },
         "mode": "markers",
         "name": "Kenya",
         "orientation": "v",
         "showlegend": true,
         "type": "scatter",
         "x": [
          3473.362213107042
         ],
         "xaxis": "x",
         "y": [
          3.63719714213075e-7
         ],
         "yaxis": "y"
        },
        {
         "hovertemplate": "country=Kiribati<br>PIB per cápita ($)=%{x}<br>Emisiones de CO2 per capita=%{y}<extra></extra>",
         "legendgroup": "Kiribati",
         "marker": {
          "color": "#f3c63a",
          "opacity": 0.5,
          "size": 10,
          "symbol": "circle"
         },
         "mode": "markers",
         "name": "Kiribati",
         "orientation": "v",
         "showlegend": true,
         "type": "scatter",
         "x": [
          null
         ],
         "xaxis": "x",
         "y": [
          5.397625044980209e-7
         ],
         "yaxis": "y"
        },
        {
         "hovertemplate": "country=Kuwait<br>PIB per cápita ($)=%{x}<br>Emisiones de CO2 per capita=%{y}<extra></extra>",
         "legendgroup": "Kuwait",
         "marker": {
          "color": "#fe9b2d",
          "opacity": 0.5,
          "size": 10,
          "symbol": "circle"
         },
         "mode": "markers",
         "name": "Kuwait",
         "orientation": "v",
         "showlegend": true,
         "type": "scatter",
         "x": [
          64189.23906337224
         ],
         "xaxis": "x",
         "y": [
          0.000022478741959469006
         ],
         "yaxis": "y"
        },
        {
         "hovertemplate": "country=Kyrgyzstan<br>PIB per cápita ($)=%{x}<br>Emisiones de CO2 per capita=%{y}<extra></extra>",
         "legendgroup": "Kyrgyzstan",
         "marker": {
          "color": "#f36315",
          "opacity": 0.5,
          "size": 10,
          "symbol": "circle"
         },
         "mode": "markers",
         "name": "Kyrgyzstan",
         "orientation": "v",
         "showlegend": true,
         "type": "scatter",
         "x": [
          4756.348462915499
         ],
         "xaxis": "x",
         "y": [
          0.0000017843648504708684
         ],
         "yaxis": "y"
        },
        {
         "hovertemplate": "country=Laos<br>PIB per cápita ($)=%{x}<br>Emisiones de CO2 per capita=%{y}<extra></extra>",
         "legendgroup": "Laos",
         "marker": {
          "color": "#d93806",
          "opacity": 0.5,
          "size": 10,
          "symbol": "circle"
         },
         "mode": "markers",
         "name": "Laos",
         "orientation": "v",
         "showlegend": true,
         "type": "scatter",
         "x": [
          6568.1785152106795
         ],
         "xaxis": "x",
         "y": [
          0.000002893452055226398
         ],
         "yaxis": "y"
        },
        {
         "hovertemplate": "country=Latvia<br>PIB per cápita ($)=%{x}<br>Emisiones de CO2 per capita=%{y}<extra></extra>",
         "legendgroup": "Latvia",
         "marker": {
          "color": "#b11901",
          "opacity": 0.5,
          "size": 10,
          "symbol": "circle"
         },
         "mode": "markers",
         "name": "Latvia",
         "orientation": "v",
         "showlegend": true,
         "type": "scatter",
         "x": [
          24210.428097902906
         ],
         "xaxis": "x",
         "y": [
          0.000004060172594790745
         ],
         "yaxis": "y"
        },
        {
         "hovertemplate": "country=Lebanon<br>PIB per cápita ($)=%{x}<br>Emisiones de CO2 per capita=%{y}<extra></extra>",
         "legendgroup": "Lebanon",
         "marker": {
          "color": "#7a0402",
          "opacity": 0.5,
          "size": 10,
          "symbol": "circle"
         },
         "mode": "markers",
         "name": "Lebanon",
         "orientation": "v",
         "showlegend": true,
         "type": "scatter",
         "x": [
          16266.638327819828
         ],
         "xaxis": "x",
         "y": [
          0.000004403242431911316
         ],
         "yaxis": "y"
        },
        {
         "hovertemplate": "country=Lesotho<br>PIB per cápita ($)=%{x}<br>Emisiones de CO2 per capita=%{y}<extra></extra>",
         "legendgroup": "Lesotho",
         "marker": {
          "color": "#30123b",
          "opacity": 0.5,
          "size": 10,
          "symbol": "circle"
         },
         "mode": "markers",
         "name": "Lesotho",
         "orientation": "v",
         "showlegend": true,
         "type": "scatter",
         "x": [
          2438.727303994941
         ],
         "xaxis": "x",
         "y": [
          0.0000010786931934504988
         ],
         "yaxis": "y"
        },
        {
         "hovertemplate": "country=Liberia<br>PIB per cápita ($)=%{x}<br>Emisiones de CO2 per capita=%{y}<extra></extra>",
         "legendgroup": "Liberia",
         "marker": {
          "color": "#4145ab",
          "opacity": 0.5,
          "size": 10,
          "symbol": "circle"
         },
         "mode": "markers",
         "name": "Liberia",
         "orientation": "v",
         "showlegend": true,
         "type": "scatter",
         "x": [
          805.0924375935188
         ],
         "xaxis": "x",
         "y": [
          2.2129522746776905e-7
         ],
         "yaxis": "y"
        },
        {
         "hovertemplate": "country=Libya<br>PIB per cápita ($)=%{x}<br>Emisiones de CO2 per capita=%{y}<extra></extra>",
         "legendgroup": "Libya",
         "marker": {
          "color": "#4675ed",
          "opacity": 0.5,
          "size": 10,
          "symbol": "circle"
         },
         "mode": "markers",
         "name": "Libya",
         "orientation": "v",
         "showlegend": true,
         "type": "scatter",
         "x": [
          15501.583870180437
         ],
         "xaxis": "x",
         "y": [
          0.000008338645072062375
         ],
         "yaxis": "y"
        },
        {
         "hovertemplate": "country=Liechtenstein<br>PIB per cápita ($)=%{x}<br>Emisiones de CO2 per capita=%{y}<extra></extra>",
         "legendgroup": "Liechtenstein",
         "marker": {
          "color": "#39a2fc",
          "opacity": 0.5,
          "size": 10,
          "symbol": "circle"
         },
         "mode": "markers",
         "name": "Liechtenstein",
         "orientation": "v",
         "showlegend": true,
         "type": "scatter",
         "x": [
          null
         ],
         "xaxis": "x",
         "y": [
          0.0000037429655804214104
         ],
         "yaxis": "y"
        },
        {
         "hovertemplate": "country=Lithuania<br>PIB per cápita ($)=%{x}<br>Emisiones de CO2 per capita=%{y}<extra></extra>",
         "legendgroup": "Lithuania",
         "marker": {
          "color": "#1bcfd4",
          "opacity": 0.5,
          "size": 10,
          "symbol": "circle"
         },
         "mode": "markers",
         "name": "Lithuania",
         "orientation": "v",
         "showlegend": true,
         "type": "scatter",
         "x": [
          26639.121485552798
         ],
         "xaxis": "x",
         "y": [
          0.000004760219294829716
         ],
         "yaxis": "y"
        },
        {
         "hovertemplate": "country=Luxembourg<br>PIB per cápita ($)=%{x}<br>Emisiones de CO2 per capita=%{y}<extra></extra>",
         "legendgroup": "Luxembourg",
         "marker": {
          "color": "#24eca6",
          "opacity": 0.5,
          "size": 10,
          "symbol": "circle"
         },
         "mode": "markers",
         "name": "Luxembourg",
         "orientation": "v",
         "showlegend": true,
         "type": "scatter",
         "x": [
          57598.13364916437
         ],
         "xaxis": "x",
         "y": [
          0.000015737268061587052
         ],
         "yaxis": "y"
        },
        {
         "hovertemplate": "country=Macao<br>PIB per cápita ($)=%{x}<br>Emisiones de CO2 per capita=%{y}<extra></extra>",
         "legendgroup": "Macao",
         "marker": {
          "color": "#61fc6c",
          "opacity": 0.5,
          "size": 10,
          "symbol": "circle"
         },
         "mode": "markers",
         "name": "Macao",
         "orientation": "v",
         "showlegend": true,
         "type": "scatter",
         "x": [
          null
         ],
         "xaxis": "x",
         "y": [
          0.000001907845823937474
         ],
         "yaxis": "y"
        },
        {
         "hovertemplate": "country=Madagascar<br>PIB per cápita ($)=%{x}<br>Emisiones de CO2 per capita=%{y}<extra></extra>",
         "legendgroup": "Madagascar",
         "marker": {
          "color": "#a4fc3b",
          "opacity": 0.5,
          "size": 10,
          "symbol": "circle"
         },
         "mode": "markers",
         "name": "Madagascar",
         "orientation": "v",
         "showlegend": true,
         "type": "scatter",
         "x": [
          1365.759921426013
         ],
         "xaxis": "x",
         "y": [
          1.4236469319849885e-7
         ],
         "yaxis": "y"
        },
        {
         "hovertemplate": "country=Malawi<br>PIB per cápita ($)=%{x}<br>Emisiones de CO2 per capita=%{y}<extra></extra>",
         "legendgroup": "Malawi",
         "marker": {
          "color": "#d1e834",
          "opacity": 0.5,
          "size": 10,
          "symbol": "circle"
         },
         "mode": "markers",
         "name": "Malawi",
         "orientation": "v",
         "showlegend": true,
         "type": "scatter",
         "x": [
          1229.0285059478265
         ],
         "xaxis": "x",
         "y": [
          8.547526917360006e-8
         ],
         "yaxis": "y"
        },
        {
         "hovertemplate": "country=Malaysia<br>PIB per cápita ($)=%{x}<br>Emisiones de CO2 per capita=%{y}<extra></extra>",
         "legendgroup": "Malaysia",
         "marker": {
          "color": "#f3c63a",
          "opacity": 0.5,
          "size": 10,
          "symbol": "circle"
         },
         "mode": "markers",
         "name": "Malaysia",
         "orientation": "v",
         "showlegend": true,
         "type": "scatter",
         "x": [
          23878.88706480115
         ],
         "xaxis": "x",
         "y": [
          0.000008243611661620771
         ],
         "yaxis": "y"
        },
        {
         "hovertemplate": "country=Maldives<br>PIB per cápita ($)=%{x}<br>Emisiones de CO2 per capita=%{y}<extra></extra>",
         "legendgroup": "Maldives",
         "marker": {
          "color": "#fe9b2d",
          "opacity": 0.5,
          "size": 10,
          "symbol": "circle"
         },
         "mode": "markers",
         "name": "Maldives",
         "orientation": "v",
         "showlegend": true,
         "type": "scatter",
         "x": [
          null
         ],
         "xaxis": "x",
         "y": [
          0.000003552666235174254
         ],
         "yaxis": "y"
        },
        {
         "hovertemplate": "country=Mali<br>PIB per cápita ($)=%{x}<br>Emisiones de CO2 per capita=%{y}<extra></extra>",
         "legendgroup": "Mali",
         "marker": {
          "color": "#f36315",
          "opacity": 0.5,
          "size": 10,
          "symbol": "circle"
         },
         "mode": "markers",
         "name": "Mali",
         "orientation": "v",
         "showlegend": true,
         "type": "scatter",
         "x": [
          1380.616148725333
         ],
         "xaxis": "x",
         "y": [
          1.8435557118021276e-7
         ],
         "yaxis": "y"
        },
        {
         "hovertemplate": "country=Malta<br>PIB per cápita ($)=%{x}<br>Emisiones de CO2 per capita=%{y}<extra></extra>",
         "legendgroup": "Malta",
         "marker": {
          "color": "#d93806",
          "opacity": 0.5,
          "size": 10,
          "symbol": "circle"
         },
         "mode": "markers",
         "name": "Malta",
         "orientation": "v",
         "showlegend": true,
         "type": "scatter",
         "x": [
          31746.770438780284
         ],
         "xaxis": "x",
         "y": [
          0.0000031469313859110235
         ],
         "yaxis": "y"
        },
        {
         "hovertemplate": "country=Marshall Islands<br>PIB per cápita ($)=%{x}<br>Emisiones de CO2 per capita=%{y}<extra></extra>",
         "legendgroup": "Marshall Islands",
         "marker": {
          "color": "#b11901",
          "opacity": 0.5,
          "size": 10,
          "symbol": "circle"
         },
         "mode": "markers",
         "name": "Marshall Islands",
         "orientation": "v",
         "showlegend": true,
         "type": "scatter",
         "x": [
          null
         ],
         "xaxis": "x",
         "y": [
          0.0000031948187429366252
         ],
         "yaxis": "y"
        },
        {
         "hovertemplate": "country=Martinique<br>PIB per cápita ($)=%{x}<br>Emisiones de CO2 per capita=%{y}<extra></extra>",
         "legendgroup": "Martinique",
         "marker": {
          "color": "#7a0402",
          "opacity": 0.5,
          "size": 10,
          "symbol": "circle"
         },
         "mode": "markers",
         "name": "Martinique",
         "orientation": "v",
         "showlegend": true,
         "type": "scatter",
         "x": [
          null
         ],
         "xaxis": "x",
         "y": [
          0.000006045197589390758
         ],
         "yaxis": "y"
        },
        {
         "hovertemplate": "country=Mauritania<br>PIB per cápita ($)=%{x}<br>Emisiones de CO2 per capita=%{y}<extra></extra>",
         "legendgroup": "Mauritania",
         "marker": {
          "color": "#30123b",
          "opacity": 0.5,
          "size": 10,
          "symbol": "circle"
         },
         "mode": "markers",
         "name": "Mauritania",
         "orientation": "v",
         "showlegend": true,
         "type": "scatter",
         "x": [
          3109.159684427697
         ],
         "xaxis": "x",
         "y": [
          8.579355644497166e-7
         ],
         "yaxis": "y"
        },
        {
         "hovertemplate": "country=Mauritius<br>PIB per cápita ($)=%{x}<br>Emisiones de CO2 per capita=%{y}<extra></extra>",
         "legendgroup": "Mauritius",
         "marker": {
          "color": "#4145ab",
          "opacity": 0.5,
          "size": 10,
          "symbol": "circle"
         },
         "mode": "markers",
         "name": "Mauritius",
         "orientation": "v",
         "showlegend": true,
         "type": "scatter",
         "x": [
          21209.67231080157
         ],
         "xaxis": "x",
         "y": [
          0.000003484675610204217
         ],
         "yaxis": "y"
        },
        {
         "hovertemplate": "country=Mayotte<br>PIB per cápita ($)=%{x}<br>Emisiones de CO2 per capita=%{y}<extra></extra>",
         "legendgroup": "Mayotte",
         "marker": {
          "color": "#4675ed",
          "opacity": 0.5,
          "size": 10,
          "symbol": "circle"
         },
         "mode": "markers",
         "name": "Mayotte",
         "orientation": "v",
         "showlegend": true,
         "type": "scatter",
         "x": [
          null
         ],
         "xaxis": "x",
         "y": [
          0.0000010425207090554409
         ],
         "yaxis": "y"
        },
        {
         "hovertemplate": "country=Mexico<br>PIB per cápita ($)=%{x}<br>Emisiones de CO2 per capita=%{y}<extra></extra>",
         "legendgroup": "Mexico",
         "marker": {
          "color": "#39a2fc",
          "opacity": 0.5,
          "size": 10,
          "symbol": "circle"
         },
         "mode": "markers",
         "name": "Mexico",
         "orientation": "v",
         "showlegend": true,
         "type": "scatter",
         "x": [
          16180.44680191563
         ],
         "xaxis": "x",
         "y": [
          0.000003832386030645735
         ],
         "yaxis": "y"
        },
        {
         "hovertemplate": "country=Micronesia (country)<br>PIB per cápita ($)=%{x}<br>Emisiones de CO2 per capita=%{y}<extra></extra>",
         "legendgroup": "Micronesia (country)",
         "marker": {
          "color": "#1bcfd4",
          "opacity": 0.5,
          "size": 10,
          "symbol": "circle"
         },
         "mode": "markers",
         "name": "Micronesia (country)",
         "orientation": "v",
         "showlegend": true,
         "type": "scatter",
         "x": [
          null
         ],
         "xaxis": "x",
         "y": [
          0.0000012889269457839469
         ],
         "yaxis": "y"
        },
        {
         "hovertemplate": "country=Moldova<br>PIB per cápita ($)=%{x}<br>Emisiones de CO2 per capita=%{y}<extra></extra>",
         "legendgroup": "Moldova",
         "marker": {
          "color": "#24eca6",
          "opacity": 0.5,
          "size": 10,
          "symbol": "circle"
         },
         "mode": "markers",
         "name": "Moldova",
         "orientation": "v",
         "showlegend": true,
         "type": "scatter",
         "x": [
          7415.852313247115
         ],
         "xaxis": "x",
         "y": [
          0.0000017330614331288142
         ],
         "yaxis": "y"
        },
        {
         "hovertemplate": "country=Mongolia<br>PIB per cápita ($)=%{x}<br>Emisiones de CO2 per capita=%{y}<extra></extra>",
         "legendgroup": "Mongolia",
         "marker": {
          "color": "#61fc6c",
          "opacity": 0.5,
          "size": 10,
          "symbol": "circle"
         },
         "mode": "markers",
         "name": "Mongolia",
         "orientation": "v",
         "showlegend": true,
         "type": "scatter",
         "x": [
          13126.370196656504
         ],
         "xaxis": "x",
         "y": [
          0.000014322403898363905
         ],
         "yaxis": "y"
        },
        {
         "hovertemplate": "country=Montenegro<br>PIB per cápita ($)=%{x}<br>Emisiones de CO2 per capita=%{y}<extra></extra>",
         "legendgroup": "Montenegro",
         "marker": {
          "color": "#a4fc3b",
          "opacity": 0.5,
          "size": 10,
          "symbol": "circle"
         },
         "mode": "markers",
         "name": "Montenegro",
         "orientation": "v",
         "showlegend": true,
         "type": "scatter",
         "x": [
          18972.585482192826
         ],
         "xaxis": "x",
         "y": [
          0.000003800721820419061
         ],
         "yaxis": "y"
        },
        {
         "hovertemplate": "country=Montserrat<br>PIB per cápita ($)=%{x}<br>Emisiones de CO2 per capita=%{y}<extra></extra>",
         "legendgroup": "Montserrat",
         "marker": {
          "color": "#d1e834",
          "opacity": 0.5,
          "size": 10,
          "symbol": "circle"
         },
         "mode": "markers",
         "name": "Montserrat",
         "orientation": "v",
         "showlegend": true,
         "type": "scatter",
         "x": [
          null
         ],
         "xaxis": "x",
         "y": [
          0.000006619493266377539
         ],
         "yaxis": "y"
        },
        {
         "hovertemplate": "country=Morocco<br>PIB per cápita ($)=%{x}<br>Emisiones de CO2 per capita=%{y}<extra></extra>",
         "legendgroup": "Morocco",
         "marker": {
          "color": "#f3c63a",
          "opacity": 0.5,
          "size": 10,
          "symbol": "circle"
         },
         "mode": "markers",
         "name": "Morocco",
         "orientation": "v",
         "showlegend": true,
         "type": "scatter",
         "x": [
          8349.591869585418
         ],
         "xaxis": "x",
         "y": [
          0.0000017538089747145335
         ],
         "yaxis": "y"
        },
        {
         "hovertemplate": "country=Mozambique<br>PIB per cápita ($)=%{x}<br>Emisiones de CO2 per capita=%{y}<extra></extra>",
         "legendgroup": "Mozambique",
         "marker": {
          "color": "#fe9b2d",
          "opacity": 0.5,
          "size": 10,
          "symbol": "circle"
         },
         "mode": "markers",
         "name": "Mozambique",
         "orientation": "v",
         "showlegend": true,
         "type": "scatter",
         "x": [
          1000.8866849044596
         ],
         "xaxis": "x",
         "y": [
          2.4062086709020924e-7
         ],
         "yaxis": "y"
        },
        {
         "hovertemplate": "country=Myanmar<br>PIB per cápita ($)=%{x}<br>Emisiones de CO2 per capita=%{y}<extra></extra>",
         "legendgroup": "Myanmar",
         "marker": {
          "color": "#f36315",
          "opacity": 0.5,
          "size": 10,
          "symbol": "circle"
         },
         "mode": "markers",
         "name": "Myanmar",
         "orientation": "v",
         "showlegend": true,
         "type": "scatter",
         "x": [
          6030.43570077524
         ],
         "xaxis": "x",
         "y": [
          6.604448682809044e-7
         ],
         "yaxis": "y"
        },
        {
         "hovertemplate": "country=Namibia<br>PIB per cápita ($)=%{x}<br>Emisiones de CO2 per capita=%{y}<extra></extra>",
         "legendgroup": "Namibia",
         "marker": {
          "color": "#d93806",
          "opacity": 0.5,
          "size": 10,
          "symbol": "circle"
         },
         "mode": "markers",
         "name": "Namibia",
         "orientation": "v",
         "showlegend": true,
         "type": "scatter",
         "x": [
          9600.390435643614
         ],
         "xaxis": "x",
         "y": [
          0.0000017271609464592578
         ],
         "yaxis": "y"
        },
        {
         "hovertemplate": "country=Nauru<br>PIB per cápita ($)=%{x}<br>Emisiones de CO2 per capita=%{y}<extra></extra>",
         "legendgroup": "Nauru",
         "marker": {
          "color": "#b11901",
          "opacity": 0.5,
          "size": 10,
          "symbol": "circle"
         },
         "mode": "markers",
         "name": "Nauru",
         "orientation": "v",
         "showlegend": true,
         "type": "scatter",
         "x": [
          null
         ],
         "xaxis": "x",
         "y": [
          0.000004602895639802494
         ],
         "yaxis": "y"
        },
        {
         "hovertemplate": "country=Nepal<br>PIB per cápita ($)=%{x}<br>Emisiones de CO2 per capita=%{y}<extra></extra>",
         "legendgroup": "Nepal",
         "marker": {
          "color": "#7a0402",
          "opacity": 0.5,
          "size": 10,
          "symbol": "circle"
         },
         "mode": "markers",
         "name": "Nepal",
         "orientation": "v",
         "showlegend": true,
         "type": "scatter",
         "x": [
          2843.275427778112
         ],
         "xaxis": "x",
         "y": [
          5.203334877063013e-7
         ],
         "yaxis": "y"
        },
        {
         "hovertemplate": "country=Netherlands<br>PIB per cápita ($)=%{x}<br>Emisiones de CO2 per capita=%{y}<extra></extra>",
         "legendgroup": "Netherlands",
         "marker": {
          "color": "#30123b",
          "opacity": 0.5,
          "size": 10,
          "symbol": "circle"
         },
         "mode": "markers",
         "name": "Netherlands",
         "orientation": "v",
         "showlegend": true,
         "type": "scatter",
         "x": [
          47324.65671343388
         ],
         "xaxis": "x",
         "y": [
          0.000009176652469084593
         ],
         "yaxis": "y"
        },
        {
         "hovertemplate": "country=New Caledonia<br>PIB per cápita ($)=%{x}<br>Emisiones de CO2 per capita=%{y}<extra></extra>",
         "legendgroup": "New Caledonia",
         "marker": {
          "color": "#4145ab",
          "opacity": 0.5,
          "size": 10,
          "symbol": "circle"
         },
         "mode": "markers",
         "name": "New Caledonia",
         "orientation": "v",
         "showlegend": true,
         "type": "scatter",
         "x": [
          null
         ],
         "xaxis": "x",
         "y": [
          0.000018765335027572336
         ],
         "yaxis": "y"
        },
        {
         "hovertemplate": "country=New Zealand<br>PIB per cápita ($)=%{x}<br>Emisiones de CO2 per capita=%{y}<extra></extra>",
         "legendgroup": "New Zealand",
         "marker": {
          "color": "#4675ed",
          "opacity": 0.5,
          "size": 10,
          "symbol": "circle"
         },
         "mode": "markers",
         "name": "New Zealand",
         "orientation": "v",
         "showlegend": true,
         "type": "scatter",
         "x": [
          35344.13502288299
         ],
         "xaxis": "x",
         "y": [
          0.000007379310401841221
         ],
         "yaxis": "y"
        },
        {
         "hovertemplate": "country=Nicaragua<br>PIB per cápita ($)=%{x}<br>Emisiones de CO2 per capita=%{y}<extra></extra>",
         "legendgroup": "Nicaragua",
         "marker": {
          "color": "#39a2fc",
          "opacity": 0.5,
          "size": 10,
          "symbol": "circle"
         },
         "mode": "markers",
         "name": "Nicaragua",
         "orientation": "v",
         "showlegend": true,
         "type": "scatter",
         "x": [
          4585.48479923265
         ],
         "xaxis": "x",
         "y": [
          7.910552180582737e-7
         ],
         "yaxis": "y"
        },
        {
         "hovertemplate": "country=Niger<br>PIB per cápita ($)=%{x}<br>Emisiones de CO2 per capita=%{y}<extra></extra>",
         "legendgroup": "Niger",
         "marker": {
          "color": "#1bcfd4",
          "opacity": 0.5,
          "size": 10,
          "symbol": "circle"
         },
         "mode": "markers",
         "name": "Niger",
         "orientation": "v",
         "showlegend": true,
         "type": "scatter",
         "x": [
          907.2679386952951
         ],
         "xaxis": "x",
         "y": [
          7.941689484813346e-8
         ],
         "yaxis": "y"
        },
        {
         "hovertemplate": "country=Nigeria<br>PIB per cápita ($)=%{x}<br>Emisiones de CO2 per capita=%{y}<extra></extra>",
         "legendgroup": "Nigeria",
         "marker": {
          "color": "#24eca6",
          "opacity": 0.5,
          "size": 10,
          "symbol": "circle"
         },
         "mode": "markers",
         "name": "Nigeria",
         "orientation": "v",
         "showlegend": true,
         "type": "scatter",
         "x": [
          5347.137873283381
         ],
         "xaxis": "x",
         "y": [
          5.304262540258562e-7
         ],
         "yaxis": "y"
        },
        {
         "hovertemplate": "country=Niue<br>PIB per cápita ($)=%{x}<br>Emisiones de CO2 per capita=%{y}<extra></extra>",
         "legendgroup": "Niue",
         "marker": {
          "color": "#61fc6c",
          "opacity": 0.5,
          "size": 10,
          "symbol": "circle"
         },
         "mode": "markers",
         "name": "Niue",
         "orientation": "v",
         "showlegend": true,
         "type": "scatter",
         "x": [
          null
         ],
         "xaxis": "x",
         "y": [
          0.000005768222338751966
         ],
         "yaxis": "y"
        },
        {
         "hovertemplate": "country=North Korea<br>PIB per cápita ($)=%{x}<br>Emisiones de CO2 per capita=%{y}<extra></extra>",
         "legendgroup": "North Korea",
         "marker": {
          "color": "#a4fc3b",
          "opacity": 0.5,
          "size": 10,
          "symbol": "circle"
         },
         "mode": "markers",
         "name": "North Korea",
         "orientation": "v",
         "showlegend": true,
         "type": "scatter",
         "x": [
          1580.3454314491935
         ],
         "xaxis": "x",
         "y": [
          0.0000018577782049189818
         ],
         "yaxis": "y"
        },
        {
         "hovertemplate": "country=North Macedonia<br>PIB per cápita ($)=%{x}<br>Emisiones de CO2 per capita=%{y}<extra></extra>",
         "legendgroup": "North Macedonia",
         "marker": {
          "color": "#d1e834",
          "opacity": 0.5,
          "size": 10,
          "symbol": "circle"
         },
         "mode": "markers",
         "name": "North Macedonia",
         "orientation": "v",
         "showlegend": true,
         "type": "scatter",
         "x": [
          13107.93276545933
         ],
         "xaxis": "x",
         "y": [
          0.000003326713972151368
         ],
         "yaxis": "y"
        },
        {
         "hovertemplate": "country=Norway<br>PIB per cápita ($)=%{x}<br>Emisiones de CO2 per capita=%{y}<extra></extra>",
         "legendgroup": "Norway",
         "marker": {
          "color": "#f3c63a",
          "opacity": 0.5,
          "size": 10,
          "symbol": "circle"
         },
         "mode": "markers",
         "name": "Norway",
         "orientation": "v",
         "showlegend": true,
         "type": "scatter",
         "x": [
          84584.30858827996
         ],
         "xaxis": "x",
         "y": [
          0.00000835661098039821
         ],
         "yaxis": "y"
        },
        {
         "hovertemplate": "country=Oman<br>PIB per cápita ($)=%{x}<br>Emisiones de CO2 per capita=%{y}<extra></extra>",
         "legendgroup": "Oman",
         "marker": {
          "color": "#fe9b2d",
          "opacity": 0.5,
          "size": 10,
          "symbol": "circle"
         },
         "mode": "markers",
         "name": "Oman",
         "orientation": "v",
         "showlegend": true,
         "type": "scatter",
         "x": [
          37459.73229011815
         ],
         "xaxis": "x",
         "y": [
          0.00001576906693094785
         ],
         "yaxis": "y"
        },
        {
         "hovertemplate": "country=Pakistan<br>PIB per cápita ($)=%{x}<br>Emisiones de CO2 per capita=%{y}<extra></extra>",
         "legendgroup": "Pakistan",
         "marker": {
          "color": "#f36315",
          "opacity": 0.5,
          "size": 10,
          "symbol": "circle"
         },
         "mode": "markers",
         "name": "Pakistan",
         "orientation": "v",
         "showlegend": true,
         "type": "scatter",
         "x": [
          5516.235107022986
         ],
         "xaxis": "x",
         "y": [
          9.332344757070048e-7
         ],
         "yaxis": "y"
        },
        {
         "hovertemplate": "country=Palau<br>PIB per cápita ($)=%{x}<br>Emisiones de CO2 per capita=%{y}<extra></extra>",
         "legendgroup": "Palau",
         "marker": {
          "color": "#d93806",
          "opacity": 0.5,
          "size": 10,
          "symbol": "circle"
         },
         "mode": "markers",
         "name": "Palau",
         "orientation": "v",
         "showlegend": true,
         "type": "scatter",
         "x": [
          null
         ],
         "xaxis": "x",
         "y": [
          0.000011908089674064962
         ],
         "yaxis": "y"
        },
        {
         "hovertemplate": "country=Palestine<br>PIB per cápita ($)=%{x}<br>Emisiones de CO2 per capita=%{y}<extra></extra>",
         "legendgroup": "Palestine",
         "marker": {
          "color": "#b11901",
          "opacity": 0.5,
          "size": 10,
          "symbol": "circle"
         },
         "mode": "markers",
         "name": "Palestine",
         "orientation": "v",
         "showlegend": true,
         "type": "scatter",
         "x": [
          5001.3461288189965
         ],
         "xaxis": "x",
         "y": [
          6.157465047177752e-7
         ],
         "yaxis": "y"
        },
        {
         "hovertemplate": "country=Panama<br>PIB per cápita ($)=%{x}<br>Emisiones de CO2 per capita=%{y}<extra></extra>",
         "legendgroup": "Panama",
         "marker": {
          "color": "#7a0402",
          "opacity": 0.5,
          "size": 10,
          "symbol": "circle"
         },
         "mode": "markers",
         "name": "Panama",
         "orientation": "v",
         "showlegend": true,
         "type": "scatter",
         "x": [
          20655.561485026858
         ],
         "xaxis": "x",
         "y": [
          0.0000025851940023883276
         ],
         "yaxis": "y"
        },
        {
         "hovertemplate": "country=Papua New Guinea<br>PIB per cápita ($)=%{x}<br>Emisiones de CO2 per capita=%{y}<extra></extra>",
         "legendgroup": "Papua New Guinea",
         "marker": {
          "color": "#30123b",
          "opacity": 0.5,
          "size": 10,
          "symbol": "circle"
         },
         "mode": "markers",
         "name": "Papua New Guinea",
         "orientation": "v",
         "showlegend": true,
         "type": "scatter",
         "x": [
          null
         ],
         "xaxis": "x",
         "y": [
          8.06389978683135e-7
         ],
         "yaxis": "y"
        },
        {
         "hovertemplate": "country=Paraguay<br>PIB per cápita ($)=%{x}<br>Emisiones de CO2 per capita=%{y}<extra></extra>",
         "legendgroup": "Paraguay",
         "marker": {
          "color": "#4145ab",
          "opacity": 0.5,
          "size": 10,
          "symbol": "circle"
         },
         "mode": "markers",
         "name": "Paraguay",
         "orientation": "v",
         "showlegend": true,
         "type": "scatter",
         "x": [
          10288.591606492102
         ],
         "xaxis": "x",
         "y": [
          0.0000013204338062715017
         ],
         "yaxis": "y"
        },
        {
         "hovertemplate": "country=Peru<br>PIB per cápita ($)=%{x}<br>Emisiones de CO2 per capita=%{y}<extra></extra>",
         "legendgroup": "Peru",
         "marker": {
          "color": "#4675ed",
          "opacity": 0.5,
          "size": 10,
          "symbol": "circle"
         },
         "mode": "markers",
         "name": "Peru",
         "orientation": "v",
         "showlegend": true,
         "type": "scatter",
         "x": [
          11995.924591849707
         ],
         "xaxis": "x",
         "y": [
          0.0000017129267326432605
         ],
         "yaxis": "y"
        },
        {
         "hovertemplate": "country=Philippines<br>PIB per cápita ($)=%{x}<br>Emisiones de CO2 per capita=%{y}<extra></extra>",
         "legendgroup": "Philippines",
         "marker": {
          "color": "#39a2fc",
          "opacity": 0.5,
          "size": 10,
          "symbol": "circle"
         },
         "mode": "markers",
         "name": "Philippines",
         "orientation": "v",
         "showlegend": true,
         "type": "scatter",
         "x": [
          8404.285321518426
         ],
         "xaxis": "x",
         "y": [
          0.0000013063049255241138
         ],
         "yaxis": "y"
        },
        {
         "hovertemplate": "country=Poland<br>PIB per cápita ($)=%{x}<br>Emisiones de CO2 per capita=%{y}<extra></extra>",
         "legendgroup": "Poland",
         "marker": {
          "color": "#1bcfd4",
          "opacity": 0.5,
          "size": 10,
          "symbol": "circle"
         },
         "mode": "markers",
         "name": "Poland",
         "orientation": "v",
         "showlegend": true,
         "type": "scatter",
         "x": [
          27347.853082219306
         ],
         "xaxis": "x",
         "y": [
          0.000008749615539014821
         ],
         "yaxis": "y"
        },
        {
         "hovertemplate": "country=Portugal<br>PIB per cápita ($)=%{x}<br>Emisiones de CO2 per capita=%{y}<extra></extra>",
         "legendgroup": "Portugal",
         "marker": {
          "color": "#24eca6",
          "opacity": 0.5,
          "size": 10,
          "symbol": "circle"
         },
         "mode": "markers",
         "name": "Portugal",
         "orientation": "v",
         "showlegend": true,
         "type": "scatter",
         "x": [
          26855.983650657887
         ],
         "xaxis": "x",
         "y": [
          0.000005000955797824902
         ],
         "yaxis": "y"
        },
        {
         "hovertemplate": "country=Reunion<br>PIB per cápita ($)=%{x}<br>Emisiones de CO2 per capita=%{y}<extra></extra>",
         "legendgroup": "Reunion",
         "marker": {
          "color": "#61fc6c",
          "opacity": 0.5,
          "size": 10,
          "symbol": "circle"
         },
         "mode": "markers",
         "name": "Reunion",
         "orientation": "v",
         "showlegend": true,
         "type": "scatter",
         "x": [
          null
         ],
         "xaxis": "x",
         "y": [
          0.000004702562397138088
         ],
         "yaxis": "y"
        },
        {
         "hovertemplate": "country=Romania<br>PIB per cápita ($)=%{x}<br>Emisiones de CO2 per capita=%{y}<extra></extra>",
         "legendgroup": "Romania",
         "marker": {
          "color": "#a4fc3b",
          "opacity": 0.5,
          "size": 10,
          "symbol": "circle"
         },
         "mode": "markers",
         "name": "Romania",
         "orientation": "v",
         "showlegend": true,
         "type": "scatter",
         "x": [
          19699.130654511413
         ],
         "xaxis": "x",
         "y": [
          0.000004106539075415655
         ],
         "yaxis": "y"
        },
        {
         "hovertemplate": "country=Russia<br>PIB per cápita ($)=%{x}<br>Emisiones de CO2 per capita=%{y}<extra></extra>",
         "legendgroup": "Russia",
         "marker": {
          "color": "#d1e834",
          "opacity": 0.5,
          "size": 10,
          "symbol": "circle"
         },
         "mode": "markers",
         "name": "Russia",
         "orientation": "v",
         "showlegend": true,
         "type": "scatter",
         "x": [
          24808.47029088894
         ],
         "xaxis": "x",
         "y": [
          0.00001167474279566415
         ],
         "yaxis": "y"
        },
        {
         "hovertemplate": "country=Rwanda<br>PIB per cápita ($)=%{x}<br>Emisiones de CO2 per capita=%{y}<extra></extra>",
         "legendgroup": "Rwanda",
         "marker": {
          "color": "#f3c63a",
          "opacity": 0.5,
          "size": 10,
          "symbol": "circle"
         },
         "mode": "markers",
         "name": "Rwanda",
         "orientation": "v",
         "showlegend": true,
         "type": "scatter",
         "x": [
          1834.4452065583503
         ],
         "xaxis": "x",
         "y": [
          1.0221987087260339e-7
         ],
         "yaxis": "y"
        },
        {
         "hovertemplate": "country=Saint Helena<br>PIB per cápita ($)=%{x}<br>Emisiones de CO2 per capita=%{y}<extra></extra>",
         "legendgroup": "Saint Helena",
         "marker": {
          "color": "#fe9b2d",
          "opacity": 0.5,
          "size": 10,
          "symbol": "circle"
         },
         "mode": "markers",
         "name": "Saint Helena",
         "orientation": "v",
         "showlegend": true,
         "type": "scatter",
         "x": [
          null
         ],
         "xaxis": "x",
         "y": [
          0.000002002184200946487
         ],
         "yaxis": "y"
        },
        {
         "hovertemplate": "country=Saint Kitts and Nevis<br>PIB per cápita ($)=%{x}<br>Emisiones de CO2 per capita=%{y}<extra></extra>",
         "legendgroup": "Saint Kitts and Nevis",
         "marker": {
          "color": "#f36315",
          "opacity": 0.5,
          "size": 10,
          "symbol": "circle"
         },
         "mode": "markers",
         "name": "Saint Kitts and Nevis",
         "orientation": "v",
         "showlegend": true,
         "type": "scatter",
         "x": [
          null
         ],
         "xaxis": "x",
         "y": [
          0.000005126917362462594
         ],
         "yaxis": "y"
        },
        {
         "hovertemplate": "country=Saint Lucia<br>PIB per cápita ($)=%{x}<br>Emisiones de CO2 per capita=%{y}<extra></extra>",
         "legendgroup": "Saint Lucia",
         "marker": {
          "color": "#d93806",
          "opacity": 0.5,
          "size": 10,
          "symbol": "circle"
         },
         "mode": "markers",
         "name": "Saint Lucia",
         "orientation": "v",
         "showlegend": true,
         "type": "scatter",
         "x": [
          9746.131426579874
         ],
         "xaxis": "x",
         "y": [
          0.000002861254454900109
         ],
         "yaxis": "y"
        },
        {
         "hovertemplate": "country=Saint Pierre and Miquelon<br>PIB per cápita ($)=%{x}<br>Emisiones de CO2 per capita=%{y}<extra></extra>",
         "legendgroup": "Saint Pierre and Miquelon",
         "marker": {
          "color": "#b11901",
          "opacity": 0.5,
          "size": 10,
          "symbol": "circle"
         },
         "mode": "markers",
         "name": "Saint Pierre and Miquelon",
         "orientation": "v",
         "showlegend": true,
         "type": "scatter",
         "x": [
          null
         ],
         "xaxis": "x",
         "y": [
          0.000009884402747528899
         ],
         "yaxis": "y"
        },
        {
         "hovertemplate": "country=Saint Vincent and the Grenadines<br>PIB per cápita ($)=%{x}<br>Emisiones de CO2 per capita=%{y}<extra></extra>",
         "legendgroup": "Saint Vincent and the Grenadines",
         "marker": {
          "color": "#7a0402",
          "opacity": 0.5,
          "size": 10,
          "symbol": "circle"
         },
         "mode": "markers",
         "name": "Saint Vincent and the Grenadines",
         "orientation": "v",
         "showlegend": true,
         "type": "scatter",
         "x": [
          null
         ],
         "xaxis": "x",
         "y": [
          0.0000022982611090534392
         ],
         "yaxis": "y"
        },
        {
         "hovertemplate": "country=Samoa<br>PIB per cápita ($)=%{x}<br>Emisiones de CO2 per capita=%{y}<extra></extra>",
         "legendgroup": "Samoa",
         "marker": {
          "color": "#30123b",
          "opacity": 0.5,
          "size": 10,
          "symbol": "circle"
         },
         "mode": "markers",
         "name": "Samoa",
         "orientation": "v",
         "showlegend": true,
         "type": "scatter",
         "x": [
          null
         ],
         "xaxis": "x",
         "y": [
          0.0000011348735188231646
         ],
         "yaxis": "y"
        },
        {
         "hovertemplate": "country=Sao Tome and Principe<br>PIB per cápita ($)=%{x}<br>Emisiones de CO2 per capita=%{y}<extra></extra>",
         "legendgroup": "Sao Tome and Principe",
         "marker": {
          "color": "#4145ab",
          "opacity": 0.5,
          "size": 10,
          "symbol": "circle"
         },
         "mode": "markers",
         "name": "Sao Tome and Principe",
         "orientation": "v",
         "showlegend": true,
         "type": "scatter",
         "x": [
          3608.357535555787
         ],
         "xaxis": "x",
         "y": [
          6.245327832398112e-7
         ],
         "yaxis": "y"
        },
        {
         "hovertemplate": "country=Saudi Arabia<br>PIB per cápita ($)=%{x}<br>Emisiones de CO2 per capita=%{y}<extra></extra>",
         "legendgroup": "Saudi Arabia",
         "marker": {
          "color": "#4675ed",
          "opacity": 0.5,
          "size": 10,
          "symbol": "circle"
         },
         "mode": "markers",
         "name": "Saudi Arabia",
         "orientation": "v",
         "showlegend": true,
         "type": "scatter",
         "x": [
          47899.14572302144
         ],
         "xaxis": "x",
         "y": [
          0.000017881907578622414
         ],
         "yaxis": "y"
        },
        {
         "hovertemplate": "country=Senegal<br>PIB per cápita ($)=%{x}<br>Emisiones de CO2 per capita=%{y}<extra></extra>",
         "legendgroup": "Senegal",
         "marker": {
          "color": "#39a2fc",
          "opacity": 0.5,
          "size": 10,
          "symbol": "circle"
         },
         "mode": "markers",
         "name": "Senegal",
         "orientation": "v",
         "showlegend": true,
         "type": "scatter",
         "x": [
          2748.365609046858
         ],
         "xaxis": "x",
         "y": [
          7.274520366409822e-7
         ],
         "yaxis": "y"
        },
        {
         "hovertemplate": "country=Serbia<br>PIB per cápita ($)=%{x}<br>Emisiones de CO2 per capita=%{y}<extra></extra>",
         "legendgroup": "Serbia",
         "marker": {
          "color": "#1bcfd4",
          "opacity": 0.5,
          "size": 10,
          "symbol": "circle"
         },
         "mode": "markers",
         "name": "Serbia",
         "orientation": "v",
         "showlegend": true,
         "type": "scatter",
         "x": [
          13448.265871203586
         ],
         "xaxis": "x",
         "y": [
          0.000005961937495165679
         ],
         "yaxis": "y"
        },
        {
         "hovertemplate": "country=Seychelles<br>PIB per cápita ($)=%{x}<br>Emisiones de CO2 per capita=%{y}<extra></extra>",
         "legendgroup": "Seychelles",
         "marker": {
          "color": "#24eca6",
          "opacity": 0.5,
          "size": 10,
          "symbol": "circle"
         },
         "mode": "markers",
         "name": "Seychelles",
         "orientation": "v",
         "showlegend": true,
         "type": "scatter",
         "x": [
          27100.59146625291
         ],
         "xaxis": "x",
         "y": [
          0.000005828161365399534
         ],
         "yaxis": "y"
        },
        {
         "hovertemplate": "country=Sierra Leone<br>PIB per cápita ($)=%{x}<br>Emisiones de CO2 per capita=%{y}<extra></extra>",
         "legendgroup": "Sierra Leone",
         "marker": {
          "color": "#61fc6c",
          "opacity": 0.5,
          "size": 10,
          "symbol": "circle"
         },
         "mode": "markers",
         "name": "Sierra Leone",
         "orientation": "v",
         "showlegend": true,
         "type": "scatter",
         "x": [
          1352.0452658705883
         ],
         "xaxis": "x",
         "y": [
          1.3191224286812068e-7
         ],
         "yaxis": "y"
        },
        {
         "hovertemplate": "country=Singapore<br>PIB per cápita ($)=%{x}<br>Emisiones de CO2 per capita=%{y}<extra></extra>",
         "legendgroup": "Singapore",
         "marker": {
          "color": "#a4fc3b",
          "opacity": 0.5,
          "size": 10,
          "symbol": "circle"
         },
         "mode": "markers",
         "name": "Singapore",
         "orientation": "v",
         "showlegend": true,
         "type": "scatter",
         "x": [
          70536.9025218319
         ],
         "xaxis": "x",
         "y": [
          0.000007914637487417327
         ],
         "yaxis": "y"
        },
        {
         "hovertemplate": "country=Sint Maarten (Dutch part)<br>PIB per cápita ($)=%{x}<br>Emisiones de CO2 per capita=%{y}<extra></extra>",
         "legendgroup": "Sint Maarten (Dutch part)",
         "marker": {
          "color": "#d1e834",
          "opacity": 0.5,
          "size": 10,
          "symbol": "circle"
         },
         "mode": "markers",
         "name": "Sint Maarten (Dutch part)",
         "orientation": "v",
         "showlegend": true,
         "type": "scatter",
         "x": [
          null
         ],
         "xaxis": "x",
         "y": [
          0.00001630074761048547
         ],
         "yaxis": "y"
        },
        {
         "hovertemplate": "country=Slovakia<br>PIB per cápita ($)=%{x}<br>Emisiones de CO2 per capita=%{y}<extra></extra>",
         "legendgroup": "Slovakia",
         "marker": {
          "color": "#f3c63a",
          "opacity": 0.5,
          "size": 10,
          "symbol": "circle"
         },
         "mode": "markers",
         "name": "Slovakia",
         "orientation": "v",
         "showlegend": true,
         "type": "scatter",
         "x": [
          26888.799534988415
         ],
         "xaxis": "x",
         "y": [
          0.000006628361227051895
         ],
         "yaxis": "y"
        },
        {
         "hovertemplate": "country=Slovenia<br>PIB per cápita ($)=%{x}<br>Emisiones de CO2 per capita=%{y}<extra></extra>",
         "legendgroup": "Slovenia",
         "marker": {
          "color": "#fe9b2d",
          "opacity": 0.5,
          "size": 10,
          "symbol": "circle"
         },
         "mode": "markers",
         "name": "Slovenia",
         "orientation": "v",
         "showlegend": true,
         "type": "scatter",
         "x": [
          28699.838541718604
         ],
         "xaxis": "x",
         "y": [
          0.000006898136738573106
         ],
         "yaxis": "y"
        },
        {
         "hovertemplate": "country=Solomon Islands<br>PIB per cápita ($)=%{x}<br>Emisiones de CO2 per capita=%{y}<extra></extra>",
         "legendgroup": "Solomon Islands",
         "marker": {
          "color": "#f36315",
          "opacity": 0.5,
          "size": 10,
          "symbol": "circle"
         },
         "mode": "markers",
         "name": "Solomon Islands",
         "orientation": "v",
         "showlegend": true,
         "type": "scatter",
         "x": [
          null
         ],
         "xaxis": "x",
         "y": [
          4.3837095890992764e-7
         ],
         "yaxis": "y"
        },
        {
         "hovertemplate": "country=South Africa<br>PIB per cápita ($)=%{x}<br>Emisiones de CO2 per capita=%{y}<extra></extra>",
         "legendgroup": "South Africa",
         "marker": {
          "color": "#d93806",
          "opacity": 0.5,
          "size": 10,
          "symbol": "circle"
         },
         "mode": "markers",
         "name": "South Africa",
         "orientation": "v",
         "showlegend": true,
         "type": "scatter",
         "x": [
          11741.829254293087
         ],
         "xaxis": "x",
         "y": [
          0.00000759050912639272
         ],
         "yaxis": "y"
        },
        {
         "hovertemplate": "country=South Korea<br>PIB per cápita ($)=%{x}<br>Emisiones de CO2 per capita=%{y}<extra></extra>",
         "legendgroup": "South Korea",
         "marker": {
          "color": "#b11901",
          "opacity": 0.5,
          "size": 10,
          "symbol": "circle"
         },
         "mode": "markers",
         "name": "South Korea",
         "orientation": "v",
         "showlegend": true,
         "type": "scatter",
         "x": [
          37896.857259471835
         ],
         "xaxis": "x",
         "y": [
          0.000012968444314577692
         ],
         "yaxis": "y"
        },
        {
         "hovertemplate": "country=South Sudan<br>PIB per cápita ($)=%{x}<br>Emisiones de CO2 per capita=%{y}<extra></extra>",
         "legendgroup": "South Sudan",
         "marker": {
          "color": "#7a0402",
          "opacity": 0.5,
          "size": 10,
          "symbol": "circle"
         },
         "mode": "markers",
         "name": "South Sudan",
         "orientation": "v",
         "showlegend": true,
         "type": "scatter",
         "x": [
          null
         ],
         "xaxis": "x",
         "y": [
          1.4419933870317948e-7
         ],
         "yaxis": "y"
        },
        {
         "hovertemplate": "country=Spain<br>PIB per cápita ($)=%{x}<br>Emisiones de CO2 per capita=%{y}<extra></extra>",
         "legendgroup": "Spain",
         "marker": {
          "color": "#30123b",
          "opacity": 0.5,
          "size": 10,
          "symbol": "circle"
         },
         "mode": "markers",
         "name": "Spain",
         "orientation": "v",
         "showlegend": true,
         "type": "scatter",
         "x": [
          31892.178122930472
         ],
         "xaxis": "x",
         "y": [
          0.000005771323005252774
         ],
         "yaxis": "y"
        },
        {
         "hovertemplate": "country=Sri Lanka<br>PIB per cápita ($)=%{x}<br>Emisiones de CO2 per capita=%{y}<extra></extra>",
         "legendgroup": "Sri Lanka",
         "marker": {
          "color": "#4145ab",
          "opacity": 0.5,
          "size": 10,
          "symbol": "circle"
         },
         "mode": "markers",
         "name": "Sri Lanka",
         "orientation": "v",
         "showlegend": true,
         "type": "scatter",
         "x": [
          11744.614249242564
         ],
         "xaxis": "x",
         "y": [
          9.728594682140238e-7
         ],
         "yaxis": "y"
        },
        {
         "hovertemplate": "country=Sudan<br>PIB per cápita ($)=%{x}<br>Emisiones de CO2 per capita=%{y}<extra></extra>",
         "legendgroup": "Sudan",
         "marker": {
          "color": "#4675ed",
          "opacity": 0.5,
          "size": 10,
          "symbol": "circle"
         },
         "mode": "markers",
         "name": "Sudan",
         "orientation": "v",
         "showlegend": true,
         "type": "scatter",
         "x": [
          null
         ],
         "xaxis": "x",
         "y": [
          5.205830301361002e-7
         ],
         "yaxis": "y"
        },
        {
         "hovertemplate": "country=Suriname<br>PIB per cápita ($)=%{x}<br>Emisiones de CO2 per capita=%{y}<extra></extra>",
         "legendgroup": "Suriname",
         "marker": {
          "color": "#39a2fc",
          "opacity": 0.5,
          "size": 10,
          "symbol": "circle"
         },
         "mode": "markers",
         "name": "Suriname",
         "orientation": "v",
         "showlegend": true,
         "type": "scatter",
         "x": [
          null
         ],
         "xaxis": "x",
         "y": [
          0.0000031479008099654895
         ],
         "yaxis": "y"
        },
        {
         "hovertemplate": "country=Sweden<br>PIB per cápita ($)=%{x}<br>Emisiones de CO2 per capita=%{y}<extra></extra>",
         "legendgroup": "Sweden",
         "marker": {
          "color": "#1bcfd4",
          "opacity": 0.5,
          "size": 10,
          "symbol": "circle"
         },
         "mode": "markers",
         "name": "Sweden",
         "orientation": "v",
         "showlegend": true,
         "type": "scatter",
         "x": [
          45600.64631668028
         ],
         "xaxis": "x",
         "y": [
          0.000004142270942601576
         ],
         "yaxis": "y"
        },
        {
         "hovertemplate": "country=Switzerland<br>PIB per cápita ($)=%{x}<br>Emisiones de CO2 per capita=%{y}<extra></extra>",
         "legendgroup": "Switzerland",
         "marker": {
          "color": "#24eca6",
          "opacity": 0.5,
          "size": 10,
          "symbol": "circle"
         },
         "mode": "markers",
         "name": "Switzerland",
         "orientation": "v",
         "showlegend": true,
         "type": "scatter",
         "x": [
          62478.7664293715
         ],
         "xaxis": "x",
         "y": [
          0.000004330765027046435
         ],
         "yaxis": "y"
        },
        {
         "hovertemplate": "country=Syria<br>PIB per cápita ($)=%{x}<br>Emisiones de CO2 per capita=%{y}<extra></extra>",
         "legendgroup": "Syria",
         "marker": {
          "color": "#61fc6c",
          "opacity": 0.5,
          "size": 10,
          "symbol": "circle"
         },
         "mode": "markers",
         "name": "Syria",
         "orientation": "v",
         "showlegend": true,
         "type": "scatter",
         "x": [
          2933.2878495028103
         ],
         "xaxis": "x",
         "y": [
          0.0000015636101218074527
         ],
         "yaxis": "y"
        },
        {
         "hovertemplate": "country=Taiwan<br>PIB per cápita ($)=%{x}<br>Emisiones de CO2 per capita=%{y}<extra></extra>",
         "legendgroup": "Taiwan",
         "marker": {
          "color": "#a4fc3b",
          "opacity": 0.5,
          "size": 10,
          "symbol": "circle"
         },
         "mode": "markers",
         "name": "Taiwan",
         "orientation": "v",
         "showlegend": true,
         "type": "scatter",
         "x": [
          43907.165426082385
         ],
         "xaxis": "x",
         "y": [
          0.000011921132203886457
         ],
         "yaxis": "y"
        },
        {
         "hovertemplate": "country=Tajikistan<br>PIB per cápita ($)=%{x}<br>Emisiones de CO2 per capita=%{y}<extra></extra>",
         "legendgroup": "Tajikistan",
         "marker": {
          "color": "#d1e834",
          "opacity": 0.5,
          "size": 10,
          "symbol": "circle"
         },
         "mode": "markers",
         "name": "Tajikistan",
         "orientation": "v",
         "showlegend": true,
         "type": "scatter",
         "x": [
          4185.583008832805
         ],
         "xaxis": "x",
         "y": [
          9.977946197310272e-7
         ],
         "yaxis": "y"
        },
        {
         "hovertemplate": "country=Tanzania<br>PIB per cápita ($)=%{x}<br>Emisiones de CO2 per capita=%{y}<extra></extra>",
         "legendgroup": "Tanzania",
         "marker": {
          "color": "#f3c63a",
          "opacity": 0.5,
          "size": 10,
          "symbol": "circle"
         },
         "mode": "markers",
         "name": "Tanzania",
         "orientation": "v",
         "showlegend": true,
         "type": "scatter",
         "x": [
          2789.65858136667
         ],
         "xaxis": "x",
         "y": [
          2.0290772781836546e-7
         ],
         "yaxis": "y"
        },
        {
         "hovertemplate": "country=Thailand<br>PIB per cápita ($)=%{x}<br>Emisiones de CO2 per capita=%{y}<extra></extra>",
         "legendgroup": "Thailand",
         "marker": {
          "color": "#fe9b2d",
          "opacity": 0.5,
          "size": 10,
          "symbol": "circle"
         },
         "mode": "markers",
         "name": "Thailand",
         "orientation": "v",
         "showlegend": true,
         "type": "scatter",
         "x": [
          15802.988363932149
         ],
         "xaxis": "x",
         "y": [
          0.000003966170305712219
         ],
         "yaxis": "y"
        },
        {
         "hovertemplate": "country=Timor<br>PIB per cápita ($)=%{x}<br>Emisiones de CO2 per capita=%{y}<extra></extra>",
         "legendgroup": "Timor",
         "marker": {
          "color": "#f36315",
          "opacity": 0.5,
          "size": 10,
          "symbol": "circle"
         },
         "mode": "markers",
         "name": "Timor",
         "orientation": "v",
         "showlegend": true,
         "type": "scatter",
         "x": [
          null
         ],
         "xaxis": "x",
         "y": [
          5.024368982050165e-7
         ],
         "yaxis": "y"
        },
        {
         "hovertemplate": "country=Togo<br>PIB per cápita ($)=%{x}<br>Emisiones de CO2 per capita=%{y}<extra></extra>",
         "legendgroup": "Togo",
         "marker": {
          "color": "#d93806",
          "opacity": 0.5,
          "size": 10,
          "symbol": "circle"
         },
         "mode": "markers",
         "name": "Togo",
         "orientation": "v",
         "showlegend": true,
         "type": "scatter",
         "x": [
          1474.7670224241551
         ],
         "xaxis": "x",
         "y": [
          2.7439888252049295e-7
         ],
         "yaxis": "y"
        },
        {
         "hovertemplate": "country=Tonga<br>PIB per cápita ($)=%{x}<br>Emisiones de CO2 per capita=%{y}<extra></extra>",
         "legendgroup": "Tonga",
         "marker": {
          "color": "#b11901",
          "opacity": 0.5,
          "size": 10,
          "symbol": "circle"
         },
         "mode": "markers",
         "name": "Tonga",
         "orientation": "v",
         "showlegend": true,
         "type": "scatter",
         "x": [
          null
         ],
         "xaxis": "x",
         "y": [
          0.0000012931813211368586
         ],
         "yaxis": "y"
        },
        {
         "hovertemplate": "country=Tunisia<br>PIB per cápita ($)=%{x}<br>Emisiones de CO2 per capita=%{y}<extra></extra>",
         "legendgroup": "Tunisia",
         "marker": {
          "color": "#7a0402",
          "opacity": 0.5,
          "size": 10,
          "symbol": "circle"
         },
         "mode": "markers",
         "name": "Tunisia",
         "orientation": "v",
         "showlegend": true,
         "type": "scatter",
         "x": [
          10921.114496222253
         ],
         "xaxis": "x",
         "y": [
          0.0000025137768749622897
         ],
         "yaxis": "y"
        },
        {
         "hovertemplate": "country=Turkey<br>PIB per cápita ($)=%{x}<br>Emisiones de CO2 per capita=%{y}<extra></extra>",
         "legendgroup": "Turkey",
         "marker": {
          "color": "#30123b",
          "opacity": 0.5,
          "size": 10,
          "symbol": "circle"
         },
         "mode": "markers",
         "name": "Turkey",
         "orientation": "v",
         "showlegend": true,
         "type": "scatter",
         "x": [
          19997.562427333043
         ],
         "xaxis": "x",
         "y": [
          0.0000051029169379324814
         ],
         "yaxis": "y"
        },
        {
         "hovertemplate": "country=Turkmenistan<br>PIB per cápita ($)=%{x}<br>Emisiones de CO2 per capita=%{y}<extra></extra>",
         "legendgroup": "Turkmenistan",
         "marker": {
          "color": "#4145ab",
          "opacity": 0.5,
          "size": 10,
          "symbol": "circle"
         },
         "mode": "markers",
         "name": "Turkmenistan",
         "orientation": "v",
         "showlegend": true,
         "type": "scatter",
         "x": [
          23477.21799048717
         ],
         "xaxis": "x",
         "y": [
          0.00001207768019901495
         ],
         "yaxis": "y"
        },
        {
         "hovertemplate": "country=Turks and Caicos Islands<br>PIB per cápita ($)=%{x}<br>Emisiones de CO2 per capita=%{y}<extra></extra>",
         "legendgroup": "Turks and Caicos Islands",
         "marker": {
          "color": "#4675ed",
          "opacity": 0.5,
          "size": 10,
          "symbol": "circle"
         },
         "mode": "markers",
         "name": "Turks and Caicos Islands",
         "orientation": "v",
         "showlegend": true,
         "type": "scatter",
         "x": [
          null
         ],
         "xaxis": "x",
         "y": [
          0.000008743616918778302
         ],
         "yaxis": "y"
        },
        {
         "hovertemplate": "country=Tuvalu<br>PIB per cápita ($)=%{x}<br>Emisiones de CO2 per capita=%{y}<extra></extra>",
         "legendgroup": "Tuvalu",
         "marker": {
          "color": "#39a2fc",
          "opacity": 0.5,
          "size": 10,
          "symbol": "circle"
         },
         "mode": "markers",
         "name": "Tuvalu",
         "orientation": "v",
         "showlegend": true,
         "type": "scatter",
         "x": [
          null
         ],
         "xaxis": "x",
         "y": [
          6.432049986217036e-7
         ],
         "yaxis": "y"
        },
        {
         "hovertemplate": "country=Uganda<br>PIB per cápita ($)=%{x}<br>Emisiones de CO2 per capita=%{y}<extra></extra>",
         "legendgroup": "Uganda",
         "marker": {
          "color": "#1bcfd4",
          "opacity": 0.5,
          "size": 10,
          "symbol": "circle"
         },
         "mode": "markers",
         "name": "Uganda",
         "orientation": "v",
         "showlegend": true,
         "type": "scatter",
         "x": [
          2085.589305173502
         ],
         "xaxis": "x",
         "y": [
          1.3563641443897928e-7
         ],
         "yaxis": "y"
        },
        {
         "hovertemplate": "country=Ukraine<br>PIB per cápita ($)=%{x}<br>Emisiones de CO2 per capita=%{y}<extra></extra>",
         "legendgroup": "Ukraine",
         "marker": {
          "color": "#24eca6",
          "opacity": 0.5,
          "size": 10,
          "symbol": "circle"
         },
         "mode": "markers",
         "name": "Ukraine",
         "orientation": "v",
         "showlegend": true,
         "type": "scatter",
         "x": [
          9704.150429752754
         ],
         "xaxis": "x",
         "y": [
          0.000005212393416763427
         ],
         "yaxis": "y"
        },
        {
         "hovertemplate": "country=United Kingdom<br>PIB per cápita ($)=%{x}<br>Emisiones de CO2 per capita=%{y}<extra></extra>",
         "legendgroup": "United Kingdom",
         "marker": {
          "color": "#61fc6c",
          "opacity": 0.5,
          "size": 10,
          "symbol": "circle"
         },
         "mode": "markers",
         "name": "United Kingdom",
         "orientation": "v",
         "showlegend": true,
         "type": "scatter",
         "x": [
          38237.17697681435
         ],
         "xaxis": "x",
         "y": [
          0.000005715984869928191
         ],
         "yaxis": "y"
        },
        {
         "hovertemplate": "country=United States<br>PIB per cápita ($)=%{x}<br>Emisiones de CO2 per capita=%{y}<extra></extra>",
         "legendgroup": "United States",
         "marker": {
          "color": "#a4fc3b",
          "opacity": 0.5,
          "size": 10,
          "symbol": "circle"
         },
         "mode": "markers",
         "name": "United States",
         "orientation": "v",
         "showlegend": true,
         "type": "scatter",
         "x": [
          54617.462728395236
         ],
         "xaxis": "x",
         "y": [
          0.000016187922207462182
         ],
         "yaxis": "y"
        },
        {
         "hovertemplate": "country=Uruguay<br>PIB per cápita ($)=%{x}<br>Emisiones de CO2 per capita=%{y}<extra></extra>",
         "legendgroup": "Uruguay",
         "marker": {
          "color": "#d1e834",
          "opacity": 0.5,
          "size": 10,
          "symbol": "circle"
         },
         "mode": "markers",
         "name": "Uruguay",
         "orientation": "v",
         "showlegend": true,
         "type": "scatter",
         "x": [
          20005.78681802743
         ],
         "xaxis": "x",
         "y": [
          0.0000019173958665252037
         ],
         "yaxis": "y"
        },
        {
         "hovertemplate": "country=Uzbekistan<br>PIB per cápita ($)=%{x}<br>Emisiones de CO2 per capita=%{y}<extra></extra>",
         "legendgroup": "Uzbekistan",
         "marker": {
          "color": "#f3c63a",
          "opacity": 0.5,
          "size": 10,
          "symbol": "circle"
         },
         "mode": "markers",
         "name": "Uzbekistan",
         "orientation": "v",
         "showlegend": true,
         "type": "scatter",
         "x": [
          10381.483738740762
         ],
         "xaxis": "x",
         "y": [
          0.0000035890759503867814
         ],
         "yaxis": "y"
        },
        {
         "hovertemplate": "country=Vanuatu<br>PIB per cápita ($)=%{x}<br>Emisiones de CO2 per capita=%{y}<extra></extra>",
         "legendgroup": "Vanuatu",
         "marker": {
          "color": "#fe9b2d",
          "opacity": 0.5,
          "size": 10,
          "symbol": "circle"
         },
         "mode": "markers",
         "name": "Vanuatu",
         "orientation": "v",
         "showlegend": true,
         "type": "scatter",
         "x": [
          null
         ],
         "xaxis": "x",
         "y": [
          5.919806799032649e-7
         ],
         "yaxis": "y"
        },
        {
         "hovertemplate": "country=Venezuela<br>PIB per cápita ($)=%{x}<br>Emisiones de CO2 per capita=%{y}<extra></extra>",
         "legendgroup": "Venezuela",
         "marker": {
          "color": "#f36315",
          "opacity": 0.5,
          "size": 10,
          "symbol": "circle"
         },
         "mode": "markers",
         "name": "Venezuela",
         "orientation": "v",
         "showlegend": true,
         "type": "scatter",
         "x": [
          10374.05719237923
         ],
         "xaxis": "x",
         "y": [
          0.0000034424058860473528
         ],
         "yaxis": "y"
        },
        {
         "hovertemplate": "country=Vietnam<br>PIB per cápita ($)=%{x}<br>Emisiones de CO2 per capita=%{y}<extra></extra>",
         "legendgroup": "Vietnam",
         "marker": {
          "color": "#d93806",
          "opacity": 0.5,
          "size": 10,
          "symbol": "circle"
         },
         "mode": "markers",
         "name": "Vietnam",
         "orientation": "v",
         "showlegend": true,
         "type": "scatter",
         "x": [
          6969.320821952192
         ],
         "xaxis": "x",
         "y": [
          0.00000288916337267857
         ],
         "yaxis": "y"
        },
        {
         "hovertemplate": "country=Wallis and Futuna<br>PIB per cápita ($)=%{x}<br>Emisiones de CO2 per capita=%{y}<extra></extra>",
         "legendgroup": "Wallis and Futuna",
         "marker": {
          "color": "#b11901",
          "opacity": 0.5,
          "size": 10,
          "symbol": "circle"
         },
         "mode": "markers",
         "name": "Wallis and Futuna",
         "orientation": "v",
         "showlegend": true,
         "type": "scatter",
         "x": [
          null
         ],
         "xaxis": "x",
         "y": [
          0.0000021959459459459458
         ],
         "yaxis": "y"
        },
        {
         "hovertemplate": "country=Yemen<br>PIB per cápita ($)=%{x}<br>Emisiones de CO2 per capita=%{y}<extra></extra>",
         "legendgroup": "Yemen",
         "marker": {
          "color": "#7a0402",
          "opacity": 0.5,
          "size": 10,
          "symbol": "circle"
         },
         "mode": "markers",
         "name": "Yemen",
         "orientation": "v",
         "showlegend": true,
         "type": "scatter",
         "x": [
          2242.337522004342
         ],
         "xaxis": "x",
         "y": [
          3.401697029156447e-7
         ],
         "yaxis": "y"
        },
        {
         "hovertemplate": "country=Zambia<br>PIB per cápita ($)=%{x}<br>Emisiones de CO2 per capita=%{y}<extra></extra>",
         "legendgroup": "Zambia",
         "marker": {
          "color": "#30123b",
          "opacity": 0.5,
          "size": 10,
          "symbol": "circle"
         },
         "mode": "markers",
         "name": "Zambia",
         "orientation": "v",
         "showlegend": true,
         "type": "scatter",
         "x": [
          3418.870329040904
         ],
         "xaxis": "x",
         "y": [
          4.155664043380378e-7
         ],
         "yaxis": "y"
        },
        {
         "hovertemplate": "country=Zimbabwe<br>PIB per cápita ($)=%{x}<br>Emisiones de CO2 per capita=%{y}<extra></extra>",
         "legendgroup": "Zimbabwe",
         "marker": {
          "color": "#4145ab",
          "opacity": 0.5,
          "size": 10,
          "symbol": "circle"
         },
         "mode": "markers",
         "name": "Zimbabwe",
         "orientation": "v",
         "showlegend": true,
         "type": "scatter",
         "x": [
          1509.106088807935
         ],
         "xaxis": "x",
         "y": [
          7.836068516536895e-7
         ],
         "yaxis": "y"
        }
       ],
       "layout": {
        "height": 400,
        "legend": {
         "title": {
          "text": "country"
         },
         "tracegroupgap": 0
        },
        "margin": {
         "t": 60
        },
        "template": {
         "data": {
          "bar": [
           {
            "error_x": {
             "color": "rgb(36,36,36)"
            },
            "error_y": {
             "color": "rgb(36,36,36)"
            },
            "marker": {
             "line": {
              "color": "white",
              "width": 0.5
             },
             "pattern": {
              "fillmode": "overlay",
              "size": 10,
              "solidity": 0.2
             }
            },
            "type": "bar"
           }
          ],
          "barpolar": [
           {
            "marker": {
             "line": {
              "color": "white",
              "width": 0.5
             },
             "pattern": {
              "fillmode": "overlay",
              "size": 10,
              "solidity": 0.2
             }
            },
            "type": "barpolar"
           }
          ],
          "carpet": [
           {
            "aaxis": {
             "endlinecolor": "rgb(36,36,36)",
             "gridcolor": "white",
             "linecolor": "white",
             "minorgridcolor": "white",
             "startlinecolor": "rgb(36,36,36)"
            },
            "baxis": {
             "endlinecolor": "rgb(36,36,36)",
             "gridcolor": "white",
             "linecolor": "white",
             "minorgridcolor": "white",
             "startlinecolor": "rgb(36,36,36)"
            },
            "type": "carpet"
           }
          ],
          "choropleth": [
           {
            "colorbar": {
             "outlinewidth": 1,
             "tickcolor": "rgb(36,36,36)",
             "ticks": "outside"
            },
            "type": "choropleth"
           }
          ],
          "contour": [
           {
            "colorbar": {
             "outlinewidth": 1,
             "tickcolor": "rgb(36,36,36)",
             "ticks": "outside"
            },
            "colorscale": [
             [
              0,
              "#440154"
             ],
             [
              0.1111111111111111,
              "#482878"
             ],
             [
              0.2222222222222222,
              "#3e4989"
             ],
             [
              0.3333333333333333,
              "#31688e"
             ],
             [
              0.4444444444444444,
              "#26828e"
             ],
             [
              0.5555555555555556,
              "#1f9e89"
             ],
             [
              0.6666666666666666,
              "#35b779"
             ],
             [
              0.7777777777777778,
              "#6ece58"
             ],
             [
              0.8888888888888888,
              "#b5de2b"
             ],
             [
              1,
              "#fde725"
             ]
            ],
            "type": "contour"
           }
          ],
          "contourcarpet": [
           {
            "colorbar": {
             "outlinewidth": 1,
             "tickcolor": "rgb(36,36,36)",
             "ticks": "outside"
            },
            "type": "contourcarpet"
           }
          ],
          "heatmap": [
           {
            "colorbar": {
             "outlinewidth": 1,
             "tickcolor": "rgb(36,36,36)",
             "ticks": "outside"
            },
            "colorscale": [
             [
              0,
              "#440154"
             ],
             [
              0.1111111111111111,
              "#482878"
             ],
             [
              0.2222222222222222,
              "#3e4989"
             ],
             [
              0.3333333333333333,
              "#31688e"
             ],
             [
              0.4444444444444444,
              "#26828e"
             ],
             [
              0.5555555555555556,
              "#1f9e89"
             ],
             [
              0.6666666666666666,
              "#35b779"
             ],
             [
              0.7777777777777778,
              "#6ece58"
             ],
             [
              0.8888888888888888,
              "#b5de2b"
             ],
             [
              1,
              "#fde725"
             ]
            ],
            "type": "heatmap"
           }
          ],
          "heatmapgl": [
           {
            "colorbar": {
             "outlinewidth": 1,
             "tickcolor": "rgb(36,36,36)",
             "ticks": "outside"
            },
            "colorscale": [
             [
              0,
              "#440154"
             ],
             [
              0.1111111111111111,
              "#482878"
             ],
             [
              0.2222222222222222,
              "#3e4989"
             ],
             [
              0.3333333333333333,
              "#31688e"
             ],
             [
              0.4444444444444444,
              "#26828e"
             ],
             [
              0.5555555555555556,
              "#1f9e89"
             ],
             [
              0.6666666666666666,
              "#35b779"
             ],
             [
              0.7777777777777778,
              "#6ece58"
             ],
             [
              0.8888888888888888,
              "#b5de2b"
             ],
             [
              1,
              "#fde725"
             ]
            ],
            "type": "heatmapgl"
           }
          ],
          "histogram": [
           {
            "marker": {
             "line": {
              "color": "white",
              "width": 0.6
             }
            },
            "type": "histogram"
           }
          ],
          "histogram2d": [
           {
            "colorbar": {
             "outlinewidth": 1,
             "tickcolor": "rgb(36,36,36)",
             "ticks": "outside"
            },
            "colorscale": [
             [
              0,
              "#440154"
             ],
             [
              0.1111111111111111,
              "#482878"
             ],
             [
              0.2222222222222222,
              "#3e4989"
             ],
             [
              0.3333333333333333,
              "#31688e"
             ],
             [
              0.4444444444444444,
              "#26828e"
             ],
             [
              0.5555555555555556,
              "#1f9e89"
             ],
             [
              0.6666666666666666,
              "#35b779"
             ],
             [
              0.7777777777777778,
              "#6ece58"
             ],
             [
              0.8888888888888888,
              "#b5de2b"
             ],
             [
              1,
              "#fde725"
             ]
            ],
            "type": "histogram2d"
           }
          ],
          "histogram2dcontour": [
           {
            "colorbar": {
             "outlinewidth": 1,
             "tickcolor": "rgb(36,36,36)",
             "ticks": "outside"
            },
            "colorscale": [
             [
              0,
              "#440154"
             ],
             [
              0.1111111111111111,
              "#482878"
             ],
             [
              0.2222222222222222,
              "#3e4989"
             ],
             [
              0.3333333333333333,
              "#31688e"
             ],
             [
              0.4444444444444444,
              "#26828e"
             ],
             [
              0.5555555555555556,
              "#1f9e89"
             ],
             [
              0.6666666666666666,
              "#35b779"
             ],
             [
              0.7777777777777778,
              "#6ece58"
             ],
             [
              0.8888888888888888,
              "#b5de2b"
             ],
             [
              1,
              "#fde725"
             ]
            ],
            "type": "histogram2dcontour"
           }
          ],
          "mesh3d": [
           {
            "colorbar": {
             "outlinewidth": 1,
             "tickcolor": "rgb(36,36,36)",
             "ticks": "outside"
            },
            "type": "mesh3d"
           }
          ],
          "parcoords": [
           {
            "line": {
             "colorbar": {
              "outlinewidth": 1,
              "tickcolor": "rgb(36,36,36)",
              "ticks": "outside"
             }
            },
            "type": "parcoords"
           }
          ],
          "pie": [
           {
            "automargin": true,
            "type": "pie"
           }
          ],
          "scatter": [
           {
            "fillpattern": {
             "fillmode": "overlay",
             "size": 10,
             "solidity": 0.2
            },
            "type": "scatter"
           }
          ],
          "scatter3d": [
           {
            "line": {
             "colorbar": {
              "outlinewidth": 1,
              "tickcolor": "rgb(36,36,36)",
              "ticks": "outside"
             }
            },
            "marker": {
             "colorbar": {
              "outlinewidth": 1,
              "tickcolor": "rgb(36,36,36)",
              "ticks": "outside"
             }
            },
            "type": "scatter3d"
           }
          ],
          "scattercarpet": [
           {
            "marker": {
             "colorbar": {
              "outlinewidth": 1,
              "tickcolor": "rgb(36,36,36)",
              "ticks": "outside"
             }
            },
            "type": "scattercarpet"
           }
          ],
          "scattergeo": [
           {
            "marker": {
             "colorbar": {
              "outlinewidth": 1,
              "tickcolor": "rgb(36,36,36)",
              "ticks": "outside"
             }
            },
            "type": "scattergeo"
           }
          ],
          "scattergl": [
           {
            "marker": {
             "colorbar": {
              "outlinewidth": 1,
              "tickcolor": "rgb(36,36,36)",
              "ticks": "outside"
             }
            },
            "type": "scattergl"
           }
          ],
          "scattermapbox": [
           {
            "marker": {
             "colorbar": {
              "outlinewidth": 1,
              "tickcolor": "rgb(36,36,36)",
              "ticks": "outside"
             }
            },
            "type": "scattermapbox"
           }
          ],
          "scatterpolar": [
           {
            "marker": {
             "colorbar": {
              "outlinewidth": 1,
              "tickcolor": "rgb(36,36,36)",
              "ticks": "outside"
             }
            },
            "type": "scatterpolar"
           }
          ],
          "scatterpolargl": [
           {
            "marker": {
             "colorbar": {
              "outlinewidth": 1,
              "tickcolor": "rgb(36,36,36)",
              "ticks": "outside"
             }
            },
            "type": "scatterpolargl"
           }
          ],
          "scatterternary": [
           {
            "marker": {
             "colorbar": {
              "outlinewidth": 1,
              "tickcolor": "rgb(36,36,36)",
              "ticks": "outside"
             }
            },
            "type": "scatterternary"
           }
          ],
          "surface": [
           {
            "colorbar": {
             "outlinewidth": 1,
             "tickcolor": "rgb(36,36,36)",
             "ticks": "outside"
            },
            "colorscale": [
             [
              0,
              "#440154"
             ],
             [
              0.1111111111111111,
              "#482878"
             ],
             [
              0.2222222222222222,
              "#3e4989"
             ],
             [
              0.3333333333333333,
              "#31688e"
             ],
             [
              0.4444444444444444,
              "#26828e"
             ],
             [
              0.5555555555555556,
              "#1f9e89"
             ],
             [
              0.6666666666666666,
              "#35b779"
             ],
             [
              0.7777777777777778,
              "#6ece58"
             ],
             [
              0.8888888888888888,
              "#b5de2b"
             ],
             [
              1,
              "#fde725"
             ]
            ],
            "type": "surface"
           }
          ],
          "table": [
           {
            "cells": {
             "fill": {
              "color": "rgb(237,237,237)"
             },
             "line": {
              "color": "white"
             }
            },
            "header": {
             "fill": {
              "color": "rgb(217,217,217)"
             },
             "line": {
              "color": "white"
             }
            },
            "type": "table"
           }
          ]
         },
         "layout": {
          "annotationdefaults": {
           "arrowhead": 0,
           "arrowwidth": 1
          },
          "autotypenumbers": "strict",
          "coloraxis": {
           "colorbar": {
            "outlinewidth": 1,
            "tickcolor": "rgb(36,36,36)",
            "ticks": "outside"
           }
          },
          "colorscale": {
           "diverging": [
            [
             0,
             "rgb(103,0,31)"
            ],
            [
             0.1,
             "rgb(178,24,43)"
            ],
            [
             0.2,
             "rgb(214,96,77)"
            ],
            [
             0.3,
             "rgb(244,165,130)"
            ],
            [
             0.4,
             "rgb(253,219,199)"
            ],
            [
             0.5,
             "rgb(247,247,247)"
            ],
            [
             0.6,
             "rgb(209,229,240)"
            ],
            [
             0.7,
             "rgb(146,197,222)"
            ],
            [
             0.8,
             "rgb(67,147,195)"
            ],
            [
             0.9,
             "rgb(33,102,172)"
            ],
            [
             1,
             "rgb(5,48,97)"
            ]
           ],
           "sequential": [
            [
             0,
             "#440154"
            ],
            [
             0.1111111111111111,
             "#482878"
            ],
            [
             0.2222222222222222,
             "#3e4989"
            ],
            [
             0.3333333333333333,
             "#31688e"
            ],
            [
             0.4444444444444444,
             "#26828e"
            ],
            [
             0.5555555555555556,
             "#1f9e89"
            ],
            [
             0.6666666666666666,
             "#35b779"
            ],
            [
             0.7777777777777778,
             "#6ece58"
            ],
            [
             0.8888888888888888,
             "#b5de2b"
            ],
            [
             1,
             "#fde725"
            ]
           ],
           "sequentialminus": [
            [
             0,
             "#440154"
            ],
            [
             0.1111111111111111,
             "#482878"
            ],
            [
             0.2222222222222222,
             "#3e4989"
            ],
            [
             0.3333333333333333,
             "#31688e"
            ],
            [
             0.4444444444444444,
             "#26828e"
            ],
            [
             0.5555555555555556,
             "#1f9e89"
            ],
            [
             0.6666666666666666,
             "#35b779"
            ],
            [
             0.7777777777777778,
             "#6ece58"
            ],
            [
             0.8888888888888888,
             "#b5de2b"
            ],
            [
             1,
             "#fde725"
            ]
           ]
          },
          "colorway": [
           "#1F77B4",
           "#FF7F0E",
           "#2CA02C",
           "#D62728",
           "#9467BD",
           "#8C564B",
           "#E377C2",
           "#7F7F7F",
           "#BCBD22",
           "#17BECF"
          ],
          "font": {
           "color": "rgb(36,36,36)"
          },
          "geo": {
           "bgcolor": "white",
           "lakecolor": "white",
           "landcolor": "white",
           "showlakes": true,
           "showland": true,
           "subunitcolor": "white"
          },
          "hoverlabel": {
           "align": "left"
          },
          "hovermode": "closest",
          "mapbox": {
           "style": "light"
          },
          "paper_bgcolor": "white",
          "plot_bgcolor": "white",
          "polar": {
           "angularaxis": {
            "gridcolor": "rgb(232,232,232)",
            "linecolor": "rgb(36,36,36)",
            "showgrid": false,
            "showline": true,
            "ticks": "outside"
           },
           "bgcolor": "white",
           "radialaxis": {
            "gridcolor": "rgb(232,232,232)",
            "linecolor": "rgb(36,36,36)",
            "showgrid": false,
            "showline": true,
            "ticks": "outside"
           }
          },
          "scene": {
           "xaxis": {
            "backgroundcolor": "white",
            "gridcolor": "rgb(232,232,232)",
            "gridwidth": 2,
            "linecolor": "rgb(36,36,36)",
            "showbackground": true,
            "showgrid": false,
            "showline": true,
            "ticks": "outside",
            "zeroline": false,
            "zerolinecolor": "rgb(36,36,36)"
           },
           "yaxis": {
            "backgroundcolor": "white",
            "gridcolor": "rgb(232,232,232)",
            "gridwidth": 2,
            "linecolor": "rgb(36,36,36)",
            "showbackground": true,
            "showgrid": false,
            "showline": true,
            "ticks": "outside",
            "zeroline": false,
            "zerolinecolor": "rgb(36,36,36)"
           },
           "zaxis": {
            "backgroundcolor": "white",
            "gridcolor": "rgb(232,232,232)",
            "gridwidth": 2,
            "linecolor": "rgb(36,36,36)",
            "showbackground": true,
            "showgrid": false,
            "showline": true,
            "ticks": "outside",
            "zeroline": false,
            "zerolinecolor": "rgb(36,36,36)"
           }
          },
          "shapedefaults": {
           "fillcolor": "black",
           "line": {
            "width": 0
           },
           "opacity": 0.3
          },
          "ternary": {
           "aaxis": {
            "gridcolor": "rgb(232,232,232)",
            "linecolor": "rgb(36,36,36)",
            "showgrid": false,
            "showline": true,
            "ticks": "outside"
           },
           "baxis": {
            "gridcolor": "rgb(232,232,232)",
            "linecolor": "rgb(36,36,36)",
            "showgrid": false,
            "showline": true,
            "ticks": "outside"
           },
           "bgcolor": "white",
           "caxis": {
            "gridcolor": "rgb(232,232,232)",
            "linecolor": "rgb(36,36,36)",
            "showgrid": false,
            "showline": true,
            "ticks": "outside"
           }
          },
          "title": {
           "x": 0.05
          },
          "xaxis": {
           "automargin": true,
           "gridcolor": "rgb(232,232,232)",
           "linecolor": "rgb(36,36,36)",
           "showgrid": false,
           "showline": true,
           "ticks": "outside",
           "title": {
            "standoff": 15
           },
           "zeroline": false,
           "zerolinecolor": "rgb(36,36,36)"
          },
          "yaxis": {
           "automargin": true,
           "gridcolor": "rgb(232,232,232)",
           "linecolor": "rgb(36,36,36)",
           "showgrid": false,
           "showline": true,
           "ticks": "outside",
           "title": {
            "standoff": 15
           },
           "zeroline": false,
           "zerolinecolor": "rgb(36,36,36)"
          }
         }
        },
        "title": {
         "font": {
          "color": "#000000",
          "family": "Arial",
          "size": 18
         },
         "text": "Como se relaciona el nivel de GDP per capita con las emisiones de CO2?",
         "x": 0.7,
         "xanchor": "right",
         "y": 0.95,
         "yanchor": "top"
        },
        "width": 900,
        "xaxis": {
         "anchor": "y",
         "domain": [
          0,
          1
         ],
         "title": {
          "text": "PIB per cápita ($)"
         }
        },
        "yaxis": {
         "anchor": "x",
         "domain": [
          0,
          1
         ],
         "title": {
          "text": "Emisiones de CO2 per capita"
         }
        }
       }
      }
     },
     "metadata": {},
     "output_type": "display_data"
    },
    {
     "data": {
      "application/vnd.plotly.v1+json": {
       "config": {
        "plotlyServerURL": "https://plot.ly"
       },
       "data": [
        {
         "hovertemplate": "country=Afghanistan<br>Población (millones)=%{x}<br>Emisiones de CO2 (kt)=%{y}<extra></extra>",
         "legendgroup": "Afghanistan",
         "marker": {
          "color": "#30123b",
          "opacity": 0.5,
          "size": 10,
          "symbol": "circle"
         },
         "mode": "markers",
         "name": "Afghanistan",
         "orientation": "v",
         "showlegend": true,
         "type": "scatter",
         "x": [
          36.686788
         ],
         "xaxis": "x",
         "y": [
          10.818
         ],
         "yaxis": "y"
        },
        {
         "hovertemplate": "country=Albania<br>Población (millones)=%{x}<br>Emisiones de CO2 (kt)=%{y}<extra></extra>",
         "legendgroup": "Albania",
         "marker": {
          "color": "#4145ab",
          "opacity": 0.5,
          "size": 10,
          "symbol": "circle"
         },
         "mode": "markers",
         "name": "Albania",
         "orientation": "v",
         "showlegend": true,
         "type": "scatter",
         "x": [
          2.877019
         ],
         "xaxis": "x",
         "y": [
          4.984
         ],
         "yaxis": "y"
        },
        {
         "hovertemplate": "country=Algeria<br>Población (millones)=%{x}<br>Emisiones de CO2 (kt)=%{y}<extra></extra>",
         "legendgroup": "Algeria",
         "marker": {
          "color": "#4675ed",
          "opacity": 0.5,
          "size": 10,
          "symbol": "circle"
         },
         "mode": "markers",
         "name": "Algeria",
         "orientation": "v",
         "showlegend": true,
         "type": "scatter",
         "x": [
          41.927008
         ],
         "xaxis": "x",
         "y": [
          173.912
         ],
         "yaxis": "y"
        },
        {
         "hovertemplate": "country=American Samoa<br>Población (millones)=%{x}<br>Emisiones de CO2 (kt)=%{y}<extra></extra>",
         "legendgroup": "American Samoa",
         "marker": {
          "color": "#39a2fc",
          "opacity": 0.5,
          "size": 10,
          "symbol": "circle"
         },
         "mode": "markers",
         "name": "American Samoa",
         "orientation": "v",
         "showlegend": true,
         "type": "scatter",
         "x": [
          0.048445
         ],
         "xaxis": "x",
         "y": [
          null
         ],
         "yaxis": "y"
        },
        {
         "hovertemplate": "country=Andorra<br>Población (millones)=%{x}<br>Emisiones de CO2 (kt)=%{y}<extra></extra>",
         "legendgroup": "Andorra",
         "marker": {
          "color": "#1bcfd4",
          "opacity": 0.5,
          "size": 10,
          "symbol": "circle"
         },
         "mode": "markers",
         "name": "Andorra",
         "orientation": "v",
         "showlegend": true,
         "type": "scatter",
         "x": [
          0.075034
         ],
         "xaxis": "x",
         "y": [
          0.495
         ],
         "yaxis": "y"
        },
        {
         "hovertemplate": "country=Angola<br>Población (millones)=%{x}<br>Emisiones de CO2 (kt)=%{y}<extra></extra>",
         "legendgroup": "Angola",
         "marker": {
          "color": "#24eca6",
          "opacity": 0.5,
          "size": 10,
          "symbol": "circle"
         },
         "mode": "markers",
         "name": "Angola",
         "orientation": "v",
         "showlegend": true,
         "type": "scatter",
         "x": [
          31.273538
         ],
         "xaxis": "x",
         "y": [
          22.779
         ],
         "yaxis": "y"
        },
        {
         "hovertemplate": "country=Anguilla<br>Población (millones)=%{x}<br>Emisiones de CO2 (kt)=%{y}<extra></extra>",
         "legendgroup": "Anguilla",
         "marker": {
          "color": "#61fc6c",
          "opacity": 0.5,
          "size": 10,
          "symbol": "circle"
         },
         "mode": "markers",
         "name": "Anguilla",
         "orientation": "v",
         "showlegend": true,
         "type": "scatter",
         "x": [
          0.015201
         ],
         "xaxis": "x",
         "y": [
          0.143
         ],
         "yaxis": "y"
        },
        {
         "hovertemplate": "country=Antigua and Barbuda<br>Población (millones)=%{x}<br>Emisiones de CO2 (kt)=%{y}<extra></extra>",
         "legendgroup": "Antigua and Barbuda",
         "marker": {
          "color": "#a4fc3b",
          "opacity": 0.5,
          "size": 10,
          "symbol": "circle"
         },
         "mode": "markers",
         "name": "Antigua and Barbuda",
         "orientation": "v",
         "showlegend": true,
         "type": "scatter",
         "x": [
          0.091644
         ],
         "xaxis": "x",
         "y": [
          0.498
         ],
         "yaxis": "y"
        },
        {
         "hovertemplate": "country=Argentina<br>Población (millones)=%{x}<br>Emisiones de CO2 (kt)=%{y}<extra></extra>",
         "legendgroup": "Argentina",
         "marker": {
          "color": "#d1e834",
          "opacity": 0.5,
          "size": 10,
          "symbol": "circle"
         },
         "mode": "markers",
         "name": "Argentina",
         "orientation": "v",
         "showlegend": true,
         "type": "scatter",
         "x": [
          44.413592
         ],
         "xaxis": "x",
         "y": [
          180.599
         ],
         "yaxis": "y"
        },
        {
         "hovertemplate": "country=Armenia<br>Población (millones)=%{x}<br>Emisiones de CO2 (kt)=%{y}<extra></extra>",
         "legendgroup": "Armenia",
         "marker": {
          "color": "#f3c63a",
          "opacity": 0.5,
          "size": 10,
          "symbol": "circle"
         },
         "mode": "markers",
         "name": "Armenia",
         "orientation": "v",
         "showlegend": true,
         "type": "scatter",
         "x": [
          2.836563
         ],
         "xaxis": "x",
         "y": [
          5.826
         ],
         "yaxis": "y"
        },
        {
         "hovertemplate": "country=Aruba<br>Población (millones)=%{x}<br>Emisiones de CO2 (kt)=%{y}<extra></extra>",
         "legendgroup": "Aruba",
         "marker": {
          "color": "#fe9b2d",
          "opacity": 0.5,
          "size": 10,
          "symbol": "circle"
         },
         "mode": "markers",
         "name": "Aruba",
         "orientation": "v",
         "showlegend": true,
         "type": "scatter",
         "x": [
          0.10598
         ],
         "xaxis": "x",
         "y": [
          0.872
         ],
         "yaxis": "y"
        },
        {
         "hovertemplate": "country=Australia<br>Población (millones)=%{x}<br>Emisiones de CO2 (kt)=%{y}<extra></extra>",
         "legendgroup": "Australia",
         "marker": {
          "color": "#f36315",
          "opacity": 0.5,
          "size": 10,
          "symbol": "circle"
         },
         "mode": "markers",
         "name": "Australia",
         "orientation": "v",
         "showlegend": true,
         "type": "scatter",
         "x": [
          24.979228
         ],
         "xaxis": "x",
         "y": [
          416.284
         ],
         "yaxis": "y"
        },
        {
         "hovertemplate": "country=Austria<br>Población (millones)=%{x}<br>Emisiones de CO2 (kt)=%{y}<extra></extra>",
         "legendgroup": "Austria",
         "marker": {
          "color": "#d93806",
          "opacity": 0.5,
          "size": 10,
          "symbol": "circle"
         },
         "mode": "markers",
         "name": "Austria",
         "orientation": "v",
         "showlegend": true,
         "type": "scatter",
         "x": [
          8.840518
         ],
         "xaxis": "x",
         "y": [
          66.557
         ],
         "yaxis": "y"
        },
        {
         "hovertemplate": "country=Azerbaijan<br>Población (millones)=%{x}<br>Emisiones de CO2 (kt)=%{y}<extra></extra>",
         "legendgroup": "Azerbaijan",
         "marker": {
          "color": "#b11901",
          "opacity": 0.5,
          "size": 10,
          "symbol": "circle"
         },
         "mode": "markers",
         "name": "Azerbaijan",
         "orientation": "v",
         "showlegend": true,
         "type": "scatter",
         "x": [
          10.152524
         ],
         "xaxis": "x",
         "y": [
          34.576
         ],
         "yaxis": "y"
        },
        {
         "hovertemplate": "country=Bahamas<br>Población (millones)=%{x}<br>Emisiones de CO2 (kt)=%{y}<extra></extra>",
         "legendgroup": "Bahamas",
         "marker": {
          "color": "#7a0402",
          "opacity": 0.5,
          "size": 10,
          "symbol": "circle"
         },
         "mode": "markers",
         "name": "Bahamas",
         "orientation": "v",
         "showlegend": true,
         "type": "scatter",
         "x": [
          0.401911
         ],
         "xaxis": "x",
         "y": [
          2.7
         ],
         "yaxis": "y"
        },
        {
         "hovertemplate": "country=Bahrain<br>Población (millones)=%{x}<br>Emisiones de CO2 (kt)=%{y}<extra></extra>",
         "legendgroup": "Bahrain",
         "marker": {
          "color": "#30123b",
          "opacity": 0.5,
          "size": 10,
          "symbol": "circle"
         },
         "mode": "markers",
         "name": "Bahrain",
         "orientation": "v",
         "showlegend": true,
         "type": "scatter",
         "x": [
          1.487346
         ],
         "xaxis": "x",
         "y": [
          32.787
         ],
         "yaxis": "y"
        },
        {
         "hovertemplate": "country=Bangladesh<br>Población (millones)=%{x}<br>Emisiones de CO2 (kt)=%{y}<extra></extra>",
         "legendgroup": "Bangladesh",
         "marker": {
          "color": "#4145ab",
          "opacity": 0.5,
          "size": 10,
          "symbol": "circle"
         },
         "mode": "markers",
         "name": "Bangladesh",
         "orientation": "v",
         "showlegend": true,
         "type": "scatter",
         "x": [
          163.683952
         ],
         "xaxis": "x",
         "y": [
          82.494
         ],
         "yaxis": "y"
        },
        {
         "hovertemplate": "country=Barbados<br>Población (millones)=%{x}<br>Emisiones de CO2 (kt)=%{y}<extra></extra>",
         "legendgroup": "Barbados",
         "marker": {
          "color": "#4675ed",
          "opacity": 0.5,
          "size": 10,
          "symbol": "circle"
         },
         "mode": "markers",
         "name": "Barbados",
         "orientation": "v",
         "showlegend": true,
         "type": "scatter",
         "x": [
          0.279702
         ],
         "xaxis": "x",
         "y": [
          1.287
         ],
         "yaxis": "y"
        },
        {
         "hovertemplate": "country=Belarus<br>Población (millones)=%{x}<br>Emisiones de CO2 (kt)=%{y}<extra></extra>",
         "legendgroup": "Belarus",
         "marker": {
          "color": "#39a2fc",
          "opacity": 0.5,
          "size": 10,
          "symbol": "circle"
         },
         "mode": "markers",
         "name": "Belarus",
         "orientation": "v",
         "showlegend": true,
         "type": "scatter",
         "x": [
          9.695573
         ],
         "xaxis": "x",
         "y": [
          62.094
         ],
         "yaxis": "y"
        },
        {
         "hovertemplate": "country=Belgium<br>Población (millones)=%{x}<br>Emisiones de CO2 (kt)=%{y}<extra></extra>",
         "legendgroup": "Belgium",
         "marker": {
          "color": "#1bcfd4",
          "opacity": 0.5,
          "size": 10,
          "symbol": "circle"
         },
         "mode": "markers",
         "name": "Belgium",
         "orientation": "v",
         "showlegend": true,
         "type": "scatter",
         "x": [
          11.448598
         ],
         "xaxis": "x",
         "y": [
          99.874
         ],
         "yaxis": "y"
        },
        {
         "hovertemplate": "country=Belize<br>Población (millones)=%{x}<br>Emisiones de CO2 (kt)=%{y}<extra></extra>",
         "legendgroup": "Belize",
         "marker": {
          "color": "#24eca6",
          "opacity": 0.5,
          "size": 10,
          "symbol": "circle"
         },
         "mode": "markers",
         "name": "Belize",
         "orientation": "v",
         "showlegend": true,
         "type": "scatter",
         "x": [
          0.382076
         ],
         "xaxis": "x",
         "y": [
          0.605
         ],
         "yaxis": "y"
        },
        {
         "hovertemplate": "country=Benin<br>Población (millones)=%{x}<br>Emisiones de CO2 (kt)=%{y}<extra></extra>",
         "legendgroup": "Benin",
         "marker": {
          "color": "#61fc6c",
          "opacity": 0.5,
          "size": 10,
          "symbol": "circle"
         },
         "mode": "markers",
         "name": "Benin",
         "orientation": "v",
         "showlegend": true,
         "type": "scatter",
         "x": [
          11.940688
         ],
         "xaxis": "x",
         "y": [
          7.434
         ],
         "yaxis": "y"
        },
        {
         "hovertemplate": "country=Bermuda<br>Población (millones)=%{x}<br>Emisiones de CO2 (kt)=%{y}<extra></extra>",
         "legendgroup": "Bermuda",
         "marker": {
          "color": "#a4fc3b",
          "opacity": 0.5,
          "size": 10,
          "symbol": "circle"
         },
         "mode": "markers",
         "name": "Bermuda",
         "orientation": "v",
         "showlegend": true,
         "type": "scatter",
         "x": [
          0.063591
         ],
         "xaxis": "x",
         "y": [
          0.703
         ],
         "yaxis": "y"
        },
        {
         "hovertemplate": "country=Bhutan<br>Población (millones)=%{x}<br>Emisiones de CO2 (kt)=%{y}<extra></extra>",
         "legendgroup": "Bhutan",
         "marker": {
          "color": "#d1e834",
          "opacity": 0.5,
          "size": 10,
          "symbol": "circle"
         },
         "mode": "markers",
         "name": "Bhutan",
         "orientation": "v",
         "showlegend": true,
         "type": "scatter",
         "x": [
          0.762104
         ],
         "xaxis": "x",
         "y": [
          1.349
         ],
         "yaxis": "y"
        },
        {
         "hovertemplate": "country=Bolivia<br>Población (millones)=%{x}<br>Emisiones de CO2 (kt)=%{y}<extra></extra>",
         "legendgroup": "Bolivia",
         "marker": {
          "color": "#f3c63a",
          "opacity": 0.5,
          "size": 10,
          "symbol": "circle"
         },
         "mode": "markers",
         "name": "Bolivia",
         "orientation": "v",
         "showlegend": true,
         "type": "scatter",
         "x": [
          11.606906
         ],
         "xaxis": "x",
         "y": [
          23.799
         ],
         "yaxis": "y"
        },
        {
         "hovertemplate": "country=Bonaire Sint Eustatius and Saba<br>Población (millones)=%{x}<br>Emisiones de CO2 (kt)=%{y}<extra></extra>",
         "legendgroup": "Bonaire Sint Eustatius and Saba",
         "marker": {
          "color": "#fe9b2d",
          "opacity": 0.5,
          "size": 10,
          "symbol": "circle"
         },
         "mode": "markers",
         "name": "Bonaire Sint Eustatius and Saba",
         "orientation": "v",
         "showlegend": true,
         "type": "scatter",
         "x": [
          0.024995
         ],
         "xaxis": "x",
         "y": [
          0.099
         ],
         "yaxis": "y"
        },
        {
         "hovertemplate": "country=Bosnia and Herzegovina<br>Población (millones)=%{x}<br>Emisiones de CO2 (kt)=%{y}<extra></extra>",
         "legendgroup": "Bosnia and Herzegovina",
         "marker": {
          "color": "#f36315",
          "opacity": 0.5,
          "size": 10,
          "symbol": "circle"
         },
         "mode": "markers",
         "name": "Bosnia and Herzegovina",
         "orientation": "v",
         "showlegend": true,
         "type": "scatter",
         "x": [
          3.400132
         ],
         "xaxis": "x",
         "y": [
          22.075
         ],
         "yaxis": "y"
        },
        {
         "hovertemplate": "country=Botswana<br>Población (millones)=%{x}<br>Emisiones de CO2 (kt)=%{y}<extra></extra>",
         "legendgroup": "Botswana",
         "marker": {
          "color": "#d93806",
          "opacity": 0.5,
          "size": 10,
          "symbol": "circle"
         },
         "mode": "markers",
         "name": "Botswana",
         "orientation": "v",
         "showlegend": true,
         "type": "scatter",
         "x": [
          2.451411
         ],
         "xaxis": "x",
         "y": [
          7.504
         ],
         "yaxis": "y"
        },
        {
         "hovertemplate": "country=Brazil<br>Población (millones)=%{x}<br>Emisiones de CO2 (kt)=%{y}<extra></extra>",
         "legendgroup": "Brazil",
         "marker": {
          "color": "#b11901",
          "opacity": 0.5,
          "size": 10,
          "symbol": "circle"
         },
         "mode": "markers",
         "name": "Brazil",
         "orientation": "v",
         "showlegend": true,
         "type": "scatter",
         "x": [
          210.166592
         ],
         "xaxis": "x",
         "y": [
          477.102
         ],
         "yaxis": "y"
        },
        {
         "hovertemplate": "country=British Virgin Islands<br>Población (millones)=%{x}<br>Emisiones de CO2 (kt)=%{y}<extra></extra>",
         "legendgroup": "British Virgin Islands",
         "marker": {
          "color": "#7a0402",
          "opacity": 0.5,
          "size": 10,
          "symbol": "circle"
         },
         "mode": "markers",
         "name": "British Virgin Islands",
         "orientation": "v",
         "showlegend": true,
         "type": "scatter",
         "x": [
          0.030359
         ],
         "xaxis": "x",
         "y": [
          0.161
         ],
         "yaxis": "y"
        },
        {
         "hovertemplate": "country=Brunei<br>Población (millones)=%{x}<br>Emisiones de CO2 (kt)=%{y}<extra></extra>",
         "legendgroup": "Brunei",
         "marker": {
          "color": "#30123b",
          "opacity": 0.5,
          "size": 10,
          "symbol": "circle"
         },
         "mode": "markers",
         "name": "Brunei",
         "orientation": "v",
         "showlegend": true,
         "type": "scatter",
         "x": [
          0.434283
         ],
         "xaxis": "x",
         "y": [
          9.344
         ],
         "yaxis": "y"
        },
        {
         "hovertemplate": "country=Bulgaria<br>Población (millones)=%{x}<br>Emisiones de CO2 (kt)=%{y}<extra></extra>",
         "legendgroup": "Bulgaria",
         "marker": {
          "color": "#4145ab",
          "opacity": 0.5,
          "size": 10,
          "symbol": "circle"
         },
         "mode": "markers",
         "name": "Bulgaria",
         "orientation": "v",
         "showlegend": true,
         "type": "scatter",
         "x": [
          7.117424
         ],
         "xaxis": "x",
         "y": [
          43.616
         ],
         "yaxis": "y"
        },
        {
         "hovertemplate": "country=Burkina Faso<br>Población (millones)=%{x}<br>Emisiones de CO2 (kt)=%{y}<extra></extra>",
         "legendgroup": "Burkina Faso",
         "marker": {
          "color": "#4675ed",
          "opacity": 0.5,
          "size": 10,
          "symbol": "circle"
         },
         "mode": "markers",
         "name": "Burkina Faso",
         "orientation": "v",
         "showlegend": true,
         "type": "scatter",
         "x": [
          20.39273
         ],
         "xaxis": "x",
         "y": [
          4.948
         ],
         "yaxis": "y"
        },
        {
         "hovertemplate": "country=Burundi<br>Población (millones)=%{x}<br>Emisiones de CO2 (kt)=%{y}<extra></extra>",
         "legendgroup": "Burundi",
         "marker": {
          "color": "#39a2fc",
          "opacity": 0.5,
          "size": 10,
          "symbol": "circle"
         },
         "mode": "markers",
         "name": "Burundi",
         "orientation": "v",
         "showlegend": true,
         "type": "scatter",
         "x": [
          11.493476
         ],
         "xaxis": "x",
         "y": [
          0.684
         ],
         "yaxis": "y"
        },
        {
         "hovertemplate": "country=Cambodia<br>Población (millones)=%{x}<br>Emisiones de CO2 (kt)=%{y}<extra></extra>",
         "legendgroup": "Cambodia",
         "marker": {
          "color": "#1bcfd4",
          "opacity": 0.5,
          "size": 10,
          "symbol": "circle"
         },
         "mode": "markers",
         "name": "Cambodia",
         "orientation": "v",
         "showlegend": true,
         "type": "scatter",
         "x": [
          16.025242
         ],
         "xaxis": "x",
         "y": [
          14.388
         ],
         "yaxis": "y"
        },
        {
         "hovertemplate": "country=Cameroon<br>Población (millones)=%{x}<br>Emisiones de CO2 (kt)=%{y}<extra></extra>",
         "legendgroup": "Cameroon",
         "marker": {
          "color": "#24eca6",
          "opacity": 0.5,
          "size": 10,
          "symbol": "circle"
         },
         "mode": "markers",
         "name": "Cameroon",
         "orientation": "v",
         "showlegend": true,
         "type": "scatter",
         "x": [
          25.076752
         ],
         "xaxis": "x",
         "y": [
          9.634
         ],
         "yaxis": "y"
        },
        {
         "hovertemplate": "country=Canada<br>Población (millones)=%{x}<br>Emisiones de CO2 (kt)=%{y}<extra></extra>",
         "legendgroup": "Canada",
         "marker": {
          "color": "#61fc6c",
          "opacity": 0.5,
          "size": 10,
          "symbol": "circle"
         },
         "mode": "markers",
         "name": "Canada",
         "orientation": "v",
         "showlegend": true,
         "type": "scatter",
         "x": [
          37.03526
         ],
         "xaxis": "x",
         "y": [
          584.369
         ],
         "yaxis": "y"
        },
        {
         "hovertemplate": "country=Cape Verde<br>Población (millones)=%{x}<br>Emisiones de CO2 (kt)=%{y}<extra></extra>",
         "legendgroup": "Cape Verde",
         "marker": {
          "color": "#a4fc3b",
          "opacity": 0.5,
          "size": 10,
          "symbol": "circle"
         },
         "mode": "markers",
         "name": "Cape Verde",
         "orientation": "v",
         "showlegend": true,
         "type": "scatter",
         "x": [
          0.571209
         ],
         "xaxis": "x",
         "y": [
          0.583
         ],
         "yaxis": "y"
        },
        {
         "hovertemplate": "country=Central African Republic<br>Población (millones)=%{x}<br>Emisiones de CO2 (kt)=%{y}<extra></extra>",
         "legendgroup": "Central African Republic",
         "marker": {
          "color": "#d1e834",
          "opacity": 0.5,
          "size": 10,
          "symbol": "circle"
         },
         "mode": "markers",
         "name": "Central African Republic",
         "orientation": "v",
         "showlegend": true,
         "type": "scatter",
         "x": [
          5.094795
         ],
         "xaxis": "x",
         "y": [
          0.22
         ],
         "yaxis": "y"
        },
        {
         "hovertemplate": "country=Chad<br>Población (millones)=%{x}<br>Emisiones de CO2 (kt)=%{y}<extra></extra>",
         "legendgroup": "Chad",
         "marker": {
          "color": "#f3c63a",
          "opacity": 0.5,
          "size": 10,
          "symbol": "circle"
         },
         "mode": "markers",
         "name": "Chad",
         "orientation": "v",
         "showlegend": true,
         "type": "scatter",
         "x": [
          15.604213
         ],
         "xaxis": "x",
         "y": [
          2.007
         ],
         "yaxis": "y"
        },
        {
         "hovertemplate": "country=Chile<br>Población (millones)=%{x}<br>Emisiones de CO2 (kt)=%{y}<extra></extra>",
         "legendgroup": "Chile",
         "marker": {
          "color": "#fe9b2d",
          "opacity": 0.5,
          "size": 10,
          "symbol": "circle"
         },
         "mode": "markers",
         "name": "Chile",
         "orientation": "v",
         "showlegend": true,
         "type": "scatter",
         "x": [
          18.701452
         ],
         "xaxis": "x",
         "y": [
          84.469
         ],
         "yaxis": "y"
        },
        {
         "hovertemplate": "country=Colombia<br>Población (millones)=%{x}<br>Emisiones de CO2 (kt)=%{y}<extra></extra>",
         "legendgroup": "Colombia",
         "marker": {
          "color": "#f36315",
          "opacity": 0.5,
          "size": 10,
          "symbol": "circle"
         },
         "mode": "markers",
         "name": "Colombia",
         "orientation": "v",
         "showlegend": true,
         "type": "scatter",
         "x": [
          49.276968
         ],
         "xaxis": "x",
         "y": [
          82.427
         ],
         "yaxis": "y"
        },
        {
         "hovertemplate": "country=Comoros<br>Población (millones)=%{x}<br>Emisiones de CO2 (kt)=%{y}<extra></extra>",
         "legendgroup": "Comoros",
         "marker": {
          "color": "#d93806",
          "opacity": 0.5,
          "size": 10,
          "symbol": "circle"
         },
         "mode": "markers",
         "name": "Comoros",
         "orientation": "v",
         "showlegend": true,
         "type": "scatter",
         "x": [
          0.776322
         ],
         "xaxis": "x",
         "y": [
          0.293
         ],
         "yaxis": "y"
        },
        {
         "hovertemplate": "country=Congo<br>Población (millones)=%{x}<br>Emisiones de CO2 (kt)=%{y}<extra></extra>",
         "legendgroup": "Congo",
         "marker": {
          "color": "#b11901",
          "opacity": 0.5,
          "size": 10,
          "symbol": "circle"
         },
         "mode": "markers",
         "name": "Congo",
         "orientation": "v",
         "showlegend": true,
         "type": "scatter",
         "x": [
          5.441061
         ],
         "xaxis": "x",
         "y": [
          6.596
         ],
         "yaxis": "y"
        },
        {
         "hovertemplate": "country=Cook Islands<br>Población (millones)=%{x}<br>Emisiones de CO2 (kt)=%{y}<extra></extra>",
         "legendgroup": "Cook Islands",
         "marker": {
          "color": "#7a0402",
          "opacity": 0.5,
          "size": 10,
          "symbol": "circle"
         },
         "mode": "markers",
         "name": "Cook Islands",
         "orientation": "v",
         "showlegend": true,
         "type": "scatter",
         "x": [
          0.017276
         ],
         "xaxis": "x",
         "y": [
          0.081
         ],
         "yaxis": "y"
        },
        {
         "hovertemplate": "country=Costa Rica<br>Población (millones)=%{x}<br>Emisiones de CO2 (kt)=%{y}<extra></extra>",
         "legendgroup": "Costa Rica",
         "marker": {
          "color": "#30123b",
          "opacity": 0.5,
          "size": 10,
          "symbol": "circle"
         },
         "mode": "markers",
         "name": "Costa Rica",
         "orientation": "v",
         "showlegend": true,
         "type": "scatter",
         "x": [
          5.040738
         ],
         "xaxis": "x",
         "y": [
          8.229
         ],
         "yaxis": "y"
        },
        {
         "hovertemplate": "country=Cote d'Ivoire<br>Población (millones)=%{x}<br>Emisiones de CO2 (kt)=%{y}<extra></extra>",
         "legendgroup": "Cote d'Ivoire",
         "marker": {
          "color": "#4145ab",
          "opacity": 0.5,
          "size": 10,
          "symbol": "circle"
         },
         "mode": "markers",
         "name": "Cote d'Ivoire",
         "orientation": "v",
         "showlegend": true,
         "type": "scatter",
         "x": [
          25.49399
         ],
         "xaxis": "x",
         "y": [
          10.352
         ],
         "yaxis": "y"
        },
        {
         "hovertemplate": "country=Croatia<br>Población (millones)=%{x}<br>Emisiones de CO2 (kt)=%{y}<extra></extra>",
         "legendgroup": "Croatia",
         "marker": {
          "color": "#4675ed",
          "opacity": 0.5,
          "size": 10,
          "symbol": "circle"
         },
         "mode": "markers",
         "name": "Croatia",
         "orientation": "v",
         "showlegend": true,
         "type": "scatter",
         "x": [
          4.160488
         ],
         "xaxis": "x",
         "y": [
          17.724
         ],
         "yaxis": "y"
        },
        {
         "hovertemplate": "country=Cuba<br>Población (millones)=%{x}<br>Emisiones de CO2 (kt)=%{y}<extra></extra>",
         "legendgroup": "Cuba",
         "marker": {
          "color": "#39a2fc",
          "opacity": 0.5,
          "size": 10,
          "symbol": "circle"
         },
         "mode": "markers",
         "name": "Cuba",
         "orientation": "v",
         "showlegend": true,
         "type": "scatter",
         "x": [
          11.328243
         ],
         "xaxis": "x",
         "y": [
          22.631
         ],
         "yaxis": "y"
        },
        {
         "hovertemplate": "country=Curacao<br>Población (millones)=%{x}<br>Emisiones de CO2 (kt)=%{y}<extra></extra>",
         "legendgroup": "Curacao",
         "marker": {
          "color": "#1bcfd4",
          "opacity": 0.5,
          "size": 10,
          "symbol": "circle"
         },
         "mode": "markers",
         "name": "Curacao",
         "orientation": "v",
         "showlegend": true,
         "type": "scatter",
         "x": [
          0.184734
         ],
         "xaxis": "x",
         "y": [
          3.979
         ],
         "yaxis": "y"
        },
        {
         "hovertemplate": "country=Cyprus<br>Población (millones)=%{x}<br>Emisiones de CO2 (kt)=%{y}<extra></extra>",
         "legendgroup": "Cyprus",
         "marker": {
          "color": "#24eca6",
          "opacity": 0.5,
          "size": 10,
          "symbol": "circle"
         },
         "mode": "markers",
         "name": "Cyprus",
         "orientation": "v",
         "showlegend": true,
         "type": "scatter",
         "x": [
          1.218834
         ],
         "xaxis": "x",
         "y": [
          7.343
         ],
         "yaxis": "y"
        },
        {
         "hovertemplate": "country=Czechia<br>Población (millones)=%{x}<br>Emisiones de CO2 (kt)=%{y}<extra></extra>",
         "legendgroup": "Czechia",
         "marker": {
          "color": "#61fc6c",
          "opacity": 0.5,
          "size": 10,
          "symbol": "circle"
         },
         "mode": "markers",
         "name": "Czechia",
         "orientation": "v",
         "showlegend": true,
         "type": "scatter",
         "x": [
          10.534598
         ],
         "xaxis": "x",
         "y": [
          106.338
         ],
         "yaxis": "y"
        },
        {
         "hovertemplate": "country=Democratic Republic of Congo<br>Población (millones)=%{x}<br>Emisiones de CO2 (kt)=%{y}<extra></extra>",
         "legendgroup": "Democratic Republic of Congo",
         "marker": {
          "color": "#a4fc3b",
          "opacity": 0.5,
          "size": 10,
          "symbol": "circle"
         },
         "mode": "markers",
         "name": "Democratic Republic of Congo",
         "orientation": "v",
         "showlegend": true,
         "type": "scatter",
         "x": [
          87.087352
         ],
         "xaxis": "x",
         "y": [
          2.472
         ],
         "yaxis": "y"
        },
        {
         "hovertemplate": "country=Denmark<br>Población (millones)=%{x}<br>Emisiones de CO2 (kt)=%{y}<extra></extra>",
         "legendgroup": "Denmark",
         "marker": {
          "color": "#d1e834",
          "opacity": 0.5,
          "size": 10,
          "symbol": "circle"
         },
         "mode": "markers",
         "name": "Denmark",
         "orientation": "v",
         "showlegend": true,
         "type": "scatter",
         "x": [
          5.766689
         ],
         "xaxis": "x",
         "y": [
          34.725
         ],
         "yaxis": "y"
        },
        {
         "hovertemplate": "country=Djibouti<br>Población (millones)=%{x}<br>Emisiones de CO2 (kt)=%{y}<extra></extra>",
         "legendgroup": "Djibouti",
         "marker": {
          "color": "#f3c63a",
          "opacity": 0.5,
          "size": 10,
          "symbol": "circle"
         },
         "mode": "markers",
         "name": "Djibouti",
         "orientation": "v",
         "showlegend": true,
         "type": "scatter",
         "x": [
          1.057204
         ],
         "xaxis": "x",
         "y": [
          0.385
         ],
         "yaxis": "y"
        },
        {
         "hovertemplate": "country=Dominica<br>Población (millones)=%{x}<br>Emisiones de CO2 (kt)=%{y}<extra></extra>",
         "legendgroup": "Dominica",
         "marker": {
          "color": "#fe9b2d",
          "opacity": 0.5,
          "size": 10,
          "symbol": "circle"
         },
         "mode": "markers",
         "name": "Dominica",
         "orientation": "v",
         "showlegend": true,
         "type": "scatter",
         "x": [
          0.07084
         ],
         "xaxis": "x",
         "y": [
          0.161
         ],
         "yaxis": "y"
        },
        {
         "hovertemplate": "country=Dominican Republic<br>Población (millones)=%{x}<br>Emisiones de CO2 (kt)=%{y}<extra></extra>",
         "legendgroup": "Dominican Republic",
         "marker": {
          "color": "#f36315",
          "opacity": 0.5,
          "size": 10,
          "symbol": "circle"
         },
         "mode": "markers",
         "name": "Dominican Republic",
         "orientation": "v",
         "showlegend": true,
         "type": "scatter",
         "x": [
          10.765532
         ],
         "xaxis": "x",
         "y": [
          25.756
         ],
         "yaxis": "y"
        },
        {
         "hovertemplate": "country=Ecuador<br>Población (millones)=%{x}<br>Emisiones de CO2 (kt)=%{y}<extra></extra>",
         "legendgroup": "Ecuador",
         "marker": {
          "color": "#d93806",
          "opacity": 0.5,
          "size": 10,
          "symbol": "circle"
         },
         "mode": "markers",
         "name": "Ecuador",
         "orientation": "v",
         "showlegend": true,
         "type": "scatter",
         "x": [
          17.015672
         ],
         "xaxis": "x",
         "y": [
          38.245
         ],
         "yaxis": "y"
        },
        {
         "hovertemplate": "country=Egypt<br>Población (millones)=%{x}<br>Emisiones de CO2 (kt)=%{y}<extra></extra>",
         "legendgroup": "Egypt",
         "marker": {
          "color": "#b11901",
          "opacity": 0.5,
          "size": 10,
          "symbol": "circle"
         },
         "mode": "markers",
         "name": "Egypt",
         "orientation": "v",
         "showlegend": true,
         "type": "scatter",
         "x": [
          103.740768
         ],
         "xaxis": "x",
         "y": [
          243.908
         ],
         "yaxis": "y"
        },
        {
         "hovertemplate": "country=El Salvador<br>Población (millones)=%{x}<br>Emisiones de CO2 (kt)=%{y}<extra></extra>",
         "legendgroup": "El Salvador",
         "marker": {
          "color": "#7a0402",
          "opacity": 0.5,
          "size": 10,
          "symbol": "circle"
         },
         "mode": "markers",
         "name": "El Salvador",
         "orientation": "v",
         "showlegend": true,
         "type": "scatter",
         "x": [
          6.27634
         ],
         "xaxis": "x",
         "y": [
          6.41
         ],
         "yaxis": "y"
        },
        {
         "hovertemplate": "country=Equatorial Guinea<br>Población (millones)=%{x}<br>Emisiones de CO2 (kt)=%{y}<extra></extra>",
         "legendgroup": "Equatorial Guinea",
         "marker": {
          "color": "#30123b",
          "opacity": 0.5,
          "size": 10,
          "symbol": "circle"
         },
         "mode": "markers",
         "name": "Equatorial Guinea",
         "orientation": "v",
         "showlegend": true,
         "type": "scatter",
         "x": [
          1.502102
         ],
         "xaxis": "x",
         "y": [
          6.008
         ],
         "yaxis": "y"
        },
        {
         "hovertemplate": "country=Eritrea<br>Población (millones)=%{x}<br>Emisiones de CO2 (kt)=%{y}<extra></extra>",
         "legendgroup": "Eritrea",
         "marker": {
          "color": "#4145ab",
          "opacity": 0.5,
          "size": 10,
          "symbol": "circle"
         },
         "mode": "markers",
         "name": "Eritrea",
         "orientation": "v",
         "showlegend": true,
         "type": "scatter",
         "x": [
          3.44538
         ],
         "xaxis": "x",
         "y": [
          0.83
         ],
         "yaxis": "y"
        },
        {
         "hovertemplate": "country=Estonia<br>Población (millones)=%{x}<br>Emisiones de CO2 (kt)=%{y}<extra></extra>",
         "legendgroup": "Estonia",
         "marker": {
          "color": "#4675ed",
          "opacity": 0.5,
          "size": 10,
          "symbol": "circle"
         },
         "mode": "markers",
         "name": "Estonia",
         "orientation": "v",
         "showlegend": true,
         "type": "scatter",
         "x": [
          1.322146
         ],
         "xaxis": "x",
         "y": [
          17.935
         ],
         "yaxis": "y"
        },
        {
         "hovertemplate": "country=Eswatini<br>Población (millones)=%{x}<br>Emisiones de CO2 (kt)=%{y}<extra></extra>",
         "legendgroup": "Eswatini",
         "marker": {
          "color": "#39a2fc",
          "opacity": 0.5,
          "size": 10,
          "symbol": "circle"
         },
         "mode": "markers",
         "name": "Eswatini",
         "orientation": "v",
         "showlegend": true,
         "type": "scatter",
         "x": [
          1.16043
         ],
         "xaxis": "x",
         "y": [
          1.033
         ],
         "yaxis": "y"
        },
        {
         "hovertemplate": "country=Ethiopia<br>Población (millones)=%{x}<br>Emisiones de CO2 (kt)=%{y}<extra></extra>",
         "legendgroup": "Ethiopia",
         "marker": {
          "color": "#1bcfd4",
          "opacity": 0.5,
          "size": 10,
          "symbol": "circle"
         },
         "mode": "markers",
         "name": "Ethiopia",
         "orientation": "v",
         "showlegend": true,
         "type": "scatter",
         "x": [
          111.12944
         ],
         "xaxis": "x",
         "y": [
          15.808
         ],
         "yaxis": "y"
        },
        {
         "hovertemplate": "country=Faeroe Islands<br>Población (millones)=%{x}<br>Emisiones de CO2 (kt)=%{y}<extra></extra>",
         "legendgroup": "Faeroe Islands",
         "marker": {
          "color": "#24eca6",
          "opacity": 0.5,
          "size": 10,
          "symbol": "circle"
         },
         "mode": "markers",
         "name": "Faeroe Islands",
         "orientation": "v",
         "showlegend": true,
         "type": "scatter",
         "x": [
          0.050978
         ],
         "xaxis": "x",
         "y": [
          0.725
         ],
         "yaxis": "y"
        },
        {
         "hovertemplate": "country=Fiji<br>Población (millones)=%{x}<br>Emisiones de CO2 (kt)=%{y}<extra></extra>",
         "legendgroup": "Fiji",
         "marker": {
          "color": "#61fc6c",
          "opacity": 0.5,
          "size": 10,
          "symbol": "circle"
         },
         "mode": "markers",
         "name": "Fiji",
         "orientation": "v",
         "showlegend": true,
         "type": "scatter",
         "x": [
          0.919002
         ],
         "xaxis": "x",
         "y": [
          1.356
         ],
         "yaxis": "y"
        },
        {
         "hovertemplate": "country=Finland<br>Población (millones)=%{x}<br>Emisiones de CO2 (kt)=%{y}<extra></extra>",
         "legendgroup": "Finland",
         "marker": {
          "color": "#a4fc3b",
          "opacity": 0.5,
          "size": 10,
          "symbol": "circle"
         },
         "mode": "markers",
         "name": "Finland",
         "orientation": "v",
         "showlegend": true,
         "type": "scatter",
         "x": [
          5.515465
         ],
         "xaxis": "x",
         "y": [
          45.796
         ],
         "yaxis": "y"
        },
        {
         "hovertemplate": "country=France<br>Población (millones)=%{x}<br>Emisiones de CO2 (kt)=%{y}<extra></extra>",
         "legendgroup": "France",
         "marker": {
          "color": "#d1e834",
          "opacity": 0.5,
          "size": 10,
          "symbol": "circle"
         },
         "mode": "markers",
         "name": "France",
         "orientation": "v",
         "showlegend": true,
         "type": "scatter",
         "x": [
          64.277812
         ],
         "xaxis": "x",
         "y": [
          322.527
         ],
         "yaxis": "y"
        },
        {
         "hovertemplate": "country=French Guiana<br>Población (millones)=%{x}<br>Emisiones de CO2 (kt)=%{y}<extra></extra>",
         "legendgroup": "French Guiana",
         "marker": {
          "color": "#f3c63a",
          "opacity": 0.5,
          "size": 10,
          "symbol": "circle"
         },
         "mode": "markers",
         "name": "French Guiana",
         "orientation": "v",
         "showlegend": true,
         "type": "scatter",
         "x": [
          0.276659
         ],
         "xaxis": "x",
         "y": [
          0.703
         ],
         "yaxis": "y"
        },
        {
         "hovertemplate": "country=French Polynesia<br>Población (millones)=%{x}<br>Emisiones de CO2 (kt)=%{y}<extra></extra>",
         "legendgroup": "French Polynesia",
         "marker": {
          "color": "#fe9b2d",
          "opacity": 0.5,
          "size": 10,
          "symbol": "circle"
         },
         "mode": "markers",
         "name": "French Polynesia",
         "orientation": "v",
         "showlegend": true,
         "type": "scatter",
         "x": [
          0.297615
         ],
         "xaxis": "x",
         "y": [
          0.876
         ],
         "yaxis": "y"
        },
        {
         "hovertemplate": "country=Gabon<br>Población (millones)=%{x}<br>Emisiones de CO2 (kt)=%{y}<extra></extra>",
         "legendgroup": "Gabon",
         "marker": {
          "color": "#f36315",
          "opacity": 0.5,
          "size": 10,
          "symbol": "circle"
         },
         "mode": "markers",
         "name": "Gabon",
         "orientation": "v",
         "showlegend": true,
         "type": "scatter",
         "x": [
          2.192013
         ],
         "xaxis": "x",
         "y": [
          5.992
         ],
         "yaxis": "y"
        },
        {
         "hovertemplate": "country=Gambia<br>Población (millones)=%{x}<br>Emisiones de CO2 (kt)=%{y}<extra></extra>",
         "legendgroup": "Gambia",
         "marker": {
          "color": "#d93806",
          "opacity": 0.5,
          "size": 10,
          "symbol": "circle"
         },
         "mode": "markers",
         "name": "Gambia",
         "orientation": "v",
         "showlegend": true,
         "type": "scatter",
         "x": [
          2.444916
         ],
         "xaxis": "x",
         "y": [
          0.594
         ],
         "yaxis": "y"
        },
        {
         "hovertemplate": "country=Georgia<br>Población (millones)=%{x}<br>Emisiones de CO2 (kt)=%{y}<extra></extra>",
         "legendgroup": "Georgia",
         "marker": {
          "color": "#b11901",
          "opacity": 0.5,
          "size": 10,
          "symbol": "circle"
         },
         "mode": "markers",
         "name": "Georgia",
         "orientation": "v",
         "showlegend": true,
         "type": "scatter",
         "x": [
          3.772323
         ],
         "xaxis": "x",
         "y": [
          10.063
         ],
         "yaxis": "y"
        },
        {
         "hovertemplate": "country=Germany<br>Población (millones)=%{x}<br>Emisiones de CO2 (kt)=%{y}<extra></extra>",
         "legendgroup": "Germany",
         "marker": {
          "color": "#7a0402",
          "opacity": 0.5,
          "size": 10,
          "symbol": "circle"
         },
         "mode": "markers",
         "name": "Germany",
         "orientation": "v",
         "showlegend": true,
         "type": "scatter",
         "x": [
          82.896696
         ],
         "xaxis": "x",
         "y": [
          754.408
         ],
         "yaxis": "y"
        },
        {
         "hovertemplate": "country=Ghana<br>Población (millones)=%{x}<br>Emisiones de CO2 (kt)=%{y}<extra></extra>",
         "legendgroup": "Ghana",
         "marker": {
          "color": "#30123b",
          "opacity": 0.5,
          "size": 10,
          "symbol": "circle"
         },
         "mode": "markers",
         "name": "Ghana",
         "orientation": "v",
         "showlegend": true,
         "type": "scatter",
         "x": [
          30.870648
         ],
         "xaxis": "x",
         "y": [
          17.105
         ],
         "yaxis": "y"
        },
        {
         "hovertemplate": "country=Greece<br>Población (millones)=%{x}<br>Emisiones de CO2 (kt)=%{y}<extra></extra>",
         "legendgroup": "Greece",
         "marker": {
          "color": "#4145ab",
          "opacity": 0.5,
          "size": 10,
          "symbol": "circle"
         },
         "mode": "markers",
         "name": "Greece",
         "orientation": "v",
         "showlegend": true,
         "type": "scatter",
         "x": [
          10.633275
         ],
         "xaxis": "x",
         "y": [
          71.782
         ],
         "yaxis": "y"
        },
        {
         "hovertemplate": "country=Greenland<br>Población (millones)=%{x}<br>Emisiones de CO2 (kt)=%{y}<extra></extra>",
         "legendgroup": "Greenland",
         "marker": {
          "color": "#4675ed",
          "opacity": 0.5,
          "size": 10,
          "symbol": "circle"
         },
         "mode": "markers",
         "name": "Greenland",
         "orientation": "v",
         "showlegend": true,
         "type": "scatter",
         "x": [
          0.055954
         ],
         "xaxis": "x",
         "y": [
          0.548
         ],
         "yaxis": "y"
        },
        {
         "hovertemplate": "country=Grenada<br>Población (millones)=%{x}<br>Emisiones de CO2 (kt)=%{y}<extra></extra>",
         "legendgroup": "Grenada",
         "marker": {
          "color": "#39a2fc",
          "opacity": 0.5,
          "size": 10,
          "symbol": "circle"
         },
         "mode": "markers",
         "name": "Grenada",
         "orientation": "v",
         "showlegend": true,
         "type": "scatter",
         "x": [
          0.121853
         ],
         "xaxis": "x",
         "y": [
          0.308
         ],
         "yaxis": "y"
        },
        {
         "hovertemplate": "country=Guadeloupe<br>Población (millones)=%{x}<br>Emisiones de CO2 (kt)=%{y}<extra></extra>",
         "legendgroup": "Guadeloupe",
         "marker": {
          "color": "#1bcfd4",
          "opacity": 0.5,
          "size": 10,
          "symbol": "circle"
         },
         "mode": "markers",
         "name": "Guadeloupe",
         "orientation": "v",
         "showlegend": true,
         "type": "scatter",
         "x": [
          0.396273
         ],
         "xaxis": "x",
         "y": [
          2.472
         ],
         "yaxis": "y"
        },
        {
         "hovertemplate": "country=Guatemala<br>Población (millones)=%{x}<br>Emisiones de CO2 (kt)=%{y}<extra></extra>",
         "legendgroup": "Guatemala",
         "marker": {
          "color": "#24eca6",
          "opacity": 0.5,
          "size": 10,
          "symbol": "circle"
         },
         "mode": "markers",
         "name": "Guatemala",
         "orientation": "v",
         "showlegend": true,
         "type": "scatter",
         "x": [
          16.850176
         ],
         "xaxis": "x",
         "y": [
          18.691
         ],
         "yaxis": "y"
        },
        {
         "hovertemplate": "country=Guernsey<br>Población (millones)=%{x}<br>Emisiones de CO2 (kt)=%{y}<extra></extra>",
         "legendgroup": "Guernsey",
         "marker": {
          "color": "#61fc6c",
          "opacity": 0.5,
          "size": 10,
          "symbol": "circle"
         },
         "mode": "markers",
         "name": "Guernsey",
         "orientation": "v",
         "showlegend": true,
         "type": "scatter",
         "x": [
          0.061908
         ],
         "xaxis": "x",
         "y": [
          null
         ],
         "yaxis": "y"
        },
        {
         "hovertemplate": "country=Guinea<br>Población (millones)=%{x}<br>Emisiones de CO2 (kt)=%{y}<extra></extra>",
         "legendgroup": "Guinea",
         "marker": {
          "color": "#a4fc3b",
          "opacity": 0.5,
          "size": 10,
          "symbol": "circle"
         },
         "mode": "markers",
         "name": "Guinea",
         "orientation": "v",
         "showlegend": true,
         "type": "scatter",
         "x": [
          12.554871
         ],
         "xaxis": "x",
         "y": [
          3.686
         ],
         "yaxis": "y"
        },
        {
         "hovertemplate": "country=Guinea-Bissau<br>Población (millones)=%{x}<br>Emisiones de CO2 (kt)=%{y}<extra></extra>",
         "legendgroup": "Guinea-Bissau",
         "marker": {
          "color": "#d1e834",
          "opacity": 0.5,
          "size": 10,
          "symbol": "circle"
         },
         "mode": "markers",
         "name": "Guinea-Bissau",
         "orientation": "v",
         "showlegend": true,
         "type": "scatter",
         "x": [
          1.924954
         ],
         "xaxis": "x",
         "y": [
          0.311
         ],
         "yaxis": "y"
        },
        {
         "hovertemplate": "country=Guyana<br>Población (millones)=%{x}<br>Emisiones de CO2 (kt)=%{y}<extra></extra>",
         "legendgroup": "Guyana",
         "marker": {
          "color": "#f3c63a",
          "opacity": 0.5,
          "size": 10,
          "symbol": "circle"
         },
         "mode": "markers",
         "name": "Guyana",
         "orientation": "v",
         "showlegend": true,
         "type": "scatter",
         "x": [
          0.785518
         ],
         "xaxis": "x",
         "y": [
          2.481
         ],
         "yaxis": "y"
        },
        {
         "hovertemplate": "country=Haiti<br>Población (millones)=%{x}<br>Emisiones de CO2 (kt)=%{y}<extra></extra>",
         "legendgroup": "Haiti",
         "marker": {
          "color": "#fe9b2d",
          "opacity": 0.5,
          "size": 10,
          "symbol": "circle"
         },
         "mode": "markers",
         "name": "Haiti",
         "orientation": "v",
         "showlegend": true,
         "type": "scatter",
         "x": [
          11.012427
         ],
         "xaxis": "x",
         "y": [
          3.371
         ],
         "yaxis": "y"
        },
        {
         "hovertemplate": "country=Honduras<br>Población (millones)=%{x}<br>Emisiones de CO2 (kt)=%{y}<extra></extra>",
         "legendgroup": "Honduras",
         "marker": {
          "color": "#f36315",
          "opacity": 0.5,
          "size": 10,
          "symbol": "circle"
         },
         "mode": "markers",
         "name": "Honduras",
         "orientation": "v",
         "showlegend": true,
         "type": "scatter",
         "x": [
          9.792854
         ],
         "xaxis": "x",
         "y": [
          9.861
         ],
         "yaxis": "y"
        },
        {
         "hovertemplate": "country=Hong Kong<br>Población (millones)=%{x}<br>Emisiones de CO2 (kt)=%{y}<extra></extra>",
         "legendgroup": "Hong Kong",
         "marker": {
          "color": "#d93806",
          "opacity": 0.5,
          "size": 10,
          "symbol": "circle"
         },
         "mode": "markers",
         "name": "Hong Kong",
         "orientation": "v",
         "showlegend": true,
         "type": "scatter",
         "x": [
          7.481563
         ],
         "xaxis": "x",
         "y": [
          42.601
         ],
         "yaxis": "y"
        },
        {
         "hovertemplate": "country=Hungary<br>Población (millones)=%{x}<br>Emisiones de CO2 (kt)=%{y}<extra></extra>",
         "legendgroup": "Hungary",
         "marker": {
          "color": "#b11901",
          "opacity": 0.5,
          "size": 10,
          "symbol": "circle"
         },
         "mode": "markers",
         "name": "Hungary",
         "orientation": "v",
         "showlegend": true,
         "type": "scatter",
         "x": [
          9.776361
         ],
         "xaxis": "x",
         "y": [
          49.463
         ],
         "yaxis": "y"
        },
        {
         "hovertemplate": "country=Iceland<br>Población (millones)=%{x}<br>Emisiones de CO2 (kt)=%{y}<extra></extra>",
         "legendgroup": "Iceland",
         "marker": {
          "color": "#7a0402",
          "opacity": 0.5,
          "size": 10,
          "symbol": "circle"
         },
         "mode": "markers",
         "name": "Iceland",
         "orientation": "v",
         "showlegend": true,
         "type": "scatter",
         "x": [
          0.352951
         ],
         "xaxis": "x",
         "y": [
          3.659
         ],
         "yaxis": "y"
        },
        {
         "hovertemplate": "country=Indonesia<br>Población (millones)=%{x}<br>Emisiones de CO2 (kt)=%{y}<extra></extra>",
         "legendgroup": "Indonesia",
         "marker": {
          "color": "#30123b",
          "opacity": 0.5,
          "size": 10,
          "symbol": "circle"
         },
         "mode": "markers",
         "name": "Indonesia",
         "orientation": "v",
         "showlegend": true,
         "type": "scatter",
         "x": [
          267.066848
         ],
         "xaxis": "x",
         "y": [
          603.657
         ],
         "yaxis": "y"
        },
        {
         "hovertemplate": "country=Iran<br>Población (millones)=%{x}<br>Emisiones de CO2 (kt)=%{y}<extra></extra>",
         "legendgroup": "Iran",
         "marker": {
          "color": "#4145ab",
          "opacity": 0.5,
          "size": 10,
          "symbol": "circle"
         },
         "mode": "markers",
         "name": "Iran",
         "orientation": "v",
         "showlegend": true,
         "type": "scatter",
         "x": [
          85.61756
         ],
         "xaxis": "x",
         "y": [
          700.938
         ],
         "yaxis": "y"
        },
        {
         "hovertemplate": "country=Iraq<br>Población (millones)=%{x}<br>Emisiones de CO2 (kt)=%{y}<extra></extra>",
         "legendgroup": "Iraq",
         "marker": {
          "color": "#4675ed",
          "opacity": 0.5,
          "size": 10,
          "symbol": "circle"
         },
         "mode": "markers",
         "name": "Iraq",
         "orientation": "v",
         "showlegend": true,
         "type": "scatter",
         "x": [
          40.5907
         ],
         "xaxis": "x",
         "y": [
          213.431
         ],
         "yaxis": "y"
        },
        {
         "hovertemplate": "country=Ireland<br>Población (millones)=%{x}<br>Emisiones de CO2 (kt)=%{y}<extra></extra>",
         "legendgroup": "Ireland",
         "marker": {
          "color": "#39a2fc",
          "opacity": 0.5,
          "size": 10,
          "symbol": "circle"
         },
         "mode": "markers",
         "name": "Ireland",
         "orientation": "v",
         "showlegend": true,
         "type": "scatter",
         "x": [
          4.834506
         ],
         "xaxis": "x",
         "y": [
          39.012
         ],
         "yaxis": "y"
        },
        {
         "hovertemplate": "country=Isle of Man<br>Población (millones)=%{x}<br>Emisiones de CO2 (kt)=%{y}<extra></extra>",
         "legendgroup": "Isle of Man",
         "marker": {
          "color": "#1bcfd4",
          "opacity": 0.5,
          "size": 10,
          "symbol": "circle"
         },
         "mode": "markers",
         "name": "Isle of Man",
         "orientation": "v",
         "showlegend": true,
         "type": "scatter",
         "x": [
          0.083792
         ],
         "xaxis": "x",
         "y": [
          null
         ],
         "yaxis": "y"
        },
        {
         "hovertemplate": "country=Israel<br>Población (millones)=%{x}<br>Emisiones de CO2 (kt)=%{y}<extra></extra>",
         "legendgroup": "Israel",
         "marker": {
          "color": "#24eca6",
          "opacity": 0.5,
          "size": 10,
          "symbol": "circle"
         },
         "mode": "markers",
         "name": "Israel",
         "orientation": "v",
         "showlegend": true,
         "type": "scatter",
         "x": [
          8.456487
         ],
         "xaxis": "x",
         "y": [
          60.257
         ],
         "yaxis": "y"
        },
        {
         "hovertemplate": "country=Italy<br>Población (millones)=%{x}<br>Emisiones de CO2 (kt)=%{y}<extra></extra>",
         "legendgroup": "Italy",
         "marker": {
          "color": "#61fc6c",
          "opacity": 0.5,
          "size": 10,
          "symbol": "circle"
         },
         "mode": "markers",
         "name": "Italy",
         "orientation": "v",
         "showlegend": true,
         "type": "scatter",
         "x": [
          59.877432
         ],
         "xaxis": "x",
         "y": [
          349.005
         ],
         "yaxis": "y"
        },
        {
         "hovertemplate": "country=Jamaica<br>Población (millones)=%{x}<br>Emisiones de CO2 (kt)=%{y}<extra></extra>",
         "legendgroup": "Jamaica",
         "marker": {
          "color": "#a4fc3b",
          "opacity": 0.5,
          "size": 10,
          "symbol": "circle"
         },
         "mode": "markers",
         "name": "Jamaica",
         "orientation": "v",
         "showlegend": true,
         "type": "scatter",
         "x": [
          2.811842
         ],
         "xaxis": "x",
         "y": [
          8.086
         ],
         "yaxis": "y"
        },
        {
         "hovertemplate": "country=Japan<br>Población (millones)=%{x}<br>Emisiones de CO2 (kt)=%{y}<extra></extra>",
         "legendgroup": "Japan",
         "marker": {
          "color": "#d1e834",
          "opacity": 0.5,
          "size": 10,
          "symbol": "circle"
         },
         "mode": "markers",
         "name": "Japan",
         "orientation": "v",
         "showlegend": true,
         "type": "scatter",
         "x": [
          126.255872
         ],
         "xaxis": "x",
         "y": [
          1143.412
         ],
         "yaxis": "y"
        },
        {
         "hovertemplate": "country=Jersey<br>Población (millones)=%{x}<br>Emisiones de CO2 (kt)=%{y}<extra></extra>",
         "legendgroup": "Jersey",
         "marker": {
          "color": "#f3c63a",
          "opacity": 0.5,
          "size": 10,
          "symbol": "circle"
         },
         "mode": "markers",
         "name": "Jersey",
         "orientation": "v",
         "showlegend": true,
         "type": "scatter",
         "x": [
          0.105387
         ],
         "xaxis": "x",
         "y": [
          null
         ],
         "yaxis": "y"
        },
        {
         "hovertemplate": "country=Jordan<br>Población (millones)=%{x}<br>Emisiones de CO2 (kt)=%{y}<extra></extra>",
         "legendgroup": "Jordan",
         "marker": {
          "color": "#fe9b2d",
          "opacity": 0.5,
          "size": 10,
          "symbol": "circle"
         },
         "mode": "markers",
         "name": "Jordan",
         "orientation": "v",
         "showlegend": true,
         "type": "scatter",
         "x": [
          10.459864
         ],
         "xaxis": "x",
         "y": [
          24.96
         ],
         "yaxis": "y"
        },
        {
         "hovertemplate": "country=Kazakhstan<br>Población (millones)=%{x}<br>Emisiones de CO2 (kt)=%{y}<extra></extra>",
         "legendgroup": "Kazakhstan",
         "marker": {
          "color": "#f36315",
          "opacity": 0.5,
          "size": 10,
          "symbol": "circle"
         },
         "mode": "markers",
         "name": "Kazakhstan",
         "orientation": "v",
         "showlegend": true,
         "type": "scatter",
         "x": [
          18.5381
         ],
         "xaxis": "x",
         "y": [
          331.821
         ],
         "yaxis": "y"
        },
        {
         "hovertemplate": "country=Kenya<br>Población (millones)=%{x}<br>Emisiones de CO2 (kt)=%{y}<extra></extra>",
         "legendgroup": "Kenya",
         "marker": {
          "color": "#d93806",
          "opacity": 0.5,
          "size": 10,
          "symbol": "circle"
         },
         "mode": "markers",
         "name": "Kenya",
         "orientation": "v",
         "showlegend": true,
         "type": "scatter",
         "x": [
          49.9533
         ],
         "xaxis": "x",
         "y": [
          18.169
         ],
         "yaxis": "y"
        },
        {
         "hovertemplate": "country=Kiribati<br>Población (millones)=%{x}<br>Emisiones de CO2 (kt)=%{y}<extra></extra>",
         "legendgroup": "Kiribati",
         "marker": {
          "color": "#b11901",
          "opacity": 0.5,
          "size": 10,
          "symbol": "circle"
         },
         "mode": "markers",
         "name": "Kiribati",
         "orientation": "v",
         "showlegend": true,
         "type": "scatter",
         "x": [
          0.122276
         ],
         "xaxis": "x",
         "y": [
          0.066
         ],
         "yaxis": "y"
        },
        {
         "hovertemplate": "country=Kuwait<br>Población (millones)=%{x}<br>Emisiones de CO2 (kt)=%{y}<extra></extra>",
         "legendgroup": "Kuwait",
         "marker": {
          "color": "#7a0402",
          "opacity": 0.5,
          "size": 10,
          "symbol": "circle"
         },
         "mode": "markers",
         "name": "Kuwait",
         "orientation": "v",
         "showlegend": true,
         "type": "scatter",
         "x": [
          4.31719
         ],
         "xaxis": "x",
         "y": [
          97.045
         ],
         "yaxis": "y"
        },
        {
         "hovertemplate": "country=Kyrgyzstan<br>Población (millones)=%{x}<br>Emisiones de CO2 (kt)=%{y}<extra></extra>",
         "legendgroup": "Kyrgyzstan",
         "marker": {
          "color": "#30123b",
          "opacity": 0.5,
          "size": 10,
          "symbol": "circle"
         },
         "mode": "markers",
         "name": "Kyrgyzstan",
         "orientation": "v",
         "showlegend": true,
         "type": "scatter",
         "x": [
          6.223503
         ],
         "xaxis": "x",
         "y": [
          11.105
         ],
         "yaxis": "y"
        },
        {
         "hovertemplate": "country=Laos<br>Población (millones)=%{x}<br>Emisiones de CO2 (kt)=%{y}<extra></extra>",
         "legendgroup": "Laos",
         "marker": {
          "color": "#4145ab",
          "opacity": 0.5,
          "size": 10,
          "symbol": "circle"
         },
         "mode": "markers",
         "name": "Laos",
         "orientation": "v",
         "showlegend": true,
         "type": "scatter",
         "x": [
          7.105008
         ],
         "xaxis": "x",
         "y": [
          20.558
         ],
         "yaxis": "y"
        },
        {
         "hovertemplate": "country=Latvia<br>Población (millones)=%{x}<br>Emisiones de CO2 (kt)=%{y}<extra></extra>",
         "legendgroup": "Latvia",
         "marker": {
          "color": "#4675ed",
          "opacity": 0.5,
          "size": 10,
          "symbol": "circle"
         },
         "mode": "markers",
         "name": "Latvia",
         "orientation": "v",
         "showlegend": true,
         "type": "scatter",
         "x": [
          1.935632
         ],
         "xaxis": "x",
         "y": [
          7.859
         ],
         "yaxis": "y"
        },
        {
         "hovertemplate": "country=Lebanon<br>Población (millones)=%{x}<br>Emisiones de CO2 (kt)=%{y}<extra></extra>",
         "legendgroup": "Lebanon",
         "marker": {
          "color": "#39a2fc",
          "opacity": 0.5,
          "size": 10,
          "symbol": "circle"
         },
         "mode": "markers",
         "name": "Lebanon",
         "orientation": "v",
         "showlegend": true,
         "type": "scatter",
         "x": [
          5.950842
         ],
         "xaxis": "x",
         "y": [
          26.203
         ],
         "yaxis": "y"
        },
        {
         "hovertemplate": "country=Lesotho<br>Población (millones)=%{x}<br>Emisiones de CO2 (kt)=%{y}<extra></extra>",
         "legendgroup": "Lesotho",
         "marker": {
          "color": "#1bcfd4",
          "opacity": 0.5,
          "size": 10,
          "symbol": "circle"
         },
         "mode": "markers",
         "name": "Lesotho",
         "orientation": "v",
         "showlegend": true,
         "type": "scatter",
         "x": [
          2.19803
         ],
         "xaxis": "x",
         "y": [
          2.371
         ],
         "yaxis": "y"
        },
        {
         "hovertemplate": "country=Liberia<br>Población (millones)=%{x}<br>Emisiones de CO2 (kt)=%{y}<extra></extra>",
         "legendgroup": "Liberia",
         "marker": {
          "color": "#24eca6",
          "opacity": 0.5,
          "size": 10,
          "symbol": "circle"
         },
         "mode": "markers",
         "name": "Liberia",
         "orientation": "v",
         "showlegend": true,
         "type": "scatter",
         "x": [
          4.889396
         ],
         "xaxis": "x",
         "y": [
          1.082
         ],
         "yaxis": "y"
        },
        {
         "hovertemplate": "country=Libya<br>Población (millones)=%{x}<br>Emisiones de CO2 (kt)=%{y}<extra></extra>",
         "legendgroup": "Libya",
         "marker": {
          "color": "#61fc6c",
          "opacity": 0.5,
          "size": 10,
          "symbol": "circle"
         },
         "mode": "markers",
         "name": "Libya",
         "orientation": "v",
         "showlegend": true,
         "type": "scatter",
         "x": [
          6.477791
         ],
         "xaxis": "x",
         "y": [
          54.016
         ],
         "yaxis": "y"
        },
        {
         "hovertemplate": "country=Liechtenstein<br>Población (millones)=%{x}<br>Emisiones de CO2 (kt)=%{y}<extra></extra>",
         "legendgroup": "Liechtenstein",
         "marker": {
          "color": "#a4fc3b",
          "opacity": 0.5,
          "size": 10,
          "symbol": "circle"
         },
         "mode": "markers",
         "name": "Liechtenstein",
         "orientation": "v",
         "showlegend": true,
         "type": "scatter",
         "x": [
          0.038205
         ],
         "xaxis": "x",
         "y": [
          0.143
         ],
         "yaxis": "y"
        },
        {
         "hovertemplate": "country=Lithuania<br>Población (millones)=%{x}<br>Emisiones de CO2 (kt)=%{y}<extra></extra>",
         "legendgroup": "Lithuania",
         "marker": {
          "color": "#d1e834",
          "opacity": 0.5,
          "size": 10,
          "symbol": "circle"
         },
         "mode": "markers",
         "name": "Lithuania",
         "orientation": "v",
         "showlegend": true,
         "type": "scatter",
         "x": [
          2.876128
         ],
         "xaxis": "x",
         "y": [
          13.691
         ],
         "yaxis": "y"
        },
        {
         "hovertemplate": "country=Luxembourg<br>Población (millones)=%{x}<br>Emisiones de CO2 (kt)=%{y}<extra></extra>",
         "legendgroup": "Luxembourg",
         "marker": {
          "color": "#f3c63a",
          "opacity": 0.5,
          "size": 10,
          "symbol": "circle"
         },
         "mode": "markers",
         "name": "Luxembourg",
         "orientation": "v",
         "showlegend": true,
         "type": "scatter",
         "x": [
          0.60792
         ],
         "xaxis": "x",
         "y": [
          9.567
         ],
         "yaxis": "y"
        },
        {
         "hovertemplate": "country=Macao<br>Población (millones)=%{x}<br>Emisiones de CO2 (kt)=%{y}<extra></extra>",
         "legendgroup": "Macao",
         "marker": {
          "color": "#fe9b2d",
          "opacity": 0.5,
          "size": 10,
          "symbol": "circle"
         },
         "mode": "markers",
         "name": "Macao",
         "orientation": "v",
         "showlegend": true,
         "type": "scatter",
         "x": [
          0.650996
         ],
         "xaxis": "x",
         "y": [
          1.242
         ],
         "yaxis": "y"
        },
        {
         "hovertemplate": "country=Madagascar<br>Población (millones)=%{x}<br>Emisiones de CO2 (kt)=%{y}<extra></extra>",
         "legendgroup": "Madagascar",
         "marker": {
          "color": "#f36315",
          "opacity": 0.5,
          "size": 10,
          "symbol": "circle"
         },
         "mode": "markers",
         "name": "Madagascar",
         "orientation": "v",
         "showlegend": true,
         "type": "scatter",
         "x": [
          26.846544
         ],
         "xaxis": "x",
         "y": [
          3.822
         ],
         "yaxis": "y"
        },
        {
         "hovertemplate": "country=Malawi<br>Población (millones)=%{x}<br>Emisiones de CO2 (kt)=%{y}<extra></extra>",
         "legendgroup": "Malawi",
         "marker": {
          "color": "#d93806",
          "opacity": 0.5,
          "size": 10,
          "symbol": "circle"
         },
         "mode": "markers",
         "name": "Malawi",
         "orientation": "v",
         "showlegend": true,
         "type": "scatter",
         "x": [
          18.367886
         ],
         "xaxis": "x",
         "y": [
          1.57
         ],
         "yaxis": "y"
        },
        {
         "hovertemplate": "country=Malaysia<br>Población (millones)=%{x}<br>Emisiones de CO2 (kt)=%{y}<extra></extra>",
         "legendgroup": "Malaysia",
         "marker": {
          "color": "#b11901",
          "opacity": 0.5,
          "size": 10,
          "symbol": "circle"
         },
         "mode": "markers",
         "name": "Malaysia",
         "orientation": "v",
         "showlegend": true,
         "type": "scatter",
         "x": [
          32.39927
         ],
         "xaxis": "x",
         "y": [
          267.087
         ],
         "yaxis": "y"
        },
        {
         "hovertemplate": "country=Maldives<br>Población (millones)=%{x}<br>Emisiones de CO2 (kt)=%{y}<extra></extra>",
         "legendgroup": "Maldives",
         "marker": {
          "color": "#7a0402",
          "opacity": 0.5,
          "size": 10,
          "symbol": "circle"
         },
         "mode": "markers",
         "name": "Maldives",
         "orientation": "v",
         "showlegend": true,
         "type": "scatter",
         "x": [
          0.489773
         ],
         "xaxis": "x",
         "y": [
          1.74
         ],
         "yaxis": "y"
        },
        {
         "hovertemplate": "country=Mali<br>Población (millones)=%{x}<br>Emisiones de CO2 (kt)=%{y}<extra></extra>",
         "legendgroup": "Mali",
         "marker": {
          "color": "#30123b",
          "opacity": 0.5,
          "size": 10,
          "symbol": "circle"
         },
         "mode": "markers",
         "name": "Mali",
         "orientation": "v",
         "showlegend": true,
         "type": "scatter",
         "x": [
          19.934304
         ],
         "xaxis": "x",
         "y": [
          3.675
         ],
         "yaxis": "y"
        },
        {
         "hovertemplate": "country=Malta<br>Población (millones)=%{x}<br>Emisiones de CO2 (kt)=%{y}<extra></extra>",
         "legendgroup": "Malta",
         "marker": {
          "color": "#4145ab",
          "opacity": 0.5,
          "size": 10,
          "symbol": "circle"
         },
         "mode": "markers",
         "name": "Malta",
         "orientation": "v",
         "showlegend": true,
         "type": "scatter",
         "x": [
          0.49159
         ],
         "xaxis": "x",
         "y": [
          1.547
         ],
         "yaxis": "y"
        },
        {
         "hovertemplate": "country=Marshall Islands<br>Población (millones)=%{x}<br>Emisiones de CO2 (kt)=%{y}<extra></extra>",
         "legendgroup": "Marshall Islands",
         "marker": {
          "color": "#4675ed",
          "opacity": 0.5,
          "size": 10,
          "symbol": "circle"
         },
         "mode": "markers",
         "name": "Marshall Islands",
         "orientation": "v",
         "showlegend": true,
         "type": "scatter",
         "x": [
          0.046012
         ],
         "xaxis": "x",
         "y": [
          0.147
         ],
         "yaxis": "y"
        },
        {
         "hovertemplate": "country=Martinique<br>Población (millones)=%{x}<br>Emisiones de CO2 (kt)=%{y}<extra></extra>",
         "legendgroup": "Martinique",
         "marker": {
          "color": "#39a2fc",
          "opacity": 0.5,
          "size": 10,
          "symbol": "circle"
         },
         "mode": "markers",
         "name": "Martinique",
         "orientation": "v",
         "showlegend": true,
         "type": "scatter",
         "x": [
          0.374843
         ],
         "xaxis": "x",
         "y": [
          2.266
         ],
         "yaxis": "y"
        },
        {
         "hovertemplate": "country=Mauritania<br>Población (millones)=%{x}<br>Emisiones de CO2 (kt)=%{y}<extra></extra>",
         "legendgroup": "Mauritania",
         "marker": {
          "color": "#1bcfd4",
          "opacity": 0.5,
          "size": 10,
          "symbol": "circle"
         },
         "mode": "markers",
         "name": "Mauritania",
         "orientation": "v",
         "showlegend": true,
         "type": "scatter",
         "x": [
          4.270717
         ],
         "xaxis": "x",
         "y": [
          3.664
         ],
         "yaxis": "y"
        },
        {
         "hovertemplate": "country=Mauritius<br>Población (millones)=%{x}<br>Emisiones de CO2 (kt)=%{y}<extra></extra>",
         "legendgroup": "Mauritius",
         "marker": {
          "color": "#24eca6",
          "opacity": 0.5,
          "size": 10,
          "symbol": "circle"
         },
         "mode": "markers",
         "name": "Mauritius",
         "orientation": "v",
         "showlegend": true,
         "type": "scatter",
         "x": [
          1.295386
         ],
         "xaxis": "x",
         "y": [
          4.514
         ],
         "yaxis": "y"
        },
        {
         "hovertemplate": "country=Mayotte<br>Población (millones)=%{x}<br>Emisiones de CO2 (kt)=%{y}<extra></extra>",
         "legendgroup": "Mayotte",
         "marker": {
          "color": "#61fc6c",
          "opacity": 0.5,
          "size": 10,
          "symbol": "circle"
         },
         "mode": "markers",
         "name": "Mayotte",
         "orientation": "v",
         "showlegend": true,
         "type": "scatter",
         "x": [
          0.282968
         ],
         "xaxis": "x",
         "y": [
          0.295
         ],
         "yaxis": "y"
        },
        {
         "hovertemplate": "country=Mexico<br>Población (millones)=%{x}<br>Emisiones de CO2 (kt)=%{y}<extra></extra>",
         "legendgroup": "Mexico",
         "marker": {
          "color": "#a4fc3b",
          "opacity": 0.5,
          "size": 10,
          "symbol": "circle"
         },
         "mode": "markers",
         "name": "Mexico",
         "orientation": "v",
         "showlegend": true,
         "type": "scatter",
         "x": [
          124.013864
         ],
         "xaxis": "x",
         "y": [
          475.269
         ],
         "yaxis": "y"
        },
        {
         "hovertemplate": "country=Micronesia (country)<br>Población (millones)=%{x}<br>Emisiones de CO2 (kt)=%{y}<extra></extra>",
         "legendgroup": "Micronesia (country)",
         "marker": {
          "color": "#d1e834",
          "opacity": 0.5,
          "size": 10,
          "symbol": "circle"
         },
         "mode": "markers",
         "name": "Micronesia (country)",
         "orientation": "v",
         "showlegend": true,
         "type": "scatter",
         "x": [
          0.110945
         ],
         "xaxis": "x",
         "y": [
          0.143
         ],
         "yaxis": "y"
        },
        {
         "hovertemplate": "country=Moldova<br>Población (millones)=%{x}<br>Emisiones de CO2 (kt)=%{y}<extra></extra>",
         "legendgroup": "Moldova",
         "marker": {
          "color": "#f3c63a",
          "opacity": 0.5,
          "size": 10,
          "symbol": "circle"
         },
         "mode": "markers",
         "name": "Moldova",
         "orientation": "v",
         "showlegend": true,
         "type": "scatter",
         "x": [
          3.141839
         ],
         "xaxis": "x",
         "y": [
          5.445
         ],
         "yaxis": "y"
        },
        {
         "hovertemplate": "country=Mongolia<br>Población (millones)=%{x}<br>Emisiones de CO2 (kt)=%{y}<extra></extra>",
         "legendgroup": "Mongolia",
         "marker": {
          "color": "#fe9b2d",
          "opacity": 0.5,
          "size": 10,
          "symbol": "circle"
         },
         "mode": "markers",
         "name": "Mongolia",
         "orientation": "v",
         "showlegend": true,
         "type": "scatter",
         "x": [
          3.163994
         ],
         "xaxis": "x",
         "y": [
          45.316
         ],
         "yaxis": "y"
        },
        {
         "hovertemplate": "country=Montenegro<br>Población (millones)=%{x}<br>Emisiones de CO2 (kt)=%{y}<extra></extra>",
         "legendgroup": "Montenegro",
         "marker": {
          "color": "#f36315",
          "opacity": 0.5,
          "size": 10,
          "symbol": "circle"
         },
         "mode": "markers",
         "name": "Montenegro",
         "orientation": "v",
         "showlegend": true,
         "type": "scatter",
         "x": [
          0.631459
         ],
         "xaxis": "x",
         "y": [
          2.4
         ],
         "yaxis": "y"
        },
        {
         "hovertemplate": "country=Morocco<br>Población (millones)=%{x}<br>Emisiones de CO2 (kt)=%{y}<extra></extra>",
         "legendgroup": "Morocco",
         "marker": {
          "color": "#d93806",
          "opacity": 0.5,
          "size": 10,
          "symbol": "circle"
         },
         "mode": "markers",
         "name": "Morocco",
         "orientation": "v",
         "showlegend": true,
         "type": "scatter",
         "x": [
          35.927516
         ],
         "xaxis": "x",
         "y": [
          63.01
         ],
         "yaxis": "y"
        },
        {
         "hovertemplate": "country=Mozambique<br>Población (millones)=%{x}<br>Emisiones de CO2 (kt)=%{y}<extra></extra>",
         "legendgroup": "Mozambique",
         "marker": {
          "color": "#b11901",
          "opacity": 0.5,
          "size": 10,
          "symbol": "circle"
         },
         "mode": "markers",
         "name": "Mozambique",
         "orientation": "v",
         "showlegend": true,
         "type": "scatter",
         "x": [
          29.423882
         ],
         "xaxis": "x",
         "y": [
          7.08
         ],
         "yaxis": "y"
        },
        {
         "hovertemplate": "country=Myanmar<br>Población (millones)=%{x}<br>Emisiones de CO2 (kt)=%{y}<extra></extra>",
         "legendgroup": "Myanmar",
         "marker": {
          "color": "#7a0402",
          "opacity": 0.5,
          "size": 10,
          "symbol": "circle"
         },
         "mode": "markers",
         "name": "Myanmar",
         "orientation": "v",
         "showlegend": true,
         "type": "scatter",
         "x": [
          52.666016
         ],
         "xaxis": "x",
         "y": [
          34.783
         ],
         "yaxis": "y"
        },
        {
         "hovertemplate": "country=Namibia<br>Población (millones)=%{x}<br>Emisiones de CO2 (kt)=%{y}<extra></extra>",
         "legendgroup": "Namibia",
         "marker": {
          "color": "#30123b",
          "opacity": 0.5,
          "size": 10,
          "symbol": "circle"
         },
         "mode": "markers",
         "name": "Namibia",
         "orientation": "v",
         "showlegend": true,
         "type": "scatter",
         "x": [
          2.405682
         ],
         "xaxis": "x",
         "y": [
          4.155
         ],
         "yaxis": "y"
        },
        {
         "hovertemplate": "country=Nauru<br>Población (millones)=%{x}<br>Emisiones de CO2 (kt)=%{y}<extra></extra>",
         "legendgroup": "Nauru",
         "marker": {
          "color": "#4145ab",
          "opacity": 0.5,
          "size": 10,
          "symbol": "circle"
         },
         "mode": "markers",
         "name": "Nauru",
         "orientation": "v",
         "showlegend": true,
         "type": "scatter",
         "x": [
          0.011949
         ],
         "xaxis": "x",
         "y": [
          0.055
         ],
         "yaxis": "y"
        },
        {
         "hovertemplate": "country=Nepal<br>Población (millones)=%{x}<br>Emisiones de CO2 (kt)=%{y}<extra></extra>",
         "legendgroup": "Nepal",
         "marker": {
          "color": "#4675ed",
          "opacity": 0.5,
          "size": 10,
          "symbol": "circle"
         },
         "mode": "markers",
         "name": "Nepal",
         "orientation": "v",
         "showlegend": true,
         "type": "scatter",
         "x": [
          28.506718
         ],
         "xaxis": "x",
         "y": [
          14.833
         ],
         "yaxis": "y"
        },
        {
         "hovertemplate": "country=Netherlands<br>Población (millones)=%{x}<br>Emisiones de CO2 (kt)=%{y}<extra></extra>",
         "legendgroup": "Netherlands",
         "marker": {
          "color": "#39a2fc",
          "opacity": 0.5,
          "size": 10,
          "symbol": "circle"
         },
         "mode": "markers",
         "name": "Netherlands",
         "orientation": "v",
         "showlegend": true,
         "type": "scatter",
         "x": [
          17.286042
         ],
         "xaxis": "x",
         "y": [
          158.628
         ],
         "yaxis": "y"
        },
        {
         "hovertemplate": "country=New Caledonia<br>Población (millones)=%{x}<br>Emisiones de CO2 (kt)=%{y}<extra></extra>",
         "legendgroup": "New Caledonia",
         "marker": {
          "color": "#1bcfd4",
          "opacity": 0.5,
          "size": 10,
          "symbol": "circle"
         },
         "mode": "markers",
         "name": "New Caledonia",
         "orientation": "v",
         "showlegend": true,
         "type": "scatter",
         "x": [
          0.284887
         ],
         "xaxis": "x",
         "y": [
          5.346
         ],
         "yaxis": "y"
        },
        {
         "hovertemplate": "country=New Zealand<br>Población (millones)=%{x}<br>Emisiones de CO2 (kt)=%{y}<extra></extra>",
         "legendgroup": "New Zealand",
         "marker": {
          "color": "#24eca6",
          "opacity": 0.5,
          "size": 10,
          "symbol": "circle"
         },
         "mode": "markers",
         "name": "New Zealand",
         "orientation": "v",
         "showlegend": true,
         "type": "scatter",
         "x": [
          4.838528
         ],
         "xaxis": "x",
         "y": [
          35.705
         ],
         "yaxis": "y"
        },
        {
         "hovertemplate": "country=Nicaragua<br>Población (millones)=%{x}<br>Emisiones de CO2 (kt)=%{y}<extra></extra>",
         "legendgroup": "Nicaragua",
         "marker": {
          "color": "#61fc6c",
          "opacity": 0.5,
          "size": 10,
          "symbol": "circle"
         },
         "mode": "markers",
         "name": "Nicaragua",
         "orientation": "v",
         "showlegend": true,
         "type": "scatter",
         "x": [
          6.572234
         ],
         "xaxis": "x",
         "y": [
          5.199
         ],
         "yaxis": "y"
        },
        {
         "hovertemplate": "country=Niger<br>Población (millones)=%{x}<br>Emisiones de CO2 (kt)=%{y}<extra></extra>",
         "legendgroup": "Niger",
         "marker": {
          "color": "#a4fc3b",
          "opacity": 0.5,
          "size": 10,
          "symbol": "circle"
         },
         "mode": "markers",
         "name": "Niger",
         "orientation": "v",
         "showlegend": true,
         "type": "scatter",
         "x": [
          22.57706
         ],
         "xaxis": "x",
         "y": [
          1.793
         ],
         "yaxis": "y"
        },
        {
         "hovertemplate": "country=Nigeria<br>Población (millones)=%{x}<br>Emisiones de CO2 (kt)=%{y}<extra></extra>",
         "legendgroup": "Nigeria",
         "marker": {
          "color": "#d1e834",
          "opacity": 0.5,
          "size": 10,
          "symbol": "circle"
         },
         "mode": "markers",
         "name": "Nigeria",
         "orientation": "v",
         "showlegend": true,
         "type": "scatter",
         "x": [
          198.387616
         ],
         "xaxis": "x",
         "y": [
          105.23
         ],
         "yaxis": "y"
        },
        {
         "hovertemplate": "country=North Korea<br>Población (millones)=%{x}<br>Emisiones de CO2 (kt)=%{y}<extra></extra>",
         "legendgroup": "North Korea",
         "marker": {
          "color": "#f3c63a",
          "opacity": 0.5,
          "size": 10,
          "symbol": "circle"
         },
         "mode": "markers",
         "name": "North Korea",
         "orientation": "v",
         "showlegend": true,
         "type": "scatter",
         "x": [
          25.638152
         ],
         "xaxis": "x",
         "y": [
          47.63
         ],
         "yaxis": "y"
        },
        {
         "hovertemplate": "country=North Macedonia<br>Población (millones)=%{x}<br>Emisiones de CO2 (kt)=%{y}<extra></extra>",
         "legendgroup": "North Macedonia",
         "marker": {
          "color": "#fe9b2d",
          "opacity": 0.5,
          "size": 10,
          "symbol": "circle"
         },
         "mode": "markers",
         "name": "North Macedonia",
         "orientation": "v",
         "showlegend": true,
         "type": "scatter",
         "x": [
          2.113497
         ],
         "xaxis": "x",
         "y": [
          7.031
         ],
         "yaxis": "y"
        },
        {
         "hovertemplate": "country=Norway<br>Población (millones)=%{x}<br>Emisiones de CO2 (kt)=%{y}<extra></extra>",
         "legendgroup": "Norway",
         "marker": {
          "color": "#f36315",
          "opacity": 0.5,
          "size": 10,
          "symbol": "circle"
         },
         "mode": "markers",
         "name": "Norway",
         "orientation": "v",
         "showlegend": true,
         "type": "scatter",
         "x": [
          5.312321
         ],
         "xaxis": "x",
         "y": [
          44.393
         ],
         "yaxis": "y"
        },
        {
         "hovertemplate": "country=Oman<br>Población (millones)=%{x}<br>Emisiones de CO2 (kt)=%{y}<extra></extra>",
         "legendgroup": "Oman",
         "marker": {
          "color": "#d93806",
          "opacity": 0.5,
          "size": 10,
          "symbol": "circle"
         },
         "mode": "markers",
         "name": "Oman",
         "orientation": "v",
         "showlegend": true,
         "type": "scatter",
         "x": [
          4.60116
         ],
         "xaxis": "x",
         "y": [
          72.556
         ],
         "yaxis": "y"
        },
        {
         "hovertemplate": "country=Pakistan<br>Población (millones)=%{x}<br>Emisiones de CO2 (kt)=%{y}<extra></extra>",
         "legendgroup": "Pakistan",
         "marker": {
          "color": "#b11901",
          "opacity": 0.5,
          "size": 10,
          "symbol": "circle"
         },
         "mode": "markers",
         "name": "Pakistan",
         "orientation": "v",
         "showlegend": true,
         "type": "scatter",
         "x": [
          219.731488
         ],
         "xaxis": "x",
         "y": [
          205.061
         ],
         "yaxis": "y"
        },
        {
         "hovertemplate": "country=Palau<br>Población (millones)=%{x}<br>Emisiones de CO2 (kt)=%{y}<extra></extra>",
         "legendgroup": "Palau",
         "marker": {
          "color": "#7a0402",
          "opacity": 0.5,
          "size": 10,
          "symbol": "circle"
         },
         "mode": "markers",
         "name": "Palau",
         "orientation": "v",
         "showlegend": true,
         "type": "scatter",
         "x": [
          0.017887
         ],
         "xaxis": "x",
         "y": [
          0.213
         ],
         "yaxis": "y"
        },
        {
         "hovertemplate": "country=Palestine<br>Población (millones)=%{x}<br>Emisiones de CO2 (kt)=%{y}<extra></extra>",
         "legendgroup": "Palestine",
         "marker": {
          "color": "#30123b",
          "opacity": 0.5,
          "size": 10,
          "symbol": "circle"
         },
         "mode": "markers",
         "name": "Palestine",
         "orientation": "v",
         "showlegend": true,
         "type": "scatter",
         "x": [
          4.805549
         ],
         "xaxis": "x",
         "y": [
          2.959
         ],
         "yaxis": "y"
        },
        {
         "hovertemplate": "country=Panama<br>Población (millones)=%{x}<br>Emisiones de CO2 (kt)=%{y}<extra></extra>",
         "legendgroup": "Panama",
         "marker": {
          "color": "#4145ab",
          "opacity": 0.5,
          "size": 10,
          "symbol": "circle"
         },
         "mode": "markers",
         "name": "Panama",
         "orientation": "v",
         "showlegend": true,
         "type": "scatter",
         "x": [
          4.165258
         ],
         "xaxis": "x",
         "y": [
          10.768
         ],
         "yaxis": "y"
        },
        {
         "hovertemplate": "country=Papua New Guinea<br>Población (millones)=%{x}<br>Emisiones de CO2 (kt)=%{y}<extra></extra>",
         "legendgroup": "Papua New Guinea",
         "marker": {
          "color": "#4675ed",
          "opacity": 0.5,
          "size": 10,
          "symbol": "circle"
         },
         "mode": "markers",
         "name": "Papua New Guinea",
         "orientation": "v",
         "showlegend": true,
         "type": "scatter",
         "x": [
          9.329233
         ],
         "xaxis": "x",
         "y": [
          7.523
         ],
         "yaxis": "y"
        },
        {
         "hovertemplate": "country=Paraguay<br>Población (millones)=%{x}<br>Emisiones de CO2 (kt)=%{y}<extra></extra>",
         "legendgroup": "Paraguay",
         "marker": {
          "color": "#39a2fc",
          "opacity": 0.5,
          "size": 10,
          "symbol": "circle"
         },
         "mode": "markers",
         "name": "Paraguay",
         "orientation": "v",
         "showlegend": true,
         "type": "scatter",
         "x": [
          6.443337
         ],
         "xaxis": "x",
         "y": [
          8.508
         ],
         "yaxis": "y"
        },
        {
         "hovertemplate": "country=Peru<br>Población (millones)=%{x}<br>Emisiones de CO2 (kt)=%{y}<extra></extra>",
         "legendgroup": "Peru",
         "marker": {
          "color": "#1bcfd4",
          "opacity": 0.5,
          "size": 10,
          "symbol": "circle"
         },
         "mode": "markers",
         "name": "Peru",
         "orientation": "v",
         "showlegend": true,
         "type": "scatter",
         "x": [
          32.203946
         ],
         "xaxis": "x",
         "y": [
          55.163
         ],
         "yaxis": "y"
        },
        {
         "hovertemplate": "country=Philippines<br>Población (millones)=%{x}<br>Emisiones de CO2 (kt)=%{y}<extra></extra>",
         "legendgroup": "Philippines",
         "marker": {
          "color": "#24eca6",
          "opacity": 0.5,
          "size": 10,
          "symbol": "circle"
         },
         "mode": "markers",
         "name": "Philippines",
         "orientation": "v",
         "showlegend": true,
         "type": "scatter",
         "x": [
          108.568832
         ],
         "xaxis": "x",
         "y": [
          141.824
         ],
         "yaxis": "y"
        },
        {
         "hovertemplate": "country=Poland<br>Población (millones)=%{x}<br>Emisiones de CO2 (kt)=%{y}<extra></extra>",
         "legendgroup": "Poland",
         "marker": {
          "color": "#61fc6c",
          "opacity": 0.5,
          "size": 10,
          "symbol": "circle"
         },
         "mode": "markers",
         "name": "Poland",
         "orientation": "v",
         "showlegend": true,
         "type": "scatter",
         "x": [
          38.521464
         ],
         "xaxis": "x",
         "y": [
          337.048
         ],
         "yaxis": "y"
        },
        {
         "hovertemplate": "country=Portugal<br>Población (millones)=%{x}<br>Emisiones de CO2 (kt)=%{y}<extra></extra>",
         "legendgroup": "Portugal",
         "marker": {
          "color": "#a4fc3b",
          "opacity": 0.5,
          "size": 10,
          "symbol": "circle"
         },
         "mode": "markers",
         "name": "Portugal",
         "orientation": "v",
         "showlegend": true,
         "type": "scatter",
         "x": [
          10.289833
         ],
         "xaxis": "x",
         "y": [
          51.459
         ],
         "yaxis": "y"
        },
        {
         "hovertemplate": "country=Puerto Rico<br>Población (millones)=%{x}<br>Emisiones de CO2 (kt)=%{y}<extra></extra>",
         "legendgroup": "Puerto Rico",
         "marker": {
          "color": "#d1e834",
          "opacity": 0.5,
          "size": 10,
          "symbol": "circle"
         },
         "mode": "markers",
         "name": "Puerto Rico",
         "orientation": "v",
         "showlegend": true,
         "type": "scatter",
         "x": [
          3.319269
         ],
         "xaxis": "x",
         "y": [
          null
         ],
         "yaxis": "y"
        },
        {
         "hovertemplate": "country=Qatar<br>Población (millones)=%{x}<br>Emisiones de CO2 (kt)=%{y}<extra></extra>",
         "legendgroup": "Qatar",
         "marker": {
          "color": "#f3c63a",
          "opacity": 0.5,
          "size": 10,
          "symbol": "circle"
         },
         "mode": "markers",
         "name": "Qatar",
         "orientation": "v",
         "showlegend": true,
         "type": "scatter",
         "x": [
          2.766743
         ],
         "xaxis": "x",
         "y": [
          95.232
         ],
         "yaxis": "y"
        },
        {
         "hovertemplate": "country=Reunion<br>Población (millones)=%{x}<br>Emisiones de CO2 (kt)=%{y}<extra></extra>",
         "legendgroup": "Reunion",
         "marker": {
          "color": "#fe9b2d",
          "opacity": 0.5,
          "size": 10,
          "symbol": "circle"
         },
         "mode": "markers",
         "name": "Reunion",
         "orientation": "v",
         "showlegend": true,
         "type": "scatter",
         "x": [
          0.941189
         ],
         "xaxis": "x",
         "y": [
          4.426
         ],
         "yaxis": "y"
        },
        {
         "hovertemplate": "country=Romania<br>Población (millones)=%{x}<br>Emisiones de CO2 (kt)=%{y}<extra></extra>",
         "legendgroup": "Romania",
         "marker": {
          "color": "#f36315",
          "opacity": 0.5,
          "size": 10,
          "symbol": "circle"
         },
         "mode": "markers",
         "name": "Romania",
         "orientation": "v",
         "showlegend": true,
         "type": "scatter",
         "x": [
          19.606778
         ],
         "xaxis": "x",
         "y": [
          80.516
         ],
         "yaxis": "y"
        },
        {
         "hovertemplate": "country=Russia<br>Población (millones)=%{x}<br>Emisiones de CO2 (kt)=%{y}<extra></extra>",
         "legendgroup": "Russia",
         "marker": {
          "color": "#d93806",
          "opacity": 0.5,
          "size": 10,
          "symbol": "circle"
         },
         "mode": "markers",
         "name": "Russia",
         "orientation": "v",
         "showlegend": true,
         "type": "scatter",
         "x": [
          145.652288
         ],
         "xaxis": "x",
         "y": [
          1700.453
         ],
         "yaxis": "y"
        },
        {
         "hovertemplate": "country=Rwanda<br>Población (millones)=%{x}<br>Emisiones de CO2 (kt)=%{y}<extra></extra>",
         "legendgroup": "Rwanda",
         "marker": {
          "color": "#b11901",
          "opacity": 0.5,
          "size": 10,
          "symbol": "circle"
         },
         "mode": "markers",
         "name": "Rwanda",
         "orientation": "v",
         "showlegend": true,
         "type": "scatter",
         "x": [
          12.53181
         ],
         "xaxis": "x",
         "y": [
          1.281
         ],
         "yaxis": "y"
        },
        {
         "hovertemplate": "country=Saint Helena<br>Población (millones)=%{x}<br>Emisiones de CO2 (kt)=%{y}<extra></extra>",
         "legendgroup": "Saint Helena",
         "marker": {
          "color": "#7a0402",
          "opacity": 0.5,
          "size": 10,
          "symbol": "circle"
         },
         "mode": "markers",
         "name": "Saint Helena",
         "orientation": "v",
         "showlegend": true,
         "type": "scatter",
         "x": [
          0.005494
         ],
         "xaxis": "x",
         "y": [
          0.011
         ],
         "yaxis": "y"
        },
        {
         "hovertemplate": "country=Saint Kitts and Nevis<br>Población (millones)=%{x}<br>Emisiones de CO2 (kt)=%{y}<extra></extra>",
         "legendgroup": "Saint Kitts and Nevis",
         "marker": {
          "color": "#30123b",
          "opacity": 0.5,
          "size": 10,
          "symbol": "circle"
         },
         "mode": "markers",
         "name": "Saint Kitts and Nevis",
         "orientation": "v",
         "showlegend": true,
         "type": "scatter",
         "x": [
          0.047787
         ],
         "xaxis": "x",
         "y": [
          0.245
         ],
         "yaxis": "y"
        },
        {
         "hovertemplate": "country=Saint Lucia<br>Población (millones)=%{x}<br>Emisiones de CO2 (kt)=%{y}<extra></extra>",
         "legendgroup": "Saint Lucia",
         "marker": {
          "color": "#4145ab",
          "opacity": 0.5,
          "size": 10,
          "symbol": "circle"
         },
         "mode": "markers",
         "name": "Saint Lucia",
         "orientation": "v",
         "showlegend": true,
         "type": "scatter",
         "x": [
          0.177894
         ],
         "xaxis": "x",
         "y": [
          0.509
         ],
         "yaxis": "y"
        },
        {
         "hovertemplate": "country=Saint Martin (French part)<br>Población (millones)=%{x}<br>Emisiones de CO2 (kt)=%{y}<extra></extra>",
         "legendgroup": "Saint Martin (French part)",
         "marker": {
          "color": "#4675ed",
          "opacity": 0.5,
          "size": 10,
          "symbol": "circle"
         },
         "mode": "markers",
         "name": "Saint Martin (French part)",
         "orientation": "v",
         "showlegend": true,
         "type": "scatter",
         "x": [
          0.033879
         ],
         "xaxis": "x",
         "y": [
          null
         ],
         "yaxis": "y"
        },
        {
         "hovertemplate": "country=Saint Pierre and Miquelon<br>Población (millones)=%{x}<br>Emisiones de CO2 (kt)=%{y}<extra></extra>",
         "legendgroup": "Saint Pierre and Miquelon",
         "marker": {
          "color": "#39a2fc",
          "opacity": 0.5,
          "size": 10,
          "symbol": "circle"
         },
         "mode": "markers",
         "name": "Saint Pierre and Miquelon",
         "orientation": "v",
         "showlegend": true,
         "type": "scatter",
         "x": [
          0.005969
         ],
         "xaxis": "x",
         "y": [
          0.059
         ],
         "yaxis": "y"
        },
        {
         "hovertemplate": "country=Saint Vincent and the Grenadines<br>Población (millones)=%{x}<br>Emisiones de CO2 (kt)=%{y}<extra></extra>",
         "legendgroup": "Saint Vincent and the Grenadines",
         "marker": {
          "color": "#1bcfd4",
          "opacity": 0.5,
          "size": 10,
          "symbol": "circle"
         },
         "mode": "markers",
         "name": "Saint Vincent and the Grenadines",
         "orientation": "v",
         "showlegend": true,
         "type": "scatter",
         "x": [
          0.105297
         ],
         "xaxis": "x",
         "y": [
          0.242
         ],
         "yaxis": "y"
        },
        {
         "hovertemplate": "country=Samoa<br>Población (millones)=%{x}<br>Emisiones de CO2 (kt)=%{y}<extra></extra>",
         "legendgroup": "Samoa",
         "marker": {
          "color": "#24eca6",
          "opacity": 0.5,
          "size": 10,
          "symbol": "circle"
         },
         "mode": "markers",
         "name": "Samoa",
         "orientation": "v",
         "showlegend": true,
         "type": "scatter",
         "x": [
          0.209715
         ],
         "xaxis": "x",
         "y": [
          0.238
         ],
         "yaxis": "y"
        },
        {
         "hovertemplate": "country=Sao Tome and Principe<br>Población (millones)=%{x}<br>Emisiones de CO2 (kt)=%{y}<extra></extra>",
         "legendgroup": "Sao Tome and Principe",
         "marker": {
          "color": "#61fc6c",
          "opacity": 0.5,
          "size": 10,
          "symbol": "circle"
         },
         "mode": "markers",
         "name": "Sao Tome and Principe",
         "orientation": "v",
         "showlegend": true,
         "type": "scatter",
         "x": [
          0.211358
         ],
         "xaxis": "x",
         "y": [
          0.132
         ],
         "yaxis": "y"
        },
        {
         "hovertemplate": "country=Saudi Arabia<br>Población (millones)=%{x}<br>Emisiones de CO2 (kt)=%{y}<extra></extra>",
         "legendgroup": "Saudi Arabia",
         "marker": {
          "color": "#a4fc3b",
          "opacity": 0.5,
          "size": 10,
          "symbol": "circle"
         },
         "mode": "markers",
         "name": "Saudi Arabia",
         "orientation": "v",
         "showlegend": true,
         "type": "scatter",
         "x": [
          35.018132
         ],
         "xaxis": "x",
         "y": [
          626.191
         ],
         "yaxis": "y"
        },
        {
         "hovertemplate": "country=Senegal<br>Población (millones)=%{x}<br>Emisiones de CO2 (kt)=%{y}<extra></extra>",
         "legendgroup": "Senegal",
         "marker": {
          "color": "#d1e834",
          "opacity": 0.5,
          "size": 10,
          "symbol": "circle"
         },
         "mode": "markers",
         "name": "Senegal",
         "orientation": "v",
         "showlegend": true,
         "type": "scatter",
         "x": [
          15.57491
         ],
         "xaxis": "x",
         "y": [
          11.33
         ],
         "yaxis": "y"
        },
        {
         "hovertemplate": "country=Serbia<br>Población (millones)=%{x}<br>Emisiones de CO2 (kt)=%{y}<extra></extra>",
         "legendgroup": "Serbia",
         "marker": {
          "color": "#f3c63a",
          "opacity": 0.5,
          "size": 10,
          "symbol": "circle"
         },
         "mode": "markers",
         "name": "Serbia",
         "orientation": "v",
         "showlegend": true,
         "type": "scatter",
         "x": [
          7.433825
         ],
         "xaxis": "x",
         "y": [
          44.32
         ],
         "yaxis": "y"
        },
        {
         "hovertemplate": "country=Seychelles<br>Población (millones)=%{x}<br>Emisiones de CO2 (kt)=%{y}<extra></extra>",
         "legendgroup": "Seychelles",
         "marker": {
          "color": "#fe9b2d",
          "opacity": 0.5,
          "size": 10,
          "symbol": "circle"
         },
         "mode": "markers",
         "name": "Seychelles",
         "orientation": "v",
         "showlegend": true,
         "type": "scatter",
         "x": [
          0.10312
         ],
         "xaxis": "x",
         "y": [
          0.601
         ],
         "yaxis": "y"
        },
        {
         "hovertemplate": "country=Sierra Leone<br>Población (millones)=%{x}<br>Emisiones de CO2 (kt)=%{y}<extra></extra>",
         "legendgroup": "Sierra Leone",
         "marker": {
          "color": "#f36315",
          "opacity": 0.5,
          "size": 10,
          "symbol": "circle"
         },
         "mode": "markers",
         "name": "Sierra Leone",
         "orientation": "v",
         "showlegend": true,
         "type": "scatter",
         "x": [
          7.861287
         ],
         "xaxis": "x",
         "y": [
          1.037
         ],
         "yaxis": "y"
        },
        {
         "hovertemplate": "country=Singapore<br>Población (millones)=%{x}<br>Emisiones de CO2 (kt)=%{y}<extra></extra>",
         "legendgroup": "Singapore",
         "marker": {
          "color": "#d93806",
          "opacity": 0.5,
          "size": 10,
          "symbol": "circle"
         },
         "mode": "markers",
         "name": "Singapore",
         "orientation": "v",
         "showlegend": true,
         "type": "scatter",
         "x": [
          5.814543
         ],
         "xaxis": "x",
         "y": [
          46.02
         ],
         "yaxis": "y"
        },
        {
         "hovertemplate": "country=Sint Maarten (Dutch part)<br>Población (millones)=%{x}<br>Emisiones de CO2 (kt)=%{y}<extra></extra>",
         "legendgroup": "Sint Maarten (Dutch part)",
         "marker": {
          "color": "#b11901",
          "opacity": 0.5,
          "size": 10,
          "symbol": "circle"
         },
         "mode": "markers",
         "name": "Sint Maarten (Dutch part)",
         "orientation": "v",
         "showlegend": true,
         "type": "scatter",
         "x": [
          0.042268
         ],
         "xaxis": "x",
         "y": [
          0.689
         ],
         "yaxis": "y"
        },
        {
         "hovertemplate": "country=Slovakia<br>Población (millones)=%{x}<br>Emisiones de CO2 (kt)=%{y}<extra></extra>",
         "legendgroup": "Slovakia",
         "marker": {
          "color": "#7a0402",
          "opacity": 0.5,
          "size": 10,
          "symbol": "circle"
         },
         "mode": "markers",
         "name": "Slovakia",
         "orientation": "v",
         "showlegend": true,
         "type": "scatter",
         "x": [
          5.446746
         ],
         "xaxis": "x",
         "y": [
          36.103
         ],
         "yaxis": "y"
        },
        {
         "hovertemplate": "country=Slovenia<br>Población (millones)=%{x}<br>Emisiones de CO2 (kt)=%{y}<extra></extra>",
         "legendgroup": "Slovenia",
         "marker": {
          "color": "#30123b",
          "opacity": 0.5,
          "size": 10,
          "symbol": "circle"
         },
         "mode": "markers",
         "name": "Slovenia",
         "orientation": "v",
         "showlegend": true,
         "type": "scatter",
         "x": [
          2.105931
         ],
         "xaxis": "x",
         "y": [
          14.527
         ],
         "yaxis": "y"
        },
        {
         "hovertemplate": "country=Solomon Islands<br>Población (millones)=%{x}<br>Emisiones de CO2 (kt)=%{y}<extra></extra>",
         "legendgroup": "Solomon Islands",
         "marker": {
          "color": "#4145ab",
          "opacity": 0.5,
          "size": 10,
          "symbol": "circle"
         },
         "mode": "markers",
         "name": "Solomon Islands",
         "orientation": "v",
         "showlegend": true,
         "type": "scatter",
         "x": [
          0.659259
         ],
         "xaxis": "x",
         "y": [
          0.289
         ],
         "yaxis": "y"
        },
        {
         "hovertemplate": "country=Somalia<br>Población (millones)=%{x}<br>Emisiones de CO2 (kt)=%{y}<extra></extra>",
         "legendgroup": "Somalia",
         "marker": {
          "color": "#4675ed",
          "opacity": 0.5,
          "size": 10,
          "symbol": "circle"
         },
         "mode": "markers",
         "name": "Somalia",
         "orientation": "v",
         "showlegend": true,
         "type": "scatter",
         "x": [
          15.411101
         ],
         "xaxis": "x",
         "y": [
          0.638
         ],
         "yaxis": "y"
        },
        {
         "hovertemplate": "country=South Africa<br>Población (millones)=%{x}<br>Emisiones de CO2 (kt)=%{y}<extra></extra>",
         "legendgroup": "South Africa",
         "marker": {
          "color": "#39a2fc",
          "opacity": 0.5,
          "size": 10,
          "symbol": "circle"
         },
         "mode": "markers",
         "name": "South Africa",
         "orientation": "v",
         "showlegend": true,
         "type": "scatter",
         "x": [
          57.339632
         ],
         "xaxis": "x",
         "y": [
          435.237
         ],
         "yaxis": "y"
        },
        {
         "hovertemplate": "country=South Korea<br>Población (millones)=%{x}<br>Emisiones de CO2 (kt)=%{y}<extra></extra>",
         "legendgroup": "South Korea",
         "marker": {
          "color": "#1bcfd4",
          "opacity": 0.5,
          "size": 10,
          "symbol": "circle"
         },
         "mode": "markers",
         "name": "South Korea",
         "orientation": "v",
         "showlegend": true,
         "type": "scatter",
         "x": [
          51.6769
         ],
         "xaxis": "x",
         "y": [
          670.169
         ],
         "yaxis": "y"
        },
        {
         "hovertemplate": "country=South Sudan<br>Población (millones)=%{x}<br>Emisiones de CO2 (kt)=%{y}<extra></extra>",
         "legendgroup": "South Sudan",
         "marker": {
          "color": "#24eca6",
          "opacity": 0.5,
          "size": 10,
          "symbol": "circle"
         },
         "mode": "markers",
         "name": "South Sudan",
         "orientation": "v",
         "showlegend": true,
         "type": "scatter",
         "x": [
          10.395332
         ],
         "xaxis": "x",
         "y": [
          1.499
         ],
         "yaxis": "y"
        },
        {
         "hovertemplate": "country=Spain<br>Población (millones)=%{x}<br>Emisiones de CO2 (kt)=%{y}<extra></extra>",
         "legendgroup": "Spain",
         "marker": {
          "color": "#61fc6c",
          "opacity": 0.5,
          "size": 10,
          "symbol": "circle"
         },
         "mode": "markers",
         "name": "Spain",
         "orientation": "v",
         "showlegend": true,
         "type": "scatter",
         "x": [
          46.792044
         ],
         "xaxis": "x",
         "y": [
          270.052
         ],
         "yaxis": "y"
        },
        {
         "hovertemplate": "country=Sri Lanka<br>Población (millones)=%{x}<br>Emisiones de CO2 (kt)=%{y}<extra></extra>",
         "legendgroup": "Sri Lanka",
         "marker": {
          "color": "#a4fc3b",
          "opacity": 0.5,
          "size": 10,
          "symbol": "circle"
         },
         "mode": "markers",
         "name": "Sri Lanka",
         "orientation": "v",
         "showlegend": true,
         "type": "scatter",
         "x": [
          21.580712
         ],
         "xaxis": "x",
         "y": [
          20.995
         ],
         "yaxis": "y"
        },
        {
         "hovertemplate": "country=Sudan<br>Población (millones)=%{x}<br>Emisiones de CO2 (kt)=%{y}<extra></extra>",
         "legendgroup": "Sudan",
         "marker": {
          "color": "#d1e834",
          "opacity": 0.5,
          "size": 10,
          "symbol": "circle"
         },
         "mode": "markers",
         "name": "Sudan",
         "orientation": "v",
         "showlegend": true,
         "type": "scatter",
         "x": [
          41.999064
         ],
         "xaxis": "x",
         "y": [
          21.864
         ],
         "yaxis": "y"
        },
        {
         "hovertemplate": "country=Suriname<br>Población (millones)=%{x}<br>Emisiones de CO2 (kt)=%{y}<extra></extra>",
         "legendgroup": "Suriname",
         "marker": {
          "color": "#f3c63a",
          "opacity": 0.5,
          "size": 10,
          "symbol": "circle"
         },
         "mode": "markers",
         "name": "Suriname",
         "orientation": "v",
         "showlegend": true,
         "type": "scatter",
         "x": [
          0.593729
         ],
         "xaxis": "x",
         "y": [
          1.869
         ],
         "yaxis": "y"
        },
        {
         "hovertemplate": "country=Sweden<br>Población (millones)=%{x}<br>Emisiones de CO2 (kt)=%{y}<extra></extra>",
         "legendgroup": "Sweden",
         "marker": {
          "color": "#fe9b2d",
          "opacity": 0.5,
          "size": 10,
          "symbol": "circle"
         },
         "mode": "markers",
         "name": "Sweden",
         "orientation": "v",
         "showlegend": true,
         "type": "scatter",
         "x": [
          10.1623
         ],
         "xaxis": "x",
         "y": [
          42.095
         ],
         "yaxis": "y"
        },
        {
         "hovertemplate": "country=Switzerland<br>Población (millones)=%{x}<br>Emisiones de CO2 (kt)=%{y}<extra></extra>",
         "legendgroup": "Switzerland",
         "marker": {
          "color": "#f36315",
          "opacity": 0.5,
          "size": 10,
          "symbol": "circle"
         },
         "mode": "markers",
         "name": "Switzerland",
         "orientation": "v",
         "showlegend": true,
         "type": "scatter",
         "x": [
          8.514431
         ],
         "xaxis": "x",
         "y": [
          36.874
         ],
         "yaxis": "y"
        },
        {
         "hovertemplate": "country=Syria<br>Población (millones)=%{x}<br>Emisiones de CO2 (kt)=%{y}<extra></extra>",
         "legendgroup": "Syria",
         "marker": {
          "color": "#d93806",
          "opacity": 0.5,
          "size": 10,
          "symbol": "circle"
         },
         "mode": "markers",
         "name": "Syria",
         "orientation": "v",
         "showlegend": true,
         "type": "scatter",
         "x": [
          19.333464
         ],
         "xaxis": "x",
         "y": [
          30.23
         ],
         "yaxis": "y"
        },
        {
         "hovertemplate": "country=Taiwan<br>Población (millones)=%{x}<br>Emisiones de CO2 (kt)=%{y}<extra></extra>",
         "legendgroup": "Taiwan",
         "marker": {
          "color": "#b11901",
          "opacity": 0.5,
          "size": 10,
          "symbol": "circle"
         },
         "mode": "markers",
         "name": "Taiwan",
         "orientation": "v",
         "showlegend": true,
         "type": "scatter",
         "x": [
          23.726186
         ],
         "xaxis": "x",
         "y": [
          282.843
         ],
         "yaxis": "y"
        },
        {
         "hovertemplate": "country=Tajikistan<br>Población (millones)=%{x}<br>Emisiones de CO2 (kt)=%{y}<extra></extra>",
         "legendgroup": "Tajikistan",
         "marker": {
          "color": "#7a0402",
          "opacity": 0.5,
          "size": 10,
          "symbol": "circle"
         },
         "mode": "markers",
         "name": "Tajikistan",
         "orientation": "v",
         "showlegend": true,
         "type": "scatter",
         "x": [
          9.128131
         ],
         "xaxis": "x",
         "y": [
          9.108
         ],
         "yaxis": "y"
        },
        {
         "hovertemplate": "country=Tanzania<br>Población (millones)=%{x}<br>Emisiones de CO2 (kt)=%{y}<extra></extra>",
         "legendgroup": "Tanzania",
         "marker": {
          "color": "#30123b",
          "opacity": 0.5,
          "size": 10,
          "symbol": "circle"
         },
         "mode": "markers",
         "name": "Tanzania",
         "orientation": "v",
         "showlegend": true,
         "type": "scatter",
         "x": [
          58.090444
         ],
         "xaxis": "x",
         "y": [
          11.787
         ],
         "yaxis": "y"
        },
        {
         "hovertemplate": "country=Thailand<br>Población (millones)=%{x}<br>Emisiones de CO2 (kt)=%{y}<extra></extra>",
         "legendgroup": "Thailand",
         "marker": {
          "color": "#4145ab",
          "opacity": 0.5,
          "size": 10,
          "symbol": "circle"
         },
         "mode": "markers",
         "name": "Thailand",
         "orientation": "v",
         "showlegend": true,
         "type": "scatter",
         "x": [
          71.127808
         ],
         "xaxis": "x",
         "y": [
          282.105
         ],
         "yaxis": "y"
        },
        {
         "hovertemplate": "country=Timor<br>Población (millones)=%{x}<br>Emisiones de CO2 (kt)=%{y}<extra></extra>",
         "legendgroup": "Timor",
         "marker": {
          "color": "#4675ed",
          "opacity": 0.5,
          "size": 10,
          "symbol": "circle"
         },
         "mode": "markers",
         "name": "Timor",
         "orientation": "v",
         "showlegend": true,
         "type": "scatter",
         "x": [
          1.26185
         ],
         "xaxis": "x",
         "y": [
          0.634
         ],
         "yaxis": "y"
        },
        {
         "hovertemplate": "country=Togo<br>Población (millones)=%{x}<br>Emisiones de CO2 (kt)=%{y}<extra></extra>",
         "legendgroup": "Togo",
         "marker": {
          "color": "#39a2fc",
          "opacity": 0.5,
          "size": 10,
          "symbol": "circle"
         },
         "mode": "markers",
         "name": "Togo",
         "orientation": "v",
         "showlegend": true,
         "type": "scatter",
         "x": [
          8.04668
         ],
         "xaxis": "x",
         "y": [
          2.208
         ],
         "yaxis": "y"
        },
        {
         "hovertemplate": "country=Tonga<br>Población (millones)=%{x}<br>Emisiones de CO2 (kt)=%{y}<extra></extra>",
         "legendgroup": "Tonga",
         "marker": {
          "color": "#1bcfd4",
          "opacity": 0.5,
          "size": 10,
          "symbol": "circle"
         },
         "mode": "markers",
         "name": "Tonga",
         "orientation": "v",
         "showlegend": true,
         "type": "scatter",
         "x": [
          0.105167
         ],
         "xaxis": "x",
         "y": [
          0.136
         ],
         "yaxis": "y"
        },
        {
         "hovertemplate": "country=Trinidad and Tobago<br>Población (millones)=%{x}<br>Emisiones de CO2 (kt)=%{y}<extra></extra>",
         "legendgroup": "Trinidad and Tobago",
         "marker": {
          "color": "#24eca6",
          "opacity": 0.5,
          "size": 10,
          "symbol": "circle"
         },
         "mode": "markers",
         "name": "Trinidad and Tobago",
         "orientation": "v",
         "showlegend": true,
         "type": "scatter",
         "x": [
          1.504707
         ],
         "xaxis": "x",
         "y": [
          40.328
         ],
         "yaxis": "y"
        },
        {
         "hovertemplate": "country=Tunisia<br>Población (millones)=%{x}<br>Emisiones de CO2 (kt)=%{y}<extra></extra>",
         "legendgroup": "Tunisia",
         "marker": {
          "color": "#61fc6c",
          "opacity": 0.5,
          "size": 10,
          "symbol": "circle"
         },
         "mode": "markers",
         "name": "Tunisia",
         "orientation": "v",
         "showlegend": true,
         "type": "scatter",
         "x": [
          11.93304
         ],
         "xaxis": "x",
         "y": [
          29.997
         ],
         "yaxis": "y"
        },
        {
         "hovertemplate": "country=Turkey<br>Población (millones)=%{x}<br>Emisiones de CO2 (kt)=%{y}<extra></extra>",
         "legendgroup": "Turkey",
         "marker": {
          "color": "#a4fc3b",
          "opacity": 0.5,
          "size": 10,
          "symbol": "circle"
         },
         "mode": "markers",
         "name": "Turkey",
         "orientation": "v",
         "showlegend": true,
         "type": "scatter",
         "x": [
          82.809304
         ],
         "xaxis": "x",
         "y": [
          422.569
         ],
         "yaxis": "y"
        },
        {
         "hovertemplate": "country=Turkmenistan<br>Población (millones)=%{x}<br>Emisiones de CO2 (kt)=%{y}<extra></extra>",
         "legendgroup": "Turkmenistan",
         "marker": {
          "color": "#d1e834",
          "opacity": 0.5,
          "size": 10,
          "symbol": "circle"
         },
         "mode": "markers",
         "name": "Turkmenistan",
         "orientation": "v",
         "showlegend": true,
         "type": "scatter",
         "x": [
          6.065072
         ],
         "xaxis": "x",
         "y": [
          73.252
         ],
         "yaxis": "y"
        },
        {
         "hovertemplate": "country=Turks and Caicos Islands<br>Población (millones)=%{x}<br>Emisiones de CO2 (kt)=%{y}<extra></extra>",
         "legendgroup": "Turks and Caicos Islands",
         "marker": {
          "color": "#f3c63a",
          "opacity": 0.5,
          "size": 10,
          "symbol": "circle"
         },
         "mode": "markers",
         "name": "Turks and Caicos Islands",
         "orientation": "v",
         "showlegend": true,
         "type": "scatter",
         "x": [
          0.041516
         ],
         "xaxis": "x",
         "y": [
          0.363
         ],
         "yaxis": "y"
        },
        {
         "hovertemplate": "country=Tuvalu<br>Población (millones)=%{x}<br>Emisiones de CO2 (kt)=%{y}<extra></extra>",
         "legendgroup": "Tuvalu",
         "marker": {
          "color": "#fe9b2d",
          "opacity": 0.5,
          "size": 10,
          "symbol": "circle"
         },
         "mode": "markers",
         "name": "Tuvalu",
         "orientation": "v",
         "showlegend": true,
         "type": "scatter",
         "x": [
          0.010883
         ],
         "xaxis": "x",
         "y": [
          0.007
         ],
         "yaxis": "y"
        },
        {
         "hovertemplate": "country=Uganda<br>Población (millones)=%{x}<br>Emisiones de CO2 (kt)=%{y}<extra></extra>",
         "legendgroup": "Uganda",
         "marker": {
          "color": "#f36315",
          "opacity": 0.5,
          "size": 10,
          "symbol": "circle"
         },
         "mode": "markers",
         "name": "Uganda",
         "orientation": "v",
         "showlegend": true,
         "type": "scatter",
         "x": [
          41.5154
         ],
         "xaxis": "x",
         "y": [
          5.631
         ],
         "yaxis": "y"
        },
        {
         "hovertemplate": "country=Ukraine<br>Población (millones)=%{x}<br>Emisiones de CO2 (kt)=%{y}<extra></extra>",
         "legendgroup": "Ukraine",
         "marker": {
          "color": "#d93806",
          "opacity": 0.5,
          "size": 10,
          "symbol": "circle"
         },
         "mode": "markers",
         "name": "Ukraine",
         "orientation": "v",
         "showlegend": true,
         "type": "scatter",
         "x": [
          44.446952
         ],
         "xaxis": "x",
         "y": [
          231.675
         ],
         "yaxis": "y"
        },
        {
         "hovertemplate": "country=United Arab Emirates<br>Población (millones)=%{x}<br>Emisiones de CO2 (kt)=%{y}<extra></extra>",
         "legendgroup": "United Arab Emirates",
         "marker": {
          "color": "#b11901",
          "opacity": 0.5,
          "size": 10,
          "symbol": "circle"
         },
         "mode": "markers",
         "name": "United Arab Emirates",
         "orientation": "v",
         "showlegend": true,
         "type": "scatter",
         "x": [
          9.140172
         ],
         "xaxis": "x",
         "y": [
          210.218
         ],
         "yaxis": "y"
        },
        {
         "hovertemplate": "country=United Kingdom<br>Población (millones)=%{x}<br>Emisiones de CO2 (kt)=%{y}<extra></extra>",
         "legendgroup": "United Kingdom",
         "marker": {
          "color": "#7a0402",
          "opacity": 0.5,
          "size": 10,
          "symbol": "circle"
         },
         "mode": "markers",
         "name": "United Kingdom",
         "orientation": "v",
         "showlegend": true,
         "type": "scatter",
         "x": [
          66.432996
         ],
         "xaxis": "x",
         "y": [
          379.73
         ],
         "yaxis": "y"
        },
        {
         "hovertemplate": "country=United States Virgin Islands<br>Población (millones)=%{x}<br>Emisiones de CO2 (kt)=%{y}<extra></extra>",
         "legendgroup": "United States Virgin Islands",
         "marker": {
          "color": "#30123b",
          "opacity": 0.5,
          "size": 10,
          "symbol": "circle"
         },
         "mode": "markers",
         "name": "United States Virgin Islands",
         "orientation": "v",
         "showlegend": true,
         "type": "scatter",
         "x": [
          0.101377
         ],
         "xaxis": "x",
         "y": [
          null
         ],
         "yaxis": "y"
        },
        {
         "hovertemplate": "country=Uruguay<br>Población (millones)=%{x}<br>Emisiones de CO2 (kt)=%{y}<extra></extra>",
         "legendgroup": "Uruguay",
         "marker": {
          "color": "#4145ab",
          "opacity": 0.5,
          "size": 10,
          "symbol": "circle"
         },
         "mode": "markers",
         "name": "Uruguay",
         "orientation": "v",
         "showlegend": true,
         "type": "scatter",
         "x": [
          3.427044
         ],
         "xaxis": "x",
         "y": [
          6.571
         ],
         "yaxis": "y"
        },
        {
         "hovertemplate": "country=Uzbekistan<br>Población (millones)=%{x}<br>Emisiones de CO2 (kt)=%{y}<extra></extra>",
         "legendgroup": "Uzbekistan",
         "marker": {
          "color": "#4675ed",
          "opacity": 0.5,
          "size": 10,
          "symbol": "circle"
         },
         "mode": "markers",
         "name": "Uzbekistan",
         "orientation": "v",
         "showlegend": true,
         "type": "scatter",
         "x": [
          32.449578
         ],
         "xaxis": "x",
         "y": [
          116.464
         ],
         "yaxis": "y"
        },
        {
         "hovertemplate": "country=Vanuatu<br>Población (millones)=%{x}<br>Emisiones de CO2 (kt)=%{y}<extra></extra>",
         "legendgroup": "Vanuatu",
         "marker": {
          "color": "#39a2fc",
          "opacity": 0.5,
          "size": 10,
          "symbol": "circle"
         },
         "mode": "markers",
         "name": "Vanuatu",
         "orientation": "v",
         "showlegend": true,
         "type": "scatter",
         "x": [
          0.297307
         ],
         "xaxis": "x",
         "y": [
          0.176
         ],
         "yaxis": "y"
        },
        {
         "hovertemplate": "country=Venezuela<br>Población (millones)=%{x}<br>Emisiones de CO2 (kt)=%{y}<extra></extra>",
         "legendgroup": "Venezuela",
         "marker": {
          "color": "#1bcfd4",
          "opacity": 0.5,
          "size": 10,
          "symbol": "circle"
         },
         "mode": "markers",
         "name": "Venezuela",
         "orientation": "v",
         "showlegend": true,
         "type": "scatter",
         "x": [
          29.825652
         ],
         "xaxis": "x",
         "y": [
          102.672
         ],
         "yaxis": "y"
        },
        {
         "hovertemplate": "country=Vietnam<br>Población (millones)=%{x}<br>Emisiones de CO2 (kt)=%{y}<extra></extra>",
         "legendgroup": "Vietnam",
         "marker": {
          "color": "#24eca6",
          "opacity": 0.5,
          "size": 10,
          "symbol": "circle"
         },
         "mode": "markers",
         "name": "Vietnam",
         "orientation": "v",
         "showlegend": true,
         "type": "scatter",
         "x": [
          94.914328
         ],
         "xaxis": "x",
         "y": [
          274.223
         ],
         "yaxis": "y"
        },
        {
         "hovertemplate": "country=Wallis and Futuna<br>Población (millones)=%{x}<br>Emisiones de CO2 (kt)=%{y}<extra></extra>",
         "legendgroup": "Wallis and Futuna",
         "marker": {
          "color": "#61fc6c",
          "opacity": 0.5,
          "size": 10,
          "symbol": "circle"
         },
         "mode": "markers",
         "name": "Wallis and Futuna",
         "orientation": "v",
         "showlegend": true,
         "type": "scatter",
         "x": [
          0.01184
         ],
         "xaxis": "x",
         "y": [
          0.026
         ],
         "yaxis": "y"
        },
        {
         "hovertemplate": "country=Western Sahara<br>Población (millones)=%{x}<br>Emisiones de CO2 (kt)=%{y}<extra></extra>",
         "legendgroup": "Western Sahara",
         "marker": {
          "color": "#a4fc3b",
          "opacity": 0.5,
          "size": 10,
          "symbol": "circle"
         },
         "mode": "markers",
         "name": "Western Sahara",
         "orientation": "v",
         "showlegend": true,
         "type": "scatter",
         "x": [
          0.532011
         ],
         "xaxis": "x",
         "y": [
          null
         ],
         "yaxis": "y"
        },
        {
         "hovertemplate": "country=Yemen<br>Población (millones)=%{x}<br>Emisiones de CO2 (kt)=%{y}<extra></extra>",
         "legendgroup": "Yemen",
         "marker": {
          "color": "#d1e834",
          "opacity": 0.5,
          "size": 10,
          "symbol": "circle"
         },
         "mode": "markers",
         "name": "Yemen",
         "orientation": "v",
         "showlegend": true,
         "type": "scatter",
         "x": [
          30.790514
         ],
         "xaxis": "x",
         "y": [
          10.474
         ],
         "yaxis": "y"
        },
        {
         "hovertemplate": "country=Zambia<br>Población (millones)=%{x}<br>Emisiones de CO2 (kt)=%{y}<extra></extra>",
         "legendgroup": "Zambia",
         "marker": {
          "color": "#f3c63a",
          "opacity": 0.5,
          "size": 10,
          "symbol": "circle"
         },
         "mode": "markers",
         "name": "Zambia",
         "orientation": "v",
         "showlegend": true,
         "type": "scatter",
         "x": [
          17.835898
         ],
         "xaxis": "x",
         "y": [
          7.412
         ],
         "yaxis": "y"
        },
        {
         "hovertemplate": "country=Zimbabwe<br>Población (millones)=%{x}<br>Emisiones de CO2 (kt)=%{y}<extra></extra>",
         "legendgroup": "Zimbabwe",
         "marker": {
          "color": "#fe9b2d",
          "opacity": 0.5,
          "size": 10,
          "symbol": "circle"
         },
         "mode": "markers",
         "name": "Zimbabwe",
         "orientation": "v",
         "showlegend": true,
         "type": "scatter",
         "x": [
          15.052191
         ],
         "xaxis": "x",
         "y": [
          11.795
         ],
         "yaxis": "y"
        }
       ],
       "layout": {
        "height": 400,
        "legend": {
         "title": {
          "text": "country"
         },
         "tracegroupgap": 0
        },
        "margin": {
         "t": 60
        },
        "template": {
         "data": {
          "bar": [
           {
            "error_x": {
             "color": "rgb(36,36,36)"
            },
            "error_y": {
             "color": "rgb(36,36,36)"
            },
            "marker": {
             "line": {
              "color": "white",
              "width": 0.5
             },
             "pattern": {
              "fillmode": "overlay",
              "size": 10,
              "solidity": 0.2
             }
            },
            "type": "bar"
           }
          ],
          "barpolar": [
           {
            "marker": {
             "line": {
              "color": "white",
              "width": 0.5
             },
             "pattern": {
              "fillmode": "overlay",
              "size": 10,
              "solidity": 0.2
             }
            },
            "type": "barpolar"
           }
          ],
          "carpet": [
           {
            "aaxis": {
             "endlinecolor": "rgb(36,36,36)",
             "gridcolor": "white",
             "linecolor": "white",
             "minorgridcolor": "white",
             "startlinecolor": "rgb(36,36,36)"
            },
            "baxis": {
             "endlinecolor": "rgb(36,36,36)",
             "gridcolor": "white",
             "linecolor": "white",
             "minorgridcolor": "white",
             "startlinecolor": "rgb(36,36,36)"
            },
            "type": "carpet"
           }
          ],
          "choropleth": [
           {
            "colorbar": {
             "outlinewidth": 1,
             "tickcolor": "rgb(36,36,36)",
             "ticks": "outside"
            },
            "type": "choropleth"
           }
          ],
          "contour": [
           {
            "colorbar": {
             "outlinewidth": 1,
             "tickcolor": "rgb(36,36,36)",
             "ticks": "outside"
            },
            "colorscale": [
             [
              0,
              "#440154"
             ],
             [
              0.1111111111111111,
              "#482878"
             ],
             [
              0.2222222222222222,
              "#3e4989"
             ],
             [
              0.3333333333333333,
              "#31688e"
             ],
             [
              0.4444444444444444,
              "#26828e"
             ],
             [
              0.5555555555555556,
              "#1f9e89"
             ],
             [
              0.6666666666666666,
              "#35b779"
             ],
             [
              0.7777777777777778,
              "#6ece58"
             ],
             [
              0.8888888888888888,
              "#b5de2b"
             ],
             [
              1,
              "#fde725"
             ]
            ],
            "type": "contour"
           }
          ],
          "contourcarpet": [
           {
            "colorbar": {
             "outlinewidth": 1,
             "tickcolor": "rgb(36,36,36)",
             "ticks": "outside"
            },
            "type": "contourcarpet"
           }
          ],
          "heatmap": [
           {
            "colorbar": {
             "outlinewidth": 1,
             "tickcolor": "rgb(36,36,36)",
             "ticks": "outside"
            },
            "colorscale": [
             [
              0,
              "#440154"
             ],
             [
              0.1111111111111111,
              "#482878"
             ],
             [
              0.2222222222222222,
              "#3e4989"
             ],
             [
              0.3333333333333333,
              "#31688e"
             ],
             [
              0.4444444444444444,
              "#26828e"
             ],
             [
              0.5555555555555556,
              "#1f9e89"
             ],
             [
              0.6666666666666666,
              "#35b779"
             ],
             [
              0.7777777777777778,
              "#6ece58"
             ],
             [
              0.8888888888888888,
              "#b5de2b"
             ],
             [
              1,
              "#fde725"
             ]
            ],
            "type": "heatmap"
           }
          ],
          "heatmapgl": [
           {
            "colorbar": {
             "outlinewidth": 1,
             "tickcolor": "rgb(36,36,36)",
             "ticks": "outside"
            },
            "colorscale": [
             [
              0,
              "#440154"
             ],
             [
              0.1111111111111111,
              "#482878"
             ],
             [
              0.2222222222222222,
              "#3e4989"
             ],
             [
              0.3333333333333333,
              "#31688e"
             ],
             [
              0.4444444444444444,
              "#26828e"
             ],
             [
              0.5555555555555556,
              "#1f9e89"
             ],
             [
              0.6666666666666666,
              "#35b779"
             ],
             [
              0.7777777777777778,
              "#6ece58"
             ],
             [
              0.8888888888888888,
              "#b5de2b"
             ],
             [
              1,
              "#fde725"
             ]
            ],
            "type": "heatmapgl"
           }
          ],
          "histogram": [
           {
            "marker": {
             "line": {
              "color": "white",
              "width": 0.6
             }
            },
            "type": "histogram"
           }
          ],
          "histogram2d": [
           {
            "colorbar": {
             "outlinewidth": 1,
             "tickcolor": "rgb(36,36,36)",
             "ticks": "outside"
            },
            "colorscale": [
             [
              0,
              "#440154"
             ],
             [
              0.1111111111111111,
              "#482878"
             ],
             [
              0.2222222222222222,
              "#3e4989"
             ],
             [
              0.3333333333333333,
              "#31688e"
             ],
             [
              0.4444444444444444,
              "#26828e"
             ],
             [
              0.5555555555555556,
              "#1f9e89"
             ],
             [
              0.6666666666666666,
              "#35b779"
             ],
             [
              0.7777777777777778,
              "#6ece58"
             ],
             [
              0.8888888888888888,
              "#b5de2b"
             ],
             [
              1,
              "#fde725"
             ]
            ],
            "type": "histogram2d"
           }
          ],
          "histogram2dcontour": [
           {
            "colorbar": {
             "outlinewidth": 1,
             "tickcolor": "rgb(36,36,36)",
             "ticks": "outside"
            },
            "colorscale": [
             [
              0,
              "#440154"
             ],
             [
              0.1111111111111111,
              "#482878"
             ],
             [
              0.2222222222222222,
              "#3e4989"
             ],
             [
              0.3333333333333333,
              "#31688e"
             ],
             [
              0.4444444444444444,
              "#26828e"
             ],
             [
              0.5555555555555556,
              "#1f9e89"
             ],
             [
              0.6666666666666666,
              "#35b779"
             ],
             [
              0.7777777777777778,
              "#6ece58"
             ],
             [
              0.8888888888888888,
              "#b5de2b"
             ],
             [
              1,
              "#fde725"
             ]
            ],
            "type": "histogram2dcontour"
           }
          ],
          "mesh3d": [
           {
            "colorbar": {
             "outlinewidth": 1,
             "tickcolor": "rgb(36,36,36)",
             "ticks": "outside"
            },
            "type": "mesh3d"
           }
          ],
          "parcoords": [
           {
            "line": {
             "colorbar": {
              "outlinewidth": 1,
              "tickcolor": "rgb(36,36,36)",
              "ticks": "outside"
             }
            },
            "type": "parcoords"
           }
          ],
          "pie": [
           {
            "automargin": true,
            "type": "pie"
           }
          ],
          "scatter": [
           {
            "fillpattern": {
             "fillmode": "overlay",
             "size": 10,
             "solidity": 0.2
            },
            "type": "scatter"
           }
          ],
          "scatter3d": [
           {
            "line": {
             "colorbar": {
              "outlinewidth": 1,
              "tickcolor": "rgb(36,36,36)",
              "ticks": "outside"
             }
            },
            "marker": {
             "colorbar": {
              "outlinewidth": 1,
              "tickcolor": "rgb(36,36,36)",
              "ticks": "outside"
             }
            },
            "type": "scatter3d"
           }
          ],
          "scattercarpet": [
           {
            "marker": {
             "colorbar": {
              "outlinewidth": 1,
              "tickcolor": "rgb(36,36,36)",
              "ticks": "outside"
             }
            },
            "type": "scattercarpet"
           }
          ],
          "scattergeo": [
           {
            "marker": {
             "colorbar": {
              "outlinewidth": 1,
              "tickcolor": "rgb(36,36,36)",
              "ticks": "outside"
             }
            },
            "type": "scattergeo"
           }
          ],
          "scattergl": [
           {
            "marker": {
             "colorbar": {
              "outlinewidth": 1,
              "tickcolor": "rgb(36,36,36)",
              "ticks": "outside"
             }
            },
            "type": "scattergl"
           }
          ],
          "scattermapbox": [
           {
            "marker": {
             "colorbar": {
              "outlinewidth": 1,
              "tickcolor": "rgb(36,36,36)",
              "ticks": "outside"
             }
            },
            "type": "scattermapbox"
           }
          ],
          "scatterpolar": [
           {
            "marker": {
             "colorbar": {
              "outlinewidth": 1,
              "tickcolor": "rgb(36,36,36)",
              "ticks": "outside"
             }
            },
            "type": "scatterpolar"
           }
          ],
          "scatterpolargl": [
           {
            "marker": {
             "colorbar": {
              "outlinewidth": 1,
              "tickcolor": "rgb(36,36,36)",
              "ticks": "outside"
             }
            },
            "type": "scatterpolargl"
           }
          ],
          "scatterternary": [
           {
            "marker": {
             "colorbar": {
              "outlinewidth": 1,
              "tickcolor": "rgb(36,36,36)",
              "ticks": "outside"
             }
            },
            "type": "scatterternary"
           }
          ],
          "surface": [
           {
            "colorbar": {
             "outlinewidth": 1,
             "tickcolor": "rgb(36,36,36)",
             "ticks": "outside"
            },
            "colorscale": [
             [
              0,
              "#440154"
             ],
             [
              0.1111111111111111,
              "#482878"
             ],
             [
              0.2222222222222222,
              "#3e4989"
             ],
             [
              0.3333333333333333,
              "#31688e"
             ],
             [
              0.4444444444444444,
              "#26828e"
             ],
             [
              0.5555555555555556,
              "#1f9e89"
             ],
             [
              0.6666666666666666,
              "#35b779"
             ],
             [
              0.7777777777777778,
              "#6ece58"
             ],
             [
              0.8888888888888888,
              "#b5de2b"
             ],
             [
              1,
              "#fde725"
             ]
            ],
            "type": "surface"
           }
          ],
          "table": [
           {
            "cells": {
             "fill": {
              "color": "rgb(237,237,237)"
             },
             "line": {
              "color": "white"
             }
            },
            "header": {
             "fill": {
              "color": "rgb(217,217,217)"
             },
             "line": {
              "color": "white"
             }
            },
            "type": "table"
           }
          ]
         },
         "layout": {
          "annotationdefaults": {
           "arrowhead": 0,
           "arrowwidth": 1
          },
          "autotypenumbers": "strict",
          "coloraxis": {
           "colorbar": {
            "outlinewidth": 1,
            "tickcolor": "rgb(36,36,36)",
            "ticks": "outside"
           }
          },
          "colorscale": {
           "diverging": [
            [
             0,
             "rgb(103,0,31)"
            ],
            [
             0.1,
             "rgb(178,24,43)"
            ],
            [
             0.2,
             "rgb(214,96,77)"
            ],
            [
             0.3,
             "rgb(244,165,130)"
            ],
            [
             0.4,
             "rgb(253,219,199)"
            ],
            [
             0.5,
             "rgb(247,247,247)"
            ],
            [
             0.6,
             "rgb(209,229,240)"
            ],
            [
             0.7,
             "rgb(146,197,222)"
            ],
            [
             0.8,
             "rgb(67,147,195)"
            ],
            [
             0.9,
             "rgb(33,102,172)"
            ],
            [
             1,
             "rgb(5,48,97)"
            ]
           ],
           "sequential": [
            [
             0,
             "#440154"
            ],
            [
             0.1111111111111111,
             "#482878"
            ],
            [
             0.2222222222222222,
             "#3e4989"
            ],
            [
             0.3333333333333333,
             "#31688e"
            ],
            [
             0.4444444444444444,
             "#26828e"
            ],
            [
             0.5555555555555556,
             "#1f9e89"
            ],
            [
             0.6666666666666666,
             "#35b779"
            ],
            [
             0.7777777777777778,
             "#6ece58"
            ],
            [
             0.8888888888888888,
             "#b5de2b"
            ],
            [
             1,
             "#fde725"
            ]
           ],
           "sequentialminus": [
            [
             0,
             "#440154"
            ],
            [
             0.1111111111111111,
             "#482878"
            ],
            [
             0.2222222222222222,
             "#3e4989"
            ],
            [
             0.3333333333333333,
             "#31688e"
            ],
            [
             0.4444444444444444,
             "#26828e"
            ],
            [
             0.5555555555555556,
             "#1f9e89"
            ],
            [
             0.6666666666666666,
             "#35b779"
            ],
            [
             0.7777777777777778,
             "#6ece58"
            ],
            [
             0.8888888888888888,
             "#b5de2b"
            ],
            [
             1,
             "#fde725"
            ]
           ]
          },
          "colorway": [
           "#1F77B4",
           "#FF7F0E",
           "#2CA02C",
           "#D62728",
           "#9467BD",
           "#8C564B",
           "#E377C2",
           "#7F7F7F",
           "#BCBD22",
           "#17BECF"
          ],
          "font": {
           "color": "rgb(36,36,36)"
          },
          "geo": {
           "bgcolor": "white",
           "lakecolor": "white",
           "landcolor": "white",
           "showlakes": true,
           "showland": true,
           "subunitcolor": "white"
          },
          "hoverlabel": {
           "align": "left"
          },
          "hovermode": "closest",
          "mapbox": {
           "style": "light"
          },
          "paper_bgcolor": "white",
          "plot_bgcolor": "white",
          "polar": {
           "angularaxis": {
            "gridcolor": "rgb(232,232,232)",
            "linecolor": "rgb(36,36,36)",
            "showgrid": false,
            "showline": true,
            "ticks": "outside"
           },
           "bgcolor": "white",
           "radialaxis": {
            "gridcolor": "rgb(232,232,232)",
            "linecolor": "rgb(36,36,36)",
            "showgrid": false,
            "showline": true,
            "ticks": "outside"
           }
          },
          "scene": {
           "xaxis": {
            "backgroundcolor": "white",
            "gridcolor": "rgb(232,232,232)",
            "gridwidth": 2,
            "linecolor": "rgb(36,36,36)",
            "showbackground": true,
            "showgrid": false,
            "showline": true,
            "ticks": "outside",
            "zeroline": false,
            "zerolinecolor": "rgb(36,36,36)"
           },
           "yaxis": {
            "backgroundcolor": "white",
            "gridcolor": "rgb(232,232,232)",
            "gridwidth": 2,
            "linecolor": "rgb(36,36,36)",
            "showbackground": true,
            "showgrid": false,
            "showline": true,
            "ticks": "outside",
            "zeroline": false,
            "zerolinecolor": "rgb(36,36,36)"
           },
           "zaxis": {
            "backgroundcolor": "white",
            "gridcolor": "rgb(232,232,232)",
            "gridwidth": 2,
            "linecolor": "rgb(36,36,36)",
            "showbackground": true,
            "showgrid": false,
            "showline": true,
            "ticks": "outside",
            "zeroline": false,
            "zerolinecolor": "rgb(36,36,36)"
           }
          },
          "shapedefaults": {
           "fillcolor": "black",
           "line": {
            "width": 0
           },
           "opacity": 0.3
          },
          "ternary": {
           "aaxis": {
            "gridcolor": "rgb(232,232,232)",
            "linecolor": "rgb(36,36,36)",
            "showgrid": false,
            "showline": true,
            "ticks": "outside"
           },
           "baxis": {
            "gridcolor": "rgb(232,232,232)",
            "linecolor": "rgb(36,36,36)",
            "showgrid": false,
            "showline": true,
            "ticks": "outside"
           },
           "bgcolor": "white",
           "caxis": {
            "gridcolor": "rgb(232,232,232)",
            "linecolor": "rgb(36,36,36)",
            "showgrid": false,
            "showline": true,
            "ticks": "outside"
           }
          },
          "title": {
           "x": 0.05
          },
          "xaxis": {
           "automargin": true,
           "gridcolor": "rgb(232,232,232)",
           "linecolor": "rgb(36,36,36)",
           "showgrid": false,
           "showline": true,
           "ticks": "outside",
           "title": {
            "standoff": 15
           },
           "zeroline": false,
           "zerolinecolor": "rgb(36,36,36)"
          },
          "yaxis": {
           "automargin": true,
           "gridcolor": "rgb(232,232,232)",
           "linecolor": "rgb(36,36,36)",
           "showgrid": false,
           "showline": true,
           "ticks": "outside",
           "title": {
            "standoff": 15
           },
           "zeroline": false,
           "zerolinecolor": "rgb(36,36,36)"
          }
         }
        },
        "title": {
         "font": {
          "color": "#000000",
          "family": "Arial",
          "size": 18
         },
         "text": "Y con la poblacion?",
         "x": 0.2,
         "xanchor": "right",
         "y": 0.95,
         "yanchor": "top"
        },
        "width": 900,
        "xaxis": {
         "anchor": "y",
         "domain": [
          0,
          1
         ],
         "title": {
          "text": "Población (millones)"
         }
        },
        "yaxis": {
         "anchor": "x",
         "domain": [
          0,
          1
         ],
         "title": {
          "text": "Emisiones de CO2 (kt)"
         }
        }
       }
      }
     },
     "metadata": {},
     "output_type": "display_data"
    }
   ],
   "source": [
    "subset_0515 = graficos_df.loc['2018-01-01']\n",
    "subset_0515['population_M'] = subset_0515['population'] / 1000000\n",
    "subset_0515['gdp_pc'] = subset_0515['gdp'] / subset_0515['population']\n",
    "subset_0515['co2_pc'] = subset_0515['co2'] / subset_0515['population']\n",
    "\n",
    "# Grafico 1: GDP vs CO2\n",
    "q_low = subset_0515[\"co2_pc\"].quantile(0.01)\n",
    "q_hi  = subset_0515[\"co2_pc\"].quantile(0.99)\n",
    "graf1 = subset_0515[(subset_0515[\"co2_pc\"] < q_hi) & (subset_0515[\"co2_pc\"] > q_low)]\n",
    "\n",
    "# Grafico 1: GDP vs CO2\n",
    "fig1 = px.scatter(graf1, x=\"gdp_pc\", y=\"co2_pc\",\n",
    "                  labels={\"co2_pc\": \"Emisiones de CO2 per capita\", \"gdp_pc\": \"PIB per cápita ($)\"},\n",
    "                  template=\"simple_white\",\n",
    "                  color=\"country\",\n",
    "                  color_discrete_sequence= my_colors)\n",
    "\n",
    "# estilo de la figura\n",
    "fig1.update_traces(marker=dict(size=10, opacity=0.5),\n",
    "                   selector=dict(mode='markers'))\n",
    "\n",
    "# gráfico 2: Poblacion y CO2\n",
    "q_low = subset_0515[\"population_M\"].quantile(0.01)\n",
    "q_hi  = subset_0515[\"population_M\"].quantile(0.99)\n",
    "graf2 = subset_0515[(subset_0515[\"population_M\"] < q_hi) & (subset_0515[\"population_M\"] > q_low)]\n",
    "\n",
    "fig2 = px.scatter(graf2, x=\"population_M\", y=\"co2\",\n",
    "                  labels={\"co2\": \"Emisiones de CO2 (kt)\", \"population_M\": \"Población (millones)\"},\n",
    "                  template=\"simple_white\",\n",
    "                  color=\"country\",\n",
    "                  color_discrete_sequence= my_colors)\n",
    "\n",
    "# estilo de la figura\n",
    "fig2.update_traces(marker=dict(size=10, opacity=0.5),\n",
    "                   selector=dict(mode='markers'))\n",
    "\n",
    "fig1.update_layout(\n",
    "    height=400,\n",
    "    width=900,\n",
    "    title={\n",
    "    'text': \"Como se relaciona el nivel de GDP per capita con las emisiones de CO2?\",\n",
    "    'y':0.95,\n",
    "    'x':0.70,\n",
    "    'xanchor': 'right',\n",
    "    'yanchor': 'top',\n",
    "    'font': {'size': 18, 'color': '#000000', 'family': 'Arial'}\n",
    "})\n",
    "\n",
    "fig2.update_layout(\n",
    "    height=400,\n",
    "    width=900,\n",
    "    title={\n",
    "    'text': \"Y con la poblacion?\",\n",
    "    'y':0.95,\n",
    "    'x':0.20,\n",
    "    'xanchor': 'right',\n",
    "    'yanchor': 'top',\n",
    "    'font': {'size': 18, 'color': '#000000', 'family': 'Arial'}\n",
    "})\n",
    "\n",
    "\n",
    "# Mostrar la figura\n",
    "fig1.show()\n",
    "fig2.show()\n"
   ]
  },
  {
   "attachments": {},
   "cell_type": "markdown",
   "id": "6a8d73dd",
   "metadata": {},
   "source": [
    "### Como ingresa argentina en este contexto?"
   ]
  },
  {
   "attachments": {},
   "cell_type": "markdown",
   "id": "ee2ad6d6",
   "metadata": {},
   "source": [
    "Argentina es un pais de ingreso per capita elevado, decil 9, pero dentro de su decil se encuentra por debajo del promedio de emisiones per capita."
   ]
  },
  {
   "cell_type": "code",
   "execution_count": 107,
   "id": "a8380f94",
   "metadata": {},
   "outputs": [
    {
     "name": "stderr",
     "output_type": "stream",
     "text": [
      "C:\\Users\\Bruno\\AppData\\Local\\Temp\\ipykernel_800\\1465751769.py:2: SettingWithCopyWarning:\n",
      "\n",
      "\n",
      "A value is trying to be set on a copy of a slice from a DataFrame.\n",
      "Try using .loc[row_indexer,col_indexer] = value instead\n",
      "\n",
      "See the caveats in the documentation: https://pandas.pydata.org/pandas-docs/stable/user_guide/indexing.html#returning-a-view-versus-a-copy\n",
      "\n"
     ]
    },
    {
     "data": {
      "application/vnd.plotly.v1+json": {
       "config": {
        "plotlyServerURL": "https://plot.ly"
       },
       "data": [
        {
         "alignmentgroup": "True",
         "hovertemplate": "Deciles de GDP=%{x}<br>CO2 per capita=%{y}<extra></extra>",
         "legendgroup": "",
         "marker": {
          "color": "#636efa"
         },
         "name": "",
         "notched": false,
         "offsetgroup": "",
         "orientation": "v",
         "showlegend": false,
         "type": "box",
         "x": [
          4,
          null,
          2,
          7,
          null,
          null,
          6,
          null,
          null,
          8,
          2,
          null,
          8,
          7,
          5,
          null,
          3,
          8,
          0,
          6,
          7,
          null,
          1,
          null,
          null,
          4,
          null,
          3,
          2,
          9,
          null,
          null,
          5,
          2,
          0,
          3,
          4,
          9,
          0,
          0,
          2,
          7,
          9,
          7,
          0,
          2,
          null,
          4,
          5,
          4,
          4,
          null,
          2,
          6,
          4,
          6,
          0,
          0,
          5,
          5,
          8,
          3,
          1,
          null,
          2,
          0,
          6,
          null,
          null,
          null,
          6,
          9,
          null,
          null,
          3,
          0,
          3,
          9,
          5,
          6,
          null,
          null,
          null,
          5,
          null,
          1,
          0,
          null,
          1,
          3,
          7,
          6,
          1,
          9,
          9,
          8,
          7,
          6,
          null,
          6,
          9,
          1,
          9,
          null,
          5,
          7,
          5,
          null,
          6,
          2,
          3,
          3,
          4,
          0,
          0,
          4,
          null,
          4,
          2,
          null,
          2,
          1,
          8,
          null,
          2,
          1,
          null,
          null,
          1,
          2,
          null,
          9,
          null,
          1,
          3,
          1,
          null,
          6,
          2,
          6,
          1,
          null,
          4,
          8,
          null,
          null,
          5,
          2,
          1,
          8,
          null,
          3,
          2,
          7,
          5,
          8,
          null,
          1,
          4,
          null,
          4,
          7,
          8,
          8,
          6,
          5,
          7,
          null,
          7,
          9,
          1,
          null,
          null,
          0,
          null,
          null,
          null,
          null,
          0,
          9,
          3,
          4,
          0,
          0,
          7,
          null,
          5,
          3,
          null,
          null,
          8,
          9,
          null,
          9,
          6,
          null,
          null,
          null,
          7,
          7,
          3,
          8,
          3,
          5,
          8,
          null,
          0,
          null,
          2,
          5,
          9,
          5,
          null,
          null,
          4,
          7,
          8,
          9,
          9,
          null,
          4,
          7,
          null,
          6,
          8,
          null,
          null,
          4,
          3,
          1
         ],
         "x0": " ",
         "xaxis": "x",
         "y": [
          2.9487454720756693e-7,
          null,
          0.000001732348656717248,
          0.000004147970682763721,
          null,
          0.000006597009355758723,
          7.283793730021848e-7,
          0.00000940727583711598,
          0.000005434070970276287,
          0.00000406630024430359,
          0.0000020538940964822566,
          0.00000822796754104548,
          0.000016665206787015195,
          0.000007528631240839055,
          0.000003405655578849161,
          0.000006717905207869404,
          0.00002204396287077788,
          5.039834326580776e-7,
          0.000004601325696634275,
          0.000006404366198882727,
          0.0000087236882629646,
          0.000001583454600655367,
          6.225771915320122e-7,
          0.00001105502350961614,
          0.0000017700996189496447,
          0.000002050417225744742,
          0.000003960792158431687,
          0.00000649239500113525,
          0.0000030610942024817544,
          0.000002270113415551792,
          0.000005303204980401199,
          0.000021515923948208886,
          0.000006128059814899323,
          2.4263548823526816e-7,
          5.951202229856312e-8,
          8.978335553372611e-7,
          3.841805350230365e-7,
          0.000015778720062988622,
          0.0000010206421817583406,
          4.318132525449994e-8,
          1.2861911074912912e-7,
          0.000004516708114428762,
          0.00000730654173164584,
          0.0000016727287279525803,
          3.7742070944788374e-7,
          0.0000012122635640364995,
          0.000004688585320676083,
          0.0000016324990507342376,
          4.060564862542113e-7,
          0.000004260077183253503,
          0.00000199775022481421,
          0.000021539077809174273,
          0.000006024610406339174,
          0.000010094167807827123,
          2.8385292964241237e-8,
          0.000006021652979725454,
          3.6416812649214344e-7,
          0.0000022727272727272728,
          0.0000023924502755646446,
          0.0000022476338283906742,
          0.000002351129692812762,
          0.0000010212958507665295,
          0.000003999728380629278,
          2.409023097597362e-7,
          0.000013565067700541392,
          8.901872581715397e-7,
          1.422485346817189e-7,
          0.000014221821177762956,
          null,
          0.0000014755136550301306,
          0.00000830319837040032,
          0.000005017703465077498,
          0.0000025410342696243387,
          0.000002943400030240411,
          0.000002733560430526644,
          2.4295313213214685e-7,
          0.000002667587054448943,
          0.000009100579834930937,
          5.540861986440971e-7,
          0.000006750695340805161,
          0.000009793759159309434,
          0.0000025276357578393637,
          0.0000062381237177400425,
          0.0000011092465740417192,
          null,
          2.9359122845627005e-7,
          1.6156230226800224e-7,
          0.000003158425395726132,
          3.06108726078275e-7,
          0.00000100695874767458,
          0.000005694131025829763,
          0.000005059449011753965,
          0.000010366878121892273,
          0.0000018995184806221179,
          0.000002260321730385645,
          0.000008186848585734048,
          0.000005258125629762483,
          0.000008069490450523798,
          null,
          0.0000071255356982160556,
          0.0000058286567800703276,
          0.000002875695007045204,
          0.000009056307495939674,
          null,
          0.00000238626429559696,
          0.000017899407166861763,
          3.63719714213075e-7,
          5.397625044980209e-7,
          0.000022478741959469006,
          0.0000017843648504708684,
          0.000002893452055226398,
          0.000004060172594790745,
          0.000004403242431911316,
          0.0000010786931934504988,
          2.2129522746776905e-7,
          0.000008338645072062375,
          0.0000037429655804214104,
          0.000004760219294829716,
          0.000015737268061587052,
          0.000001907845823937474,
          1.4236469319849885e-7,
          8.547526917360006e-8,
          0.000008243611661620771,
          0.000003552666235174254,
          1.8435557118021276e-7,
          0.0000031469313859110235,
          0.0000031948187429366252,
          0.000006045197589390758,
          8.579355644497166e-7,
          0.000003484675610204217,
          0.0000010425207090554409,
          0.000003832386030645735,
          0.0000012889269457839469,
          0.0000017330614331288142,
          0.000014322403898363905,
          0.000003800721820419061,
          0.000006619493266377539,
          0.0000017538089747145335,
          2.4062086709020924e-7,
          6.604448682809044e-7,
          0.0000017271609464592578,
          0.000004602895639802494,
          5.203334877063013e-7,
          0.000009176652469084593,
          null,
          0.000018765335027572336,
          0.000007379310401841221,
          7.910552180582737e-7,
          7.941689484813346e-8,
          5.304262540258562e-7,
          0.000005768222338751966,
          0.0000018577782049189818,
          0.000003326713972151368,
          0.00000835661098039821,
          0.00001576906693094785,
          9.332344757070048e-7,
          0.000011908089674064962,
          6.157465047177752e-7,
          0.0000025851940023883276,
          8.06389978683135e-7,
          0.0000013204338062715017,
          0.0000017129267326432605,
          0.0000013063049255241138,
          0.000008749615539014821,
          0.000005000955797824902,
          null,
          0.000034420255151996407,
          0.000004702562397138088,
          0.000004106539075415655,
          0.00001167474279566415,
          1.0221987087260339e-7,
          0.000002002184200946487,
          0.000005126917362462594,
          0.000002861254454900109,
          null,
          0.000009884402747528899,
          0.0000022982611090534392,
          0.0000011348735188231646,
          6.245327832398112e-7,
          0.000017881907578622414,
          7.274520366409822e-7,
          0.000005961937495165679,
          0.000005828161365399534,
          1.3191224286812068e-7,
          0.000007914637487417327,
          0.00001630074761048547,
          0.000006628361227051895,
          0.000006898136738573106,
          4.3837095890992764e-7,
          4.139872939642664e-8,
          0.00000759050912639272,
          0.000012968444314577692,
          1.4419933870317948e-7,
          0.000005771323005252774,
          9.728594682140238e-7,
          5.205830301361002e-7,
          0.0000031479008099654895,
          null,
          0.000004142270942601576,
          0.000004330765027046435,
          0.0000015636101218074527,
          0.000011921132203886457,
          9.977946197310272e-7,
          2.0290772781836546e-7,
          0.000003966170305712219,
          5.024368982050165e-7,
          2.7439888252049295e-7,
          0.0000012931813211368586,
          0.000026801231070234937,
          0.0000025137768749622897,
          0.0000051029169379324814,
          0.00001207768019901495,
          0.000008743616918778302,
          6.432049986217036e-7,
          1.3563641443897928e-7,
          0.000005212393416763427,
          0.000022999348371124745,
          0.000005715984869928191,
          0.000016187922207462182,
          null,
          0.0000019173958665252037,
          0.0000035890759503867814,
          5.919806799032649e-7,
          0.0000034424058860473528,
          0.00000288916337267857,
          0.0000021959459459459458,
          null,
          3.401697029156447e-7,
          4.155664043380378e-7,
          7.836068516536895e-7
         ],
         "y0": " ",
         "yaxis": "y"
        },
        {
         "boxpoints": "all",
         "jitter": 0.3,
         "marker": {
          "color": "red"
         },
         "name": "Argentina",
         "pointpos": -1.8,
         "showlegend": false,
         "type": "box",
         "x": [
          9
         ],
         "y": [
          0.00000406630024430359
         ]
        }
       ],
       "layout": {
        "boxmode": "group",
        "legend": {
         "tracegroupgap": 0
        },
        "template": {
         "data": {
          "bar": [
           {
            "error_x": {
             "color": "rgb(36,36,36)"
            },
            "error_y": {
             "color": "rgb(36,36,36)"
            },
            "marker": {
             "line": {
              "color": "white",
              "width": 0.5
             },
             "pattern": {
              "fillmode": "overlay",
              "size": 10,
              "solidity": 0.2
             }
            },
            "type": "bar"
           }
          ],
          "barpolar": [
           {
            "marker": {
             "line": {
              "color": "white",
              "width": 0.5
             },
             "pattern": {
              "fillmode": "overlay",
              "size": 10,
              "solidity": 0.2
             }
            },
            "type": "barpolar"
           }
          ],
          "carpet": [
           {
            "aaxis": {
             "endlinecolor": "rgb(36,36,36)",
             "gridcolor": "white",
             "linecolor": "white",
             "minorgridcolor": "white",
             "startlinecolor": "rgb(36,36,36)"
            },
            "baxis": {
             "endlinecolor": "rgb(36,36,36)",
             "gridcolor": "white",
             "linecolor": "white",
             "minorgridcolor": "white",
             "startlinecolor": "rgb(36,36,36)"
            },
            "type": "carpet"
           }
          ],
          "choropleth": [
           {
            "colorbar": {
             "outlinewidth": 1,
             "tickcolor": "rgb(36,36,36)",
             "ticks": "outside"
            },
            "type": "choropleth"
           }
          ],
          "contour": [
           {
            "colorbar": {
             "outlinewidth": 1,
             "tickcolor": "rgb(36,36,36)",
             "ticks": "outside"
            },
            "colorscale": [
             [
              0,
              "#440154"
             ],
             [
              0.1111111111111111,
              "#482878"
             ],
             [
              0.2222222222222222,
              "#3e4989"
             ],
             [
              0.3333333333333333,
              "#31688e"
             ],
             [
              0.4444444444444444,
              "#26828e"
             ],
             [
              0.5555555555555556,
              "#1f9e89"
             ],
             [
              0.6666666666666666,
              "#35b779"
             ],
             [
              0.7777777777777778,
              "#6ece58"
             ],
             [
              0.8888888888888888,
              "#b5de2b"
             ],
             [
              1,
              "#fde725"
             ]
            ],
            "type": "contour"
           }
          ],
          "contourcarpet": [
           {
            "colorbar": {
             "outlinewidth": 1,
             "tickcolor": "rgb(36,36,36)",
             "ticks": "outside"
            },
            "type": "contourcarpet"
           }
          ],
          "heatmap": [
           {
            "colorbar": {
             "outlinewidth": 1,
             "tickcolor": "rgb(36,36,36)",
             "ticks": "outside"
            },
            "colorscale": [
             [
              0,
              "#440154"
             ],
             [
              0.1111111111111111,
              "#482878"
             ],
             [
              0.2222222222222222,
              "#3e4989"
             ],
             [
              0.3333333333333333,
              "#31688e"
             ],
             [
              0.4444444444444444,
              "#26828e"
             ],
             [
              0.5555555555555556,
              "#1f9e89"
             ],
             [
              0.6666666666666666,
              "#35b779"
             ],
             [
              0.7777777777777778,
              "#6ece58"
             ],
             [
              0.8888888888888888,
              "#b5de2b"
             ],
             [
              1,
              "#fde725"
             ]
            ],
            "type": "heatmap"
           }
          ],
          "heatmapgl": [
           {
            "colorbar": {
             "outlinewidth": 1,
             "tickcolor": "rgb(36,36,36)",
             "ticks": "outside"
            },
            "colorscale": [
             [
              0,
              "#440154"
             ],
             [
              0.1111111111111111,
              "#482878"
             ],
             [
              0.2222222222222222,
              "#3e4989"
             ],
             [
              0.3333333333333333,
              "#31688e"
             ],
             [
              0.4444444444444444,
              "#26828e"
             ],
             [
              0.5555555555555556,
              "#1f9e89"
             ],
             [
              0.6666666666666666,
              "#35b779"
             ],
             [
              0.7777777777777778,
              "#6ece58"
             ],
             [
              0.8888888888888888,
              "#b5de2b"
             ],
             [
              1,
              "#fde725"
             ]
            ],
            "type": "heatmapgl"
           }
          ],
          "histogram": [
           {
            "marker": {
             "line": {
              "color": "white",
              "width": 0.6
             }
            },
            "type": "histogram"
           }
          ],
          "histogram2d": [
           {
            "colorbar": {
             "outlinewidth": 1,
             "tickcolor": "rgb(36,36,36)",
             "ticks": "outside"
            },
            "colorscale": [
             [
              0,
              "#440154"
             ],
             [
              0.1111111111111111,
              "#482878"
             ],
             [
              0.2222222222222222,
              "#3e4989"
             ],
             [
              0.3333333333333333,
              "#31688e"
             ],
             [
              0.4444444444444444,
              "#26828e"
             ],
             [
              0.5555555555555556,
              "#1f9e89"
             ],
             [
              0.6666666666666666,
              "#35b779"
             ],
             [
              0.7777777777777778,
              "#6ece58"
             ],
             [
              0.8888888888888888,
              "#b5de2b"
             ],
             [
              1,
              "#fde725"
             ]
            ],
            "type": "histogram2d"
           }
          ],
          "histogram2dcontour": [
           {
            "colorbar": {
             "outlinewidth": 1,
             "tickcolor": "rgb(36,36,36)",
             "ticks": "outside"
            },
            "colorscale": [
             [
              0,
              "#440154"
             ],
             [
              0.1111111111111111,
              "#482878"
             ],
             [
              0.2222222222222222,
              "#3e4989"
             ],
             [
              0.3333333333333333,
              "#31688e"
             ],
             [
              0.4444444444444444,
              "#26828e"
             ],
             [
              0.5555555555555556,
              "#1f9e89"
             ],
             [
              0.6666666666666666,
              "#35b779"
             ],
             [
              0.7777777777777778,
              "#6ece58"
             ],
             [
              0.8888888888888888,
              "#b5de2b"
             ],
             [
              1,
              "#fde725"
             ]
            ],
            "type": "histogram2dcontour"
           }
          ],
          "mesh3d": [
           {
            "colorbar": {
             "outlinewidth": 1,
             "tickcolor": "rgb(36,36,36)",
             "ticks": "outside"
            },
            "type": "mesh3d"
           }
          ],
          "parcoords": [
           {
            "line": {
             "colorbar": {
              "outlinewidth": 1,
              "tickcolor": "rgb(36,36,36)",
              "ticks": "outside"
             }
            },
            "type": "parcoords"
           }
          ],
          "pie": [
           {
            "automargin": true,
            "type": "pie"
           }
          ],
          "scatter": [
           {
            "fillpattern": {
             "fillmode": "overlay",
             "size": 10,
             "solidity": 0.2
            },
            "type": "scatter"
           }
          ],
          "scatter3d": [
           {
            "line": {
             "colorbar": {
              "outlinewidth": 1,
              "tickcolor": "rgb(36,36,36)",
              "ticks": "outside"
             }
            },
            "marker": {
             "colorbar": {
              "outlinewidth": 1,
              "tickcolor": "rgb(36,36,36)",
              "ticks": "outside"
             }
            },
            "type": "scatter3d"
           }
          ],
          "scattercarpet": [
           {
            "marker": {
             "colorbar": {
              "outlinewidth": 1,
              "tickcolor": "rgb(36,36,36)",
              "ticks": "outside"
             }
            },
            "type": "scattercarpet"
           }
          ],
          "scattergeo": [
           {
            "marker": {
             "colorbar": {
              "outlinewidth": 1,
              "tickcolor": "rgb(36,36,36)",
              "ticks": "outside"
             }
            },
            "type": "scattergeo"
           }
          ],
          "scattergl": [
           {
            "marker": {
             "colorbar": {
              "outlinewidth": 1,
              "tickcolor": "rgb(36,36,36)",
              "ticks": "outside"
             }
            },
            "type": "scattergl"
           }
          ],
          "scattermapbox": [
           {
            "marker": {
             "colorbar": {
              "outlinewidth": 1,
              "tickcolor": "rgb(36,36,36)",
              "ticks": "outside"
             }
            },
            "type": "scattermapbox"
           }
          ],
          "scatterpolar": [
           {
            "marker": {
             "colorbar": {
              "outlinewidth": 1,
              "tickcolor": "rgb(36,36,36)",
              "ticks": "outside"
             }
            },
            "type": "scatterpolar"
           }
          ],
          "scatterpolargl": [
           {
            "marker": {
             "colorbar": {
              "outlinewidth": 1,
              "tickcolor": "rgb(36,36,36)",
              "ticks": "outside"
             }
            },
            "type": "scatterpolargl"
           }
          ],
          "scatterternary": [
           {
            "marker": {
             "colorbar": {
              "outlinewidth": 1,
              "tickcolor": "rgb(36,36,36)",
              "ticks": "outside"
             }
            },
            "type": "scatterternary"
           }
          ],
          "surface": [
           {
            "colorbar": {
             "outlinewidth": 1,
             "tickcolor": "rgb(36,36,36)",
             "ticks": "outside"
            },
            "colorscale": [
             [
              0,
              "#440154"
             ],
             [
              0.1111111111111111,
              "#482878"
             ],
             [
              0.2222222222222222,
              "#3e4989"
             ],
             [
              0.3333333333333333,
              "#31688e"
             ],
             [
              0.4444444444444444,
              "#26828e"
             ],
             [
              0.5555555555555556,
              "#1f9e89"
             ],
             [
              0.6666666666666666,
              "#35b779"
             ],
             [
              0.7777777777777778,
              "#6ece58"
             ],
             [
              0.8888888888888888,
              "#b5de2b"
             ],
             [
              1,
              "#fde725"
             ]
            ],
            "type": "surface"
           }
          ],
          "table": [
           {
            "cells": {
             "fill": {
              "color": "rgb(237,237,237)"
             },
             "line": {
              "color": "white"
             }
            },
            "header": {
             "fill": {
              "color": "rgb(217,217,217)"
             },
             "line": {
              "color": "white"
             }
            },
            "type": "table"
           }
          ]
         },
         "layout": {
          "annotationdefaults": {
           "arrowhead": 0,
           "arrowwidth": 1
          },
          "autotypenumbers": "strict",
          "coloraxis": {
           "colorbar": {
            "outlinewidth": 1,
            "tickcolor": "rgb(36,36,36)",
            "ticks": "outside"
           }
          },
          "colorscale": {
           "diverging": [
            [
             0,
             "rgb(103,0,31)"
            ],
            [
             0.1,
             "rgb(178,24,43)"
            ],
            [
             0.2,
             "rgb(214,96,77)"
            ],
            [
             0.3,
             "rgb(244,165,130)"
            ],
            [
             0.4,
             "rgb(253,219,199)"
            ],
            [
             0.5,
             "rgb(247,247,247)"
            ],
            [
             0.6,
             "rgb(209,229,240)"
            ],
            [
             0.7,
             "rgb(146,197,222)"
            ],
            [
             0.8,
             "rgb(67,147,195)"
            ],
            [
             0.9,
             "rgb(33,102,172)"
            ],
            [
             1,
             "rgb(5,48,97)"
            ]
           ],
           "sequential": [
            [
             0,
             "#440154"
            ],
            [
             0.1111111111111111,
             "#482878"
            ],
            [
             0.2222222222222222,
             "#3e4989"
            ],
            [
             0.3333333333333333,
             "#31688e"
            ],
            [
             0.4444444444444444,
             "#26828e"
            ],
            [
             0.5555555555555556,
             "#1f9e89"
            ],
            [
             0.6666666666666666,
             "#35b779"
            ],
            [
             0.7777777777777778,
             "#6ece58"
            ],
            [
             0.8888888888888888,
             "#b5de2b"
            ],
            [
             1,
             "#fde725"
            ]
           ],
           "sequentialminus": [
            [
             0,
             "#440154"
            ],
            [
             0.1111111111111111,
             "#482878"
            ],
            [
             0.2222222222222222,
             "#3e4989"
            ],
            [
             0.3333333333333333,
             "#31688e"
            ],
            [
             0.4444444444444444,
             "#26828e"
            ],
            [
             0.5555555555555556,
             "#1f9e89"
            ],
            [
             0.6666666666666666,
             "#35b779"
            ],
            [
             0.7777777777777778,
             "#6ece58"
            ],
            [
             0.8888888888888888,
             "#b5de2b"
            ],
            [
             1,
             "#fde725"
            ]
           ]
          },
          "colorway": [
           "#1F77B4",
           "#FF7F0E",
           "#2CA02C",
           "#D62728",
           "#9467BD",
           "#8C564B",
           "#E377C2",
           "#7F7F7F",
           "#BCBD22",
           "#17BECF"
          ],
          "font": {
           "color": "rgb(36,36,36)"
          },
          "geo": {
           "bgcolor": "white",
           "lakecolor": "white",
           "landcolor": "white",
           "showlakes": true,
           "showland": true,
           "subunitcolor": "white"
          },
          "hoverlabel": {
           "align": "left"
          },
          "hovermode": "closest",
          "mapbox": {
           "style": "light"
          },
          "paper_bgcolor": "white",
          "plot_bgcolor": "white",
          "polar": {
           "angularaxis": {
            "gridcolor": "rgb(232,232,232)",
            "linecolor": "rgb(36,36,36)",
            "showgrid": false,
            "showline": true,
            "ticks": "outside"
           },
           "bgcolor": "white",
           "radialaxis": {
            "gridcolor": "rgb(232,232,232)",
            "linecolor": "rgb(36,36,36)",
            "showgrid": false,
            "showline": true,
            "ticks": "outside"
           }
          },
          "scene": {
           "xaxis": {
            "backgroundcolor": "white",
            "gridcolor": "rgb(232,232,232)",
            "gridwidth": 2,
            "linecolor": "rgb(36,36,36)",
            "showbackground": true,
            "showgrid": false,
            "showline": true,
            "ticks": "outside",
            "zeroline": false,
            "zerolinecolor": "rgb(36,36,36)"
           },
           "yaxis": {
            "backgroundcolor": "white",
            "gridcolor": "rgb(232,232,232)",
            "gridwidth": 2,
            "linecolor": "rgb(36,36,36)",
            "showbackground": true,
            "showgrid": false,
            "showline": true,
            "ticks": "outside",
            "zeroline": false,
            "zerolinecolor": "rgb(36,36,36)"
           },
           "zaxis": {
            "backgroundcolor": "white",
            "gridcolor": "rgb(232,232,232)",
            "gridwidth": 2,
            "linecolor": "rgb(36,36,36)",
            "showbackground": true,
            "showgrid": false,
            "showline": true,
            "ticks": "outside",
            "zeroline": false,
            "zerolinecolor": "rgb(36,36,36)"
           }
          },
          "shapedefaults": {
           "fillcolor": "black",
           "line": {
            "width": 0
           },
           "opacity": 0.3
          },
          "ternary": {
           "aaxis": {
            "gridcolor": "rgb(232,232,232)",
            "linecolor": "rgb(36,36,36)",
            "showgrid": false,
            "showline": true,
            "ticks": "outside"
           },
           "baxis": {
            "gridcolor": "rgb(232,232,232)",
            "linecolor": "rgb(36,36,36)",
            "showgrid": false,
            "showline": true,
            "ticks": "outside"
           },
           "bgcolor": "white",
           "caxis": {
            "gridcolor": "rgb(232,232,232)",
            "linecolor": "rgb(36,36,36)",
            "showgrid": false,
            "showline": true,
            "ticks": "outside"
           }
          },
          "title": {
           "x": 0.05
          },
          "xaxis": {
           "automargin": true,
           "gridcolor": "rgb(232,232,232)",
           "linecolor": "rgb(36,36,36)",
           "showgrid": false,
           "showline": true,
           "ticks": "outside",
           "title": {
            "standoff": 15
           },
           "zeroline": false,
           "zerolinecolor": "rgb(36,36,36)"
          },
          "yaxis": {
           "automargin": true,
           "gridcolor": "rgb(232,232,232)",
           "linecolor": "rgb(36,36,36)",
           "showgrid": false,
           "showline": true,
           "ticks": "outside",
           "title": {
            "standoff": 15
           },
           "zeroline": false,
           "zerolinecolor": "rgb(36,36,36)"
          }
         }
        },
        "title": {
         "text": "CO2 per capita según deciles de GDP"
        },
        "xaxis": {
         "anchor": "y",
         "domain": [
          0,
          1
         ],
         "title": {
          "text": "Deciles de GDP"
         }
        },
        "yaxis": {
         "anchor": "x",
         "domain": [
          0,
          1
         ],
         "title": {
          "text": "CO2 per capita"
         }
        }
       }
      }
     },
     "metadata": {},
     "output_type": "display_data"
    }
   ],
   "source": [
    "# deciles según la variable GDP\n",
    "subset_0515['gdp_deciles'] = pd.qcut(subset_0515['gdp'], 10, labels=False)\n",
    "\n",
    "# gráfico de cajas y bigotes con Plotly\n",
    "fig = px.box(subset_0515, x='gdp_deciles', y='co2_pc', \n",
    "             title='CO2 per capita según deciles de GDP',\n",
    "             labels={'gdp_deciles': 'Deciles de GDP', 'co2_pc': 'CO2 per capita'})\n",
    "\n",
    "fig.update_layout(template='simple_white')\n",
    "\n",
    "# trazo adicional para Argentina\n",
    "fig.add_trace(go.Box(\n",
    "    x=[9],  # Decil correspondiente a Argentina\n",
    "    y=subset_0515[subset_0515['country'] == 'Argentina']['co2_pc'],  # Emisiones de CO2 per capita de Argentina\n",
    "    name='Argentina',\n",
    "    marker=dict(color='red'),\n",
    "    boxpoints='all',\n",
    "    jitter=0.3,\n",
    "    pointpos=-1.8,\n",
    "    showlegend=False\n",
    "))\n",
    "\n",
    "fig.show()\n"
   ]
  },
  {
   "cell_type": "code",
   "execution_count": 108,
   "id": "06fe2c47",
   "metadata": {},
   "outputs": [],
   "source": [
    "#Sub dataset para argentina\n",
    "grafico3=graficos_df.copy()\n",
    "grafico3=grafico3[grafico3['country_2']==\"ARG\"]\n",
    "grafico3 = grafico3.loc['1920-01-01':]\n",
    "grafico3=grafico3.reset_index()"
   ]
  },
  {
   "attachments": {},
   "cell_type": "markdown",
   "id": "7819ae09",
   "metadata": {},
   "source": [
    "**Como evolucionaron en el tiempo las emisiones de co2 de Argentina?**\n",
    "\n",
    "La variable co2 nos brinda este dato, expresada en millones de ton de CO2. Como vemos, las emisiones de co2 no pararon de crecer desde el incio de la serie, sin embargo vemos un maximo que se alcanza antes de la pandemia. El dato pos pandemia aun no logra sobrepasar las emisiones pre pandemia."
   ]
  },
  {
   "cell_type": "code",
   "execution_count": 109,
   "id": "4e092057",
   "metadata": {},
   "outputs": [
    {
     "data": {
      "application/vnd.plotly.v1+json": {
       "config": {
        "plotlyServerURL": "https://plot.ly"
       },
       "data": [
        {
         "hovertemplate": "year=%{x}<br>co2=%{y}<extra></extra>",
         "legendgroup": "",
         "line": {
          "color": "#30123b",
          "dash": "solid"
         },
         "marker": {
          "symbol": "circle"
         },
         "mode": "lines",
         "name": "",
         "orientation": "v",
         "showlegend": false,
         "type": "scatter",
         "x": [
          "1920-01-01T00:00:00",
          "1921-01-01T00:00:00",
          "1922-01-01T00:00:00",
          "1923-01-01T00:00:00",
          "1924-01-01T00:00:00",
          "1925-01-01T00:00:00",
          "1926-01-01T00:00:00",
          "1927-01-01T00:00:00",
          "1928-01-01T00:00:00",
          "1929-01-01T00:00:00",
          "1930-01-01T00:00:00",
          "1931-01-01T00:00:00",
          "1932-01-01T00:00:00",
          "1933-01-01T00:00:00",
          "1934-01-01T00:00:00",
          "1935-01-01T00:00:00",
          "1936-01-01T00:00:00",
          "1937-01-01T00:00:00",
          "1938-01-01T00:00:00",
          "1939-01-01T00:00:00",
          "1940-01-01T00:00:00",
          "1941-01-01T00:00:00",
          "1942-01-01T00:00:00",
          "1943-01-01T00:00:00",
          "1944-01-01T00:00:00",
          "1945-01-01T00:00:00",
          "1946-01-01T00:00:00",
          "1947-01-01T00:00:00",
          "1948-01-01T00:00:00",
          "1949-01-01T00:00:00",
          "1950-01-01T00:00:00",
          "1951-01-01T00:00:00",
          "1952-01-01T00:00:00",
          "1953-01-01T00:00:00",
          "1954-01-01T00:00:00",
          "1955-01-01T00:00:00",
          "1956-01-01T00:00:00",
          "1957-01-01T00:00:00",
          "1958-01-01T00:00:00",
          "1959-01-01T00:00:00",
          "1960-01-01T00:00:00",
          "1961-01-01T00:00:00",
          "1962-01-01T00:00:00",
          "1963-01-01T00:00:00",
          "1964-01-01T00:00:00",
          "1965-01-01T00:00:00",
          "1966-01-01T00:00:00",
          "1967-01-01T00:00:00",
          "1968-01-01T00:00:00",
          "1969-01-01T00:00:00",
          "1970-01-01T00:00:00",
          "1971-01-01T00:00:00",
          "1972-01-01T00:00:00",
          "1973-01-01T00:00:00",
          "1974-01-01T00:00:00",
          "1975-01-01T00:00:00",
          "1976-01-01T00:00:00",
          "1977-01-01T00:00:00",
          "1978-01-01T00:00:00",
          "1979-01-01T00:00:00",
          "1980-01-01T00:00:00",
          "1981-01-01T00:00:00",
          "1982-01-01T00:00:00",
          "1983-01-01T00:00:00",
          "1984-01-01T00:00:00",
          "1985-01-01T00:00:00",
          "1986-01-01T00:00:00",
          "1987-01-01T00:00:00",
          "1988-01-01T00:00:00",
          "1989-01-01T00:00:00",
          "1990-01-01T00:00:00",
          "1991-01-01T00:00:00",
          "1992-01-01T00:00:00",
          "1993-01-01T00:00:00",
          "1994-01-01T00:00:00",
          "1995-01-01T00:00:00",
          "1996-01-01T00:00:00",
          "1997-01-01T00:00:00",
          "1998-01-01T00:00:00",
          "1999-01-01T00:00:00",
          "2000-01-01T00:00:00",
          "2001-01-01T00:00:00",
          "2002-01-01T00:00:00",
          "2003-01-01T00:00:00",
          "2004-01-01T00:00:00",
          "2005-01-01T00:00:00",
          "2006-01-01T00:00:00",
          "2007-01-01T00:00:00",
          "2008-01-01T00:00:00",
          "2009-01-01T00:00:00",
          "2010-01-01T00:00:00",
          "2011-01-01T00:00:00",
          "2012-01-01T00:00:00",
          "2013-01-01T00:00:00",
          "2014-01-01T00:00:00",
          "2015-01-01T00:00:00",
          "2016-01-01T00:00:00",
          "2017-01-01T00:00:00",
          "2018-01-01T00:00:00",
          "2019-01-01T00:00:00",
          "2020-01-01T00:00:00",
          "2021-01-01T00:00:00"
         ],
         "xaxis": "x",
         "y": [
          5.892,
          5.54,
          7.299,
          8.446,
          10.959,
          11.237,
          11.259,
          13.374,
          12.739,
          13.13,
          12.767,
          12.844,
          13.1,
          13.232,
          14.24,
          13.997,
          15.096,
          16.711,
          16.347,
          17.377,
          15.864,
          13.94,
          13.479,
          14.077,
          13.952,
          13.666,
          13.702,
          14.515,
          17.392,
          15.365,
          29.921,
          34.963,
          36.095,
          35.135,
          36.75,
          39.56,
          44.297,
          47.608,
          44.193,
          48.949,
          48.764,
          51.127,
          53.64,
          50.033,
          55.67,
          58.805,
          63.073,
          65.476,
          69.009,
          77.249,
          82.648,
          88.847,
          90.067,
          93.976,
          95.481,
          94.846,
          99.7,
          100.706,
          102.556,
          110.617,
          108.657,
          101.969,
          103.352,
          105.143,
          106.453,
          100.532,
          104.151,
          114.878,
          121.406,
          117.021,
          112.079,
          117.506,
          121.231,
          117.777,
          122.229,
          127.765,
          134.762,
          137.641,
          139.452,
          147.285,
          142.358,
          134.004,
          124.392,
          134.631,
          157.043,
          161.434,
          174.609,
          174.246,
          188.106,
          178.949,
          186.733,
          190.274,
          191.292,
          189.538,
          188.397,
          191.744,
          189.92,
          186.899,
          180.599,
          178.512,
          169.263,
          186.448
         ],
         "yaxis": "y"
        }
       ],
       "layout": {
        "annotations": [
         {
          "align": "left",
          "font": {
           "color": "black",
           "family": "Arial",
           "size": 12
          },
          "showarrow": false,
          "text": "<i style='font-size:12px;'> Emisiones de dióxido de carbono (CO₂) de combustibles fósiles e industrias. <br> No se incluye el cambio de uso de la tierra. .</i>",
          "x": 0,
          "xanchor": "left",
          "xref": "paper",
          "y": 1.05,
          "yanchor": "bottom",
          "yref": "paper"
         }
        ],
        "legend": {
         "tracegroupgap": 0
        },
        "template": {
         "data": {
          "bar": [
           {
            "error_x": {
             "color": "rgb(36,36,36)"
            },
            "error_y": {
             "color": "rgb(36,36,36)"
            },
            "marker": {
             "line": {
              "color": "white",
              "width": 0.5
             },
             "pattern": {
              "fillmode": "overlay",
              "size": 10,
              "solidity": 0.2
             }
            },
            "type": "bar"
           }
          ],
          "barpolar": [
           {
            "marker": {
             "line": {
              "color": "white",
              "width": 0.5
             },
             "pattern": {
              "fillmode": "overlay",
              "size": 10,
              "solidity": 0.2
             }
            },
            "type": "barpolar"
           }
          ],
          "carpet": [
           {
            "aaxis": {
             "endlinecolor": "rgb(36,36,36)",
             "gridcolor": "white",
             "linecolor": "white",
             "minorgridcolor": "white",
             "startlinecolor": "rgb(36,36,36)"
            },
            "baxis": {
             "endlinecolor": "rgb(36,36,36)",
             "gridcolor": "white",
             "linecolor": "white",
             "minorgridcolor": "white",
             "startlinecolor": "rgb(36,36,36)"
            },
            "type": "carpet"
           }
          ],
          "choropleth": [
           {
            "colorbar": {
             "outlinewidth": 1,
             "tickcolor": "rgb(36,36,36)",
             "ticks": "outside"
            },
            "type": "choropleth"
           }
          ],
          "contour": [
           {
            "colorbar": {
             "outlinewidth": 1,
             "tickcolor": "rgb(36,36,36)",
             "ticks": "outside"
            },
            "colorscale": [
             [
              0,
              "#440154"
             ],
             [
              0.1111111111111111,
              "#482878"
             ],
             [
              0.2222222222222222,
              "#3e4989"
             ],
             [
              0.3333333333333333,
              "#31688e"
             ],
             [
              0.4444444444444444,
              "#26828e"
             ],
             [
              0.5555555555555556,
              "#1f9e89"
             ],
             [
              0.6666666666666666,
              "#35b779"
             ],
             [
              0.7777777777777778,
              "#6ece58"
             ],
             [
              0.8888888888888888,
              "#b5de2b"
             ],
             [
              1,
              "#fde725"
             ]
            ],
            "type": "contour"
           }
          ],
          "contourcarpet": [
           {
            "colorbar": {
             "outlinewidth": 1,
             "tickcolor": "rgb(36,36,36)",
             "ticks": "outside"
            },
            "type": "contourcarpet"
           }
          ],
          "heatmap": [
           {
            "colorbar": {
             "outlinewidth": 1,
             "tickcolor": "rgb(36,36,36)",
             "ticks": "outside"
            },
            "colorscale": [
             [
              0,
              "#440154"
             ],
             [
              0.1111111111111111,
              "#482878"
             ],
             [
              0.2222222222222222,
              "#3e4989"
             ],
             [
              0.3333333333333333,
              "#31688e"
             ],
             [
              0.4444444444444444,
              "#26828e"
             ],
             [
              0.5555555555555556,
              "#1f9e89"
             ],
             [
              0.6666666666666666,
              "#35b779"
             ],
             [
              0.7777777777777778,
              "#6ece58"
             ],
             [
              0.8888888888888888,
              "#b5de2b"
             ],
             [
              1,
              "#fde725"
             ]
            ],
            "type": "heatmap"
           }
          ],
          "heatmapgl": [
           {
            "colorbar": {
             "outlinewidth": 1,
             "tickcolor": "rgb(36,36,36)",
             "ticks": "outside"
            },
            "colorscale": [
             [
              0,
              "#440154"
             ],
             [
              0.1111111111111111,
              "#482878"
             ],
             [
              0.2222222222222222,
              "#3e4989"
             ],
             [
              0.3333333333333333,
              "#31688e"
             ],
             [
              0.4444444444444444,
              "#26828e"
             ],
             [
              0.5555555555555556,
              "#1f9e89"
             ],
             [
              0.6666666666666666,
              "#35b779"
             ],
             [
              0.7777777777777778,
              "#6ece58"
             ],
             [
              0.8888888888888888,
              "#b5de2b"
             ],
             [
              1,
              "#fde725"
             ]
            ],
            "type": "heatmapgl"
           }
          ],
          "histogram": [
           {
            "marker": {
             "line": {
              "color": "white",
              "width": 0.6
             }
            },
            "type": "histogram"
           }
          ],
          "histogram2d": [
           {
            "colorbar": {
             "outlinewidth": 1,
             "tickcolor": "rgb(36,36,36)",
             "ticks": "outside"
            },
            "colorscale": [
             [
              0,
              "#440154"
             ],
             [
              0.1111111111111111,
              "#482878"
             ],
             [
              0.2222222222222222,
              "#3e4989"
             ],
             [
              0.3333333333333333,
              "#31688e"
             ],
             [
              0.4444444444444444,
              "#26828e"
             ],
             [
              0.5555555555555556,
              "#1f9e89"
             ],
             [
              0.6666666666666666,
              "#35b779"
             ],
             [
              0.7777777777777778,
              "#6ece58"
             ],
             [
              0.8888888888888888,
              "#b5de2b"
             ],
             [
              1,
              "#fde725"
             ]
            ],
            "type": "histogram2d"
           }
          ],
          "histogram2dcontour": [
           {
            "colorbar": {
             "outlinewidth": 1,
             "tickcolor": "rgb(36,36,36)",
             "ticks": "outside"
            },
            "colorscale": [
             [
              0,
              "#440154"
             ],
             [
              0.1111111111111111,
              "#482878"
             ],
             [
              0.2222222222222222,
              "#3e4989"
             ],
             [
              0.3333333333333333,
              "#31688e"
             ],
             [
              0.4444444444444444,
              "#26828e"
             ],
             [
              0.5555555555555556,
              "#1f9e89"
             ],
             [
              0.6666666666666666,
              "#35b779"
             ],
             [
              0.7777777777777778,
              "#6ece58"
             ],
             [
              0.8888888888888888,
              "#b5de2b"
             ],
             [
              1,
              "#fde725"
             ]
            ],
            "type": "histogram2dcontour"
           }
          ],
          "mesh3d": [
           {
            "colorbar": {
             "outlinewidth": 1,
             "tickcolor": "rgb(36,36,36)",
             "ticks": "outside"
            },
            "type": "mesh3d"
           }
          ],
          "parcoords": [
           {
            "line": {
             "colorbar": {
              "outlinewidth": 1,
              "tickcolor": "rgb(36,36,36)",
              "ticks": "outside"
             }
            },
            "type": "parcoords"
           }
          ],
          "pie": [
           {
            "automargin": true,
            "type": "pie"
           }
          ],
          "scatter": [
           {
            "fillpattern": {
             "fillmode": "overlay",
             "size": 10,
             "solidity": 0.2
            },
            "type": "scatter"
           }
          ],
          "scatter3d": [
           {
            "line": {
             "colorbar": {
              "outlinewidth": 1,
              "tickcolor": "rgb(36,36,36)",
              "ticks": "outside"
             }
            },
            "marker": {
             "colorbar": {
              "outlinewidth": 1,
              "tickcolor": "rgb(36,36,36)",
              "ticks": "outside"
             }
            },
            "type": "scatter3d"
           }
          ],
          "scattercarpet": [
           {
            "marker": {
             "colorbar": {
              "outlinewidth": 1,
              "tickcolor": "rgb(36,36,36)",
              "ticks": "outside"
             }
            },
            "type": "scattercarpet"
           }
          ],
          "scattergeo": [
           {
            "marker": {
             "colorbar": {
              "outlinewidth": 1,
              "tickcolor": "rgb(36,36,36)",
              "ticks": "outside"
             }
            },
            "type": "scattergeo"
           }
          ],
          "scattergl": [
           {
            "marker": {
             "colorbar": {
              "outlinewidth": 1,
              "tickcolor": "rgb(36,36,36)",
              "ticks": "outside"
             }
            },
            "type": "scattergl"
           }
          ],
          "scattermapbox": [
           {
            "marker": {
             "colorbar": {
              "outlinewidth": 1,
              "tickcolor": "rgb(36,36,36)",
              "ticks": "outside"
             }
            },
            "type": "scattermapbox"
           }
          ],
          "scatterpolar": [
           {
            "marker": {
             "colorbar": {
              "outlinewidth": 1,
              "tickcolor": "rgb(36,36,36)",
              "ticks": "outside"
             }
            },
            "type": "scatterpolar"
           }
          ],
          "scatterpolargl": [
           {
            "marker": {
             "colorbar": {
              "outlinewidth": 1,
              "tickcolor": "rgb(36,36,36)",
              "ticks": "outside"
             }
            },
            "type": "scatterpolargl"
           }
          ],
          "scatterternary": [
           {
            "marker": {
             "colorbar": {
              "outlinewidth": 1,
              "tickcolor": "rgb(36,36,36)",
              "ticks": "outside"
             }
            },
            "type": "scatterternary"
           }
          ],
          "surface": [
           {
            "colorbar": {
             "outlinewidth": 1,
             "tickcolor": "rgb(36,36,36)",
             "ticks": "outside"
            },
            "colorscale": [
             [
              0,
              "#440154"
             ],
             [
              0.1111111111111111,
              "#482878"
             ],
             [
              0.2222222222222222,
              "#3e4989"
             ],
             [
              0.3333333333333333,
              "#31688e"
             ],
             [
              0.4444444444444444,
              "#26828e"
             ],
             [
              0.5555555555555556,
              "#1f9e89"
             ],
             [
              0.6666666666666666,
              "#35b779"
             ],
             [
              0.7777777777777778,
              "#6ece58"
             ],
             [
              0.8888888888888888,
              "#b5de2b"
             ],
             [
              1,
              "#fde725"
             ]
            ],
            "type": "surface"
           }
          ],
          "table": [
           {
            "cells": {
             "fill": {
              "color": "rgb(237,237,237)"
             },
             "line": {
              "color": "white"
             }
            },
            "header": {
             "fill": {
              "color": "rgb(217,217,217)"
             },
             "line": {
              "color": "white"
             }
            },
            "type": "table"
           }
          ]
         },
         "layout": {
          "annotationdefaults": {
           "arrowhead": 0,
           "arrowwidth": 1
          },
          "autotypenumbers": "strict",
          "coloraxis": {
           "colorbar": {
            "outlinewidth": 1,
            "tickcolor": "rgb(36,36,36)",
            "ticks": "outside"
           }
          },
          "colorscale": {
           "diverging": [
            [
             0,
             "rgb(103,0,31)"
            ],
            [
             0.1,
             "rgb(178,24,43)"
            ],
            [
             0.2,
             "rgb(214,96,77)"
            ],
            [
             0.3,
             "rgb(244,165,130)"
            ],
            [
             0.4,
             "rgb(253,219,199)"
            ],
            [
             0.5,
             "rgb(247,247,247)"
            ],
            [
             0.6,
             "rgb(209,229,240)"
            ],
            [
             0.7,
             "rgb(146,197,222)"
            ],
            [
             0.8,
             "rgb(67,147,195)"
            ],
            [
             0.9,
             "rgb(33,102,172)"
            ],
            [
             1,
             "rgb(5,48,97)"
            ]
           ],
           "sequential": [
            [
             0,
             "#440154"
            ],
            [
             0.1111111111111111,
             "#482878"
            ],
            [
             0.2222222222222222,
             "#3e4989"
            ],
            [
             0.3333333333333333,
             "#31688e"
            ],
            [
             0.4444444444444444,
             "#26828e"
            ],
            [
             0.5555555555555556,
             "#1f9e89"
            ],
            [
             0.6666666666666666,
             "#35b779"
            ],
            [
             0.7777777777777778,
             "#6ece58"
            ],
            [
             0.8888888888888888,
             "#b5de2b"
            ],
            [
             1,
             "#fde725"
            ]
           ],
           "sequentialminus": [
            [
             0,
             "#440154"
            ],
            [
             0.1111111111111111,
             "#482878"
            ],
            [
             0.2222222222222222,
             "#3e4989"
            ],
            [
             0.3333333333333333,
             "#31688e"
            ],
            [
             0.4444444444444444,
             "#26828e"
            ],
            [
             0.5555555555555556,
             "#1f9e89"
            ],
            [
             0.6666666666666666,
             "#35b779"
            ],
            [
             0.7777777777777778,
             "#6ece58"
            ],
            [
             0.8888888888888888,
             "#b5de2b"
            ],
            [
             1,
             "#fde725"
            ]
           ]
          },
          "colorway": [
           "#1F77B4",
           "#FF7F0E",
           "#2CA02C",
           "#D62728",
           "#9467BD",
           "#8C564B",
           "#E377C2",
           "#7F7F7F",
           "#BCBD22",
           "#17BECF"
          ],
          "font": {
           "color": "rgb(36,36,36)"
          },
          "geo": {
           "bgcolor": "white",
           "lakecolor": "white",
           "landcolor": "white",
           "showlakes": true,
           "showland": true,
           "subunitcolor": "white"
          },
          "hoverlabel": {
           "align": "left"
          },
          "hovermode": "closest",
          "mapbox": {
           "style": "light"
          },
          "paper_bgcolor": "white",
          "plot_bgcolor": "white",
          "polar": {
           "angularaxis": {
            "gridcolor": "rgb(232,232,232)",
            "linecolor": "rgb(36,36,36)",
            "showgrid": false,
            "showline": true,
            "ticks": "outside"
           },
           "bgcolor": "white",
           "radialaxis": {
            "gridcolor": "rgb(232,232,232)",
            "linecolor": "rgb(36,36,36)",
            "showgrid": false,
            "showline": true,
            "ticks": "outside"
           }
          },
          "scene": {
           "xaxis": {
            "backgroundcolor": "white",
            "gridcolor": "rgb(232,232,232)",
            "gridwidth": 2,
            "linecolor": "rgb(36,36,36)",
            "showbackground": true,
            "showgrid": false,
            "showline": true,
            "ticks": "outside",
            "zeroline": false,
            "zerolinecolor": "rgb(36,36,36)"
           },
           "yaxis": {
            "backgroundcolor": "white",
            "gridcolor": "rgb(232,232,232)",
            "gridwidth": 2,
            "linecolor": "rgb(36,36,36)",
            "showbackground": true,
            "showgrid": false,
            "showline": true,
            "ticks": "outside",
            "zeroline": false,
            "zerolinecolor": "rgb(36,36,36)"
           },
           "zaxis": {
            "backgroundcolor": "white",
            "gridcolor": "rgb(232,232,232)",
            "gridwidth": 2,
            "linecolor": "rgb(36,36,36)",
            "showbackground": true,
            "showgrid": false,
            "showline": true,
            "ticks": "outside",
            "zeroline": false,
            "zerolinecolor": "rgb(36,36,36)"
           }
          },
          "shapedefaults": {
           "fillcolor": "black",
           "line": {
            "width": 0
           },
           "opacity": 0.3
          },
          "ternary": {
           "aaxis": {
            "gridcolor": "rgb(232,232,232)",
            "linecolor": "rgb(36,36,36)",
            "showgrid": false,
            "showline": true,
            "ticks": "outside"
           },
           "baxis": {
            "gridcolor": "rgb(232,232,232)",
            "linecolor": "rgb(36,36,36)",
            "showgrid": false,
            "showline": true,
            "ticks": "outside"
           },
           "bgcolor": "white",
           "caxis": {
            "gridcolor": "rgb(232,232,232)",
            "linecolor": "rgb(36,36,36)",
            "showgrid": false,
            "showline": true,
            "ticks": "outside"
           }
          },
          "title": {
           "x": 0.05
          },
          "xaxis": {
           "automargin": true,
           "gridcolor": "rgb(232,232,232)",
           "linecolor": "rgb(36,36,36)",
           "showgrid": false,
           "showline": true,
           "ticks": "outside",
           "title": {
            "standoff": 15
           },
           "zeroline": false,
           "zerolinecolor": "rgb(36,36,36)"
          },
          "yaxis": {
           "automargin": true,
           "gridcolor": "rgb(232,232,232)",
           "linecolor": "rgb(36,36,36)",
           "showgrid": false,
           "showline": true,
           "ticks": "outside",
           "title": {
            "standoff": 15
           },
           "zeroline": false,
           "zerolinecolor": "rgb(36,36,36)"
          }
         }
        },
        "title": {
         "font": {
          "color": "#000000",
          "family": "Arial",
          "size": 18
         },
         "text": "Evolucion de las emisiones totales de CO2 en Argentina",
         "x": 0.5,
         "xanchor": "right",
         "y": 0.96,
         "yanchor": "top"
        },
        "xaxis": {
         "anchor": "y",
         "domain": [
          0,
          1
         ],
         "title": {
          "text": "Año"
         }
        },
        "yaxis": {
         "anchor": "x",
         "domain": [
          0,
          1
         ],
         "title": {
          "text": "Millones de toneladas de co2"
         }
        }
       }
      }
     },
     "metadata": {},
     "output_type": "display_data"
    }
   ],
   "source": [
    "import plotly.express as px\n",
    "\n",
    "fig = px.line(grafico3, x='year', y='co2', title='Evolucion de las emisiones totales de CO2 en Argentina',\n",
    "                 color_discrete_sequence= my_colors, template=\"simple_white\")\n",
    "\n",
    "fig.update_xaxes(title_text='Año')\n",
    "fig.update_yaxes(title_text='Millones de toneladas de co2')\n",
    "fig.update_layout(annotations=[\n",
    "        dict(\n",
    "            x=0,\n",
    "            y=1.05,\n",
    "            showarrow=False,\n",
    "            text=\"<i style='font-size:12px;'> Emisiones de dióxido de carbono (CO₂) de combustibles fósiles e industrias. <br> No se incluye el cambio de uso de la tierra. .</i>\",\n",
    "            xref='paper',\n",
    "            yref='paper',\n",
    "            font= {'size': 12, 'color': 'black', 'family': 'Arial'},\n",
    "            xanchor='left',\n",
    "            yanchor='bottom',\n",
    "            align='left'\n",
    "        )\n",
    "    ],\n",
    "    title={\n",
    "        'text': \"Evolucion de las emisiones totales de CO2 en Argentina\",\n",
    "        'y':0.96,\n",
    "        'x':0.5,\n",
    "        'xanchor': 'right',\n",
    "        'yanchor': 'top',\n",
    "        'font': {'size': 18, 'color': '#000000', 'family': 'Arial'}\n",
    "    },\n",
    "    template='simple_white'\n",
    ")\n",
    "\n",
    "fig.show()\n"
   ]
  },
  {
   "attachments": {},
   "cell_type": "markdown",
   "id": "a179c8c6",
   "metadata": {},
   "source": [
    "**Que fuente de energia fue la de mayor dinamica?**\n",
    "\n",
    "Hasta los 2000 el petroleo fue el principal origen de las emisiones. A partir de dicho año el gas comienza a sobrepasarlo como el principal combustible en orden de incidencia año a año, lo que esta directamente relacionado a q es el principal componente de nuestra matriz energetica."
   ]
  },
  {
   "cell_type": "code",
   "execution_count": 110,
   "id": "a54808a0",
   "metadata": {
    "scrolled": false
   },
   "outputs": [
    {
     "data": {
      "application/vnd.plotly.v1+json": {
       "config": {
        "plotlyServerURL": "https://plot.ly"
       },
       "data": [
        {
         "fillpattern": {
          "shape": ""
         },
         "hovertemplate": "variable=coal_co2<br>year=%{x}<br>value=%{y}<extra></extra>",
         "legendgroup": "coal_co2",
         "line": {
          "color": "#30123b"
         },
         "marker": {
          "symbol": "circle"
         },
         "mode": "lines",
         "name": "coal_co2",
         "orientation": "v",
         "showlegend": true,
         "stackgroup": "1",
         "type": "scatter",
         "x": [
          "1920-01-01T00:00:00",
          "1921-01-01T00:00:00",
          "1922-01-01T00:00:00",
          "1923-01-01T00:00:00",
          "1924-01-01T00:00:00",
          "1925-01-01T00:00:00",
          "1926-01-01T00:00:00",
          "1927-01-01T00:00:00",
          "1928-01-01T00:00:00",
          "1929-01-01T00:00:00",
          "1930-01-01T00:00:00",
          "1931-01-01T00:00:00",
          "1932-01-01T00:00:00",
          "1933-01-01T00:00:00",
          "1934-01-01T00:00:00",
          "1935-01-01T00:00:00",
          "1936-01-01T00:00:00",
          "1937-01-01T00:00:00",
          "1938-01-01T00:00:00",
          "1939-01-01T00:00:00",
          "1940-01-01T00:00:00",
          "1941-01-01T00:00:00",
          "1942-01-01T00:00:00",
          "1943-01-01T00:00:00",
          "1944-01-01T00:00:00",
          "1945-01-01T00:00:00",
          "1946-01-01T00:00:00",
          "1947-01-01T00:00:00",
          "1948-01-01T00:00:00",
          "1949-01-01T00:00:00",
          "1950-01-01T00:00:00",
          "1951-01-01T00:00:00",
          "1952-01-01T00:00:00",
          "1953-01-01T00:00:00",
          "1954-01-01T00:00:00",
          "1955-01-01T00:00:00",
          "1956-01-01T00:00:00",
          "1957-01-01T00:00:00",
          "1958-01-01T00:00:00",
          "1959-01-01T00:00:00",
          "1960-01-01T00:00:00",
          "1961-01-01T00:00:00",
          "1962-01-01T00:00:00",
          "1963-01-01T00:00:00",
          "1964-01-01T00:00:00",
          "1965-01-01T00:00:00",
          "1966-01-01T00:00:00",
          "1967-01-01T00:00:00",
          "1968-01-01T00:00:00",
          "1969-01-01T00:00:00",
          "1970-01-01T00:00:00",
          "1971-01-01T00:00:00",
          "1972-01-01T00:00:00",
          "1973-01-01T00:00:00",
          "1974-01-01T00:00:00",
          "1975-01-01T00:00:00",
          "1976-01-01T00:00:00",
          "1977-01-01T00:00:00",
          "1978-01-01T00:00:00",
          "1979-01-01T00:00:00",
          "1980-01-01T00:00:00",
          "1981-01-01T00:00:00",
          "1982-01-01T00:00:00",
          "1983-01-01T00:00:00",
          "1984-01-01T00:00:00",
          "1985-01-01T00:00:00",
          "1986-01-01T00:00:00",
          "1987-01-01T00:00:00",
          "1988-01-01T00:00:00",
          "1989-01-01T00:00:00",
          "1990-01-01T00:00:00",
          "1991-01-01T00:00:00",
          "1992-01-01T00:00:00",
          "1993-01-01T00:00:00",
          "1994-01-01T00:00:00",
          "1995-01-01T00:00:00",
          "1996-01-01T00:00:00",
          "1997-01-01T00:00:00",
          "1998-01-01T00:00:00",
          "1999-01-01T00:00:00",
          "2000-01-01T00:00:00",
          "2001-01-01T00:00:00",
          "2002-01-01T00:00:00",
          "2003-01-01T00:00:00",
          "2004-01-01T00:00:00",
          "2005-01-01T00:00:00",
          "2006-01-01T00:00:00",
          "2007-01-01T00:00:00",
          "2008-01-01T00:00:00",
          "2009-01-01T00:00:00",
          "2010-01-01T00:00:00",
          "2011-01-01T00:00:00",
          "2012-01-01T00:00:00",
          "2013-01-01T00:00:00",
          "2014-01-01T00:00:00",
          "2015-01-01T00:00:00",
          "2016-01-01T00:00:00",
          "2017-01-01T00:00:00",
          "2018-01-01T00:00:00",
          "2019-01-01T00:00:00",
          "2020-01-01T00:00:00",
          "2021-01-01T00:00:00"
         ],
         "xaxis": "x",
         "y": [
          5.122,
          4.565,
          5.889,
          6.844,
          8.753,
          8.35,
          7.451,
          9.258,
          8.284,
          8.321,
          8.119,
          6.947,
          6.331,
          5.959,
          6.581,
          6.337,
          6.987,
          8.158,
          7.396,
          7.764,
          5.369,
          2.686,
          1.385,
          1.549,
          1.649,
          2.045,
          3.041,
          3.254,
          5.815,
          3.598,
          3.561,
          5.47,
          4.507,
          3.114,
          3.722,
          3.21,
          3.814,
          3.36,
          3.781,
          3.73,
          3.906,
          3.539,
          2.008,
          2.305,
          2.557,
          2.601,
          2.587,
          2.939,
          2.367,
          2.59,
          3.287,
          2.928,
          2.858,
          2.88,
          3.367,
          3.594,
          3.239,
          2.704,
          3.833,
          3.602,
          2.865,
          2.957,
          2.66,
          2.191,
          2.147,
          2.774,
          3.393,
          3.778,
          4.023,
          4.144,
          3.07,
          2.689,
          2.803,
          2.301,
          3.561,
          3.701,
          3.1,
          2.777,
          2.84,
          2.154,
          1.656,
          1.29,
          1.099,
          1.99,
          2.198,
          3.268,
          3.866,
          3.66,
          3.877,
          3.232,
          3.99,
          4.723,
          5.009,
          4.84,
          5.536,
          5.467,
          4.192,
          4.279,
          4.356,
          2.143,
          2.642,
          4.816
         ],
         "yaxis": "y"
        },
        {
         "fillpattern": {
          "shape": ""
         },
         "hovertemplate": "variable=flaring_co2<br>year=%{x}<br>value=%{y}<extra></extra>",
         "legendgroup": "flaring_co2",
         "line": {
          "color": "#4145ab"
         },
         "marker": {
          "symbol": "circle"
         },
         "mode": "lines",
         "name": "flaring_co2",
         "orientation": "v",
         "showlegend": true,
         "stackgroup": "1",
         "type": "scatter",
         "x": [
          "1920-01-01T00:00:00",
          "1921-01-01T00:00:00",
          "1922-01-01T00:00:00",
          "1923-01-01T00:00:00",
          "1924-01-01T00:00:00",
          "1925-01-01T00:00:00",
          "1926-01-01T00:00:00",
          "1927-01-01T00:00:00",
          "1928-01-01T00:00:00",
          "1929-01-01T00:00:00",
          "1930-01-01T00:00:00",
          "1931-01-01T00:00:00",
          "1932-01-01T00:00:00",
          "1933-01-01T00:00:00",
          "1934-01-01T00:00:00",
          "1935-01-01T00:00:00",
          "1936-01-01T00:00:00",
          "1937-01-01T00:00:00",
          "1938-01-01T00:00:00",
          "1939-01-01T00:00:00",
          "1940-01-01T00:00:00",
          "1941-01-01T00:00:00",
          "1942-01-01T00:00:00",
          "1943-01-01T00:00:00",
          "1944-01-01T00:00:00",
          "1945-01-01T00:00:00",
          "1946-01-01T00:00:00",
          "1947-01-01T00:00:00",
          "1948-01-01T00:00:00",
          "1949-01-01T00:00:00",
          "1950-01-01T00:00:00",
          "1951-01-01T00:00:00",
          "1952-01-01T00:00:00",
          "1953-01-01T00:00:00",
          "1954-01-01T00:00:00",
          "1955-01-01T00:00:00",
          "1956-01-01T00:00:00",
          "1957-01-01T00:00:00",
          "1958-01-01T00:00:00",
          "1959-01-01T00:00:00",
          "1960-01-01T00:00:00",
          "1961-01-01T00:00:00",
          "1962-01-01T00:00:00",
          "1963-01-01T00:00:00",
          "1964-01-01T00:00:00",
          "1965-01-01T00:00:00",
          "1966-01-01T00:00:00",
          "1967-01-01T00:00:00",
          "1968-01-01T00:00:00",
          "1969-01-01T00:00:00",
          "1970-01-01T00:00:00",
          "1971-01-01T00:00:00",
          "1972-01-01T00:00:00",
          "1973-01-01T00:00:00",
          "1974-01-01T00:00:00",
          "1975-01-01T00:00:00",
          "1976-01-01T00:00:00",
          "1977-01-01T00:00:00",
          "1978-01-01T00:00:00",
          "1979-01-01T00:00:00",
          "1980-01-01T00:00:00",
          "1981-01-01T00:00:00",
          "1982-01-01T00:00:00",
          "1983-01-01T00:00:00",
          "1984-01-01T00:00:00",
          "1985-01-01T00:00:00",
          "1986-01-01T00:00:00",
          "1987-01-01T00:00:00",
          "1988-01-01T00:00:00",
          "1989-01-01T00:00:00",
          "1990-01-01T00:00:00",
          "1991-01-01T00:00:00",
          "1992-01-01T00:00:00",
          "1993-01-01T00:00:00",
          "1994-01-01T00:00:00",
          "1995-01-01T00:00:00",
          "1996-01-01T00:00:00",
          "1997-01-01T00:00:00",
          "1998-01-01T00:00:00",
          "1999-01-01T00:00:00",
          "2000-01-01T00:00:00",
          "2001-01-01T00:00:00",
          "2002-01-01T00:00:00",
          "2003-01-01T00:00:00",
          "2004-01-01T00:00:00",
          "2005-01-01T00:00:00",
          "2006-01-01T00:00:00",
          "2007-01-01T00:00:00",
          "2008-01-01T00:00:00",
          "2009-01-01T00:00:00",
          "2010-01-01T00:00:00",
          "2011-01-01T00:00:00",
          "2012-01-01T00:00:00",
          "2013-01-01T00:00:00",
          "2014-01-01T00:00:00",
          "2015-01-01T00:00:00",
          "2016-01-01T00:00:00",
          "2017-01-01T00:00:00",
          "2018-01-01T00:00:00",
          "2019-01-01T00:00:00",
          "2020-01-01T00:00:00",
          "2021-01-01T00:00:00"
         ],
         "xaxis": "x",
         "y": [
          0,
          0,
          0,
          0,
          0,
          0,
          0,
          0,
          0,
          0,
          0,
          0,
          0,
          0,
          0,
          0,
          0,
          0,
          0,
          0,
          0,
          0,
          0,
          0,
          0,
          0,
          0,
          0,
          0,
          0,
          0,
          0,
          0,
          0,
          0,
          0,
          0,
          0,
          0,
          0,
          0,
          0,
          0,
          0,
          0,
          0,
          2.345,
          2.796,
          2.876,
          2.832,
          2.81,
          2.843,
          2.744,
          3.129,
          3.063,
          3.902,
          5.284,
          5.408,
          6.251,
          6.599,
          6.156,
          5.144,
          5.595,
          5.196,
          7.149,
          6.188,
          4.804,
          4.778,
          5.87,
          6.262,
          4.785,
          4.104,
          3.997,
          4.753,
          5.738,
          5.412,
          5.778,
          3.323,
          2.14,
          1.495,
          1.059,
          1.088,
          1.447,
          1.935,
          1.422,
          1.158,
          1.198,
          1.458,
          1.462,
          1.532,
          1.491,
          1.469,
          1.131,
          1.291,
          1.388,
          1.218,
          0.841,
          0.96,
          1.359,
          1.771,
          1.987,
          2.325
         ],
         "yaxis": "y"
        },
        {
         "fillpattern": {
          "shape": ""
         },
         "hovertemplate": "variable=gas_co2<br>year=%{x}<br>value=%{y}<extra></extra>",
         "legendgroup": "gas_co2",
         "line": {
          "color": "#4675ed"
         },
         "marker": {
          "symbol": "circle"
         },
         "mode": "lines",
         "name": "gas_co2",
         "orientation": "v",
         "showlegend": true,
         "stackgroup": "1",
         "type": "scatter",
         "x": [
          "1920-01-01T00:00:00",
          "1921-01-01T00:00:00",
          "1922-01-01T00:00:00",
          "1923-01-01T00:00:00",
          "1924-01-01T00:00:00",
          "1925-01-01T00:00:00",
          "1926-01-01T00:00:00",
          "1927-01-01T00:00:00",
          "1928-01-01T00:00:00",
          "1929-01-01T00:00:00",
          "1930-01-01T00:00:00",
          "1931-01-01T00:00:00",
          "1932-01-01T00:00:00",
          "1933-01-01T00:00:00",
          "1934-01-01T00:00:00",
          "1935-01-01T00:00:00",
          "1936-01-01T00:00:00",
          "1937-01-01T00:00:00",
          "1938-01-01T00:00:00",
          "1939-01-01T00:00:00",
          "1940-01-01T00:00:00",
          "1941-01-01T00:00:00",
          "1942-01-01T00:00:00",
          "1943-01-01T00:00:00",
          "1944-01-01T00:00:00",
          "1945-01-01T00:00:00",
          "1946-01-01T00:00:00",
          "1947-01-01T00:00:00",
          "1948-01-01T00:00:00",
          "1949-01-01T00:00:00",
          "1950-01-01T00:00:00",
          "1951-01-01T00:00:00",
          "1952-01-01T00:00:00",
          "1953-01-01T00:00:00",
          "1954-01-01T00:00:00",
          "1955-01-01T00:00:00",
          "1956-01-01T00:00:00",
          "1957-01-01T00:00:00",
          "1958-01-01T00:00:00",
          "1959-01-01T00:00:00",
          "1960-01-01T00:00:00",
          "1961-01-01T00:00:00",
          "1962-01-01T00:00:00",
          "1963-01-01T00:00:00",
          "1964-01-01T00:00:00",
          "1965-01-01T00:00:00",
          "1966-01-01T00:00:00",
          "1967-01-01T00:00:00",
          "1968-01-01T00:00:00",
          "1969-01-01T00:00:00",
          "1970-01-01T00:00:00",
          "1971-01-01T00:00:00",
          "1972-01-01T00:00:00",
          "1973-01-01T00:00:00",
          "1974-01-01T00:00:00",
          "1975-01-01T00:00:00",
          "1976-01-01T00:00:00",
          "1977-01-01T00:00:00",
          "1978-01-01T00:00:00",
          "1979-01-01T00:00:00",
          "1980-01-01T00:00:00",
          "1981-01-01T00:00:00",
          "1982-01-01T00:00:00",
          "1983-01-01T00:00:00",
          "1984-01-01T00:00:00",
          "1985-01-01T00:00:00",
          "1986-01-01T00:00:00",
          "1987-01-01T00:00:00",
          "1988-01-01T00:00:00",
          "1989-01-01T00:00:00",
          "1990-01-01T00:00:00",
          "1991-01-01T00:00:00",
          "1992-01-01T00:00:00",
          "1993-01-01T00:00:00",
          "1994-01-01T00:00:00",
          "1995-01-01T00:00:00",
          "1996-01-01T00:00:00",
          "1997-01-01T00:00:00",
          "1998-01-01T00:00:00",
          "1999-01-01T00:00:00",
          "2000-01-01T00:00:00",
          "2001-01-01T00:00:00",
          "2002-01-01T00:00:00",
          "2003-01-01T00:00:00",
          "2004-01-01T00:00:00",
          "2005-01-01T00:00:00",
          "2006-01-01T00:00:00",
          "2007-01-01T00:00:00",
          "2008-01-01T00:00:00",
          "2009-01-01T00:00:00",
          "2010-01-01T00:00:00",
          "2011-01-01T00:00:00",
          "2012-01-01T00:00:00",
          "2013-01-01T00:00:00",
          "2014-01-01T00:00:00",
          "2015-01-01T00:00:00",
          "2016-01-01T00:00:00",
          "2017-01-01T00:00:00",
          "2018-01-01T00:00:00",
          "2019-01-01T00:00:00",
          "2020-01-01T00:00:00",
          "2021-01-01T00:00:00"
         ],
         "xaxis": "x",
         "y": [
          0.037,
          0.048,
          0.062,
          0.077,
          0.128,
          0.165,
          0.293,
          0.26,
          0.297,
          0.458,
          0.454,
          0.564,
          0.769,
          1.034,
          1.249,
          1.056,
          0.912,
          0.865,
          0.839,
          0.887,
          0.916,
          1.015,
          1.154,
          1.158,
          1.132,
          1.041,
          0.967,
          0.997,
          0.766,
          1.136,
          0,
          1.418,
          1.535,
          1.194,
          1.209,
          1.227,
          1.304,
          1.458,
          1.48,
          1.473,
          2.363,
          4.03,
          5.108,
          5.829,
          6.467,
          7.247,
          7.848,
          8.208,
          9.142,
          9.105,
          10.281,
          11.021,
          12.469,
          14.187,
          14.923,
          15.722,
          16.467,
          16.905,
          16.426,
          18.016,
          19.566,
          20.485,
          23.249,
          26.264,
          27.301,
          28.809,
          30.964,
          36.699,
          42.233,
          44.609,
          43.213,
          47.284,
          48.303,
          40.809,
          42.677,
          53.195,
          57.542,
          61.504,
          61.614,
          67.621,
          69.438,
          64.809,
          62.62,
          69.07,
          82.911,
          81.967,
          83.869,
          87.178,
          90.12,
          87.995,
          86.928,
          92.587,
          95.381,
          91.338,
          92.844,
          93.535,
          96.303,
          96.442,
          96.123,
          95.608,
          90.213,
          94.328
         ],
         "yaxis": "y"
        },
        {
         "fillpattern": {
          "shape": ""
         },
         "hovertemplate": "variable=oil_co2<br>year=%{x}<br>value=%{y}<extra></extra>",
         "legendgroup": "oil_co2",
         "line": {
          "color": "#39a2fc"
         },
         "marker": {
          "symbol": "circle"
         },
         "mode": "lines",
         "name": "oil_co2",
         "orientation": "v",
         "showlegend": true,
         "stackgroup": "1",
         "type": "scatter",
         "x": [
          "1920-01-01T00:00:00",
          "1921-01-01T00:00:00",
          "1922-01-01T00:00:00",
          "1923-01-01T00:00:00",
          "1924-01-01T00:00:00",
          "1925-01-01T00:00:00",
          "1926-01-01T00:00:00",
          "1927-01-01T00:00:00",
          "1928-01-01T00:00:00",
          "1929-01-01T00:00:00",
          "1930-01-01T00:00:00",
          "1931-01-01T00:00:00",
          "1932-01-01T00:00:00",
          "1933-01-01T00:00:00",
          "1934-01-01T00:00:00",
          "1935-01-01T00:00:00",
          "1936-01-01T00:00:00",
          "1937-01-01T00:00:00",
          "1938-01-01T00:00:00",
          "1939-01-01T00:00:00",
          "1940-01-01T00:00:00",
          "1941-01-01T00:00:00",
          "1942-01-01T00:00:00",
          "1943-01-01T00:00:00",
          "1944-01-01T00:00:00",
          "1945-01-01T00:00:00",
          "1946-01-01T00:00:00",
          "1947-01-01T00:00:00",
          "1948-01-01T00:00:00",
          "1949-01-01T00:00:00",
          "1950-01-01T00:00:00",
          "1951-01-01T00:00:00",
          "1952-01-01T00:00:00",
          "1953-01-01T00:00:00",
          "1954-01-01T00:00:00",
          "1955-01-01T00:00:00",
          "1956-01-01T00:00:00",
          "1957-01-01T00:00:00",
          "1958-01-01T00:00:00",
          "1959-01-01T00:00:00",
          "1960-01-01T00:00:00",
          "1961-01-01T00:00:00",
          "1962-01-01T00:00:00",
          "1963-01-01T00:00:00",
          "1964-01-01T00:00:00",
          "1965-01-01T00:00:00",
          "1966-01-01T00:00:00",
          "1967-01-01T00:00:00",
          "1968-01-01T00:00:00",
          "1969-01-01T00:00:00",
          "1970-01-01T00:00:00",
          "1971-01-01T00:00:00",
          "1972-01-01T00:00:00",
          "1973-01-01T00:00:00",
          "1974-01-01T00:00:00",
          "1975-01-01T00:00:00",
          "1976-01-01T00:00:00",
          "1977-01-01T00:00:00",
          "1978-01-01T00:00:00",
          "1979-01-01T00:00:00",
          "1980-01-01T00:00:00",
          "1981-01-01T00:00:00",
          "1982-01-01T00:00:00",
          "1983-01-01T00:00:00",
          "1984-01-01T00:00:00",
          "1985-01-01T00:00:00",
          "1986-01-01T00:00:00",
          "1987-01-01T00:00:00",
          "1988-01-01T00:00:00",
          "1989-01-01T00:00:00",
          "1990-01-01T00:00:00",
          "1991-01-01T00:00:00",
          "1992-01-01T00:00:00",
          "1993-01-01T00:00:00",
          "1994-01-01T00:00:00",
          "1995-01-01T00:00:00",
          "1996-01-01T00:00:00",
          "1997-01-01T00:00:00",
          "1998-01-01T00:00:00",
          "1999-01-01T00:00:00",
          "2000-01-01T00:00:00",
          "2001-01-01T00:00:00",
          "2002-01-01T00:00:00",
          "2003-01-01T00:00:00",
          "2004-01-01T00:00:00",
          "2005-01-01T00:00:00",
          "2006-01-01T00:00:00",
          "2007-01-01T00:00:00",
          "2008-01-01T00:00:00",
          "2009-01-01T00:00:00",
          "2010-01-01T00:00:00",
          "2011-01-01T00:00:00",
          "2012-01-01T00:00:00",
          "2013-01-01T00:00:00",
          "2014-01-01T00:00:00",
          "2015-01-01T00:00:00",
          "2016-01-01T00:00:00",
          "2017-01-01T00:00:00",
          "2018-01-01T00:00:00",
          "2019-01-01T00:00:00",
          "2020-01-01T00:00:00",
          "2021-01-01T00:00:00"
         ],
         "xaxis": "x",
         "y": [
          0.733,
          0.927,
          1.348,
          1.525,
          2.077,
          2.722,
          3.515,
          3.856,
          4.041,
          4.177,
          4.005,
          5.067,
          5.752,
          5.985,
          6.13,
          6.249,
          6.786,
          7.176,
          7.498,
          8.171,
          9.045,
          9.662,
          10.409,
          10.898,
          10.637,
          10.043,
          9.131,
          9.591,
          10.193,
          9.915,
          25.582,
          27.304,
          29.286,
          30.008,
          30.976,
          34.2,
          38.157,
          41.619,
          37.71,
          42.576,
          41.191,
          42.121,
          45.078,
          40.645,
          45.207,
          47.324,
          48.57,
          49.777,
          52.56,
          60.573,
          63.926,
          69.319,
          69.297,
          71.21,
          71.452,
          68.913,
          71.868,
          72.702,
          72.899,
          79.073,
          76.508,
          70.059,
          69.032,
          68.674,
          67.237,
          60.435,
          62.2,
          66.454,
          66.232,
          59.753,
          59.188,
          61.233,
          63.633,
          67.154,
          67.203,
          62.836,
          65.921,
          66.868,
          69.576,
          72.725,
          67.434,
          64.336,
          57.497,
          59.357,
          67.812,
          71.8,
          81.912,
          77.952,
          88.658,
          82.381,
          90.145,
          86.908,
          85.587,
          87.487,
          84.292,
          86.954,
          84.556,
          80.856,
          74.392,
          74.848,
          70.913,
          80.309
         ],
         "yaxis": "y"
        },
        {
         "fillpattern": {
          "shape": ""
         },
         "hovertemplate": "variable=other_industry_co2<br>year=%{x}<br>value=%{y}<extra></extra>",
         "legendgroup": "other_industry_co2",
         "line": {
          "color": "#1bcfd4"
         },
         "marker": {
          "symbol": "circle"
         },
         "mode": "lines",
         "name": "other_industry_co2",
         "orientation": "v",
         "showlegend": true,
         "stackgroup": "1",
         "type": "scatter",
         "x": [
          "1920-01-01T00:00:00",
          "1921-01-01T00:00:00",
          "1922-01-01T00:00:00",
          "1923-01-01T00:00:00",
          "1924-01-01T00:00:00",
          "1925-01-01T00:00:00",
          "1926-01-01T00:00:00",
          "1927-01-01T00:00:00",
          "1928-01-01T00:00:00",
          "1929-01-01T00:00:00",
          "1930-01-01T00:00:00",
          "1931-01-01T00:00:00",
          "1932-01-01T00:00:00",
          "1933-01-01T00:00:00",
          "1934-01-01T00:00:00",
          "1935-01-01T00:00:00",
          "1936-01-01T00:00:00",
          "1937-01-01T00:00:00",
          "1938-01-01T00:00:00",
          "1939-01-01T00:00:00",
          "1940-01-01T00:00:00",
          "1941-01-01T00:00:00",
          "1942-01-01T00:00:00",
          "1943-01-01T00:00:00",
          "1944-01-01T00:00:00",
          "1945-01-01T00:00:00",
          "1946-01-01T00:00:00",
          "1947-01-01T00:00:00",
          "1948-01-01T00:00:00",
          "1949-01-01T00:00:00",
          "1950-01-01T00:00:00",
          "1951-01-01T00:00:00",
          "1952-01-01T00:00:00",
          "1953-01-01T00:00:00",
          "1954-01-01T00:00:00",
          "1955-01-01T00:00:00",
          "1956-01-01T00:00:00",
          "1957-01-01T00:00:00",
          "1958-01-01T00:00:00",
          "1959-01-01T00:00:00",
          "1960-01-01T00:00:00",
          "1961-01-01T00:00:00",
          "1962-01-01T00:00:00",
          "1963-01-01T00:00:00",
          "1964-01-01T00:00:00",
          "1965-01-01T00:00:00",
          "1966-01-01T00:00:00",
          "1967-01-01T00:00:00",
          "1968-01-01T00:00:00",
          "1969-01-01T00:00:00",
          "1970-01-01T00:00:00",
          "1971-01-01T00:00:00",
          "1972-01-01T00:00:00",
          "1973-01-01T00:00:00",
          "1974-01-01T00:00:00",
          "1975-01-01T00:00:00",
          "1976-01-01T00:00:00",
          "1977-01-01T00:00:00",
          "1978-01-01T00:00:00",
          "1979-01-01T00:00:00",
          "1980-01-01T00:00:00",
          "1981-01-01T00:00:00",
          "1982-01-01T00:00:00",
          "1983-01-01T00:00:00",
          "1984-01-01T00:00:00",
          "1985-01-01T00:00:00",
          "1986-01-01T00:00:00",
          "1987-01-01T00:00:00",
          "1988-01-01T00:00:00",
          "1989-01-01T00:00:00",
          "1990-01-01T00:00:00",
          "1991-01-01T00:00:00",
          "1992-01-01T00:00:00",
          "1993-01-01T00:00:00",
          "1994-01-01T00:00:00",
          "1995-01-01T00:00:00",
          "1996-01-01T00:00:00",
          "1997-01-01T00:00:00",
          "1998-01-01T00:00:00",
          "1999-01-01T00:00:00",
          "2000-01-01T00:00:00",
          "2001-01-01T00:00:00",
          "2002-01-01T00:00:00",
          "2003-01-01T00:00:00",
          "2004-01-01T00:00:00",
          "2005-01-01T00:00:00",
          "2006-01-01T00:00:00",
          "2007-01-01T00:00:00",
          "2008-01-01T00:00:00",
          "2009-01-01T00:00:00",
          "2010-01-01T00:00:00",
          "2011-01-01T00:00:00",
          "2012-01-01T00:00:00",
          "2013-01-01T00:00:00",
          "2014-01-01T00:00:00",
          "2015-01-01T00:00:00",
          "2016-01-01T00:00:00",
          "2017-01-01T00:00:00",
          "2018-01-01T00:00:00",
          "2019-01-01T00:00:00",
          "2020-01-01T00:00:00",
          "2021-01-01T00:00:00"
         ],
         "xaxis": "x",
         "y": [
          null,
          null,
          null,
          null,
          null,
          null,
          null,
          null,
          null,
          null,
          null,
          null,
          null,
          null,
          null,
          null,
          null,
          null,
          null,
          null,
          null,
          null,
          null,
          null,
          null,
          null,
          null,
          null,
          null,
          null,
          null,
          null,
          null,
          null,
          null,
          null,
          null,
          null,
          null,
          null,
          null,
          null,
          null,
          null,
          null,
          null,
          null,
          null,
          null,
          null,
          null,
          null,
          null,
          null,
          null,
          null,
          null,
          null,
          null,
          null,
          null,
          null,
          null,
          null,
          null,
          null,
          null,
          null,
          null,
          null,
          null,
          null,
          null,
          null,
          null,
          null,
          null,
          null,
          null,
          null,
          null,
          null,
          null,
          null,
          null,
          null,
          null,
          null,
          null,
          null,
          null,
          null,
          null,
          null,
          null,
          null,
          null,
          null,
          null,
          null,
          null,
          null
         ],
         "yaxis": "y"
        },
        {
         "fillpattern": {
          "shape": ""
         },
         "hovertemplate": "variable=cement_co2<br>year=%{x}<br>value=%{y}<extra></extra>",
         "legendgroup": "cement_co2",
         "line": {
          "color": "#24eca6"
         },
         "marker": {
          "symbol": "circle"
         },
         "mode": "lines",
         "name": "cement_co2",
         "orientation": "v",
         "showlegend": true,
         "stackgroup": "1",
         "type": "scatter",
         "x": [
          "1920-01-01T00:00:00",
          "1921-01-01T00:00:00",
          "1922-01-01T00:00:00",
          "1923-01-01T00:00:00",
          "1924-01-01T00:00:00",
          "1925-01-01T00:00:00",
          "1926-01-01T00:00:00",
          "1927-01-01T00:00:00",
          "1928-01-01T00:00:00",
          "1929-01-01T00:00:00",
          "1930-01-01T00:00:00",
          "1931-01-01T00:00:00",
          "1932-01-01T00:00:00",
          "1933-01-01T00:00:00",
          "1934-01-01T00:00:00",
          "1935-01-01T00:00:00",
          "1936-01-01T00:00:00",
          "1937-01-01T00:00:00",
          "1938-01-01T00:00:00",
          "1939-01-01T00:00:00",
          "1940-01-01T00:00:00",
          "1941-01-01T00:00:00",
          "1942-01-01T00:00:00",
          "1943-01-01T00:00:00",
          "1944-01-01T00:00:00",
          "1945-01-01T00:00:00",
          "1946-01-01T00:00:00",
          "1947-01-01T00:00:00",
          "1948-01-01T00:00:00",
          "1949-01-01T00:00:00",
          "1950-01-01T00:00:00",
          "1951-01-01T00:00:00",
          "1952-01-01T00:00:00",
          "1953-01-01T00:00:00",
          "1954-01-01T00:00:00",
          "1955-01-01T00:00:00",
          "1956-01-01T00:00:00",
          "1957-01-01T00:00:00",
          "1958-01-01T00:00:00",
          "1959-01-01T00:00:00",
          "1960-01-01T00:00:00",
          "1961-01-01T00:00:00",
          "1962-01-01T00:00:00",
          "1963-01-01T00:00:00",
          "1964-01-01T00:00:00",
          "1965-01-01T00:00:00",
          "1966-01-01T00:00:00",
          "1967-01-01T00:00:00",
          "1968-01-01T00:00:00",
          "1969-01-01T00:00:00",
          "1970-01-01T00:00:00",
          "1971-01-01T00:00:00",
          "1972-01-01T00:00:00",
          "1973-01-01T00:00:00",
          "1974-01-01T00:00:00",
          "1975-01-01T00:00:00",
          "1976-01-01T00:00:00",
          "1977-01-01T00:00:00",
          "1978-01-01T00:00:00",
          "1979-01-01T00:00:00",
          "1980-01-01T00:00:00",
          "1981-01-01T00:00:00",
          "1982-01-01T00:00:00",
          "1983-01-01T00:00:00",
          "1984-01-01T00:00:00",
          "1985-01-01T00:00:00",
          "1986-01-01T00:00:00",
          "1987-01-01T00:00:00",
          "1988-01-01T00:00:00",
          "1989-01-01T00:00:00",
          "1990-01-01T00:00:00",
          "1991-01-01T00:00:00",
          "1992-01-01T00:00:00",
          "1993-01-01T00:00:00",
          "1994-01-01T00:00:00",
          "1995-01-01T00:00:00",
          "1996-01-01T00:00:00",
          "1997-01-01T00:00:00",
          "1998-01-01T00:00:00",
          "1999-01-01T00:00:00",
          "2000-01-01T00:00:00",
          "2001-01-01T00:00:00",
          "2002-01-01T00:00:00",
          "2003-01-01T00:00:00",
          "2004-01-01T00:00:00",
          "2005-01-01T00:00:00",
          "2006-01-01T00:00:00",
          "2007-01-01T00:00:00",
          "2008-01-01T00:00:00",
          "2009-01-01T00:00:00",
          "2010-01-01T00:00:00",
          "2011-01-01T00:00:00",
          "2012-01-01T00:00:00",
          "2013-01-01T00:00:00",
          "2014-01-01T00:00:00",
          "2015-01-01T00:00:00",
          "2016-01-01T00:00:00",
          "2017-01-01T00:00:00",
          "2018-01-01T00:00:00",
          "2019-01-01T00:00:00",
          "2020-01-01T00:00:00",
          "2021-01-01T00:00:00"
         ],
         "xaxis": "x",
         "y": [
          null,
          null,
          null,
          null,
          null,
          null,
          null,
          null,
          0.116,
          0.174,
          0.189,
          0.265,
          0.247,
          0.254,
          0.28,
          0.356,
          0.411,
          0.512,
          0.614,
          0.556,
          0.534,
          0.578,
          0.531,
          0.472,
          0.534,
          0.538,
          0.563,
          0.673,
          0.618,
          0.716,
          0.778,
          0.77,
          0.767,
          0.818,
          0.843,
          0.923,
          1.021,
          1.17,
          1.221,
          1.17,
          1.305,
          1.436,
          1.446,
          1.254,
          1.439,
          1.632,
          1.723,
          1.756,
          2.064,
          2.148,
          2.344,
          2.736,
          2.699,
          2.57,
          2.675,
          2.715,
          2.842,
          2.987,
          3.148,
          3.328,
          3.562,
          3.323,
          2.815,
          2.818,
          2.619,
          2.326,
          2.79,
          3.17,
          3.048,
          2.254,
          1.822,
          2.196,
          2.495,
          2.761,
          3.05,
          2.621,
          2.422,
          3.169,
          3.283,
          3.29,
          2.771,
          2.481,
          1.729,
          2.28,
          2.701,
          3.241,
          3.764,
          3.998,
          3.99,
          3.81,
          4.178,
          4.586,
          4.184,
          4.581,
          4.336,
          4.571,
          4.029,
          4.362,
          4.369,
          4.141,
          3.508,
          4.671
         ],
         "yaxis": "y"
        }
       ],
       "layout": {
        "legend": {
         "title": {
          "text": "variable"
         },
         "tracegroupgap": 0
        },
        "template": {
         "data": {
          "bar": [
           {
            "error_x": {
             "color": "rgb(36,36,36)"
            },
            "error_y": {
             "color": "rgb(36,36,36)"
            },
            "marker": {
             "line": {
              "color": "white",
              "width": 0.5
             },
             "pattern": {
              "fillmode": "overlay",
              "size": 10,
              "solidity": 0.2
             }
            },
            "type": "bar"
           }
          ],
          "barpolar": [
           {
            "marker": {
             "line": {
              "color": "white",
              "width": 0.5
             },
             "pattern": {
              "fillmode": "overlay",
              "size": 10,
              "solidity": 0.2
             }
            },
            "type": "barpolar"
           }
          ],
          "carpet": [
           {
            "aaxis": {
             "endlinecolor": "rgb(36,36,36)",
             "gridcolor": "white",
             "linecolor": "white",
             "minorgridcolor": "white",
             "startlinecolor": "rgb(36,36,36)"
            },
            "baxis": {
             "endlinecolor": "rgb(36,36,36)",
             "gridcolor": "white",
             "linecolor": "white",
             "minorgridcolor": "white",
             "startlinecolor": "rgb(36,36,36)"
            },
            "type": "carpet"
           }
          ],
          "choropleth": [
           {
            "colorbar": {
             "outlinewidth": 1,
             "tickcolor": "rgb(36,36,36)",
             "ticks": "outside"
            },
            "type": "choropleth"
           }
          ],
          "contour": [
           {
            "colorbar": {
             "outlinewidth": 1,
             "tickcolor": "rgb(36,36,36)",
             "ticks": "outside"
            },
            "colorscale": [
             [
              0,
              "#440154"
             ],
             [
              0.1111111111111111,
              "#482878"
             ],
             [
              0.2222222222222222,
              "#3e4989"
             ],
             [
              0.3333333333333333,
              "#31688e"
             ],
             [
              0.4444444444444444,
              "#26828e"
             ],
             [
              0.5555555555555556,
              "#1f9e89"
             ],
             [
              0.6666666666666666,
              "#35b779"
             ],
             [
              0.7777777777777778,
              "#6ece58"
             ],
             [
              0.8888888888888888,
              "#b5de2b"
             ],
             [
              1,
              "#fde725"
             ]
            ],
            "type": "contour"
           }
          ],
          "contourcarpet": [
           {
            "colorbar": {
             "outlinewidth": 1,
             "tickcolor": "rgb(36,36,36)",
             "ticks": "outside"
            },
            "type": "contourcarpet"
           }
          ],
          "heatmap": [
           {
            "colorbar": {
             "outlinewidth": 1,
             "tickcolor": "rgb(36,36,36)",
             "ticks": "outside"
            },
            "colorscale": [
             [
              0,
              "#440154"
             ],
             [
              0.1111111111111111,
              "#482878"
             ],
             [
              0.2222222222222222,
              "#3e4989"
             ],
             [
              0.3333333333333333,
              "#31688e"
             ],
             [
              0.4444444444444444,
              "#26828e"
             ],
             [
              0.5555555555555556,
              "#1f9e89"
             ],
             [
              0.6666666666666666,
              "#35b779"
             ],
             [
              0.7777777777777778,
              "#6ece58"
             ],
             [
              0.8888888888888888,
              "#b5de2b"
             ],
             [
              1,
              "#fde725"
             ]
            ],
            "type": "heatmap"
           }
          ],
          "heatmapgl": [
           {
            "colorbar": {
             "outlinewidth": 1,
             "tickcolor": "rgb(36,36,36)",
             "ticks": "outside"
            },
            "colorscale": [
             [
              0,
              "#440154"
             ],
             [
              0.1111111111111111,
              "#482878"
             ],
             [
              0.2222222222222222,
              "#3e4989"
             ],
             [
              0.3333333333333333,
              "#31688e"
             ],
             [
              0.4444444444444444,
              "#26828e"
             ],
             [
              0.5555555555555556,
              "#1f9e89"
             ],
             [
              0.6666666666666666,
              "#35b779"
             ],
             [
              0.7777777777777778,
              "#6ece58"
             ],
             [
              0.8888888888888888,
              "#b5de2b"
             ],
             [
              1,
              "#fde725"
             ]
            ],
            "type": "heatmapgl"
           }
          ],
          "histogram": [
           {
            "marker": {
             "line": {
              "color": "white",
              "width": 0.6
             }
            },
            "type": "histogram"
           }
          ],
          "histogram2d": [
           {
            "colorbar": {
             "outlinewidth": 1,
             "tickcolor": "rgb(36,36,36)",
             "ticks": "outside"
            },
            "colorscale": [
             [
              0,
              "#440154"
             ],
             [
              0.1111111111111111,
              "#482878"
             ],
             [
              0.2222222222222222,
              "#3e4989"
             ],
             [
              0.3333333333333333,
              "#31688e"
             ],
             [
              0.4444444444444444,
              "#26828e"
             ],
             [
              0.5555555555555556,
              "#1f9e89"
             ],
             [
              0.6666666666666666,
              "#35b779"
             ],
             [
              0.7777777777777778,
              "#6ece58"
             ],
             [
              0.8888888888888888,
              "#b5de2b"
             ],
             [
              1,
              "#fde725"
             ]
            ],
            "type": "histogram2d"
           }
          ],
          "histogram2dcontour": [
           {
            "colorbar": {
             "outlinewidth": 1,
             "tickcolor": "rgb(36,36,36)",
             "ticks": "outside"
            },
            "colorscale": [
             [
              0,
              "#440154"
             ],
             [
              0.1111111111111111,
              "#482878"
             ],
             [
              0.2222222222222222,
              "#3e4989"
             ],
             [
              0.3333333333333333,
              "#31688e"
             ],
             [
              0.4444444444444444,
              "#26828e"
             ],
             [
              0.5555555555555556,
              "#1f9e89"
             ],
             [
              0.6666666666666666,
              "#35b779"
             ],
             [
              0.7777777777777778,
              "#6ece58"
             ],
             [
              0.8888888888888888,
              "#b5de2b"
             ],
             [
              1,
              "#fde725"
             ]
            ],
            "type": "histogram2dcontour"
           }
          ],
          "mesh3d": [
           {
            "colorbar": {
             "outlinewidth": 1,
             "tickcolor": "rgb(36,36,36)",
             "ticks": "outside"
            },
            "type": "mesh3d"
           }
          ],
          "parcoords": [
           {
            "line": {
             "colorbar": {
              "outlinewidth": 1,
              "tickcolor": "rgb(36,36,36)",
              "ticks": "outside"
             }
            },
            "type": "parcoords"
           }
          ],
          "pie": [
           {
            "automargin": true,
            "type": "pie"
           }
          ],
          "scatter": [
           {
            "fillpattern": {
             "fillmode": "overlay",
             "size": 10,
             "solidity": 0.2
            },
            "type": "scatter"
           }
          ],
          "scatter3d": [
           {
            "line": {
             "colorbar": {
              "outlinewidth": 1,
              "tickcolor": "rgb(36,36,36)",
              "ticks": "outside"
             }
            },
            "marker": {
             "colorbar": {
              "outlinewidth": 1,
              "tickcolor": "rgb(36,36,36)",
              "ticks": "outside"
             }
            },
            "type": "scatter3d"
           }
          ],
          "scattercarpet": [
           {
            "marker": {
             "colorbar": {
              "outlinewidth": 1,
              "tickcolor": "rgb(36,36,36)",
              "ticks": "outside"
             }
            },
            "type": "scattercarpet"
           }
          ],
          "scattergeo": [
           {
            "marker": {
             "colorbar": {
              "outlinewidth": 1,
              "tickcolor": "rgb(36,36,36)",
              "ticks": "outside"
             }
            },
            "type": "scattergeo"
           }
          ],
          "scattergl": [
           {
            "marker": {
             "colorbar": {
              "outlinewidth": 1,
              "tickcolor": "rgb(36,36,36)",
              "ticks": "outside"
             }
            },
            "type": "scattergl"
           }
          ],
          "scattermapbox": [
           {
            "marker": {
             "colorbar": {
              "outlinewidth": 1,
              "tickcolor": "rgb(36,36,36)",
              "ticks": "outside"
             }
            },
            "type": "scattermapbox"
           }
          ],
          "scatterpolar": [
           {
            "marker": {
             "colorbar": {
              "outlinewidth": 1,
              "tickcolor": "rgb(36,36,36)",
              "ticks": "outside"
             }
            },
            "type": "scatterpolar"
           }
          ],
          "scatterpolargl": [
           {
            "marker": {
             "colorbar": {
              "outlinewidth": 1,
              "tickcolor": "rgb(36,36,36)",
              "ticks": "outside"
             }
            },
            "type": "scatterpolargl"
           }
          ],
          "scatterternary": [
           {
            "marker": {
             "colorbar": {
              "outlinewidth": 1,
              "tickcolor": "rgb(36,36,36)",
              "ticks": "outside"
             }
            },
            "type": "scatterternary"
           }
          ],
          "surface": [
           {
            "colorbar": {
             "outlinewidth": 1,
             "tickcolor": "rgb(36,36,36)",
             "ticks": "outside"
            },
            "colorscale": [
             [
              0,
              "#440154"
             ],
             [
              0.1111111111111111,
              "#482878"
             ],
             [
              0.2222222222222222,
              "#3e4989"
             ],
             [
              0.3333333333333333,
              "#31688e"
             ],
             [
              0.4444444444444444,
              "#26828e"
             ],
             [
              0.5555555555555556,
              "#1f9e89"
             ],
             [
              0.6666666666666666,
              "#35b779"
             ],
             [
              0.7777777777777778,
              "#6ece58"
             ],
             [
              0.8888888888888888,
              "#b5de2b"
             ],
             [
              1,
              "#fde725"
             ]
            ],
            "type": "surface"
           }
          ],
          "table": [
           {
            "cells": {
             "fill": {
              "color": "rgb(237,237,237)"
             },
             "line": {
              "color": "white"
             }
            },
            "header": {
             "fill": {
              "color": "rgb(217,217,217)"
             },
             "line": {
              "color": "white"
             }
            },
            "type": "table"
           }
          ]
         },
         "layout": {
          "annotationdefaults": {
           "arrowhead": 0,
           "arrowwidth": 1
          },
          "autotypenumbers": "strict",
          "coloraxis": {
           "colorbar": {
            "outlinewidth": 1,
            "tickcolor": "rgb(36,36,36)",
            "ticks": "outside"
           }
          },
          "colorscale": {
           "diverging": [
            [
             0,
             "rgb(103,0,31)"
            ],
            [
             0.1,
             "rgb(178,24,43)"
            ],
            [
             0.2,
             "rgb(214,96,77)"
            ],
            [
             0.3,
             "rgb(244,165,130)"
            ],
            [
             0.4,
             "rgb(253,219,199)"
            ],
            [
             0.5,
             "rgb(247,247,247)"
            ],
            [
             0.6,
             "rgb(209,229,240)"
            ],
            [
             0.7,
             "rgb(146,197,222)"
            ],
            [
             0.8,
             "rgb(67,147,195)"
            ],
            [
             0.9,
             "rgb(33,102,172)"
            ],
            [
             1,
             "rgb(5,48,97)"
            ]
           ],
           "sequential": [
            [
             0,
             "#440154"
            ],
            [
             0.1111111111111111,
             "#482878"
            ],
            [
             0.2222222222222222,
             "#3e4989"
            ],
            [
             0.3333333333333333,
             "#31688e"
            ],
            [
             0.4444444444444444,
             "#26828e"
            ],
            [
             0.5555555555555556,
             "#1f9e89"
            ],
            [
             0.6666666666666666,
             "#35b779"
            ],
            [
             0.7777777777777778,
             "#6ece58"
            ],
            [
             0.8888888888888888,
             "#b5de2b"
            ],
            [
             1,
             "#fde725"
            ]
           ],
           "sequentialminus": [
            [
             0,
             "#440154"
            ],
            [
             0.1111111111111111,
             "#482878"
            ],
            [
             0.2222222222222222,
             "#3e4989"
            ],
            [
             0.3333333333333333,
             "#31688e"
            ],
            [
             0.4444444444444444,
             "#26828e"
            ],
            [
             0.5555555555555556,
             "#1f9e89"
            ],
            [
             0.6666666666666666,
             "#35b779"
            ],
            [
             0.7777777777777778,
             "#6ece58"
            ],
            [
             0.8888888888888888,
             "#b5de2b"
            ],
            [
             1,
             "#fde725"
            ]
           ]
          },
          "colorway": [
           "#1F77B4",
           "#FF7F0E",
           "#2CA02C",
           "#D62728",
           "#9467BD",
           "#8C564B",
           "#E377C2",
           "#7F7F7F",
           "#BCBD22",
           "#17BECF"
          ],
          "font": {
           "color": "rgb(36,36,36)"
          },
          "geo": {
           "bgcolor": "white",
           "lakecolor": "white",
           "landcolor": "white",
           "showlakes": true,
           "showland": true,
           "subunitcolor": "white"
          },
          "hoverlabel": {
           "align": "left"
          },
          "hovermode": "closest",
          "mapbox": {
           "style": "light"
          },
          "paper_bgcolor": "white",
          "plot_bgcolor": "white",
          "polar": {
           "angularaxis": {
            "gridcolor": "rgb(232,232,232)",
            "linecolor": "rgb(36,36,36)",
            "showgrid": false,
            "showline": true,
            "ticks": "outside"
           },
           "bgcolor": "white",
           "radialaxis": {
            "gridcolor": "rgb(232,232,232)",
            "linecolor": "rgb(36,36,36)",
            "showgrid": false,
            "showline": true,
            "ticks": "outside"
           }
          },
          "scene": {
           "xaxis": {
            "backgroundcolor": "white",
            "gridcolor": "rgb(232,232,232)",
            "gridwidth": 2,
            "linecolor": "rgb(36,36,36)",
            "showbackground": true,
            "showgrid": false,
            "showline": true,
            "ticks": "outside",
            "zeroline": false,
            "zerolinecolor": "rgb(36,36,36)"
           },
           "yaxis": {
            "backgroundcolor": "white",
            "gridcolor": "rgb(232,232,232)",
            "gridwidth": 2,
            "linecolor": "rgb(36,36,36)",
            "showbackground": true,
            "showgrid": false,
            "showline": true,
            "ticks": "outside",
            "zeroline": false,
            "zerolinecolor": "rgb(36,36,36)"
           },
           "zaxis": {
            "backgroundcolor": "white",
            "gridcolor": "rgb(232,232,232)",
            "gridwidth": 2,
            "linecolor": "rgb(36,36,36)",
            "showbackground": true,
            "showgrid": false,
            "showline": true,
            "ticks": "outside",
            "zeroline": false,
            "zerolinecolor": "rgb(36,36,36)"
           }
          },
          "shapedefaults": {
           "fillcolor": "black",
           "line": {
            "width": 0
           },
           "opacity": 0.3
          },
          "ternary": {
           "aaxis": {
            "gridcolor": "rgb(232,232,232)",
            "linecolor": "rgb(36,36,36)",
            "showgrid": false,
            "showline": true,
            "ticks": "outside"
           },
           "baxis": {
            "gridcolor": "rgb(232,232,232)",
            "linecolor": "rgb(36,36,36)",
            "showgrid": false,
            "showline": true,
            "ticks": "outside"
           },
           "bgcolor": "white",
           "caxis": {
            "gridcolor": "rgb(232,232,232)",
            "linecolor": "rgb(36,36,36)",
            "showgrid": false,
            "showline": true,
            "ticks": "outside"
           }
          },
          "title": {
           "x": 0.05
          },
          "xaxis": {
           "automargin": true,
           "gridcolor": "rgb(232,232,232)",
           "linecolor": "rgb(36,36,36)",
           "showgrid": false,
           "showline": true,
           "ticks": "outside",
           "title": {
            "standoff": 15
           },
           "zeroline": false,
           "zerolinecolor": "rgb(36,36,36)"
          },
          "yaxis": {
           "automargin": true,
           "gridcolor": "rgb(232,232,232)",
           "linecolor": "rgb(36,36,36)",
           "showgrid": false,
           "showline": true,
           "ticks": "outside",
           "title": {
            "standoff": 15
           },
           "zeroline": false,
           "zerolinecolor": "rgb(36,36,36)"
          }
         }
        },
        "title": {
         "font": {
          "size": 15
         },
         "text": "Emisiones totales de co2 por combustible e industria - Argentina"
        },
        "xaxis": {
         "anchor": "y",
         "domain": [
          0,
          1
         ],
         "title": {
          "text": "Año"
         }
        },
        "yaxis": {
         "anchor": "x",
         "domain": [
          0,
          1
         ],
         "title": {
          "text": "Millones de toneladas de co2"
         }
        }
       }
      }
     },
     "metadata": {},
     "output_type": "display_data"
    }
   ],
   "source": [
    "fig = px.area(grafico3, x='year', y=['coal_co2', 'flaring_co2', 'gas_co2', 'oil_co2', 'other_industry_co2', 'cement_co2'],\n",
    "              title='Emisiones totales de co2 por combustible e industria - Argentina', template=\"simple_white\",\n",
    "                 color_discrete_sequence= my_colors)\n",
    "fig.update_layout(xaxis_title='Año', yaxis_title='Millones de toneladas de co2', title_font_size=15)\n",
    "fig.show()"
   ]
  },
  {
   "attachments": {},
   "cell_type": "markdown",
   "id": "dfaf6cf2",
   "metadata": {},
   "source": [
    "Sin embargo, a pesar de que vemos un alto crecimeinto a lo largo de todo el periodo, podemos ver que desde los 2000 las emisiones de la mayor parte de los combustibles se encuentan estables, lo que se ve tambien el el siguiende grafico a traves de tasas de variacion. Tengamos en cuenta que en este grafico, las emisiones de cada combustible se encunetran apiladas, por lo que en orden de incidencia viene el oil, gas, cemento, carbon y otros.\n",
    "\n",
    "A partir de 2010, la estabilidad relativa de las emisiones puede relacionarse a un estancamiento del PIB, veamos que en 2021 hay una fuerte expansion de las emisiones lo que podria relacionarse con la recuperacion economica luego de la caida de la actividad durante 2020."
   ]
  },
  {
   "cell_type": "code",
   "execution_count": 111,
   "id": "babaf05e",
   "metadata": {},
   "outputs": [
    {
     "data": {
      "application/vnd.plotly.v1+json": {
       "config": {
        "plotlyServerURL": "https://plot.ly"
       },
       "data": [
        {
         "alignmentgroup": "True",
         "hovertemplate": "Fuente de emisiones=coal_co2<br>year=%{x}<br>Tasa de variación=%{y}<extra></extra>",
         "legendgroup": "coal_co2",
         "marker": {
          "color": "#1F77B4",
          "pattern": {
           "shape": ""
          }
         },
         "name": "coal_co2",
         "offsetgroup": "coal_co2",
         "orientation": "v",
         "showlegend": true,
         "textposition": "auto",
         "type": "bar",
         "x": [
          "1928-01-01T00:00:00",
          "1929-01-01T00:00:00",
          "1930-01-01T00:00:00",
          "1931-01-01T00:00:00",
          "1932-01-01T00:00:00",
          "1933-01-01T00:00:00",
          "1934-01-01T00:00:00",
          "1935-01-01T00:00:00",
          "1936-01-01T00:00:00",
          "1937-01-01T00:00:00",
          "1938-01-01T00:00:00",
          "1939-01-01T00:00:00",
          "1940-01-01T00:00:00",
          "1941-01-01T00:00:00",
          "1942-01-01T00:00:00",
          "1943-01-01T00:00:00",
          "1944-01-01T00:00:00",
          "1945-01-01T00:00:00",
          "1946-01-01T00:00:00",
          "1947-01-01T00:00:00",
          "1948-01-01T00:00:00",
          "1949-01-01T00:00:00",
          "1950-01-01T00:00:00",
          "1951-01-01T00:00:00",
          "1952-01-01T00:00:00",
          "1953-01-01T00:00:00",
          "1954-01-01T00:00:00",
          "1955-01-01T00:00:00",
          "1956-01-01T00:00:00",
          "1957-01-01T00:00:00",
          "1958-01-01T00:00:00",
          "1959-01-01T00:00:00",
          "1960-01-01T00:00:00",
          "1961-01-01T00:00:00",
          "1962-01-01T00:00:00",
          "1963-01-01T00:00:00",
          "1964-01-01T00:00:00",
          "1965-01-01T00:00:00",
          "1966-01-01T00:00:00",
          "1967-01-01T00:00:00",
          "1968-01-01T00:00:00",
          "1969-01-01T00:00:00",
          "1970-01-01T00:00:00",
          "1971-01-01T00:00:00",
          "1972-01-01T00:00:00",
          "1973-01-01T00:00:00",
          "1974-01-01T00:00:00",
          "1975-01-01T00:00:00",
          "1976-01-01T00:00:00",
          "1977-01-01T00:00:00",
          "1978-01-01T00:00:00",
          "1979-01-01T00:00:00",
          "1980-01-01T00:00:00",
          "1981-01-01T00:00:00",
          "1982-01-01T00:00:00",
          "1983-01-01T00:00:00",
          "1984-01-01T00:00:00",
          "1985-01-01T00:00:00",
          "1986-01-01T00:00:00",
          "1987-01-01T00:00:00",
          "1988-01-01T00:00:00",
          "1989-01-01T00:00:00",
          "1990-01-01T00:00:00",
          "1991-01-01T00:00:00",
          "1992-01-01T00:00:00",
          "1993-01-01T00:00:00",
          "1994-01-01T00:00:00",
          "1995-01-01T00:00:00",
          "1996-01-01T00:00:00",
          "1997-01-01T00:00:00",
          "1998-01-01T00:00:00",
          "1999-01-01T00:00:00",
          "2000-01-01T00:00:00",
          "2001-01-01T00:00:00",
          "2002-01-01T00:00:00",
          "2003-01-01T00:00:00",
          "2004-01-01T00:00:00",
          "2005-01-01T00:00:00",
          "2006-01-01T00:00:00",
          "2007-01-01T00:00:00",
          "2008-01-01T00:00:00",
          "2009-01-01T00:00:00",
          "2010-01-01T00:00:00",
          "2011-01-01T00:00:00",
          "2012-01-01T00:00:00",
          "2013-01-01T00:00:00",
          "2014-01-01T00:00:00",
          "2015-01-01T00:00:00",
          "2016-01-01T00:00:00",
          "2017-01-01T00:00:00",
          "2018-01-01T00:00:00",
          "2019-01-01T00:00:00",
          "2020-01-01T00:00:00",
          "2021-01-01T00:00:00"
         ],
         "xaxis": "x",
         "y": [
          null,
          0.004466441332689364,
          -0.024275928373993505,
          -0.14435275280206916,
          -0.0886713689362314,
          -0.058758489969989114,
          0.1043799295183756,
          -0.03707643215316836,
          0.10257219504497406,
          0.16759696579361671,
          -0.09340524638391756,
          0.04975662520281232,
          -0.3084750128799588,
          -0.4997206183646862,
          -0.4843633655994043,
          0.1184115523465703,
          0.06455777921239525,
          0.24014554275318378,
          0.487041564792176,
          0.0700427490956923,
          0.7870313460356486,
          -0.3812553740326742,
          -0.010283490828237873,
          0.5360853692782925,
          -0.17605118829981725,
          -0.3090747725759929,
          0.19524727039177914,
          -0.1375604513702311,
          0.18816199376947051,
          -0.11903513371788155,
          0.12529761904761916,
          -0.013488495107114584,
          0.04718498659517434,
          -0.09395801331285203,
          -0.4326080813789206,
          0.14790836653386452,
          0.1093275488069414,
          0.01720766523269468,
          -0.00538254517493264,
          0.13606494008504044,
          -0.19462402177611438,
          0.09421208280523863,
          0.2691119691119692,
          -0.10921813203529052,
          -0.02390710382513661,
          0.007697690692792136,
          0.16909722222222223,
          0.06741906741906734,
          -0.0987757373400111,
          -0.16517443655449204,
          0.4175295857988166,
          -0.06026611009653027,
          -0.2046085508051082,
          0.032111692844676964,
          -0.10043963476496442,
          -0.17631578947368431,
          -0.020082154267457852,
          0.2920353982300887,
          0.2231434751261716,
          0.11346890657235487,
          0.06484912652196928,
          0.03007705692269469,
          -0.2591698841698842,
          -0.12410423452768726,
          0.04239494235775387,
          -0.17909382804138418,
          0.5475880052151236,
          0.039314799213703955,
          -0.16238854363685484,
          -0.10419354838709671,
          0.022686352178609814,
          -0.2415492957746479,
          -0.2311977715877438,
          -0.22101449275362317,
          -0.148062015503876,
          0.8107370336669699,
          0.10452261306532651,
          0.48680618744313,
          0.1829865361077112,
          -0.05328504914640453,
          0.05928961748633865,
          -0.16636574671137472,
          0.23452970297029707,
          0.18370927318295727,
          0.06055473216176166,
          -0.033739269315232634,
          0.14380165289256186,
          -0.012463872832369938,
          -0.23321748673861342,
          0.020753816793892987,
          0.01799485861182526,
          -0.5080348943985308,
          0.2328511432571163,
          0.8228614685844058
         ],
         "yaxis": "y"
        },
        {
         "alignmentgroup": "True",
         "hovertemplate": "Fuente de emisiones=flaring_co2<br>year=%{x}<br>Tasa de variación=%{y}<extra></extra>",
         "legendgroup": "flaring_co2",
         "marker": {
          "color": "#FF7F0E",
          "pattern": {
           "shape": ""
          }
         },
         "name": "flaring_co2",
         "offsetgroup": "flaring_co2",
         "orientation": "v",
         "showlegend": true,
         "textposition": "auto",
         "type": "bar",
         "x": [
          "1928-01-01T00:00:00",
          "1929-01-01T00:00:00",
          "1930-01-01T00:00:00",
          "1931-01-01T00:00:00",
          "1932-01-01T00:00:00",
          "1933-01-01T00:00:00",
          "1934-01-01T00:00:00",
          "1935-01-01T00:00:00",
          "1936-01-01T00:00:00",
          "1937-01-01T00:00:00",
          "1938-01-01T00:00:00",
          "1939-01-01T00:00:00",
          "1940-01-01T00:00:00",
          "1941-01-01T00:00:00",
          "1942-01-01T00:00:00",
          "1943-01-01T00:00:00",
          "1944-01-01T00:00:00",
          "1945-01-01T00:00:00",
          "1946-01-01T00:00:00",
          "1947-01-01T00:00:00",
          "1948-01-01T00:00:00",
          "1949-01-01T00:00:00",
          "1950-01-01T00:00:00",
          "1951-01-01T00:00:00",
          "1952-01-01T00:00:00",
          "1953-01-01T00:00:00",
          "1954-01-01T00:00:00",
          "1955-01-01T00:00:00",
          "1956-01-01T00:00:00",
          "1957-01-01T00:00:00",
          "1958-01-01T00:00:00",
          "1959-01-01T00:00:00",
          "1960-01-01T00:00:00",
          "1961-01-01T00:00:00",
          "1962-01-01T00:00:00",
          "1963-01-01T00:00:00",
          "1964-01-01T00:00:00",
          "1965-01-01T00:00:00",
          "1966-01-01T00:00:00",
          "1967-01-01T00:00:00",
          "1968-01-01T00:00:00",
          "1969-01-01T00:00:00",
          "1970-01-01T00:00:00",
          "1971-01-01T00:00:00",
          "1972-01-01T00:00:00",
          "1973-01-01T00:00:00",
          "1974-01-01T00:00:00",
          "1975-01-01T00:00:00",
          "1976-01-01T00:00:00",
          "1977-01-01T00:00:00",
          "1978-01-01T00:00:00",
          "1979-01-01T00:00:00",
          "1980-01-01T00:00:00",
          "1981-01-01T00:00:00",
          "1982-01-01T00:00:00",
          "1983-01-01T00:00:00",
          "1984-01-01T00:00:00",
          "1985-01-01T00:00:00",
          "1986-01-01T00:00:00",
          "1987-01-01T00:00:00",
          "1988-01-01T00:00:00",
          "1989-01-01T00:00:00",
          "1990-01-01T00:00:00",
          "1991-01-01T00:00:00",
          "1992-01-01T00:00:00",
          "1993-01-01T00:00:00",
          "1994-01-01T00:00:00",
          "1995-01-01T00:00:00",
          "1996-01-01T00:00:00",
          "1997-01-01T00:00:00",
          "1998-01-01T00:00:00",
          "1999-01-01T00:00:00",
          "2000-01-01T00:00:00",
          "2001-01-01T00:00:00",
          "2002-01-01T00:00:00",
          "2003-01-01T00:00:00",
          "2004-01-01T00:00:00",
          "2005-01-01T00:00:00",
          "2006-01-01T00:00:00",
          "2007-01-01T00:00:00",
          "2008-01-01T00:00:00",
          "2009-01-01T00:00:00",
          "2010-01-01T00:00:00",
          "2011-01-01T00:00:00",
          "2012-01-01T00:00:00",
          "2013-01-01T00:00:00",
          "2014-01-01T00:00:00",
          "2015-01-01T00:00:00",
          "2016-01-01T00:00:00",
          "2017-01-01T00:00:00",
          "2018-01-01T00:00:00",
          "2019-01-01T00:00:00",
          "2020-01-01T00:00:00",
          "2021-01-01T00:00:00"
         ],
         "xaxis": "x",
         "y": [
          null,
          null,
          null,
          null,
          null,
          null,
          null,
          null,
          null,
          null,
          null,
          null,
          null,
          null,
          null,
          null,
          null,
          null,
          null,
          null,
          null,
          null,
          null,
          null,
          null,
          null,
          null,
          null,
          null,
          null,
          null,
          null,
          null,
          null,
          null,
          null,
          null,
          null,
          null,
          0.19232409381663085,
          0.028612303290414864,
          -0.015299026425591111,
          -0.007768361581920846,
          0.011743772241992856,
          -0.03482237073513883,
          0.14030612244897944,
          -0.021093000958772756,
          0.27391446294482535,
          0.3541773449513068,
          0.02346707040121121,
          0.15588017751479288,
          0.055671092625179996,
          -0.06713138354296111,
          -0.1643924626380766,
          0.08767496111975115,
          -0.07131367292225199,
          0.37586605080831426,
          -0.13442439502028258,
          -0.2236586942469294,
          -0.005412156536219959,
          0.22854750941816682,
          0.0667802385008518,
          -0.23586713510060675,
          -0.14231974921630097,
          -0.026072124756335358,
          0.1891418563922942,
          0.20723753418893343,
          -0.05681422098292099,
          0.06762749445676275,
          -0.4248875043267566,
          -0.3560036111947036,
          -0.30140186915887845,
          -0.2916387959866221,
          0.02738432483474984,
          0.32996323529411753,
          0.33724948168624747,
          -0.26511627906976754,
          -0.18565400843881863,
          0.0345423143350605,
          0.21702838063439067,
          0.00274348422496562,
          0.04787961696306442,
          -0.026762402088772785,
          -0.014755197853789426,
          -0.23008849557522126,
          0.14146772767462412,
          0.07513555383423709,
          -0.1224783861671469,
          -0.30952380952380953,
          0.14149821640903681,
          0.41562500000000013,
          0.30316409124356136,
          0.12196499153020901,
          0.1701056869652744
         ],
         "yaxis": "y"
        },
        {
         "alignmentgroup": "True",
         "hovertemplate": "Fuente de emisiones=gas_co2<br>year=%{x}<br>Tasa de variación=%{y}<extra></extra>",
         "legendgroup": "gas_co2",
         "marker": {
          "color": "#2CA02C",
          "pattern": {
           "shape": ""
          }
         },
         "name": "gas_co2",
         "offsetgroup": "gas_co2",
         "orientation": "v",
         "showlegend": true,
         "textposition": "auto",
         "type": "bar",
         "x": [
          "1928-01-01T00:00:00",
          "1929-01-01T00:00:00",
          "1930-01-01T00:00:00",
          "1931-01-01T00:00:00",
          "1932-01-01T00:00:00",
          "1933-01-01T00:00:00",
          "1934-01-01T00:00:00",
          "1935-01-01T00:00:00",
          "1936-01-01T00:00:00",
          "1937-01-01T00:00:00",
          "1938-01-01T00:00:00",
          "1939-01-01T00:00:00",
          "1940-01-01T00:00:00",
          "1941-01-01T00:00:00",
          "1942-01-01T00:00:00",
          "1943-01-01T00:00:00",
          "1944-01-01T00:00:00",
          "1945-01-01T00:00:00",
          "1946-01-01T00:00:00",
          "1947-01-01T00:00:00",
          "1948-01-01T00:00:00",
          "1949-01-01T00:00:00",
          "1950-01-01T00:00:00",
          "1951-01-01T00:00:00",
          "1952-01-01T00:00:00",
          "1953-01-01T00:00:00",
          "1954-01-01T00:00:00",
          "1955-01-01T00:00:00",
          "1956-01-01T00:00:00",
          "1957-01-01T00:00:00",
          "1958-01-01T00:00:00",
          "1959-01-01T00:00:00",
          "1960-01-01T00:00:00",
          "1961-01-01T00:00:00",
          "1962-01-01T00:00:00",
          "1963-01-01T00:00:00",
          "1964-01-01T00:00:00",
          "1965-01-01T00:00:00",
          "1966-01-01T00:00:00",
          "1967-01-01T00:00:00",
          "1968-01-01T00:00:00",
          "1969-01-01T00:00:00",
          "1970-01-01T00:00:00",
          "1971-01-01T00:00:00",
          "1972-01-01T00:00:00",
          "1973-01-01T00:00:00",
          "1974-01-01T00:00:00",
          "1975-01-01T00:00:00",
          "1976-01-01T00:00:00",
          "1977-01-01T00:00:00",
          "1978-01-01T00:00:00",
          "1979-01-01T00:00:00",
          "1980-01-01T00:00:00",
          "1981-01-01T00:00:00",
          "1982-01-01T00:00:00",
          "1983-01-01T00:00:00",
          "1984-01-01T00:00:00",
          "1985-01-01T00:00:00",
          "1986-01-01T00:00:00",
          "1987-01-01T00:00:00",
          "1988-01-01T00:00:00",
          "1989-01-01T00:00:00",
          "1990-01-01T00:00:00",
          "1991-01-01T00:00:00",
          "1992-01-01T00:00:00",
          "1993-01-01T00:00:00",
          "1994-01-01T00:00:00",
          "1995-01-01T00:00:00",
          "1996-01-01T00:00:00",
          "1997-01-01T00:00:00",
          "1998-01-01T00:00:00",
          "1999-01-01T00:00:00",
          "2000-01-01T00:00:00",
          "2001-01-01T00:00:00",
          "2002-01-01T00:00:00",
          "2003-01-01T00:00:00",
          "2004-01-01T00:00:00",
          "2005-01-01T00:00:00",
          "2006-01-01T00:00:00",
          "2007-01-01T00:00:00",
          "2008-01-01T00:00:00",
          "2009-01-01T00:00:00",
          "2010-01-01T00:00:00",
          "2011-01-01T00:00:00",
          "2012-01-01T00:00:00",
          "2013-01-01T00:00:00",
          "2014-01-01T00:00:00",
          "2015-01-01T00:00:00",
          "2016-01-01T00:00:00",
          "2017-01-01T00:00:00",
          "2018-01-01T00:00:00",
          "2019-01-01T00:00:00",
          "2020-01-01T00:00:00",
          "2021-01-01T00:00:00"
         ],
         "xaxis": "x",
         "y": [
          null,
          0.5420875420875422,
          -0.008733624454148492,
          0.2422907488986783,
          0.3634751773049647,
          0.3446033810143043,
          0.20793036750483562,
          -0.15452361889511612,
          -0.13636363636363635,
          -0.05153508771929827,
          -0.030057803468208077,
          0.05721096543504167,
          0.03269447576099216,
          0.10807860262008728,
          0.13694581280788176,
          0.0034662045060658286,
          -0.022452504317789335,
          -0.08038869257950532,
          -0.07108549471661862,
          0.031023784901758056,
          -0.23169508525576732,
          0.4830287206266317,
          -1,
          null,
          0.08251057827926656,
          -0.22214983713355052,
          0.012562814070351758,
          0.014888337468982549,
          0.06275468622656888,
          0.11809815950920233,
          0.015089163237311354,
          -0.004729729729729626,
          0.6042090970807874,
          0.7054591620820991,
          0.26749379652605443,
          0.14115113547376668,
          0.1094527363184079,
          0.1206123395701253,
          0.08293086794535665,
          0.04587155963302747,
          0.11379142300194922,
          -0.004047254430102676,
          0.1291598023064251,
          0.07197743410174118,
          0.1313855367026584,
          0.13778169861255907,
          0.051878480298865215,
          0.05354151310058297,
          0.04738582877496489,
          0.026598651849153,
          -0.028334812185744074,
          0.09679775964933635,
          0.08603463587921856,
          0.04696923234181738,
          0.1349279960947034,
          0.12968299711815567,
          0.03948370392933298,
          0.055236071938757014,
          0.0748030129473427,
          0.18521508848985913,
          0.15079429957219537,
          0.056259323278005535,
          -0.031294133470824326,
          0.09420776155323618,
          0.021550630234328683,
          -0.15514564312775603,
          0.045774216471856644,
          0.24645593645289043,
          0.0817182065983646,
          0.06885405442980774,
          0.0017885015608740673,
          0.09749407602168336,
          0.026870350926487374,
          -0.06666378639937798,
          -0.03377617306238334,
          0.1030022357074416,
          0.20039090777472146,
          -0.011385702741493975,
          0.023204460331596843,
          0.03945438719908423,
          0.0337470462731424,
          -0.023579671549045722,
          -0.01212568895960009,
          0.0650998527517026,
          0.030177022692170485,
          -0.04238789696061063,
          0.01648820863167577,
          0.007442591874542215,
          0.02959320040626512,
          0.001443361058326209,
          -0.0033076875220338087,
          -0.005357718756176966,
          -0.05642833235712508,
          0.04561426845354899
         ],
         "yaxis": "y"
        },
        {
         "alignmentgroup": "True",
         "hovertemplate": "Fuente de emisiones=oil_co2<br>year=%{x}<br>Tasa de variación=%{y}<extra></extra>",
         "legendgroup": "oil_co2",
         "marker": {
          "color": "#D62728",
          "pattern": {
           "shape": ""
          }
         },
         "name": "oil_co2",
         "offsetgroup": "oil_co2",
         "orientation": "v",
         "showlegend": true,
         "textposition": "auto",
         "type": "bar",
         "x": [
          "1928-01-01T00:00:00",
          "1929-01-01T00:00:00",
          "1930-01-01T00:00:00",
          "1931-01-01T00:00:00",
          "1932-01-01T00:00:00",
          "1933-01-01T00:00:00",
          "1934-01-01T00:00:00",
          "1935-01-01T00:00:00",
          "1936-01-01T00:00:00",
          "1937-01-01T00:00:00",
          "1938-01-01T00:00:00",
          "1939-01-01T00:00:00",
          "1940-01-01T00:00:00",
          "1941-01-01T00:00:00",
          "1942-01-01T00:00:00",
          "1943-01-01T00:00:00",
          "1944-01-01T00:00:00",
          "1945-01-01T00:00:00",
          "1946-01-01T00:00:00",
          "1947-01-01T00:00:00",
          "1948-01-01T00:00:00",
          "1949-01-01T00:00:00",
          "1950-01-01T00:00:00",
          "1951-01-01T00:00:00",
          "1952-01-01T00:00:00",
          "1953-01-01T00:00:00",
          "1954-01-01T00:00:00",
          "1955-01-01T00:00:00",
          "1956-01-01T00:00:00",
          "1957-01-01T00:00:00",
          "1958-01-01T00:00:00",
          "1959-01-01T00:00:00",
          "1960-01-01T00:00:00",
          "1961-01-01T00:00:00",
          "1962-01-01T00:00:00",
          "1963-01-01T00:00:00",
          "1964-01-01T00:00:00",
          "1965-01-01T00:00:00",
          "1966-01-01T00:00:00",
          "1967-01-01T00:00:00",
          "1968-01-01T00:00:00",
          "1969-01-01T00:00:00",
          "1970-01-01T00:00:00",
          "1971-01-01T00:00:00",
          "1972-01-01T00:00:00",
          "1973-01-01T00:00:00",
          "1974-01-01T00:00:00",
          "1975-01-01T00:00:00",
          "1976-01-01T00:00:00",
          "1977-01-01T00:00:00",
          "1978-01-01T00:00:00",
          "1979-01-01T00:00:00",
          "1980-01-01T00:00:00",
          "1981-01-01T00:00:00",
          "1982-01-01T00:00:00",
          "1983-01-01T00:00:00",
          "1984-01-01T00:00:00",
          "1985-01-01T00:00:00",
          "1986-01-01T00:00:00",
          "1987-01-01T00:00:00",
          "1988-01-01T00:00:00",
          "1989-01-01T00:00:00",
          "1990-01-01T00:00:00",
          "1991-01-01T00:00:00",
          "1992-01-01T00:00:00",
          "1993-01-01T00:00:00",
          "1994-01-01T00:00:00",
          "1995-01-01T00:00:00",
          "1996-01-01T00:00:00",
          "1997-01-01T00:00:00",
          "1998-01-01T00:00:00",
          "1999-01-01T00:00:00",
          "2000-01-01T00:00:00",
          "2001-01-01T00:00:00",
          "2002-01-01T00:00:00",
          "2003-01-01T00:00:00",
          "2004-01-01T00:00:00",
          "2005-01-01T00:00:00",
          "2006-01-01T00:00:00",
          "2007-01-01T00:00:00",
          "2008-01-01T00:00:00",
          "2009-01-01T00:00:00",
          "2010-01-01T00:00:00",
          "2011-01-01T00:00:00",
          "2012-01-01T00:00:00",
          "2013-01-01T00:00:00",
          "2014-01-01T00:00:00",
          "2015-01-01T00:00:00",
          "2016-01-01T00:00:00",
          "2017-01-01T00:00:00",
          "2018-01-01T00:00:00",
          "2019-01-01T00:00:00",
          "2020-01-01T00:00:00",
          "2021-01-01T00:00:00"
         ],
         "xaxis": "x",
         "y": [
          null,
          0.033655035882207196,
          -0.04117787886042612,
          0.2651685393258427,
          0.13518847444247073,
          0.04050764951321284,
          0.024227234753550375,
          0.01941272430668839,
          0.08593374939990395,
          0.05747126436781613,
          0.044871794871794934,
          0.08975726860496125,
          0.10696365193978719,
          0.06821448313985634,
          0.07731318567584355,
          0.04697857623210666,
          -0.02394934850431263,
          -0.0558428128231645,
          -0.0908095190680075,
          0.050377833753148415,
          0.062767177562298,
          -0.027273619150397388,
          1.580131114473021,
          0.06731295442107732,
          0.07259009668912997,
          0.02465341801543386,
          0.032258064516129004,
          0.10408057851239683,
          0.11570175438596464,
          0.09073040333359561,
          -0.09392344842499822,
          0.1290373906125697,
          -0.03253006388575719,
          0.02257774756621589,
          0.07020251181121062,
          -0.09834065397754999,
          0.11224012793701554,
          0.046829030902293844,
          0.026329135322457953,
          0.02485073090385015,
          0.05590935572654043,
          0.15245433789954332,
          0.05535469598666065,
          0.08436316991521453,
          -0.00031737330313486023,
          0.027605812661442686,
          0.0033983991012498382,
          -0.035534344734927004,
          0.04288015323668981,
          0.011604608448822828,
          0.0027096916178372954,
          0.08469251978765135,
          -0.03243837972506414,
          -0.08429183876195956,
          -0.014659073066986439,
          -0.005186000695329596,
          -0.020924949762646916,
          -0.10116453738269093,
          0.029204930917514638,
          0.0683922829581991,
          -0.003340656694856503,
          -0.09782280468655635,
          -0.009455592187839867,
          0.03455092248428726,
          0.039194551957278057,
          0.0553329247403076,
          0.0007296661405129523,
          -0.06498221805574167,
          0.04909605958367824,
          0.014365680132279346,
          0.04049769695519534,
          0.04525985972174307,
          -0.07275352354761078,
          -0.045941216596968926,
          -0.10630129321064408,
          0.032349513887681036,
          0.1424431827754098,
          0.05880965020940243,
          0.14083565459610048,
          -0.04834456489891603,
          0.1373409277504105,
          -0.07080015339845247,
          0.09424503222830505,
          -0.03590881357812403,
          -0.015199981589727019,
          0.02219963312185258,
          -0.03651971149999422,
          0.031580695676932447,
          -0.0275777997561929,
          -0.04375798287525434,
          -0.07994459285643607,
          0.006129691364662904,
          -0.052573215049166344,
          0.1325003877991342
         ],
         "yaxis": "y"
        },
        {
         "alignmentgroup": "True",
         "hovertemplate": "Fuente de emisiones=cement_co2<br>year=%{x}<br>Tasa de variación=%{y}<extra></extra>",
         "legendgroup": "cement_co2",
         "marker": {
          "color": "#9467BD",
          "pattern": {
           "shape": ""
          }
         },
         "name": "cement_co2",
         "offsetgroup": "cement_co2",
         "orientation": "v",
         "showlegend": true,
         "textposition": "auto",
         "type": "bar",
         "x": [
          "1928-01-01T00:00:00",
          "1929-01-01T00:00:00",
          "1930-01-01T00:00:00",
          "1931-01-01T00:00:00",
          "1932-01-01T00:00:00",
          "1933-01-01T00:00:00",
          "1934-01-01T00:00:00",
          "1935-01-01T00:00:00",
          "1936-01-01T00:00:00",
          "1937-01-01T00:00:00",
          "1938-01-01T00:00:00",
          "1939-01-01T00:00:00",
          "1940-01-01T00:00:00",
          "1941-01-01T00:00:00",
          "1942-01-01T00:00:00",
          "1943-01-01T00:00:00",
          "1944-01-01T00:00:00",
          "1945-01-01T00:00:00",
          "1946-01-01T00:00:00",
          "1947-01-01T00:00:00",
          "1948-01-01T00:00:00",
          "1949-01-01T00:00:00",
          "1950-01-01T00:00:00",
          "1951-01-01T00:00:00",
          "1952-01-01T00:00:00",
          "1953-01-01T00:00:00",
          "1954-01-01T00:00:00",
          "1955-01-01T00:00:00",
          "1956-01-01T00:00:00",
          "1957-01-01T00:00:00",
          "1958-01-01T00:00:00",
          "1959-01-01T00:00:00",
          "1960-01-01T00:00:00",
          "1961-01-01T00:00:00",
          "1962-01-01T00:00:00",
          "1963-01-01T00:00:00",
          "1964-01-01T00:00:00",
          "1965-01-01T00:00:00",
          "1966-01-01T00:00:00",
          "1967-01-01T00:00:00",
          "1968-01-01T00:00:00",
          "1969-01-01T00:00:00",
          "1970-01-01T00:00:00",
          "1971-01-01T00:00:00",
          "1972-01-01T00:00:00",
          "1973-01-01T00:00:00",
          "1974-01-01T00:00:00",
          "1975-01-01T00:00:00",
          "1976-01-01T00:00:00",
          "1977-01-01T00:00:00",
          "1978-01-01T00:00:00",
          "1979-01-01T00:00:00",
          "1980-01-01T00:00:00",
          "1981-01-01T00:00:00",
          "1982-01-01T00:00:00",
          "1983-01-01T00:00:00",
          "1984-01-01T00:00:00",
          "1985-01-01T00:00:00",
          "1986-01-01T00:00:00",
          "1987-01-01T00:00:00",
          "1988-01-01T00:00:00",
          "1989-01-01T00:00:00",
          "1990-01-01T00:00:00",
          "1991-01-01T00:00:00",
          "1992-01-01T00:00:00",
          "1993-01-01T00:00:00",
          "1994-01-01T00:00:00",
          "1995-01-01T00:00:00",
          "1996-01-01T00:00:00",
          "1997-01-01T00:00:00",
          "1998-01-01T00:00:00",
          "1999-01-01T00:00:00",
          "2000-01-01T00:00:00",
          "2001-01-01T00:00:00",
          "2002-01-01T00:00:00",
          "2003-01-01T00:00:00",
          "2004-01-01T00:00:00",
          "2005-01-01T00:00:00",
          "2006-01-01T00:00:00",
          "2007-01-01T00:00:00",
          "2008-01-01T00:00:00",
          "2009-01-01T00:00:00",
          "2010-01-01T00:00:00",
          "2011-01-01T00:00:00",
          "2012-01-01T00:00:00",
          "2013-01-01T00:00:00",
          "2014-01-01T00:00:00",
          "2015-01-01T00:00:00",
          "2016-01-01T00:00:00",
          "2017-01-01T00:00:00",
          "2018-01-01T00:00:00",
          "2019-01-01T00:00:00",
          "2020-01-01T00:00:00",
          "2021-01-01T00:00:00"
         ],
         "xaxis": "x",
         "y": [
          null,
          0.4999999999999998,
          0.0862068965517242,
          0.4021164021164021,
          -0.06792452830188689,
          0.028340080971659853,
          0.10236220472440949,
          0.27142857142857135,
          0.1544943820224718,
          0.24574209245742096,
          0.19921875,
          -0.09446254071661231,
          -0.039568345323741094,
          0.08239700374531811,
          -0.08131487889273348,
          -0.11111111111111116,
          0.13135593220338992,
          0.0074906367041198685,
          0.04646840148698872,
          0.19538188277087043,
          -0.08172362555720658,
          0.15857605177993528,
          0.08659217877094982,
          -0.010282776349614386,
          -0.003896103896103953,
          0.06649282920469357,
          0.030562347188264116,
          0.09489916963226586,
          0.10617551462621866,
          0.1459353574926543,
          0.04358974358974366,
          -0.04176904176904195,
          0.11538461538461542,
          0.10038314176245211,
          0.0069637883008357715,
          -0.13278008298755184,
          0.1475279106858054,
          0.13412091730368303,
          0.05575980392156876,
          0.01915264074289036,
          0.17539863325740312,
          0.04069767441860472,
          0.0912476722532587,
          0.16723549488054634,
          -0.01352339181286566,
          -0.047795479807336005,
          0.040856031128404746,
          0.01495327102803734,
          0.04677716390423581,
          0.05102040816326525,
          0.053900234348845055,
          0.057179161372299836,
          0.0703125,
          -0.0670971364402021,
          -0.1528739091182666,
          0.001065719360568318,
          -0.07061745919091544,
          -0.11187476135929753,
          0.1994840928632846,
          0.1362007168458781,
          -0.0384858044164037,
          -0.26049868766404205,
          -0.191659272404614,
          0.20526893523600442,
          0.13615664845173048,
          0.10661322645290583,
          0.10467222021006872,
          -0.14065573770491802,
          -0.07592521938191521,
          0.3084227910817505,
          0.03597349321552534,
          0.002132196162046851,
          -0.15775075987841947,
          -0.10465535907614576,
          -0.3031035872632003,
          0.31868131868131844,
          0.18464912280701773,
          0.1999259533506108,
          0.16136994754705336,
          0.06216790648246562,
          -0.002001000500250094,
          -0.045112781954887216,
          0.09658792650918624,
          0.09765438008616578,
          -0.08765808983863932,
          0.09488527724665397,
          -0.053481772538746974,
          0.05419741697416969,
          -0.11857361627652585,
          0.08265078183172014,
          0.0016047684548372576,
          -0.05218585488670169,
          -0.15286162762617728,
          0.3315279361459522
         ],
         "yaxis": "y"
        }
       ],
       "layout": {
        "barmode": "relative",
        "legend": {
         "title": {
          "text": "Fuente de emisiones"
         },
         "tracegroupgap": 0
        },
        "template": {
         "data": {
          "bar": [
           {
            "error_x": {
             "color": "rgb(36,36,36)"
            },
            "error_y": {
             "color": "rgb(36,36,36)"
            },
            "marker": {
             "line": {
              "color": "white",
              "width": 0.5
             },
             "pattern": {
              "fillmode": "overlay",
              "size": 10,
              "solidity": 0.2
             }
            },
            "type": "bar"
           }
          ],
          "barpolar": [
           {
            "marker": {
             "line": {
              "color": "white",
              "width": 0.5
             },
             "pattern": {
              "fillmode": "overlay",
              "size": 10,
              "solidity": 0.2
             }
            },
            "type": "barpolar"
           }
          ],
          "carpet": [
           {
            "aaxis": {
             "endlinecolor": "rgb(36,36,36)",
             "gridcolor": "white",
             "linecolor": "white",
             "minorgridcolor": "white",
             "startlinecolor": "rgb(36,36,36)"
            },
            "baxis": {
             "endlinecolor": "rgb(36,36,36)",
             "gridcolor": "white",
             "linecolor": "white",
             "minorgridcolor": "white",
             "startlinecolor": "rgb(36,36,36)"
            },
            "type": "carpet"
           }
          ],
          "choropleth": [
           {
            "colorbar": {
             "outlinewidth": 1,
             "tickcolor": "rgb(36,36,36)",
             "ticks": "outside"
            },
            "type": "choropleth"
           }
          ],
          "contour": [
           {
            "colorbar": {
             "outlinewidth": 1,
             "tickcolor": "rgb(36,36,36)",
             "ticks": "outside"
            },
            "colorscale": [
             [
              0,
              "#440154"
             ],
             [
              0.1111111111111111,
              "#482878"
             ],
             [
              0.2222222222222222,
              "#3e4989"
             ],
             [
              0.3333333333333333,
              "#31688e"
             ],
             [
              0.4444444444444444,
              "#26828e"
             ],
             [
              0.5555555555555556,
              "#1f9e89"
             ],
             [
              0.6666666666666666,
              "#35b779"
             ],
             [
              0.7777777777777778,
              "#6ece58"
             ],
             [
              0.8888888888888888,
              "#b5de2b"
             ],
             [
              1,
              "#fde725"
             ]
            ],
            "type": "contour"
           }
          ],
          "contourcarpet": [
           {
            "colorbar": {
             "outlinewidth": 1,
             "tickcolor": "rgb(36,36,36)",
             "ticks": "outside"
            },
            "type": "contourcarpet"
           }
          ],
          "heatmap": [
           {
            "colorbar": {
             "outlinewidth": 1,
             "tickcolor": "rgb(36,36,36)",
             "ticks": "outside"
            },
            "colorscale": [
             [
              0,
              "#440154"
             ],
             [
              0.1111111111111111,
              "#482878"
             ],
             [
              0.2222222222222222,
              "#3e4989"
             ],
             [
              0.3333333333333333,
              "#31688e"
             ],
             [
              0.4444444444444444,
              "#26828e"
             ],
             [
              0.5555555555555556,
              "#1f9e89"
             ],
             [
              0.6666666666666666,
              "#35b779"
             ],
             [
              0.7777777777777778,
              "#6ece58"
             ],
             [
              0.8888888888888888,
              "#b5de2b"
             ],
             [
              1,
              "#fde725"
             ]
            ],
            "type": "heatmap"
           }
          ],
          "heatmapgl": [
           {
            "colorbar": {
             "outlinewidth": 1,
             "tickcolor": "rgb(36,36,36)",
             "ticks": "outside"
            },
            "colorscale": [
             [
              0,
              "#440154"
             ],
             [
              0.1111111111111111,
              "#482878"
             ],
             [
              0.2222222222222222,
              "#3e4989"
             ],
             [
              0.3333333333333333,
              "#31688e"
             ],
             [
              0.4444444444444444,
              "#26828e"
             ],
             [
              0.5555555555555556,
              "#1f9e89"
             ],
             [
              0.6666666666666666,
              "#35b779"
             ],
             [
              0.7777777777777778,
              "#6ece58"
             ],
             [
              0.8888888888888888,
              "#b5de2b"
             ],
             [
              1,
              "#fde725"
             ]
            ],
            "type": "heatmapgl"
           }
          ],
          "histogram": [
           {
            "marker": {
             "line": {
              "color": "white",
              "width": 0.6
             }
            },
            "type": "histogram"
           }
          ],
          "histogram2d": [
           {
            "colorbar": {
             "outlinewidth": 1,
             "tickcolor": "rgb(36,36,36)",
             "ticks": "outside"
            },
            "colorscale": [
             [
              0,
              "#440154"
             ],
             [
              0.1111111111111111,
              "#482878"
             ],
             [
              0.2222222222222222,
              "#3e4989"
             ],
             [
              0.3333333333333333,
              "#31688e"
             ],
             [
              0.4444444444444444,
              "#26828e"
             ],
             [
              0.5555555555555556,
              "#1f9e89"
             ],
             [
              0.6666666666666666,
              "#35b779"
             ],
             [
              0.7777777777777778,
              "#6ece58"
             ],
             [
              0.8888888888888888,
              "#b5de2b"
             ],
             [
              1,
              "#fde725"
             ]
            ],
            "type": "histogram2d"
           }
          ],
          "histogram2dcontour": [
           {
            "colorbar": {
             "outlinewidth": 1,
             "tickcolor": "rgb(36,36,36)",
             "ticks": "outside"
            },
            "colorscale": [
             [
              0,
              "#440154"
             ],
             [
              0.1111111111111111,
              "#482878"
             ],
             [
              0.2222222222222222,
              "#3e4989"
             ],
             [
              0.3333333333333333,
              "#31688e"
             ],
             [
              0.4444444444444444,
              "#26828e"
             ],
             [
              0.5555555555555556,
              "#1f9e89"
             ],
             [
              0.6666666666666666,
              "#35b779"
             ],
             [
              0.7777777777777778,
              "#6ece58"
             ],
             [
              0.8888888888888888,
              "#b5de2b"
             ],
             [
              1,
              "#fde725"
             ]
            ],
            "type": "histogram2dcontour"
           }
          ],
          "mesh3d": [
           {
            "colorbar": {
             "outlinewidth": 1,
             "tickcolor": "rgb(36,36,36)",
             "ticks": "outside"
            },
            "type": "mesh3d"
           }
          ],
          "parcoords": [
           {
            "line": {
             "colorbar": {
              "outlinewidth": 1,
              "tickcolor": "rgb(36,36,36)",
              "ticks": "outside"
             }
            },
            "type": "parcoords"
           }
          ],
          "pie": [
           {
            "automargin": true,
            "type": "pie"
           }
          ],
          "scatter": [
           {
            "fillpattern": {
             "fillmode": "overlay",
             "size": 10,
             "solidity": 0.2
            },
            "type": "scatter"
           }
          ],
          "scatter3d": [
           {
            "line": {
             "colorbar": {
              "outlinewidth": 1,
              "tickcolor": "rgb(36,36,36)",
              "ticks": "outside"
             }
            },
            "marker": {
             "colorbar": {
              "outlinewidth": 1,
              "tickcolor": "rgb(36,36,36)",
              "ticks": "outside"
             }
            },
            "type": "scatter3d"
           }
          ],
          "scattercarpet": [
           {
            "marker": {
             "colorbar": {
              "outlinewidth": 1,
              "tickcolor": "rgb(36,36,36)",
              "ticks": "outside"
             }
            },
            "type": "scattercarpet"
           }
          ],
          "scattergeo": [
           {
            "marker": {
             "colorbar": {
              "outlinewidth": 1,
              "tickcolor": "rgb(36,36,36)",
              "ticks": "outside"
             }
            },
            "type": "scattergeo"
           }
          ],
          "scattergl": [
           {
            "marker": {
             "colorbar": {
              "outlinewidth": 1,
              "tickcolor": "rgb(36,36,36)",
              "ticks": "outside"
             }
            },
            "type": "scattergl"
           }
          ],
          "scattermapbox": [
           {
            "marker": {
             "colorbar": {
              "outlinewidth": 1,
              "tickcolor": "rgb(36,36,36)",
              "ticks": "outside"
             }
            },
            "type": "scattermapbox"
           }
          ],
          "scatterpolar": [
           {
            "marker": {
             "colorbar": {
              "outlinewidth": 1,
              "tickcolor": "rgb(36,36,36)",
              "ticks": "outside"
             }
            },
            "type": "scatterpolar"
           }
          ],
          "scatterpolargl": [
           {
            "marker": {
             "colorbar": {
              "outlinewidth": 1,
              "tickcolor": "rgb(36,36,36)",
              "ticks": "outside"
             }
            },
            "type": "scatterpolargl"
           }
          ],
          "scatterternary": [
           {
            "marker": {
             "colorbar": {
              "outlinewidth": 1,
              "tickcolor": "rgb(36,36,36)",
              "ticks": "outside"
             }
            },
            "type": "scatterternary"
           }
          ],
          "surface": [
           {
            "colorbar": {
             "outlinewidth": 1,
             "tickcolor": "rgb(36,36,36)",
             "ticks": "outside"
            },
            "colorscale": [
             [
              0,
              "#440154"
             ],
             [
              0.1111111111111111,
              "#482878"
             ],
             [
              0.2222222222222222,
              "#3e4989"
             ],
             [
              0.3333333333333333,
              "#31688e"
             ],
             [
              0.4444444444444444,
              "#26828e"
             ],
             [
              0.5555555555555556,
              "#1f9e89"
             ],
             [
              0.6666666666666666,
              "#35b779"
             ],
             [
              0.7777777777777778,
              "#6ece58"
             ],
             [
              0.8888888888888888,
              "#b5de2b"
             ],
             [
              1,
              "#fde725"
             ]
            ],
            "type": "surface"
           }
          ],
          "table": [
           {
            "cells": {
             "fill": {
              "color": "rgb(237,237,237)"
             },
             "line": {
              "color": "white"
             }
            },
            "header": {
             "fill": {
              "color": "rgb(217,217,217)"
             },
             "line": {
              "color": "white"
             }
            },
            "type": "table"
           }
          ]
         },
         "layout": {
          "annotationdefaults": {
           "arrowhead": 0,
           "arrowwidth": 1
          },
          "autotypenumbers": "strict",
          "coloraxis": {
           "colorbar": {
            "outlinewidth": 1,
            "tickcolor": "rgb(36,36,36)",
            "ticks": "outside"
           }
          },
          "colorscale": {
           "diverging": [
            [
             0,
             "rgb(103,0,31)"
            ],
            [
             0.1,
             "rgb(178,24,43)"
            ],
            [
             0.2,
             "rgb(214,96,77)"
            ],
            [
             0.3,
             "rgb(244,165,130)"
            ],
            [
             0.4,
             "rgb(253,219,199)"
            ],
            [
             0.5,
             "rgb(247,247,247)"
            ],
            [
             0.6,
             "rgb(209,229,240)"
            ],
            [
             0.7,
             "rgb(146,197,222)"
            ],
            [
             0.8,
             "rgb(67,147,195)"
            ],
            [
             0.9,
             "rgb(33,102,172)"
            ],
            [
             1,
             "rgb(5,48,97)"
            ]
           ],
           "sequential": [
            [
             0,
             "#440154"
            ],
            [
             0.1111111111111111,
             "#482878"
            ],
            [
             0.2222222222222222,
             "#3e4989"
            ],
            [
             0.3333333333333333,
             "#31688e"
            ],
            [
             0.4444444444444444,
             "#26828e"
            ],
            [
             0.5555555555555556,
             "#1f9e89"
            ],
            [
             0.6666666666666666,
             "#35b779"
            ],
            [
             0.7777777777777778,
             "#6ece58"
            ],
            [
             0.8888888888888888,
             "#b5de2b"
            ],
            [
             1,
             "#fde725"
            ]
           ],
           "sequentialminus": [
            [
             0,
             "#440154"
            ],
            [
             0.1111111111111111,
             "#482878"
            ],
            [
             0.2222222222222222,
             "#3e4989"
            ],
            [
             0.3333333333333333,
             "#31688e"
            ],
            [
             0.4444444444444444,
             "#26828e"
            ],
            [
             0.5555555555555556,
             "#1f9e89"
            ],
            [
             0.6666666666666666,
             "#35b779"
            ],
            [
             0.7777777777777778,
             "#6ece58"
            ],
            [
             0.8888888888888888,
             "#b5de2b"
            ],
            [
             1,
             "#fde725"
            ]
           ]
          },
          "colorway": [
           "#1F77B4",
           "#FF7F0E",
           "#2CA02C",
           "#D62728",
           "#9467BD",
           "#8C564B",
           "#E377C2",
           "#7F7F7F",
           "#BCBD22",
           "#17BECF"
          ],
          "font": {
           "color": "rgb(36,36,36)"
          },
          "geo": {
           "bgcolor": "white",
           "lakecolor": "white",
           "landcolor": "white",
           "showlakes": true,
           "showland": true,
           "subunitcolor": "white"
          },
          "hoverlabel": {
           "align": "left"
          },
          "hovermode": "closest",
          "mapbox": {
           "style": "light"
          },
          "paper_bgcolor": "white",
          "plot_bgcolor": "white",
          "polar": {
           "angularaxis": {
            "gridcolor": "rgb(232,232,232)",
            "linecolor": "rgb(36,36,36)",
            "showgrid": false,
            "showline": true,
            "ticks": "outside"
           },
           "bgcolor": "white",
           "radialaxis": {
            "gridcolor": "rgb(232,232,232)",
            "linecolor": "rgb(36,36,36)",
            "showgrid": false,
            "showline": true,
            "ticks": "outside"
           }
          },
          "scene": {
           "xaxis": {
            "backgroundcolor": "white",
            "gridcolor": "rgb(232,232,232)",
            "gridwidth": 2,
            "linecolor": "rgb(36,36,36)",
            "showbackground": true,
            "showgrid": false,
            "showline": true,
            "ticks": "outside",
            "zeroline": false,
            "zerolinecolor": "rgb(36,36,36)"
           },
           "yaxis": {
            "backgroundcolor": "white",
            "gridcolor": "rgb(232,232,232)",
            "gridwidth": 2,
            "linecolor": "rgb(36,36,36)",
            "showbackground": true,
            "showgrid": false,
            "showline": true,
            "ticks": "outside",
            "zeroline": false,
            "zerolinecolor": "rgb(36,36,36)"
           },
           "zaxis": {
            "backgroundcolor": "white",
            "gridcolor": "rgb(232,232,232)",
            "gridwidth": 2,
            "linecolor": "rgb(36,36,36)",
            "showbackground": true,
            "showgrid": false,
            "showline": true,
            "ticks": "outside",
            "zeroline": false,
            "zerolinecolor": "rgb(36,36,36)"
           }
          },
          "shapedefaults": {
           "fillcolor": "black",
           "line": {
            "width": 0
           },
           "opacity": 0.3
          },
          "ternary": {
           "aaxis": {
            "gridcolor": "rgb(232,232,232)",
            "linecolor": "rgb(36,36,36)",
            "showgrid": false,
            "showline": true,
            "ticks": "outside"
           },
           "baxis": {
            "gridcolor": "rgb(232,232,232)",
            "linecolor": "rgb(36,36,36)",
            "showgrid": false,
            "showline": true,
            "ticks": "outside"
           },
           "bgcolor": "white",
           "caxis": {
            "gridcolor": "rgb(232,232,232)",
            "linecolor": "rgb(36,36,36)",
            "showgrid": false,
            "showline": true,
            "ticks": "outside"
           }
          },
          "title": {
           "x": 0.05
          },
          "xaxis": {
           "automargin": true,
           "gridcolor": "rgb(232,232,232)",
           "linecolor": "rgb(36,36,36)",
           "showgrid": false,
           "showline": true,
           "ticks": "outside",
           "title": {
            "standoff": 15
           },
           "zeroline": false,
           "zerolinecolor": "rgb(36,36,36)"
          },
          "yaxis": {
           "automargin": true,
           "gridcolor": "rgb(232,232,232)",
           "linecolor": "rgb(36,36,36)",
           "showgrid": false,
           "showline": true,
           "ticks": "outside",
           "title": {
            "standoff": 15
           },
           "zeroline": false,
           "zerolinecolor": "rgb(36,36,36)"
          }
         }
        },
        "title": {
         "text": "Tasas de variación de emisiones de CO2 por año"
        },
        "xaxis": {
         "anchor": "y",
         "domain": [
          0,
          1
         ],
         "title": {
          "text": "year"
         }
        },
        "yaxis": {
         "anchor": "x",
         "domain": [
          0,
          1
         ],
         "title": {
          "text": "Tasa de variación"
         }
        }
       }
      }
     },
     "metadata": {},
     "output_type": "display_data"
    }
   ],
   "source": [
    "# Seleccionar las columnas necesarias\n",
    "df_pct = grafico3[['year', 'coal_co2', 'flaring_co2', 'gas_co2', 'oil_co2', 'cement_co2']].dropna(subset=['cement_co2'])\n",
    "\n",
    "# Calcular las tasas de variación de cada columna en relación al año anterior\n",
    "df_pct = df_pct.set_index('year').pct_change().reset_index()\n",
    "\n",
    "# Graficar las tasas de variación\n",
    "fig = px.bar(df_pct, x='year', y=['coal_co2', 'flaring_co2', 'gas_co2', 'oil_co2', 'cement_co2'],\n",
    "             title='Tasas de variación de emisiones de CO2 por año',\n",
    "             labels={'value': 'Tasa de variación', 'variable': 'Fuente de emisiones'},\n",
    "             template='simple_white')\n",
    "\n",
    "# Mostrar el gráfico\n",
    "fig.show()\n"
   ]
  },
  {
   "attachments": {},
   "cell_type": "markdown",
   "id": "0568619f",
   "metadata": {},
   "source": [
    "Entonces...\n",
    "\n",
    "Si bien el gas y el petroleo tienen una dinamica similar, **cual es que mas aporto a las emisiones de CO2 acmuladas de Argentina?**\n",
    "\n",
    "Como podemos ver, a pesar de la dinamica importante que tuvieron las emisiones de gas en los ultimos años, en terminos acumulados aun no han superado al stock de emisiones generadas por el petroleo en Argentina."
   ]
  },
  {
   "cell_type": "code",
   "execution_count": 112,
   "id": "dc62e705",
   "metadata": {},
   "outputs": [
    {
     "data": {
      "application/vnd.plotly.v1+json": {
       "config": {
        "plotlyServerURL": "https://plot.ly"
       },
       "data": [
        {
         "domain": {
          "x": [
           0,
           1
          ],
          "y": [
           0,
           1
          ]
         },
         "hole": 0.4,
         "hovertemplate": "labels=%{label}<br>value=%{value}<extra></extra>",
         "labels": [
          "coal",
          "flaring",
          "gas",
          "oil",
          "other",
          "cement"
         ],
         "legendgroup": "",
         "name": "",
         "showlegend": true,
         "textinfo": "percent+label",
         "textposition": "inside",
         "type": "pie",
         "values": [
          541.647,
          182.536,
          2970.459,
          4740.281,
          null,
          201.576
         ]
        }
       ],
       "layout": {
        "legend": {
         "tracegroupgap": 0
        },
        "piecolorway": [
         "#30123b",
         "#4145ab",
         "#4675ed",
         "#39a2fc",
         "#1bcfd4",
         "#24eca6",
         "#61fc6c",
         "#a4fc3b",
         "#d1e834",
         "#f3c63a",
         "#fe9b2d",
         "#f36315",
         "#d93806",
         "#b11901",
         "#7a0402"
        ],
        "template": {
         "data": {
          "bar": [
           {
            "error_x": {
             "color": "rgb(36,36,36)"
            },
            "error_y": {
             "color": "rgb(36,36,36)"
            },
            "marker": {
             "line": {
              "color": "white",
              "width": 0.5
             },
             "pattern": {
              "fillmode": "overlay",
              "size": 10,
              "solidity": 0.2
             }
            },
            "type": "bar"
           }
          ],
          "barpolar": [
           {
            "marker": {
             "line": {
              "color": "white",
              "width": 0.5
             },
             "pattern": {
              "fillmode": "overlay",
              "size": 10,
              "solidity": 0.2
             }
            },
            "type": "barpolar"
           }
          ],
          "carpet": [
           {
            "aaxis": {
             "endlinecolor": "rgb(36,36,36)",
             "gridcolor": "white",
             "linecolor": "white",
             "minorgridcolor": "white",
             "startlinecolor": "rgb(36,36,36)"
            },
            "baxis": {
             "endlinecolor": "rgb(36,36,36)",
             "gridcolor": "white",
             "linecolor": "white",
             "minorgridcolor": "white",
             "startlinecolor": "rgb(36,36,36)"
            },
            "type": "carpet"
           }
          ],
          "choropleth": [
           {
            "colorbar": {
             "outlinewidth": 1,
             "tickcolor": "rgb(36,36,36)",
             "ticks": "outside"
            },
            "type": "choropleth"
           }
          ],
          "contour": [
           {
            "colorbar": {
             "outlinewidth": 1,
             "tickcolor": "rgb(36,36,36)",
             "ticks": "outside"
            },
            "colorscale": [
             [
              0,
              "#440154"
             ],
             [
              0.1111111111111111,
              "#482878"
             ],
             [
              0.2222222222222222,
              "#3e4989"
             ],
             [
              0.3333333333333333,
              "#31688e"
             ],
             [
              0.4444444444444444,
              "#26828e"
             ],
             [
              0.5555555555555556,
              "#1f9e89"
             ],
             [
              0.6666666666666666,
              "#35b779"
             ],
             [
              0.7777777777777778,
              "#6ece58"
             ],
             [
              0.8888888888888888,
              "#b5de2b"
             ],
             [
              1,
              "#fde725"
             ]
            ],
            "type": "contour"
           }
          ],
          "contourcarpet": [
           {
            "colorbar": {
             "outlinewidth": 1,
             "tickcolor": "rgb(36,36,36)",
             "ticks": "outside"
            },
            "type": "contourcarpet"
           }
          ],
          "heatmap": [
           {
            "colorbar": {
             "outlinewidth": 1,
             "tickcolor": "rgb(36,36,36)",
             "ticks": "outside"
            },
            "colorscale": [
             [
              0,
              "#440154"
             ],
             [
              0.1111111111111111,
              "#482878"
             ],
             [
              0.2222222222222222,
              "#3e4989"
             ],
             [
              0.3333333333333333,
              "#31688e"
             ],
             [
              0.4444444444444444,
              "#26828e"
             ],
             [
              0.5555555555555556,
              "#1f9e89"
             ],
             [
              0.6666666666666666,
              "#35b779"
             ],
             [
              0.7777777777777778,
              "#6ece58"
             ],
             [
              0.8888888888888888,
              "#b5de2b"
             ],
             [
              1,
              "#fde725"
             ]
            ],
            "type": "heatmap"
           }
          ],
          "heatmapgl": [
           {
            "colorbar": {
             "outlinewidth": 1,
             "tickcolor": "rgb(36,36,36)",
             "ticks": "outside"
            },
            "colorscale": [
             [
              0,
              "#440154"
             ],
             [
              0.1111111111111111,
              "#482878"
             ],
             [
              0.2222222222222222,
              "#3e4989"
             ],
             [
              0.3333333333333333,
              "#31688e"
             ],
             [
              0.4444444444444444,
              "#26828e"
             ],
             [
              0.5555555555555556,
              "#1f9e89"
             ],
             [
              0.6666666666666666,
              "#35b779"
             ],
             [
              0.7777777777777778,
              "#6ece58"
             ],
             [
              0.8888888888888888,
              "#b5de2b"
             ],
             [
              1,
              "#fde725"
             ]
            ],
            "type": "heatmapgl"
           }
          ],
          "histogram": [
           {
            "marker": {
             "line": {
              "color": "white",
              "width": 0.6
             }
            },
            "type": "histogram"
           }
          ],
          "histogram2d": [
           {
            "colorbar": {
             "outlinewidth": 1,
             "tickcolor": "rgb(36,36,36)",
             "ticks": "outside"
            },
            "colorscale": [
             [
              0,
              "#440154"
             ],
             [
              0.1111111111111111,
              "#482878"
             ],
             [
              0.2222222222222222,
              "#3e4989"
             ],
             [
              0.3333333333333333,
              "#31688e"
             ],
             [
              0.4444444444444444,
              "#26828e"
             ],
             [
              0.5555555555555556,
              "#1f9e89"
             ],
             [
              0.6666666666666666,
              "#35b779"
             ],
             [
              0.7777777777777778,
              "#6ece58"
             ],
             [
              0.8888888888888888,
              "#b5de2b"
             ],
             [
              1,
              "#fde725"
             ]
            ],
            "type": "histogram2d"
           }
          ],
          "histogram2dcontour": [
           {
            "colorbar": {
             "outlinewidth": 1,
             "tickcolor": "rgb(36,36,36)",
             "ticks": "outside"
            },
            "colorscale": [
             [
              0,
              "#440154"
             ],
             [
              0.1111111111111111,
              "#482878"
             ],
             [
              0.2222222222222222,
              "#3e4989"
             ],
             [
              0.3333333333333333,
              "#31688e"
             ],
             [
              0.4444444444444444,
              "#26828e"
             ],
             [
              0.5555555555555556,
              "#1f9e89"
             ],
             [
              0.6666666666666666,
              "#35b779"
             ],
             [
              0.7777777777777778,
              "#6ece58"
             ],
             [
              0.8888888888888888,
              "#b5de2b"
             ],
             [
              1,
              "#fde725"
             ]
            ],
            "type": "histogram2dcontour"
           }
          ],
          "mesh3d": [
           {
            "colorbar": {
             "outlinewidth": 1,
             "tickcolor": "rgb(36,36,36)",
             "ticks": "outside"
            },
            "type": "mesh3d"
           }
          ],
          "parcoords": [
           {
            "line": {
             "colorbar": {
              "outlinewidth": 1,
              "tickcolor": "rgb(36,36,36)",
              "ticks": "outside"
             }
            },
            "type": "parcoords"
           }
          ],
          "pie": [
           {
            "automargin": true,
            "type": "pie"
           }
          ],
          "scatter": [
           {
            "fillpattern": {
             "fillmode": "overlay",
             "size": 10,
             "solidity": 0.2
            },
            "type": "scatter"
           }
          ],
          "scatter3d": [
           {
            "line": {
             "colorbar": {
              "outlinewidth": 1,
              "tickcolor": "rgb(36,36,36)",
              "ticks": "outside"
             }
            },
            "marker": {
             "colorbar": {
              "outlinewidth": 1,
              "tickcolor": "rgb(36,36,36)",
              "ticks": "outside"
             }
            },
            "type": "scatter3d"
           }
          ],
          "scattercarpet": [
           {
            "marker": {
             "colorbar": {
              "outlinewidth": 1,
              "tickcolor": "rgb(36,36,36)",
              "ticks": "outside"
             }
            },
            "type": "scattercarpet"
           }
          ],
          "scattergeo": [
           {
            "marker": {
             "colorbar": {
              "outlinewidth": 1,
              "tickcolor": "rgb(36,36,36)",
              "ticks": "outside"
             }
            },
            "type": "scattergeo"
           }
          ],
          "scattergl": [
           {
            "marker": {
             "colorbar": {
              "outlinewidth": 1,
              "tickcolor": "rgb(36,36,36)",
              "ticks": "outside"
             }
            },
            "type": "scattergl"
           }
          ],
          "scattermapbox": [
           {
            "marker": {
             "colorbar": {
              "outlinewidth": 1,
              "tickcolor": "rgb(36,36,36)",
              "ticks": "outside"
             }
            },
            "type": "scattermapbox"
           }
          ],
          "scatterpolar": [
           {
            "marker": {
             "colorbar": {
              "outlinewidth": 1,
              "tickcolor": "rgb(36,36,36)",
              "ticks": "outside"
             }
            },
            "type": "scatterpolar"
           }
          ],
          "scatterpolargl": [
           {
            "marker": {
             "colorbar": {
              "outlinewidth": 1,
              "tickcolor": "rgb(36,36,36)",
              "ticks": "outside"
             }
            },
            "type": "scatterpolargl"
           }
          ],
          "scatterternary": [
           {
            "marker": {
             "colorbar": {
              "outlinewidth": 1,
              "tickcolor": "rgb(36,36,36)",
              "ticks": "outside"
             }
            },
            "type": "scatterternary"
           }
          ],
          "surface": [
           {
            "colorbar": {
             "outlinewidth": 1,
             "tickcolor": "rgb(36,36,36)",
             "ticks": "outside"
            },
            "colorscale": [
             [
              0,
              "#440154"
             ],
             [
              0.1111111111111111,
              "#482878"
             ],
             [
              0.2222222222222222,
              "#3e4989"
             ],
             [
              0.3333333333333333,
              "#31688e"
             ],
             [
              0.4444444444444444,
              "#26828e"
             ],
             [
              0.5555555555555556,
              "#1f9e89"
             ],
             [
              0.6666666666666666,
              "#35b779"
             ],
             [
              0.7777777777777778,
              "#6ece58"
             ],
             [
              0.8888888888888888,
              "#b5de2b"
             ],
             [
              1,
              "#fde725"
             ]
            ],
            "type": "surface"
           }
          ],
          "table": [
           {
            "cells": {
             "fill": {
              "color": "rgb(237,237,237)"
             },
             "line": {
              "color": "white"
             }
            },
            "header": {
             "fill": {
              "color": "rgb(217,217,217)"
             },
             "line": {
              "color": "white"
             }
            },
            "type": "table"
           }
          ]
         },
         "layout": {
          "annotationdefaults": {
           "arrowhead": 0,
           "arrowwidth": 1
          },
          "autotypenumbers": "strict",
          "coloraxis": {
           "colorbar": {
            "outlinewidth": 1,
            "tickcolor": "rgb(36,36,36)",
            "ticks": "outside"
           }
          },
          "colorscale": {
           "diverging": [
            [
             0,
             "rgb(103,0,31)"
            ],
            [
             0.1,
             "rgb(178,24,43)"
            ],
            [
             0.2,
             "rgb(214,96,77)"
            ],
            [
             0.3,
             "rgb(244,165,130)"
            ],
            [
             0.4,
             "rgb(253,219,199)"
            ],
            [
             0.5,
             "rgb(247,247,247)"
            ],
            [
             0.6,
             "rgb(209,229,240)"
            ],
            [
             0.7,
             "rgb(146,197,222)"
            ],
            [
             0.8,
             "rgb(67,147,195)"
            ],
            [
             0.9,
             "rgb(33,102,172)"
            ],
            [
             1,
             "rgb(5,48,97)"
            ]
           ],
           "sequential": [
            [
             0,
             "#440154"
            ],
            [
             0.1111111111111111,
             "#482878"
            ],
            [
             0.2222222222222222,
             "#3e4989"
            ],
            [
             0.3333333333333333,
             "#31688e"
            ],
            [
             0.4444444444444444,
             "#26828e"
            ],
            [
             0.5555555555555556,
             "#1f9e89"
            ],
            [
             0.6666666666666666,
             "#35b779"
            ],
            [
             0.7777777777777778,
             "#6ece58"
            ],
            [
             0.8888888888888888,
             "#b5de2b"
            ],
            [
             1,
             "#fde725"
            ]
           ],
           "sequentialminus": [
            [
             0,
             "#440154"
            ],
            [
             0.1111111111111111,
             "#482878"
            ],
            [
             0.2222222222222222,
             "#3e4989"
            ],
            [
             0.3333333333333333,
             "#31688e"
            ],
            [
             0.4444444444444444,
             "#26828e"
            ],
            [
             0.5555555555555556,
             "#1f9e89"
            ],
            [
             0.6666666666666666,
             "#35b779"
            ],
            [
             0.7777777777777778,
             "#6ece58"
            ],
            [
             0.8888888888888888,
             "#b5de2b"
            ],
            [
             1,
             "#fde725"
            ]
           ]
          },
          "colorway": [
           "#1F77B4",
           "#FF7F0E",
           "#2CA02C",
           "#D62728",
           "#9467BD",
           "#8C564B",
           "#E377C2",
           "#7F7F7F",
           "#BCBD22",
           "#17BECF"
          ],
          "font": {
           "color": "rgb(36,36,36)"
          },
          "geo": {
           "bgcolor": "white",
           "lakecolor": "white",
           "landcolor": "white",
           "showlakes": true,
           "showland": true,
           "subunitcolor": "white"
          },
          "hoverlabel": {
           "align": "left"
          },
          "hovermode": "closest",
          "mapbox": {
           "style": "light"
          },
          "paper_bgcolor": "white",
          "plot_bgcolor": "white",
          "polar": {
           "angularaxis": {
            "gridcolor": "rgb(232,232,232)",
            "linecolor": "rgb(36,36,36)",
            "showgrid": false,
            "showline": true,
            "ticks": "outside"
           },
           "bgcolor": "white",
           "radialaxis": {
            "gridcolor": "rgb(232,232,232)",
            "linecolor": "rgb(36,36,36)",
            "showgrid": false,
            "showline": true,
            "ticks": "outside"
           }
          },
          "scene": {
           "xaxis": {
            "backgroundcolor": "white",
            "gridcolor": "rgb(232,232,232)",
            "gridwidth": 2,
            "linecolor": "rgb(36,36,36)",
            "showbackground": true,
            "showgrid": false,
            "showline": true,
            "ticks": "outside",
            "zeroline": false,
            "zerolinecolor": "rgb(36,36,36)"
           },
           "yaxis": {
            "backgroundcolor": "white",
            "gridcolor": "rgb(232,232,232)",
            "gridwidth": 2,
            "linecolor": "rgb(36,36,36)",
            "showbackground": true,
            "showgrid": false,
            "showline": true,
            "ticks": "outside",
            "zeroline": false,
            "zerolinecolor": "rgb(36,36,36)"
           },
           "zaxis": {
            "backgroundcolor": "white",
            "gridcolor": "rgb(232,232,232)",
            "gridwidth": 2,
            "linecolor": "rgb(36,36,36)",
            "showbackground": true,
            "showgrid": false,
            "showline": true,
            "ticks": "outside",
            "zeroline": false,
            "zerolinecolor": "rgb(36,36,36)"
           }
          },
          "shapedefaults": {
           "fillcolor": "black",
           "line": {
            "width": 0
           },
           "opacity": 0.3
          },
          "ternary": {
           "aaxis": {
            "gridcolor": "rgb(232,232,232)",
            "linecolor": "rgb(36,36,36)",
            "showgrid": false,
            "showline": true,
            "ticks": "outside"
           },
           "baxis": {
            "gridcolor": "rgb(232,232,232)",
            "linecolor": "rgb(36,36,36)",
            "showgrid": false,
            "showline": true,
            "ticks": "outside"
           },
           "bgcolor": "white",
           "caxis": {
            "gridcolor": "rgb(232,232,232)",
            "linecolor": "rgb(36,36,36)",
            "showgrid": false,
            "showline": true,
            "ticks": "outside"
           }
          },
          "title": {
           "x": 0.05
          },
          "xaxis": {
           "automargin": true,
           "gridcolor": "rgb(232,232,232)",
           "linecolor": "rgb(36,36,36)",
           "showgrid": false,
           "showline": true,
           "ticks": "outside",
           "title": {
            "standoff": 15
           },
           "zeroline": false,
           "zerolinecolor": "rgb(36,36,36)"
          },
          "yaxis": {
           "automargin": true,
           "gridcolor": "rgb(232,232,232)",
           "linecolor": "rgb(36,36,36)",
           "showgrid": false,
           "showline": true,
           "ticks": "outside",
           "title": {
            "standoff": 15
           },
           "zeroline": false,
           "zerolinecolor": "rgb(36,36,36)"
          }
         }
        },
        "title": {
         "text": "Composicion de las emisiones acumuladas <br>de Argentina, por tipo de combustible e industria"
        }
       }
      }
     },
     "metadata": {},
     "output_type": "display_data"
    }
   ],
   "source": [
    "fila = grafico3.iloc[-1]\n",
    "dic = fila.to_dict()\n",
    "subdic = {k.split('_')[1]: v for k, v in dic.items() if k.startswith('cumulative_')}\n",
    "\n",
    "labels = list(subdic.keys())\n",
    "values = list(subdic.values())\n",
    "\n",
    "df = pd.DataFrame({'labels': labels, 'values': values})\n",
    "df = df.drop([3, 7])\n",
    "\n",
    "\n",
    "fig = px.pie(df, values='values', names='labels', \n",
    "             title='Composicion de las emisiones acumuladas <br>de Argentina, por tipo de combustible e industria',\n",
    "             template=\"simple_white\",\n",
    "                 color_discrete_sequence= my_colors)\n",
    "fig.update_traces(textposition='inside', textinfo='percent+label', hole=.4)\n",
    "\n",
    "fig.show()\n"
   ]
  },
  {
   "attachments": {},
   "cell_type": "markdown",
   "id": "61a84a33",
   "metadata": {},
   "source": [
    "En resumen, hasta este punto contestamos a estas preguntas:\n",
    "1. **Que paises son los que mas contribuyeron en perspectiva historica al acumulado de emisiones de CO2 actual**: China, Estados Unidos, paises de la union europea, India, Canada, Brasil, Paises del sur de Africa y Reino Unido,\n",
    "2. **Como se relaciona el nivel de emisiones con el Producto Bruto y con la Poblacion para este mix de paises**:la relacion entre gpd y co2 parece ser mas fuerte que con poblacion. Aca se ve algo importante, que es que si bien los paises con mayor poblacion tienen mas emisiones por la simple razon de que mas personas emiten mas, hay paises dado su nivel de gdp tienen emisiones per capita mas altas. Esto nos quiere decir que los habitantes de personas en paises de menor desarrollo relativo emiten menos que aquellos en paises mas desarrollados \n",
    "3. **Como se distribuyen las emisiones segun deciles de GDP?**: de la mano con el resultado positivo para la relacion entre gdp y emisiones per capita, vemos que a mayor decil de ingreso (gdp) mayor son las emisiones promedio. Es importante notar que tambien se da mayor dispersion de las emisiones en los deciles superiores de la distribucion, hay paises de altos ingresos que emiten por habitante lo mismo que paises del decil 1.\n",
    "\n",
    "Para Argentina:\n",
    "1. **Como evolucionaron las emisiones de Argentina hasta la actualidad?** \n",
    "Las emisiones de co2 no pararon de crecer desde el incio de la serie, sin embargo vemos un maximo que se alcanza antes de la pandemia. El dato pos pandemia aun no logra sobrepasar las emisiones pre pandemia.\n",
    "2. **Como se componen estas emisiones segun el tipo de combustible?** \n",
    "Hasta los 2000 el petroleo fue el principal origen de las emisiones. A partir de dicho año el gas comienza a sobrepasarlo como el principal combustible en orden de incidencia año a año, lo que esta directamente relacionado a q es el principal componente de nuestra matriz energetica.\n",
    "3. **Cual es el combustible que mas contribuyo a las emisiones de co2 acumuladas?**\n",
    "Si bien el gas y el petroleo tienen una dinamica similar, en terminos acumulados el gas aun no ha superado al stock de emisiones generadas por el petroleo en Argentina.\n",
    "\n",
    "**-----------------------------------------------------------------------------------------------------------------------**\n",
    "## Construccion del modelo para estimar emisiones de CO2\n",
    "\n",
    "Voy a incorporar tres data sets: combustibles, contiene el consumo de combustibles mensual por tipo para la generacion de electricidad, emisiones,tiene una estimacion de emisiones hecha por CAMMESA, y VARIABLES_ANUALES, tiene variables que pueden ser relevantes para la proyeccion de las emisiones (demanda electrica, demanda agregada, consumo publico y privado, entre otras). Lo que busco es **desarrollar un modelo preciso que permita proyectar las emisiones de CO2 en la generación de electricidad en Argentina para los próximos años**, lo que permitirá a YPF planificar sus operaciones de generación de energía de manera más efectiva y sostenible.\n",
    "\n",
    "\n",
    "#### Features de \"Combustibles\"\n",
    "- **Fuente de generacion**: fuente de generacion de la electricidad (termica o renovable)\n",
    "- **Combustible**: tipo de combustible que se usa para generar esa energia (GAS NATURAL(dam3), FUEL OIL(ton), GAS OIL(m3), CARBÓN  MINERAL(ton), BIODIESEL(ton))."
   ]
  },
  {
   "cell_type": "code",
   "execution_count": 113,
   "id": "43b66246",
   "metadata": {},
   "outputs": [],
   "source": [
    "df_combustibles=pd.read_excel(r\"C:\\Users\\Bruno\\Desktop\\Curso Data Science\\Dataframes\\Combustibles Mensual.xlsx\", sheet_name=\"combustible\")\n",
    "df_emicontrol=pd.read_excel(r\"C:\\Users\\Bruno\\Desktop\\Curso Data Science\\Dataframes\\Combustibles Mensual.xlsx\", sheet_name=\"emisiones\")\n",
    "VARIABLES=pd.read_excel(r\"C:\\Users\\Bruno\\Desktop\\Curso Data Science\\Dataframes\\Combustibles Mensual.xlsx\", sheet_name=\"VARIABLES_ANUALES\")"
   ]
  },
  {
   "cell_type": "code",
   "execution_count": 114,
   "id": "d70bb2c7",
   "metadata": {},
   "outputs": [],
   "source": [
    "#df_emicontrol\n",
    "df_emicontrol.columns = df_emicontrol.columns.str.lower()\n",
    "#df_emicontrol['fecha'] = pd.to_datetime(df_emicontrol['fecha'], format='%Y-%m-%d')\n",
    "df_emicontrol['fecha'] = df_emicontrol['fecha'].dt.year\n",
    "df_emicontrol = df_emicontrol.groupby(['fecha']).sum().reset_index()"
   ]
  },
  {
   "attachments": {},
   "cell_type": "markdown",
   "id": "398bccd9",
   "metadata": {},
   "source": [
    "Para calcular las emisiones de CO2 de la generación de electricidad voy a seguir la siguiente fórmula:\n",
    "\n",
    "**Emisiones de CO2 = Cantidad de combustible consumido x Factor de emisión de CO2 del combustible**\n",
    "\n",
    "La cantidad de combustible consumido se mide en unidades físicas, como metros cúbicos (m3), toneladas (t) o litros (L), dependiendo del tipo de combustible. El factor de emisión de CO2 del combustible se expresa en unidades de masa de CO2 por unidad de combustible consumido, como kgCO2/m3, tCO2/t o kgCO2/L. En este caso voy a utilizar los FE (factores de emision) en toneladas estimados para Argentina por las secretarias de Energia y Desarrollo Sustentable de la Nacion:"
   ]
  },
  {
   "attachments": {},
   "cell_type": "markdown",
   "id": "0740a0ed",
   "metadata": {},
   "source": [
    "<img src=\"FF.png\">"
   ]
  },
  {
   "attachments": {},
   "cell_type": "markdown",
   "id": "55663d15",
   "metadata": {},
   "source": [
    "Por ejemplo, si se quema 1000 m3 de gas natural para generar electricidad y el factor de emisión de CO2 del gas natural es de 1,936 tCO2/dam3, entonces las emisiones de CO2 generadas serían:\n",
    "\n",
    "- **Emisiones de CO2 = 1000 dam3 x 1,936 tCO2/dam3**\n",
    "- **Emisiones de CO2 = 1830 tCO2**\n",
    "\n",
    "Es importante destacar que al considerar solo las emisiones de CO2 se está ignorando la contribución de otros gases de efecto invernadero que pueden ser emitidos durante la producción, transporte y uso del combustible. Por lo tanto, es importante tener en cuenta que la huella de carbono total de la generación de electricidad puede ser mayor que la cantidad de emisiones de CO2 calculada solo a partir del factor de emisión de CO2 del combustible.\n",
    "\n",
    "CAMMESA presenta una estimacion de las emisiones por tipo de gas, por lo que podemos comprar la estimacion que hice con los datos de cammesa a modo de control."
   ]
  },
  {
   "cell_type": "code",
   "execution_count": 115,
   "id": "f0cfdeca",
   "metadata": {},
   "outputs": [],
   "source": [
    "factores_emision = {\n",
    "    \"C_GAS NATURAL\": 1.94819592,\n",
    "    \"C_FUEL OIL\": 3.17228090666667,\n",
    "    \"C_GAS OIL\": 2.69717055226667,\n",
    "    \"C_CARBÓN MINERAL\": 2.33525776\n",
    "}\n",
    "\n",
    "for key in factores_emision:\n",
    "    df_combustibles[\"ep_\" + key] = (df_combustibles[key] * factores_emision[key])/1000000\n",
    "    \n",
    "df_combustibles[\"ep_total\"] = df_combustibles.filter(like=\"ep_\").sum(axis=1)"
   ]
  },
  {
   "cell_type": "code",
   "execution_count": 116,
   "id": "03575521",
   "metadata": {},
   "outputs": [],
   "source": [
    "#df_combustibles\n",
    "df_combustibles.columns = df_combustibles.columns.str.lower()\n",
    "df_combustibles['fecha'] = pd.to_datetime(df_combustibles['fecha'], format='%Y-%m-%d')\n",
    "df_combustibles['fecha'] = df_combustibles['fecha'].dt.year\n",
    "df_combustibles = df_combustibles.groupby(['fecha']).sum().reset_index()"
   ]
  },
  {
   "cell_type": "code",
   "execution_count": 117,
   "id": "4378f8ac",
   "metadata": {},
   "outputs": [],
   "source": [
    "#mergeo grafico3 con df_combustibles y df_emicontrol a partir de \"fecha\", para generar el df completo para Arg\n",
    "\n",
    "#columna \"fecha\" a \"year\" en df_combustibles y df_emicontrol\n",
    "df_combustibles = df_combustibles.rename(columns={'fecha': 'year'})\n",
    "df_emicontrol = df_emicontrol.rename(columns={'fecha': 'year'})\n",
    "\n",
    "#columna \"year\" a formato .dt.year en grafico3\n",
    "grafico3['year'] = pd.to_datetime(grafico3['year']).dt.year\n",
    "\n",
    "#merge de los dataframes conservando toda la información de grafico3\n",
    "df_completo = grafico3.merge(df_combustibles, on='year', how='left').merge(df_emicontrol, on='year', how='left')"
   ]
  },
  {
   "cell_type": "code",
   "execution_count": 135,
   "id": "dbf28ec9",
   "metadata": {},
   "outputs": [
    {
     "data": {
      "application/vnd.plotly.v1+json": {
       "config": {
        "plotlyServerURL": "https://plot.ly"
       },
       "data": [
        {
         "line": {
          "dash": "dash"
         },
         "mode": "lines",
         "name": "Estimacion propia gas natural",
         "type": "scatter",
         "x": [
          1920,
          1921,
          1922,
          1923,
          1924,
          1925,
          1926,
          1927,
          1928,
          1929,
          1930,
          1931,
          1932,
          1933,
          1934,
          1935,
          1936,
          1937,
          1938,
          1939,
          1940,
          1941,
          1942,
          1943,
          1944,
          1945,
          1946,
          1947,
          1948,
          1949,
          1950,
          1951,
          1952,
          1953,
          1954,
          1955,
          1956,
          1957,
          1958,
          1959,
          1960,
          1961,
          1962,
          1963,
          1964,
          1965,
          1966,
          1967,
          1968,
          1969,
          1970,
          1971,
          1972,
          1973,
          1974,
          1975,
          1976,
          1977,
          1978,
          1979,
          1980,
          1981,
          1982,
          1983,
          1984,
          1985,
          1986,
          1987,
          1988,
          1989,
          1990,
          1991,
          1992,
          1993,
          1994,
          1995,
          1996,
          1997,
          1998,
          1999,
          2000,
          2001,
          2002,
          2003,
          2004,
          2005,
          2006,
          2007,
          2008,
          2009,
          2010,
          2011,
          2012,
          2013,
          2014,
          2015,
          2016,
          2017,
          2018,
          2019,
          2020,
          2021
         ],
         "y": [
          null,
          null,
          null,
          null,
          null,
          null,
          null,
          null,
          null,
          null,
          null,
          null,
          null,
          null,
          null,
          null,
          null,
          null,
          null,
          null,
          null,
          null,
          null,
          null,
          null,
          null,
          null,
          null,
          null,
          null,
          null,
          null,
          null,
          null,
          null,
          null,
          null,
          null,
          null,
          null,
          null,
          null,
          null,
          null,
          null,
          null,
          null,
          null,
          null,
          null,
          null,
          null,
          null,
          null,
          null,
          null,
          null,
          null,
          null,
          null,
          null,
          null,
          null,
          null,
          null,
          null,
          null,
          null,
          null,
          null,
          null,
          null,
          null,
          null,
          null,
          null,
          null,
          null,
          null,
          null,
          null,
          null,
          null,
          null,
          null,
          null,
          null,
          null,
          null,
          null,
          null,
          null,
          27.289300462300854,
          27.182205950599023,
          27.96699435825925,
          28.12718336508019,
          30.369832990704317,
          33.34716749665575,
          35.14544709885809,
          33.52176518516338,
          31.744131990551605,
          31.875153570467084
         ],
         "yaxis": "y2"
        },
        {
         "mode": "lines",
         "name": "CAMMESA gas natural",
         "type": "scatter",
         "x": [
          1920,
          1921,
          1922,
          1923,
          1924,
          1925,
          1926,
          1927,
          1928,
          1929,
          1930,
          1931,
          1932,
          1933,
          1934,
          1935,
          1936,
          1937,
          1938,
          1939,
          1940,
          1941,
          1942,
          1943,
          1944,
          1945,
          1946,
          1947,
          1948,
          1949,
          1950,
          1951,
          1952,
          1953,
          1954,
          1955,
          1956,
          1957,
          1958,
          1959,
          1960,
          1961,
          1962,
          1963,
          1964,
          1965,
          1966,
          1967,
          1968,
          1969,
          1970,
          1971,
          1972,
          1973,
          1974,
          1975,
          1976,
          1977,
          1978,
          1979,
          1980,
          1981,
          1982,
          1983,
          1984,
          1985,
          1986,
          1987,
          1988,
          1989,
          1990,
          1991,
          1992,
          1993,
          1994,
          1995,
          1996,
          1997,
          1998,
          1999,
          2000,
          2001,
          2002,
          2003,
          2004,
          2005,
          2006,
          2007,
          2008,
          2009,
          2010,
          2011,
          2012,
          2013,
          2014,
          2015,
          2016,
          2017,
          2018,
          2019,
          2020,
          2021
         ],
         "y": [
          null,
          null,
          null,
          null,
          null,
          null,
          null,
          null,
          null,
          null,
          null,
          null,
          null,
          null,
          null,
          null,
          null,
          null,
          null,
          null,
          null,
          null,
          null,
          null,
          null,
          null,
          null,
          null,
          null,
          null,
          null,
          null,
          null,
          null,
          null,
          null,
          null,
          null,
          null,
          null,
          null,
          null,
          null,
          null,
          null,
          null,
          null,
          null,
          null,
          null,
          null,
          null,
          null,
          null,
          null,
          null,
          null,
          null,
          null,
          null,
          null,
          null,
          null,
          null,
          null,
          null,
          null,
          null,
          null,
          null,
          null,
          null,
          null,
          null,
          null,
          null,
          null,
          null,
          null,
          null,
          null,
          null,
          null,
          null,
          null,
          null,
          null,
          23.340450836572323,
          25.50797740020217,
          24.54991993079145,
          22.477286659009778,
          24.691752188188964,
          27.346463581468438,
          27.181489768452284,
          27.96652422546443,
          28.089946284683368,
          30.36957245456754,
          33.35118184006953,
          35.13705905170753,
          33.52992993983858,
          31.75112733867763,
          31.853150686658715
         ],
         "yaxis": "y2"
        },
        {
         "line": {
          "dash": "dash"
         },
         "mode": "lines",
         "name": "Estimacion propia fuel oil",
         "type": "scatter",
         "x": [
          1920,
          1921,
          1922,
          1923,
          1924,
          1925,
          1926,
          1927,
          1928,
          1929,
          1930,
          1931,
          1932,
          1933,
          1934,
          1935,
          1936,
          1937,
          1938,
          1939,
          1940,
          1941,
          1942,
          1943,
          1944,
          1945,
          1946,
          1947,
          1948,
          1949,
          1950,
          1951,
          1952,
          1953,
          1954,
          1955,
          1956,
          1957,
          1958,
          1959,
          1960,
          1961,
          1962,
          1963,
          1964,
          1965,
          1966,
          1967,
          1968,
          1969,
          1970,
          1971,
          1972,
          1973,
          1974,
          1975,
          1976,
          1977,
          1978,
          1979,
          1980,
          1981,
          1982,
          1983,
          1984,
          1985,
          1986,
          1987,
          1988,
          1989,
          1990,
          1991,
          1992,
          1993,
          1994,
          1995,
          1996,
          1997,
          1998,
          1999,
          2000,
          2001,
          2002,
          2003,
          2004,
          2005,
          2006,
          2007,
          2008,
          2009,
          2010,
          2011,
          2012,
          2013,
          2014,
          2015,
          2016,
          2017,
          2018,
          2019,
          2020,
          2021
         ],
         "y": [
          null,
          null,
          null,
          null,
          null,
          null,
          null,
          null,
          null,
          null,
          null,
          null,
          null,
          null,
          null,
          null,
          null,
          null,
          null,
          null,
          null,
          null,
          null,
          null,
          null,
          null,
          null,
          null,
          null,
          null,
          null,
          null,
          null,
          null,
          null,
          null,
          null,
          null,
          null,
          null,
          null,
          null,
          null,
          null,
          null,
          null,
          null,
          null,
          null,
          null,
          null,
          null,
          null,
          null,
          null,
          null,
          null,
          null,
          null,
          null,
          null,
          null,
          null,
          null,
          null,
          null,
          null,
          null,
          null,
          null,
          null,
          null,
          null,
          null,
          null,
          null,
          null,
          null,
          null,
          null,
          null,
          null,
          null,
          null,
          null,
          null,
          null,
          null,
          null,
          null,
          null,
          null,
          9.071879788405166,
          7.082508202923515,
          8.61999148843035,
          9.79897168910227,
          8.408391390262121,
          4.078976046290089,
          1.792887145706656,
          0.5887401112701464,
          2.7041039752274143,
          6.424720634663099
         ]
        },
        {
         "mode": "lines",
         "name": "CAMMESA fuel oil",
         "type": "scatter",
         "x": [
          1920,
          1921,
          1922,
          1923,
          1924,
          1925,
          1926,
          1927,
          1928,
          1929,
          1930,
          1931,
          1932,
          1933,
          1934,
          1935,
          1936,
          1937,
          1938,
          1939,
          1940,
          1941,
          1942,
          1943,
          1944,
          1945,
          1946,
          1947,
          1948,
          1949,
          1950,
          1951,
          1952,
          1953,
          1954,
          1955,
          1956,
          1957,
          1958,
          1959,
          1960,
          1961,
          1962,
          1963,
          1964,
          1965,
          1966,
          1967,
          1968,
          1969,
          1970,
          1971,
          1972,
          1973,
          1974,
          1975,
          1976,
          1977,
          1978,
          1979,
          1980,
          1981,
          1982,
          1983,
          1984,
          1985,
          1986,
          1987,
          1988,
          1989,
          1990,
          1991,
          1992,
          1993,
          1994,
          1995,
          1996,
          1997,
          1998,
          1999,
          2000,
          2001,
          2002,
          2003,
          2004,
          2005,
          2006,
          2007,
          2008,
          2009,
          2010,
          2011,
          2012,
          2013,
          2014,
          2015,
          2016,
          2017,
          2018,
          2019,
          2020,
          2021
         ],
         "y": [
          null,
          null,
          null,
          null,
          null,
          null,
          null,
          null,
          null,
          null,
          null,
          null,
          null,
          null,
          null,
          null,
          null,
          null,
          null,
          null,
          null,
          null,
          null,
          null,
          null,
          null,
          null,
          null,
          null,
          null,
          null,
          null,
          null,
          null,
          null,
          null,
          null,
          null,
          null,
          null,
          null,
          null,
          null,
          null,
          null,
          null,
          null,
          null,
          null,
          null,
          null,
          null,
          null,
          null,
          null,
          null,
          null,
          null,
          null,
          null,
          null,
          null,
          null,
          null,
          null,
          null,
          null,
          null,
          null,
          null,
          null,
          null,
          null,
          null,
          null,
          null,
          null,
          null,
          null,
          null,
          null,
          null,
          null,
          null,
          null,
          null,
          null,
          6.01853064315067,
          7.44613296383277,
          5.086019129385618,
          7.175153175830687,
          8.163838945015177,
          9.071705623838826,
          7.083211421465779,
          8.619928883466654,
          9.796651727112758,
          8.408449738024835,
          4.07993047458507,
          1.7924727887191885,
          0.5887513665228032,
          1.8393162874166051,
          2.379737678337903
         ]
        },
        {
         "line": {
          "dash": "dash"
         },
         "mode": "lines",
         "name": "Estimacion propia gas oil",
         "type": "scatter",
         "x": [
          1920,
          1921,
          1922,
          1923,
          1924,
          1925,
          1926,
          1927,
          1928,
          1929,
          1930,
          1931,
          1932,
          1933,
          1934,
          1935,
          1936,
          1937,
          1938,
          1939,
          1940,
          1941,
          1942,
          1943,
          1944,
          1945,
          1946,
          1947,
          1948,
          1949,
          1950,
          1951,
          1952,
          1953,
          1954,
          1955,
          1956,
          1957,
          1958,
          1959,
          1960,
          1961,
          1962,
          1963,
          1964,
          1965,
          1966,
          1967,
          1968,
          1969,
          1970,
          1971,
          1972,
          1973,
          1974,
          1975,
          1976,
          1977,
          1978,
          1979,
          1980,
          1981,
          1982,
          1983,
          1984,
          1985,
          1986,
          1987,
          1988,
          1989,
          1990,
          1991,
          1992,
          1993,
          1994,
          1995,
          1996,
          1997,
          1998,
          1999,
          2000,
          2001,
          2002,
          2003,
          2004,
          2005,
          2006,
          2007,
          2008,
          2009,
          2010,
          2011,
          2012,
          2013,
          2014,
          2015,
          2016,
          2017,
          2018,
          2019,
          2020,
          2021
         ],
         "y": [
          null,
          null,
          null,
          null,
          null,
          null,
          null,
          null,
          null,
          null,
          null,
          null,
          null,
          null,
          null,
          null,
          null,
          null,
          null,
          null,
          null,
          null,
          null,
          null,
          null,
          null,
          null,
          null,
          null,
          null,
          null,
          null,
          null,
          null,
          null,
          null,
          null,
          null,
          null,
          null,
          null,
          null,
          null,
          null,
          null,
          null,
          null,
          null,
          null,
          null,
          null,
          null,
          null,
          null,
          null,
          null,
          null,
          null,
          null,
          null,
          null,
          null,
          null,
          null,
          null,
          null,
          null,
          null,
          null,
          null,
          null,
          null,
          null,
          null,
          null,
          null,
          null,
          null,
          null,
          null,
          null,
          null,
          null,
          null,
          null,
          null,
          null,
          null,
          null,
          null,
          null,
          null,
          4.930350900182732,
          6.994601549606825,
          4.852927912821234,
          6.037727968384339,
          6.421594400612641,
          3.767135931037051,
          2.358083330423731,
          1.087734306002668,
          1.563843137692788,
          2.017550357735514
         ]
        },
        {
         "mode": "lines",
         "name": "CAMMESA gas oil",
         "type": "scatter",
         "x": [
          1920,
          1921,
          1922,
          1923,
          1924,
          1925,
          1926,
          1927,
          1928,
          1929,
          1930,
          1931,
          1932,
          1933,
          1934,
          1935,
          1936,
          1937,
          1938,
          1939,
          1940,
          1941,
          1942,
          1943,
          1944,
          1945,
          1946,
          1947,
          1948,
          1949,
          1950,
          1951,
          1952,
          1953,
          1954,
          1955,
          1956,
          1957,
          1958,
          1959,
          1960,
          1961,
          1962,
          1963,
          1964,
          1965,
          1966,
          1967,
          1968,
          1969,
          1970,
          1971,
          1972,
          1973,
          1974,
          1975,
          1976,
          1977,
          1978,
          1979,
          1980,
          1981,
          1982,
          1983,
          1984,
          1985,
          1986,
          1987,
          1988,
          1989,
          1990,
          1991,
          1992,
          1993,
          1994,
          1995,
          1996,
          1997,
          1998,
          1999,
          2000,
          2001,
          2002,
          2003,
          2004,
          2005,
          2006,
          2007,
          2008,
          2009,
          2010,
          2011,
          2012,
          2013,
          2014,
          2015,
          2016,
          2017,
          2018,
          2019,
          2020,
          2021
         ],
         "y": [
          null,
          null,
          null,
          null,
          null,
          null,
          null,
          null,
          null,
          null,
          null,
          null,
          null,
          null,
          null,
          null,
          null,
          null,
          null,
          null,
          null,
          null,
          null,
          null,
          null,
          null,
          null,
          null,
          null,
          null,
          null,
          null,
          null,
          null,
          null,
          null,
          null,
          null,
          null,
          null,
          null,
          null,
          null,
          null,
          null,
          null,
          null,
          null,
          null,
          null,
          null,
          null,
          null,
          null,
          null,
          null,
          null,
          null,
          null,
          null,
          null,
          null,
          null,
          null,
          null,
          null,
          null,
          null,
          null,
          null,
          null,
          null,
          null,
          null,
          null,
          null,
          null,
          null,
          null,
          null,
          null,
          null,
          null,
          null,
          null,
          null,
          null,
          2.0664507044718694,
          2.272783253767165,
          2.634380233007962,
          4.497998991900912,
          5.44645598768295,
          4.931163579247504,
          6.99429430951487,
          4.852624443373714,
          6.040874706021422,
          6.4216188531608625,
          3.7683108185296166,
          2.3600757518880524,
          1.0893300842627476,
          2.2991121615123093,
          5.457736342506337
         ]
        },
        {
         "line": {
          "dash": "dash"
         },
         "mode": "lines",
         "name": "Estimacion propia carbón mineral",
         "type": "scatter",
         "x": [
          1920,
          1921,
          1922,
          1923,
          1924,
          1925,
          1926,
          1927,
          1928,
          1929,
          1930,
          1931,
          1932,
          1933,
          1934,
          1935,
          1936,
          1937,
          1938,
          1939,
          1940,
          1941,
          1942,
          1943,
          1944,
          1945,
          1946,
          1947,
          1948,
          1949,
          1950,
          1951,
          1952,
          1953,
          1954,
          1955,
          1956,
          1957,
          1958,
          1959,
          1960,
          1961,
          1962,
          1963,
          1964,
          1965,
          1966,
          1967,
          1968,
          1969,
          1970,
          1971,
          1972,
          1973,
          1974,
          1975,
          1976,
          1977,
          1978,
          1979,
          1980,
          1981,
          1982,
          1983,
          1984,
          1985,
          1986,
          1987,
          1988,
          1989,
          1990,
          1991,
          1992,
          1993,
          1994,
          1995,
          1996,
          1997,
          1998,
          1999,
          2000,
          2001,
          2002,
          2003,
          2004,
          2005,
          2006,
          2007,
          2008,
          2009,
          2010,
          2011,
          2012,
          2013,
          2014,
          2015,
          2016,
          2017,
          2018,
          2019,
          2020,
          2021
         ],
         "y": [
          null,
          null,
          null,
          null,
          null,
          null,
          null,
          null,
          null,
          null,
          null,
          null,
          null,
          null,
          null,
          null,
          null,
          null,
          null,
          null,
          null,
          null,
          null,
          null,
          null,
          null,
          null,
          null,
          null,
          null,
          null,
          null,
          null,
          null,
          null,
          null,
          null,
          null,
          null,
          null,
          null,
          null,
          null,
          null,
          null,
          null,
          null,
          null,
          null,
          null,
          null,
          null,
          null,
          null,
          null,
          null,
          null,
          null,
          null,
          null,
          null,
          null,
          null,
          null,
          null,
          null,
          null,
          null,
          null,
          null,
          null,
          null,
          null,
          null,
          null,
          null,
          null,
          null,
          null,
          null,
          null,
          null,
          null,
          null,
          null,
          null,
          null,
          null,
          null,
          null,
          null,
          null,
          2.25722045143408,
          1.9879706261515058,
          2.345478162707879,
          2.216395370187161,
          1.6997081503593947,
          1.5263648228548352,
          1.5350034807536177,
          0.5180585275543357,
          1.1092185511967665,
          2.0216586435919
         ]
        },
        {
         "mode": "lines",
         "name": "CAMMESA carbón mineral",
         "type": "scatter",
         "x": [
          1920,
          1921,
          1922,
          1923,
          1924,
          1925,
          1926,
          1927,
          1928,
          1929,
          1930,
          1931,
          1932,
          1933,
          1934,
          1935,
          1936,
          1937,
          1938,
          1939,
          1940,
          1941,
          1942,
          1943,
          1944,
          1945,
          1946,
          1947,
          1948,
          1949,
          1950,
          1951,
          1952,
          1953,
          1954,
          1955,
          1956,
          1957,
          1958,
          1959,
          1960,
          1961,
          1962,
          1963,
          1964,
          1965,
          1966,
          1967,
          1968,
          1969,
          1970,
          1971,
          1972,
          1973,
          1974,
          1975,
          1976,
          1977,
          1978,
          1979,
          1980,
          1981,
          1982,
          1983,
          1984,
          1985,
          1986,
          1987,
          1988,
          1989,
          1990,
          1991,
          1992,
          1993,
          1994,
          1995,
          1996,
          1997,
          1998,
          1999,
          2000,
          2001,
          2002,
          2003,
          2004,
          2005,
          2006,
          2007,
          2008,
          2009,
          2010,
          2011,
          2012,
          2013,
          2014,
          2015,
          2016,
          2017,
          2018,
          2019,
          2020,
          2021
         ],
         "y": [
          null,
          null,
          null,
          null,
          null,
          null,
          null,
          null,
          null,
          null,
          null,
          null,
          null,
          null,
          null,
          null,
          null,
          null,
          null,
          null,
          null,
          null,
          null,
          null,
          null,
          null,
          null,
          null,
          null,
          null,
          null,
          null,
          null,
          null,
          null,
          null,
          null,
          null,
          null,
          null,
          null,
          null,
          null,
          null,
          null,
          null,
          null,
          null,
          null,
          null,
          null,
          null,
          null,
          null,
          null,
          null,
          null,
          null,
          null,
          null,
          null,
          null,
          null,
          null,
          null,
          null,
          null,
          null,
          null,
          null,
          null,
          null,
          null,
          null,
          null,
          null,
          null,
          null,
          null,
          null,
          null,
          null,
          null,
          null,
          null,
          null,
          null,
          1.3763028429180801,
          1.8762042556548015,
          1.8582736561693924,
          2.0407911208476177,
          2.3329549856754417,
          2.257201860447054,
          1.9879543026997637,
          2.345478162707879,
          2.216395370187161,
          1.693673374920745,
          1.526364822854835,
          1.5350034807536177,
          0.5180585275543358,
          1.1092185511967665,
          2.0216586435919
         ]
        }
       ],
       "layout": {
        "legend": {
         "bgcolor": "LightSteelBlue",
         "bordercolor": "Black",
         "borderwidth": 1,
         "font": {
          "color": "black",
          "family": "sans-serif",
          "size": 12
         },
         "orientation": "v",
         "traceorder": "normal",
         "x": 1.1,
         "y": 1
        },
        "template": {
         "data": {
          "bar": [
           {
            "error_x": {
             "color": "rgb(36,36,36)"
            },
            "error_y": {
             "color": "rgb(36,36,36)"
            },
            "marker": {
             "line": {
              "color": "white",
              "width": 0.5
             },
             "pattern": {
              "fillmode": "overlay",
              "size": 10,
              "solidity": 0.2
             }
            },
            "type": "bar"
           }
          ],
          "barpolar": [
           {
            "marker": {
             "line": {
              "color": "white",
              "width": 0.5
             },
             "pattern": {
              "fillmode": "overlay",
              "size": 10,
              "solidity": 0.2
             }
            },
            "type": "barpolar"
           }
          ],
          "carpet": [
           {
            "aaxis": {
             "endlinecolor": "rgb(36,36,36)",
             "gridcolor": "white",
             "linecolor": "white",
             "minorgridcolor": "white",
             "startlinecolor": "rgb(36,36,36)"
            },
            "baxis": {
             "endlinecolor": "rgb(36,36,36)",
             "gridcolor": "white",
             "linecolor": "white",
             "minorgridcolor": "white",
             "startlinecolor": "rgb(36,36,36)"
            },
            "type": "carpet"
           }
          ],
          "choropleth": [
           {
            "colorbar": {
             "outlinewidth": 1,
             "tickcolor": "rgb(36,36,36)",
             "ticks": "outside"
            },
            "type": "choropleth"
           }
          ],
          "contour": [
           {
            "colorbar": {
             "outlinewidth": 1,
             "tickcolor": "rgb(36,36,36)",
             "ticks": "outside"
            },
            "colorscale": [
             [
              0,
              "#440154"
             ],
             [
              0.1111111111111111,
              "#482878"
             ],
             [
              0.2222222222222222,
              "#3e4989"
             ],
             [
              0.3333333333333333,
              "#31688e"
             ],
             [
              0.4444444444444444,
              "#26828e"
             ],
             [
              0.5555555555555556,
              "#1f9e89"
             ],
             [
              0.6666666666666666,
              "#35b779"
             ],
             [
              0.7777777777777778,
              "#6ece58"
             ],
             [
              0.8888888888888888,
              "#b5de2b"
             ],
             [
              1,
              "#fde725"
             ]
            ],
            "type": "contour"
           }
          ],
          "contourcarpet": [
           {
            "colorbar": {
             "outlinewidth": 1,
             "tickcolor": "rgb(36,36,36)",
             "ticks": "outside"
            },
            "type": "contourcarpet"
           }
          ],
          "heatmap": [
           {
            "colorbar": {
             "outlinewidth": 1,
             "tickcolor": "rgb(36,36,36)",
             "ticks": "outside"
            },
            "colorscale": [
             [
              0,
              "#440154"
             ],
             [
              0.1111111111111111,
              "#482878"
             ],
             [
              0.2222222222222222,
              "#3e4989"
             ],
             [
              0.3333333333333333,
              "#31688e"
             ],
             [
              0.4444444444444444,
              "#26828e"
             ],
             [
              0.5555555555555556,
              "#1f9e89"
             ],
             [
              0.6666666666666666,
              "#35b779"
             ],
             [
              0.7777777777777778,
              "#6ece58"
             ],
             [
              0.8888888888888888,
              "#b5de2b"
             ],
             [
              1,
              "#fde725"
             ]
            ],
            "type": "heatmap"
           }
          ],
          "heatmapgl": [
           {
            "colorbar": {
             "outlinewidth": 1,
             "tickcolor": "rgb(36,36,36)",
             "ticks": "outside"
            },
            "colorscale": [
             [
              0,
              "#440154"
             ],
             [
              0.1111111111111111,
              "#482878"
             ],
             [
              0.2222222222222222,
              "#3e4989"
             ],
             [
              0.3333333333333333,
              "#31688e"
             ],
             [
              0.4444444444444444,
              "#26828e"
             ],
             [
              0.5555555555555556,
              "#1f9e89"
             ],
             [
              0.6666666666666666,
              "#35b779"
             ],
             [
              0.7777777777777778,
              "#6ece58"
             ],
             [
              0.8888888888888888,
              "#b5de2b"
             ],
             [
              1,
              "#fde725"
             ]
            ],
            "type": "heatmapgl"
           }
          ],
          "histogram": [
           {
            "marker": {
             "line": {
              "color": "white",
              "width": 0.6
             }
            },
            "type": "histogram"
           }
          ],
          "histogram2d": [
           {
            "colorbar": {
             "outlinewidth": 1,
             "tickcolor": "rgb(36,36,36)",
             "ticks": "outside"
            },
            "colorscale": [
             [
              0,
              "#440154"
             ],
             [
              0.1111111111111111,
              "#482878"
             ],
             [
              0.2222222222222222,
              "#3e4989"
             ],
             [
              0.3333333333333333,
              "#31688e"
             ],
             [
              0.4444444444444444,
              "#26828e"
             ],
             [
              0.5555555555555556,
              "#1f9e89"
             ],
             [
              0.6666666666666666,
              "#35b779"
             ],
             [
              0.7777777777777778,
              "#6ece58"
             ],
             [
              0.8888888888888888,
              "#b5de2b"
             ],
             [
              1,
              "#fde725"
             ]
            ],
            "type": "histogram2d"
           }
          ],
          "histogram2dcontour": [
           {
            "colorbar": {
             "outlinewidth": 1,
             "tickcolor": "rgb(36,36,36)",
             "ticks": "outside"
            },
            "colorscale": [
             [
              0,
              "#440154"
             ],
             [
              0.1111111111111111,
              "#482878"
             ],
             [
              0.2222222222222222,
              "#3e4989"
             ],
             [
              0.3333333333333333,
              "#31688e"
             ],
             [
              0.4444444444444444,
              "#26828e"
             ],
             [
              0.5555555555555556,
              "#1f9e89"
             ],
             [
              0.6666666666666666,
              "#35b779"
             ],
             [
              0.7777777777777778,
              "#6ece58"
             ],
             [
              0.8888888888888888,
              "#b5de2b"
             ],
             [
              1,
              "#fde725"
             ]
            ],
            "type": "histogram2dcontour"
           }
          ],
          "mesh3d": [
           {
            "colorbar": {
             "outlinewidth": 1,
             "tickcolor": "rgb(36,36,36)",
             "ticks": "outside"
            },
            "type": "mesh3d"
           }
          ],
          "parcoords": [
           {
            "line": {
             "colorbar": {
              "outlinewidth": 1,
              "tickcolor": "rgb(36,36,36)",
              "ticks": "outside"
             }
            },
            "type": "parcoords"
           }
          ],
          "pie": [
           {
            "automargin": true,
            "type": "pie"
           }
          ],
          "scatter": [
           {
            "fillpattern": {
             "fillmode": "overlay",
             "size": 10,
             "solidity": 0.2
            },
            "type": "scatter"
           }
          ],
          "scatter3d": [
           {
            "line": {
             "colorbar": {
              "outlinewidth": 1,
              "tickcolor": "rgb(36,36,36)",
              "ticks": "outside"
             }
            },
            "marker": {
             "colorbar": {
              "outlinewidth": 1,
              "tickcolor": "rgb(36,36,36)",
              "ticks": "outside"
             }
            },
            "type": "scatter3d"
           }
          ],
          "scattercarpet": [
           {
            "marker": {
             "colorbar": {
              "outlinewidth": 1,
              "tickcolor": "rgb(36,36,36)",
              "ticks": "outside"
             }
            },
            "type": "scattercarpet"
           }
          ],
          "scattergeo": [
           {
            "marker": {
             "colorbar": {
              "outlinewidth": 1,
              "tickcolor": "rgb(36,36,36)",
              "ticks": "outside"
             }
            },
            "type": "scattergeo"
           }
          ],
          "scattergl": [
           {
            "marker": {
             "colorbar": {
              "outlinewidth": 1,
              "tickcolor": "rgb(36,36,36)",
              "ticks": "outside"
             }
            },
            "type": "scattergl"
           }
          ],
          "scattermapbox": [
           {
            "marker": {
             "colorbar": {
              "outlinewidth": 1,
              "tickcolor": "rgb(36,36,36)",
              "ticks": "outside"
             }
            },
            "type": "scattermapbox"
           }
          ],
          "scatterpolar": [
           {
            "marker": {
             "colorbar": {
              "outlinewidth": 1,
              "tickcolor": "rgb(36,36,36)",
              "ticks": "outside"
             }
            },
            "type": "scatterpolar"
           }
          ],
          "scatterpolargl": [
           {
            "marker": {
             "colorbar": {
              "outlinewidth": 1,
              "tickcolor": "rgb(36,36,36)",
              "ticks": "outside"
             }
            },
            "type": "scatterpolargl"
           }
          ],
          "scatterternary": [
           {
            "marker": {
             "colorbar": {
              "outlinewidth": 1,
              "tickcolor": "rgb(36,36,36)",
              "ticks": "outside"
             }
            },
            "type": "scatterternary"
           }
          ],
          "surface": [
           {
            "colorbar": {
             "outlinewidth": 1,
             "tickcolor": "rgb(36,36,36)",
             "ticks": "outside"
            },
            "colorscale": [
             [
              0,
              "#440154"
             ],
             [
              0.1111111111111111,
              "#482878"
             ],
             [
              0.2222222222222222,
              "#3e4989"
             ],
             [
              0.3333333333333333,
              "#31688e"
             ],
             [
              0.4444444444444444,
              "#26828e"
             ],
             [
              0.5555555555555556,
              "#1f9e89"
             ],
             [
              0.6666666666666666,
              "#35b779"
             ],
             [
              0.7777777777777778,
              "#6ece58"
             ],
             [
              0.8888888888888888,
              "#b5de2b"
             ],
             [
              1,
              "#fde725"
             ]
            ],
            "type": "surface"
           }
          ],
          "table": [
           {
            "cells": {
             "fill": {
              "color": "rgb(237,237,237)"
             },
             "line": {
              "color": "white"
             }
            },
            "header": {
             "fill": {
              "color": "rgb(217,217,217)"
             },
             "line": {
              "color": "white"
             }
            },
            "type": "table"
           }
          ]
         },
         "layout": {
          "annotationdefaults": {
           "arrowhead": 0,
           "arrowwidth": 1
          },
          "autotypenumbers": "strict",
          "coloraxis": {
           "colorbar": {
            "outlinewidth": 1,
            "tickcolor": "rgb(36,36,36)",
            "ticks": "outside"
           }
          },
          "colorscale": {
           "diverging": [
            [
             0,
             "rgb(103,0,31)"
            ],
            [
             0.1,
             "rgb(178,24,43)"
            ],
            [
             0.2,
             "rgb(214,96,77)"
            ],
            [
             0.3,
             "rgb(244,165,130)"
            ],
            [
             0.4,
             "rgb(253,219,199)"
            ],
            [
             0.5,
             "rgb(247,247,247)"
            ],
            [
             0.6,
             "rgb(209,229,240)"
            ],
            [
             0.7,
             "rgb(146,197,222)"
            ],
            [
             0.8,
             "rgb(67,147,195)"
            ],
            [
             0.9,
             "rgb(33,102,172)"
            ],
            [
             1,
             "rgb(5,48,97)"
            ]
           ],
           "sequential": [
            [
             0,
             "#440154"
            ],
            [
             0.1111111111111111,
             "#482878"
            ],
            [
             0.2222222222222222,
             "#3e4989"
            ],
            [
             0.3333333333333333,
             "#31688e"
            ],
            [
             0.4444444444444444,
             "#26828e"
            ],
            [
             0.5555555555555556,
             "#1f9e89"
            ],
            [
             0.6666666666666666,
             "#35b779"
            ],
            [
             0.7777777777777778,
             "#6ece58"
            ],
            [
             0.8888888888888888,
             "#b5de2b"
            ],
            [
             1,
             "#fde725"
            ]
           ],
           "sequentialminus": [
            [
             0,
             "#440154"
            ],
            [
             0.1111111111111111,
             "#482878"
            ],
            [
             0.2222222222222222,
             "#3e4989"
            ],
            [
             0.3333333333333333,
             "#31688e"
            ],
            [
             0.4444444444444444,
             "#26828e"
            ],
            [
             0.5555555555555556,
             "#1f9e89"
            ],
            [
             0.6666666666666666,
             "#35b779"
            ],
            [
             0.7777777777777778,
             "#6ece58"
            ],
            [
             0.8888888888888888,
             "#b5de2b"
            ],
            [
             1,
             "#fde725"
            ]
           ]
          },
          "colorway": [
           "#1F77B4",
           "#FF7F0E",
           "#2CA02C",
           "#D62728",
           "#9467BD",
           "#8C564B",
           "#E377C2",
           "#7F7F7F",
           "#BCBD22",
           "#17BECF"
          ],
          "font": {
           "color": "rgb(36,36,36)"
          },
          "geo": {
           "bgcolor": "white",
           "lakecolor": "white",
           "landcolor": "white",
           "showlakes": true,
           "showland": true,
           "subunitcolor": "white"
          },
          "hoverlabel": {
           "align": "left"
          },
          "hovermode": "closest",
          "mapbox": {
           "style": "light"
          },
          "paper_bgcolor": "white",
          "plot_bgcolor": "white",
          "polar": {
           "angularaxis": {
            "gridcolor": "rgb(232,232,232)",
            "linecolor": "rgb(36,36,36)",
            "showgrid": false,
            "showline": true,
            "ticks": "outside"
           },
           "bgcolor": "white",
           "radialaxis": {
            "gridcolor": "rgb(232,232,232)",
            "linecolor": "rgb(36,36,36)",
            "showgrid": false,
            "showline": true,
            "ticks": "outside"
           }
          },
          "scene": {
           "xaxis": {
            "backgroundcolor": "white",
            "gridcolor": "rgb(232,232,232)",
            "gridwidth": 2,
            "linecolor": "rgb(36,36,36)",
            "showbackground": true,
            "showgrid": false,
            "showline": true,
            "ticks": "outside",
            "zeroline": false,
            "zerolinecolor": "rgb(36,36,36)"
           },
           "yaxis": {
            "backgroundcolor": "white",
            "gridcolor": "rgb(232,232,232)",
            "gridwidth": 2,
            "linecolor": "rgb(36,36,36)",
            "showbackground": true,
            "showgrid": false,
            "showline": true,
            "ticks": "outside",
            "zeroline": false,
            "zerolinecolor": "rgb(36,36,36)"
           },
           "zaxis": {
            "backgroundcolor": "white",
            "gridcolor": "rgb(232,232,232)",
            "gridwidth": 2,
            "linecolor": "rgb(36,36,36)",
            "showbackground": true,
            "showgrid": false,
            "showline": true,
            "ticks": "outside",
            "zeroline": false,
            "zerolinecolor": "rgb(36,36,36)"
           }
          },
          "shapedefaults": {
           "fillcolor": "black",
           "line": {
            "width": 0
           },
           "opacity": 0.3
          },
          "ternary": {
           "aaxis": {
            "gridcolor": "rgb(232,232,232)",
            "linecolor": "rgb(36,36,36)",
            "showgrid": false,
            "showline": true,
            "ticks": "outside"
           },
           "baxis": {
            "gridcolor": "rgb(232,232,232)",
            "linecolor": "rgb(36,36,36)",
            "showgrid": false,
            "showline": true,
            "ticks": "outside"
           },
           "bgcolor": "white",
           "caxis": {
            "gridcolor": "rgb(232,232,232)",
            "linecolor": "rgb(36,36,36)",
            "showgrid": false,
            "showline": true,
            "ticks": "outside"
           }
          },
          "title": {
           "x": 0.05
          },
          "xaxis": {
           "automargin": true,
           "gridcolor": "rgb(232,232,232)",
           "linecolor": "rgb(36,36,36)",
           "showgrid": false,
           "showline": true,
           "ticks": "outside",
           "title": {
            "standoff": 15
           },
           "zeroline": false,
           "zerolinecolor": "rgb(36,36,36)"
          },
          "yaxis": {
           "automargin": true,
           "gridcolor": "rgb(232,232,232)",
           "linecolor": "rgb(36,36,36)",
           "showgrid": false,
           "showline": true,
           "ticks": "outside",
           "title": {
            "standoff": 15
           },
           "zeroline": false,
           "zerolinecolor": "rgb(36,36,36)"
          }
         }
        },
        "title": {
         "text": "Estimación propia vs CAMMESA"
        },
        "xaxis": {
         "dtick": 1,
         "range": [
          2007,
          2022
         ],
         "tickmode": "linear"
        },
        "yaxis": {
         "title": {
          "text": "CO2 resto combustibles, en M ton co2"
         }
        },
        "yaxis2": {
         "overlaying": "y",
         "side": "right",
         "title": {
          "text": "CO2 Gas Natural, en M ton co2"
         }
        }
       }
      }
     },
     "metadata": {},
     "output_type": "display_data"
    }
   ],
   "source": [
    "import plotly.graph_objects as go\n",
    "\n",
    "variables = [\"gas natural\", \"fuel oil\", \"gas oil\", \"carbón mineral\"]\n",
    "\n",
    "fig = go.Figure()\n",
    "\n",
    "# Estimacion propia vs estimacion CAMMESA\n",
    "for variable in variables:\n",
    "    if variable == \"gas natural\":\n",
    "        fig.add_trace(go.Scatter(x=df_completo['year'], y=df_completo[\"ep_c_\" + variable], mode='lines', name=\"Estimacion propia \" + variable,\n",
    "                                 line=dict(dash='dash'),\n",
    "                                 yaxis='y2'))\n",
    "        fig.add_trace(go.Scatter(x=df_completo['year'], y=df_completo[\"e_\" + variable], mode='lines', name=\"CAMMESA \" + variable,\n",
    "                                 yaxis='y2'))\n",
    "    else:\n",
    "        fig.add_trace(go.Scatter(x=df_completo['year'], y=df_completo[\"ep_c_\" + variable], mode='lines', name=\"Estimacion propia \" + variable,\n",
    "                                 line=dict(dash='dash')))\n",
    "        fig.add_trace(go.Scatter(x=df_completo['year'], y=df_completo[\"e_\" + variable], mode='lines', name=\"CAMMESA \" + variable))\n",
    "\n",
    "fig.update_layout(template=\"simple_white\",\n",
    "                  xaxis=dict(\n",
    "                      range=[2007, 2022],\n",
    "                      tickmode='linear',\n",
    "                      dtick=1\n",
    "                  ),\n",
    "                  yaxis=dict(\n",
    "                      title=\"CO2 resto combustibles, en M ton co2\"\n",
    "                  ),\n",
    "                  yaxis2=dict(\n",
    "                      title=\"CO2 Gas Natural, en M ton co2\",\n",
    "                      overlaying='y',\n",
    "                      side='right'\n",
    "                  ),\n",
    "                  title=\"Estimación propia vs CAMMESA\",\n",
    "                  legend=dict(\n",
    "                      x=1.1,\n",
    "                      y=1,\n",
    "                      traceorder=\"normal\",\n",
    "                      font=dict(\n",
    "                          family=\"sans-serif\",\n",
    "                          size=12,\n",
    "                          color=\"black\"\n",
    "                      ),\n",
    "                      bgcolor=\"LightSteelBlue\",\n",
    "                      bordercolor=\"Black\",\n",
    "                      borderwidth=1,\n",
    "                      orientation=\"v\"\n",
    "                  )\n",
    ")\n",
    "\n",
    "fig.show()\n",
    "\n"
   ]
  },
  {
   "cell_type": "code",
   "execution_count": 140,
   "id": "7a749884",
   "metadata": {},
   "outputs": [
    {
     "data": {
      "application/vnd.plotly.v1+json": {
       "config": {
        "plotlyServerURL": "https://plot.ly"
       },
       "data": [
        {
         "line": {
          "dash": "dash"
         },
         "mode": "lines",
         "name": "Estimacion propia ",
         "type": "scatter",
         "x": [
          1920,
          1921,
          1922,
          1923,
          1924,
          1925,
          1926,
          1927,
          1928,
          1929,
          1930,
          1931,
          1932,
          1933,
          1934,
          1935,
          1936,
          1937,
          1938,
          1939,
          1940,
          1941,
          1942,
          1943,
          1944,
          1945,
          1946,
          1947,
          1948,
          1949,
          1950,
          1951,
          1952,
          1953,
          1954,
          1955,
          1956,
          1957,
          1958,
          1959,
          1960,
          1961,
          1962,
          1963,
          1964,
          1965,
          1966,
          1967,
          1968,
          1969,
          1970,
          1971,
          1972,
          1973,
          1974,
          1975,
          1976,
          1977,
          1978,
          1979,
          1980,
          1981,
          1982,
          1983,
          1984,
          1985,
          1986,
          1987,
          1988,
          1989,
          1990,
          1991,
          1992,
          1993,
          1994,
          1995,
          1996,
          1997,
          1998,
          1999,
          2000,
          2001,
          2002,
          2003,
          2004,
          2005,
          2006,
          2007,
          2008,
          2009,
          2010,
          2011,
          2012,
          2013,
          2014,
          2015,
          2016,
          2017,
          2018,
          2019,
          2020,
          2021
         ],
         "y": [
          2.433804951874137,
          2.4958992957500548,
          2.6939046791797745,
          2.992218749051663,
          3.2243872800131834,
          3.210364678570136,
          3.364377762211659,
          3.604138600496333,
          3.8286806831381712,
          4.003473643672479,
          3.8381474937468916,
          3.5718404048998798,
          3.4543880609153867,
          3.6148966723665983,
          3.902641055509778,
          4.074576333346597,
          4.102575608463553,
          4.40062813391561,
          4.4197661946717846,
          4.587448886238681,
          4.662900488565783,
          4.9024954991530345,
          4.959590625680195,
          4.920255320394605,
          5.479100350873516,
          5.301426540536932,
          5.775261708982177,
          6.416197139851167,
          6.773455030568168,
          6.680525676661287,
          6.763820766500285,
          7.027630685315528,
          6.66899861948827,
          7.027133202223261,
          7.317737300266105,
          7.839529594941589,
          8.054546339552088,
          8.46964558143465,
          8.988843973254868,
          8.40608967775498,
          9.06346562421399,
          9.712608713224508,
          9.555565006480464,
          9.325239276450592,
          10.28666193189495,
          11.226968380986676,
          11.303853092287088,
          11.606230956846908,
          12.10026011829809,
          13.13397470812896,
          13.837300371510443,
          14.509152913378237,
          14.962195808497434,
          15.873500293919408,
          16.902921246996435,
          16.75257080133364,
          16.71214135839741,
          17.720146152080883,
          16.941637137059303,
          18.154196898560016,
          18.410727469186945,
          17.35419368758139,
          16.807419125136903,
          17.40006618082124,
          17.754200983236792,
          16.579685672200554,
          17.793412730630184,
          18.252787967724476,
          17.906855133284367,
          16.795476279399026,
          16.806905384427242,
          18.657854633912994,
          20.67328057281548,
          22.06746393279873,
          23.46393473954937,
          22.902016206502058,
          24.28156445930693,
          26.37131697341283,
          27.514459960163222,
          26.70592312581431,
          26.617137025700373,
          25.56234931220297,
          22.882289213555772,
          25.020547954919408,
          27.40584281835168,
          29.97029012242255,
          32.532054919623356,
          40.60297417404205,
          43.83264499605359,
          41.69887185628738,
          43.51270718662922,
          44.33783448682711,
          43.54875160232283,
          43.24728632928087,
          43.785391922218714,
          46.18027839275396,
          46.89952693193847,
          42.71964429683773,
          40.8314210557421,
          35.716298129990534,
          37.121297654668574,
          42.339083206457595
         ]
        },
        {
         "line": {
          "dash": "solid"
         },
         "mode": "lines",
         "name": "CAMMESA",
         "type": "scatter",
         "x": [
          1920,
          1921,
          1922,
          1923,
          1924,
          1925,
          1926,
          1927,
          1928,
          1929,
          1930,
          1931,
          1932,
          1933,
          1934,
          1935,
          1936,
          1937,
          1938,
          1939,
          1940,
          1941,
          1942,
          1943,
          1944,
          1945,
          1946,
          1947,
          1948,
          1949,
          1950,
          1951,
          1952,
          1953,
          1954,
          1955,
          1956,
          1957,
          1958,
          1959,
          1960,
          1961,
          1962,
          1963,
          1964,
          1965,
          1966,
          1967,
          1968,
          1969,
          1970,
          1971,
          1972,
          1973,
          1974,
          1975,
          1976,
          1977,
          1978,
          1979,
          1980,
          1981,
          1982,
          1983,
          1984,
          1985,
          1986,
          1987,
          1988,
          1989,
          1990,
          1991,
          1992,
          1993,
          1994,
          1995,
          1996,
          1997,
          1998,
          1999,
          2000,
          2001,
          2002,
          2003,
          2004,
          2005,
          2006,
          2007,
          2008,
          2009,
          2010,
          2011,
          2012,
          2013,
          2014,
          2015,
          2016,
          2017,
          2018,
          2019,
          2020,
          2021
         ],
         "y": [
          null,
          null,
          null,
          null,
          null,
          null,
          null,
          null,
          null,
          null,
          null,
          null,
          null,
          null,
          null,
          null,
          null,
          null,
          null,
          null,
          null,
          null,
          null,
          null,
          null,
          null,
          null,
          null,
          null,
          null,
          null,
          null,
          null,
          null,
          null,
          null,
          null,
          null,
          null,
          null,
          null,
          null,
          null,
          null,
          null,
          null,
          null,
          null,
          null,
          null,
          null,
          null,
          null,
          null,
          null,
          null,
          null,
          null,
          null,
          null,
          null,
          null,
          null,
          null,
          null,
          null,
          null,
          null,
          null,
          null,
          null,
          null,
          null,
          null,
          null,
          null,
          null,
          null,
          null,
          null,
          null,
          null,
          null,
          null,
          null,
          null,
          null,
          32.80173502711294,
          37.1030978734569,
          34.12859294935443,
          36.191229947588994,
          40.63500210656254,
          43.60653464500182,
          43.2469498021327,
          43.78455571501267,
          46.1438680880047,
          46.89331442067398,
          42.72578795603905,
          40.82461107306839,
          35.72606991817847,
          36.998774338803315,
          41.712283351094854
         ]
        }
       ],
       "layout": {
        "legend": {
         "bgcolor": "LightSteelBlue",
         "bordercolor": "Black",
         "borderwidth": 1,
         "font": {
          "color": "black",
          "family": "sans-serif",
          "size": 12
         },
         "orientation": "v",
         "traceorder": "normal",
         "x": 1.1,
         "y": 1
        },
        "template": {
         "data": {
          "bar": [
           {
            "error_x": {
             "color": "rgb(36,36,36)"
            },
            "error_y": {
             "color": "rgb(36,36,36)"
            },
            "marker": {
             "line": {
              "color": "white",
              "width": 0.5
             },
             "pattern": {
              "fillmode": "overlay",
              "size": 10,
              "solidity": 0.2
             }
            },
            "type": "bar"
           }
          ],
          "barpolar": [
           {
            "marker": {
             "line": {
              "color": "white",
              "width": 0.5
             },
             "pattern": {
              "fillmode": "overlay",
              "size": 10,
              "solidity": 0.2
             }
            },
            "type": "barpolar"
           }
          ],
          "carpet": [
           {
            "aaxis": {
             "endlinecolor": "rgb(36,36,36)",
             "gridcolor": "white",
             "linecolor": "white",
             "minorgridcolor": "white",
             "startlinecolor": "rgb(36,36,36)"
            },
            "baxis": {
             "endlinecolor": "rgb(36,36,36)",
             "gridcolor": "white",
             "linecolor": "white",
             "minorgridcolor": "white",
             "startlinecolor": "rgb(36,36,36)"
            },
            "type": "carpet"
           }
          ],
          "choropleth": [
           {
            "colorbar": {
             "outlinewidth": 1,
             "tickcolor": "rgb(36,36,36)",
             "ticks": "outside"
            },
            "type": "choropleth"
           }
          ],
          "contour": [
           {
            "colorbar": {
             "outlinewidth": 1,
             "tickcolor": "rgb(36,36,36)",
             "ticks": "outside"
            },
            "colorscale": [
             [
              0,
              "#440154"
             ],
             [
              0.1111111111111111,
              "#482878"
             ],
             [
              0.2222222222222222,
              "#3e4989"
             ],
             [
              0.3333333333333333,
              "#31688e"
             ],
             [
              0.4444444444444444,
              "#26828e"
             ],
             [
              0.5555555555555556,
              "#1f9e89"
             ],
             [
              0.6666666666666666,
              "#35b779"
             ],
             [
              0.7777777777777778,
              "#6ece58"
             ],
             [
              0.8888888888888888,
              "#b5de2b"
             ],
             [
              1,
              "#fde725"
             ]
            ],
            "type": "contour"
           }
          ],
          "contourcarpet": [
           {
            "colorbar": {
             "outlinewidth": 1,
             "tickcolor": "rgb(36,36,36)",
             "ticks": "outside"
            },
            "type": "contourcarpet"
           }
          ],
          "heatmap": [
           {
            "colorbar": {
             "outlinewidth": 1,
             "tickcolor": "rgb(36,36,36)",
             "ticks": "outside"
            },
            "colorscale": [
             [
              0,
              "#440154"
             ],
             [
              0.1111111111111111,
              "#482878"
             ],
             [
              0.2222222222222222,
              "#3e4989"
             ],
             [
              0.3333333333333333,
              "#31688e"
             ],
             [
              0.4444444444444444,
              "#26828e"
             ],
             [
              0.5555555555555556,
              "#1f9e89"
             ],
             [
              0.6666666666666666,
              "#35b779"
             ],
             [
              0.7777777777777778,
              "#6ece58"
             ],
             [
              0.8888888888888888,
              "#b5de2b"
             ],
             [
              1,
              "#fde725"
             ]
            ],
            "type": "heatmap"
           }
          ],
          "heatmapgl": [
           {
            "colorbar": {
             "outlinewidth": 1,
             "tickcolor": "rgb(36,36,36)",
             "ticks": "outside"
            },
            "colorscale": [
             [
              0,
              "#440154"
             ],
             [
              0.1111111111111111,
              "#482878"
             ],
             [
              0.2222222222222222,
              "#3e4989"
             ],
             [
              0.3333333333333333,
              "#31688e"
             ],
             [
              0.4444444444444444,
              "#26828e"
             ],
             [
              0.5555555555555556,
              "#1f9e89"
             ],
             [
              0.6666666666666666,
              "#35b779"
             ],
             [
              0.7777777777777778,
              "#6ece58"
             ],
             [
              0.8888888888888888,
              "#b5de2b"
             ],
             [
              1,
              "#fde725"
             ]
            ],
            "type": "heatmapgl"
           }
          ],
          "histogram": [
           {
            "marker": {
             "line": {
              "color": "white",
              "width": 0.6
             }
            },
            "type": "histogram"
           }
          ],
          "histogram2d": [
           {
            "colorbar": {
             "outlinewidth": 1,
             "tickcolor": "rgb(36,36,36)",
             "ticks": "outside"
            },
            "colorscale": [
             [
              0,
              "#440154"
             ],
             [
              0.1111111111111111,
              "#482878"
             ],
             [
              0.2222222222222222,
              "#3e4989"
             ],
             [
              0.3333333333333333,
              "#31688e"
             ],
             [
              0.4444444444444444,
              "#26828e"
             ],
             [
              0.5555555555555556,
              "#1f9e89"
             ],
             [
              0.6666666666666666,
              "#35b779"
             ],
             [
              0.7777777777777778,
              "#6ece58"
             ],
             [
              0.8888888888888888,
              "#b5de2b"
             ],
             [
              1,
              "#fde725"
             ]
            ],
            "type": "histogram2d"
           }
          ],
          "histogram2dcontour": [
           {
            "colorbar": {
             "outlinewidth": 1,
             "tickcolor": "rgb(36,36,36)",
             "ticks": "outside"
            },
            "colorscale": [
             [
              0,
              "#440154"
             ],
             [
              0.1111111111111111,
              "#482878"
             ],
             [
              0.2222222222222222,
              "#3e4989"
             ],
             [
              0.3333333333333333,
              "#31688e"
             ],
             [
              0.4444444444444444,
              "#26828e"
             ],
             [
              0.5555555555555556,
              "#1f9e89"
             ],
             [
              0.6666666666666666,
              "#35b779"
             ],
             [
              0.7777777777777778,
              "#6ece58"
             ],
             [
              0.8888888888888888,
              "#b5de2b"
             ],
             [
              1,
              "#fde725"
             ]
            ],
            "type": "histogram2dcontour"
           }
          ],
          "mesh3d": [
           {
            "colorbar": {
             "outlinewidth": 1,
             "tickcolor": "rgb(36,36,36)",
             "ticks": "outside"
            },
            "type": "mesh3d"
           }
          ],
          "parcoords": [
           {
            "line": {
             "colorbar": {
              "outlinewidth": 1,
              "tickcolor": "rgb(36,36,36)",
              "ticks": "outside"
             }
            },
            "type": "parcoords"
           }
          ],
          "pie": [
           {
            "automargin": true,
            "type": "pie"
           }
          ],
          "scatter": [
           {
            "fillpattern": {
             "fillmode": "overlay",
             "size": 10,
             "solidity": 0.2
            },
            "type": "scatter"
           }
          ],
          "scatter3d": [
           {
            "line": {
             "colorbar": {
              "outlinewidth": 1,
              "tickcolor": "rgb(36,36,36)",
              "ticks": "outside"
             }
            },
            "marker": {
             "colorbar": {
              "outlinewidth": 1,
              "tickcolor": "rgb(36,36,36)",
              "ticks": "outside"
             }
            },
            "type": "scatter3d"
           }
          ],
          "scattercarpet": [
           {
            "marker": {
             "colorbar": {
              "outlinewidth": 1,
              "tickcolor": "rgb(36,36,36)",
              "ticks": "outside"
             }
            },
            "type": "scattercarpet"
           }
          ],
          "scattergeo": [
           {
            "marker": {
             "colorbar": {
              "outlinewidth": 1,
              "tickcolor": "rgb(36,36,36)",
              "ticks": "outside"
             }
            },
            "type": "scattergeo"
           }
          ],
          "scattergl": [
           {
            "marker": {
             "colorbar": {
              "outlinewidth": 1,
              "tickcolor": "rgb(36,36,36)",
              "ticks": "outside"
             }
            },
            "type": "scattergl"
           }
          ],
          "scattermapbox": [
           {
            "marker": {
             "colorbar": {
              "outlinewidth": 1,
              "tickcolor": "rgb(36,36,36)",
              "ticks": "outside"
             }
            },
            "type": "scattermapbox"
           }
          ],
          "scatterpolar": [
           {
            "marker": {
             "colorbar": {
              "outlinewidth": 1,
              "tickcolor": "rgb(36,36,36)",
              "ticks": "outside"
             }
            },
            "type": "scatterpolar"
           }
          ],
          "scatterpolargl": [
           {
            "marker": {
             "colorbar": {
              "outlinewidth": 1,
              "tickcolor": "rgb(36,36,36)",
              "ticks": "outside"
             }
            },
            "type": "scatterpolargl"
           }
          ],
          "scatterternary": [
           {
            "marker": {
             "colorbar": {
              "outlinewidth": 1,
              "tickcolor": "rgb(36,36,36)",
              "ticks": "outside"
             }
            },
            "type": "scatterternary"
           }
          ],
          "surface": [
           {
            "colorbar": {
             "outlinewidth": 1,
             "tickcolor": "rgb(36,36,36)",
             "ticks": "outside"
            },
            "colorscale": [
             [
              0,
              "#440154"
             ],
             [
              0.1111111111111111,
              "#482878"
             ],
             [
              0.2222222222222222,
              "#3e4989"
             ],
             [
              0.3333333333333333,
              "#31688e"
             ],
             [
              0.4444444444444444,
              "#26828e"
             ],
             [
              0.5555555555555556,
              "#1f9e89"
             ],
             [
              0.6666666666666666,
              "#35b779"
             ],
             [
              0.7777777777777778,
              "#6ece58"
             ],
             [
              0.8888888888888888,
              "#b5de2b"
             ],
             [
              1,
              "#fde725"
             ]
            ],
            "type": "surface"
           }
          ],
          "table": [
           {
            "cells": {
             "fill": {
              "color": "rgb(237,237,237)"
             },
             "line": {
              "color": "white"
             }
            },
            "header": {
             "fill": {
              "color": "rgb(217,217,217)"
             },
             "line": {
              "color": "white"
             }
            },
            "type": "table"
           }
          ]
         },
         "layout": {
          "annotationdefaults": {
           "arrowhead": 0,
           "arrowwidth": 1
          },
          "autotypenumbers": "strict",
          "coloraxis": {
           "colorbar": {
            "outlinewidth": 1,
            "tickcolor": "rgb(36,36,36)",
            "ticks": "outside"
           }
          },
          "colorscale": {
           "diverging": [
            [
             0,
             "rgb(103,0,31)"
            ],
            [
             0.1,
             "rgb(178,24,43)"
            ],
            [
             0.2,
             "rgb(214,96,77)"
            ],
            [
             0.3,
             "rgb(244,165,130)"
            ],
            [
             0.4,
             "rgb(253,219,199)"
            ],
            [
             0.5,
             "rgb(247,247,247)"
            ],
            [
             0.6,
             "rgb(209,229,240)"
            ],
            [
             0.7,
             "rgb(146,197,222)"
            ],
            [
             0.8,
             "rgb(67,147,195)"
            ],
            [
             0.9,
             "rgb(33,102,172)"
            ],
            [
             1,
             "rgb(5,48,97)"
            ]
           ],
           "sequential": [
            [
             0,
             "#440154"
            ],
            [
             0.1111111111111111,
             "#482878"
            ],
            [
             0.2222222222222222,
             "#3e4989"
            ],
            [
             0.3333333333333333,
             "#31688e"
            ],
            [
             0.4444444444444444,
             "#26828e"
            ],
            [
             0.5555555555555556,
             "#1f9e89"
            ],
            [
             0.6666666666666666,
             "#35b779"
            ],
            [
             0.7777777777777778,
             "#6ece58"
            ],
            [
             0.8888888888888888,
             "#b5de2b"
            ],
            [
             1,
             "#fde725"
            ]
           ],
           "sequentialminus": [
            [
             0,
             "#440154"
            ],
            [
             0.1111111111111111,
             "#482878"
            ],
            [
             0.2222222222222222,
             "#3e4989"
            ],
            [
             0.3333333333333333,
             "#31688e"
            ],
            [
             0.4444444444444444,
             "#26828e"
            ],
            [
             0.5555555555555556,
             "#1f9e89"
            ],
            [
             0.6666666666666666,
             "#35b779"
            ],
            [
             0.7777777777777778,
             "#6ece58"
            ],
            [
             0.8888888888888888,
             "#b5de2b"
            ],
            [
             1,
             "#fde725"
            ]
           ]
          },
          "colorway": [
           "#1F77B4",
           "#FF7F0E",
           "#2CA02C",
           "#D62728",
           "#9467BD",
           "#8C564B",
           "#E377C2",
           "#7F7F7F",
           "#BCBD22",
           "#17BECF"
          ],
          "font": {
           "color": "rgb(36,36,36)"
          },
          "geo": {
           "bgcolor": "white",
           "lakecolor": "white",
           "landcolor": "white",
           "showlakes": true,
           "showland": true,
           "subunitcolor": "white"
          },
          "hoverlabel": {
           "align": "left"
          },
          "hovermode": "closest",
          "mapbox": {
           "style": "light"
          },
          "paper_bgcolor": "white",
          "plot_bgcolor": "white",
          "polar": {
           "angularaxis": {
            "gridcolor": "rgb(232,232,232)",
            "linecolor": "rgb(36,36,36)",
            "showgrid": false,
            "showline": true,
            "ticks": "outside"
           },
           "bgcolor": "white",
           "radialaxis": {
            "gridcolor": "rgb(232,232,232)",
            "linecolor": "rgb(36,36,36)",
            "showgrid": false,
            "showline": true,
            "ticks": "outside"
           }
          },
          "scene": {
           "xaxis": {
            "backgroundcolor": "white",
            "gridcolor": "rgb(232,232,232)",
            "gridwidth": 2,
            "linecolor": "rgb(36,36,36)",
            "showbackground": true,
            "showgrid": false,
            "showline": true,
            "ticks": "outside",
            "zeroline": false,
            "zerolinecolor": "rgb(36,36,36)"
           },
           "yaxis": {
            "backgroundcolor": "white",
            "gridcolor": "rgb(232,232,232)",
            "gridwidth": 2,
            "linecolor": "rgb(36,36,36)",
            "showbackground": true,
            "showgrid": false,
            "showline": true,
            "ticks": "outside",
            "zeroline": false,
            "zerolinecolor": "rgb(36,36,36)"
           },
           "zaxis": {
            "backgroundcolor": "white",
            "gridcolor": "rgb(232,232,232)",
            "gridwidth": 2,
            "linecolor": "rgb(36,36,36)",
            "showbackground": true,
            "showgrid": false,
            "showline": true,
            "ticks": "outside",
            "zeroline": false,
            "zerolinecolor": "rgb(36,36,36)"
           }
          },
          "shapedefaults": {
           "fillcolor": "black",
           "line": {
            "width": 0
           },
           "opacity": 0.3
          },
          "ternary": {
           "aaxis": {
            "gridcolor": "rgb(232,232,232)",
            "linecolor": "rgb(36,36,36)",
            "showgrid": false,
            "showline": true,
            "ticks": "outside"
           },
           "baxis": {
            "gridcolor": "rgb(232,232,232)",
            "linecolor": "rgb(36,36,36)",
            "showgrid": false,
            "showline": true,
            "ticks": "outside"
           },
           "bgcolor": "white",
           "caxis": {
            "gridcolor": "rgb(232,232,232)",
            "linecolor": "rgb(36,36,36)",
            "showgrid": false,
            "showline": true,
            "ticks": "outside"
           }
          },
          "title": {
           "x": 0.05
          },
          "xaxis": {
           "automargin": true,
           "gridcolor": "rgb(232,232,232)",
           "linecolor": "rgb(36,36,36)",
           "showgrid": false,
           "showline": true,
           "ticks": "outside",
           "title": {
            "standoff": 15
           },
           "zeroline": false,
           "zerolinecolor": "rgb(36,36,36)"
          },
          "yaxis": {
           "automargin": true,
           "gridcolor": "rgb(232,232,232)",
           "linecolor": "rgb(36,36,36)",
           "showgrid": false,
           "showline": true,
           "ticks": "outside",
           "title": {
            "standoff": 15
           },
           "zeroline": false,
           "zerolinecolor": "rgb(36,36,36)"
          }
         }
        },
        "title": {
         "text": "Estimación propia vs CAMMESA"
        },
        "xaxis": {
         "dtick": 1,
         "range": [
          2007,
          2022
         ],
         "tickmode": "linear"
        },
        "yaxis": {
         "title": {
          "text": "CO2 resto combustibles, en M ton co2"
         }
        }
       }
      }
     },
     "metadata": {},
     "output_type": "display_data"
    }
   ],
   "source": [
    "import plotly.graph_objects as go\n",
    "\n",
    "variables = [\"ep_total\", \"e_emisiones totales\"]\n",
    "\n",
    "fig = go.Figure()\n",
    "\n",
    "# Estimacion propia vs estimacion CAMMESA\n",
    "\n",
    "fig.add_trace(go.Scatter(x=df_completo['year'], y=df_completo['ep_total'], mode='lines', name=\"Estimacion propia \",\n",
    "                             line=dict(dash='dash')))\n",
    "fig.add_trace(go.Scatter(x=df_completo['year'], y=df_completo['e_emisiones totales'], mode='lines', name=\"CAMMESA\",\n",
    "                             line=dict(dash='solid')))\n",
    "\n",
    "fig.update_layout(template=\"simple_white\",\n",
    "                  xaxis=dict(\n",
    "                      range=[2007, 2022],\n",
    "                      tickmode='linear',\n",
    "                      dtick=1\n",
    "                  ),\n",
    "                  yaxis=dict(\n",
    "                      title=\"CO2 resto combustibles, en M ton co2\"\n",
    "                  ),\n",
    "                  title=\"Estimación propia vs CAMMESA\",\n",
    "                  legend=dict(\n",
    "                      x=1.1,\n",
    "                      y=1,\n",
    "                      traceorder=\"normal\",\n",
    "                      font=dict(\n",
    "                          family=\"sans-serif\",\n",
    "                          size=12,\n",
    "                          color=\"black\"\n",
    "                      ),\n",
    "                      bgcolor=\"LightSteelBlue\",\n",
    "                      bordercolor=\"Black\",\n",
    "                      borderwidth=1,\n",
    "                      orientation=\"v\"\n",
    "                  )\n",
    ")\n",
    "\n",
    "fig.show()\n"
   ]
  },
  {
   "attachments": {},
   "cell_type": "markdown",
   "id": "4f74d097",
   "metadata": {},
   "source": [
    "A partir de aca mi trabajo estara enfocado en desarrollar un modelo  que permita proyectar las emisiones de CO2 en la generación de electricidad en Argentina para los próximos años a traves de un **modelo de regresion**\n",
    "\n",
    "Al correr una regresion de las emisiones totales en base a cammesa para la generacion de electricidad vemos que hay un R cuadrado muy bajo y coeficientes para gdp y poblacion no significativos (p vaor alto) y con signo distinto al que esperariamos.\n",
    "\n",
    "Esto puede tener que ver con la poca cantidad de datos temporales que tenemos de la variable \"ep_total\" que es el total de emisiones de la generacion de electricidad. Un paso a seguir en este sentido es encontrar datos de mayor alcance temporal que me permitan tener las emisiones para una mayor cantidad de años y por ende encontrar mejor relacion entre mis variables. \n",
    "\n",
    "Por ejemplo, si vemos model2, es una regresion simple entre las emisiones totales de argentina en gdp y population. Vemos que al tener un mayor numero de observaciones, el R2, la significatividad y el signo de los coeficientes va en el sentido esperado."
   ]
  },
  {
   "cell_type": "code",
   "execution_count": 121,
   "id": "3118b09d",
   "metadata": {},
   "outputs": [],
   "source": [
    "#VARIABLES\n",
    "VARIABLES.columns = VARIABLES.columns.str.lower()\n",
    "VARIABLES['fecha'] = pd.to_datetime(VARIABLES['fecha'], format='%Y-%m-%d')\n",
    "VARIABLES['fecha'] = VARIABLES['fecha'].dt.year\n",
    "VARIABLES = VARIABLES.rename(columns={'fecha': 'year'})\n",
    "df_completo = df_completo.merge(VARIABLES, on='year', how='left')"
   ]
  },
  {
   "cell_type": "code",
   "execution_count": 137,
   "id": "6c6f3e2b",
   "metadata": {},
   "outputs": [],
   "source": [
    "#relleno valores de ep_total a partir de la proporcion con co2\n",
    "promedio_2007_2018 = df_completo.loc[(df_completo['year'] >= 2007) & (df_completo['year'] <= 2021), 'e_emisiones totales'].mean() / df_completo.loc[(df_completo['year'] >= 2007) & (df_completo['year'] <= 2021), 'co2'].mean()\n",
    "df_completo.loc[(df_completo['year'] >= 1920) & (df_completo['year'] <= 2006), 'ep_total'] = df_completo.loc[(df_completo['year'] >= 1920) & (df_completo['year'] <= 2006), 'co2'] * promedio_2007_2018"
   ]
  },
  {
   "cell_type": "code",
   "execution_count": 139,
   "id": "ba217e9f",
   "metadata": {},
   "outputs": [],
   "source": [
    "promedio_relacion = df_completo.loc[(df_completo['year'] >= 2007) & (df_completo['year'] <= 2021), 'gdp'].mean() / df_completo.loc[(df_completo['year'] >= 2007) & (df_completo['year'] <= 2021), 'e_emisiones totales'].mean()\n",
    "mask = (df_completo['year'] >= 1920) & (df_completo['year'] <= 2006)\n",
    "df_completo.loc[mask, 'ep_total'] = df_completo.loc[mask, 'gdp'] / promedio_relacion"
   ]
  },
  {
   "cell_type": "code",
   "execution_count": 141,
   "id": "3853ad3b",
   "metadata": {},
   "outputs": [
    {
     "data": {
      "image/png": "[encoded data removed]",
      "text/plain": [
       "<Figure size 640x480 with 1 Axes>"
      ]
     },
     "metadata": {},
     "output_type": "display_data"
    }
   ],
   "source": [
    "import matplotlib.pyplot as plt\n",
    "\n",
    "plt.scatter(df_completo['co2'], df_completo['e_emisiones totales'])\n",
    "plt.xlabel('CO2')\n",
    "plt.ylabel('Emisiones totales')\n",
    "plt.title('Relación entre CO2 y Emisiones totales')\n",
    "plt.show()\n"
   ]
  },
  {
   "attachments": {},
   "cell_type": "markdown",
   "id": "29ec23b0",
   "metadata": {},
   "source": [
    "Selecciono solo las variables relevantes para el modelo y a partir de ahi aplico feauter seleccion"
   ]
  },
  {
   "cell_type": "code",
   "execution_count": 123,
   "id": "583d9990",
   "metadata": {},
   "outputs": [],
   "source": [
    "variables_modelo = ['year', 'population','ep_total', 'pib', 'consumo_tot', 'consumo_pr', 'consumo_pu', 'inversion']\n",
    "df_completo_modelo=df_completo.filter(variables_modelo)\n",
    "df_completo_modelo[variables_modelo] = df_completo_modelo[variables_modelo].interpolate(method='nearest')\n",
    "df_completo_modelo = df_completo_modelo[df_completo_modelo['year'] >= 1993]"
   ]
  },
  {
   "cell_type": "code",
   "execution_count": 124,
   "id": "70d4f17b",
   "metadata": {},
   "outputs": [],
   "source": [
    "import statsmodels.api as sm"
   ]
  },
  {
   "attachments": {},
   "cell_type": "markdown",
   "id": "76cac829",
   "metadata": {},
   "source": [
    "### Cuales son las variables relevantes al 5%?"
   ]
  },
  {
   "cell_type": "code",
   "execution_count": 125,
   "id": "f3841caa",
   "metadata": {},
   "outputs": [],
   "source": [
    "data=df_completo_modelo.drop(\"ep_total\", axis=1)\n",
    "target=df_completo_modelo[\"ep_total\"]"
   ]
  },
  {
   "cell_type": "code",
   "execution_count": 126,
   "id": "b0dd84dc",
   "metadata": {},
   "outputs": [],
   "source": [
    "def backward_elimination(data, target,significance_level = 0.05):\n",
    "    features = data.columns.tolist()\n",
    "    while(len(features)>0):\n",
    "        features_with_constant = sm.add_constant(data[features])\n",
    "        p_values = sm.OLS(target, features_with_constant).fit().pvalues[1:]\n",
    "        max_p_value = p_values.max()\n",
    "        if(max_p_value >= significance_level):\n",
    "            excluded_feature = p_values.idxmax()\n",
    "            features.remove(excluded_feature)\n",
    "        else:\n",
    "            break \n",
    "    return features"
   ]
  },
  {
   "cell_type": "code",
   "execution_count": 127,
   "id": "3d1a43cd",
   "metadata": {},
   "outputs": [],
   "source": [
    "def forward_selection(data, target, significance_level=0.01):\n",
    "    initial_features = data.columns.tolist()\n",
    "    best_features = []\n",
    "    while (len(initial_features)>0):\n",
    "        remaining_features = list(set(initial_features)-set(best_features))\n",
    "        new_pval = pd.Series(index=remaining_features)\n",
    "        for new_column in remaining_features:\n",
    "            model = sm.OLS(target, sm.add_constant(data[best_features+[new_column]])).fit()\n",
    "            new_pval[new_column] = model.pvalues[new_column]\n",
    "        min_p_value = new_pval.min()\n",
    "        if(min_p_value<significance_level):\n",
    "            best_features.append(new_pval.idxmin())\n",
    "        else:\n",
    "            break\n",
    "    return best_features"
   ]
  },
  {
   "cell_type": "code",
   "execution_count": 128,
   "id": "d5c1f3ed",
   "metadata": {},
   "outputs": [],
   "source": [
    "def stepwise_selection(data, target,SL_in=0.05,SL_out = 0.05):\n",
    "    initial_features = data.columns.tolist()\n",
    "    best_features = []\n",
    "    while (len(initial_features)>0):\n",
    "        remaining_features = list(set(initial_features)-set(best_features))\n",
    "        new_pval = pd.Series(index=remaining_features)\n",
    "        for new_column in remaining_features:\n",
    "            model = sm.OLS(target, sm.add_constant(data[best_features+[new_column]])).fit()\n",
    "            new_pval[new_column] = model.pvalues[new_column]\n",
    "        min_p_value = new_pval.min()\n",
    "        if(min_p_value<SL_in):\n",
    "            best_features.append(new_pval.idxmin())\n",
    "            while(len(best_features)>0):\n",
    "                best_features_with_constant = sm.add_constant(data[best_features])\n",
    "                p_values = sm.OLS(target, best_features_with_constant).fit().pvalues[1:]\n",
    "                max_p_value = p_values.max()\n",
    "                if(max_p_value >= SL_out):\n",
    "                    excluded_feature = p_values.idxmax()\n",
    "                    best_features.remove(excluded_feature)\n",
    "                else:\n",
    "                    break \n",
    "        else:\n",
    "            break\n",
    "    return best_features"
   ]
  },
  {
   "cell_type": "code",
   "execution_count": 129,
   "id": "df45f4f9",
   "metadata": {},
   "outputs": [
    {
     "data": {
      "text/plain": [
       "['pib', 'consumo_tot']"
      ]
     },
     "execution_count": 129,
     "metadata": {},
     "output_type": "execute_result"
    }
   ],
   "source": [
    "stepwise_selection(data,target)"
   ]
  },
  {
   "cell_type": "code",
   "execution_count": 130,
   "id": "a9cc1a2a",
   "metadata": {},
   "outputs": [
    {
     "data": {
      "text/plain": [
       "['year', 'population', 'consumo_tot', 'consumo_pr', 'consumo_pu', 'inversion']"
      ]
     },
     "execution_count": 130,
     "metadata": {},
     "output_type": "execute_result"
    }
   ],
   "source": [
    "backward_elimination(data, target,significance_level = 0.05)"
   ]
  },
  {
   "cell_type": "code",
   "execution_count": 131,
   "id": "1aea920b",
   "metadata": {},
   "outputs": [
    {
     "data": {
      "text/plain": [
       "['pib', 'consumo_tot']"
      ]
     },
     "execution_count": 131,
     "metadata": {},
     "output_type": "execute_result"
    }
   ],
   "source": [
    "forward_selection(data, target, significance_level=0.05)"
   ]
  },
  {
   "attachments": {},
   "cell_type": "markdown",
   "id": "1aebea6f",
   "metadata": {},
   "source": [
    "### Como queda nuestro modelo?"
   ]
  },
  {
   "attachments": {},
   "cell_type": "markdown",
   "id": "1e89c416",
   "metadata": {},
   "source": [
    "Usando stepwise y fordward selection, las variables mas significativas para explicar las emisiones \"ep_total\" son la el pib y el consumo total. \n",
    "\n",
    "Si comenzamos aplicando una regresion lineal, nuestro modelo es sencillo, pero ambas variables parecen ser significativas (p-valor bajo) al mismo tiempo que el R2 del modelo es elevado (0,96). Vemos que hay un mejor desempeño en el conjunto de prueba respecto del conjunto de entrenamiento, lo que nos daria señales de que el modelo ajusta bien (aunque seria oportuno testear si este modelo sirve tambien para otros paises por ejemplo, de forma que el pib y el consumo total realmente sirvan como predictores de las emisiones de la electricidad). \n",
    "\n",
    "De esta manera, como asesores de una empresa energetica como YPF, lograriamos estimar las emisiones para los proximos años a traves de proyecciones del PIB argentino y del consumo total. "
   ]
  },
  {
   "cell_type": "code",
   "execution_count": 132,
   "id": "62286ac5",
   "metadata": {},
   "outputs": [],
   "source": [
    "data_selected = ['pib','consumo_tot']\n",
    "data2=data.filter(data_selected)"
   ]
  },
  {
   "cell_type": "code",
   "execution_count": 133,
   "id": "ddc317c7",
   "metadata": {},
   "outputs": [],
   "source": [
    "from sklearn.model_selection import train_test_split\n",
    "X_train,X_test,y_train,y_test = train_test_split(data2,target,test_size=0.2,random_state=2)\n",
    "from sklearn.linear_model import LinearRegression\n",
    "\n",
    "#modelo\n",
    "lr = LinearRegression()\n",
    "lr.fit(X_train,y_train)\n",
    "y_pred = lr.predict(X_test)"
   ]
  },
  {
   "cell_type": "code",
   "execution_count": 134,
   "id": "316b63c8",
   "metadata": {},
   "outputs": [
    {
     "name": "stdout",
     "output_type": "stream",
     "text": [
      "Coeficientes:\n",
      "pib: 0.00010055512375965286\n",
      "consumo_tot: -1.0369347626104127e-06\n",
      "Intercepto: 10.915214102389502\n",
      "Error cuadrático medio (MSE) en entrenamiento: 4.201309124633974\n",
      "Error cuadrático medio (MSE) en prueba: 1.889898497959272\n",
      "Coeficiente de determinación (R^2) en entrenamiento: 0.856265721550659\n",
      "Coeficiente de determinación (R^2) en prueba: 0.9614800830973061\n"
     ]
    }
   ],
   "source": [
    "from sklearn.metrics import mean_squared_error, r2_score\n",
    "import numpy as np\n",
    "\n",
    "# Coeficientes del modelo\n",
    "print(\"Coeficientes:\")\n",
    "for feature, coef in zip(X_train.columns, lr.coef_):\n",
    "    print(f\"{feature}: {coef}\")\n",
    "\n",
    "print(\"Intercepto:\", lr.intercept_)\n",
    "\n",
    "# Métricas de evaluación\n",
    "y_pred_train = lr.predict(X_train)\n",
    "y_pred_test = lr.predict(X_test)\n",
    "\n",
    "print(\"Error cuadrático medio (MSE) en entrenamiento:\", mean_squared_error(y_train, y_pred_train))\n",
    "print(\"Error cuadrático medio (MSE) en prueba:\", mean_squared_error(y_test, y_pred_test))\n",
    "\n",
    "print(\"Coeficiente de determinación (R^2) en entrenamiento:\", r2_score(y_train, y_pred_train))\n",
    "print(\"Coeficiente de determinación (R^2) en prueba:\", r2_score(y_test, y_pred_test))\n"
   ]
  }
 ],
 "metadata": {
  "celltoolbar": "Raw Cell Format",
  "kernelspec": {
   "display_name": "Python 3 (ipykernel)",
   "language": "python",
   "name": "python3"
  },
  "language_info": {
   "codemirror_mode": {
    "name": "ipython",
    "version": 3
   },
   "file_extension": ".py",
   "mimetype": "text/x-python",
   "name": "python",
   "nbconvert_exporter": "python",
   "pygments_lexer": "ipython3",
   "version": "3.10.10"
  }
 },
 "nbformat": 4,
 "nbformat_minor": 5
}
